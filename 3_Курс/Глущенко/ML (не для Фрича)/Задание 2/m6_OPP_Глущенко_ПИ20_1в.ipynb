{
  "cells": [
    {
      "cell_type": "markdown",
      "metadata": {
        "id": "puPFHJt3EfPK"
      },
      "source": [
        "# Пример анализа данных\n",
        "## Open Policing Project\n",
        "### Датасет содержит информацию об остановках автомобилей полицией"
      ]
    },
    {
      "cell_type": "code",
      "execution_count": 33,
      "metadata": {
        "id": "MJhak_k5EfPM"
      },
      "outputs": [],
      "source": [
        "import pandas as pd\n",
        "import matplotlib.pyplot as plt"
      ]
    },
    {
      "cell_type": "code",
      "execution_count": 62,
      "metadata": {
        "colab": {
          "base_uri": "https://localhost:8080/",
          "height": 522
        },
        "id": "fN4v9PmTEfPM",
        "outputId": "0931b12d-b709-41c8-bac2-ced36ce49cc3"
      },
      "outputs": [
        {
          "output_type": "execute_result",
          "data": {
            "text/plain": [
              "        stop_date stop_time  county_name driver_gender  driver_age_raw  \\\n",
              "0      2005-01-02     01:55          NaN             M          1985.0   \n",
              "1      2005-01-18     08:15          NaN             M          1965.0   \n",
              "2      2005-01-23     23:15          NaN             M          1972.0   \n",
              "3      2005-02-20     17:15          NaN             M          1986.0   \n",
              "4      2005-03-14     10:00          NaN             F          1984.0   \n",
              "...           ...       ...          ...           ...             ...   \n",
              "91736  2015-12-31     20:27          NaN             M          1986.0   \n",
              "91737  2015-12-31     20:35          NaN             F          1982.0   \n",
              "91738  2015-12-31     20:45          NaN             M          1992.0   \n",
              "91739  2015-12-31     21:42          NaN             M          1993.0   \n",
              "91740  2015-12-31     22:46          NaN             M          1959.0   \n",
              "\n",
              "       driver_age driver_race                   violation_raw  \\\n",
              "0            20.0       White                        Speeding   \n",
              "1            40.0       White                        Speeding   \n",
              "2            33.0       White                        Speeding   \n",
              "3            19.0       White                Call for Service   \n",
              "4            21.0       White                        Speeding   \n",
              "...           ...         ...                             ...   \n",
              "91736        29.0       White                        Speeding   \n",
              "91737        33.0       White  Equipment/Inspection Violation   \n",
              "91738        23.0       White         Other Traffic Violation   \n",
              "91739        22.0       White                        Speeding   \n",
              "91740        56.0    Hispanic                        Speeding   \n",
              "\n",
              "              violation  search_conducted search_type   stop_outcome  \\\n",
              "0              Speeding             False         NaN       Citation   \n",
              "1              Speeding             False         NaN       Citation   \n",
              "2              Speeding             False         NaN       Citation   \n",
              "3                 Other             False         NaN  Arrest Driver   \n",
              "4              Speeding             False         NaN       Citation   \n",
              "...                 ...               ...         ...            ...   \n",
              "91736          Speeding             False         NaN        Warning   \n",
              "91737         Equipment             False         NaN        Warning   \n",
              "91738  Moving violation             False         NaN        Warning   \n",
              "91739          Speeding             False         NaN       Citation   \n",
              "91740          Speeding             False         NaN       Citation   \n",
              "\n",
              "      is_arrested stop_duration  drugs_related_stop  \n",
              "0           False      0-15 Min               False  \n",
              "1           False      0-15 Min               False  \n",
              "2           False      0-15 Min               False  \n",
              "3            True     16-30 Min               False  \n",
              "4           False      0-15 Min               False  \n",
              "...           ...           ...                 ...  \n",
              "91736       False      0-15 Min               False  \n",
              "91737       False      0-15 Min               False  \n",
              "91738       False      0-15 Min               False  \n",
              "91739       False      0-15 Min               False  \n",
              "91740       False      0-15 Min               False  \n",
              "\n",
              "[91741 rows x 15 columns]"
            ],
            "text/html": [
              "\n",
              "  <div id=\"df-8b15c04d-055c-4f5c-bbf3-10d64ef382da\">\n",
              "    <div class=\"colab-df-container\">\n",
              "      <div>\n",
              "<style scoped>\n",
              "    .dataframe tbody tr th:only-of-type {\n",
              "        vertical-align: middle;\n",
              "    }\n",
              "\n",
              "    .dataframe tbody tr th {\n",
              "        vertical-align: top;\n",
              "    }\n",
              "\n",
              "    .dataframe thead th {\n",
              "        text-align: right;\n",
              "    }\n",
              "</style>\n",
              "<table border=\"1\" class=\"dataframe\">\n",
              "  <thead>\n",
              "    <tr style=\"text-align: right;\">\n",
              "      <th></th>\n",
              "      <th>stop_date</th>\n",
              "      <th>stop_time</th>\n",
              "      <th>county_name</th>\n",
              "      <th>driver_gender</th>\n",
              "      <th>driver_age_raw</th>\n",
              "      <th>driver_age</th>\n",
              "      <th>driver_race</th>\n",
              "      <th>violation_raw</th>\n",
              "      <th>violation</th>\n",
              "      <th>search_conducted</th>\n",
              "      <th>search_type</th>\n",
              "      <th>stop_outcome</th>\n",
              "      <th>is_arrested</th>\n",
              "      <th>stop_duration</th>\n",
              "      <th>drugs_related_stop</th>\n",
              "    </tr>\n",
              "  </thead>\n",
              "  <tbody>\n",
              "    <tr>\n",
              "      <th>0</th>\n",
              "      <td>2005-01-02</td>\n",
              "      <td>01:55</td>\n",
              "      <td>NaN</td>\n",
              "      <td>M</td>\n",
              "      <td>1985.0</td>\n",
              "      <td>20.0</td>\n",
              "      <td>White</td>\n",
              "      <td>Speeding</td>\n",
              "      <td>Speeding</td>\n",
              "      <td>False</td>\n",
              "      <td>NaN</td>\n",
              "      <td>Citation</td>\n",
              "      <td>False</td>\n",
              "      <td>0-15 Min</td>\n",
              "      <td>False</td>\n",
              "    </tr>\n",
              "    <tr>\n",
              "      <th>1</th>\n",
              "      <td>2005-01-18</td>\n",
              "      <td>08:15</td>\n",
              "      <td>NaN</td>\n",
              "      <td>M</td>\n",
              "      <td>1965.0</td>\n",
              "      <td>40.0</td>\n",
              "      <td>White</td>\n",
              "      <td>Speeding</td>\n",
              "      <td>Speeding</td>\n",
              "      <td>False</td>\n",
              "      <td>NaN</td>\n",
              "      <td>Citation</td>\n",
              "      <td>False</td>\n",
              "      <td>0-15 Min</td>\n",
              "      <td>False</td>\n",
              "    </tr>\n",
              "    <tr>\n",
              "      <th>2</th>\n",
              "      <td>2005-01-23</td>\n",
              "      <td>23:15</td>\n",
              "      <td>NaN</td>\n",
              "      <td>M</td>\n",
              "      <td>1972.0</td>\n",
              "      <td>33.0</td>\n",
              "      <td>White</td>\n",
              "      <td>Speeding</td>\n",
              "      <td>Speeding</td>\n",
              "      <td>False</td>\n",
              "      <td>NaN</td>\n",
              "      <td>Citation</td>\n",
              "      <td>False</td>\n",
              "      <td>0-15 Min</td>\n",
              "      <td>False</td>\n",
              "    </tr>\n",
              "    <tr>\n",
              "      <th>3</th>\n",
              "      <td>2005-02-20</td>\n",
              "      <td>17:15</td>\n",
              "      <td>NaN</td>\n",
              "      <td>M</td>\n",
              "      <td>1986.0</td>\n",
              "      <td>19.0</td>\n",
              "      <td>White</td>\n",
              "      <td>Call for Service</td>\n",
              "      <td>Other</td>\n",
              "      <td>False</td>\n",
              "      <td>NaN</td>\n",
              "      <td>Arrest Driver</td>\n",
              "      <td>True</td>\n",
              "      <td>16-30 Min</td>\n",
              "      <td>False</td>\n",
              "    </tr>\n",
              "    <tr>\n",
              "      <th>4</th>\n",
              "      <td>2005-03-14</td>\n",
              "      <td>10:00</td>\n",
              "      <td>NaN</td>\n",
              "      <td>F</td>\n",
              "      <td>1984.0</td>\n",
              "      <td>21.0</td>\n",
              "      <td>White</td>\n",
              "      <td>Speeding</td>\n",
              "      <td>Speeding</td>\n",
              "      <td>False</td>\n",
              "      <td>NaN</td>\n",
              "      <td>Citation</td>\n",
              "      <td>False</td>\n",
              "      <td>0-15 Min</td>\n",
              "      <td>False</td>\n",
              "    </tr>\n",
              "    <tr>\n",
              "      <th>...</th>\n",
              "      <td>...</td>\n",
              "      <td>...</td>\n",
              "      <td>...</td>\n",
              "      <td>...</td>\n",
              "      <td>...</td>\n",
              "      <td>...</td>\n",
              "      <td>...</td>\n",
              "      <td>...</td>\n",
              "      <td>...</td>\n",
              "      <td>...</td>\n",
              "      <td>...</td>\n",
              "      <td>...</td>\n",
              "      <td>...</td>\n",
              "      <td>...</td>\n",
              "      <td>...</td>\n",
              "    </tr>\n",
              "    <tr>\n",
              "      <th>91736</th>\n",
              "      <td>2015-12-31</td>\n",
              "      <td>20:27</td>\n",
              "      <td>NaN</td>\n",
              "      <td>M</td>\n",
              "      <td>1986.0</td>\n",
              "      <td>29.0</td>\n",
              "      <td>White</td>\n",
              "      <td>Speeding</td>\n",
              "      <td>Speeding</td>\n",
              "      <td>False</td>\n",
              "      <td>NaN</td>\n",
              "      <td>Warning</td>\n",
              "      <td>False</td>\n",
              "      <td>0-15 Min</td>\n",
              "      <td>False</td>\n",
              "    </tr>\n",
              "    <tr>\n",
              "      <th>91737</th>\n",
              "      <td>2015-12-31</td>\n",
              "      <td>20:35</td>\n",
              "      <td>NaN</td>\n",
              "      <td>F</td>\n",
              "      <td>1982.0</td>\n",
              "      <td>33.0</td>\n",
              "      <td>White</td>\n",
              "      <td>Equipment/Inspection Violation</td>\n",
              "      <td>Equipment</td>\n",
              "      <td>False</td>\n",
              "      <td>NaN</td>\n",
              "      <td>Warning</td>\n",
              "      <td>False</td>\n",
              "      <td>0-15 Min</td>\n",
              "      <td>False</td>\n",
              "    </tr>\n",
              "    <tr>\n",
              "      <th>91738</th>\n",
              "      <td>2015-12-31</td>\n",
              "      <td>20:45</td>\n",
              "      <td>NaN</td>\n",
              "      <td>M</td>\n",
              "      <td>1992.0</td>\n",
              "      <td>23.0</td>\n",
              "      <td>White</td>\n",
              "      <td>Other Traffic Violation</td>\n",
              "      <td>Moving violation</td>\n",
              "      <td>False</td>\n",
              "      <td>NaN</td>\n",
              "      <td>Warning</td>\n",
              "      <td>False</td>\n",
              "      <td>0-15 Min</td>\n",
              "      <td>False</td>\n",
              "    </tr>\n",
              "    <tr>\n",
              "      <th>91739</th>\n",
              "      <td>2015-12-31</td>\n",
              "      <td>21:42</td>\n",
              "      <td>NaN</td>\n",
              "      <td>M</td>\n",
              "      <td>1993.0</td>\n",
              "      <td>22.0</td>\n",
              "      <td>White</td>\n",
              "      <td>Speeding</td>\n",
              "      <td>Speeding</td>\n",
              "      <td>False</td>\n",
              "      <td>NaN</td>\n",
              "      <td>Citation</td>\n",
              "      <td>False</td>\n",
              "      <td>0-15 Min</td>\n",
              "      <td>False</td>\n",
              "    </tr>\n",
              "    <tr>\n",
              "      <th>91740</th>\n",
              "      <td>2015-12-31</td>\n",
              "      <td>22:46</td>\n",
              "      <td>NaN</td>\n",
              "      <td>M</td>\n",
              "      <td>1959.0</td>\n",
              "      <td>56.0</td>\n",
              "      <td>Hispanic</td>\n",
              "      <td>Speeding</td>\n",
              "      <td>Speeding</td>\n",
              "      <td>False</td>\n",
              "      <td>NaN</td>\n",
              "      <td>Citation</td>\n",
              "      <td>False</td>\n",
              "      <td>0-15 Min</td>\n",
              "      <td>False</td>\n",
              "    </tr>\n",
              "  </tbody>\n",
              "</table>\n",
              "<p>91741 rows × 15 columns</p>\n",
              "</div>\n",
              "      <button class=\"colab-df-convert\" onclick=\"convertToInteractive('df-8b15c04d-055c-4f5c-bbf3-10d64ef382da')\"\n",
              "              title=\"Convert this dataframe to an interactive table.\"\n",
              "              style=\"display:none;\">\n",
              "        \n",
              "  <svg xmlns=\"http://www.w3.org/2000/svg\" height=\"24px\"viewBox=\"0 0 24 24\"\n",
              "       width=\"24px\">\n",
              "    <path d=\"M0 0h24v24H0V0z\" fill=\"none\"/>\n",
              "    <path d=\"M18.56 5.44l.94 2.06.94-2.06 2.06-.94-2.06-.94-.94-2.06-.94 2.06-2.06.94zm-11 1L8.5 8.5l.94-2.06 2.06-.94-2.06-.94L8.5 2.5l-.94 2.06-2.06.94zm10 10l.94 2.06.94-2.06 2.06-.94-2.06-.94-.94-2.06-.94 2.06-2.06.94z\"/><path d=\"M17.41 7.96l-1.37-1.37c-.4-.4-.92-.59-1.43-.59-.52 0-1.04.2-1.43.59L10.3 9.45l-7.72 7.72c-.78.78-.78 2.05 0 2.83L4 21.41c.39.39.9.59 1.41.59.51 0 1.02-.2 1.41-.59l7.78-7.78 2.81-2.81c.8-.78.8-2.07 0-2.86zM5.41 20L4 18.59l7.72-7.72 1.47 1.35L5.41 20z\"/>\n",
              "  </svg>\n",
              "      </button>\n",
              "      \n",
              "  <style>\n",
              "    .colab-df-container {\n",
              "      display:flex;\n",
              "      flex-wrap:wrap;\n",
              "      gap: 12px;\n",
              "    }\n",
              "\n",
              "    .colab-df-convert {\n",
              "      background-color: #E8F0FE;\n",
              "      border: none;\n",
              "      border-radius: 50%;\n",
              "      cursor: pointer;\n",
              "      display: none;\n",
              "      fill: #1967D2;\n",
              "      height: 32px;\n",
              "      padding: 0 0 0 0;\n",
              "      width: 32px;\n",
              "    }\n",
              "\n",
              "    .colab-df-convert:hover {\n",
              "      background-color: #E2EBFA;\n",
              "      box-shadow: 0px 1px 2px rgba(60, 64, 67, 0.3), 0px 1px 3px 1px rgba(60, 64, 67, 0.15);\n",
              "      fill: #174EA6;\n",
              "    }\n",
              "\n",
              "    [theme=dark] .colab-df-convert {\n",
              "      background-color: #3B4455;\n",
              "      fill: #D2E3FC;\n",
              "    }\n",
              "\n",
              "    [theme=dark] .colab-df-convert:hover {\n",
              "      background-color: #434B5C;\n",
              "      box-shadow: 0px 1px 3px 1px rgba(0, 0, 0, 0.15);\n",
              "      filter: drop-shadow(0px 1px 2px rgba(0, 0, 0, 0.3));\n",
              "      fill: #FFFFFF;\n",
              "    }\n",
              "  </style>\n",
              "\n",
              "      <script>\n",
              "        const buttonEl =\n",
              "          document.querySelector('#df-8b15c04d-055c-4f5c-bbf3-10d64ef382da button.colab-df-convert');\n",
              "        buttonEl.style.display =\n",
              "          google.colab.kernel.accessAllowed ? 'block' : 'none';\n",
              "\n",
              "        async function convertToInteractive(key) {\n",
              "          const element = document.querySelector('#df-8b15c04d-055c-4f5c-bbf3-10d64ef382da');\n",
              "          const dataTable =\n",
              "            await google.colab.kernel.invokeFunction('convertToInteractive',\n",
              "                                                     [key], {});\n",
              "          if (!dataTable) return;\n",
              "\n",
              "          const docLinkHtml = 'Like what you see? Visit the ' +\n",
              "            '<a target=\"_blank\" href=https://colab.research.google.com/notebooks/data_table.ipynb>data table notebook</a>'\n",
              "            + ' to learn more about interactive tables.';\n",
              "          element.innerHTML = '';\n",
              "          dataTable['output_type'] = 'display_data';\n",
              "          await google.colab.output.renderOutput(dataTable, element);\n",
              "          const docLink = document.createElement('div');\n",
              "          docLink.innerHTML = docLinkHtml;\n",
              "          element.appendChild(docLink);\n",
              "        }\n",
              "      </script>\n",
              "    </div>\n",
              "  </div>\n",
              "  "
            ]
          },
          "metadata": {},
          "execution_count": 62
        }
      ],
      "source": [
        "# загрузить данные в DataFrame\n",
        "df = pd.read_csv('police.csv')\n",
        "df"
      ]
    },
    {
      "cell_type": "code",
      "execution_count": 35,
      "metadata": {
        "colab": {
          "base_uri": "https://localhost:8080/"
        },
        "id": "pjSwu2lGEfPN",
        "outputId": "3c65286c-034a-4993-d2bd-3b43046a6b08"
      },
      "outputs": [
        {
          "output_type": "execute_result",
          "data": {
            "text/plain": [
              "91741"
            ]
          },
          "metadata": {},
          "execution_count": 35
        }
      ],
      "source": [
        "# проверить размеры датафрейма\n",
        "len(df)"
      ]
    },
    {
      "cell_type": "code",
      "execution_count": 36,
      "metadata": {
        "colab": {
          "base_uri": "https://localhost:8080/"
        },
        "id": "J52wKEFrEfPN",
        "outputId": "01335911-72c4-4088-bda9-da7a31d96e12"
      },
      "outputs": [
        {
          "output_type": "execute_result",
          "data": {
            "text/plain": [
              "stop_date              object\n",
              "stop_time              object\n",
              "county_name           float64\n",
              "driver_gender          object\n",
              "driver_age_raw        float64\n",
              "driver_age            float64\n",
              "driver_race            object\n",
              "violation_raw          object\n",
              "violation              object\n",
              "search_conducted         bool\n",
              "search_type            object\n",
              "stop_outcome           object\n",
              "is_arrested            object\n",
              "stop_duration          object\n",
              "drugs_related_stop       bool\n",
              "dtype: object"
            ]
          },
          "metadata": {},
          "execution_count": 36
        }
      ],
      "source": [
        "# проверить типы данных в датафрейме\n",
        "df.dtypes"
      ]
    },
    {
      "cell_type": "code",
      "execution_count": 37,
      "metadata": {
        "colab": {
          "base_uri": "https://localhost:8080/"
        },
        "id": "iTlXlquBEfPN",
        "outputId": "cb004c0d-8b56-4d76-ff54-6c60e99a5a25"
      },
      "outputs": [
        {
          "output_type": "execute_result",
          "data": {
            "text/plain": [
              "stop_date                 0\n",
              "stop_time                 0\n",
              "county_name           91741\n",
              "driver_gender          5335\n",
              "driver_age_raw         5327\n",
              "driver_age             5621\n",
              "driver_race            5333\n",
              "violation_raw          5333\n",
              "violation              5333\n",
              "search_conducted          0\n",
              "search_type           88545\n",
              "stop_outcome           5333\n",
              "is_arrested            5333\n",
              "stop_duration          5333\n",
              "drugs_related_stop        0\n",
              "dtype: int64"
            ]
          },
          "metadata": {},
          "execution_count": 37
        }
      ],
      "source": [
        "# проверить количество отсутствующих данных\n",
        "df.isna().sum()"
      ]
    },
    {
      "cell_type": "markdown",
      "metadata": {
        "id": "tPm11yaPEfPN"
      },
      "source": [
        "### 1. Удалить столбец, в котром отсутствуют данные\n",
        "\n",
        "- Методы drop, dropna\n",
        "- Обратить внимание на аргументы по-умолчанию\n",
        "- Проверить результат"
      ]
    },
    {
      "cell_type": "code",
      "execution_count": 63,
      "metadata": {
        "id": "ib6iEGkKEfPO"
      },
      "outputs": [],
      "source": [
        "df.drop('county_name', axis='columns', inplace=True)"
      ]
    },
    {
      "cell_type": "code",
      "execution_count": 64,
      "metadata": {
        "id": "1MSqABOgEfPO"
      },
      "outputs": [],
      "source": [
        "df.dropna(axis=1, how='all', inplace=True)"
      ]
    },
    {
      "cell_type": "code",
      "execution_count": 65,
      "metadata": {
        "colab": {
          "base_uri": "https://localhost:8080/"
        },
        "id": "lz7n87lcEfPO",
        "outputId": "da0f68c4-9adb-420b-f0df-97492711568f"
      },
      "outputs": [
        {
          "output_type": "stream",
          "name": "stdout",
          "text": [
            "<class 'pandas.core.frame.DataFrame'>\n",
            "RangeIndex: 91741 entries, 0 to 91740\n",
            "Data columns (total 14 columns):\n",
            " #   Column              Non-Null Count  Dtype  \n",
            "---  ------              --------------  -----  \n",
            " 0   stop_date           91741 non-null  object \n",
            " 1   stop_time           91741 non-null  object \n",
            " 2   driver_gender       86406 non-null  object \n",
            " 3   driver_age_raw      86414 non-null  float64\n",
            " 4   driver_age          86120 non-null  float64\n",
            " 5   driver_race         86408 non-null  object \n",
            " 6   violation_raw       86408 non-null  object \n",
            " 7   violation           86408 non-null  object \n",
            " 8   search_conducted    91741 non-null  bool   \n",
            " 9   search_type         3196 non-null   object \n",
            " 10  stop_outcome        86408 non-null  object \n",
            " 11  is_arrested         86408 non-null  object \n",
            " 12  stop_duration       86408 non-null  object \n",
            " 13  drugs_related_stop  91741 non-null  bool   \n",
            "dtypes: bool(2), float64(2), object(10)\n",
            "memory usage: 8.6+ MB\n"
          ]
        }
      ],
      "source": [
        "df.info()"
      ]
    },
    {
      "cell_type": "markdown",
      "metadata": {
        "id": "l7ZTEc9iEfPO"
      },
      "source": [
        "### 2. Кто чаще нарушает скоростной режим - женщины или мужчины?\n",
        "\n",
        "- Столбцы: driver_gender, violation\n",
        "- Разные способы ответить на вопрос"
      ]
    },
    {
      "cell_type": "code",
      "execution_count": 41,
      "metadata": {
        "colab": {
          "base_uri": "https://localhost:8080/"
        },
        "id": "q-CwncCQEfPP",
        "outputId": "0cd1dd2f-d69d-4456-abda-850965a9b0cd"
      },
      "outputs": [
        {
          "output_type": "execute_result",
          "data": {
            "text/plain": [
              "M    32979\n",
              "F    15482\n",
              "Name: driver_gender, dtype: int64"
            ]
          },
          "metadata": {},
          "execution_count": 41
        }
      ],
      "source": [
        "df[df.violation == 'Speeding'].driver_gender.value_counts()"
      ]
    },
    {
      "cell_type": "markdown",
      "source": [
        "Ответ: Чаще скоростной режим нарушают мужичны"
      ],
      "metadata": {
        "id": "hW9n06Ky49cW"
      }
    },
    {
      "cell_type": "code",
      "execution_count": 42,
      "metadata": {
        "id": "bnFb90QlEfPP",
        "colab": {
          "base_uri": "https://localhost:8080/"
        },
        "outputId": "4ba4417b-cfd3-4110-be9b-080467efec0a"
      },
      "outputs": [
        {
          "output_type": "stream",
          "name": "stderr",
          "text": [
            "/usr/local/lib/python3.7/dist-packages/ipykernel_launcher.py:1: UserWarning: Boolean Series key will be reindexed to match DataFrame index.\n",
            "  \"\"\"Entry point for launching an IPython kernel.\n"
          ]
        },
        {
          "output_type": "execute_result",
          "data": {
            "text/plain": [
              "Speeding    15482\n",
              "Name: violation, dtype: int64"
            ]
          },
          "metadata": {},
          "execution_count": 42
        }
      ],
      "source": [
        "df[df['violation'] == 'Speeding'][df['driver_gender'] == 'F'].violation.value_counts()"
      ]
    },
    {
      "cell_type": "code",
      "execution_count": null,
      "metadata": {
        "id": "umdf_3ckEfPP",
        "colab": {
          "base_uri": "https://localhost:8080/"
        },
        "outputId": "21a67b14-782c-4d42-eb2e-8fb17265fa52"
      },
      "outputs": [
        {
          "output_type": "stream",
          "name": "stderr",
          "text": [
            "/usr/local/lib/python3.7/dist-packages/ipykernel_launcher.py:1: UserWarning: Boolean Series key will be reindexed to match DataFrame index.\n",
            "  \"\"\"Entry point for launching an IPython kernel.\n"
          ]
        },
        {
          "output_type": "execute_result",
          "data": {
            "text/plain": [
              "Speeding    19015\n",
              "Name: violation, dtype: int64"
            ]
          },
          "metadata": {},
          "execution_count": 35
        }
      ],
      "source": [
        "df[df['violation'] == 'Speeding'][df['driver_gender'] == 'M'].violation.value_counts()"
      ]
    },
    {
      "cell_type": "markdown",
      "metadata": {
        "id": "jBPU54F8EfPP"
      },
      "source": [
        "### 3. Влияет ли пол водителя на проведение розыска во время остановки?\n",
        "\n",
        "- Столбцы: driver_gender, search_conducted\n",
        "- Трудно определить причинно-следственную связь, но можно выявить отношения\n",
        "- Использовать все доступные факторы для выявления отношений"
      ]
    },
    {
      "cell_type": "code",
      "execution_count": null,
      "metadata": {
        "colab": {
          "base_uri": "https://localhost:8080/"
        },
        "id": "5jVgWHXfEfPP",
        "outputId": "97f56395-cdbc-46a8-a417-79b94b68dcda"
      },
      "outputs": [
        {
          "output_type": "execute_result",
          "data": {
            "text/plain": [
              "driver_gender  search_conducted\n",
              "F              False               0.976197\n",
              "               True                0.023803\n",
              "M              False               0.950601\n",
              "               True                0.049399\n",
              "Name: search_conducted, dtype: float64"
            ]
          },
          "metadata": {},
          "execution_count": 40
        }
      ],
      "source": [
        "df.groupby('driver_gender').search_conducted.value_counts(normalize=True)"
      ]
    },
    {
      "cell_type": "markdown",
      "source": [
        "Ответ: У мужчин обыск во время остановки проводят чаще, но отличия незначительны"
      ],
      "metadata": {
        "id": "n_gWxafn6EBy"
      }
    },
    {
      "cell_type": "code",
      "execution_count": null,
      "metadata": {
        "id": "d_APzCcREfPQ"
      },
      "outputs": [],
      "source": []
    },
    {
      "cell_type": "markdown",
      "metadata": {
        "id": "D814Ajo4EfPQ"
      },
      "source": [
        "### 4. Почему вид розыска (search_type) так часто отсутствует?\n",
        "\n",
        "- Столбцы: driver_gender, search_conducted\n",
        "- pandas во время расчетов по-умолчанию выбрасывает отсутствующие данные (Null, NA, NaN, False)\n",
        "- Использовать все доступные факторы для выявления отношений"
      ]
    },
    {
      "cell_type": "code",
      "execution_count": null,
      "metadata": {
        "colab": {
          "base_uri": "https://localhost:8080/"
        },
        "id": "X8SrEqsgEfPQ",
        "outputId": "85dd7e96-b433-4720-cb8a-2f7d78768083"
      },
      "outputs": [
        {
          "output_type": "stream",
          "name": "stdout",
          "text": [
            "41313\n",
            "0\n"
          ]
        }
      ],
      "source": [
        "#Если тип розыска не указан, значит что что розыска не было вообще\n",
        "print(df[df.search_conducted == False].search_conducted.count())\n",
        "print(df[df.search_conducted == False].search_type.count())"
      ]
    },
    {
      "cell_type": "markdown",
      "source": [
        "Ответ: Если самого розыска не было, то и вид розыска не указывается"
      ],
      "metadata": {
        "id": "Dk1fr3D07NIY"
      }
    },
    {
      "cell_type": "code",
      "execution_count": null,
      "metadata": {
        "id": "nwEpppgHEfPQ"
      },
      "outputs": [],
      "source": []
    },
    {
      "cell_type": "code",
      "execution_count": null,
      "metadata": {
        "id": "dvLqWjwSEfPQ"
      },
      "outputs": [],
      "source": []
    },
    {
      "cell_type": "markdown",
      "metadata": {
        "id": "IwC8j8uIEfPQ"
      },
      "source": [
        "### 5. Как часто водителя обыскивают (Protective Frisk)?\n",
        "\n",
        "- Столбцы: search_type\n",
        "- строковые методы для поиска частичных совпадений"
      ]
    },
    {
      "cell_type": "code",
      "execution_count": null,
      "metadata": {
        "colab": {
          "base_uri": "https://localhost:8080/"
        },
        "id": "VS0DIT2_EfPQ",
        "outputId": "ae09cb6d-e67d-430b-a2a6-c3e91a0a2c44"
      },
      "outputs": [
        {
          "output_type": "stream",
          "name": "stdout",
          "text": [
            "Вероятность обыска:  0.06511627906976744\n"
          ]
        }
      ],
      "source": [
        "\n",
        "probability = len(df[df['search_type'] == 'Protective Frisk'])/ df.search_type.count()\n",
        "print('Вероятность обыска: ', probability)"
      ]
    },
    {
      "cell_type": "code",
      "execution_count": null,
      "metadata": {
        "id": "hUipl0PsEfPR"
      },
      "outputs": [],
      "source": []
    },
    {
      "cell_type": "code",
      "execution_count": null,
      "metadata": {
        "id": "flqu18qiEfPR"
      },
      "outputs": [],
      "source": []
    },
    {
      "cell_type": "code",
      "execution_count": null,
      "metadata": {
        "id": "NvQS97YOEfPR"
      },
      "outputs": [],
      "source": []
    },
    {
      "cell_type": "markdown",
      "metadata": {
        "id": "rH03jMpAEfPR"
      },
      "source": [
        "### 6. В каком году меньше всего полиция останавливала автомобили?\n",
        "\n",
        "- Столбцы: stop_date, stop_time\n",
        "- тип данных datetime и его методы"
      ]
    },
    {
      "cell_type": "code",
      "execution_count": null,
      "metadata": {
        "colab": {
          "base_uri": "https://localhost:8080/"
        },
        "id": "pIxc8BNoEfPR",
        "outputId": "9983e399-220e-4813-c651-292e14e54ff5"
      },
      "outputs": [
        {
          "output_type": "execute_result",
          "data": {
            "text/plain": [
              "2005.0     2558\n",
              "2010.0     3700\n",
              "2009.0     7908\n",
              "2008.0     8752\n",
              "2007.0     9476\n",
              "2006.0    10639\n",
              "Name: stop_datetime, dtype: int64"
            ]
          },
          "metadata": {},
          "execution_count": 55
        }
      ],
      "source": [
        "df.stop_datetime.dt.year.value_counts().sort_values()"
      ]
    },
    {
      "cell_type": "markdown",
      "source": [
        "Ответ: меньше всего останавливали в 2005 году"
      ],
      "metadata": {
        "id": "w_iAAPtc8J8l"
      }
    },
    {
      "cell_type": "code",
      "execution_count": null,
      "metadata": {
        "id": "UiNYb26bEfPR"
      },
      "outputs": [],
      "source": []
    },
    {
      "cell_type": "code",
      "execution_count": null,
      "metadata": {
        "id": "AoAeFVwuEfPR"
      },
      "outputs": [],
      "source": []
    },
    {
      "cell_type": "code",
      "execution_count": null,
      "metadata": {
        "id": "lrJjjAQMEfPR"
      },
      "outputs": [],
      "source": []
    },
    {
      "cell_type": "code",
      "execution_count": null,
      "metadata": {
        "id": "_x3x2_EFEfPR"
      },
      "outputs": [],
      "source": []
    },
    {
      "cell_type": "markdown",
      "metadata": {
        "id": "qWtWSIOqEfPR"
      },
      "source": [
        "### 7. Как изменялось количество остановок, связанных с запрещенными веществами, в течение дня?\n",
        "\n",
        "- Столбцы: stop_datetime, drug_related_stop\n",
        "- groubby\n",
        "- plot"
      ]
    },
    {
      "cell_type": "code",
      "execution_count": null,
      "metadata": {
        "id": "ZODenbXGEfPS",
        "colab": {
          "base_uri": "https://localhost:8080/",
          "height": 298
        },
        "outputId": "f272d4e2-bfd3-4f61-a2aa-fe906af28269"
      },
      "outputs": [
        {
          "output_type": "execute_result",
          "data": {
            "text/plain": [
              "<matplotlib.axes._subplots.AxesSubplot at 0x7fb8372ede50>"
            ]
          },
          "metadata": {},
          "execution_count": 58
        },
        {
          "output_type": "display_data",
          "data": {
            "text/plain": [
              "<Figure size 432x288 with 1 Axes>"
            ],
            "image/png": "[encoded data removed]"
          },
          "metadata": {
            "needs_background": "light"
          }
        }
      ],
      "source": [
        "df.groupby(df.stop_datetime.dt.hour).drugs_related_stop.sum().plot()"
      ]
    },
    {
      "cell_type": "code",
      "execution_count": null,
      "metadata": {
        "id": "dd9svpUMEfPS"
      },
      "outputs": [],
      "source": []
    },
    {
      "cell_type": "markdown",
      "metadata": {
        "id": "bl3tjVBEEfPS"
      },
      "source": [
        "### 8. Верно ли, что большинство остановок происходило ночью?\n",
        "\n",
        "- Столбцы: stop_datetime\n",
        "- groubby\n",
        "- plot"
      ]
    },
    {
      "cell_type": "code",
      "execution_count": 44,
      "metadata": {
        "colab": {
          "base_uri": "https://localhost:8080/"
        },
        "id": "vmaFJyUQEfPS",
        "outputId": "2526d33d-ab7f-443a-d86f-fb28cbe0d190"
      },
      "outputs": [
        {
          "output_type": "stream",
          "name": "stdout",
          "text": [
            "17564\n",
            "74177\n"
          ]
        }
      ],
      "source": [
        "night = df[(df['stop_time'] < '07:00')&(df['stop_time'] >= '00:00')]\n",
        "print(len(night))\n",
        "day = df[(df['stop_time'] <= '23:59')&(df['stop_time'] >= '07:00')]\n",
        "print(len(day))"
      ]
    },
    {
      "cell_type": "code",
      "execution_count": 45,
      "metadata": {
        "colab": {
          "base_uri": "https://localhost:8080/",
          "height": 298
        },
        "id": "KFKTzjRnEfPS",
        "outputId": "a4ff5e5e-41dd-4c79-e4b9-7e84164864b6"
      },
      "outputs": [
        {
          "output_type": "execute_result",
          "data": {
            "text/plain": [
              "<matplotlib.axes._subplots.AxesSubplot at 0x7f1efcd1cb90>"
            ]
          },
          "metadata": {},
          "execution_count": 45
        },
        {
          "output_type": "display_data",
          "data": {
            "text/plain": [
              "<Figure size 432x288 with 1 Axes>"
            ],
            "image/png": "[encoded data removed]"
          },
          "metadata": {
            "needs_background": "light"
          }
        }
      ],
      "source": [
        "df.reset_index().plot(x = 'stop_time', y='index' )"
      ]
    },
    {
      "cell_type": "code",
      "execution_count": null,
      "metadata": {
        "id": "OusSDbkEEfPS"
      },
      "outputs": [],
      "source": []
    },
    {
      "cell_type": "markdown",
      "source": [
        "Ответ: нет, большинство остановок происходило днем"
      ],
      "metadata": {
        "id": "0JH3DB2vV9Sa"
      }
    },
    {
      "cell_type": "code",
      "execution_count": null,
      "metadata": {
        "id": "W6Va91pVEfPS"
      },
      "outputs": [],
      "source": []
    },
    {
      "cell_type": "markdown",
      "metadata": {
        "id": "KWqidJvbEfPS"
      },
      "source": [
        "### 9. Найти плохие данные в столбце stop_duration (длительность остановки) и исправить их.\n",
        "\n",
        "- Столбцы: stop_datetime\n",
        "- loc"
      ]
    },
    {
      "cell_type": "code",
      "execution_count": 46,
      "metadata": {
        "colab": {
          "base_uri": "https://localhost:8080/"
        },
        "id": "jscwPbgYEfPS",
        "outputId": "acdcc807-b2d0-4094-f0ea-aca72e207dc2"
      },
      "outputs": [
        {
          "output_type": "execute_result",
          "data": {
            "text/plain": [
              "0-15 Min     69543\n",
              "16-30 Min    13635\n",
              "30+ Min       3228\n",
              "2                1\n",
              "1                1\n",
              "Name: stop_duration, dtype: int64"
            ]
          },
          "metadata": {},
          "execution_count": 46
        }
      ],
      "source": [
        "df.stop_duration.value_counts()\n"
      ]
    },
    {
      "cell_type": "code",
      "execution_count": 47,
      "metadata": {
        "id": "y5Ow_ubOEfPS",
        "colab": {
          "base_uri": "https://localhost:8080/"
        },
        "outputId": "15631694-e19d-49c5-8c3e-0edc191dd13b"
      },
      "outputs": [
        {
          "output_type": "stream",
          "name": "stderr",
          "text": [
            "/usr/local/lib/python3.7/dist-packages/pandas/core/indexing.py:1732: SettingWithCopyWarning: \n",
            "A value is trying to be set on a copy of a slice from a DataFrame\n",
            "\n",
            "See the caveats in the documentation: https://pandas.pydata.org/pandas-docs/stable/user_guide/indexing.html#returning-a-view-versus-a-copy\n",
            "  self._setitem_single_block(indexer, value, name)\n"
          ]
        }
      ],
      "source": [
        "data1 = df.index[df['stop_duration']== '1'].tolist ()\n",
        "data2 = df.index[df['stop_duration']== '2'].tolist ()\n",
        "df.stop_duration.loc[data1] = \"0-15 Min\"\n",
        "df.stop_duration.loc[data2] = \"16-30 Min\""
      ]
    },
    {
      "cell_type": "code",
      "execution_count": 48,
      "metadata": {
        "colab": {
          "base_uri": "https://localhost:8080/"
        },
        "id": "Mo9tYk4wEfPS",
        "outputId": "1aa75560-3dc5-43ad-87ea-da4554d90bb1"
      },
      "outputs": [
        {
          "output_type": "execute_result",
          "data": {
            "text/plain": [
              "0-15 Min     69544\n",
              "16-30 Min    13636\n",
              "30+ Min       3228\n",
              "Name: stop_duration, dtype: int64"
            ]
          },
          "metadata": {},
          "execution_count": 48
        }
      ],
      "source": [
        "df.stop_duration.value_counts()\n"
      ]
    },
    {
      "cell_type": "code",
      "execution_count": null,
      "metadata": {
        "id": "L5Ll67kgEfPT"
      },
      "outputs": [],
      "source": []
    },
    {
      "cell_type": "code",
      "execution_count": null,
      "metadata": {
        "id": "vLYUnFJsEfPT"
      },
      "outputs": [],
      "source": []
    },
    {
      "cell_type": "code",
      "execution_count": null,
      "metadata": {
        "id": "Cjt3tPtnEfPT"
      },
      "outputs": [],
      "source": []
    },
    {
      "cell_type": "markdown",
      "metadata": {
        "id": "b8gd7AX4EfPT"
      },
      "source": [
        "### 10. Каково среднее время остановки (stop_duration) для каждого нарушения (violation_raw)?\n",
        "\n",
        "- Столбцы: stop_duration, violation_raw\n",
        "- Преобразование строк в числа\n",
        "- Важно не только среднее, но и количество"
      ]
    },
    {
      "cell_type": "code",
      "execution_count": 68,
      "metadata": {
        "id": "Pl8CTeH4EfPT",
        "colab": {
          "base_uri": "https://localhost:8080/"
        },
        "outputId": "e12ae84b-5aa5-457e-aa32-d233d8b7fdb2"
      },
      "outputs": [
        {
          "output_type": "execute_result",
          "data": {
            "text/plain": [
              "[23,\n",
              " 23,\n",
              " 30,\n",
              " 30,\n",
              " 23,\n",
              " 30,\n",
              " 23,\n",
              " 30,\n",
              " 23,\n",
              " 23,\n",
              " 23,\n",
              " 23,\n",
              " 23,\n",
              " 23,\n",
              " 30,\n",
              " 7.5,\n",
              " 23,\n",
              " 30,\n",
              " 7.5,\n",
              " 7.5,\n",
              " 23,\n",
              " 30,\n",
              " 30,\n",
              " 30,\n",
              " 7.5,\n",
              " 23,\n",
              " 23,\n",
              " 23,\n",
              " 23,\n",
              " 23,\n",
              " 23,\n",
              " 7.5,\n",
              " 23,\n",
              " 30,\n",
              " 23,\n",
              " 30,\n",
              " 23,\n",
              " 23,\n",
              " 23,\n",
              " 23,\n",
              " 23,\n",
              " 23,\n",
              " 30,\n",
              " 23,\n",
              " 30,\n",
              " 30,\n",
              " 30,\n",
              " 30,\n",
              " 23,\n",
              " 30,\n",
              " 7.5,\n",
              " 23,\n",
              " 23,\n",
              " 30,\n",
              " 7.5,\n",
              " 30,\n",
              " 30,\n",
              " 7.5,\n",
              " 7.5,\n",
              " 23,\n",
              " 7.5,\n",
              " 23,\n",
              " 23,\n",
              " 23,\n",
              " 7.5,\n",
              " 23,\n",
              " 7.5,\n",
              " 23,\n",
              " 7.5,\n",
              " 7.5,\n",
              " 7.5,\n",
              " 23,\n",
              " 30,\n",
              " 23,\n",
              " 23,\n",
              " 23,\n",
              " 30,\n",
              " 7.5,\n",
              " 7.5,\n",
              " 7.5,\n",
              " 7.5,\n",
              " 23,\n",
              " 23,\n",
              " 23,\n",
              " 30,\n",
              " 23,\n",
              " 23,\n",
              " 30,\n",
              " 30,\n",
              " 30,\n",
              " 23,\n",
              " 30,\n",
              " 7.5,\n",
              " 30,\n",
              " 30,\n",
              " 23,\n",
              " 23,\n",
              " 30,\n",
              " 23,\n",
              " 23,\n",
              " 30,\n",
              " 30,\n",
              " 23,\n",
              " 23,\n",
              " 23,\n",
              " 7.5,\n",
              " 23,\n",
              " 23,\n",
              " 23,\n",
              " 30,\n",
              " 23,\n",
              " 7.5,\n",
              " 23,\n",
              " 30,\n",
              " 23,\n",
              " 23,\n",
              " 30,\n",
              " 30,\n",
              " 30,\n",
              " 23,\n",
              " 23,\n",
              " 30,\n",
              " 30,\n",
              " 30,\n",
              " 23,\n",
              " 23,\n",
              " 30,\n",
              " 30,\n",
              " 7.5,\n",
              " 23,\n",
              " 23,\n",
              " 30,\n",
              " 30,\n",
              " 23,\n",
              " 30,\n",
              " 30,\n",
              " 23,\n",
              " 30,\n",
              " 23,\n",
              " 30,\n",
              " 23,\n",
              " 7.5,\n",
              " 30,\n",
              " 30,\n",
              " 7.5,\n",
              " 30,\n",
              " 7.5,\n",
              " 30,\n",
              " 30,\n",
              " 30,\n",
              " 23,\n",
              " 30,\n",
              " 23,\n",
              " 7.5,\n",
              " 23,\n",
              " 23,\n",
              " 30,\n",
              " 23,\n",
              " 23,\n",
              " 23,\n",
              " 7.5,\n",
              " 30,\n",
              " 23,\n",
              " 23,\n",
              " 30,\n",
              " 7.5,\n",
              " 30,\n",
              " 30,\n",
              " 23,\n",
              " 30,\n",
              " 7.5,\n",
              " 23,\n",
              " 30,\n",
              " 30,\n",
              " 23,\n",
              " 30,\n",
              " 30,\n",
              " 30,\n",
              " 23,\n",
              " 7.5,\n",
              " 23,\n",
              " 23,\n",
              " 30,\n",
              " 7.5,\n",
              " 30,\n",
              " 7.5,\n",
              " 23,\n",
              " 30,\n",
              " 30,\n",
              " 30,\n",
              " 30,\n",
              " 23,\n",
              " 30,\n",
              " 30,\n",
              " 30,\n",
              " 23,\n",
              " 7.5,\n",
              " 30,\n",
              " 23,\n",
              " 23,\n",
              " 30,\n",
              " 30,\n",
              " 23,\n",
              " 7.5,\n",
              " 30,\n",
              " 30,\n",
              " 23,\n",
              " 30,\n",
              " 30,\n",
              " 30,\n",
              " 23,\n",
              " 30,\n",
              " 23,\n",
              " 7.5,\n",
              " 23,\n",
              " 23,\n",
              " 23,\n",
              " 30,\n",
              " 23,\n",
              " 7.5,\n",
              " 23,\n",
              " 23,\n",
              " 30,\n",
              " 30,\n",
              " 7.5,\n",
              " 30,\n",
              " 23,\n",
              " 23,\n",
              " 23,\n",
              " 23,\n",
              " 7.5,\n",
              " 23,\n",
              " 7.5,\n",
              " 23,\n",
              " 7.5,\n",
              " 7.5,\n",
              " 23,\n",
              " 30,\n",
              " 30,\n",
              " 30,\n",
              " 30,\n",
              " 30,\n",
              " 30,\n",
              " 23,\n",
              " 23,\n",
              " 23,\n",
              " 23,\n",
              " 23,\n",
              " 23,\n",
              " 30,\n",
              " 23,\n",
              " 23,\n",
              " 23,\n",
              " 7.5,\n",
              " 23,\n",
              " 30,\n",
              " 30,\n",
              " 23,\n",
              " 30,\n",
              " 30,\n",
              " 23,\n",
              " 30,\n",
              " 23,\n",
              " 23,\n",
              " 23,\n",
              " 7.5,\n",
              " 23,\n",
              " 23,\n",
              " 30,\n",
              " 30,\n",
              " 30,\n",
              " 23,\n",
              " 23,\n",
              " 7.5,\n",
              " 23,\n",
              " 30,\n",
              " 23,\n",
              " 23,\n",
              " 7.5,\n",
              " 30,\n",
              " 7.5,\n",
              " 23,\n",
              " 30,\n",
              " 7.5,\n",
              " 23,\n",
              " 23,\n",
              " 23,\n",
              " 23,\n",
              " 7.5,\n",
              " 30,\n",
              " 30,\n",
              " 7.5,\n",
              " 30,\n",
              " 23,\n",
              " 7.5,\n",
              " 30,\n",
              " 30,\n",
              " 30,\n",
              " 30,\n",
              " 23,\n",
              " 23,\n",
              " 7.5,\n",
              " 30,\n",
              " 23,\n",
              " 23,\n",
              " 30,\n",
              " 23,\n",
              " 7.5,\n",
              " 23,\n",
              " 23,\n",
              " 23,\n",
              " 30,\n",
              " 23,\n",
              " 7.5,\n",
              " 23,\n",
              " 30,\n",
              " 23,\n",
              " 23,\n",
              " 30,\n",
              " 30,\n",
              " 23,\n",
              " 30,\n",
              " 23,\n",
              " 23,\n",
              " 30,\n",
              " 30,\n",
              " 30,\n",
              " 30,\n",
              " 23,\n",
              " 30,\n",
              " 23,\n",
              " 30,\n",
              " 23,\n",
              " 23,\n",
              " 30,\n",
              " 23,\n",
              " 7.5,\n",
              " 7.5,\n",
              " 7.5,\n",
              " 30,\n",
              " 30,\n",
              " 7.5,\n",
              " 7.5,\n",
              " 23,\n",
              " 30,\n",
              " 23,\n",
              " 7.5,\n",
              " 30,\n",
              " 30,\n",
              " 23,\n",
              " 23,\n",
              " 30,\n",
              " 30,\n",
              " 30,\n",
              " 7.5,\n",
              " 7.5,\n",
              " 23,\n",
              " 7.5,\n",
              " 23,\n",
              " 23,\n",
              " 7.5,\n",
              " 23,\n",
              " 23,\n",
              " 23,\n",
              " 23,\n",
              " 23,\n",
              " 23,\n",
              " 7.5,\n",
              " 7.5,\n",
              " 30,\n",
              " 23,\n",
              " 7.5,\n",
              " 30,\n",
              " 7.5,\n",
              " 23,\n",
              " 30,\n",
              " 23,\n",
              " 30,\n",
              " 30,\n",
              " 23,\n",
              " 30,\n",
              " 30,\n",
              " 30,\n",
              " 7.5,\n",
              " 30,\n",
              " 7.5,\n",
              " 7.5,\n",
              " 23,\n",
              " 23,\n",
              " 23,\n",
              " 23,\n",
              " 23,\n",
              " 7.5,\n",
              " 30,\n",
              " 23,\n",
              " 7.5,\n",
              " 30,\n",
              " 23,\n",
              " 7.5,\n",
              " 30,\n",
              " 23,\n",
              " 30,\n",
              " 7.5,\n",
              " 23,\n",
              " 30,\n",
              " 30,\n",
              " 23,\n",
              " 30,\n",
              " 30,\n",
              " 30,\n",
              " 7.5,\n",
              " 30,\n",
              " 23,\n",
              " 30,\n",
              " 23,\n",
              " 7.5,\n",
              " 7.5,\n",
              " 23,\n",
              " 7.5,\n",
              " 30,\n",
              " 23,\n",
              " 30,\n",
              " 30,\n",
              " 30,\n",
              " 23,\n",
              " 7.5,\n",
              " 23,\n",
              " 7.5,\n",
              " 7.5,\n",
              " 23,\n",
              " 23,\n",
              " 23,\n",
              " 23,\n",
              " 30,\n",
              " 23,\n",
              " 7.5,\n",
              " 7.5,\n",
              " 23,\n",
              " 30,\n",
              " 23,\n",
              " 30,\n",
              " 30,\n",
              " 30,\n",
              " 23,\n",
              " 30,\n",
              " 23,\n",
              " 23,\n",
              " 23,\n",
              " 23,\n",
              " 30,\n",
              " 30,\n",
              " 23,\n",
              " 7.5,\n",
              " 23,\n",
              " 23,\n",
              " 30,\n",
              " 7.5,\n",
              " 7.5,\n",
              " 23,\n",
              " 30,\n",
              " 23,\n",
              " 23,\n",
              " 23,\n",
              " 7.5,\n",
              " 7.5,\n",
              " 23,\n",
              " 23,\n",
              " 30,\n",
              " 30,\n",
              " 30,\n",
              " 23,\n",
              " 23,\n",
              " 30,\n",
              " 7.5,\n",
              " 23,\n",
              " 7.5,\n",
              " 23,\n",
              " 23,\n",
              " 7.5,\n",
              " 30,\n",
              " 30,\n",
              " 7.5,\n",
              " 23,\n",
              " 23,\n",
              " 30,\n",
              " 23,\n",
              " 30,\n",
              " 23,\n",
              " 23,\n",
              " 7.5,\n",
              " 7.5,\n",
              " 30,\n",
              " 23,\n",
              " 30,\n",
              " 23,\n",
              " 30,\n",
              " 30,\n",
              " 30,\n",
              " 7.5,\n",
              " 23,\n",
              " 23,\n",
              " 30,\n",
              " 23,\n",
              " 23,\n",
              " 23,\n",
              " 7.5,\n",
              " 30,\n",
              " 23,\n",
              " 23,\n",
              " 23,\n",
              " 7.5,\n",
              " 23,\n",
              " 23,\n",
              " 23,\n",
              " 7.5,\n",
              " 23,\n",
              " 30,\n",
              " 30,\n",
              " 30,\n",
              " 23,\n",
              " 23,\n",
              " 30,\n",
              " 23,\n",
              " 23,\n",
              " 30,\n",
              " 23,\n",
              " 23,\n",
              " 7.5,\n",
              " 23,\n",
              " 7.5,\n",
              " 30,\n",
              " 7.5,\n",
              " 23,\n",
              " 23,\n",
              " 7.5,\n",
              " 23,\n",
              " 30,\n",
              " 7.5,\n",
              " 30,\n",
              " 30,\n",
              " 30,\n",
              " 7.5,\n",
              " 30,\n",
              " 30,\n",
              " 7.5,\n",
              " 23,\n",
              " 7.5,\n",
              " 23,\n",
              " 23,\n",
              " 23,\n",
              " 30,\n",
              " 7.5,\n",
              " 23,\n",
              " 23,\n",
              " 30,\n",
              " 7.5,\n",
              " 7.5,\n",
              " 7.5,\n",
              " 30,\n",
              " 7.5,\n",
              " 23,\n",
              " 23,\n",
              " 23,\n",
              " 30,\n",
              " 23,\n",
              " 7.5,\n",
              " 30,\n",
              " 30,\n",
              " 7.5,\n",
              " 30,\n",
              " 23,\n",
              " 7.5,\n",
              " 23,\n",
              " 23,\n",
              " 23,\n",
              " 23,\n",
              " 30,\n",
              " 7.5,\n",
              " 30,\n",
              " 23,\n",
              " 7.5,\n",
              " 23,\n",
              " 30,\n",
              " 23,\n",
              " 23,\n",
              " 23,\n",
              " 23,\n",
              " 7.5,\n",
              " 30,\n",
              " 30,\n",
              " 23,\n",
              " 23,\n",
              " 7.5,\n",
              " 30,\n",
              " 23,\n",
              " 7.5,\n",
              " 7.5,\n",
              " 23,\n",
              " 23,\n",
              " 7.5,\n",
              " 30,\n",
              " 23,\n",
              " 7.5,\n",
              " 30,\n",
              " 23,\n",
              " 30,\n",
              " 7.5,\n",
              " 23,\n",
              " 23,\n",
              " 23,\n",
              " 30,\n",
              " 23,\n",
              " 23,\n",
              " 23,\n",
              " 7.5,\n",
              " 30,\n",
              " 7.5,\n",
              " 23,\n",
              " 7.5,\n",
              " 23,\n",
              " 7.5,\n",
              " 7.5,\n",
              " 30,\n",
              " 30,\n",
              " 30,\n",
              " 23,\n",
              " 23,\n",
              " 23,\n",
              " 23,\n",
              " 7.5,\n",
              " 30,\n",
              " 7.5,\n",
              " 23,\n",
              " 23,\n",
              " 23,\n",
              " 23,\n",
              " 23,\n",
              " 23,\n",
              " 23,\n",
              " 30,\n",
              " 7.5,\n",
              " 30,\n",
              " 7.5,\n",
              " 30,\n",
              " 30,\n",
              " 23,\n",
              " 23,\n",
              " 7.5,\n",
              " 7.5,\n",
              " 23,\n",
              " 23,\n",
              " 23,\n",
              " 23,\n",
              " 7.5,\n",
              " 23,\n",
              " 23,\n",
              " 23,\n",
              " 23,\n",
              " 23,\n",
              " 7.5,\n",
              " 30,\n",
              " 23,\n",
              " 23,\n",
              " 30,\n",
              " 30,\n",
              " 30,\n",
              " 7.5,\n",
              " 23,\n",
              " 23,\n",
              " 23,\n",
              " 30,\n",
              " 23,\n",
              " 30,\n",
              " 30,\n",
              " 30,\n",
              " 7.5,\n",
              " 30,\n",
              " 30,\n",
              " 30,\n",
              " 30,\n",
              " 23,\n",
              " 30,\n",
              " 7.5,\n",
              " 30,\n",
              " 30,\n",
              " 7.5,\n",
              " 30,\n",
              " 23,\n",
              " 7.5,\n",
              " 30,\n",
              " 30,\n",
              " 30,\n",
              " 30,\n",
              " 23,\n",
              " 23,\n",
              " 23,\n",
              " 23,\n",
              " 23,\n",
              " 23,\n",
              " 30,\n",
              " 30,\n",
              " 23,\n",
              " 7.5,\n",
              " 7.5,\n",
              " 30,\n",
              " 30,\n",
              " 23,\n",
              " 30,\n",
              " 23,\n",
              " 23,\n",
              " 30,\n",
              " 23,\n",
              " 23,\n",
              " 23,\n",
              " 23,\n",
              " 23,\n",
              " 23,\n",
              " 23,\n",
              " 23,\n",
              " 30,\n",
              " 23,\n",
              " 23,\n",
              " 30,\n",
              " 30,\n",
              " 30,\n",
              " 23,\n",
              " 23,\n",
              " 23,\n",
              " 7.5,\n",
              " 23,\n",
              " 30,\n",
              " 23,\n",
              " 23,\n",
              " 7.5,\n",
              " 23,\n",
              " 30,\n",
              " 30,\n",
              " 23,\n",
              " 30,\n",
              " 30,\n",
              " 30,\n",
              " 23,\n",
              " 23,\n",
              " 23,\n",
              " 23,\n",
              " 23,\n",
              " 23,\n",
              " 23,\n",
              " 23,\n",
              " 23,\n",
              " 7.5,\n",
              " 30,\n",
              " 23,\n",
              " 23,\n",
              " 30,\n",
              " 23,\n",
              " 23,\n",
              " 30,\n",
              " 30,\n",
              " 30,\n",
              " 7.5,\n",
              " 30,\n",
              " 7.5,\n",
              " 23,\n",
              " 7.5,\n",
              " 30,\n",
              " 23,\n",
              " 23,\n",
              " 30,\n",
              " 30,\n",
              " 23,\n",
              " 23,\n",
              " 30,\n",
              " 23,\n",
              " 30,\n",
              " 30,\n",
              " 30,\n",
              " 30,\n",
              " 30,\n",
              " 23,\n",
              " 30,\n",
              " 23,\n",
              " 7.5,\n",
              " 7.5,\n",
              " 30,\n",
              " 23,\n",
              " 23,\n",
              " 30,\n",
              " 7.5,\n",
              " 7.5,\n",
              " 30,\n",
              " 23,\n",
              " 23,\n",
              " 30,\n",
              " 7.5,\n",
              " 30,\n",
              " 7.5,\n",
              " 7.5,\n",
              " 7.5,\n",
              " 30,\n",
              " 23,\n",
              " 23,\n",
              " 7.5,\n",
              " 30,\n",
              " 23,\n",
              " 23,\n",
              " 7.5,\n",
              " 23,\n",
              " 23,\n",
              " 23,\n",
              " 23,\n",
              " 23,\n",
              " 30,\n",
              " 7.5,\n",
              " 23,\n",
              " 23,\n",
              " 30,\n",
              " 23,\n",
              " 7.5,\n",
              " 7.5,\n",
              " 23,\n",
              " 7.5,\n",
              " 30,\n",
              " 30,\n",
              " 23,\n",
              " 23,\n",
              " 30,\n",
              " 23,\n",
              " 30,\n",
              " 30,\n",
              " 23,\n",
              " 23,\n",
              " 7.5,\n",
              " 30,\n",
              " 23,\n",
              " 30,\n",
              " 30,\n",
              " 23,\n",
              " 23,\n",
              " 30,\n",
              " 23,\n",
              " 7.5,\n",
              " 23,\n",
              " 23,\n",
              " 7.5,\n",
              " 30,\n",
              " 23,\n",
              " 7.5,\n",
              " 7.5,\n",
              " 30,\n",
              " 30,\n",
              " 23,\n",
              " 23,\n",
              " 30,\n",
              " 7.5,\n",
              " 30,\n",
              " 23,\n",
              " 23,\n",
              " 30,\n",
              " 30,\n",
              " 7.5,\n",
              " 23,\n",
              " 23,\n",
              " 30,\n",
              " 23,\n",
              " 30,\n",
              " 30,\n",
              " 23,\n",
              " 30,\n",
              " 7.5,\n",
              " 7.5,\n",
              " 7.5,\n",
              " 30,\n",
              " 30,\n",
              " 30,\n",
              " 23,\n",
              " 23,\n",
              " 30,\n",
              " 23,\n",
              " 30,\n",
              " 30,\n",
              " 23,\n",
              " 30,\n",
              " 7.5,\n",
              " 7.5,\n",
              " 30,\n",
              " 30,\n",
              " 23,\n",
              " 23,\n",
              " 23,\n",
              " 7.5,\n",
              " 23,\n",
              " 23,\n",
              " 23,\n",
              " 23,\n",
              " 23,\n",
              " 23,\n",
              " 23,\n",
              " 23,\n",
              " 23,\n",
              " 23,\n",
              " 30,\n",
              " 7.5,\n",
              " 7.5,\n",
              " 23,\n",
              " 23,\n",
              " 23,\n",
              " 30,\n",
              " 30,\n",
              " 7.5,\n",
              " 7.5,\n",
              " 30,\n",
              " 23,\n",
              " 30,\n",
              " 23,\n",
              " 30,\n",
              " 7.5,\n",
              " 30,\n",
              " 23,\n",
              " 23,\n",
              " 23,\n",
              " 30,\n",
              " 23,\n",
              " 23,\n",
              " 7.5,\n",
              " 7.5,\n",
              " 30,\n",
              " 30,\n",
              " 23,\n",
              " 7.5,\n",
              " 30,\n",
              " 23,\n",
              " 30,\n",
              " 23,\n",
              " 30,\n",
              " 23,\n",
              " 7.5,\n",
              " 30,\n",
              " 23,\n",
              " 23,\n",
              " 23,\n",
              " 30,\n",
              " 7.5,\n",
              " 7.5,\n",
              " 30,\n",
              " 23,\n",
              " 23,\n",
              " 23,\n",
              " 30,\n",
              " 7.5,\n",
              " 23,\n",
              " 30,\n",
              " 30,\n",
              " 23,\n",
              " 30,\n",
              " 23,\n",
              " 23,\n",
              " 23,\n",
              " 23,\n",
              " 23,\n",
              " 30,\n",
              " 23,\n",
              " 7.5,\n",
              " 30,\n",
              " 7.5,\n",
              " 23,\n",
              " 30,\n",
              " 23,\n",
              " 23,\n",
              " 23,\n",
              " 7.5,\n",
              " 30,\n",
              " 7.5,\n",
              " 23,\n",
              " 23,\n",
              " 7.5,\n",
              " 23,\n",
              " 30,\n",
              " 30,\n",
              " 23,\n",
              " 23,\n",
              " 7.5,\n",
              " 7.5,\n",
              " 23,\n",
              " 23,\n",
              " 23,\n",
              " 30,\n",
              " 7.5,\n",
              " 23,\n",
              " 23,\n",
              " 23,\n",
              " 23,\n",
              " 30,\n",
              " 30,\n",
              " 23,\n",
              " 30,\n",
              " 7.5,\n",
              " 23,\n",
              " 23,\n",
              " 30,\n",
              " ...]"
            ]
          },
          "metadata": {},
          "execution_count": 68
        }
      ],
      "source": [
        "avg = {'0-15 Min': 7.5, '16-30 Min': 23, '30+ Min': 30}\n",
        "df.dropna(axis='index', inplace=True)\n",
        "kol = []\n",
        "for x in df.stop_duration.values.tolist():\n",
        "  kol.append(avg[x])\n",
        "kol"
      ]
    },
    {
      "cell_type": "code",
      "execution_count": 69,
      "metadata": {
        "id": "YxkD-hdPEfPT"
      },
      "outputs": [],
      "source": [
        "df.insert(14, 'avg_num', kol)"
      ]
    },
    {
      "cell_type": "code",
      "execution_count": 70,
      "metadata": {
        "id": "t-ZZRh-_EfPT",
        "colab": {
          "base_uri": "https://localhost:8080/"
        },
        "outputId": "3d1959e3-b567-4f5b-f4b4-2517cd8e9bc7"
      },
      "outputs": [
        {
          "output_type": "execute_result",
          "data": {
            "text/plain": [
              "violation_raw\n",
              "APB                                 25.375000\n",
              "Call for Service                    24.527523\n",
              "Equipment/Inspection Violation      18.510653\n",
              "Motorist Assist/Courtesy            23.178571\n",
              "Other Traffic Violation             20.530168\n",
              "Registration Violation              22.414414\n",
              "Seatbelt Violation                  17.005208\n",
              "Special Detail/Directed Patrol      21.519231\n",
              "Speeding                            20.338389\n",
              "Suspicious Person                   22.275000\n",
              "Violation of City/Town Ordinance    17.633333\n",
              "Warrant                             21.300000\n",
              "Name: avg_num, dtype: float64"
            ]
          },
          "metadata": {},
          "execution_count": 70
        }
      ],
      "source": [
        "df.groupby('violation_raw').avg_num.mean()"
      ]
    },
    {
      "cell_type": "code",
      "execution_count": null,
      "metadata": {
        "id": "pwYrPuB7EfPT"
      },
      "outputs": [],
      "source": []
    },
    {
      "cell_type": "markdown",
      "metadata": {
        "id": "7eyKzf2OEfPT"
      },
      "source": [
        "### 11. Визуализировать результаты пункта 10\n",
        "\n",
        "- Не использовать plot для категориальных данных\n",
        "- Сортировка и ориентация графика даст лучший результат"
      ]
    },
    {
      "cell_type": "code",
      "execution_count": 71,
      "metadata": {
        "id": "8BsSzodmEfPT",
        "colab": {
          "base_uri": "https://localhost:8080/",
          "height": 454
        },
        "outputId": "1b973e69-a603-4a24-ba06-2efe5b7a8ef2"
      },
      "outputs": [
        {
          "output_type": "execute_result",
          "data": {
            "text/plain": [
              "([0, 1, 2, 3, 4, 5, 6, 7, 8, 9, 10, 11],\n",
              " <a list of 12 Text major ticklabel objects>)"
            ]
          },
          "metadata": {},
          "execution_count": 71
        },
        {
          "output_type": "display_data",
          "data": {
            "text/plain": [
              "<Figure size 432x288 with 1 Axes>"
            ],
            "image/png": "[encoded data removed]"
          },
          "metadata": {
            "needs_background": "light"
          }
        }
      ],
      "source": [
        "plt.plot(df.groupby('violation_raw').avg_num.mean().sort_values())\n",
        "plt.xticks(rotation='vertical')"
      ]
    },
    {
      "cell_type": "code",
      "execution_count": null,
      "metadata": {
        "id": "73FWs71-EfPT"
      },
      "outputs": [],
      "source": []
    },
    {
      "cell_type": "code",
      "execution_count": null,
      "metadata": {
        "id": "xyHL12kdEfPU"
      },
      "outputs": [],
      "source": []
    },
    {
      "cell_type": "markdown",
      "metadata": {
        "id": "d5JgpWgkEfPU"
      },
      "source": [
        "### 12. Рассчитать возрастное распределение для каждого нарушения\n",
        "\n",
        "- Гистограммы (метод hist) - для визуализации распределений"
      ]
    },
    {
      "cell_type": "code",
      "execution_count": 72,
      "metadata": {
        "id": "hRw_JH7QEfPU",
        "colab": {
          "base_uri": "https://localhost:8080/",
          "height": 269
        },
        "outputId": "5c33a01a-594a-43e5-877f-c76b654c3d2b"
      },
      "outputs": [
        {
          "output_type": "execute_result",
          "data": {
            "text/plain": [
              "                     count       mean        std   min   25%   50%   75%   max\n",
              "violation                                                                     \n",
              "Equipment            704.0  29.444602   9.650643  16.0  22.0  26.0  35.0  70.0\n",
              "Moving violation     895.0  32.229050  11.076915  15.0  23.0  29.0  40.0  79.0\n",
              "Other                209.0  33.688995  12.185818  17.0  24.0  31.0  43.0  66.0\n",
              "Registration/plates  333.0  31.414414  10.682269  16.0  23.0  29.0  37.0  73.0\n",
              "Seat belt             96.0  29.958333   8.985271  18.0  24.0  27.0  32.0  54.0\n",
              "Speeding             956.0  29.232218   9.270030  17.0  22.0  26.0  34.0  68.0"
            ],
            "text/html": [
              "\n",
              "  <div id=\"df-1c434f46-4f32-48c3-83b4-a99d443796f6\">\n",
              "    <div class=\"colab-df-container\">\n",
              "      <div>\n",
              "<style scoped>\n",
              "    .dataframe tbody tr th:only-of-type {\n",
              "        vertical-align: middle;\n",
              "    }\n",
              "\n",
              "    .dataframe tbody tr th {\n",
              "        vertical-align: top;\n",
              "    }\n",
              "\n",
              "    .dataframe thead th {\n",
              "        text-align: right;\n",
              "    }\n",
              "</style>\n",
              "<table border=\"1\" class=\"dataframe\">\n",
              "  <thead>\n",
              "    <tr style=\"text-align: right;\">\n",
              "      <th></th>\n",
              "      <th>count</th>\n",
              "      <th>mean</th>\n",
              "      <th>std</th>\n",
              "      <th>min</th>\n",
              "      <th>25%</th>\n",
              "      <th>50%</th>\n",
              "      <th>75%</th>\n",
              "      <th>max</th>\n",
              "    </tr>\n",
              "    <tr>\n",
              "      <th>violation</th>\n",
              "      <th></th>\n",
              "      <th></th>\n",
              "      <th></th>\n",
              "      <th></th>\n",
              "      <th></th>\n",
              "      <th></th>\n",
              "      <th></th>\n",
              "      <th></th>\n",
              "    </tr>\n",
              "  </thead>\n",
              "  <tbody>\n",
              "    <tr>\n",
              "      <th>Equipment</th>\n",
              "      <td>704.0</td>\n",
              "      <td>29.444602</td>\n",
              "      <td>9.650643</td>\n",
              "      <td>16.0</td>\n",
              "      <td>22.0</td>\n",
              "      <td>26.0</td>\n",
              "      <td>35.0</td>\n",
              "      <td>70.0</td>\n",
              "    </tr>\n",
              "    <tr>\n",
              "      <th>Moving violation</th>\n",
              "      <td>895.0</td>\n",
              "      <td>32.229050</td>\n",
              "      <td>11.076915</td>\n",
              "      <td>15.0</td>\n",
              "      <td>23.0</td>\n",
              "      <td>29.0</td>\n",
              "      <td>40.0</td>\n",
              "      <td>79.0</td>\n",
              "    </tr>\n",
              "    <tr>\n",
              "      <th>Other</th>\n",
              "      <td>209.0</td>\n",
              "      <td>33.688995</td>\n",
              "      <td>12.185818</td>\n",
              "      <td>17.0</td>\n",
              "      <td>24.0</td>\n",
              "      <td>31.0</td>\n",
              "      <td>43.0</td>\n",
              "      <td>66.0</td>\n",
              "    </tr>\n",
              "    <tr>\n",
              "      <th>Registration/plates</th>\n",
              "      <td>333.0</td>\n",
              "      <td>31.414414</td>\n",
              "      <td>10.682269</td>\n",
              "      <td>16.0</td>\n",
              "      <td>23.0</td>\n",
              "      <td>29.0</td>\n",
              "      <td>37.0</td>\n",
              "      <td>73.0</td>\n",
              "    </tr>\n",
              "    <tr>\n",
              "      <th>Seat belt</th>\n",
              "      <td>96.0</td>\n",
              "      <td>29.958333</td>\n",
              "      <td>8.985271</td>\n",
              "      <td>18.0</td>\n",
              "      <td>24.0</td>\n",
              "      <td>27.0</td>\n",
              "      <td>32.0</td>\n",
              "      <td>54.0</td>\n",
              "    </tr>\n",
              "    <tr>\n",
              "      <th>Speeding</th>\n",
              "      <td>956.0</td>\n",
              "      <td>29.232218</td>\n",
              "      <td>9.270030</td>\n",
              "      <td>17.0</td>\n",
              "      <td>22.0</td>\n",
              "      <td>26.0</td>\n",
              "      <td>34.0</td>\n",
              "      <td>68.0</td>\n",
              "    </tr>\n",
              "  </tbody>\n",
              "</table>\n",
              "</div>\n",
              "      <button class=\"colab-df-convert\" onclick=\"convertToInteractive('df-1c434f46-4f32-48c3-83b4-a99d443796f6')\"\n",
              "              title=\"Convert this dataframe to an interactive table.\"\n",
              "              style=\"display:none;\">\n",
              "        \n",
              "  <svg xmlns=\"http://www.w3.org/2000/svg\" height=\"24px\"viewBox=\"0 0 24 24\"\n",
              "       width=\"24px\">\n",
              "    <path d=\"M0 0h24v24H0V0z\" fill=\"none\"/>\n",
              "    <path d=\"M18.56 5.44l.94 2.06.94-2.06 2.06-.94-2.06-.94-.94-2.06-.94 2.06-2.06.94zm-11 1L8.5 8.5l.94-2.06 2.06-.94-2.06-.94L8.5 2.5l-.94 2.06-2.06.94zm10 10l.94 2.06.94-2.06 2.06-.94-2.06-.94-.94-2.06-.94 2.06-2.06.94z\"/><path d=\"M17.41 7.96l-1.37-1.37c-.4-.4-.92-.59-1.43-.59-.52 0-1.04.2-1.43.59L10.3 9.45l-7.72 7.72c-.78.78-.78 2.05 0 2.83L4 21.41c.39.39.9.59 1.41.59.51 0 1.02-.2 1.41-.59l7.78-7.78 2.81-2.81c.8-.78.8-2.07 0-2.86zM5.41 20L4 18.59l7.72-7.72 1.47 1.35L5.41 20z\"/>\n",
              "  </svg>\n",
              "      </button>\n",
              "      \n",
              "  <style>\n",
              "    .colab-df-container {\n",
              "      display:flex;\n",
              "      flex-wrap:wrap;\n",
              "      gap: 12px;\n",
              "    }\n",
              "\n",
              "    .colab-df-convert {\n",
              "      background-color: #E8F0FE;\n",
              "      border: none;\n",
              "      border-radius: 50%;\n",
              "      cursor: pointer;\n",
              "      display: none;\n",
              "      fill: #1967D2;\n",
              "      height: 32px;\n",
              "      padding: 0 0 0 0;\n",
              "      width: 32px;\n",
              "    }\n",
              "\n",
              "    .colab-df-convert:hover {\n",
              "      background-color: #E2EBFA;\n",
              "      box-shadow: 0px 1px 2px rgba(60, 64, 67, 0.3), 0px 1px 3px 1px rgba(60, 64, 67, 0.15);\n",
              "      fill: #174EA6;\n",
              "    }\n",
              "\n",
              "    [theme=dark] .colab-df-convert {\n",
              "      background-color: #3B4455;\n",
              "      fill: #D2E3FC;\n",
              "    }\n",
              "\n",
              "    [theme=dark] .colab-df-convert:hover {\n",
              "      background-color: #434B5C;\n",
              "      box-shadow: 0px 1px 3px 1px rgba(0, 0, 0, 0.15);\n",
              "      filter: drop-shadow(0px 1px 2px rgba(0, 0, 0, 0.3));\n",
              "      fill: #FFFFFF;\n",
              "    }\n",
              "  </style>\n",
              "\n",
              "      <script>\n",
              "        const buttonEl =\n",
              "          document.querySelector('#df-1c434f46-4f32-48c3-83b4-a99d443796f6 button.colab-df-convert');\n",
              "        buttonEl.style.display =\n",
              "          google.colab.kernel.accessAllowed ? 'block' : 'none';\n",
              "\n",
              "        async function convertToInteractive(key) {\n",
              "          const element = document.querySelector('#df-1c434f46-4f32-48c3-83b4-a99d443796f6');\n",
              "          const dataTable =\n",
              "            await google.colab.kernel.invokeFunction('convertToInteractive',\n",
              "                                                     [key], {});\n",
              "          if (!dataTable) return;\n",
              "\n",
              "          const docLinkHtml = 'Like what you see? Visit the ' +\n",
              "            '<a target=\"_blank\" href=https://colab.research.google.com/notebooks/data_table.ipynb>data table notebook</a>'\n",
              "            + ' to learn more about interactive tables.';\n",
              "          element.innerHTML = '';\n",
              "          dataTable['output_type'] = 'display_data';\n",
              "          await google.colab.output.renderOutput(dataTable, element);\n",
              "          const docLink = document.createElement('div');\n",
              "          docLink.innerHTML = docLinkHtml;\n",
              "          element.appendChild(docLink);\n",
              "        }\n",
              "      </script>\n",
              "    </div>\n",
              "  </div>\n",
              "  "
            ]
          },
          "metadata": {},
          "execution_count": 72
        }
      ],
      "source": [
        "df.groupby('violation').driver_age.describe()"
      ]
    },
    {
      "cell_type": "code",
      "execution_count": 84,
      "metadata": {
        "id": "UBUcYK4oEfPU",
        "colab": {
          "base_uri": "https://localhost:8080/",
          "height": 517
        },
        "outputId": "a8bf9b7c-17d9-42ed-98db-25d1aaa3f1ee"
      },
      "outputs": [
        {
          "output_type": "execute_result",
          "data": {
            "text/plain": [
              "<matplotlib.axes._subplots.AxesSubplot at 0x7f1efacec090>"
            ]
          },
          "metadata": {},
          "execution_count": 84
        },
        {
          "output_type": "display_data",
          "data": {
            "text/plain": [
              "<Figure size 1152x576 with 6 Axes>"
            ],
            "image/png": "[encoded data removed]"
          },
          "metadata": {
            "needs_background": "light"
          }
        }
      ],
      "source": [
        "figures, ax = plt.subplots(nrows=2, ncols=3, figsize=(16, 8))\n",
        "df[df.violation == 'Speeding'].driver_age.plot(kind='hist', ax=ax[1,2], title='Speeding')\n",
        "df[df.violation == 'Seat belt'].driver_age.plot(kind='hist', ax=ax[1,1], title='Seat belt')\n",
        "df[df.violation == 'Registration/plates'].driver_age.plot(kind='hist', ax=ax[1,0], title='Registration/plates')\n",
        "df[df.violation == 'Other'].driver_age.plot(kind='hist', ax=ax[0,2], title='Other')\n",
        "df[df.violation == 'Equipment'].driver_age.plot(kind='hist', ax=ax[0,0], title='Equipment')\n",
        "df[df.violation == 'Moving violation'].driver_age.plot(kind='hist', ax=ax[0,1], title='Moving violation')"
      ]
    },
    {
      "cell_type": "markdown",
      "metadata": {
        "id": "MLmaNowIEfPU"
      },
      "source": [
        "### 13. Представьте, что столбца возраст водителя (driver_age) нет. Создать аналогичный столбец на основе года рождения (driver_age_raw) и назвать его (driver_age_new).\n",
        "\n",
        "- head и tail могут быть не репрезентативны\n",
        "- даже если в столбце данные частично отсутствуют, оставшиеся могут быть не корректными\n",
        "- гистограммы - хороший способ проверить корректность выполненных преобразований"
      ]
    },
    {
      "cell_type": "code",
      "execution_count": 93,
      "metadata": {
        "id": "2DUJA8z7EfPU"
      },
      "outputs": [],
      "source": [
        "driver_age_new = []\n",
        "for age in df.driver_age_raw.values.tolist():\n",
        "    if (age < 2022) and (age > 1920):\n",
        "        driver_age_new.append(2022-age)\n",
        "df.insert(5, 'driver_age_new', driver_age_new)"
      ]
    },
    {
      "cell_type": "code",
      "execution_count": 94,
      "metadata": {
        "id": "GgaxCmeYEfPU",
        "colab": {
          "base_uri": "https://localhost:8080/",
          "height": 283
        },
        "outputId": "d5fd61b6-2d7f-456a-8159-5016f97ff0a3"
      },
      "outputs": [
        {
          "output_type": "execute_result",
          "data": {
            "text/plain": [
              "<matplotlib.axes._subplots.AxesSubplot at 0x7f1efa939650>"
            ]
          },
          "metadata": {},
          "execution_count": 94
        },
        {
          "output_type": "display_data",
          "data": {
            "text/plain": [
              "<Figure size 432x288 with 1 Axes>"
            ],
            "image/png": "[encoded data removed]"
          },
          "metadata": {
            "needs_background": "light"
          }
        }
      ],
      "source": [
        "df.driver_age_new.plot(kind='hist')"
      ]
    }
  ],
  "metadata": {
    "kernelspec": {
      "display_name": "Python 3",
      "language": "python",
      "name": "python3"
    },
    "language_info": {
      "codemirror_mode": {
        "name": "ipython",
        "version": 3
      },
      "file_extension": ".py",
      "mimetype": "text/x-python",
      "name": "python",
      "nbconvert_exporter": "python",
      "pygments_lexer": "ipython3",
      "version": "3.7.3"
    },
    "colab": {
      "provenance": [],
      "collapsed_sections": [
        "bl3tjVBEEfPS",
        "KWqidJvbEfPS",
        "b8gd7AX4EfPT",
        "7eyKzf2OEfPT",
        "d5JgpWgkEfPU",
        "MLmaNowIEfPU"
      ]
    }
  },
  "nbformat": 4,
  "nbformat_minor": 0
}