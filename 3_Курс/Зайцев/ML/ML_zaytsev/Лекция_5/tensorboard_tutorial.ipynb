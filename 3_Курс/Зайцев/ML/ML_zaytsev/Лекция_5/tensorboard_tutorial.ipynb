{
 "cells": [
  {
   "cell_type": "markdown",
   "metadata": {},
   "source": [
    "# Зайцев Н. ПИ20-1В"
   ]
  },
  {
   "cell_type": "markdown",
   "metadata": {},
   "source": [
    "<h1 align='center'>  Использование TensorBoard в PyTorch</h1>"
   ]
  },
  {
   "cell_type": "markdown",
   "metadata": {},
   "source": [
    "Вы можете ознакомиться с работой этого кода на [`youtube`](https://www.youtube.com/watch?v=6CEld3hZgqc).\n",
    "\n",
    ".. raw:: html\n",
    "\n",
    "   <div style=\"margin-top:10px; margin-bottom:10px;\">\n",
    "     <iframe width=\"560\" height=\"315\" src=\"https://www.youtube.com/embed/6CEld3hZgqc\" frameborder=\"0\" allow=\"accelerometer; encrypted-media; gyroscope; picture-in-picture\" allowfullscreen></iframe>\n",
    "   </div>\n",
    "\n",
    "Установка TensorBoard\n",
    "----------------\n",
    "\n",
    "Чтобы запустить этот код, вам потребуется установить PyTorch, TorchVision, Matplotlib и TensorBoard.\n",
    "\n",
    "При помощи `conda`:\n",
    "\n",
    "`!conda install pytorch torchvision -c pytorch`\n",
    "`!conda install matplotlib tensorboard`\n",
    "\n",
    "При помощи `pip`:\n",
    "\n",
    "`!pip install torch torchvision matplotlib tensorboard`\n",
    "\n",
    "Как только зависимости будут установлены, перезапустите этот ноутбук в\n",
    "среде Python, в которой вы их установили.\n",
    "\n",
    "Введение\n",
    "------------ \n",
    "В этом блокноте мы будем тренировать вариант LeNet-5 по набору данных Fashion-MNIST. Fashion-MNIST - это набор изображений различных предметов одежды, с десятью этикетками классов, указывающими тип изображенной одежды."
   ]
  },
  {
   "cell_type": "code",
   "execution_count": 1,
   "metadata": {
    "jupyter": {
     "outputs_hidden": false
    }
   },
   "outputs": [
    {
     "name": "stderr",
     "output_type": "stream",
     "text": [
      "2023-06-19 23:33:02.598145: I tensorflow/core/platform/cpu_feature_guard.cc:182] This TensorFlow binary is optimized to use available CPU instructions in performance-critical operations.\n",
      "To enable the following instructions: AVX2 FMA, in other operations, rebuild TensorFlow with the appropriate compiler flags.\n"
     ]
    }
   ],
   "source": [
    "# нужно для моделей и их обучения в PyTorch\n",
    "import torch\n",
    "import torch.nn as nn\n",
    "import torch.nn.functional as F\n",
    "import torch.optim as optim\n",
    "\n",
    "# Наборы изображений и их преобразование\n",
    "import torchvision\n",
    "import torchvision.transforms as transforms\n",
    "\n",
    "# отображение и операции с матрицами\n",
    "import matplotlib.pyplot as plt\n",
    "import numpy as np\n",
    "\n",
    "# использование TensorBoard в PyTorch \n",
    "from torch.utils.tensorboard import SummaryWriter\n",
    "%load_ext tensorboard"
   ]
  },
  {
   "cell_type": "markdown",
   "metadata": {},
   "source": [
    "Изображения в TensorBoard\n",
    "-----------------------------\n",
    "Давайте начнем с добавления образцов изображений из нашего набора данных в TensorBoard:"
   ]
  },
  {
   "cell_type": "code",
   "execution_count": 2,
   "metadata": {
    "jupyter": {
     "outputs_hidden": false
    }
   },
   "outputs": [
    {
     "data": {
      "image/png": "[encoded data removed]",
      "text/plain": [
       "<Figure size 640x480 with 1 Axes>"
      ]
     },
     "metadata": {},
     "output_type": "display_data"
    }
   ],
   "source": [
    "# Собирайте наборы данных и готовьте их к использованию\n",
    "transform = transforms.Compose(\n",
    "    [transforms.ToTensor(),\n",
    "    transforms.Normalize((0.5,), (0.5,))])\n",
    "\n",
    "# Храните отдельные выборки для обучения и проверки в ./data\n",
    "training_set = torchvision.datasets.FashionMNIST('./data',\n",
    "    download=True,\n",
    "    train=True,\n",
    "    transform=transform)\n",
    "validation_set = torchvision.datasets.FashionMNIST('./data',\n",
    "    download=True,\n",
    "    train=False,\n",
    "    transform=transform)\n",
    "\n",
    "training_loader = torch.utils.data.DataLoader(training_set,\n",
    "                                              batch_size=4,\n",
    "                                              shuffle=True,\n",
    "                                              num_workers=2)\n",
    "\n",
    "\n",
    "validation_loader = torch.utils.data.DataLoader(validation_set,\n",
    "                                                batch_size=4,\n",
    "                                                shuffle=False,\n",
    "                                                num_workers=2)\n",
    "\n",
    "# Метки классов\n",
    "classes = ('T-shirt/top', 'Trouser', 'Pullover', 'Dress', 'Coat',\n",
    "        'Sandal', 'Shirt', 'Sneaker', 'Bag', 'Ankle Boot')\n",
    "\n",
    "# Функция, способствующая просмотру изображений\n",
    "def matplotlib_imshow(img, one_channel=False):\n",
    "    if one_channel:\n",
    "        img = img.mean(dim=0)\n",
    "    img = img / 2 + 0.5     # unnormalize\n",
    "    npimg = img.numpy()\n",
    "    if one_channel:\n",
    "        plt.imshow(npimg, cmap=\"Greys\")\n",
    "    else:\n",
    "        plt.imshow(np.transpose(npimg, (1, 2, 0)))\n",
    "\n",
    "# Извлечение пакета 4 изображений\n",
    "dataiter = iter(training_loader)\n",
    "images, labels = next(dataiter)\n",
    "\n",
    "# Создание решетки изображений и их отображение\n",
    "img_grid = torchvision.utils.make_grid(images)\n",
    "matplotlib_imshow(img_grid, one_channel=True)"
   ]
  },
  {
   "cell_type": "markdown",
   "metadata": {},
   "source": [
    "Выше мы использовали Torch Vision и Matplotlib для создания визуальной сетки\n",
    "мини-пакета наших входных данных. Ниже мы используем вызов `add_image()` для\n",
    "`SummaryWriter`, чтобы записать изображение для использования TensorBoard, и\n",
    "мы также вызываем `flush()`, чтобы убедиться, что оно сразу записано на диск."
   ]
  },
  {
   "cell_type": "code",
   "execution_count": 5,
   "metadata": {
    "jupyter": {
     "outputs_hidden": false
    }
   },
   "outputs": [],
   "source": [
    "# Аргумент log_dir по умолчанию - \"runs\", но хорошо бы чтоб он был конкретным\n",
    "# torch.utils.tensorboard.SummaryWriter импортирован выше\n",
    "writer = SummaryWriter('runs/fashion_mnist_experiment_1')\n",
    "\n",
    "# Запись данных изображения в log dir TensorBoard\n",
    "writer.add_image('Four Fashion-MNIST Images', img_grid)\n",
    "writer.flush()\n",
    "\n",
    "# To view, start TensorBoard on the command line with:\n",
    "#   tensorboard --logdir=runs\n",
    "# ...and open a browser tab to http://localhost:6006/"
   ]
  },
  {
   "cell_type": "code",
   "execution_count": 20,
   "metadata": {},
   "outputs": [
    {
     "data": {
      "text/plain": [
       "Reusing TensorBoard on port 6006 (pid 10916), started 0:11:01 ago. (Use '!kill 10916' to kill it.)"
      ]
     },
     "metadata": {},
     "output_type": "display_data"
    },
    {
     "data": {
      "text/html": [
       "\n",
       "      <iframe id=\"tensorboard-frame-93eecf1548535dd3\" width=\"100%\" height=\"800\" frameborder=\"0\">\n",
       "      </iframe>\n",
       "      <script>\n",
       "        (function() {\n",
       "          const frame = document.getElementById(\"tensorboard-frame-93eecf1548535dd3\");\n",
       "          const url = new URL(\"/\", window.location);\n",
       "          const port = 6006;\n",
       "          if (port) {\n",
       "            url.port = port;\n",
       "          }\n",
       "          frame.src = url;\n",
       "        })();\n",
       "      </script>\n",
       "    "
      ],
      "text/plain": [
       "<IPython.core.display.HTML object>"
      ]
     },
     "metadata": {},
     "output_type": "display_data"
    }
   ],
   "source": [
    "%tensorboard --logdir runs"
   ]
  },
  {
   "cell_type": "markdown",
   "metadata": {},
   "source": [
    "Если вы запустите TensorBoard в командной строке и откроете его на новой вкладке браузера (обычно на [`localhost:6006`](http://localhost:6006), вы должны увидеть сетку изображений на вкладке IMAGES."
   ]
  },
  {
   "cell_type": "markdown",
   "metadata": {},
   "source": [
    "## Задание 1\n",
    "Выполните загрузку данных из набора данных MNIST и проведите эксперимент по визуализации данных в Tensorboard."
   ]
  },
  {
   "cell_type": "code",
   "execution_count": 7,
   "metadata": {},
   "outputs": [],
   "source": [
    "import torch\n",
    "import torchvision\n",
    "import torchvision.transforms as transforms\n",
    "from torch.utils.tensorboard import SummaryWriter"
   ]
  },
  {
   "cell_type": "code",
   "execution_count": 8,
   "metadata": {},
   "outputs": [],
   "source": [
    "transform = transforms.Compose(\n",
    "    [transforms.ToTensor(),\n",
    "     transforms.Normalize((0.5,), (0.5,))])"
   ]
  },
  {
   "cell_type": "code",
   "execution_count": 9,
   "metadata": {},
   "outputs": [],
   "source": [
    "trainset = torchvision.datasets.MNIST(root='./data', train=True,\n",
    "                                      download=True, transform=transform)\n",
    "testset = torchvision.datasets.MNIST(root='./data', train=False,\n",
    "                                     download=True, transform=transform)"
   ]
  },
  {
   "cell_type": "code",
   "execution_count": 10,
   "metadata": {},
   "outputs": [],
   "source": [
    "trainloader = torch.utils.data.DataLoader(trainset, batch_size=32,\n",
    "                                          shuffle=True, num_workers=2)\n",
    "testloader = torch.utils.data.DataLoader(testset, batch_size=32,\n",
    "                                         shuffle=False, num_workers=2)"
   ]
  },
  {
   "cell_type": "code",
   "execution_count": 11,
   "metadata": {},
   "outputs": [],
   "source": [
    "def visualize_data(writer, loader, name):\n",
    "    dataiter = iter(loader)\n",
    "    images, labels = next(dataiter)\n",
    "    img_grid = torchvision.utils.make_grid(images)\n",
    "    writer.add_image(name, img_grid)"
   ]
  },
  {
   "cell_type": "code",
   "execution_count": 12,
   "metadata": {},
   "outputs": [],
   "source": [
    "writer = SummaryWriter()\n",
    "visualize_data(writer, trainloader, \"Training data\")\n",
    "visualize_data(writer, testloader, \"Test data\")\n",
    "writer.close()"
   ]
  },
  {
   "cell_type": "markdown",
   "metadata": {},
   "source": [
    "Построение графиков скаляров для визуализации обучения\n",
    "--------------------------------------\n",
    "\n",
    "TensorBoard полезна для отслеживания прогресса и эффективности вашего\n",
    "обучения. Ниже мы запустим цикл обучения, отследим некоторые показатели и сохраним\n",
    "данные для использования TensorBoard.\n",
    "\n",
    "Давайте определим модель для классификации наших изображений, а также оптимизатор и\n",
    "функцию ошибки для обучения:"
   ]
  },
  {
   "cell_type": "code",
   "execution_count": 13,
   "metadata": {
    "jupyter": {
     "outputs_hidden": false
    }
   },
   "outputs": [],
   "source": [
    "class Net(nn.Module):\n",
    "    def __init__(self):\n",
    "        super(Net, self).__init__()\n",
    "        self.conv1 = nn.Conv2d(1, 6, 5)\n",
    "        self.pool = nn.MaxPool2d(2, 2)\n",
    "        self.conv2 = nn.Conv2d(6, 16, 5)\n",
    "        self.fc1 = nn.Linear(16 * 4 * 4, 120)\n",
    "        self.fc2 = nn.Linear(120, 84)\n",
    "        self.fc3 = nn.Linear(84, 10)\n",
    "\n",
    "    def forward(self, x):\n",
    "        x = self.pool(F.relu(self.conv1(x)))\n",
    "        x = self.pool(F.relu(self.conv2(x)))\n",
    "        x = x.view(-1, 16 * 4 * 4)\n",
    "        x = F.relu(self.fc1(x))\n",
    "        x = F.relu(self.fc2(x))\n",
    "        x = self.fc3(x)\n",
    "        return x\n",
    "    \n",
    "\n",
    "net = Net()\n",
    "criterion = nn.CrossEntropyLoss()\n",
    "optimizer = optim.SGD(net.parameters(), lr=0.001, momentum=0.9)"
   ]
  },
  {
   "cell_type": "markdown",
   "metadata": {},
   "source": [
    "Теперь давайте обучим одну эпоху и оценим\n",
    "потери набора обучения и проверки каждые 1000 пакетов:"
   ]
  },
  {
   "cell_type": "code",
   "execution_count": 14,
   "metadata": {
    "jupyter": {
     "outputs_hidden": false
    }
   },
   "outputs": [
    {
     "name": "stdout",
     "output_type": "stream",
     "text": [
      "2500\n",
      "Batch 1000\n",
      "Batch 2000\n",
      "Batch 3000\n",
      "Batch 4000\n",
      "Batch 5000\n",
      "Batch 6000\n",
      "Batch 7000\n",
      "Batch 8000\n",
      "Batch 9000\n",
      "Batch 10000\n",
      "Batch 11000\n",
      "Batch 12000\n",
      "Batch 13000\n",
      "Batch 14000\n",
      "Batch 15000\n",
      "Finished Training\n"
     ]
    }
   ],
   "source": [
    "print(len(validation_loader))\n",
    "for epoch in range(1): \n",
    "    running_loss = 0.0\n",
    "\n",
    "    for i, data in enumerate(training_loader, 0):\n",
    "        inputs, labels = data\n",
    "        optimizer.zero_grad()\n",
    "        outputs = net(inputs)\n",
    "        loss = criterion(outputs, labels)\n",
    "        loss.backward()\n",
    "        optimizer.step()\n",
    "\n",
    "        running_loss += loss.item()\n",
    "        if i % 1000 == 999:\n",
    "            print('Batch {}'.format(i + 1))\n",
    "            running_vloss = 0.0\n",
    "            \n",
    "            net.train(False)\n",
    "            for j, vdata in enumerate(validation_loader, 0):\n",
    "                vinputs, vlabels = vdata\n",
    "                voutputs = net(vinputs)\n",
    "                vloss = criterion(voutputs, vlabels)\n",
    "                running_vloss += vloss.item()\n",
    "            net.train(True)\n",
    "            \n",
    "            avg_loss = running_loss / 1000\n",
    "            avg_vloss = running_vloss / len(validation_loader)\n",
    "            \n",
    "            writer.add_scalars('Training vs. Validation Loss',\n",
    "                            { 'Training' : avg_loss, 'Validation' : avg_vloss },\n",
    "                            epoch * len(training_loader) + i)\n",
    "\n",
    "            running_loss = 0.0\n",
    "print('Finished Training')\n",
    "\n",
    "writer.flush()"
   ]
  },
  {
   "cell_type": "markdown",
   "metadata": {},
   "source": [
    "Переключитесь на открытую TensorBoard и посмотрите на вкладку SCALARS. "
   ]
  },
  {
   "cell_type": "markdown",
   "metadata": {},
   "source": [
    "## Задание 2\n",
    "Выполните классификацию данных MNIST описанной выше моделью и продолжите визуализацию обучения модели для эксперимента из Задания 1. "
   ]
  },
  {
   "cell_type": "code",
   "execution_count": 16,
   "metadata": {},
   "outputs": [],
   "source": [
    "class Net(nn.Module):\n",
    "    def __init__(self):\n",
    "        super(Net, self).__init__()\n",
    "        self.conv1 = nn.Conv2d(1, 6, 5)\n",
    "        self.pool = nn.MaxPool2d(2, 2)\n",
    "        self.conv2 = nn.Conv2d(6, 16, 5)\n",
    "        self.fc1 = nn.Linear(16 * 4 * 4, 120)\n",
    "        self.fc2 = nn.Linear(120, 84)\n",
    "        self.fc3 = nn.Linear(84, 10)\n",
    "\n",
    "    def forward(self, x):\n",
    "        x = self.pool(F.relu(self.conv1(x)))\n",
    "        x = self.pool(F.relu(self.conv2(x)))\n",
    "        x = x.view(-1, 16 * 4 * 4)\n",
    "        x = F.relu(self.fc1(x))\n",
    "        x = F.relu(self.fc2(x))\n",
    "        x = self.fc3(x)\n",
    "        return x\n",
    "    \n",
    "\n",
    "net = Net()\n",
    "criterion = nn.CrossEntropyLoss()\n",
    "optimizer = optim.SGD(net.parameters(), lr=0.001, momentum=0.9)"
   ]
  },
  {
   "cell_type": "code",
   "execution_count": 17,
   "metadata": {},
   "outputs": [
    {
     "name": "stdout",
     "output_type": "stream",
     "text": [
      "Epoch [1] training loss: 0.562, validation loss: 0.259\n",
      "Epoch [2] training loss: 0.123, validation loss: 0.127\n",
      "Epoch [3] training loss: 0.084, validation loss: 0.087\n",
      "Epoch [4] training loss: 0.067, validation loss: 0.060\n",
      "Epoch [5] training loss: 0.053, validation loss: 0.055\n",
      "Epoch [6] training loss: 0.049, validation loss: 0.045\n",
      "Epoch [7] training loss: 0.046, validation loss: 0.044\n",
      "Epoch [8] training loss: 0.041, validation loss: 0.038\n",
      "Epoch [9] training loss: 0.038, validation loss: 0.039\n",
      "Epoch [10] training loss: 0.035, validation loss: 0.037\n"
     ]
    }
   ],
   "source": [
    "from torch.utils.tensorboard import SummaryWriter\n",
    "\n",
    "writer = SummaryWriter()\n",
    "\n",
    "for epoch in range(10):\n",
    "    running_loss = 0.0\n",
    "    for i, data in enumerate(trainloader, 0):\n",
    "        inputs, labels = data\n",
    "        optimizer.zero_grad()\n",
    "        outputs = net(inputs)\n",
    "        loss = nn.functional.cross_entropy(outputs, labels)\n",
    "        loss.backward()\n",
    "        optimizer.step()\n",
    "        running_loss += loss.item()\n",
    "        if i % 1000 == 999:\n",
    "            running_loss = 0.0\n",
    "\n",
    "    val_loss = 0.0\n",
    "    with torch.no_grad():\n",
    "        for data in testloader:\n",
    "            inputs, labels = data\n",
    "            outputs = net(inputs)\n",
    "            val_loss += nn.functional.cross_entropy(outputs, labels).item()\n",
    "    val_loss /= len(testloader)\n",
    "    print(f\"Epoch [{epoch + 1}] training loss: {running_loss / 1000:.3f}, validation loss: {val_loss:.3f}\")\n",
    "\n",
    "    writer.add_scalars('Train. vs. Val. Loss - MNIST Classification',\n",
    "                { 'Training' : running_loss / 1000, 'Validation' : val_loss },\n",
    "                epoch * len(trainloader) + i)\n",
    "\n",
    "writer.close()"
   ]
  },
  {
   "cell_type": "markdown",
   "metadata": {
    "tags": []
   },
   "source": [
    "Визуализация модели\n",
    "----------------------\n",
    "\n",
    "TensorBoard также можно использовать для изучения потока данных в вашей модели.\n",
    "Для этого вызовите метод `add_graph()` с вводом модели и образца. Когда вы открываете\n",
    "\n"
   ]
  },
  {
   "cell_type": "code",
   "execution_count": 18,
   "metadata": {
    "jupyter": {
     "outputs_hidden": false
    }
   },
   "outputs": [],
   "source": [
    "# Опять же, возьмите один мини-пакет изображений\n",
    "dataiter = iter(training_loader)\n",
    "images, labels =  next(dataiter)\n",
    "\n",
    "# add_graph() будет отслеживать ввод образца через вашу модель,\n",
    "# и визуализируйте его в виде графика.\n",
    "writer.add_graph(net, images)\n",
    "writer.flush()"
   ]
  },
  {
   "cell_type": "markdown",
   "metadata": {},
   "source": [
    "Когда вы переключитесь на TensorBoard, вы должны увидеть вкладку GRAPHS. Дважды щелкните узел “NET”, чтобы увидеть слои и поток данных в вашей модели.\n",
    "\n",
    "Визуализация Вашего набора данных с помощью Embeddings\n",
    "----------------------------------------\n",
    "Изображения с разрешением 28 на 28, которые мы используем, могут быть смоделированы как 784-мерные векторы (28\\*28 = 784). Может быть поучительно спроецировать это на представление в более\n",
    "низком измерении. Метод `add_embedding()` проецирует набор данных на три измерения с наибольшей дисперсией и отображает их в виде интерактивной 3D-диаграммы. Функция `add_embedding()`\n",
    "метод делает это автоматически, проецируя в три измерения\n",
    "с наибольшей дисперсией.\n",
    "\n",
    "Ниже мы возьмем образец наших данных и создадим такое вложение:"
   ]
  },
  {
   "cell_type": "code",
   "execution_count": 19,
   "metadata": {
    "jupyter": {
     "outputs_hidden": false
    }
   },
   "outputs": [],
   "source": [
    "# Select a random subset of data and corresponding labels\n",
    "def select_n_random(data, labels, n=100):\n",
    "    assert len(data) == len(labels)\n",
    "\n",
    "    perm = torch.randperm(len(data))\n",
    "    return data[perm][:n], labels[perm][:n]\n",
    "\n",
    "# Extract a random subset of data\n",
    "images, labels = select_n_random(training_set.data, training_set.targets)\n",
    "\n",
    "# get the class labels for each image\n",
    "class_labels = [classes[label] for label in labels]\n",
    "\n",
    "# log embeddings\n",
    "features = images.view(-1, 28 * 28)\n",
    "writer.add_embedding(features,\n",
    "                    metadata=class_labels, global_step=1,\n",
    "                    label_img=images.unsqueeze(1))\n",
    "writer.flush()\n",
    "#writer.close()"
   ]
  },
  {
   "cell_type": "markdown",
   "metadata": {},
   "source": [
    "На сегодняшний день функция перестала работать `add_embedding()`. Будем надеяться, что это явление временное. При работе функции, если вы переключитесь на TensorBoard и выберете вкладку PROJECTOR, вы увидите 3D-представление проекции. Вы можете поворачивать и масштабировать модель. Изучите его в больших и малых масштабах и посмотрите, сможете ли вы обнаружить закономерности в проецируемых данных и кластеризации меток. В принципе проектор можно создать и средствами библиотеки `Tensorflow`.\n",
    "\n",
    "Для лучшей видимости рекомендуется:\n",
    "\n",
    "- Выберите “label” в раскрывающемся списке “Color by” слева.\n",
    "- Переключите значок ночного режима вверху, чтобы разместить светлые изображения на темном фоне.\n",
    "\n",
    "Другие ссылки\n",
    "---------------\n",
    "\n",
    "Для получения дополнительной информации ознакомьтесь с:\n",
    "\n",
    "- PyTorch документация [`torch.utils.tensorboard.SummaryWriter`](https://pytorch.org/docs/stable/tensorboard.html?highlight=summarywriter)\n",
    "- Tensorboard обучающий материал [`PyTorch.org Tutorials`](https://pytorch.org/tutorials/)\n",
    "- Для большей информации по TensorBoard, см. [`TensorBoard\n",
    "  documentation`](https://www.tensorflow.org/tensorboard)\n",
    "\n"
   ]
  }
 ],
 "metadata": {
  "kernelspec": {
   "display_name": "Python 3 (ipykernel)",
   "language": "python",
   "name": "python3"
  },
  "language_info": {
   "codemirror_mode": {
    "name": "ipython",
    "version": 3
   },
   "file_extension": ".py",
   "mimetype": "text/x-python",
   "name": "python",
   "nbconvert_exporter": "python",
   "pygments_lexer": "ipython3",
   "version": "3.10.7"
  },
  "nbTranslate": {
   "displayLangs": [
    "*"
   ],
   "hotkey": "alt-t",
   "langInMainMenu": true,
   "sourceLang": "en",
   "targetLang": "fr",
   "useGoogleTranslate": true
  }
 },
 "nbformat": 4,
 "nbformat_minor": 4
}
