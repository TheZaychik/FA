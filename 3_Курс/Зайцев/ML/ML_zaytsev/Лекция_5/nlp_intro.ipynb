{
 "cells": [
  {
   "cell_type": "markdown",
   "metadata": {},
   "source": [
    "# Зайцев Н. ПИ20-1В"
   ]
  },
  {
   "cell_type": "markdown",
   "metadata": {},
   "source": [
    "# 1. Обработка естественного языка (NLP)"
   ]
  },
  {
   "cell_type": "markdown",
   "metadata": {},
   "source": [
    "## Что можно сделать с NLP?"
   ]
  },
  {
   "cell_type": "markdown",
   "metadata": {},
   "source": [
    "NLP - это обширная область, охватывающая множество задач, в том числе:\n",
    "\n",
    "- Пометка части речи: определите, является ли каждое слово существительным, глаголом, прилагательным и т.д.)\n",
    "- Распознавание именованных объектов (NER): идентификация имен лиц, организаций, местоположений, медицинских кодов, выражений времени, количеств, денежных значений и т. д.)\n",
    "- Ответы на вопросы\n",
    "- Распознавание речи\n",
    "- Преобразование текста в речь и преобразование речи в текст\n",
    "- Тематическое моделирование\n",
    "- Классификация настроений\n",
    "- Языковое моделирование\n",
    "- Перевод"
   ]
  },
  {
   "cell_type": "markdown",
   "metadata": {},
   "source": [
    "Многие техники NLP полезны в самых разных местах, например, у вас может быть текст в табличных данных."
   ]
  },
  {
   "cell_type": "markdown",
   "metadata": {},
   "source": [
    "Существуют также интересные методы, которые позволяют вам переходить от текста к изображениям:\n",
    "\n",
    "<img src=\"images/tench-net.png\" alt=\"\" style=\"width: 65%\"/>"
   ]
  },
  {
   "cell_type": "markdown",
   "metadata": {},
   "source": [
    "## Содержание"
   ]
  },
  {
   "cell_type": "markdown",
   "metadata": {},
   "source": [
    "В этом курсе мы рассмотрим следующие приложения:\n",
    "- Тематическое моделирование\n",
    "- Классификация настроений\n",
    "- Языковое моделирование\n",
    "- Перевод"
   ]
  },
  {
   "cell_type": "markdown",
   "metadata": {},
   "source": [
    "### Обучение \"сверху вниз\""
   ]
  },
  {
   "cell_type": "markdown",
   "metadata": {},
   "source": [
    "Воспользуемся методом обучения \"сверху вниз\", который отличается от того, как работают большинство курсов математики.  Как правило, при подходе \"снизу вверх\" вы сначала изучаете все отдельные компоненты, которые будете использовать, а затем постепенно объединяете их в более сложные структуры.  Проблемы с этим заключаются в том, что студенты часто теряют мотивацию, не имеют представления о \"общей картине\" и не знают, что им понадобится.\n",
    "\n",
    "Если бы вы прошли курс глубокого обучения fast.ai, вот что мы использовали.  Вы можете узнать больше о этой философии преподавания [в этом посте в блоге](http://www.fast.ai/2016/10/08/teaching-philosophy/) или [в этом выступлении](https://vimeo.com/214233053).\n",
    "\n",
    "У профессора Гарварда Дэвида Перкинса есть книга [Как сделать обучение целостным](https://www.amazon.com/Making-Learning-Whole-Principles-Transform/dp/0470633719), в котором он использует бейсбол в качестве аналогии.  Мы не требуем, чтобы дети запоминали все правила бейсбола и понимали все технические детали, прежде чем мы позволим им играть в игру.  Скорее, они начинают играть с общим пониманием этого, а затем постепенно изучают больше правил/деталей с течением времени.\n",
    "\n",
    "Все это говорит о том, что не волнуйтесь, если вы сначала не все поймете!  Ты не должен этого делать.  Мы начнем использовать некоторые \"черные ящики\", которые еще не были объяснены, а затем мы углубимся в детали более низкого уровня позже. Цель состоит в том, чтобы получить опыт работы с интересными приложениями, что со временем побудит вас узнать больше о базовых структурах.\n",
    "\n",
    "Для начала сосредоточьтесь на том, что делают вещи, а не на том, что они собой представляют."
   ]
  },
  {
   "cell_type": "markdown",
   "metadata": {},
   "source": [
    "## Изменение в области знаний"
   ]
  },
  {
   "cell_type": "markdown",
   "metadata": {},
   "source": [
    "Исторически сложилось так, что NLP изначально опиралось на жестко закодированные правила, касающиеся языка. В 90-х годах произошел переход к использованию подходов к статистическому и машинному обучению, но сложность естественного языка означала, что простые статистические подходы часто не были современными. В настоящее время мы находимся в разгаре серьезных изменений в переходе к нейронным сетям. Поскольку глубокое обучение допускает гораздо большую сложность, в настоящее время оно позволяет достичь самых современных результатов во многих областях.\n",
    "\n",
    "Подход не обязательно должен быть двоичным: есть возможность сочетать глубокое обучение с подходами, основанными на правилах."
   ]
  },
  {
   "cell_type": "markdown",
   "metadata": {},
   "source": [
    "### Тематическое исследование: проверка орфографии"
   ]
  },
  {
   "cell_type": "markdown",
   "metadata": {},
   "source": [
    "Пример Peter Norvig: "
   ]
  },
  {
   "cell_type": "markdown",
   "metadata": {},
   "source": [
    "Исторически сложилось так, что для проверки орфографии требовались тысячи строк жестко закодированных правил:\n",
    "\n",
    "<img src=\"images/spellchecker1.png\" alt=\"\" style=\"width: 60%\"/>"
   ]
  },
  {
   "cell_type": "markdown",
   "metadata": {},
   "source": [
    "Версия, которая использует исторические данные и вероятности, может быть написана в гораздо меньшем количестве строк:\n",
    "\n",
    "<img src=\"images/spellchecker2.png\" alt=\"\" style=\"width: 60%\"/>\n",
    "\n",
    "[Подробнее см. тут](http://norvig.com/spell-correct.html). "
   ]
  },
  {
   "cell_type": "markdown",
   "metadata": {},
   "source": [
    "### Тематика в развитии"
   ]
  },
  {
   "cell_type": "markdown",
   "metadata": {},
   "source": [
    "Эта область все еще находится в состоянии постоянного изменения, и лучшие практики меняются."
   ]
  },
  {
   "cell_type": "markdown",
   "metadata": {},
   "source": [
    "<img src=\"images/skomoroch.png\" alt=\"\" style=\"width: 60%\"/>"
   ]
  },
  {
   "cell_type": "markdown",
   "metadata": {},
   "source": [
    "### Дискуссия Norvig с Chomsky"
   ]
  },
  {
   "cell_type": "markdown",
   "metadata": {},
   "source": [
    "Эта \"дискуссия\" отражает напряженность между двумя подходами:\n",
    "\n",
    "- моделирование основного механизма явления\n",
    "- использование машинного обучения для прогнозирования результатов (без обязательного понимания механизмов, которые их создают)\n",
    "\n",
    "\n",
    "Это напряжение все еще очень сильно присутствует в NLP (и во многих областях, в которых внедряется машинное обучение, а также в подходах к \"искусственному интеллекту\" в целом)."
   ]
  },
  {
   "cell_type": "markdown",
   "metadata": {},
   "source": [
    "Справочная информация: Noam Chomsky - почетный профессор Массачусетского технологического института, отец современной лингвистики, один из основателей когнитивной науки, написал более 100 книг. Peter Norvig - директор по исследованиям в Google."
   ]
  },
  {
   "cell_type": "markdown",
   "metadata": {},
   "source": [
    "Из [MIT Tech Review coverage](https://www.technologyreview.com/s/423917/unthinking-machines/) заседание в MIT в 2011:\n",
    "\n",
    "\"Хомский высмеял исследователей в области машинного обучения, которые используют чисто статистические методы для создания поведения, имитирующего что-то в мире, но которые не пытаются понять значение этого поведения. Хомский сравнил таких исследователей с учеными, которые могли бы изучать танец пчелы, возвращающейся в улей, и которые могли бы создать статистически обоснованную симуляцию такого танца, не пытаясь понять, почему пчела вела себя таким образом. “Это очень новое понятие научного успеха. Я не знаю ничего подобного в истории науки”, - сказал Хомский.\""
   ]
  },
  {
   "cell_type": "markdown",
   "metadata": {},
   "source": [
    "Из ответа Norvig [On Chomsky and the Two Cultures of Statistical Learning](http://norvig.com/chomsky.html):\n",
    "\n",
    "\"Breiman приглашает нас отказаться от идеи о том, что мы можем уникальным образом моделировать истинную основную форму функции природы от входов к выходам. Вместо этого он просит нас удовлетвориться функцией, которая хорошо учитывает наблюдаемые данные и хорошо обобщает новые, ранее невидимые данные, но может быть выражена в сложной математической форме, которая может не иметь никакого отношения к форме \"истинной\" функции (если такая истинная функция вообще существует). Хомский придерживается противоположного подхода: он предпочитает придерживаться простой, элегантной модели и отказывается от идеи, что модель будет хорошо представлять данные\"."
   ]
  },
  {
   "cell_type": "markdown",
   "metadata": {},
   "source": [
    "- [Noam Chomsky on Where Artificial Intelligence Went Wrong: An extended conversation with the legendary linguist](https://www.theatlantic.com/technology/archive/2012/11/noam-chomsky-on-where-artificial-intelligence-went-wrong/261637/)\n",
    "- [Norvig vs. Chomsky and the Fight for the Future of AI](https://www.tor.com/2011/06/21/norvig-vs-chomsky-and-the-fight-for-the-future-of-ai/)"
   ]
  },
  {
   "cell_type": "markdown",
   "metadata": {},
   "source": [
    "### Дискуссия Yann LeCun с Chris Manning"
   ]
  },
  {
   "cell_type": "markdown",
   "metadata": {},
   "source": [
    "Еще одна интересная дискуссия на тему о том, сколько языковой структуры следует включить в модели NLP, проходит между Yann LeCun и Chris Manning:"
   ]
  },
  {
   "cell_type": "markdown",
   "metadata": {},
   "source": [
    "[Deep Learning, Structure and Innate Priors: A Discussion between Yann LeCun and Christopher Manning](http://www.abigailsee.com/2018/02/21/deep-learning-structure-and-innate-priors.html):\n",
    "\n",
    "*С одной стороны, Manning является видным сторонником включения большей лингвистической структуры в системы глубокого обучения. С другой стороны, LeCun является ведущим сторонником способности простых, но мощных нейронных архитектур выполнять сложные задачи без обширной разработки функций для конкретных задач. По этой причине ожидание разногласий между ними было высоким, и один комментатор в Твиттере описал это событие как “эквивалент ИИ Бэтмена против Супермена”.*\n",
    "\n",
    "...\n",
    "\n",
    "*Manning описал структуру как “необходимое благо” (9:14), утверждая, что мы должны позитивно относиться к структуре как к хорошему дизайнерскому решению. В частности, структура позволяет нам проектировать системы, которые могут извлекать больше информации из меньшего количества данных и на более высоком уровне абстракции по сравнению с системами без структуры.*\n",
    "\n",
    "*И наоборот, LeCun описал структуру как “необходимое зло” (2:44) и предупредил, что навязывание структуры требует от нас определенных предположений, которые неизменно неверны по крайней мере для некоторой части данных и могут устареть в ближайшем будущем. В качестве примера он предположил, что ConvNets могут устареть через 10 лет (29:57).*"
   ]
  },
  {
   "cell_type": "markdown",
   "metadata": {},
   "source": [
    "## Информационные ресурсы"
   ]
  },
  {
   "cell_type": "markdown",
   "metadata": {},
   "source": [
    "**Книги**\n",
    "\n",
    "В курсе не будет использоваться учебник, хотя есть несколько полезных ссылок::\n",
    "\n",
    "- [**Speech and Language Processing**](https://web.stanford.edu/~jurafsky/slp3/), by Dan Jurafsky and James H. Martin (free PDF)\n",
    "\n",
    "- [**Introduction to Information Retrieval**](https://nlp.stanford.edu/IR-book/html/htmledition/irbook.html) by By Christopher D. Manning, Prabhakar Raghavan, and Hinrich Schütze (free online)\n",
    "\n",
    "- [**Natural Language Processing with PyTorch**](https://learning.oreilly.com/library/view/natural-language-processing/9781491978221/) by Brian McMahan and Delip Rao (need to purchase or have O'Reilly Safari account) \n",
    "\n",
    "**Блоги**\n",
    "\n",
    "Хорошие посвященные NLP блоги:\n",
    "- [Sebastian Ruder](http://ruder.io/)\n",
    "- [Joyce Xu](https://medium.com/@joycex99)\n",
    "- [Jay Alammar](https://jalammar.github.io/)\n",
    "- [Stephen Merity](https://smerity.com/articles/articles.html)\n",
    "- [Rachael Tatman](https://towardsdatascience.com/evaluating-text-output-in-nlp-bleu-at-your-own-risk-e8609665a213)"
   ]
  },
  {
   "cell_type": "markdown",
   "metadata": {},
   "source": [
    "## Используемые в NLP методики"
   ]
  },
  {
   "cell_type": "markdown",
   "metadata": {},
   "source": [
    "- Регулярные выражения (пример: найдите все телефонные номера: 123-456-7890, (123) 456-7890 и т.д.)\n",
    "- Маркировка(tokenization): разделение текста на значимые единицы (имеет другое значение в плане безопасности)\n",
    "- Встраивание слов в математическую модель (embeddings)\n",
    "- Линейная алгебра/матричная декомпозиция\n",
    "- Нейронные сети\n",
    "- Скрытые Модели Маркова\n",
    "- Разбор деревьев\n",
    "\n",
    "Пример из http://damir.cavar.me/charty/python/: \"She killed the man with the tie.\"\n",
    "\n",
    "Was the man wearing the tie?\n",
    "<img src=\"images/parse2.png\" alt=\"\" style=\"width: 60%\"/>\n",
    "\n",
    "Or was the tie the murder weapon?\n",
    "<img src=\"images/parse1.png\" alt=\"\" style=\"width: 60%\"/>"
   ]
  },
  {
   "cell_type": "markdown",
   "metadata": {},
   "source": [
    "## Библиотеки Python"
   ]
  },
  {
   "cell_type": "markdown",
   "metadata": {},
   "source": [
    "- [nltk](https://www.nltk.org/): год выпуска 2001, очень обширная библиотека NLP\n",
    "- [spaCy](https://spacy.io/): создает деревья парсинга, мощный tokenizer\n",
    "- [gensim](https://radimrehurek.com/gensim/): тематическое моделирование и сравнительный анализ\n",
    "специальные библиотеки:\n",
    "- [PyText](https://pytext-pytext.readthedocs-hosted.com/en/latest/)\n",
    "- [fastText](https://fasttext.cc/) содержит библиотеку алгоритмов встраивания\n",
    "\n",
    "общие ML/DL библиотеки с инструментами для текста:\n",
    "- [sklearn](https://scikit-learn.org/stable/): Python ML библиотека общего назначения\n",
    "- [fastai](https://docs.fast.ai/): Быстрые и точные нейронные сети, использующие современный лучшие алгоритмы на основе PyTorch"
   ]
  },
  {
   "cell_type": "markdown",
   "metadata": {},
   "source": [
    "Некоторые вещи, которые вы можете сделать с помощью NLP:\n",
    "\n",
    "- [How Quid uses deep learning with small data](https://quid.com/feed/how-quid-uses-deep-learning-with-small-data): У Quid есть база данных описаний компаний, и она необходима для выявления описаний компаний низкого качества (слишком много общего маркетингового языка).\n",
    "\n",
    "<img src=\"images/quid1.png\" alt=\"\" style=\"width: 65%\"/>"
   ]
  },
  {
   "cell_type": "markdown",
   "metadata": {},
   "source": [
    "- Классификатор юридических текстов с точной настройкой универсальной языковой модели: Студент юридического факультета в Сингапуре классифицировал юридические документы по категориям (гражданские, уголовные, контрактные, семейные, деликтные,...)\n",
    "\n",
    "<img src=\"images/lim-how-kang-1.png\" alt=\"\" style=\"width: 65%\"/>\n",
    "<img src=\"images/lim-how-kang-2.png\" alt=\"\" style=\"width: 65%\"/>"
   ]
  },
  {
   "cell_type": "markdown",
   "metadata": {},
   "source": [
    "- [Democrats ‘went low’ on Twitter leading up to 2018](https://www.rollcall.com/news/campaigns/lead-midterms-twitter-republicans-went-high-democrats-went-low): Аспиранты факультета журналистики проанализировали настроения политиков в твиттере\n",
    "\n",
    "<img src=\"images/floris-wu.png\" alt=\"\" style=\"width: 65%\"/>"
   ]
  },
  {
   "cell_type": "markdown",
   "metadata": {},
   "source": [
    "- [Introducing Metadata Enhanced ULMFiT](https://www.novetta.com/2019/03/introducing_me_ulmfit/), классификация цитат из статей.  Использует метаданные (такие как публикация, страна и источник) вместе с текстом цитаты для повышения точности классификатора.\n",
    "\n",
    "<img src=\"images/novetta1.png\" alt=\"\" style=\"width: 65%\"/>"
   ]
  },
  {
   "cell_type": "markdown",
   "metadata": {},
   "source": [
    "### Дополнительные материалы"
   ]
  },
  {
   "cell_type": "markdown",
   "metadata": {},
   "source": [
    "<img src=\"images/google-translate.png\" alt=\"\" style=\"width: 65%\"/>"
   ]
  },
  {
   "cell_type": "markdown",
   "metadata": {},
   "source": [
    "- [How Vector Space Mathematics Reveals the Hidden Sexism in Language](https://www.technologyreview.com/s/602025/how-vector-space-mathematics-reveals-the-hidden-sexism-in-language/)\n",
    "- [Semantics derived automatically from language corpora contain human-like biases](https://arxiv.org/abs/1608.07187)\n",
    "- [Lipstick on a Pig: Debiasing Methods Cover up Systematic Gender Biases in Word Embeddings But do not Remove Them](https://arxiv.org/abs/1903.03862)\n",
    "- [Word Embeddings, Bias in ML, Why You Don't Like Math, & Why AI Needs You](https://www.youtube.com/watch?v=25nC0n9ERq4&list=PLtmWHNX-gukLQlMvtRJ19s7-8MrnRV6h6&index=9)"
   ]
  },
  {
   "cell_type": "markdown",
   "metadata": {},
   "source": [
    "<img src=\"images/rigler-tweet.png\" alt=\"\" style=\"width: 65%\"/>"
   ]
  },
  {
   "cell_type": "markdown",
   "metadata": {},
   "source": [
    "### Подделки - шутки"
   ]
  },
  {
   "cell_type": "markdown",
   "metadata": {},
   "source": [
    "<img src=\"images/gpt2-howard.png\" alt=\"\" style=\"width: 65%\"/>\n",
    "\n",
    "[OpenAI's New Multitalented AI writes, translates, and slanders](https://www.theverge.com/2019/2/14/18224704/ai-machine-learning-language-models-read-write-openai-gpt2)"
   ]
  },
  {
   "cell_type": "markdown",
   "metadata": {},
   "source": [
    "[He Predicted The 2016 Fake News Crisis. Now He's Worried About An Information Apocalypse.](https://www.buzzfeednews.com/article/charliewarzel/the-terrifying-future-of-fake-news) (interview with Avi Ovadya)\n",
    "\n",
    "- Создайте аудио или видеоклип мирового лидера, объявляющего войну. “Это не обязательно должно быть идеально — просто достаточно хорошо, чтобы заставить врага думать, что произошло что-то, что провоцирует рефлекторную и безрассудную реакцию возмездия”.\n",
    "\n",
    "- Сочетание политических ботнетов и астротурфинга, где политическими движениями манипулируют поддельные кампании на низовом уровне, чтобы эффективно конкурировать с реальными людьми за внимание законодателей и регулирующих органов, потому что будет слишком сложно отличить одно от другого.\n",
    "\n",
    "- Представьте, что каждый спам, который вы получаете, выглядит идентично письмам от реальных людей, которых вы знали (с соответствующим контекстом, тоном и т.д.)."
   ]
  },
  {
   "cell_type": "markdown",
   "metadata": {},
   "source": [
    "<img src=\"images/etzioni-fraud.png\" alt=\"\" style=\"width: 65%\"/>\n",
    "\n",
    "[How Will We Prevent AI-Based Forgery?](https://hbr.org/2019/03/how-will-we-prevent-ai-based-forgery): \"Нам нужно обнародовать норму о том, что любой предмет, который не подписан, потенциально поддельный\"."
   ]
  }
 ],
 "metadata": {
  "kernelspec": {
   "display_name": "Python 3 (ipykernel)",
   "language": "python",
   "name": "python3"
  },
  "language_info": {
   "codemirror_mode": {
    "name": "ipython",
    "version": 3
   },
   "file_extension": ".py",
   "mimetype": "text/x-python",
   "name": "python",
   "nbconvert_exporter": "python",
   "pygments_lexer": "ipython3",
   "version": "3.10.7"
  },
  "nbTranslate": {
   "displayLangs": [
    "*"
   ],
   "hotkey": "alt-t",
   "langInMainMenu": true,
   "sourceLang": "en",
   "targetLang": "fr",
   "useGoogleTranslate": true
  }
 },
 "nbformat": 4,
 "nbformat_minor": 4
}
