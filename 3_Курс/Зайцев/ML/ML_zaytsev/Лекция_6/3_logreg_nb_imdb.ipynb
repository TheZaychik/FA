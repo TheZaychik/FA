{
 "cells": [
  {
   "cell_type": "markdown",
   "metadata": {},
   "source": [
    "# Зайцев Н. ПИ20-1В"
   ]
  },
  {
   "cell_type": "markdown",
   "metadata": {
    "id": "tnmHTnIk1X8D"
   },
   "source": [
    "<h1 align = 'center'> Классификация по настроению (анализ без нейронных сетей) отзывов на фильмы IMDb: Naive Bayes</h1>"
   ]
  },
  {
   "cell_type": "markdown",
   "metadata": {
    "id": "coSCfERG1X8I"
   },
   "source": [
    "Цель этой тетради - показать, как осуществляется классификация настроений с помощью метода `Naive Bayes`. А также познакомиться с методами предобработки текстовых данных библиотеки `fastai`."
   ]
  },
  {
   "cell_type": "markdown",
   "metadata": {
    "id": "w_wa7bzb1X8J"
   },
   "source": [
    "Содержание тетради взято из [Урока 10 Курса машинного обучения fast.ai](https://course.fast.ai/lessonsml1/lesson10.html ). Линейная модель здесь довольно близка к современному уровню точности.  Только осенью 2017 года Джереми превзошел уровень точности, используя RNN."
   ]
  },
  {
   "cell_type": "markdown",
   "metadata": {
    "heading_collapsed": true,
    "id": "pxZl4lsg1X8K"
   },
   "source": [
    "## 0. Библиотека fastai"
   ]
  },
  {
   "cell_type": "markdown",
   "metadata": {
    "hidden": true,
    "id": "ZedzheF51X8K"
   },
   "source": [
    "Начнем использовать [библиотеку fastai](https://docs.fast.ai ) (версия 1.0) в этой записной книжке.  Мы будем использовать его чаще, как только перейдем к нейронным сетям.\n",
    "\n",
    "Библиотека fastai построена на базе `PyTorch` и кодирует множество передовых практик. Он используется в производстве на ряде компаний.  Вы можете прочитать больше об этом здесь:\n",
    "\n",
    "- [Fast.ai's software could radically democratize AI](https://www.zdnet.com/article/fast-ais-new-software-could-radically-democratize-ai/) (ZDNet)\n",
    "\n",
    "- [fastai v1 for PyTorch: Fast and accurate neural nets using modern best practices](https://www.fast.ai/2018/10/02/fastai-ai/) (fast.ai)\n",
    "\n",
    "- [fastai docs](https://docs.fast.ai/)\n",
    "\n",
    "### Установка\n",
    "\n",
    "Через conda:\n",
    "\n",
    "`conda install -c pytorch -c fastai fastai=1.0`\n",
    "\n",
    "Или через pip:\n",
    "\n",
    "`pip install fastai==1.0`\n",
    "\n",
    "Больше [информации по установке здесь](https://github.com/fastai/fastai/blob/master/README.md)."
   ]
  },
  {
   "cell_type": "markdown",
   "metadata": {
    "heading_collapsed": true,
    "id": "Uro__GpN1X8L"
   },
   "source": [
    "## 1. Набор данных отзывов IMDB"
   ]
  },
  {
   "cell_type": "markdown",
   "metadata": {
    "hidden": true,
    "id": "ySlk0AOK1X8L"
   },
   "source": [
    "<img src=\"../images/IMDb.png\" alt=\"floating point\" style=\"width: 30%\"/>"
   ]
  },
  {
   "cell_type": "markdown",
   "metadata": {
    "hidden": true,
    "id": "-LlellQq1X8M"
   },
   "source": [
    "[Большой набор данных для просмотра фильмов](http://ai.stanford.edu/~amaas/data/sentiment/) содержит коллекцию из 50 000 отзывов с IMDB, мы будем использовать версию, размещенную как часть [fast.ai наборы данных](https://course.fast.ai/datasets.html) в открытых наборах данных AWS.\n",
    "\n",
    "Набор данных содержит четное количество положительных и отрицательных отзывов. Авторы рассматривали только сильно поляризованные отзывы. Отрицательный отзыв имеет оценку ≤ 4 из 10, а положительный отзыв имеет оценку ≥ 7 из 10. Нейтральные отзывы не включены в набор данных. Набор данных разделен на обучающий и тестовый наборы. Обучающий набор - это те же 25 000 помеченных отзывов.\n",
    "\n",
    "Задача **классификации настроений** состоит в предсказании полярности (положительной или отрицательной) данного текста."
   ]
  },
  {
   "cell_type": "code",
   "execution_count": 1,
   "metadata": {
    "hidden": true,
    "id": "ib57RpAu1X8N"
   },
   "outputs": [],
   "source": [
    "#!pip install fastai"
   ]
  },
  {
   "cell_type": "code",
   "execution_count": 2,
   "metadata": {
    "hidden": true,
    "id": "3JNLhPk72NHy"
   },
   "outputs": [],
   "source": [
    "#!pip install fastbook"
   ]
  },
  {
   "cell_type": "markdown",
   "metadata": {
    "hidden": true,
    "id": "uHGukO-a1X8P"
   },
   "source": [
    "### Импорт библиотек"
   ]
  },
  {
   "cell_type": "code",
   "execution_count": 3,
   "metadata": {
    "hidden": true,
    "id": "54wrMOPS1X8Q",
    "scrolled": true
   },
   "outputs": [],
   "source": [
    "%reload_ext autoreload\n",
    "%autoreload 2\n",
    "%matplotlib inline"
   ]
  },
  {
   "cell_type": "code",
   "execution_count": 4,
   "metadata": {
    "hidden": true,
    "id": "c_df1K5E1X8Q"
   },
   "outputs": [],
   "source": [
    "from fastai.text.all import *"
   ]
  },
  {
   "cell_type": "code",
   "execution_count": 5,
   "metadata": {
    "hidden": true,
    "id": "IP0-JHRu1X8R"
   },
   "outputs": [],
   "source": [
    "import sklearn.feature_extraction.text as sklearn_text\n",
    "import pickle"
   ]
  },
  {
   "cell_type": "markdown",
   "metadata": {
    "hidden": true,
    "id": "_V9lP8F_1X8R"
   },
   "source": [
    "### Просмотр пробного набора данных IMDb"
   ]
  },
  {
   "cell_type": "markdown",
   "metadata": {
    "hidden": true,
    "id": "DGAEe8sR1X8R"
   },
   "source": [
    "fast.ai имеет ряд наборов данных, размещенных через [AWS Open Datasets](https://course.fast.ai/datasets.html) для легкой загрузки. Мы можем увидеть их, проверив документы на наличие URL-адресов (помните `??` это полезная команда):"
   ]
  },
  {
   "cell_type": "code",
   "execution_count": 7,
   "metadata": {
    "hidden": true,
    "id": "20si9PSS1X8S"
   },
   "outputs": [],
   "source": [
    "?? URLs"
   ]
  },
  {
   "cell_type": "markdown",
   "metadata": {
    "hidden": true,
    "id": "YpBI1ZgI1X8S"
   },
   "source": [
    "Всегда полезно начать работать с пробным образцом ваших данных, прежде чем использовать полный набор данных -- это позволяет ускорить вычисления по мере отладки и приведения вашего кода в рабочее состояние. Для IMDB уже доступен образец набора данных:"
   ]
  },
  {
   "cell_type": "code",
   "execution_count": 11,
   "metadata": {
    "colab": {
     "base_uri": "https://localhost:8080/",
     "height": 55
    },
    "hidden": true,
    "id": "jAyW7jE71X8S",
    "outputId": "990fb049-e4c2-4866-97f2-b19629b9bf2c"
   },
   "outputs": [
    {
     "name": "stdout",
     "output_type": "stream",
     "text": [
      "https://s3.amazonaws.com/fast-ai-sample/imdb_sample.tgz\n"
     ]
    },
    {
     "data": {
      "text/html": [
       "\n",
       "<style>\n",
       "    /* Turns off some styling */\n",
       "    progress {\n",
       "        /* gets rid of default border in Firefox and Opera. */\n",
       "        border: none;\n",
       "        /* Needs to be in here for Safari polyfill so background images work as expected. */\n",
       "        background-size: auto;\n",
       "    }\n",
       "    progress:not([value]), progress:not([value])::-webkit-progress-bar {\n",
       "        background: repeating-linear-gradient(45deg, #7e7e7e, #7e7e7e 10px, #5c5c5c 10px, #5c5c5c 20px);\n",
       "    }\n",
       "    .progress-bar-interrupted, .progress-bar-interrupted::-webkit-progress-bar {\n",
       "        background: #F44336;\n",
       "    }\n",
       "</style>\n"
      ],
      "text/plain": [
       "<IPython.core.display.HTML object>"
      ]
     },
     "metadata": {},
     "output_type": "display_data"
    },
    {
     "data": {
      "text/html": [
       "\n",
       "    <div>\n",
       "      <progress value='573440' class='' max='571827' style='width:300px; height:20px; vertical-align: middle;'></progress>\n",
       "      100.28% [573440/571827 00:00&lt;00:00]\n",
       "    </div>\n",
       "    "
      ],
      "text/plain": [
       "<IPython.core.display.HTML object>"
      ]
     },
     "metadata": {},
     "output_type": "display_data"
    },
    {
     "data": {
      "text/plain": [
       "(#1) [Path('/Users/nikitazaytsev/.fastai/data/imdb_sample/texts.csv')]"
      ]
     },
     "execution_count": 11,
     "metadata": {},
     "output_type": "execute_result"
    }
   ],
   "source": [
    "print(URLs.IMDB_SAMPLE)\n",
    "path = untar_data('http://s3.amazonaws.com/fast-ai-sample/imdb_sample.tgz')\n",
    "#path = untar_data(URLs.IMDB)\n",
    "path.ls()"
   ]
  },
  {
   "cell_type": "markdown",
   "metadata": {
    "hidden": true,
    "id": "UxuFnP2b1X8S"
   },
   "source": [
    "Считайте набор данных в фрейм данных pandas, который мы можем просмотреть, чтобы получить представление о том, как выглядят наши данные. Мы видим, что три столбца содержат метку проверки, текст проверки и флаг is_valid соответственно. is_valid -- это логический флаг, указывающий, является ли строка из набора проверки или нет."
   ]
  },
  {
   "cell_type": "code",
   "execution_count": 12,
   "metadata": {
    "colab": {
     "base_uri": "https://localhost:8080/",
     "height": 424
    },
    "hidden": true,
    "id": "oYZXpchB1X8T",
    "outputId": "258860e7-3a06-46a6-fb15-4bbb255e2b39",
    "scrolled": true
   },
   "outputs": [
    {
     "name": "stdout",
     "output_type": "stream",
     "text": [
      "(1000, 3)\n"
     ]
    },
    {
     "data": {
      "text/html": [
       "<div>\n",
       "<style scoped>\n",
       "    .dataframe tbody tr th:only-of-type {\n",
       "        vertical-align: middle;\n",
       "    }\n",
       "\n",
       "    .dataframe tbody tr th {\n",
       "        vertical-align: top;\n",
       "    }\n",
       "\n",
       "    .dataframe thead th {\n",
       "        text-align: right;\n",
       "    }\n",
       "</style>\n",
       "<table border=\"1\" class=\"dataframe\">\n",
       "  <thead>\n",
       "    <tr style=\"text-align: right;\">\n",
       "      <th></th>\n",
       "      <th>label</th>\n",
       "      <th>text</th>\n",
       "      <th>is_valid</th>\n",
       "    </tr>\n",
       "  </thead>\n",
       "  <tbody>\n",
       "    <tr>\n",
       "      <th>0</th>\n",
       "      <td>negative</td>\n",
       "      <td>Un-bleeping-believable! Meg Ryan doesn't even look her usual pert lovable self in this, which normally makes me forgive her shallow ticky acting schtick. Hard to believe she was the producer on this dog. Plus Kevin Kline: what kind of suicide trip has his career been on? Whoosh... Banzai!!! Finally this was directed by the guy who did Big Chill? Must be a replay of Jonestown - hollywood style. Wooofff!</td>\n",
       "      <td>False</td>\n",
       "    </tr>\n",
       "    <tr>\n",
       "      <th>1</th>\n",
       "      <td>positive</td>\n",
       "      <td>This is a extremely well-made film. The acting, script and camera-work are all first-rate. The music is good, too, though it is mostly early in the film, when things are still relatively cheery. There are no really superstars in the cast, though several faces will be familiar. The entire cast does an excellent job with the script.&lt;br /&gt;&lt;br /&gt;But it is hard to watch, because there is no good end to a situation like the one presented. It is now fashionable to blame the British for setting Hindus and Muslims against each other, and then cruelly separating them into two countries. There is som...</td>\n",
       "      <td>False</td>\n",
       "    </tr>\n",
       "    <tr>\n",
       "      <th>2</th>\n",
       "      <td>negative</td>\n",
       "      <td>Every once in a long while a movie will come along that will be so awful that I feel compelled to warn people. If I labor all my days and I can save but one soul from watching this movie, how great will be my joy.&lt;br /&gt;&lt;br /&gt;Where to begin my discussion of pain. For starters, there was a musical montage every five minutes. There was no character development. Every character was a stereotype. We had swearing guy, fat guy who eats donuts, goofy foreign guy, etc. The script felt as if it were being written as the movie was being shot. The production value was so incredibly low that it felt li...</td>\n",
       "      <td>False</td>\n",
       "    </tr>\n",
       "    <tr>\n",
       "      <th>3</th>\n",
       "      <td>positive</td>\n",
       "      <td>Name just says it all. I watched this movie with my dad when it came out and having served in Korea he had great admiration for the man. The disappointing thing about this film is that it only concentrate on a short period of the man's life - interestingly enough the man's entire life would have made such an epic bio-pic that it is staggering to imagine the cost for production.&lt;br /&gt;&lt;br /&gt;Some posters elude to the flawed characteristics about the man, which are cheap shots. The theme of the movie \"Duty, Honor, Country\" are not just mere words blathered from the lips of a high-brassed offic...</td>\n",
       "      <td>False</td>\n",
       "    </tr>\n",
       "    <tr>\n",
       "      <th>4</th>\n",
       "      <td>negative</td>\n",
       "      <td>This movie succeeds at being one of the most unique movies you've seen. However this comes from the fact that you can't make heads or tails of this mess. It almost seems as a series of challenges set up to determine whether or not you are willing to walk out of the movie and give up the money you just paid. If you don't want to feel slighted you'll sit through this horrible film and develop a real sense of pity for the actors involved, they've all seen better days, but then you realize they actually got paid quite a bit of money to do this and you'll lose pity for them just like you've alr...</td>\n",
       "      <td>False</td>\n",
       "    </tr>\n",
       "  </tbody>\n",
       "</table>\n",
       "</div>"
      ],
      "text/plain": [
       "      label   \n",
       "0  negative  \\\n",
       "1  positive   \n",
       "2  negative   \n",
       "3  positive   \n",
       "4  negative   \n",
       "\n",
       "                                                                                                                                                                                                                                                                                                                                                                                                                                                                                                                                                                                                                      text   \n",
       "0                                                                                                                                                                                                    Un-bleeping-believable! Meg Ryan doesn't even look her usual pert lovable self in this, which normally makes me forgive her shallow ticky acting schtick. Hard to believe she was the producer on this dog. Plus Kevin Kline: what kind of suicide trip has his career been on? Whoosh... Banzai!!! Finally this was directed by the guy who did Big Chill? Must be a replay of Jonestown - hollywood style. Wooofff!  \\\n",
       "1  This is a extremely well-made film. The acting, script and camera-work are all first-rate. The music is good, too, though it is mostly early in the film, when things are still relatively cheery. There are no really superstars in the cast, though several faces will be familiar. The entire cast does an excellent job with the script.<br /><br />But it is hard to watch, because there is no good end to a situation like the one presented. It is now fashionable to blame the British for setting Hindus and Muslims against each other, and then cruelly separating them into two countries. There is som...   \n",
       "2  Every once in a long while a movie will come along that will be so awful that I feel compelled to warn people. If I labor all my days and I can save but one soul from watching this movie, how great will be my joy.<br /><br />Where to begin my discussion of pain. For starters, there was a musical montage every five minutes. There was no character development. Every character was a stereotype. We had swearing guy, fat guy who eats donuts, goofy foreign guy, etc. The script felt as if it were being written as the movie was being shot. The production value was so incredibly low that it felt li...   \n",
       "3  Name just says it all. I watched this movie with my dad when it came out and having served in Korea he had great admiration for the man. The disappointing thing about this film is that it only concentrate on a short period of the man's life - interestingly enough the man's entire life would have made such an epic bio-pic that it is staggering to imagine the cost for production.<br /><br />Some posters elude to the flawed characteristics about the man, which are cheap shots. The theme of the movie \"Duty, Honor, Country\" are not just mere words blathered from the lips of a high-brassed offic...   \n",
       "4  This movie succeeds at being one of the most unique movies you've seen. However this comes from the fact that you can't make heads or tails of this mess. It almost seems as a series of challenges set up to determine whether or not you are willing to walk out of the movie and give up the money you just paid. If you don't want to feel slighted you'll sit through this horrible film and develop a real sense of pity for the actors involved, they've all seen better days, but then you realize they actually got paid quite a bit of money to do this and you'll lose pity for them just like you've alr...   \n",
       "\n",
       "   is_valid  \n",
       "0     False  \n",
       "1     False  \n",
       "2     False  \n",
       "3     False  \n",
       "4     False  "
      ]
     },
     "execution_count": 12,
     "metadata": {},
     "output_type": "execute_result"
    }
   ],
   "source": [
    "df = pd.read_csv(path/'texts.csv')\n",
    "print(df.shape)\n",
    "df.head()"
   ]
  },
  {
   "cell_type": "markdown",
   "metadata": {
    "hidden": true,
    "id": "dQOgPVsM1X8T"
   },
   "source": [
    "Извлекем обзор фильмов из пробного набора данных IMDb.\n",
    "Мы будем использовать [`TextDataLoaders`](https://docs.fast.ai/text.data.html#textdataloaders.from_folder) из библиотеки fastai:"
   ]
  },
  {
   "cell_type": "code",
   "execution_count": 16,
   "metadata": {
    "colab": {
     "base_uri": "https://localhost:8080/",
     "height": 282
    },
    "hidden": true,
    "id": "xZ6pawmnrIzb",
    "outputId": "f19036ff-05d7-492b-9c09-53fed10478ac"
   },
   "outputs": [
    {
     "data": {
      "text/html": [
       "\n",
       "<style>\n",
       "    /* Turns off some styling */\n",
       "    progress {\n",
       "        /* gets rid of default border in Firefox and Opera. */\n",
       "        border: none;\n",
       "        /* Needs to be in here for Safari polyfill so background images work as expected. */\n",
       "        background-size: auto;\n",
       "    }\n",
       "    progress:not([value]), progress:not([value])::-webkit-progress-bar {\n",
       "        background: repeating-linear-gradient(45deg, #7e7e7e, #7e7e7e 10px, #5c5c5c 10px, #5c5c5c 20px);\n",
       "    }\n",
       "    .progress-bar-interrupted, .progress-bar-interrupted::-webkit-progress-bar {\n",
       "        background: #F44336;\n",
       "    }\n",
       "</style>\n"
      ],
      "text/plain": [
       "<IPython.core.display.HTML object>"
      ]
     },
     "metadata": {},
     "output_type": "display_data"
    },
    {
     "data": {
      "text/html": [],
      "text/plain": [
       "<IPython.core.display.HTML object>"
      ]
     },
     "metadata": {},
     "output_type": "display_data"
    },
    {
     "data": {
      "text/html": [
       "<table border=\"1\" class=\"dataframe\">\n",
       "  <thead>\n",
       "    <tr style=\"text-align: right;\">\n",
       "      <th></th>\n",
       "      <th>text</th>\n",
       "      <th>category</th>\n",
       "    </tr>\n",
       "  </thead>\n",
       "  <tbody>\n",
       "    <tr>\n",
       "      <th>0</th>\n",
       "      <td>xxbos xxmaj raising xxmaj victor xxmaj vargas : a xxmaj review \\n\\n xxmaj you know , xxmaj raising xxmaj victor xxmaj vargas is like sticking your hands into a big , xxunk bowl of xxunk . xxmaj it 's warm and gooey , but you 're not sure if it feels right . xxmaj try as i might , no matter how warm and gooey xxmaj raising xxmaj victor xxmaj vargas became i was always aware that something did n't quite feel right . xxmaj victor xxmaj vargas suffers from a certain xxunk on the director 's part . xxmaj apparently , the director thought that the ethnic backdrop of a xxmaj latino family on the lower east side , and an xxunk storyline would make the film critic proof . xxmaj he was right , but it did n't fool me . xxmaj raising xxmaj victor xxmaj vargas is</td>\n",
       "      <td>negative</td>\n",
       "    </tr>\n",
       "    <tr>\n",
       "      <th>1</th>\n",
       "      <td>xxbos xxup the xxup shop xxup around xxup the xxup corner is one of the xxunk and most feel - good romantic comedies ever made . xxmaj there 's just no getting around that , and it 's hard to actually put one 's feeling for this film into words . xxmaj it 's not one of those films that tries too hard , nor does it come up with the xxunk possible scenarios to get the two protagonists together in the end . xxmaj in fact , all its charm is xxunk , contained within the characters and the setting and the plot … which is highly believable to xxunk . xxmaj it 's easy to think that such a love story , as beautiful as any other ever told , * could * happen to you … a feeling you do n't often get from other romantic comedies</td>\n",
       "      <td>positive</td>\n",
       "    </tr>\n",
       "    <tr>\n",
       "      <th>2</th>\n",
       "      <td>xxbos xxmaj now that xxmaj che(2008 ) has finished its relatively short xxmaj australian cinema run ( extremely limited xxunk screen in xxmaj xxunk , after xxunk ) , i can xxunk join both xxunk of \" at xxmaj the xxmaj movies \" in taking xxmaj steven xxmaj soderbergh to task . \\n\\n xxmaj it 's usually satisfying to watch a film director change his style / subject , but xxmaj soderbergh 's most recent stinker , xxmaj the xxmaj girlfriend xxmaj xxunk ) , was also missing a story , so narrative ( and editing ? ) seem to suddenly be xxmaj soderbergh 's main challenge . xxmaj strange , after 20 - odd years in the business . xxmaj he was probably never much good at narrative , just xxunk it well inside \" edgy \" projects . \\n\\n xxmaj none of this excuses him this present ,</td>\n",
       "      <td>negative</td>\n",
       "    </tr>\n",
       "  </tbody>\n",
       "</table>"
      ],
      "text/plain": [
       "<IPython.core.display.HTML object>"
      ]
     },
     "metadata": {},
     "output_type": "display_data"
    }
   ],
   "source": [
    "device = torch.device('cpu')\n",
    "movie_reviews = TextDataLoaders.from_df(df, path=path, text_col='text', label_col='label', valid_col='is_valid', device=device)\n",
    "movie_reviews.show_batch(max_n=3)"
   ]
  },
  {
   "cell_type": "markdown",
   "metadata": {
    "hidden": true,
    "id": "2Im99Ik91X8U"
   },
   "source": [
    "### Загрузчик данных"
   ]
  },
  {
   "cell_type": "markdown",
   "metadata": {
    "hidden": true,
    "id": "4LDvbOz-1X8U"
   },
   "source": [
    "Хорошим первым шагом при решении любой проблемы с данными является изучение данных и представление о том, как они выглядят.  В данном случае мы рассматриваем рецензии на фильмы, которые были помечены как \"положительные\" или \"отрицательные\". Обзоры уже были `tokenized`, то есть разделены на `токены`, базовые единицы, такие как слова, префиксы, знаки препинания, заглавные буквы и другие особенности текста."
   ]
  },
  {
   "cell_type": "markdown",
   "metadata": {
    "hidden": true,
    "id": "a1ADC_J81X8V"
   },
   "source": [
    "Давайте посмотрим на методы и атрибуты загрузчика данных `movie_reviews`:"
   ]
  },
  {
   "cell_type": "code",
   "execution_count": 17,
   "metadata": {
    "colab": {
     "base_uri": "https://localhost:8080/"
    },
    "hidden": true,
    "id": "VpH5YKMD1X8V",
    "outputId": "5cfa8112-ef7e-4525-8047-e4ad360ff90e"
   },
   "outputs": [
    {
     "data": {
      "text/plain": [
       "['_DataLoader__idxs', '__class__', '__delattr__', '__dict__', '__dir__']"
      ]
     },
     "execution_count": 17,
     "metadata": {},
     "output_type": "execute_result"
    }
   ],
   "source": [
    "dir(movie_reviews)[:5]"
   ]
  },
  {
   "cell_type": "code",
   "execution_count": 18,
   "metadata": {
    "colab": {
     "base_uri": "https://localhost:8080/"
    },
    "hidden": true,
    "id": "XcQw7S64f5_5",
    "outputId": "b16964bd-cc6d-4a7c-ebd3-04590078dba3"
   },
   "outputs": [
    {
     "data": {
      "text/plain": [
       "{'__getitem__': 'Retrieve `DataLoader` at `i` (`0` is training, `1` is validation)',\n",
       " 'train': 'Training `DataLoader`',\n",
       " 'valid': 'Validation `DataLoader`',\n",
       " 'train_ds': 'Training `Dataset`',\n",
       " 'valid_ds': 'Validation `Dataset`',\n",
       " 'to': 'Use `device`',\n",
       " 'add_tfms': 'Add `tfms` to `loaders` for `event',\n",
       " 'cuda': 'Use accelerator if available',\n",
       " 'cpu': 'Use the cpu',\n",
       " 'new_empty': 'Create a new empty version of `self` with the same transforms',\n",
       " 'from_dblock': 'Create a dataloaders from a given `dblock`'}"
      ]
     },
     "execution_count": 18,
     "metadata": {},
     "output_type": "execute_result"
    }
   ],
   "source": [
    "movie_reviews._docs"
   ]
  },
  {
   "cell_type": "code",
   "execution_count": 19,
   "metadata": {
    "colab": {
     "base_uri": "https://localhost:8080/"
    },
    "hidden": true,
    "id": "0rTNEf2w_D4f",
    "outputId": "ae5f3a7e-4e45-4771-cd72-ae141369b906"
   },
   "outputs": [
    {
     "data": {
      "text/plain": [
       "64"
      ]
     },
     "execution_count": 19,
     "metadata": {},
     "output_type": "execute_result"
    }
   ],
   "source": [
    "movie_reviews.bs"
   ]
  },
  {
   "cell_type": "code",
   "execution_count": 20,
   "metadata": {
    "colab": {
     "base_uri": "https://localhost:8080/"
    },
    "hidden": true,
    "id": "7CUey9r9wIXl",
    "outputId": "aa14e013-c557-4164-8441-d2ba07ab740c"
   },
   "outputs": [
    {
     "data": {
      "text/plain": [
       "768"
      ]
     },
     "execution_count": 20,
     "metadata": {},
     "output_type": "execute_result"
    }
   ],
   "source": [
    "np.array([len(i[0]) for i in movie_reviews.train]).sum()"
   ]
  },
  {
   "cell_type": "markdown",
   "metadata": {
    "hidden": true,
    "id": "IhJK92bV1X8V"
   },
   "source": [
    "Загрузчик `movie_reviews` отделяет данные на обучающие и валидационные, т.е. имеет атрибуты `.train` и `.valid` . Важно отметить, что в них отзывы находятся уже в векторизованном виде и разбиты по умолчанию на пакеты по 64 отзыва. "
   ]
  },
  {
   "cell_type": "code",
   "execution_count": 21,
   "metadata": {
    "colab": {
     "base_uri": "https://localhost:8080/"
    },
    "hidden": true,
    "id": "jyEHIlKd1X8V",
    "outputId": "24fa4a94-838f-4f9e-d482-38183700da62"
   },
   "outputs": [
    {
     "name": "stdout",
     "output_type": "stream",
     "text": [
      "Имеются 768 и 200 отзывов в обучающем и валидационном наборах.\n"
     ]
    }
   ],
   "source": [
    "print(f'Имеются {np.array([len(i[0]) for i in movie_reviews.train]).sum()} и {np.array([len(i[0]) for i in movie_reviews.valid]).sum()} отзывов в обучающем и валидационном наборах.')"
   ]
  },
  {
   "cell_type": "markdown",
   "metadata": {
    "hidden": true,
    "id": "llQnEeEN1X8V"
   },
   "source": [
    "Отзывы в `train` и `valid` состоят из списков векторов, которые получены из словаря токенов на основе их номера в словаре. В NLP **токен** является базовой единицей обработки (что это за токены, зависит от приложения и вашего выбора). Здесь токены в основном соответствуют словам или знакам препинания, а также нескольким специальным токенам, соответствующим неизвестным словам, заглавным буквам и т.д."
   ]
  },
  {
   "cell_type": "markdown",
   "metadata": {
    "hidden": true,
    "id": "pwvfLNyq1X8W"
   },
   "source": [
    "### Специальные токены:\n",
    "Все эти токены, начинающиеся с \"xx\", являются специальными токенами fastai.  Вы можете увидеть список всех их и их значения [в документации по fastai](https://docs.fast.ai/text.transform.html):"
   ]
  },
  {
   "cell_type": "markdown",
   "metadata": {
    "hidden": true,
    "id": "aJk6lqWv1X8W"
   },
   "source": [
    "### Рассмотрим содержимое обучающего набора данных"
   ]
  },
  {
   "cell_type": "code",
   "execution_count": 22,
   "metadata": {
    "colab": {
     "base_uri": "https://localhost:8080/",
     "height": 443
    },
    "hidden": true,
    "id": "Xhz4G5Hc1X8W",
    "outputId": "a8413c15-adc3-4641-ab18-2319f1e03833"
   },
   "outputs": [
    {
     "name": "stdout",
     "output_type": "stream",
     "text": [
      "\f",
      " Имеется 800 отзывов в обучающем наборе\n",
      "\n"
     ]
    },
    {
     "data": {
      "text/html": [
       "<div>\n",
       "<style scoped>\n",
       "    .dataframe tbody tr th:only-of-type {\n",
       "        vertical-align: middle;\n",
       "    }\n",
       "\n",
       "    .dataframe tbody tr th {\n",
       "        vertical-align: top;\n",
       "    }\n",
       "\n",
       "    .dataframe thead th {\n",
       "        text-align: right;\n",
       "    }\n",
       "</style>\n",
       "<table border=\"1\" class=\"dataframe\">\n",
       "  <thead>\n",
       "    <tr style=\"text-align: right;\">\n",
       "      <th></th>\n",
       "      <th>label</th>\n",
       "      <th>text</th>\n",
       "      <th>is_valid</th>\n",
       "    </tr>\n",
       "  </thead>\n",
       "  <tbody>\n",
       "    <tr>\n",
       "      <th>0</th>\n",
       "      <td>negative</td>\n",
       "      <td>Un-bleeping-believable! Meg Ryan doesn't even look her usual pert lovable self in this, which normally makes me forgive her shallow ticky acting schtick. Hard to believe she was the producer on this dog. Plus Kevin Kline: what kind of suicide trip has his career been on? Whoosh... Banzai!!! Finally this was directed by the guy who did Big Chill? Must be a replay of Jonestown - hollywood style. Wooofff!</td>\n",
       "      <td>False</td>\n",
       "    </tr>\n",
       "    <tr>\n",
       "      <th>1</th>\n",
       "      <td>positive</td>\n",
       "      <td>This is a extremely well-made film. The acting, script and camera-work are all first-rate. The music is good, too, though it is mostly early in the film, when things are still relatively cheery. There are no really superstars in the cast, though several faces will be familiar. The entire cast does an excellent job with the script.&lt;br /&gt;&lt;br /&gt;But it is hard to watch, because there is no good end to a situation like the one presented. It is now fashionable to blame the British for setting Hindus and Muslims against each other, and then cruelly separating them into two countries. There is som...</td>\n",
       "      <td>False</td>\n",
       "    </tr>\n",
       "    <tr>\n",
       "      <th>2</th>\n",
       "      <td>negative</td>\n",
       "      <td>Every once in a long while a movie will come along that will be so awful that I feel compelled to warn people. If I labor all my days and I can save but one soul from watching this movie, how great will be my joy.&lt;br /&gt;&lt;br /&gt;Where to begin my discussion of pain. For starters, there was a musical montage every five minutes. There was no character development. Every character was a stereotype. We had swearing guy, fat guy who eats donuts, goofy foreign guy, etc. The script felt as if it were being written as the movie was being shot. The production value was so incredibly low that it felt li...</td>\n",
       "      <td>False</td>\n",
       "    </tr>\n",
       "    <tr>\n",
       "      <th>3</th>\n",
       "      <td>positive</td>\n",
       "      <td>Name just says it all. I watched this movie with my dad when it came out and having served in Korea he had great admiration for the man. The disappointing thing about this film is that it only concentrate on a short period of the man's life - interestingly enough the man's entire life would have made such an epic bio-pic that it is staggering to imagine the cost for production.&lt;br /&gt;&lt;br /&gt;Some posters elude to the flawed characteristics about the man, which are cheap shots. The theme of the movie \"Duty, Honor, Country\" are not just mere words blathered from the lips of a high-brassed offic...</td>\n",
       "      <td>False</td>\n",
       "    </tr>\n",
       "    <tr>\n",
       "      <th>4</th>\n",
       "      <td>negative</td>\n",
       "      <td>This movie succeeds at being one of the most unique movies you've seen. However this comes from the fact that you can't make heads or tails of this mess. It almost seems as a series of challenges set up to determine whether or not you are willing to walk out of the movie and give up the money you just paid. If you don't want to feel slighted you'll sit through this horrible film and develop a real sense of pity for the actors involved, they've all seen better days, but then you realize they actually got paid quite a bit of money to do this and you'll lose pity for them just like you've alr...</td>\n",
       "      <td>False</td>\n",
       "    </tr>\n",
       "  </tbody>\n",
       "</table>\n",
       "</div>"
      ],
      "text/plain": [
       "      label   \n",
       "0  negative  \\\n",
       "1  positive   \n",
       "2  negative   \n",
       "3  positive   \n",
       "4  negative   \n",
       "\n",
       "                                                                                                                                                                                                                                                                                                                                                                                                                                                                                                                                                                                                                      text   \n",
       "0                                                                                                                                                                                                    Un-bleeping-believable! Meg Ryan doesn't even look her usual pert lovable self in this, which normally makes me forgive her shallow ticky acting schtick. Hard to believe she was the producer on this dog. Plus Kevin Kline: what kind of suicide trip has his career been on? Whoosh... Banzai!!! Finally this was directed by the guy who did Big Chill? Must be a replay of Jonestown - hollywood style. Wooofff!  \\\n",
       "1  This is a extremely well-made film. The acting, script and camera-work are all first-rate. The music is good, too, though it is mostly early in the film, when things are still relatively cheery. There are no really superstars in the cast, though several faces will be familiar. The entire cast does an excellent job with the script.<br /><br />But it is hard to watch, because there is no good end to a situation like the one presented. It is now fashionable to blame the British for setting Hindus and Muslims against each other, and then cruelly separating them into two countries. There is som...   \n",
       "2  Every once in a long while a movie will come along that will be so awful that I feel compelled to warn people. If I labor all my days and I can save but one soul from watching this movie, how great will be my joy.<br /><br />Where to begin my discussion of pain. For starters, there was a musical montage every five minutes. There was no character development. Every character was a stereotype. We had swearing guy, fat guy who eats donuts, goofy foreign guy, etc. The script felt as if it were being written as the movie was being shot. The production value was so incredibly low that it felt li...   \n",
       "3  Name just says it all. I watched this movie with my dad when it came out and having served in Korea he had great admiration for the man. The disappointing thing about this film is that it only concentrate on a short period of the man's life - interestingly enough the man's entire life would have made such an epic bio-pic that it is staggering to imagine the cost for production.<br /><br />Some posters elude to the flawed characteristics about the man, which are cheap shots. The theme of the movie \"Duty, Honor, Country\" are not just mere words blathered from the lips of a high-brassed offic...   \n",
       "4  This movie succeeds at being one of the most unique movies you've seen. However this comes from the fact that you can't make heads or tails of this mess. It almost seems as a series of challenges set up to determine whether or not you are willing to walk out of the movie and give up the money you just paid. If you don't want to feel slighted you'll sit through this horrible film and develop a real sense of pity for the actors involved, they've all seen better days, but then you realize they actually got paid quite a bit of money to do this and you'll lose pity for them just like you've alr...   \n",
       "\n",
       "   is_valid  \n",
       "0     False  \n",
       "1     False  \n",
       "2     False  \n",
       "3     False  \n",
       "4     False  "
      ]
     },
     "execution_count": 22,
     "metadata": {},
     "output_type": "execute_result"
    }
   ],
   "source": [
    "print(f'\\f Имеется {len(df[df.is_valid == False])} отзывов в обучающем наборе\\n')\n",
    "df[df.is_valid == False].head()"
   ]
  },
  {
   "cell_type": "markdown",
   "metadata": {
    "hidden": true,
    "id": "ZYvWDBfP1X8X"
   },
   "source": [
    "Текст рецензии на фильм хранится в виде символьной строки, т.е.  `string`, которая содержит маркеры, разделенные пробелами. Вот текст первого обзора:"
   ]
  },
  {
   "cell_type": "code",
   "execution_count": 23,
   "metadata": {
    "colab": {
     "base_uri": "https://localhost:8080/"
    },
    "hidden": true,
    "id": "CcsXpmYp1X8X",
    "outputId": "371e7938-2fb5-4fec-98c6-36ef7cdfb1be"
   },
   "outputs": [
    {
     "name": "stdout",
     "output_type": "stream",
     "text": [
      "Un-bleeping-believable! Meg Ryan doesn't even look her usual pert lovable self in this, which normally makes me forgive her shallow ticky acting schtick. Hard to believe she was the producer on this dog. Plus Kevin Kline: what kind of suicide trip has his career been on? Whoosh... Banzai!!! Finally this was directed by the guy who did Big Chill? Must be a replay of Jonestown - hollywood style. Wooofff!\n",
      "\n",
      " В первом отзыве содержится 405 символов\n"
     ]
    }
   ],
   "source": [
    "print(df[df.is_valid == False].text[0])\n",
    "print(f'\\n В первом отзыве содержится {len(df[df.is_valid == False].text[0])} символов')"
   ]
  },
  {
   "cell_type": "code",
   "execution_count": 24,
   "metadata": {
    "colab": {
     "base_uri": "https://localhost:8080/"
    },
    "hidden": true,
    "id": "e7E5QRco32Tf",
    "outputId": "cb0c97c4-4d35-4f7a-813e-f09d8644e04e"
   },
   "outputs": [
    {
     "data": {
      "text/plain": [
       "(#108) ['xxbos','xxmaj','un','-','bleeping','-','believable','!','xxmaj','meg'...]"
      ]
     },
     "execution_count": 24,
     "metadata": {},
     "output_type": "execute_result"
    }
   ],
   "source": [
    "movie_reviews.tokenizer(df[df.is_valid == False].text[0])"
   ]
  },
  {
   "cell_type": "markdown",
   "metadata": {
    "hidden": true,
    "id": "vFEcmODS1X8X"
   },
   "source": [
    "Этот текст можно разделить, чтобы получить список токенов."
   ]
  },
  {
   "cell_type": "code",
   "execution_count": 25,
   "metadata": {
    "colab": {
     "base_uri": "https://localhost:8080/"
    },
    "hidden": true,
    "id": "OoRXzPP11X8X",
    "outputId": "8095d204-9913-4d91-c5a6-f48b290d9ae8"
   },
   "outputs": [
    {
     "name": "stdout",
     "output_type": "stream",
     "text": [
      "['xxbos', 'xxmaj', 'un', '-', 'bleeping', '-', 'believable', '!', 'xxmaj', 'meg', 'xxmaj', 'ryan', 'does', \"n't\", 'even', 'look', 'her', 'usual', 'pert', 'lovable', 'self', 'in', 'this', ',', 'which', 'normally', 'makes', 'me', 'forgive', 'her', 'shallow', 'ticky', 'acting', 'schtick', '.', 'xxmaj', 'hard', 'to', 'believe', 'she', 'was', 'the', 'producer', 'on', 'this', 'dog', '.', 'xxmaj', 'plus', 'xxmaj', 'kevin', 'xxmaj', 'kline', ':', 'what', 'kind', 'of', 'suicide', 'trip', 'has', 'his', 'career', 'been', 'on', '?', 'xxmaj', 'whoosh', '…', 'xxmaj', 'banzai', 'xxrep', '3', '!', 'xxmaj', 'finally', 'this', 'was', 'directed', 'by', 'the', 'guy', 'who', 'did', 'xxmaj', 'big', 'xxmaj', 'chill', '?', 'xxmaj', 'must', 'be', 'a', 'replay', 'of', 'xxmaj', 'jonestown', '-', 'hollywood', 'style', '.', 'w', 'xxrep', '3', 'o', 'xxrep', '3', 'f', '!']\n",
      "\n",
      "Отзыв содержит 108 токенов\n"
     ]
    }
   ],
   "source": [
    "print(movie_reviews.tokenizer(df[df.is_valid == False].text[0]))\n",
    "print(f'\\nОтзыв содержит {len(movie_reviews.tokenizer(df[df.is_valid == False].text[0]))} токенов')"
   ]
  },
  {
   "cell_type": "markdown",
   "metadata": {
    "hidden": true,
    "id": "RsUeNe101X8Y"
   },
   "source": [
    "Токены обзора можно пронумеровать, т.е. сопоставить с целыми числами.  Таким образом, обзор фильма также хранится в виде массива целых чисел в выборке `train`:"
   ]
  },
  {
   "cell_type": "code",
   "execution_count": 26,
   "metadata": {
    "colab": {
     "base_uri": "https://localhost:8080/"
    },
    "hidden": true,
    "id": "yXcn9XzQ1X8Y",
    "outputId": "1102b0ee-4978-49c3-bdff-c680c9bd6511"
   },
   "outputs": [
    {
     "name": "stdout",
     "output_type": "stream",
     "text": [
      "[   2    8 4503   24    0   24  953   54    8 4504    8 1769   94   37\n",
      "   78  198   62  852    0 2185  507   18   21   10   86 2038  192   90\n",
      " 3817   62 1897    0  124    0   11    8  251   15  277   73   25    9\n",
      " 1651   35   21 1140   11    8 1098    8 1353    8 2925   95   64  240\n",
      "   14 1576 1485   65   41  790  107   35   69    8    0   87    8    0\n",
      "    5  161   54    8  567   21   25  642   48    9  265   53   89    8\n",
      "  218    8    0   69    8  234   43   13 4505   14    8 4506   24  392\n",
      "  427   11 2628    5  161 1354    5  161 1288   54]\n",
      "\n",
      "Массив содержит 108 номеров токенов в словаре\n"
     ]
    }
   ],
   "source": [
    "first_token_list = movie_reviews.tokenizer(df[df.is_valid == False].text[0])\n",
    "print(np.array(movie_reviews.numericalize(first_token_list)))\n",
    "print(f'\\nМассив содержит {len(movie_reviews.numericalize(first_token_list))} номеров токенов в словаре')"
   ]
  },
  {
   "cell_type": "markdown",
   "metadata": {
    "heading_collapsed": true,
    "id": "gBgvHhKw1X8Y"
   },
   "source": [
    "## 2. Словарь IMDb"
   ]
  },
  {
   "cell_type": "markdown",
   "metadata": {
    "hidden": true,
    "id": "w2ZE9AWe1X8Y"
   },
   "source": [
    "Объект `movie_reviews` также содержит свойство `.vocab`, поскольку оно отображается с помощью `dir()`. В данном случае словарь содержит два списка токенов."
   ]
  },
  {
   "cell_type": "code",
   "execution_count": 27,
   "metadata": {
    "colab": {
     "base_uri": "https://localhost:8080/"
    },
    "hidden": true,
    "id": "9ouCaQfC1X8Z",
    "outputId": "92b83697-a063-4477-a1b4-63e7ea898cd7"
   },
   "outputs": [
    {
     "data": {
      "text/plain": [
       "2"
      ]
     },
     "execution_count": 27,
     "metadata": {},
     "output_type": "execute_result"
    }
   ],
   "source": [
    "len(movie_reviews.vocab)"
   ]
  },
  {
   "cell_type": "markdown",
   "metadata": {
    "hidden": true,
    "id": "Vm6a3arfFZma"
   },
   "source": [
    "Первый содержит токены слов описаний, второй список оценок."
   ]
  },
  {
   "cell_type": "code",
   "execution_count": 28,
   "metadata": {
    "colab": {
     "base_uri": "https://localhost:8080/"
    },
    "hidden": true,
    "id": "nSig4lEMFXcm",
    "outputId": "9a7796e4-9766-4513-b0c9-de2a5bcbc723"
   },
   "outputs": [
    {
     "data": {
      "text/plain": [
       "(['xxunk', 'xxpad', 'xxbos', 'xxeos', 'xxfld'], ['negative', 'positive'])"
      ]
     },
     "execution_count": 28,
     "metadata": {},
     "output_type": "execute_result"
    }
   ],
   "source": [
    "movie_reviews.vocab[0][0:5], movie_reviews.vocab[1]"
   ]
  },
  {
   "cell_type": "markdown",
   "metadata": {
    "hidden": true,
    "id": "2IFrhT3P1X8a"
   },
   "source": [
    "Определим количество токенов в словаре "
   ]
  },
  {
   "cell_type": "code",
   "execution_count": 29,
   "metadata": {
    "colab": {
     "base_uri": "https://localhost:8080/"
    },
    "hidden": true,
    "id": "9vtMtcnJ1X8a",
    "outputId": "acec38bd-1f6b-4fc1-9cf0-00ff917efc52"
   },
   "outputs": [
    {
     "name": "stdout",
     "output_type": "stream",
     "text": [
      "Количество токенов в словаре: 7080\n"
     ]
    }
   ],
   "source": [
    "print('Количество токенов в словаре:', len(movie_reviews.vocab[0]))"
   ]
  },
  {
   "cell_type": "markdown",
   "metadata": {
    "hidden": true,
    "id": "hLXqWgwT1X8a"
   },
   "source": [
    "В `defaultdict` редким словам, которые встречаются в корпусе менее трех раз, и словам, которых нет в словаре, присваивается значение по умолчанию, в данном случае `xxbos`."
   ]
  },
  {
   "cell_type": "code",
   "execution_count": 30,
   "metadata": {
    "colab": {
     "base_uri": "https://localhost:8080/"
    },
    "hidden": true,
    "id": "xJKyWlo51X8b",
    "outputId": "1cd59653-d966-478a-fa5f-76660284da79",
    "scrolled": true
   },
   "outputs": [
    {
     "name": "stdout",
     "output_type": "stream",
     "text": [
      "['xxbos', 'acrid']\n",
      "['xxbos', 'a_random_made_up_nonexistant_word']\n",
      "['xxbos', 'acrimonious']\n",
      "['xxbos', 'allosteric']\n",
      "['xxbos', 'anodyne']\n",
      "['xxbos', 'antikythera']\n"
     ]
    }
   ],
   "source": [
    "rare_words = ['acrid','a_random_made_up_nonexistant_word','acrimonious','allosteric','anodyne','antikythera']\n",
    "for word in rare_words:\n",
    "    print(movie_reviews.tokenizer(word))"
   ]
  },
  {
   "cell_type": "markdown",
   "metadata": {
    "heading_collapsed": true,
    "id": "Psj9RxjJ1X8d"
   },
   "source": [
    "## 3. Отображение отзывов в векторном пространстве"
   ]
  },
  {
   "cell_type": "markdown",
   "metadata": {
    "hidden": true,
    "id": "oWO0o80U1X8d"
   },
   "source": [
    "В словаре отзывов IMDb насчитывается 7080 уникальных токенов. Их числовые значения варьируются от 0 до 7079"
   ]
  },
  {
   "cell_type": "code",
   "execution_count": 31,
   "metadata": {
    "colab": {
     "base_uri": "https://localhost:8080/"
    },
    "hidden": true,
    "id": "5ldof-Ii1X8d",
    "outputId": "d289ea38-e616-4f4a-911f-10ffe8be78d7"
   },
   "outputs": [
    {
     "name": "stdout",
     "output_type": "stream",
     "text": [
      "Имеется 7080 уникальных токенов в словаре\n",
      "Их можно пронумеровать от 0 до 7079\n"
     ]
    }
   ],
   "source": [
    "print(f'Имеется {len(movie_reviews.vocab[0])} уникальных токенов в словаре')\n",
    "print(f'Их можно пронумеровать от 0 до {len(movie_reviews.vocab[0])-1}')"
   ]
  },
  {
   "cell_type": "markdown",
   "metadata": {
    "hidden": true,
    "id": "hk8ghYzQ1X8e"
   },
   "source": [
    "Каждый обзор может быть сопоставлен с 7080-мерным \"вектором вложения\", индексы которого соответствуют цифровым токенам, а значения - это количество раз, когда соответствующий токен появлялся в обзоре. Чтобы сделать это эффективно, нам нужно немного узнать о счетчиках, т. е. `counters`."
   ]
  },
  {
   "cell_type": "markdown",
   "metadata": {
    "hidden": true,
    "id": "eJBylEvF1X8e"
   },
   "source": [
    "### 3A. Счетчики"
   ]
  },
  {
   "cell_type": "markdown",
   "metadata": {
    "hidden": true,
    "id": "L2O4q75-1X8e"
   },
   "source": [
    "**Counter** - это полезный объект Python.  **Counter**, примененный к списку, возвращает упорядоченный словарь, ключами которого являются уникальные элементы в списке, а значениями - количество уникальных элементов. Счетчики можно найти в модуля коллекций (вместе с OrderedDict, defaultdict, deque и namedtuple). Если же передается загрузчик данных, то на месте каждого токена формируется чило его повторений во всей выборке. \n",
    "Вот как работают счетчики:"
   ]
  },
  {
   "cell_type": "markdown",
   "metadata": {
    "hidden": true,
    "id": "xT1BzNvV1X8e"
   },
   "source": [
    "Применим счетчик TokenCounter для movie review"
   ]
  },
  {
   "cell_type": "code",
   "execution_count": 32,
   "metadata": {
    "colab": {
     "base_uri": "https://localhost:8080/"
    },
    "hidden": true,
    "id": "sVCPWjX91X8e",
    "outputId": "2ce50bb1-fc61-457b-c586-a3cad6a43899"
   },
   "outputs": [
    {
     "data": {
      "text/plain": [
       "dict_items([(2, 1), (8, 14), (4503, 1), (24, 3), (0, 7), (953, 1), (54, 3), (4504, 1), (1769, 1), (94, 1), (37, 1), (78, 1), (198, 1), (62, 2), (852, 1), (2185, 1), (507, 1), (18, 1), (21, 3), (10, 1), (86, 1), (2038, 1), (192, 1), (90, 1), (3817, 1), (1897, 1), (124, 1), (11, 3), (251, 1), (15, 1), (277, 1), (73, 1), (25, 2), (9, 2), (1651, 1), (35, 2), (1140, 1), (1098, 1), (1353, 1), (2925, 1), (95, 1), (64, 1), (240, 1), (14, 2), (1576, 1), (1485, 1), (65, 1), (41, 1), (790, 1), (107, 1), (69, 2), (87, 1), (5, 3), (161, 3), (567, 1), (642, 1), (48, 1), (265, 1), (53, 1), (89, 1), (218, 1), (234, 1), (43, 1), (13, 1), (4505, 1), (4506, 1), (392, 1), (427, 1), (2628, 1), (1354, 1), (1288, 1)])"
      ]
     },
     "execution_count": 32,
     "metadata": {},
     "output_type": "execute_result"
    }
   ],
   "source": [
    "TokenCounter = lambda review_index : Counter(np.array(movie_reviews.numericalize(movie_reviews.tokenizer(df[df.is_valid == False].text[review_index]))))\n",
    "TokenCounter(0).items()"
   ]
  },
  {
   "cell_type": "markdown",
   "metadata": {
    "hidden": true,
    "id": "9Cu6O2sK1X8f"
   },
   "source": [
    "Ключами TokenCounter, т.е. `keys` являются номера токенов `tokens`, которые встретились в отзывах."
   ]
  },
  {
   "cell_type": "code",
   "execution_count": 33,
   "metadata": {
    "colab": {
     "base_uri": "https://localhost:8080/"
    },
    "hidden": true,
    "id": "iyP9lKKD1X8f",
    "outputId": "8d492a17-7a58-4ba7-f730-7e69ddbd58af"
   },
   "outputs": [
    {
     "data": {
      "text/plain": [
       "dict_keys([2, 8, 4503, 24, 0, 953, 54, 4504, 1769, 94, 37, 78, 198, 62, 852, 2185, 507, 18, 21, 10, 86, 2038, 192, 90, 3817, 1897, 124, 11, 251, 15, 277, 73, 25, 9, 1651, 35, 1140, 1098, 1353, 2925, 95, 64, 240, 14, 1576, 1485, 65, 41, 790, 107, 69, 87, 5, 161, 567, 642, 48, 265, 53, 89, 218, 234, 43, 13, 4505, 4506, 392, 427, 2628, 1354, 1288])"
      ]
     },
     "execution_count": 33,
     "metadata": {},
     "output_type": "execute_result"
    }
   ],
   "source": [
    "TokenCounter(0).keys()"
   ]
  },
  {
   "cell_type": "markdown",
   "metadata": {
    "hidden": true,
    "id": "5LLraKCQ1X8g"
   },
   "source": [
    "`Значения` TokenCounter - это `кратность токенов`, то есть количество раз, когда каждый `токен` появляется в обзоре"
   ]
  },
  {
   "cell_type": "code",
   "execution_count": 34,
   "metadata": {
    "colab": {
     "base_uri": "https://localhost:8080/"
    },
    "hidden": true,
    "id": "J9daGasN1X8g",
    "outputId": "e4fab0aa-4199-4a08-b2c8-94e193303756"
   },
   "outputs": [
    {
     "data": {
      "text/plain": [
       "dict_values([1, 14, 1, 3, 7, 1, 3, 1, 1, 1, 1, 1, 1, 2, 1, 1, 1, 1, 3, 1, 1, 1, 1, 1, 1, 1, 1, 3, 1, 1, 1, 1, 2, 2, 1, 2, 1, 1, 1, 1, 1, 1, 1, 2, 1, 1, 1, 1, 1, 1, 2, 1, 3, 3, 1, 1, 1, 1, 1, 1, 1, 1, 1, 1, 1, 1, 1, 1, 1, 1, 1])"
      ]
     },
     "execution_count": 34,
     "metadata": {},
     "output_type": "execute_result"
    }
   ],
   "source": [
    "TokenCounter(0).values()"
   ]
  },
  {
   "cell_type": "markdown",
   "metadata": {
    "hidden": true,
    "id": "seGa-A8p1X8g"
   },
   "source": [
    "### 3B. Сопоставление обзоров фильмов с векторами `embedding vectors`. Встраивание."
   ]
  },
  {
   "cell_type": "markdown",
   "metadata": {
    "hidden": true,
    "id": "5dtIleNy1X8g"
   },
   "source": [
    "Создадим функцию `count_vectorizer`, которая представляет отзыв в виде 7080-мерного вектора, т.е. `embedding vector`.\n",
    "Индексы вектора встраивания соответствуют нумерализованным токенам в словаре; значения указывают, как часто соответствующий токен появляется в обзоре."
   ]
  },
  {
   "cell_type": "code",
   "execution_count": 35,
   "metadata": {
    "colab": {
     "base_uri": "https://localhost:8080/"
    },
    "hidden": true,
    "id": "e6tGcsPQ1X8g",
    "outputId": "30f79b87-b3d1-452e-a8e7-9ff4aa248515"
   },
   "outputs": [
    {
     "data": {
      "text/plain": [
       "(7080,)"
      ]
     },
     "execution_count": 35,
     "metadata": {},
     "output_type": "execute_result"
    }
   ],
   "source": [
    "n_terms = len(movie_reviews.vocab[0])\n",
    "n_docs = len(df[df.is_valid == False].text)\n",
    "def count_vectorizer(review_index,n_terms = n_terms,make_token_counter = TokenCounter):\n",
    "    # input: review index, n_terms, and tokenizer function\n",
    "    # output: embedding vector for the review\n",
    "    embedding_vector = np.zeros(n_terms)        \n",
    "    keys = list(make_token_counter(review_index).keys())\n",
    "    values = list(make_token_counter(review_index).values())\n",
    "    embedding_vector[keys] = values\n",
    "    return embedding_vector\n",
    "\n",
    "# создадим вектор вставки для первого отзыва\n",
    "embedding_vector = count_vectorizer(0)\n",
    "embedding_vector.shape"
   ]
  },
  {
   "cell_type": "markdown",
   "metadata": {
    "hidden": true,
    "id": "snkgTIeK1X8h"
   },
   "source": [
    "Вот так выглядит `embedding vector` для первого отзыва в обучающем наборе данных"
   ]
  },
  {
   "cell_type": "code",
   "execution_count": 36,
   "metadata": {
    "colab": {
     "base_uri": "https://localhost:8080/"
    },
    "hidden": true,
    "id": "NidPysar1X8h",
    "outputId": "398e75a8-8c02-4202-8bd5-c3353fc3849b"
   },
   "outputs": [
    {
     "name": "stdout",
     "output_type": "stream",
     "text": [
      "Отзыв преобразован в вектор размерностью 7080\n"
     ]
    },
    {
     "data": {
      "text/plain": [
       "array([7., 0., 1., ..., 0., 0., 0.])"
      ]
     },
     "execution_count": 36,
     "metadata": {},
     "output_type": "execute_result"
    }
   ],
   "source": [
    "print(f'Отзыв преобразован в вектор размерностью {len(embedding_vector)}')\n",
    "embedding_vector"
   ]
  },
  {
   "cell_type": "markdown",
   "metadata": {
    "heading_collapsed": true,
    "id": "mk3JNFuK1X8h"
   },
   "source": [
    "## 4. Создадим матрицу терминов документов для IMDb"
   ]
  },
  {
   "cell_type": "markdown",
   "metadata": {
    "hidden": true,
    "id": "5waCln-F1X8h"
   },
   "source": [
    "В методах NLP, не связанных с глубоким обучением, нас часто интересует только то, какие слова использовались в отзывах, и как часто использовалось каждое слово. Этот подход известен как \"мешок слов\", и он предлагает действительно простой способ описания документа (в данном случае отзыва на фильм). \n",
    "\n",
    "Для каждого отзыва мы можем отслеживать, какие слова использовались и как часто каждое слово использовалось с помощью вектора, размерность которого равна количеству лексем или токенов в словаре, которые мы будем обозначать `n`. Индексы этого вектора соответствуют номерам токенов в словаре IMDb, а значения вектора - это количество раз, когда соответствующие токены появлялись в обзоре. Например, значения, хранящиеся в индексах 0, 1, 2, 3, 4 вектора, записывают количество раз, когда 5 токенов ['xxunk', 'xxpad', 'xxbos', 'xxeos', 'xxfld'] появлялись в отзыве соответственно.\n",
    "\n",
    "Теперь, если в нашей базе данных обзоров фильмов есть `m` обзоров, и каждый обзор представлен вектором длины `n`, то вертикальное сложение векторов строк для всех обзоров создает матричное представление IMDb, которое мы называем его матрицей терминов-документов. Строки соответствуют документам (отзывам), в то время как столбцы соответствуют \"терминам\" (или токенам в словаре)."
   ]
  },
  {
   "cell_type": "markdown",
   "metadata": {
    "hidden": true,
    "id": "W0iquNjz1X8h"
   },
   "source": [
    "В предыдущем занятии мы использовали [sklearn's CountVectorizer](https://github.com/scikit-learn/scikit-learn/blob/55bf5d9/sklearn/feature_extraction/text.py#L940) для создания векторов, представляющих отдельные отзывы. Сегодня мы создадим нашу собственную (аналогичную) версию.  Это происходит по двум причинам:\n",
    "- чтобы понять, что делает `sklearn`\n",
    "- создать что-то, что будет работать с `fastai TextDataLoader`."
   ]
  },
  {
   "cell_type": "markdown",
   "metadata": {
    "hidden": true,
    "id": "c_DEpe4C1X8i"
   },
   "source": [
    "### Сформируем вектора вставки для `movie_reviews` в обучающем наборе и соединим их вертикально"
   ]
  },
  {
   "cell_type": "code",
   "execution_count": 37,
   "metadata": {
    "colab": {
     "base_uri": "https://localhost:8080/"
    },
    "hidden": true,
    "id": "IhIpa2jx1X8i",
    "outputId": "80204fc0-b0c1-4983-a8c0-9d0829924218"
   },
   "outputs": [
    {
     "name": "stdout",
     "output_type": "stream",
     "text": [
      "Имеется 800 отзывов, и 7080 уникальные лексемы в словаре\n"
     ]
    }
   ],
   "source": [
    "# Определим функцию для построения полной матрицы терминов документа\n",
    "print(f'Имеется {n_docs} отзывов, и {n_terms} уникальные лексемы в словаре')\n",
    "def make_full_doc_term_matrix(count_vectorizer,n_terms=n_terms,n_docs=n_docs):\n",
    "    \n",
    "    # переберем отзывы в обучающем наборе данных\n",
    "    for doc_index in range(n_docs):\n",
    "        \n",
    "        # создаем вектор вставки\n",
    "        embedding_vector = count_vectorizer(doc_index,n_terms)    \n",
    "            \n",
    "        # добавьте вектор вложения к матрице терминов-документов\n",
    "        if(doc_index == 0):\n",
    "            A = embedding_vector\n",
    "        else:\n",
    "            A = np.vstack((A,embedding_vector))\n",
    "            \n",
    "    # возвращает матрицу терминов-документов\n",
    "    return A\n",
    "\n",
    "# Создайте полную матрицу терминов документа для обучающего набора movie_reviews\n",
    "A = make_full_doc_term_matrix(count_vectorizer)"
   ]
  },
  {
   "cell_type": "markdown",
   "metadata": {
    "hidden": true,
    "id": "8tDM2brq1X8i"
   },
   "source": [
    "### Исследование разреженности `sparsity` матрицы терминов-документов"
   ]
  },
  {
   "cell_type": "markdown",
   "metadata": {
    "hidden": true,
    "id": "sGbZ6ziN1X8i"
   },
   "source": [
    "**Разреженность** матрицы это часть нулевых элементов об общего количества элементов"
   ]
  },
  {
   "cell_type": "code",
   "execution_count": 38,
   "metadata": {
    "colab": {
     "base_uri": "https://localhost:8080/"
    },
    "hidden": true,
    "id": "_f5M68Nd1X8j",
    "outputId": "1e0ccc53-e23d-4548-a84c-5a1074d6a5f5"
   },
   "outputs": [
    {
     "name": "stdout",
     "output_type": "stream",
     "text": [
      "Только 114102 из 5664000 элементов в матрице терминов-документов ненулевые\n",
      "Разреженность матрицы: 0.979854872881356\n"
     ]
    }
   ],
   "source": [
    "NNZ = np.count_nonzero(A)\n",
    "sparsity = (A.size-NNZ)/A.size\n",
    "print(f'Только {NNZ} из {A.size} элементов в матрице терминов-документов ненулевые')\n",
    "print(f'Разреженность матрицы: {sparsity}')"
   ]
  },
  {
   "cell_type": "markdown",
   "metadata": {
    "hidden": true,
    "id": "AL1Yzdck1X8j"
   },
   "source": [
    "Используя метод `matplotlib` `spy`, мы можем визуализировать структуру матрицы терминов-документов `spy` выводит массив на экран, указывая каждое ненулевое значение точкой."
   ]
  },
  {
   "cell_type": "code",
   "execution_count": 39,
   "metadata": {
    "colab": {
     "base_uri": "https://localhost:8080/",
     "height": 378
    },
    "hidden": true,
    "id": "f5s6NpO71X8j",
    "outputId": "797c084f-7a0d-4eb9-d4bc-60385d18e31c"
   },
   "outputs": [
    {
     "data": {
      "image/png": "[encoded data removed]",
      "text/plain": [
       "<Figure size 800x600 with 1 Axes>"
      ]
     },
     "metadata": {},
     "output_type": "display_data"
    }
   ],
   "source": [
    "fig = plt.figure()\n",
    "plt.spy(A, markersize=0.10, aspect = 'auto')\n",
    "fig.set_size_inches(8,6)\n",
    "fig.savefig('doc_term_matrix.png', dpi=800)"
   ]
  },
  {
   "cell_type": "markdown",
   "metadata": {
    "hidden": true,
    "id": "q5jq3g8U1X8j"
   },
   "source": [
    "Выделяются несколько наблюдений:\n",
    "1. Очевидно, что матрица терминов документа является разреженной, т.е. имеет высокую долю нулей! \n",
    "2. Плотность матрицы увеличивается по направлению к левому краю. Это имеет смысл, потому что токены упорядочены по частоте использования, причем частота увеличивается в направлении \"влево\".\n",
    "3. Существует вызывающий недоумение узор изогнутых вертикальных \"рябей плотности\". Если у кого-нибудь есть объяснение, пожалуйста, дайте мне знать! \n",
    "\n",
    "Далее мы увидим, как использовать разреженность матрицы для экономии места в памяти, а также вычислительного времени и ресурсов."
   ]
  },
  {
   "cell_type": "markdown",
   "metadata": {
    "heading_collapsed": true,
    "id": "ACRdJ5hV1X8k"
   },
   "source": [
    "## 5. Разреженное матричное представление"
   ]
  },
  {
   "cell_type": "markdown",
   "metadata": {
    "hidden": true,
    "id": "5243Ijl41X8k"
   },
   "source": [
    "Несмотря на то, что мы сократили более 19 000 уникальных слов в нашем корпусе отзывов до словарного запаса в 7080 слов, это все равно много! Но отзывы, как правило, короткие, в несколько сотен слов. Таким образом, большинство токенов не появляются в типичном обзоре.  Это означает, что большинство записей в матрице терминов документа будут содержать нули, и поэтому обычные матричные операции будут тратить много вычислительных ресурсов на умножение и добавление нулей. \n",
    "\n",
    "Мы хотим максимально использовать пространство и время, сохраняя и выполняя матричные операции над нашей матрицей терминов-документов в виде **разреженной матрицы**. `scipy` предоставляет инструменты для эффективного представления разреженных матриц и операций с ними."
   ]
  },
  {
   "cell_type": "markdown",
   "metadata": {
    "hidden": true,
    "id": "pKI4iC2z1X8k"
   },
   "source": [
    "Грубо говоря, матрица с высокой долей нулей называется `разреженной` (противоположность разреженности - \"плотная\").  Для разреженных матриц вы можете сэкономить много памяти, сохранив только ненулевые значения.\n",
    "\n",
    "Более конкретно, класс матриц называется **разреженным**, если количество ненулевых элементов пропорционально количеству строк (или столбцов) вместо того, чтобы быть пропорциональным произведению строк на столбцы. Примером может служить класс диагональных матриц.\n",
    "<img src=\"../images/sparse.png\" alt=\"floating point\" style=\"width: 30%\"/>"
   ]
  },
  {
   "cell_type": "markdown",
   "metadata": {
    "hidden": true,
    "id": "k-96_-ls1X8l"
   },
   "source": [
    "### Визуализация структуры разрежнной матрицы\n",
    "<img src=\"../images/graph_g.png\" alt=\"floating point\" style=\"width: 50%\"/>\n",
    "ref. https://scipy-lectures.org/advanced/scipy_sparse/introduction.html"
   ]
  },
  {
   "cell_type": "markdown",
   "metadata": {
    "hidden": true,
    "id": "4t_bR4sM1X8l"
   },
   "source": [
    "### Форматы хранения разреженных матриц\n",
    "\n",
    "<img src=\"../images/sparse_format.png\" alt=\"floating point\" style=\"width: 90%\"/>\n",
    "ref. https://scipy-lectures.org/advanced/scipy_sparse/storage_schemes.html\n",
    "\n",
    "Существуют наиболее распространенные разреженные форматы хранения:\n",
    "- по координатам (в scipy есть COO)\n",
    "- сжатая разреженная строка (CSR)\n",
    "- сжатый разреженный столбец (CSC)"
   ]
  },
  {
   "cell_type": "markdown",
   "metadata": {
    "hidden": true,
    "id": "NtsoZY1M1X8l"
   },
   "source": [
    "### Определение формата сжатой разреженной строки (CSR)\n",
    "\n",
    "Давайте начнем с предварительного описания формата [**CSR**](https://en.wikipedia.org/wiki/Sparse_matrix)\n",
    "\n",
    "Учитывая полную матрицу **`A`**, которая имеет **`m`** строк, **`n`** столбцов и **`N`** ненулевых значений, представление CSR (сжатая разреженная строка) использует три массива следующим образом:\n",
    "\n",
    "1. **`Val[0:N]`** содержит **значения** из **`N` ненулевых элементов**.\n",
    "\n",
    "2. **`Col[0:N]`** содержит **индексы столбцов** из **`N` ненулевых элементов**. \n",
    "    \n",
    "3. Для каждой строки **`i`** из **`A`**, **`RowPointer[i]`** содержит индекс в **Val** первого **ненулевого значения** в строке **`i`**. Если в **i-й** строке нет ненулевых значений, то **`RowPointer[i] = None`**. И, по соглашению, дополнительное значение **`RowPointer[m] = N`** прикрепляется в конце. \n",
    "\n",
    "Вопрос: Сколько значений с плавающей точкой и целых чисел требуется для хранения матрицы **`A`** в формате CSR?\n",
    "\n",
    "Здесь можно посмотреть [несколько примеров](http://www.mathcs.emory.edu/~cheung/Courses/561/Syllabus/3-C/sparse.html) на сайте университера Эмори. "
   ]
  },
  {
   "cell_type": "markdown",
   "metadata": {
    "heading_collapsed": true,
    "id": "5BiAcQ-o1X8l"
   },
   "source": [
    "## 6. Преобразуем матрицу терминов-документов в формат CSR\n",
    ", т.е. учитывая объект `TextLoader`, содержащий отзывы, определите три массива (values, column_indices, row_pointer)."
   ]
  },
  {
   "cell_type": "markdown",
   "metadata": {
    "hidden": true,
    "id": "J4ORTe741X8m"
   },
   "source": [
    "### Scipy Реализация разреженных матриц\n",
    "\n",
    "Из документации [Scipy Sparse Matrix](https://docs.scipy.org/doc/scipy-0.18.1/reference/sparse.html)\n",
    "\n",
    "- Для эффективного построения матрицы используйте либо doc_matrix, либо lil_matrix. Класс lil_matrix поддерживает базовую нарезку и необычное индексирование с синтаксисом, аналогичным массивам NumPy. Как показано ниже, формат COO также может быть использован для эффективного построения матриц\n",
    "- Чтобы выполнить такие манипуляции, как умножение или инверсия, сначала преобразуйте матрицу в формат CSC или CSR.\n",
    "- Все преобразования между форматами CSR, CSC и COO являются эффективными операциями линейными по числу операндов."
   ]
  },
  {
   "cell_type": "markdown",
   "metadata": {
    "hidden": true,
    "id": "AuqhittF1X8m"
   },
   "source": [
    "Чтобы по-настоящему понять формат CSR, нам нужно уметь делать две вещи:\n",
    "1. Переводить обычную матрицу A в формат CSR\n",
    "2. Восстанавливать регулярную матрицу из ее разреженного представления CSR"
   ]
  },
  {
   "cell_type": "markdown",
   "metadata": {
    "hidden": true,
    "id": "eAjnXf7v1X8m"
   },
   "source": [
    "### 6.1. Перевод обычной матрицы A в формат CSR\n",
    "Это делается путем реализации определения формата `CSR`, приведенного выше."
   ]
  },
  {
   "cell_type": "code",
   "execution_count": 40,
   "metadata": {
    "hidden": true,
    "id": "lx-T4L4y1X8m"
   },
   "outputs": [],
   "source": [
    "# строим матрицу терминов документа в формате CSR\n",
    "# т.е. определяем (values, column_indices, row_pointer)\n",
    "\n",
    "def get_doc_term_matrix(token_counter, n_docs, n_terms):\n",
    "    \n",
    "    # ввод:\n",
    "    #    Объект, TokenCounter\n",
    "    #    n_docs, количество отзывов в обучающей выборке\n",
    "    #    n_terms, количество токенов в словаре\n",
    "    \n",
    "    # вывод: \n",
    "    #    формат CSR разреженное представление матрицы терминов документа в виде\n",
    "    #    объект scipy.sparse.csr.csr_matrix\n",
    "    \n",
    "    # Инициализация массивов\n",
    "    values = []\n",
    "    column_indices = []\n",
    "    row_pointer = []\n",
    "    row_pointer.append(0)\n",
    "\n",
    "    for doc_index in range(n_docs):\n",
    "        column_indices.extend(token_counter(doc_index).keys())\n",
    "        values.extend(token_counter(doc_index).values())\n",
    "        # Прикрепите N (количество ненулевых элементов в матрице) к концу массива row_pointer \n",
    "        row_pointer.append(len(values))\n",
    "        \n",
    "    return scipy.sparse.csr_matrix((values, column_indices, row_pointer),\n",
    "                                   shape=(len(row_pointer) - 1, n_terms),\n",
    "                                   dtype=int)"
   ]
  },
  {
   "cell_type": "markdown",
   "metadata": {
    "hidden": true,
    "id": "AOB7HF7X1X8m"
   },
   "source": [
    "Получим матрицу терминов документов в формате CSR для обучающих данных "
   ]
  },
  {
   "cell_type": "code",
   "execution_count": 41,
   "metadata": {
    "colab": {
     "base_uri": "https://localhost:8080/"
    },
    "hidden": true,
    "id": "aV98RAtR1X8n",
    "outputId": "8927e15d-6f83-4c17-e783-44025eb55556"
   },
   "outputs": [
    {
     "name": "stdout",
     "output_type": "stream",
     "text": [
      "CPU times: user 8.4 s, sys: 155 ms, total: 8.55 s\n",
      "Wall time: 9.82 s\n"
     ]
    }
   ],
   "source": [
    "%%time\n",
    "train_doc_term = get_doc_term_matrix(TokenCounter, n_docs, n_terms)"
   ]
  },
  {
   "cell_type": "code",
   "execution_count": 42,
   "metadata": {
    "colab": {
     "base_uri": "https://localhost:8080/"
    },
    "hidden": true,
    "id": "JYjQ35Uq1X8n",
    "outputId": "701e9a7d-d77c-446f-ac3b-41ca014b91d0"
   },
   "outputs": [
    {
     "data": {
      "text/plain": [
       "scipy.sparse._csr.csr_matrix"
      ]
     },
     "execution_count": 42,
     "metadata": {},
     "output_type": "execute_result"
    }
   ],
   "source": [
    "type(train_doc_term)"
   ]
  },
  {
   "cell_type": "code",
   "execution_count": 43,
   "metadata": {
    "colab": {
     "base_uri": "https://localhost:8080/"
    },
    "hidden": true,
    "id": "Q9aTTJNX1X8n",
    "outputId": "fe0a1ae6-24b1-4deb-f56f-bd798c593e43"
   },
   "outputs": [
    {
     "data": {
      "text/plain": [
       "(800, 7080)"
      ]
     },
     "execution_count": 43,
     "metadata": {},
     "output_type": "execute_result"
    }
   ],
   "source": [
    "train_doc_term.shape"
   ]
  },
  {
   "cell_type": "markdown",
   "metadata": {
    "hidden": true,
    "id": "0b2sPBCU1X8o"
   },
   "source": [
    "#### Задание 1.\n",
    "Получить матрицу терминов документов для валидационного набора данных в CSR формате."
   ]
  },
  {
   "cell_type": "code",
   "execution_count": 44,
   "metadata": {},
   "outputs": [],
   "source": [
    "n_terms = len(movie_reviews.vocab[0])\n",
    "n_docs = len(df[df.is_valid == True].text)"
   ]
  },
  {
   "cell_type": "code",
   "execution_count": 45,
   "metadata": {},
   "outputs": [
    {
     "name": "stdout",
     "output_type": "stream",
     "text": [
      "CPU times: user 2.7 s, sys: 25.3 ms, total: 2.73 s\n",
      "Wall time: 3.18 s\n"
     ]
    }
   ],
   "source": [
    "%%time\n",
    "valid_doc_term = get_doc_term_matrix(TokenCounter, n_docs, n_terms)"
   ]
  },
  {
   "cell_type": "code",
   "execution_count": 46,
   "metadata": {},
   "outputs": [
    {
     "data": {
      "text/plain": [
       "scipy.sparse._csr.csr_matrix"
      ]
     },
     "execution_count": 46,
     "metadata": {},
     "output_type": "execute_result"
    }
   ],
   "source": [
    "type(valid_doc_term)"
   ]
  },
  {
   "cell_type": "code",
   "execution_count": 47,
   "metadata": {},
   "outputs": [
    {
     "data": {
      "text/plain": [
       "(200, 7080)"
      ]
     },
     "execution_count": 47,
     "metadata": {},
     "output_type": "execute_result"
    }
   ],
   "source": [
    "valid_doc_term.shape"
   ]
  },
  {
   "cell_type": "markdown",
   "metadata": {
    "hidden": true,
    "id": "eS4QYVzu1X8p"
   },
   "source": [
    "### 6.2 Реконструировать регулярную матрицу из ее разреженного представления CSR\n",
    "Учитывая разреженное матричное представление формата `CSR` $(\\text{values},\\text{column_indices}, \\text{row_pointer})$ a $\\text{m}\\times \\text{n}$ matrix $\\text{A}$, как мы можем восстановить $\\text{A}$?\n",
    "\n",
    "Сначала создайте матрицу $\\text{m}\\times \\text{n}$ со всеми нулями.\n",
    "Мы восстановим $\\text{A}$, перезаписав записи в матрице нулей строка за строкой ненулевыми записями в $\\text{A}$ следующим образом:"
   ]
  },
  {
   "cell_type": "code",
   "execution_count": 48,
   "metadata": {
    "hidden": true,
    "id": "qQNc3ioN1X8p"
   },
   "outputs": [],
   "source": [
    "def CSR_to_full(values, column_indices, row_ptr, m,n):\n",
    "    A = np.zeros(m,n)\n",
    "    for row in range(n):\n",
    "        if row_ptr is not null:\n",
    "            A[row,column_indices[row_ptr[row]:row_ptr[row+1]]] = values[row_ptr[row]:row_ptr[row+1]]\n",
    "    return A"
   ]
  },
  {
   "cell_type": "markdown",
   "metadata": {
    "hidden": true,
    "id": "NDryC4SN1X8q"
   },
   "source": [
    "#### Метод `.todense()` преобразует разреженную матрицу обратно в обычную (плотную) матрицу."
   ]
  },
  {
   "cell_type": "code",
   "execution_count": 49,
   "metadata": {
    "colab": {
     "base_uri": "https://localhost:8080/"
    },
    "hidden": true,
    "id": "b8XBSH0u1X8q",
    "outputId": "05922780-d8ba-4ea3-b241-0e016bdb16d4"
   },
   "outputs": [
    {
     "data": {
      "text/plain": [
       "<800x7080 sparse matrix of type '<class 'numpy.int64'>'\n",
       "\twith 114102 stored elements in Compressed Sparse Row format>"
      ]
     },
     "execution_count": 49,
     "metadata": {},
     "output_type": "execute_result"
    }
   ],
   "source": [
    "train_doc_term"
   ]
  },
  {
   "cell_type": "code",
   "execution_count": 50,
   "metadata": {
    "colab": {
     "base_uri": "https://localhost:8080/"
    },
    "hidden": true,
    "id": "p17oWYuQ1X8q",
    "outputId": "ecb2b58f-5378-44e0-c6b8-b1ea47cb91f0"
   },
   "outputs": [
    {
     "data": {
      "text/plain": [
       "matrix([[ 7,  0,  1,  0,  0,  3,  0,  0, 14,  2],\n",
       "        [19,  0,  1,  0,  0,  0,  0,  2, 32, 27],\n",
       "        [ 3,  0,  1,  0,  0,  0,  0,  2, 16,  5],\n",
       "        [12,  0,  1,  0,  0,  0,  0,  0, 10, 16],\n",
       "        [ 8,  0,  1,  0,  0,  0,  0,  0, 21, 13],\n",
       "        [ 4,  0,  1,  0,  0,  0,  0,  1, 12,  6],\n",
       "        [ 4,  0,  1,  0,  0,  0,  0,  0, 15, 19],\n",
       "        [39,  0,  1,  0,  0,  0,  0, 12, 42, 30],\n",
       "        [15,  0,  1,  0,  0,  0,  0,  0, 26, 15],\n",
       "        [18,  0,  1,  0,  0,  0,  0,  1, 22, 10]])"
      ]
     },
     "execution_count": 50,
     "metadata": {},
     "output_type": "execute_result"
    }
   ],
   "source": [
    "train_doc_term.todense()[:10,:10]"
   ]
  },
  {
   "cell_type": "markdown",
   "metadata": {
    "heading_collapsed": true,
    "id": "9tUD3JtpspYz"
   },
   "source": [
    "## 7. Упражнения"
   ]
  },
  {
   "cell_type": "markdown",
   "metadata": {
    "hidden": true,
    "id": "ssIqQPLL1X8q"
   },
   "source": [
    "Рассмотрим `df[df.is_valid == True].text`как валидационный набор, выберем второй отзыв из него."
   ]
  },
  {
   "cell_type": "code",
   "execution_count": 51,
   "metadata": {},
   "outputs": [
    {
     "data": {
      "text/plain": [
       "\"I saw this movie once as a kid on the late-late show and fell in love with it.<br /><br />It took 30+ years, but I recently did find it on DVD - it wasn't cheap, either - in a catalog that specialized in war movies. We watched it last night for the first time. The audio was good, however it was grainy and had the trailers between reels. Even so, it was better than I remembered it. I was also impressed at how true it was to the play.<br /><br />The catalog is around here someplace. If you're sincere in finding it, fire me a missive and I'll see if I can get you the info. cartwrightbride@yahoo.com\""
      ]
     },
     "execution_count": 51,
     "metadata": {},
     "output_type": "execute_result"
    }
   ],
   "source": [
    "review = df[df.is_valid == True].text[df[df.is_valid == True].index[1]]\n",
    "review"
   ]
  },
  {
   "cell_type": "markdown",
   "metadata": {
    "hidden": true,
    "id": "Z-Tr5DWp1X8r"
   },
   "source": [
    "### Задание 2\n",
    "Сколько раз слово \"it\" встречается в этом отзыве? Подтвердите, что в матрице терминов - документов сохранены правильные значения для строки, соответствующей этому отзыву, и столбца, соответствующего слову \"it\"."
   ]
  },
  {
   "cell_type": "code",
   "execution_count": 52,
   "metadata": {},
   "outputs": [],
   "source": [
    "import re\n",
    "\n",
    "review = list(map(lambda x : re.compile('[^a-zA-Z]').sub('', x), review.casefold().replace('<br />', ' ').split()))"
   ]
  },
  {
   "cell_type": "code",
   "execution_count": 53,
   "metadata": {},
   "outputs": [
    {
     "data": {
      "text/plain": [
       "['i',\n",
       " 'saw',\n",
       " 'this',\n",
       " 'movie',\n",
       " 'once',\n",
       " 'as',\n",
       " 'a',\n",
       " 'kid',\n",
       " 'on',\n",
       " 'the',\n",
       " 'latelate',\n",
       " 'show',\n",
       " 'and',\n",
       " 'fell',\n",
       " 'in',\n",
       " 'love',\n",
       " 'with',\n",
       " 'it',\n",
       " 'it',\n",
       " 'took',\n",
       " '',\n",
       " 'years',\n",
       " 'but',\n",
       " 'i',\n",
       " 'recently',\n",
       " 'did',\n",
       " 'find',\n",
       " 'it',\n",
       " 'on',\n",
       " 'dvd',\n",
       " '',\n",
       " 'it',\n",
       " 'wasnt',\n",
       " 'cheap',\n",
       " 'either',\n",
       " '',\n",
       " 'in',\n",
       " 'a',\n",
       " 'catalog',\n",
       " 'that',\n",
       " 'specialized',\n",
       " 'in',\n",
       " 'war',\n",
       " 'movies',\n",
       " 'we',\n",
       " 'watched',\n",
       " 'it',\n",
       " 'last',\n",
       " 'night',\n",
       " 'for',\n",
       " 'the',\n",
       " 'first',\n",
       " 'time',\n",
       " 'the',\n",
       " 'audio',\n",
       " 'was',\n",
       " 'good',\n",
       " 'however',\n",
       " 'it',\n",
       " 'was',\n",
       " 'grainy',\n",
       " 'and',\n",
       " 'had',\n",
       " 'the',\n",
       " 'trailers',\n",
       " 'between',\n",
       " 'reels',\n",
       " 'even',\n",
       " 'so',\n",
       " 'it',\n",
       " 'was',\n",
       " 'better',\n",
       " 'than',\n",
       " 'i',\n",
       " 'remembered',\n",
       " 'it',\n",
       " 'i',\n",
       " 'was',\n",
       " 'also',\n",
       " 'impressed',\n",
       " 'at',\n",
       " 'how',\n",
       " 'true',\n",
       " 'it',\n",
       " 'was',\n",
       " 'to',\n",
       " 'the',\n",
       " 'play',\n",
       " 'the',\n",
       " 'catalog',\n",
       " 'is',\n",
       " 'around',\n",
       " 'here',\n",
       " 'someplace',\n",
       " 'if',\n",
       " 'youre',\n",
       " 'sincere',\n",
       " 'in',\n",
       " 'finding',\n",
       " 'it',\n",
       " 'fire',\n",
       " 'me',\n",
       " 'a',\n",
       " 'missive',\n",
       " 'and',\n",
       " 'ill',\n",
       " 'see',\n",
       " 'if',\n",
       " 'i',\n",
       " 'can',\n",
       " 'get',\n",
       " 'you',\n",
       " 'the',\n",
       " 'info',\n",
       " 'cartwrightbrideyahoocom']"
      ]
     },
     "execution_count": 53,
     "metadata": {},
     "output_type": "execute_result"
    }
   ],
   "source": [
    "review"
   ]
  },
  {
   "cell_type": "code",
   "execution_count": 54,
   "metadata": {
    "hidden": true,
    "id": "i_QX5N1C1X8r"
   },
   "outputs": [
    {
     "name": "stdout",
     "output_type": "stream",
     "text": [
      "10\n"
     ]
    }
   ],
   "source": [
    "count = review.count(\"it\")\n",
    "\n",
    "print(count)"
   ]
  },
  {
   "cell_type": "code",
   "execution_count": 55,
   "metadata": {},
   "outputs": [
    {
     "name": "stdout",
     "output_type": "stream",
     "text": [
      "10\n"
     ]
    }
   ],
   "source": [
    "from sklearn.feature_extraction.text import CountVectorizer\n",
    "\n",
    "vectorizer = CountVectorizer()\n",
    "X = vectorizer.fit_transform(df.text)\n",
    "review_idx = df[df.is_valid == True].index[1]\n",
    "it_idx = vectorizer.vocabulary_[\"it\"]\n",
    "count = X[review_idx, it_idx]\n",
    "\n",
    "print(count)"
   ]
  },
  {
   "cell_type": "markdown",
   "metadata": {
    "hidden": true,
    "id": "KQ5ayqZt1X8r"
   },
   "source": [
    "### Задание 3\n",
    "\n",
    "Подтвердите, что в отзыве содержится 144 токена, 81 из которых являются уникальными."
   ]
  },
  {
   "cell_type": "code",
   "execution_count": 56,
   "metadata": {
    "hidden": true,
    "id": "2YDLu6qS1X8r",
    "outputId": "4d12f467-90c9-4d48-f8f1-cf2763746b27"
   },
   "outputs": [
    {
     "data": {
      "text/plain": [
       "(#145) ['xxbos','i','saw','this','movie','once','as','a','kid','on'...]"
      ]
     },
     "execution_count": 56,
     "metadata": {},
     "output_type": "execute_result"
    }
   ],
   "source": [
    "movie_reviews.tokenizer(df[df.is_valid == True].text[df[df.is_valid == True].index[1]])"
   ]
  },
  {
   "cell_type": "code",
   "execution_count": 57,
   "metadata": {
    "hidden": true,
    "id": "62fuAjEv1X8s",
    "outputId": "2a375a7d-b889-4ee1-a0fe-23ff409856e3"
   },
   "outputs": [
    {
     "data": {
      "text/plain": [
       "88"
      ]
     },
     "execution_count": 57,
     "metadata": {},
     "output_type": "execute_result"
    }
   ],
   "source": [
    "len(set(movie_reviews.tokenizer(df[df.is_valid == True].text[df[df.is_valid == True].index[1]])))"
   ]
  },
  {
   "cell_type": "markdown",
   "metadata": {
    "hidden": true,
    "id": "dDzsWFen1X8s"
   },
   "source": [
    "#### Задание 4.\n",
    " Как преобразовать список номеров токенов в токинизированный текст? Создайте функцию и проверьте ее работу на одном из отзывов."
   ]
  },
  {
   "cell_type": "code",
   "execution_count": 58,
   "metadata": {
    "hidden": true,
    "id": "2Vi1VgAI1X8s",
    "outputId": "abbff5b0-88c0-4440-f96e-390cf6b51020"
   },
   "outputs": [
    {
     "name": "stdout",
     "output_type": "stream",
     "text": [
      "['xxbos', 'i', 'saw', 'this', 'movie', 'once', 'as', 'a', 'kid', 'on', 'the', 'late', '-', 'late', 'show', 'and', 'fell', 'in', 'love', 'with', 'it', '.', '\\n\\n', 'xxmaj', 'it', 'took', '30', '+', 'years', ',', 'but', 'i', 'recently', 'did', 'find', 'it', 'on', 'xxup', 'dvd', '-', 'it', 'was', \"n't\", 'cheap', ',', 'either', '-', 'in', 'a', 'catalog', 'that', 'specialized', 'in', 'war', 'movies', '.', 'xxmaj', 'we', 'watched', 'it', 'last', 'night', 'for', 'the', 'first', 'time', '.', 'xxmaj', 'the', 'audio', 'was', 'good', ',', 'however', 'it', 'was', 'grainy', 'and', 'had', 'the', 'trailers', 'between', 'reels', '.', 'xxmaj', 'even', 'so', ',', 'it', 'was', 'better', 'than', 'i', 'remembered', 'it', '.', 'i', 'was', 'also', 'impressed', 'at', 'how', 'true', 'it', 'was', 'to', 'the', 'play', '.', '\\n\\n', 'xxmaj', 'the', 'catalog', 'is', 'around', 'here', 'someplace', '.', 'xxmaj', 'if', 'you', \"'re\", 'sincere', 'in', 'finding', 'it', ',', 'fire', 'me', 'a', 'missive', 'and', 'xxmaj', 'i', \"'ll\", 'see', 'if', 'i', 'can', 'get', 'you', 'the', 'info', '.', 'cartwrightbride@yahoo.com']\n"
     ]
    }
   ],
   "source": [
    "word_list = [a for a in movie_reviews.tokenizer(df[df.is_valid == True].text[df[df.is_valid == True].index[1]])]\n",
    "print(word_list)"
   ]
  },
  {
   "cell_type": "code",
   "execution_count": 59,
   "metadata": {},
   "outputs": [
    {
     "name": "stdout",
     "output_type": "stream",
     "text": [
      "TensorText([   2,   19,  244,   21,   29,  313,   27,   13,  573,   35,    9,\n",
      "             478,   24,  478,  148,   12, 1206,   18,  145,   30,   17,   11,\n",
      "              26,    8,   17,  598,  939, 1233,  176,   10,   31,   19,  827,\n",
      "              89,  184,   17,   35,    7,  329,   24,   17,   25,   37,  569,\n",
      "              10,  342,   24,   18,   13, 5267,   20,    0,   18,  356,  126,\n",
      "              11,    8,   91,  316,   17,  259,  397,   28,    9,  106,   79,\n",
      "              11,    8,    9, 3209,   25,   68,   10,  237,   17,   25, 4551,\n",
      "              12,   85,    9, 2203,  181,    0,   11,    8,   78,   52,   10,\n",
      "              17,   25,  139,   98,   19, 1795,   17,   11,   19,   25,   99,\n",
      "            1370,   47,  108,  242,   17,   25,   15,    9,  384,   11,   26,\n",
      "               8,    9, 5267,   16,  190,  142,    0,   11,    8,   59,   33,\n",
      "             195, 6371,   18, 1593,   17,   10,  930,   90,   13,    0,   12,\n",
      "               8,   19,  227,   88,   59,   19,   83,  100,   33,    9,    0,\n",
      "              11,    0])\n"
     ]
    }
   ],
   "source": [
    "print(movie_reviews.numericalize(word_list))"
   ]
  },
  {
   "cell_type": "code",
   "execution_count": 60,
   "metadata": {},
   "outputs": [
    {
     "name": "stdout",
     "output_type": "stream",
     "text": [
      "xxbos i saw this movie once as a kid on the late - late show and fell in love with it . \n",
      "\n",
      " xxmaj it took 30 + years , but i recently did find it on xxup dvd - it was n't cheap , either - in a catalog that xxunk in war movies . xxmaj we watched it last night for the first time . xxmaj the audio was good , however it was grainy and had the trailers between xxunk . xxmaj even so , it was better than i remembered it . i was also impressed at how true it was to the play . \n",
      "\n",
      " xxmaj the catalog is around here xxunk . xxmaj if you 're sincere in finding it , fire me a xxunk and xxmaj i 'll see if i can get you the xxunk . xxunk\n"
     ]
    }
   ],
   "source": [
    "text_from_tokens = [movie_reviews.vocab[0][i] for i in movie_reviews.numericalize(word_list)]\n",
    "print(' '.join(text_from_tokens))"
   ]
  },
  {
   "cell_type": "markdown",
   "metadata": {
    "heading_collapsed": true,
    "id": "dhpbFGIG1X8t"
   },
   "source": [
    "## 8. Что такое классификатор [Naive Bayes](https://towardsdatascience.com/the-naive-bayes-classifier-e92ea9f47523)? "
   ]
  },
  {
   "cell_type": "markdown",
   "metadata": {
    "hidden": true,
    "id": "M7qdSWqM1X8t"
   },
   "source": [
    "Модель `мешка слов` рассматривает отзыв на фильм как эквивалент списка подсчетов всех токенов, которые он содержит. Когда вы делаете это, вы отбрасываете богатую информацию, получаемую в результате последовательного расположения токенов в предложениях и абзацах. \n",
    "\n",
    "Тем не менее, даже если вам не разрешают читать отзыв, а дают только его представление в виде \"количества токенов\", вы обычно все равно можете получить довольно хорошее представление о том, был ли отзыв хорошим или плохим. Как вы это делаете?  Мысленно оценивая общее `позитивное` или `негативное` настроение, которое передает набор слов, верно?  \n",
    "\n",
    "Наивный байесовский классификатор (`Naive Bayes Classifier`) - это алгоритм, который математически кодирует этот простой процесс рассуждения. Он основан на двух важных элементах информации, которые мы можем извлечь из обучающего набора:\n",
    "* Критерии оценки класса (`class priors`), то есть вероятности того, что случайно выбранный отзыв будет положительным или отрицательным\n",
    "* Вероятность токена (`token likelihoods`), т.е. насколько вероятно, что данный токен появится в положительном или отрицательном отзыве \n",
    "\n",
    "Оказывается, это вся информация, которая нам нужна для построения модели, способной довольно точно предсказать, как будет классифицирован любой данный обзор, учитывая его текст! \n",
    "\n",
    "Мы развернем полное объяснение магии наивного байесовского классификатора в следующем разделе. \n",
    "\n",
    "Между тем, в этом разделе мы сосредоточимся на том, как вычислить необходимую информацию из обучающих данных, в частности, априорные вероятности для отзовов каждого класса, а также количество встречаемости классов (`class occurrence counts`) и отношения правдоподобия классов `class likelihood ratios`) для каждого токена в словаре."
   ]
  },
  {
   "cell_type": "markdown",
   "metadata": {
    "hidden": true,
    "id": "mXEVEb6w1X8u"
   },
   "source": [
    "### 8A. Критерии оценки класса"
   ]
  },
  {
   "cell_type": "markdown",
   "metadata": {
    "hidden": true,
    "id": "o_SywGJU1X8u"
   },
   "source": [
    "Из обучающих данных мы можем определить \"приоры класса\" $p$ и $q$, которые представляют собой общие вероятности того, что случайно выбранный отзыв относится к положительному или отрицательному классу, соответственно. \n",
    "\n",
    "$p=\\frac{N^{+}}{N}$\n",
    "и\n",
    "$q=\\frac{N^{-}}{N}$ \n",
    "\n",
    "Здесь $N ^ {+}$ и $N ^ {-}$ - это количество положительных и отрицательных отзывов, а $N$ - общее количество отзывов в обучающем наборе, так что \n",
    "\n",
    "$N = N^{+} + N^{-}$,\n",
    "и \n",
    "$q = 1-p$"
   ]
  },
  {
   "cell_type": "markdown",
   "metadata": {
    "hidden": true,
    "id": "oKv6ZSrD1X8u"
   },
   "source": [
    "### 8B. Количества встречаемости класса"
   ]
  },
  {
   "cell_type": "markdown",
   "metadata": {
    "hidden": true,
    "id": "4_L2p3cy1X8u"
   },
   "source": [
    "Пусть $C ^ {+} _ {t} $ и $C ^ {-}_{t}$ будут количеством встречаемости токена $t$ в положительных и отрицательных отзывах соответственно, а $N ^ {+} $ и $N ^ {-}$ - общее количество положительных и отрицательных отзывов в наборе данных соответственно."
   ]
  },
  {
   "cell_type": "markdown",
   "metadata": {
    "hidden": true,
    "id": "hv4Ip84C1X8u"
   },
   "source": [
    "### 8B.1 Анализ данных с расчетом количеств встречаемости класса"
   ]
  },
  {
   "cell_type": "markdown",
   "metadata": {
    "hidden": true,
    "id": "V_t_LUMC1X8v"
   },
   "source": [
    "Классы и их целочисленные представления"
   ]
  },
  {
   "cell_type": "code",
   "execution_count": 61,
   "metadata": {
    "colab": {
     "base_uri": "https://localhost:8080/"
    },
    "hidden": true,
    "id": "mMiPTvQP1X8v",
    "outputId": "6da52ef6-a2fd-407e-dddb-53ca9490a48b"
   },
   "outputs": [
    {
     "data": {
      "text/plain": [
       "['_DataLoader__idxs',\n",
       " '__class__',\n",
       " '__delattr__',\n",
       " '__dict__',\n",
       " '__dir__',\n",
       " '__doc__',\n",
       " '__eq__',\n",
       " '__format__',\n",
       " '__ge__',\n",
       " '__getattr__']"
      ]
     },
     "execution_count": 61,
     "metadata": {},
     "output_type": "execute_result"
    }
   ],
   "source": [
    "dir(movie_reviews)[0:10]"
   ]
  },
  {
   "cell_type": "code",
   "execution_count": 62,
   "metadata": {
    "colab": {
     "base_uri": "https://localhost:8080/"
    },
    "hidden": true,
    "id": "nJw6iZ2L1X8v",
    "outputId": "da51ab6d-0b75-49c7-8f98-d6100b3274c6"
   },
   "outputs": [
    {
     "data": {
      "text/plain": [
       "2"
      ]
     },
     "execution_count": 62,
     "metadata": {},
     "output_type": "execute_result"
    }
   ],
   "source": [
    "movie_reviews.c"
   ]
  },
  {
   "cell_type": "code",
   "execution_count": 63,
   "metadata": {
    "colab": {
     "base_uri": "https://localhost:8080/"
    },
    "hidden": true,
    "id": "bUWpUOOf1X8v",
    "outputId": "38e52a0f-368d-472c-e3ca-6e362b52207a"
   },
   "outputs": [
    {
     "data": {
      "text/plain": [
       "['negative', 'positive']"
      ]
     },
     "execution_count": 63,
     "metadata": {},
     "output_type": "execute_result"
    }
   ],
   "source": [
    "movie_reviews.vocab[1]"
   ]
  },
  {
   "cell_type": "code",
   "execution_count": 64,
   "metadata": {
    "colab": {
     "base_uri": "https://localhost:8080/"
    },
    "hidden": true,
    "id": "_2Ucw64o1X8v",
    "outputId": "b2658461-4fa8-4286-ce79-735fa03c4a03"
   },
   "outputs": [
    {
     "name": "stdout",
     "output_type": "stream",
     "text": [
      "Целочисленное представление классов:  положительный: 1, отрицательный: 0\n"
     ]
    }
   ],
   "source": [
    "positive = list(movie_reviews.vocab[1]).index('positive')\n",
    "negative =  list(movie_reviews.vocab[1]).index('negative')\n",
    "print(f'Целочисленное представление классов:  положительный: {positive}, отрицательный: {negative}')"
   ]
  },
  {
   "cell_type": "markdown",
   "metadata": {
    "hidden": true,
    "id": "PKYIyaxs1X8w"
   },
   "source": [
    "Сократим переменные для матрицы терминов-документов обучающего набора и ее меток, меток проверки и словарного запаса"
   ]
  },
  {
   "cell_type": "code",
   "execution_count": 65,
   "metadata": {
    "colab": {
     "base_uri": "https://localhost:8080/"
    },
    "hidden": true,
    "id": "AtE0jD_9zaJN",
    "outputId": "8cc62283-527a-4f14-a15b-b60e9c38fea6"
   },
   "outputs": [
    {
     "data": {
      "text/plain": [
       "0"
      ]
     },
     "execution_count": 65,
     "metadata": {},
     "output_type": "execute_result"
    }
   ],
   "source": [
    "movie_reviews.train_ds[2][1].item()"
   ]
  },
  {
   "cell_type": "code",
   "execution_count": 66,
   "metadata": {
    "hidden": true,
    "id": "aTAwyG831X8w"
   },
   "outputs": [],
   "source": [
    "x = train_doc_term\n",
    "y = np.array([i[1].item() for i in movie_reviews.train_ds])\n",
    "valid_y = np.array([i[1].item() for i in movie_reviews.valid_ds])"
   ]
  },
  {
   "cell_type": "code",
   "execution_count": 67,
   "metadata": {
    "colab": {
     "base_uri": "https://localhost:8080/"
    },
    "hidden": true,
    "id": "XO__P51y1X8w",
    "outputId": "ed81edfc-2bf3-468a-f193-b189484d305a"
   },
   "outputs": [
    {
     "data": {
      "text/plain": [
       "(800, 7080)"
      ]
     },
     "execution_count": 67,
     "metadata": {},
     "output_type": "execute_result"
    }
   ],
   "source": [
    "x.shape"
   ]
  },
  {
   "cell_type": "markdown",
   "metadata": {
    "hidden": true,
    "id": "rWs2KTOG1X8w"
   },
   "source": [
    "Массивы подсчета `C1` и `C0` перечисляют общее количество встречаемости токенов в положительных и отрицательных отзывах соответственно."
   ]
  },
  {
   "cell_type": "code",
   "execution_count": 68,
   "metadata": {
    "hidden": true,
    "id": "_9f8710h1X8w"
   },
   "outputs": [],
   "source": [
    "C1 = np.squeeze(np.asarray(x[y==1].sum(0)))\n",
    "C0 = np.squeeze(np.asarray(x[y==0].sum(0)))"
   ]
  },
  {
   "cell_type": "markdown",
   "metadata": {
    "hidden": true,
    "id": "d4Sh2fLD1X8w"
   },
   "source": [
    "Для каждого словарного знака мы суммируем количество положительных отзывов о нем и количество отрицательных отзывов о нем. Вот количество встречаемости первых 10 лексем в словаре."
   ]
  },
  {
   "cell_type": "code",
   "execution_count": 69,
   "metadata": {
    "colab": {
     "base_uri": "https://localhost:8080/"
    },
    "hidden": true,
    "id": "QtVMpluW1X8w",
    "outputId": "8bea83d9-cba9-4700-d7ef-98ebdd7548ad"
   },
   "outputs": [
    {
     "name": "stdout",
     "output_type": "stream",
     "text": [
      "[5706    0  383    0    0   64    0  627 9675 5249]\n",
      "[ 6286     0   417     0     0    93     3   852 10288  6143]\n"
     ]
    }
   ],
   "source": [
    "print(C1[:10])\n",
    "print(C0[:10])"
   ]
  },
  {
   "cell_type": "markdown",
   "metadata": {
    "hidden": true,
    "id": "dW-Yb5bt1X8x"
   },
   "source": [
    "### 8B.2 Упражнения"
   ]
  },
  {
   "cell_type": "markdown",
   "metadata": {
    "hidden": true,
    "id": "xHD1-c_f1X8x"
   },
   "source": [
    "Мы можем использовать `C0` и `C1` для дальнейшего изучения данных!"
   ]
  },
  {
   "cell_type": "markdown",
   "metadata": {
    "hidden": true,
    "id": "LReCA9_S1X8x"
   },
   "source": [
    "### Задание 5. \n",
    "Сравните, как часто слово \"love\" встречается в положительных отзывах по сравнению с отрицательными.  Проделайте то же самое со словом \"hate\"."
   ]
  },
  {
   "cell_type": "code",
   "execution_count": 70,
   "metadata": {},
   "outputs": [
    {
     "name": "stdout",
     "output_type": "stream",
     "text": [
      "Слово \"love\" встречается 132 и 75 раз в положительных и отрицательных отзывах, соответственно\n"
     ]
    }
   ],
   "source": [
    "ind = list(movie_reviews.vocab[0]).index('love')\n",
    "pos_counts = C1[ind] \n",
    "neg_counts = C0[ind] \n",
    "print(f'Слово \"love\" встречается {pos_counts} и {neg_counts} раз в положительных и отрицательных отзывах, соответственно')"
   ]
  },
  {
   "cell_type": "code",
   "execution_count": 71,
   "metadata": {},
   "outputs": [
    {
     "name": "stdout",
     "output_type": "stream",
     "text": [
      "Слово \"hate\" встречается 5 и 13 раз в положительных и отрицательных отзывах, соответственно\n"
     ]
    }
   ],
   "source": [
    "ind = list(movie_reviews.vocab[0]).index('hate')\n",
    "pos_counts = C1[ind] \n",
    "neg_counts = C0[ind] \n",
    "print(f'Слово \"hate\" встречается {pos_counts} и {neg_counts} раз в положительных и отрицательных отзывах, соответственно')"
   ]
  },
  {
   "cell_type": "markdown",
   "metadata": {
    "hidden": true,
    "id": "lFhEGVCf1X8y"
   },
   "source": [
    "Давайте посмотрим на пример положительного отзыва, содержащего слово \"hated\""
   ]
  },
  {
   "cell_type": "code",
   "execution_count": 72,
   "metadata": {
    "hidden": true,
    "id": "jayUEA9b1X8y",
    "outputId": "5c912432-fb9a-471e-c164-150157aa0f8d"
   },
   "outputs": [
    {
     "name": "stdout",
     "output_type": "stream",
     "text": [
      "[118 198 222 260 296 321 323 330 451 489 498 512 559 567 609 751 774]\n",
      "[  1   3  10  11  12  13  14  18  19  20  25  26  29  30  32  33  35  36\n",
      "  39  40  41  42  43  46  47  50  52  53  55  57  58  61  69  72  73  74\n",
      "  75  76  77  78  79  80  84  85  87  89  90  91  93  96  99 100 101 102\n",
      " 103 105 108 110 112 114 116 117 120 124 127 132 133 137 138 143 145 147\n",
      " 148 149 152 153 160 162 164 165 170 172 174 175 177 178 180 182 184 185\n",
      " 187 188 191 192 194 196 197 198 201 202 203 206 207 208 211 216 217 223\n",
      " 225 227 228 229 232 233 236 242 244 245 248 250 253 255 256 258 259 261\n",
      " 262 264 265 267 268 269 271 272 275 276 277 280 282 283 286 287 289 291\n",
      " 292 296 297 298 300 305 306 308 309 310 313 316 320 323 325 326 328 333\n",
      " 335 337 339 341 342 344 345 347 350 355 356 357 360 361 366 368 377 379\n",
      " 381 383 384 390 391 393 394 396 399 400 402 404 406 407 412 413 416 417\n",
      " 420 422 423 425 426 430 437 438 440 441 442 443 444 446 449 450 452 453\n",
      " 454 458 459 460 463 465 468 470 474 476 477 478 479 480 481 489 490 492\n",
      " 493 494 496 499 506 514 515 517 518 520 522 524 525 526 528 529 530 531\n",
      " 532 535 537 538 541 542 544 550 553 554 557 561 564 565 568 569 572 574\n",
      " 575 576 578 579 581 582 583 584 585 586 587 588 591 593 594 595 599 602\n",
      " 603 606 609 610 611 612 616 617 618 623 625 627 628 630 633 634 635 639\n",
      " 643 646 648 649 652 653 654 655 657 660 661 663 664 667 668 669 677 680\n",
      " 681 682 685 686 689 693 695 696 697 699 702 705 707 710 711 712 715 716\n",
      " 717 718 720 721 722 723 724 725 726 730 733 735 736 739 741 747 748 749\n",
      " 750 753 755 756 757 766 768 769 771 772 775 777 778 779 781 782 783 784\n",
      " 785 787 789 790 797]\n"
     ]
    },
    {
     "data": {
      "text/plain": [
       "'I reached the end of this and I was almost shouting \"No, no, no, NO! It cannot end here! There are too many unanswered questions! The engagement of the dishwashers? Mona\\'s disappearance? Helmer\\'s comeuppance? The \"zombie\"? Was Little Brother saved by his father? And what about the head???????\" ARGH!! Then I read that at least two of the cast members had passed on and I have to say, I know it probably wouldn\\'t be true to Lars von Trier\\'s vision, but I would gladly look past replacement actors just to see the ending he had planned! Granted, it would be hard to find someone to play Helmer as the character deserves. Helmer, the doctor you love to hate! I think I have yet to see a more self-absorbed, oblivious, self-righteous character on screen! But, I could overlook a change in actors....I just have to know how it ends!'"
      ]
     },
     "execution_count": 72,
     "metadata": {},
     "output_type": "execute_result"
    }
   ],
   "source": [
    "ind = list(movie_reviews.vocab[0]).index('hate')\n",
    "a = np.argwhere((x[:,ind] > 0))[:,0]\n",
    "print(a)\n",
    "b = np.argwhere(y==1)[:,0]\n",
    "print(b)\n",
    "c = list(set(a).intersection(set(b)))[0]\n",
    "review = df[df.is_valid == False].text[int(c)]\n",
    "review"
   ]
  },
  {
   "cell_type": "markdown",
   "metadata": {
    "hidden": true,
    "id": "jTtvGPoK1X8y"
   },
   "source": [
    "Пример отрицательного отзыва со словом \"loved\""
   ]
  },
  {
   "cell_type": "code",
   "execution_count": 73,
   "metadata": {
    "hidden": true,
    "id": "xv6b_HHy1X8z",
    "outputId": "3ba6735e-49fb-4064-e016-01689e01bacc"
   },
   "outputs": [
    {
     "name": "stdout",
     "output_type": "stream",
     "text": [
      "[ 18  21  24  25  30  33  50  57  62  70  75  82  89  95 101 109 110 116\n",
      " 120 123 131 133 151 161 162 168 174 182 187 191 192 194 198 217 221 227\n",
      " 246 247 253 255 284 291 295 296 304 308 309 321 326 338 340 345 347 356\n",
      " 368 379 380 391 392 394 407 409 420 423 425 439 441 450 453 456 459 460\n",
      " 463 470 473 484 488 489 490 491 492 498 502 512 518 520 523 524 528 531\n",
      " 532 548 552 553 554 568 575 587 588 598 609 616 627 628 642 652 657 664\n",
      " 669 672 683 695 696 697 709 711 724 731 735 736 739 741 742 748 749 751\n",
      " 754 756 759 767 772 776 784 789 792 794]\n",
      "[  1   3  10  11  12  13  14  18  19  20  25  26  29  30  32  33  35  36\n",
      "  39  40  41  42  43  46  47  50  52  53  55  57  58  61  69  72  73  74\n",
      "  75  76  77  78  79  80  84  85  87  89  90  91  93  96  99 100 101 102\n",
      " 103 105 108 110 112 114 116 117 120 124 127 132 133 137 138 143 145 147\n",
      " 148 149 152 153 160 162 164 165 170 172 174 175 177 178 180 182 184 185\n",
      " 187 188 191 192 194 196 197 198 201 202 203 206 207 208 211 216 217 223\n",
      " 225 227 228 229 232 233 236 242 244 245 248 250 253 255 256 258 259 261\n",
      " 262 264 265 267 268 269 271 272 275 276 277 280 282 283 286 287 289 291\n",
      " 292 296 297 298 300 305 306 308 309 310 313 316 320 323 325 326 328 333\n",
      " 335 337 339 341 342 344 345 347 350 355 356 357 360 361 366 368 377 379\n",
      " 381 383 384 390 391 393 394 396 399 400 402 404 406 407 412 413 416 417\n",
      " 420 422 423 425 426 430 437 438 440 441 442 443 444 446 449 450 452 453\n",
      " 454 458 459 460 463 465 468 470 474 476 477 478 479 480 481 489 490 492\n",
      " 493 494 496 499 506 514 515 517 518 520 522 524 525 526 528 529 530 531\n",
      " 532 535 537 538 541 542 544 550 553 554 557 561 564 565 568 569 572 574\n",
      " 575 576 578 579 581 582 583 584 585 586 587 588 591 593 594 595 599 602\n",
      " 603 606 609 610 611 612 616 617 618 623 625 627 628 630 633 634 635 639\n",
      " 643 646 648 649 652 653 654 655 657 660 661 663 664 667 668 669 677 680\n",
      " 681 682 685 686 689 693 695 696 697 699 702 705 707 710 711 712 715 716\n",
      " 717 718 720 721 722 723 724 725 726 730 733 735 736 739 741 747 748 749\n",
      " 750 753 755 756 757 766 768 769 771 772 775 777 778 779 781 782 783 784\n",
      " 785 787 789 790 797]\n"
     ]
    },
    {
     "data": {
      "text/plain": [
       "'My kids recently started watching the reruns of this show - both the early episodes on the N, and the later ones on ABC Family - and they love it. (I wasn\\'t aware the show had even lasted past the first or second season) I\\'m curious as to what prompted all of the cast changes - I\\'ve seen them described as \"highly publicized,\" and yet a half hours searching efforts on the web have revealed nothing but endless comments on how the early episodes were so much better than the later episodes. (Personally, I don\\'t see a whole lot of difference - the scripts and themes remain largely the same throughout - but they do lose some great people along the way) My daughter has put the DVDs on her wish list, so perhaps the land of special features and commentary will shed some light on all of this. I also wish they\\'d done some self-referential humor about the changes - like on \"Boy Meets World\" where they drop the little sister for an entire season or so, and when a different actor later shows up playing her, they ask her where she\\'s been and she says \"upstairs,\" or when early series token geek \"Minkus\" shows up for the high school graduation, they ask him where he\\'s been and he says \"over there,\" pointing to the part of the classroom never shown by the camera, before saying \"Hey, Mr. Turner, wait up!\" and running off screen (Mr. turner being another character who left) Oh well - maybe there will be an E true Hollywood story on this or something? I was just glad to see Aunt Hilda show up for the finale - she was always one of my favorites - it\\'s too bad it couldn\\'t have been a more encompassing cast reunion. (The Zelda candle just didn\\'t cut it for me)'"
      ]
     },
     "execution_count": 73,
     "metadata": {},
     "output_type": "execute_result"
    }
   ],
   "source": [
    "ind = list(movie_reviews.vocab[0]).index('love')\n",
    "a = np.argwhere((x[:,ind] > 0))[:,0]\n",
    "print(a)\n",
    "b = np.argwhere(y==1)[:,0]\n",
    "print(b)\n",
    "c = list(set(a).intersection(set(b)))[0]\n",
    "review = df[df.is_valid == False].text[int(c)]\n",
    "review"
   ]
  },
  {
   "cell_type": "markdown",
   "metadata": {
    "hidden": true,
    "id": "akFTHzfa1X8z"
   },
   "source": [
    "### 8C. Отношения вероятности классов"
   ]
  },
  {
   "cell_type": "markdown",
   "metadata": {
    "hidden": true,
    "id": "P6pSE5E31X8z"
   },
   "source": [
    "Затем, учитывая знание того, что отзыв классифицируется как, условная вероятность того, что токен $t$ появится в положительныом отзыве, равна\n",
    "$ L (t|+) = \\frac {C ^ {+}_{t}}{N ^ +}$, и точно так же условная вероятность появления токена в отрицательном отзыве равна \n",
    "$ L(t|-) = \\frac{C^{-}_{t}}{N^-}$"
   ]
  },
  {
   "cell_type": "markdown",
   "metadata": {
    "hidden": true,
    "id": "tk-e-aog1X8z"
   },
   "source": [
    "### 8D. Логарифм отношения вероятностей классов `log-count ratio`"
   ]
  },
  {
   "cell_type": "markdown",
   "metadata": {
    "hidden": true,
    "id": "EJHFREPb1X8z"
   },
   "source": [
    "Из коэффициентов правдоподобия класса мы можем определить **логарифм отношения вероятностей классов** $R_{t}$ для каждого токена $t$ как\n",
    "$ R_{t} = \\text{log} \\frac {L(t|+)} {L(t|-)}$\n",
    "Логарифм отношения вероятностей классов ранжирует токены по их относительной близости к положительным и отрицательным отзывам\n",
    "Очевидно, что\n",
    "* $R_{t} \\gt 0$ означает, что положительные отзывы с большей вероятностью будут содержать этот токен \n",
    "* $R_{t} \\lt 0$ означает, что отрицательные отзывы с большей вероятностью будут содержать этот токен \n",
    "* $R_{t} = 0$ указывает, что токен $t$ с равной вероятностью появится в положительных и отрицательных отзывах\n"
   ]
  },
  {
   "cell_type": "markdown",
   "metadata": {
    "heading_collapsed": true,
    "id": "E9FOa7Z11X80"
   },
   "source": [
    "## 9. Построение наивного байесовского классификатора для обзоров фильмов IMDb"
   ]
  },
  {
   "cell_type": "markdown",
   "metadata": {
    "hidden": true,
    "id": "A7Fd3hSA1X80"
   },
   "source": [
    "Из массивов чисел появлений токенов можно вычислить вероятности классов и логарифма их отношений для всех токенов в словаре."
   ]
  },
  {
   "cell_type": "markdown",
   "metadata": {
    "hidden": true,
    "id": "H1oVXq1b1X80"
   },
   "source": [
    "### 9A. Вычисление вероятностей с учетом новых слов классов"
   ]
  },
  {
   "cell_type": "markdown",
   "metadata": {
    "hidden": true,
    "id": "ugl--AEe1X80"
   },
   "source": [
    "Вычислим слегка измененные условные вероятности, добавляя 1 к числителю и знаменателю, чтобы обеспечить численную стабильность при появлении новых слов"
   ]
  },
  {
   "cell_type": "code",
   "execution_count": 74,
   "metadata": {
    "hidden": true,
    "id": "lxxRVK-a1X80"
   },
   "outputs": [],
   "source": [
    "L1 = (C1+1) / ((y==1).sum() + 1)\n",
    "L0 = (C0+1) / ((y==0).sum() + 1)"
   ]
  },
  {
   "cell_type": "markdown",
   "metadata": {
    "hidden": true,
    "id": "bDJyO0md1X81"
   },
   "source": [
    "### 9B. Вычислим новые логарифмы отношений вероятностей"
   ]
  },
  {
   "cell_type": "markdown",
   "metadata": {
    "hidden": true,
    "id": "xzVcz-Rt1X81"
   },
   "source": [
    "Логарифмы отношений вероятностей имееют следующий вид:"
   ]
  },
  {
   "cell_type": "code",
   "execution_count": 75,
   "metadata": {
    "colab": {
     "base_uri": "https://localhost:8080/"
    },
    "hidden": true,
    "id": "N4k3so8a1X81",
    "outputId": "a1156a39-7f6d-45ae-81f0-7f17370195d1"
   },
   "outputs": [
    {
     "name": "stdout",
     "output_type": "stream",
     "text": [
      "[-0.01195164  0.08483888  0.         ...  0.08483888  0.08483888\n",
      "  0.08483888]\n"
     ]
    }
   ],
   "source": [
    "R = np.log(L1/L0)\n",
    "print(R)"
   ]
  },
  {
   "cell_type": "markdown",
   "metadata": {
    "hidden": true,
    "id": "pB6HFs-a1X81"
   },
   "source": [
    "**Упражнение с данными**: найдите словарные слова, которые с наибольшей вероятностью будут ассоциироваться с положительными и отрицательными отзывами."
   ]
  },
  {
   "cell_type": "markdown",
   "metadata": {
    "hidden": true,
    "id": "5ohBTbhg1X81"
   },
   "source": [
    "Получите индексы токенов с самым высоким и самым низким логарифмом отношения вероятностей"
   ]
  },
  {
   "cell_type": "code",
   "execution_count": 76,
   "metadata": {
    "hidden": true,
    "id": "WLj05-he1X81"
   },
   "outputs": [],
   "source": [
    "n_tokens = 10\n",
    "highest_R = np.argpartition(R, -n_tokens)[-n_tokens:]\n",
    "lowest_R = np.argpartition(R, n_tokens)[:n_tokens]"
   ]
  },
  {
   "cell_type": "code",
   "execution_count": 77,
   "metadata": {
    "colab": {
     "base_uri": "https://localhost:8080/"
    },
    "hidden": true,
    "id": "0o4fsxEU1X82",
    "outputId": "c93a165a-20c3-41e3-bcfd-dd20a6c2ef76"
   },
   "outputs": [
    {
     "name": "stdout",
     "output_type": "stream",
     "text": [
      "Наивысшие 10 логарифмы отношений: [2.56974553 2.64978824 2.64978824 2.72389621 2.64978824 2.72389621\n",
      " 2.97521064 2.8574276  3.02927786 2.79288908]\n",
      "\n",
      "Наинизшие 10 логарифмы отношений: [-3.09321495 -3.13403694 -2.8596001  -2.55421845 -2.63645655 -2.55421845\n",
      " -2.74837446 -2.68774984 -2.62321132 -2.80553288]\n"
     ]
    }
   ],
   "source": [
    "print(f'Наивысшие {n_tokens} логарифмы отношений: {R[list(highest_R)]}\\n')\n",
    "print(f'Наинизшие {n_tokens} логарифмы отношений: {R[list(lowest_R)]}')"
   ]
  },
  {
   "cell_type": "markdown",
   "metadata": {
    "hidden": true,
    "id": "H1pVjkFp1X82"
   },
   "source": [
    "Наиболе позитивные слова:"
   ]
  },
  {
   "cell_type": "code",
   "execution_count": 78,
   "metadata": {
    "colab": {
     "base_uri": "https://localhost:8080/"
    },
    "hidden": true,
    "id": "T7mkn8Gd1X82",
    "outputId": "09382653-4d8e-4154-97ae-5cd388df2497"
   },
   "outputs": [
    {
     "data": {
      "text/plain": [
       "array([2150, 2036, 1967,  937, 1766, 1758, 1484, 1646, 1414, 1194])"
      ]
     },
     "execution_count": 78,
     "metadata": {},
     "output_type": "execute_result"
    }
   ],
   "source": [
    "highest_R"
   ]
  },
  {
   "cell_type": "code",
   "execution_count": 79,
   "metadata": {
    "colab": {
     "base_uri": "https://localhost:8080/"
    },
    "hidden": true,
    "id": "J-fKikno1X82",
    "outputId": "33c1b911-a4df-4b0a-8045-33b0c4fd0438"
   },
   "outputs": [
    {
     "data": {
      "text/plain": [
       "['paxton',\n",
       " 'gilliam',\n",
       " 'jabba',\n",
       " 'jimmy',\n",
       " 'davies',\n",
       " 'felix',\n",
       " 'fanfan',\n",
       " 'astaire',\n",
       " 'biko',\n",
       " 'noir']"
      ]
     },
     "execution_count": 79,
     "metadata": {},
     "output_type": "execute_result"
    }
   ],
   "source": [
    "[movie_reviews.vocab[0][k] for k in highest_R]"
   ]
  },
  {
   "cell_type": "markdown",
   "metadata": {
    "hidden": true,
    "id": "LqoopXNo1X83"
   },
   "source": [
    "Есть только два отзыва на фильм, в которых упоминается \"biko\"."
   ]
  },
  {
   "cell_type": "code",
   "execution_count": 80,
   "metadata": {
    "colab": {
     "base_uri": "https://localhost:8080/"
    },
    "hidden": true,
    "id": "8yi_pOuh1X83",
    "outputId": "7d156baa-c2b0-4fa4-b0d9-6e43f6d83947"
   },
   "outputs": [
    {
     "data": {
      "text/plain": [
       "2"
      ]
     },
     "execution_count": 80,
     "metadata": {},
     "output_type": "execute_result"
    }
   ],
   "source": [
    "token = ['biko']\n",
    "ind = movie_reviews.numericalize(token).item()\n",
    "(train_doc_term[:,ind]!=0).sum()"
   ]
  },
  {
   "cell_type": "markdown",
   "metadata": {
    "hidden": true,
    "id": "QmWALAHi1X83"
   },
   "source": [
    "В каком отзыве фильма больше всего встречается 'biko'?"
   ]
  },
  {
   "cell_type": "code",
   "execution_count": 81,
   "metadata": {
    "colab": {
     "base_uri": "https://localhost:8080/"
    },
    "hidden": true,
    "id": "4m3-aGED1X83",
    "outputId": "4ef75ec0-e677-4d0d-805f-848e9d9ec19d"
   },
   "outputs": [
    {
     "name": "stdout",
     "output_type": "stream",
     "text": [
      "Отзыв # 515 содержит 14 упоминаний \"biko\"\n",
      "\n",
      "\"The True Story Of The Friendship That Shook South Africa And Awakened The World.\" <br /><br />Richard Attenborough, who directed \"A Bridge Too Far\" and \"Gandhi\", wanted to bring the story of Steve Biko to life, and the journey and trouble that journalist Donald Woods went through in order to get his story told. The films uses Wood's two books for it's information and basis - \"Biko\" and \"Asking for Trouble\".<br /><br />The film takes place in the late 1970's, in South Africa. South Africa is in the grip of the terrible apartheid, which keeps the blacks separated from the whites and classifies the whites as the superior race. The blacks are forced to live in shantytowns on the outskirts of the cities and towns, and they come under frequent harassment by the police and the army. We are shown a dawn raid on a shantytown, as bulldozers and armed police force their way through the camp beating and even killing the inhabitants. Then we are introduced to Donald Woods (Kevin Kline), who is the editor of a popular newspaper. After publishing a negative story about black activist Steve Biko (Denzel Washington), Woods goes to meet with him. The two are wary of each other at first, but they soon become good friends and Biko shows the horrors of the apartheid system from a black persons point of view to Woods. This encourages Woods to speak out against what's happening around him, and makes him desperate to bring Steve Biko's story out of the clutches of the white man's South Africa and to the world. Soon, Steve Biko is arrested and is killed in prison. Now Woods and his family are daring to escape from South Africa to England, where Woods can publish his book about Steve Biko and the apartheid.<br /><br />When I first heard of \"Cry Freedom\", I was under the impression that it was a movie completely dedicated to the life of Steve Biko. I had never actually heard of Steve Biko before I seen this film, as the events in this film were really before my time. But it's more about the story of Donald Woods and his journey across the border into Lesotho as he tried to elude the South African officials. Woods was put on a five year type house arrest after Steve Biko was killed. So in order to publish his manuscript on Steve Biko, he had to escape. Because the manuscript would be considered treason in South Africa and that could have resulted in Woods meeting a fate similar to that of Biko's. The real Donald Woods and his wife acted as consultants to this film.<br /><br />Denzel Washington is only in the film for the first hour, and I was disappointed with that as I was expecting to see him for the entire movie. But he was amazing as Steve Biko, and captured his personality from what I've read really well and his accent sounded perfect. His performance earned him an Oscar nomination for Best Supporting Actor. Kevin Kline delivers a excellent and thought-evoking performance as Donald Woods, and Penelope Wilton is excellent as his wife Wendy.<br /><br />Filming took place in Zimbabwe, as needless to say problems arose when they tried to film it in South Africa. While in South Africa, the South African gestapo followed the film crew everywhere, so they got the bad vibes and they pulled out and went to neighbouring Zimbabwe instead. Despite everything, and the fact that the apartheid didn't end 'til seven years later, \"Cry Freedom\" wasn't banned in South Africa. But cinemas showing the movie received bomb threats.<br /><br />Richard Attenborough brings the horrors of the apartheid to the screen with extreme force and determination. He doesn't hold back at the end of the movie when showing what was supposed to be a peaceful protest by students in a shantytown, turns into a massacre when police open fire on them. The film ends with the names of all the anti-apartheid movers who died in prison, and the explanations for their deaths. Many had \"No Explanation\". Quite a few were \"Epilepsy\", which is hard to believe, and many more either fell from the top of the stairs or were \"Suicide from Hanging\". No one will ever know what really happened to them, but I think it's fair to say that none of these men died at their own hands, but at the hands of others; or to be more precise, at the hands of the police. <br /><br />\"Cry Freedom\" is a must-see movie for it's portrayal and story of Steve Biko. It's also a searing and devastating portrayal of a beautiful land divided and in the hellish grips of racial segregation and violence.\n"
     ]
    }
   ],
   "source": [
    "index = np.argmax(train_doc_term[:,ind])\n",
    "n_times = train_doc_term[index,ind]\n",
    "print(f'Отзыв # {index} содержит {n_times} упоминаний \"{token[0]}\"\\n')\n",
    "print(df.text[index])"
   ]
  },
  {
   "cell_type": "markdown",
   "metadata": {
    "hidden": true,
    "id": "EGcpBpmR1X84"
   },
   "source": [
    "Наиболее отрицательные слова:"
   ]
  },
  {
   "cell_type": "code",
   "execution_count": 82,
   "metadata": {
    "colab": {
     "base_uri": "https://localhost:8080/"
    },
    "hidden": true,
    "id": "TO2dlTDb1X84",
    "outputId": "944da5ca-b996-4195-a18d-1cacc6330fc6"
   },
   "outputs": [
    {
     "data": {
      "text/plain": [
       "array([1139,  988,  559, 1895,  288, 1896, 1140, 1635, 1344, 1452])"
      ]
     },
     "execution_count": 82,
     "metadata": {},
     "output_type": "execute_result"
    }
   ],
   "source": [
    "lowest_R"
   ]
  },
  {
   "cell_type": "code",
   "execution_count": 83,
   "metadata": {
    "colab": {
     "base_uri": "https://localhost:8080/"
    },
    "hidden": true,
    "id": "AyEAC9N71X84",
    "outputId": "ecdba872-371a-43d2-e0bf-e0a07638260d"
   },
   "outputs": [
    {
     "data": {
      "text/plain": [
       "['vargas',\n",
       " 'porn',\n",
       " 'crap',\n",
       " 'fuqua',\n",
       " 'worst',\n",
       " 'soderbergh',\n",
       " 'dog',\n",
       " 'crater',\n",
       " 'disappointment',\n",
       " 'naschy']"
      ]
     },
     "execution_count": 83,
     "metadata": {},
     "output_type": "execute_result"
    }
   ],
   "source": [
    "[movie_reviews.vocab[0][k] for k in lowest_R]"
   ]
  },
  {
   "cell_type": "markdown",
   "metadata": {
    "hidden": true,
    "id": "d57MGKYe1X85"
   },
   "source": [
    "Есть только один отзыв на фильм, в которой упоминается 'soderbergh'."
   ]
  },
  {
   "cell_type": "code",
   "execution_count": 84,
   "metadata": {
    "colab": {
     "base_uri": "https://localhost:8080/"
    },
    "hidden": true,
    "id": "mDJ9l4bS1X85",
    "outputId": "79ed59bd-b4ff-47d5-8d58-d219bebd2cad"
   },
   "outputs": [
    {
     "data": {
      "text/plain": [
       "1"
      ]
     },
     "execution_count": 84,
     "metadata": {},
     "output_type": "execute_result"
    }
   ],
   "source": [
    "token = ['soderbergh']\n",
    "ind = movie_reviews.numericalize(token).item()\n",
    "(train_doc_term[:,ind]!=0).sum()"
   ]
  },
  {
   "cell_type": "code",
   "execution_count": 85,
   "metadata": {
    "colab": {
     "base_uri": "https://localhost:8080/"
    },
    "hidden": true,
    "id": "MaCw4VI51X85",
    "outputId": "29b4af6f-f242-4835-e4af-b03bc3804c99"
   },
   "outputs": [
    {
     "name": "stdout",
     "output_type": "stream",
     "text": [
      "Отзыв # 434 содержит 13 упоминаний \"soderbergh\"\n",
      "\n",
      "Now that Che(2008) has finished its relatively short Australian cinema run (extremely limited release:1 screen in Sydney, after 6wks), I can guiltlessly join both hosts of \"At The Movies\" in taking Steven Soderbergh to task.<br /><br />It's usually satisfying to watch a film director change his style/subject, but Soderbergh's most recent stinker, The Girlfriend Experience(2009), was also missing a story, so narrative (and editing?) seem to suddenly be Soderbergh's main challenge. Strange, after 20-odd years in the business. He was probably never much good at narrative, just hid it well inside \"edgy\" projects.<br /><br />None of this excuses him this present, almost diabolical failure. As David Stratton warns, \"two parts of Che don't (even) make a whole\". <br /><br />Epic biopic in name only, Che(2008) barely qualifies as a feature film! It certainly has no legs, inasmuch as except for its uncharacteristic ultimate resolution forced upon it by history, Soderbergh's 4.5hrs-long dirge just goes nowhere.<br /><br />Even Margaret Pomeranz, the more forgiving of Australia's At The Movies duo, noted about Soderbergh's repetitious waste of (HD digital storage): \"you're in the woods...you're in the woods...you're in the woods...\". I too am surprised Soderbergh didn't give us another 2.5hrs of THAT somewhere between his existing two Parts, because he still left out massive chunks of Che's \"revolutionary\" life! <br /><br />For a biopic of an important but infamous historical figure, Soderbergh unaccountably alienates, if not deliberately insults, his audiences by<br /><br />1. never providing most of Che's story; <br /><br />2. imposing unreasonable film lengths with mere dullard repetition; <br /><br />3. ignoring both true hindsight and a narrative of events; <br /><br />4. barely developing an idea, or a character; <br /><br />5. remaining claustrophobically episodic; <br /><br />6. ignoring proper context for scenes---whatever we do get is mired in disruptive timeshifts; <br /><br />7. linguistically dislocating all audiences (even Spanish-speakers will be confused by the incongruous expositions in English); and <br /><br />8. pointlessly whitewashing his main subject into one dimension. Why, at THIS late stage? The T-shirt franchise has been a success! <br /><br />Our sense of claustrophobia is surely due to Peter Buchman and Benjamin VanDer Veen basing their screenplay solely on Guevara's memoirs. So, like a poor student who has read only ONE of his allotted texts for his assignment, Soderbergh's product is exceedingly limited in perspective.<br /><br />The audience is held captive within the same constrained knowledge, scenery and circumstances of the \"revolutionaries\", but that doesn't elicit our sympathy. Instead, it dawns on us that \"Ah, Soderbergh's trying to hobble his audiences the same as the Latino peasants were at the time\". But these are the SAME illiterate Latino peasants who sold out the good doctor to his enemies. Why does Soderbergh feel the need to equate us with them, and keep us equally mentally captive? Such audience straitjacketing must have a purpose.<br /><br />Part2 is more chronological than Part1, but it's literally mind-numbing with its repetitive bush-bashing, misery of outlook, and lack of variety or character arcs. DelToro's Che has no opportunity to grow as a person while he struggles to educate his own ill-disciplined troops. The only letup is the humour as Che deals with his sometimes deeply ignorant \"revolutionaries\", some of whom violently lack self-control around local peasants or food. We certainly get no insight into what caused the conditions, nor any strategic analyses of their guerrilla insurgency, such as it was.<br /><br />Part2's excruciating countdown remains fearfully episodic: again, nothing is telegraphed or contextualized. Thus even the scenes with Fidel Castro (Demián Bichir) are unexpected and disconcerting. Any selected events are portrayed minimally and Latino-centrically, with Part1's interviews replaced by time-shifting meetings between the corrupt Bolivian president (Joaquim de Almeida) and US Government officials promising CIA intervention(!).<br /><br />The rest of Part2's \"woods\" and day-for-night blue filter just exasperate the audience until they're eyeing the exits.<br /><br />Perhaps DelToro felt too keenly the frustration of many non-American Latinos about never getting a truthful, unspun history of Che's exploits within their own countries. When foreign governments still won't deliver a free press to their people--for whatever reason--then one can see how a popular American indie producer might set out to entice the not-so-well-read (\"I may not be able to read or write, but I'm NOT illiterate!\"--cf.The Inspector General(1949)) out to their own local cinemas. The film's obvious neglects and gross over-simplifications hint very strongly that it's aiming only at the comprehensions of the less-informed WHO STILL SPEAK LITTLE English. If they did, they'd have read tomes on the subject already, and critiqued the relevant social issues amongst themselves--learning the lessons of history as they should.<br /><br />Such insights are precisely what societies still need--and not just the remaining illiterate Latinos of Central and South America--yet it's what Che(2008) gleefully fails to deliver. Soderbergh buries his lead because he's weak on narrative. I am gobsmacked why Benicio DelToro deliberately chose Soderbergh for this project if he knew this. It's been 44yrs, hindsight about Guevara was sorely wanted: it's what I went to see this film for, but the director diabolically robs us of that.<br /><br />David Stratton, writing in The Australian (03-Oct-2009) observed that while Part1 was \"uneven\", Part2 actually \"goes rapidly downhill\" from there, \"charting Che's final campaign in Bolivia in excruciating detail\", which \"...feels almost unbearably slow and turgid\".<br /><br />Che:The Guerilla aka Part2 is certainly no travelogue for Bolivia, painting it a picture of misery and atavism. The entire second half is only redeemed by the aforementioned humour, and the dramatic--yet tragic--capture and execution of the film's subject.<br /><br />The rest of this interminable cinema verite is just confusing, irritating misery--shockingly, for a Soderbergh film, to be avoided at all costs. It is bound to break the hearts of all who know even just a smattering about the subject.(2/10)\n"
     ]
    }
   ],
   "source": [
    "index = np.argmax(train_doc_term[:,ind])\n",
    "n_times = train_doc_term[index,ind]\n",
    "print(f'Отзыв # {index} содержит {n_times} упоминаний \"{token[0]}\"\\n')\n",
    "print(df.text[index])"
   ]
  },
  {
   "cell_type": "markdown",
   "metadata": {
    "hidden": true,
    "id": "7J8uosJH1X86"
   },
   "source": [
    "### 9C. Вычислим априорные вероятности для каждого класса\n"
   ]
  },
  {
   "cell_type": "code",
   "execution_count": 86,
   "metadata": {
    "colab": {
     "base_uri": "https://localhost:8080/"
    },
    "hidden": true,
    "id": "9ypHmARR1X86",
    "outputId": "a0b89a08-3f1d-4113-83af-7642c21d839a"
   },
   "outputs": [
    {
     "name": "stdout",
     "output_type": "stream",
     "text": [
      "Априорные вероятности для положительного и отрицательного классов следующие: 0.47875 и 0.52125\n"
     ]
    }
   ],
   "source": [
    "p = (y==1).mean()\n",
    "q = (y==0).mean()\n",
    "print(f'Априорные вероятности для положительного и отрицательного классов следующие: {p} и {q}')"
   ]
  },
  {
   "cell_type": "markdown",
   "metadata": {
    "hidden": true,
    "id": "61Yfl8ju1X86"
   },
   "source": [
    "Логарифм отношений вероятности\n",
    "равен $b = \\text{log} \\frac{p} {q}$ \n",
    "является мерой \"предвзятости\" или \"дисбаланса` в наборе данных. \n",
    "\n",
    "* $b = 0$ указывает на идеально сбалансированный набор данных\n",
    "* $b \\gt 0$ указывает на склонность к положительным отзывам \n",
    "* $b \\lt 0$ указывает на предвзятость в отношении негативных отзывов"
   ]
  },
  {
   "cell_type": "code",
   "execution_count": 87,
   "metadata": {
    "colab": {
     "base_uri": "https://localhost:8080/"
    },
    "hidden": true,
    "id": "QlfzLWID1X86",
    "outputId": "f3cf2622-126e-4353-cac5-164417e5102e"
   },
   "outputs": [
    {
     "name": "stdout",
     "output_type": "stream",
     "text": [
      "Логарифм отношения вероятностей L = -0.08505123261815539\n"
     ]
    }
   ],
   "source": [
    "b = np.log((y==1).mean() / (y==0).mean())\n",
    "print(f'Логарифм отношения вероятностей L = {b}')"
   ]
  },
  {
   "cell_type": "markdown",
   "metadata": {
    "hidden": true,
    "id": "FDS4riUa1X87"
   },
   "source": [
    "Мы видим, что набор тренировок слегка несбалансирован в сторону негативных отзывов."
   ]
  },
  {
   "cell_type": "markdown",
   "metadata": {
    "hidden": true,
    "id": "Gid-ciaB1X87"
   },
   "source": [
    "### 9D. Собирая все это воедино: классификатор отзывов фильмов наивного Байеса\n",
    "В этом разделе мы начнем с обсуждения теоремы Байеса, затем будем использовать ее для получения наивного байесовского классификатора. Далее мы применим классификатор наивного Байеса к нашей задаче с отзывами фильмов. Наконец, мы рассмотрим рецепт построения наивного байесовского классификатора."
   ]
  },
  {
   "cell_type": "markdown",
   "metadata": {
    "hidden": true,
    "id": "wQrXSUVY1X87"
   },
   "source": [
    "### 9D.1 Что такое теорема Байеса и что она говорит об отзывах фильмов IMDb?\n",
    "---\n",
    "Рассмотрим два события, $A$ и $B$  \n",
    "Тогда вероятность того, что $A$ и $B$ произойдут вместе, может быть записана двумя способами:\n",
    "$p(A,B) = p(A|B)\\cdot p(B)$ <br>\n",
    "$p(A,B) = p(B|A)\\cdot p(A)$\n",
    "\n",
    "где $p(A|B)$ и $p(B|A)$ - условные вероятности:\n",
    "$p(A |B)$ - вероятность возникновения $A$, учитывая, что $B$ произошло,\n",
    "$p (A)$ - вероятность того, что $A$ произойдет,\n",
    "$p(B)$ - вероятность того, что $B$ произойдет\n",
    "\n",
    "$ \\textbf {Теорема Байеса} $ - это просто утверждение о том, что правые части двух приведенных выше уравнений равны:\n",
    "\n",
    "$p(A|B) \\cdot p(B) = p(B|A) \\cdot p(A)$\n",
    "\n",
    "Применение $\\textbf {Теорема Байеса}$ к нашей задаче с обзором фильмов на IMDb:\n",
    "\n",
    "Мы идентифицируем $A$ и $B$ как <br> \n",
    "$A \\equiv \\text{класс}$, т.е. положительный или отрицательный, и <br>\n",
    "$B \\equiv \\text{токены}$, т.е. \"пакет\" токенов, используемых в отзывах.\n",
    "\n",
    "Тогда $\\textbf {теорема Байеса}$ говорит\n",
    "\n",
    "$p(\\text{класс}|\\text{токены})\\cdot p(\\text{токены}) = p(\\text{токены}|\\text{класс}) \\cdot p(\\text{класс})$\n",
    "\n",
    "Левая часть приведенного выше выражения называется $\\textbf {вероятность апостериорного класса}$, вероятность того, что отзыв будет положительным (или отрицательным), учитывая содержащиеся в нем токены. Это именно то, что мы хотим предсказать!"
   ]
  },
  {
   "cell_type": "markdown",
   "metadata": {
    "hidden": true,
    "id": "PQ-u0Zm61X88"
   },
   "source": [
    "### 9D.2 Наивный Байесовский классификатор\n",
    "\n",
    "Учитывая список токенов в обзоре, мы стремимся предсказать, будет ли отзыв оценен как положительный или отрицательный.\n",
    "Мы можем сделать прогноз, если знаем вероятности апостериорного класса.\n",
    "$p(\\text{class}|\\text{tokens})$, где $\\text{class}$ является либо положительным, либо отрицательным, а $\\text{tokens}$ - это список токенов, которые отображаются в обзоре.\n",
    "[Теорема Байеса](https://en.wikipedia.org/wiki/Bayes%27_theorem) говорит нам, что апостериорные вероятности, правдоподобия и априорные значения связаны таким образом:\n",
    "$p(\\text{class}|\\text{tokens}) \\propto p(\\text{tokens}|\\text{class})\\cdot p(\\text{class})$\n",
    "Теперь токены не являются независимыми друг от друга. Например, \"перейти\" часто появляется с кому, поэтому, если перейти появляется в обзоре, более вероятно, что обзор также содержит кому. Тем не менее, предположение, что токены независимы, позволяет нам упростить ситуацию, поэтому мы опрометчиво делаем это, надеясь, что это не слишком неправильно!\n",
    "$p(\\text{tokens}|\\text{class}) = \\prod_{i=1}^{n} p(t_{i}|\\text{class})$\n",
    "где $t_{i}$ - токен $i\\text{th}$ в словаре, а $n$ - количество токенов в словаре. Итак, теорема Байеса такова\n",
    ": $p(\\text{class}|\\text{tokens}) \\propto p(\\text{class}) \\prod_{i=1} ^{n} p(t_{i}|\\text{class})$\n",
    "\n",
    "Принимая соотношение $\\textbf{вероятности апостериорного класса}$ для положительных и отрицательных классов, мы имеем $\\frac{p(+|\\text{tokens})}{p( - |\\text{tokens})} = \\frac{p(+)}{p(-)} \\cdot \\prod_{i=1}^{n} \\frac {p(t_{i}|+)} {p(t_{i}|- )} = \\frac{p}{q} \\cdot \\prod_{i=1}^{n} \\frac {L(t_{i}|+)} {L(t_{i}| - )}$\n",
    "поскольку вероятности пропорциональны вероятностям.\n",
    "Взятие логарифма обеих сторон преобразует это в линейную задачу:\n",
    "$\\text{log} \\frac{p(+|\\text{tokens})}{p( - |\\text{tokens})} = \\text{log}\\frac{p}{q} + \\sum_{i=1}^{n} \\text{log} \\frac {L(t_{i}|+)} {L(t_{i}| - )} = b + \\sum_{i=1}^{n} R_{t_{i}}$\n",
    "\n",
    "Первый член в правой части - это \"смещение\", а второй член - это точечное произведение *бинаризованного* вектора вложения и логарифма вероятностей.\n",
    "\n",
    "Если левая часть больше или равна нулю, мы прогнозируем, что отзыв положительный, в противном случае мы прогнозируем, что отзыв отрицательный.\n",
    "\n",
    "Мы можем переписать последнее уравнение в матричной форме, чтобы сгенерировать $m\\times 1$ вектор логического столбца $\\textbf{preds}$ прогнозов обзора:\n",
    "$\\textbf{preds} = \\textbf{W} \\cdot \\textbf{R} + \\textbf{b}$\n",
    "где:\n",
    "* $\\textbf{preds} \\equiv \\text{log} \\frac{p(+|\\text{tokens})}{p( - |\\text{tokens})}$\n",
    "* $\\textbf{W}$ - это бинаризованная матрица терминов документа $m\\times n$, строки которой являются бинаризованными векторами вложения для обзоров фильмов\n",
    "* $\\textbf{R}$ - это $n\\times 1$ вектор коэффициентов логарифмического подсчета для токенов, и\n",
    "* $ \\textbf{b}$ - это вектор $n\\times 1$, элементы которого являются смещением $b$\n",
    "\n",
    "Наивная байесовская модель состоит из вектора логарифмических подсчетов $\\textbf{R}$ и смещения $\\textbf{b}$"
   ]
  },
  {
   "cell_type": "markdown",
   "metadata": {
    "hidden": true,
    "id": "JAAGSFQ01X89"
   },
   "source": [
    "### 9Е. Реализация наивного байесовского классификатора отзывов на фильмы\n",
    "Используйем его для прогнозирования меток для обучающих и проверочных наборов данных IMDb_sample."
   ]
  },
  {
   "cell_type": "code",
   "execution_count": 88,
   "metadata": {
    "colab": {
     "base_uri": "https://localhost:8080/"
    },
    "hidden": true,
    "id": "sQQyMKMn1X89",
    "outputId": "92ef843b-eef5-4659-d0b8-36dfc5188c0c"
   },
   "outputs": [
    {
     "name": "stdout",
     "output_type": "stream",
     "text": [
      "Точность предсказания на обучающей выборке 0.91\n"
     ]
    }
   ],
   "source": [
    "W = train_doc_term.sign()\n",
    "preds_train = (W @ R + b) > 0\n",
    "train_accuracy = (preds_train == y).mean()\n",
    "print(f'Точность предсказания на обучающей выборке {train_accuracy}')"
   ]
  },
  {
   "cell_type": "markdown",
   "metadata": {
    "hidden": true,
    "id": "aP-P5LAqQp2d"
   },
   "source": [
    "### Задание 6.\n",
    "Проверьте точность предсказаний бейсовского классификатора на проверочной выборке."
   ]
  },
  {
   "cell_type": "code",
   "execution_count": 89,
   "metadata": {},
   "outputs": [
    {
     "name": "stdout",
     "output_type": "stream",
     "text": [
      "Точность предсказания на проверочной выборке 0.48\n"
     ]
    }
   ],
   "source": [
    "W = valid_doc_term.sign()\n",
    "preds_valid = (W @ R + b) > 0\n",
    "valid_accuracy = (preds_valid == valid_y).mean()\n",
    "print(f'Точность предсказания на проверочной выборке {valid_accuracy}')"
   ]
  },
  {
   "cell_type": "markdown",
   "metadata": {
    "hidden": true,
    "id": "jBTIekOj1X8-"
   },
   "source": [
    "### 9F. Резюме: Рецепт для наивного байесовского классификатора\n",
    "Вот краткое изложение нашей процедуры прогнозирования меток с помощью наивного байесовского классификатора, начиная с обучающего набора `x` и обучающих меток `y`.\n",
    "\n",
    "- Вычислить векторы количества токенов\n",
    "> C0 = np.squeeze(np.asarray(x[y==0].sum(0))) <br> \n",
    "> C1 = np.squeeze(np.asarray(x[y==1].sum(0))) <br> \n",
    "\n",
    "- Вычислить векторы правдоподобия класса токенов\n",
    "> L0 = (C0+1) / ((y==0).sum() + 1) <br> \n",
    "> L1 = (C1+1) / ((y==1).sum() + 1) <br> \n",
    "\n",
    "- Вычислите вектор коэффициентов логарифмического подсчета\n",
    "> R = np.log(L1/L0)\n",
    "\n",
    "- Вычислите член смещения\n",
    "> b = np.log((y==1).mean() / (y==0).mean())\n",
    "\n",
    "- Наивная байесовская модель состоит из вектора логарифмических подсчетов $\\textbf{R}$ и смещения $\\textbf{b}$\n",
    "- Прогнозировать метки просмотра фильмов на основе линейного преобразования вектора коэффициентов логарифмического подсчета:\n",
    "> preds = (W @ R + b) > 0, <br> \n",
    "где матрица весов `W = train_doc_term.sign()` - это бинаризованная матрица `train_doc_term`, строки которой являются бинаризованными векторами вложения для отзывов фильмов, для которых вы хотите предсказать рейтинги."
   ]
  },
  {
   "cell_type": "markdown",
   "metadata": {
    "hidden": true,
    "id": "bpQs8VSv1X8_"
   },
   "source": [
    "\n",
    "Теперь, когда наш подход работает на меньшей выборке данных, мы можем попробовать использовать его на полном наборе данных."
   ]
  },
  {
   "cell_type": "markdown",
   "metadata": {
    "id": "Xw4Cs1aY1X9p"
   },
   "source": [
    "## References"
   ]
  },
  {
   "cell_type": "markdown",
   "metadata": {
    "id": "MEBz-1RB1X9p"
   },
   "source": [
    "* Baselines and Bigrams: Simple, Good Sentiment and Topic Classification. Sida Wang and Christopher D. Manning [pdf](https://www.aclweb.org/anthology/P12-2018)\n",
    "* [The Naive Bayes Classifier](https://towardsdatascience.com/the-naive-bayes-classifier-e92ea9f47523). Joseph Catanzarite, in Towards Data Science"
   ]
  }
 ],
 "metadata": {
  "accelerator": "GPU",
  "colab": {
   "provenance": []
  },
  "gpuClass": "standard",
  "kernelspec": {
   "display_name": "Python 3 (ipykernel)",
   "language": "python",
   "name": "python3"
  },
  "language_info": {
   "codemirror_mode": {
    "name": "ipython",
    "version": 3
   },
   "file_extension": ".py",
   "mimetype": "text/x-python",
   "name": "python",
   "nbconvert_exporter": "python",
   "pygments_lexer": "ipython3",
   "version": "3.10.7"
  },
  "nbTranslate": {
   "displayLangs": [
    "*"
   ],
   "hotkey": "alt-t",
   "langInMainMenu": true,
   "sourceLang": "en",
   "targetLang": "fr",
   "useGoogleTranslate": true
  }
 },
 "nbformat": 4,
 "nbformat_minor": 4
}
