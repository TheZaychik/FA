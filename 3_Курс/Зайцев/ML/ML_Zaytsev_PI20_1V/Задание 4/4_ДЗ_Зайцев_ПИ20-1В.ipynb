{
 "cells": [
  {
   "cell_type": "markdown",
   "metadata": {
    "id": "5FQXDgoHtbOc"
   },
   "source": [
    "1. Ваша задача - построить предиктивную модель предсказания целевой переменной в зависимости от значения нескольких факторов (признаков)."
   ]
  },
  {
   "cell_type": "code",
   "execution_count": 24,
   "metadata": {},
   "outputs": [
    {
     "name": "stdout",
     "output_type": "stream",
     "text": [
      "\u001b[33mDEPRECATION: Configuring installation scheme with distutils config files is deprecated and will no longer work in the near future. If you are using a Homebrew or Linuxbrew Python, please see discussion at https://github.com/Homebrew/homebrew-core/issues/76621\u001b[0m\u001b[33m\n",
      "\u001b[0mRequirement already satisfied: sklearn in /usr/local/lib/python3.9/site-packages (0.0)\n",
      "Requirement already satisfied: scikit-learn in /usr/local/lib/python3.9/site-packages (from sklearn) (1.1.3)\n",
      "Requirement already satisfied: joblib>=1.0.0 in /usr/local/lib/python3.9/site-packages (from scikit-learn->sklearn) (1.2.0)\n",
      "Requirement already satisfied: threadpoolctl>=2.0.0 in /usr/local/lib/python3.9/site-packages (from scikit-learn->sklearn) (3.1.0)\n",
      "Requirement already satisfied: scipy>=1.3.2 in /usr/local/lib/python3.9/site-packages (from scikit-learn->sklearn) (1.9.3)\n",
      "Requirement already satisfied: numpy>=1.17.3 in /usr/local/lib/python3.9/site-packages (from scikit-learn->sklearn) (1.20.3)\n",
      "\u001b[33mDEPRECATION: Configuring installation scheme with distutils config files is deprecated and will no longer work in the near future. If you are using a Homebrew or Linuxbrew Python, please see discussion at https://github.com/Homebrew/homebrew-core/issues/76621\u001b[0m\u001b[33m\n",
      "\u001b[0m\u001b[33mWARNING: There was an error checking the latest version of pip.\u001b[0m\u001b[33m\n",
      "\u001b[0m\u001b[33mDEPRECATION: Configuring installation scheme with distutils config files is deprecated and will no longer work in the near future. If you are using a Homebrew or Linuxbrew Python, please see discussion at https://github.com/Homebrew/homebrew-core/issues/76621\u001b[0m\u001b[33m\n",
      "\u001b[0mCollecting statsmodels\n",
      "  Downloading statsmodels-0.13.2-cp39-cp39-macosx_10_9_x86_64.whl (9.6 MB)\n",
      "\u001b[2K     \u001b[38;2;114;156;31m━━━━━━━━━━━━━━━━━━━━━━━━━━━━━━━━━━━━━━━━\u001b[0m \u001b[32m9.6/9.6 MB\u001b[0m \u001b[31m22.2 MB/s\u001b[0m eta \u001b[36m0:00:00\u001b[0mm eta \u001b[36m0:00:01\u001b[0m[36m0:00:01\u001b[0m\n",
      "\u001b[?25hRequirement already satisfied: numpy>=1.17 in /usr/local/lib/python3.9/site-packages (from statsmodels) (1.20.3)\n",
      "Collecting packaging>=21.3\n",
      "  Using cached packaging-21.3-py3-none-any.whl (40 kB)\n",
      "Requirement already satisfied: scipy>=1.3 in /usr/local/lib/python3.9/site-packages (from statsmodels) (1.9.3)\n",
      "Collecting patsy>=0.5.2\n",
      "  Downloading patsy-0.5.3-py2.py3-none-any.whl (233 kB)\n",
      "\u001b[2K     \u001b[38;2;114;156;31m━━━━━━━━━━━━━━━━━━━━━━━━━━━━━━━━━━━━━━\u001b[0m \u001b[32m233.8/233.8 kB\u001b[0m \u001b[31m14.0 MB/s\u001b[0m eta \u001b[36m0:00:00\u001b[0m\n",
      "\u001b[?25hRequirement already satisfied: pandas>=0.25 in /usr/local/lib/python3.9/site-packages (from statsmodels) (1.4.1)\n",
      "Requirement already satisfied: pyparsing!=3.0.5,>=2.0.2 in /usr/local/lib/python3.9/site-packages (from packaging>=21.3->statsmodels) (2.4.7)\n",
      "Requirement already satisfied: pytz>=2020.1 in /usr/local/lib/python3.9/site-packages (from pandas>=0.25->statsmodels) (2021.3)\n",
      "Requirement already satisfied: python-dateutil>=2.8.1 in /usr/local/lib/python3.9/site-packages (from pandas>=0.25->statsmodels) (2.8.1)\n",
      "Requirement already satisfied: six in /usr/local/lib/python3.9/site-packages (from patsy>=0.5.2->statsmodels) (1.16.0)\n",
      "Installing collected packages: patsy, packaging, statsmodels\n",
      "\u001b[33m  DEPRECATION: Configuring installation scheme with distutils config files is deprecated and will no longer work in the near future. If you are using a Homebrew or Linuxbrew Python, please see discussion at https://github.com/Homebrew/homebrew-core/issues/76621\u001b[0m\u001b[33m\n",
      "\u001b[0m  Attempting uninstall: packaging\n",
      "    Found existing installation: packaging 20.9\n",
      "    Uninstalling packaging-20.9:\n",
      "      Successfully uninstalled packaging-20.9\n",
      "\u001b[33m  DEPRECATION: Configuring installation scheme with distutils config files is deprecated and will no longer work in the near future. If you are using a Homebrew or Linuxbrew Python, please see discussion at https://github.com/Homebrew/homebrew-core/issues/76621\u001b[0m\u001b[33m\n",
      "\u001b[0m\u001b[33m  DEPRECATION: Configuring installation scheme with distutils config files is deprecated and will no longer work in the near future. If you are using a Homebrew or Linuxbrew Python, please see discussion at https://github.com/Homebrew/homebrew-core/issues/76621\u001b[0m\u001b[33m\n",
      "\u001b[0m\u001b[33mDEPRECATION: Configuring installation scheme with distutils config files is deprecated and will no longer work in the near future. If you are using a Homebrew or Linuxbrew Python, please see discussion at https://github.com/Homebrew/homebrew-core/issues/76621\u001b[0m\u001b[33m\n",
      "\u001b[0mSuccessfully installed packaging-21.3 patsy-0.5.3 statsmodels-0.13.2\n",
      "\u001b[33mWARNING: There was an error checking the latest version of pip.\u001b[0m\u001b[33m\n",
      "\u001b[0m"
     ]
    }
   ],
   "source": [
    "import sys\n",
    "!{sys.executable} -m pip install sklearn\n",
    "!{sys.executable} -m pip install statsmodels"
   ]
  },
  {
   "cell_type": "code",
   "execution_count": 1,
   "metadata": {
    "id": "r8K4FsuitbOe"
   },
   "outputs": [],
   "source": [
    "import pandas as pd\n",
    "import random\n",
    "import matplotlib.pyplot as plt\n",
    "import numpy as np"
   ]
  },
  {
   "cell_type": "markdown",
   "metadata": {
    "id": "kxfBOGqJtbOf"
   },
   "source": [
    "2. Загрузите датасет. Вам понадобится два файла - отдельно с признаками (помечен x) и значениями целевой переменной (помечен y). Файлы не содержат заголовков столбцов и строк."
   ]
  },
  {
   "cell_type": "code",
   "execution_count": 2,
   "metadata": {
    "id": "0NSE7KRztbOf"
   },
   "outputs": [],
   "source": [
    "x = pd.read_csv('data/22_x.csv',names=['x1','x2','x3'])\n",
    "y = pd.read_csv('data/22_y.csv', names = ['Y'])"
   ]
  },
  {
   "cell_type": "code",
   "execution_count": 3,
   "metadata": {
    "colab": {
     "base_uri": "https://localhost:8080/",
     "height": 206
    },
    "id": "Zr3JivKrtbOf",
    "outputId": "e8144475-e520-4e3f-c832-607a4ac22c2b"
   },
   "outputs": [
    {
     "data": {
      "text/html": [
       "<div>\n",
       "<style scoped>\n",
       "    .dataframe tbody tr th:only-of-type {\n",
       "        vertical-align: middle;\n",
       "    }\n",
       "\n",
       "    .dataframe tbody tr th {\n",
       "        vertical-align: top;\n",
       "    }\n",
       "\n",
       "    .dataframe thead th {\n",
       "        text-align: right;\n",
       "    }\n",
       "</style>\n",
       "<table border=\"1\" class=\"dataframe\">\n",
       "  <thead>\n",
       "    <tr style=\"text-align: right;\">\n",
       "      <th></th>\n",
       "      <th></th>\n",
       "      <th></th>\n",
       "      <th>x1</th>\n",
       "      <th>x2</th>\n",
       "      <th>x3</th>\n",
       "    </tr>\n",
       "  </thead>\n",
       "  <tbody>\n",
       "    <tr>\n",
       "      <th>-1.093220</th>\n",
       "      <th>0.606847</th>\n",
       "      <th>-1.389804</th>\n",
       "      <td>0.157096</td>\n",
       "      <td>-2.297255</td>\n",
       "      <td>0.128341</td>\n",
       "    </tr>\n",
       "    <tr>\n",
       "      <th>0.068189</th>\n",
       "      <th>-0.748682</th>\n",
       "      <th>-2.608495</th>\n",
       "      <td>0.822826</td>\n",
       "      <td>0.675069</td>\n",
       "      <td>-0.342655</td>\n",
       "    </tr>\n",
       "    <tr>\n",
       "      <th>-0.811608</th>\n",
       "      <th>0.177087</th>\n",
       "      <th>0.309421</th>\n",
       "      <td>-0.910204</td>\n",
       "      <td>0.497023</td>\n",
       "      <td>-0.159383</td>\n",
       "    </tr>\n",
       "    <tr>\n",
       "      <th>-0.775218</th>\n",
       "      <th>-0.434001</th>\n",
       "      <th>-0.682047</th>\n",
       "      <td>1.462780</td>\n",
       "      <td>1.126234</td>\n",
       "      <td>1.296343</td>\n",
       "    </tr>\n",
       "    <tr>\n",
       "      <th>0.926433</th>\n",
       "      <th>0.238571</th>\n",
       "      <th>2.291793</th>\n",
       "      <td>-2.393233</td>\n",
       "      <td>-1.564427</td>\n",
       "      <td>-2.239500</td>\n",
       "    </tr>\n",
       "  </tbody>\n",
       "</table>\n",
       "</div>"
      ],
      "text/plain": [
       "                                     x1        x2        x3\n",
       "-1.093220  0.606847 -1.389804  0.157096 -2.297255  0.128341\n",
       " 0.068189 -0.748682 -2.608495  0.822826  0.675069 -0.342655\n",
       "-0.811608  0.177087  0.309421 -0.910204  0.497023 -0.159383\n",
       "-0.775218 -0.434001 -0.682047  1.462780  1.126234  1.296343\n",
       " 0.926433  0.238571  2.291793 -2.393233 -1.564427 -2.239500"
      ]
     },
     "execution_count": 3,
     "metadata": {},
     "output_type": "execute_result"
    }
   ],
   "source": [
    "x.head()"
   ]
  },
  {
   "cell_type": "code",
   "execution_count": 4,
   "metadata": {
    "colab": {
     "base_uri": "https://localhost:8080/",
     "height": 206
    },
    "id": "KeWUue-ttbOg",
    "outputId": "b7093642-fc87-4001-f72c-7281d114bef8"
   },
   "outputs": [
    {
     "data": {
      "text/html": [
       "<div>\n",
       "<style scoped>\n",
       "    .dataframe tbody tr th:only-of-type {\n",
       "        vertical-align: middle;\n",
       "    }\n",
       "\n",
       "    .dataframe tbody tr th {\n",
       "        vertical-align: top;\n",
       "    }\n",
       "\n",
       "    .dataframe thead th {\n",
       "        text-align: right;\n",
       "    }\n",
       "</style>\n",
       "<table border=\"1\" class=\"dataframe\">\n",
       "  <thead>\n",
       "    <tr style=\"text-align: right;\">\n",
       "      <th></th>\n",
       "      <th>Y</th>\n",
       "    </tr>\n",
       "  </thead>\n",
       "  <tbody>\n",
       "    <tr>\n",
       "      <th>0</th>\n",
       "      <td>-154.012768</td>\n",
       "    </tr>\n",
       "    <tr>\n",
       "      <th>1</th>\n",
       "      <td>18.202731</td>\n",
       "    </tr>\n",
       "    <tr>\n",
       "      <th>2</th>\n",
       "      <td>10.429360</td>\n",
       "    </tr>\n",
       "    <tr>\n",
       "      <th>3</th>\n",
       "      <td>170.860945</td>\n",
       "    </tr>\n",
       "    <tr>\n",
       "      <th>4</th>\n",
       "      <td>-299.523074</td>\n",
       "    </tr>\n",
       "  </tbody>\n",
       "</table>\n",
       "</div>"
      ],
      "text/plain": [
       "            Y\n",
       "0 -154.012768\n",
       "1   18.202731\n",
       "2   10.429360\n",
       "3  170.860945\n",
       "4 -299.523074"
      ]
     },
     "execution_count": 4,
     "metadata": {},
     "output_type": "execute_result"
    }
   ],
   "source": [
    "y.head()"
   ]
  },
  {
   "cell_type": "markdown",
   "metadata": {
    "id": "wv8YJ98LtbOg"
   },
   "source": [
    "3. Сделайте количественное описание датасета: количество точек данных, признаков, статистику по каждому признаку.\n"
   ]
  },
  {
   "cell_type": "code",
   "execution_count": 5,
   "metadata": {
    "colab": {
     "base_uri": "https://localhost:8080/",
     "height": 318
    },
    "id": "tXvBSKGftbOg",
    "outputId": "e4d25dfa-9689-47cd-c3c9-8096abc8ddd3"
   },
   "outputs": [
    {
     "name": "stdout",
     "output_type": "stream",
     "text": [
      "(414, 3)\n"
     ]
    },
    {
     "data": {
      "text/html": [
       "<div>\n",
       "<style scoped>\n",
       "    .dataframe tbody tr th:only-of-type {\n",
       "        vertical-align: middle;\n",
       "    }\n",
       "\n",
       "    .dataframe tbody tr th {\n",
       "        vertical-align: top;\n",
       "    }\n",
       "\n",
       "    .dataframe thead th {\n",
       "        text-align: right;\n",
       "    }\n",
       "</style>\n",
       "<table border=\"1\" class=\"dataframe\">\n",
       "  <thead>\n",
       "    <tr style=\"text-align: right;\">\n",
       "      <th></th>\n",
       "      <th>x1</th>\n",
       "      <th>x2</th>\n",
       "      <th>x3</th>\n",
       "    </tr>\n",
       "  </thead>\n",
       "  <tbody>\n",
       "    <tr>\n",
       "      <th>count</th>\n",
       "      <td>414.000000</td>\n",
       "      <td>414.000000</td>\n",
       "      <td>414.000000</td>\n",
       "    </tr>\n",
       "    <tr>\n",
       "      <th>mean</th>\n",
       "      <td>0.066634</td>\n",
       "      <td>0.010922</td>\n",
       "      <td>-0.033397</td>\n",
       "    </tr>\n",
       "    <tr>\n",
       "      <th>std</th>\n",
       "      <td>1.058884</td>\n",
       "      <td>1.022649</td>\n",
       "      <td>1.029279</td>\n",
       "    </tr>\n",
       "    <tr>\n",
       "      <th>min</th>\n",
       "      <td>-2.950329</td>\n",
       "      <td>-2.788647</td>\n",
       "      <td>-2.930388</td>\n",
       "    </tr>\n",
       "    <tr>\n",
       "      <th>25%</th>\n",
       "      <td>-0.638367</td>\n",
       "      <td>-0.653561</td>\n",
       "      <td>-0.751798</td>\n",
       "    </tr>\n",
       "    <tr>\n",
       "      <th>50%</th>\n",
       "      <td>0.045475</td>\n",
       "      <td>-0.004277</td>\n",
       "      <td>-0.028745</td>\n",
       "    </tr>\n",
       "    <tr>\n",
       "      <th>75%</th>\n",
       "      <td>0.823746</td>\n",
       "      <td>0.659966</td>\n",
       "      <td>0.623096</td>\n",
       "    </tr>\n",
       "    <tr>\n",
       "      <th>max</th>\n",
       "      <td>3.037847</td>\n",
       "      <td>3.466630</td>\n",
       "      <td>3.175308</td>\n",
       "    </tr>\n",
       "  </tbody>\n",
       "</table>\n",
       "</div>"
      ],
      "text/plain": [
       "               x1          x2          x3\n",
       "count  414.000000  414.000000  414.000000\n",
       "mean     0.066634    0.010922   -0.033397\n",
       "std      1.058884    1.022649    1.029279\n",
       "min     -2.950329   -2.788647   -2.930388\n",
       "25%     -0.638367   -0.653561   -0.751798\n",
       "50%      0.045475   -0.004277   -0.028745\n",
       "75%      0.823746    0.659966    0.623096\n",
       "max      3.037847    3.466630    3.175308"
      ]
     },
     "execution_count": 5,
     "metadata": {},
     "output_type": "execute_result"
    }
   ],
   "source": [
    "print(x.shape)\n",
    "x.describe()"
   ]
  },
  {
   "cell_type": "code",
   "execution_count": 6,
   "metadata": {
    "colab": {
     "base_uri": "https://localhost:8080/",
     "height": 318
    },
    "id": "a8ky4MXCtbOh",
    "outputId": "7e5844dc-66b8-487b-943c-3315d368144b"
   },
   "outputs": [
    {
     "name": "stdout",
     "output_type": "stream",
     "text": [
      "(414, 1)\n"
     ]
    },
    {
     "data": {
      "text/html": [
       "<div>\n",
       "<style scoped>\n",
       "    .dataframe tbody tr th:only-of-type {\n",
       "        vertical-align: middle;\n",
       "    }\n",
       "\n",
       "    .dataframe tbody tr th {\n",
       "        vertical-align: top;\n",
       "    }\n",
       "\n",
       "    .dataframe thead th {\n",
       "        text-align: right;\n",
       "    }\n",
       "</style>\n",
       "<table border=\"1\" class=\"dataframe\">\n",
       "  <thead>\n",
       "    <tr style=\"text-align: right;\">\n",
       "      <th></th>\n",
       "      <th>Y</th>\n",
       "    </tr>\n",
       "  </thead>\n",
       "  <tbody>\n",
       "    <tr>\n",
       "      <th>count</th>\n",
       "      <td>414.000000</td>\n",
       "    </tr>\n",
       "    <tr>\n",
       "      <th>mean</th>\n",
       "      <td>-1.828262</td>\n",
       "    </tr>\n",
       "    <tr>\n",
       "      <th>std</th>\n",
       "      <td>104.928968</td>\n",
       "    </tr>\n",
       "    <tr>\n",
       "      <th>min</th>\n",
       "      <td>-315.650929</td>\n",
       "    </tr>\n",
       "    <tr>\n",
       "      <th>25%</th>\n",
       "      <td>-70.618832</td>\n",
       "    </tr>\n",
       "    <tr>\n",
       "      <th>50%</th>\n",
       "      <td>-7.763557</td>\n",
       "    </tr>\n",
       "    <tr>\n",
       "      <th>75%</th>\n",
       "      <td>66.082052</td>\n",
       "    </tr>\n",
       "    <tr>\n",
       "      <th>max</th>\n",
       "      <td>314.745856</td>\n",
       "    </tr>\n",
       "  </tbody>\n",
       "</table>\n",
       "</div>"
      ],
      "text/plain": [
       "                Y\n",
       "count  414.000000\n",
       "mean    -1.828262\n",
       "std    104.928968\n",
       "min   -315.650929\n",
       "25%    -70.618832\n",
       "50%     -7.763557\n",
       "75%     66.082052\n",
       "max    314.745856"
      ]
     },
     "execution_count": 6,
     "metadata": {},
     "output_type": "execute_result"
    }
   ],
   "source": [
    "print(y.shape)\n",
    "y.describe()"
   ]
  },
  {
   "cell_type": "markdown",
   "metadata": {
    "id": "qRcnnMHVtbOh"
   },
   "source": [
    "4. Разделите все наблюдения на обучающую и тестовую выборки в соотношении 80-20.\n"
   ]
  },
  {
   "cell_type": "code",
   "execution_count": 7,
   "metadata": {
    "id": "0UiPsHKHtbOh"
   },
   "outputs": [],
   "source": [
    "from sklearn.model_selection import train_test_split\n",
    "x_train, x_test, y_train, y_test = train_test_split(x, y, test_size=0.2, random_state=0)"
   ]
  },
  {
   "cell_type": "markdown",
   "metadata": {
    "id": "TA9vFGtmtbOh"
   },
   "source": [
    "5. Для целевой и каждого из признаков постройте парную регрессионную модель. Визуализируйте линию регрессии и исходные данные на графике. При помощи коэффициентов оцените силу связи.\n"
   ]
  },
  {
   "cell_type": "code",
   "execution_count": 8,
   "metadata": {
    "id": "7Usg8MuCtbOi"
   },
   "outputs": [],
   "source": [
    "from sklearn.linear_model import LinearRegression"
   ]
  },
  {
   "cell_type": "code",
   "execution_count": 9,
   "metadata": {
    "id": "HooY7TEAtbOi"
   },
   "outputs": [],
   "source": [
    "def r_2_score(column_name : str) -> None:\n",
    "\n",
    "    y = LinearRegression().fit(x_train[[column_name]].values, y_train.values)\n",
    "    y_result = y.predict(x_test[[column_name]].values)\n",
    "    \n",
    "    plt.scatter(x_test[[column_name]].values, y_test.values, color='b')\n",
    "    plt.plot(x_test[[column_name]].values, y_result, color='r', linewidth=2)\n",
    "   \n",
    "    r_2 = y.score(x_test[[column_name]].values,  y_test.values)\n",
    "    \n",
    "    print(f\"R^2 score: {r_2}\")"
   ]
  },
  {
   "cell_type": "markdown",
   "metadata": {
    "id": "FO5pAtZ_tbOi"
   },
   "source": [
    "# x1"
   ]
  },
  {
   "cell_type": "code",
   "execution_count": 10,
   "metadata": {
    "colab": {
     "base_uri": "https://localhost:8080/",
     "height": 283
    },
    "id": "35TRm2AXtbOi",
    "outputId": "520dd069-05c1-4edd-e9ec-e6b9bfac45de"
   },
   "outputs": [
    {
     "name": "stdout",
     "output_type": "stream",
     "text": [
      "R^2 score: -0.06703810588422798\n"
     ]
    },
    {
     "data": {
      "image/png": "[encoded data removed]",
      "text/plain": [
       "<Figure size 432x288 with 1 Axes>"
      ]
     },
     "metadata": {
      "needs_background": "light"
     },
     "output_type": "display_data"
    }
   ],
   "source": [
    "r_2_score(\"x1\")"
   ]
  },
  {
   "cell_type": "markdown",
   "metadata": {
    "id": "R9mmaPVJtbOi"
   },
   "source": [
    "# x2"
   ]
  },
  {
   "cell_type": "code",
   "execution_count": 11,
   "metadata": {
    "colab": {
     "base_uri": "https://localhost:8080/",
     "height": 283
    },
    "id": "V9N5b5ExtbOi",
    "outputId": "d3e13086-0d7a-4c4c-b997-f3bc78d30e09"
   },
   "outputs": [
    {
     "name": "stdout",
     "output_type": "stream",
     "text": [
      "R^2 score: 0.35692779615030745\n"
     ]
    },
    {
     "data": {
      "image/png": "[encoded data removed]",
      "text/plain": [
       "<Figure size 432x288 with 1 Axes>"
      ]
     },
     "metadata": {
      "needs_background": "light"
     },
     "output_type": "display_data"
    }
   ],
   "source": [
    "r_2_score(\"x2\")"
   ]
  },
  {
   "cell_type": "markdown",
   "metadata": {
    "id": "LeZ2y8kftbOj"
   },
   "source": [
    "# x3"
   ]
  },
  {
   "cell_type": "code",
   "execution_count": 12,
   "metadata": {
    "colab": {
     "base_uri": "https://localhost:8080/",
     "height": 283
    },
    "id": "S_HuRPlTtbOj",
    "outputId": "2868b124-cf28-402c-b854-c9ca54da6621"
   },
   "outputs": [
    {
     "name": "stdout",
     "output_type": "stream",
     "text": [
      "R^2 score: 0.4577158021739961\n"
     ]
    },
    {
     "data": {
      "image/png": "[encoded data removed]",
      "text/plain": [
       "<Figure size 432x288 with 1 Axes>"
      ]
     },
     "metadata": {
      "needs_background": "light"
     },
     "output_type": "display_data"
    }
   ],
   "source": [
    "r_2_score(\"x3\")"
   ]
  },
  {
   "cell_type": "markdown",
   "metadata": {
    "id": "HQrjRi_rtbOj"
   },
   "source": [
    "x2 и x3 демонстрируют более явную связь, чем x1"
   ]
  },
  {
   "cell_type": "markdown",
   "metadata": {
    "id": "zQG1OeMDtbOj"
   },
   "source": [
    "6. Постройте модель множественной линейной регрессии целевой переменной от всех показателей. Оцените качество регрессии, сделайте вывод."
   ]
  },
  {
   "cell_type": "code",
   "execution_count": 13,
   "metadata": {
    "colab": {
     "base_uri": "https://localhost:8080/",
     "height": 508
    },
    "id": "YfCuPsiQtbOj",
    "outputId": "ad599a62-9064-4930-9135-9f873394c8cc"
   },
   "outputs": [
    {
     "name": "stdout",
     "output_type": "stream",
     "text": [
      "R^2 score: 0.9879330386843629\n"
     ]
    },
    {
     "data": {
      "text/html": [
       "<table class=\"simpletable\">\n",
       "<caption>OLS Regression Results</caption>\n",
       "<tr>\n",
       "  <th>Dep. Variable:</th>            <td>y</td>        <th>  R-squared:         </th> <td>   0.992</td> \n",
       "</tr>\n",
       "<tr>\n",
       "  <th>Model:</th>                   <td>OLS</td>       <th>  Adj. R-squared:    </th> <td>   0.992</td> \n",
       "</tr>\n",
       "<tr>\n",
       "  <th>Method:</th>             <td>Least Squares</td>  <th>  F-statistic:       </th> <td>1.411e+04</td>\n",
       "</tr>\n",
       "<tr>\n",
       "  <th>Date:</th>             <td>Sun, 30 Oct 2022</td> <th>  Prob (F-statistic):</th>  <td>  0.00</td>  \n",
       "</tr>\n",
       "<tr>\n",
       "  <th>Time:</th>                 <td>21:54:14</td>     <th>  Log-Likelihood:    </th> <td> -1205.9</td> \n",
       "</tr>\n",
       "<tr>\n",
       "  <th>No. Observations:</th>      <td>   331</td>      <th>  AIC:               </th> <td>   2420.</td> \n",
       "</tr>\n",
       "<tr>\n",
       "  <th>Df Residuals:</th>          <td>   327</td>      <th>  BIC:               </th> <td>   2435.</td> \n",
       "</tr>\n",
       "<tr>\n",
       "  <th>Df Model:</th>              <td>     3</td>      <th>                     </th>     <td> </td>    \n",
       "</tr>\n",
       "<tr>\n",
       "  <th>Covariance Type:</th>      <td>nonrobust</td>    <th>                     </th>     <td> </td>    \n",
       "</tr>\n",
       "</table>\n",
       "<table class=\"simpletable\">\n",
       "<tr>\n",
       "      <td></td>         <th>coef</th>     <th>std err</th>      <th>t</th>      <th>P>|t|</th>  <th>[0.025</th>    <th>0.975]</th>  \n",
       "</tr>\n",
       "<tr>\n",
       "  <th>Intercept</th> <td>   -0.0290</td> <td>    0.513</td> <td>   -0.056</td> <td> 0.955</td> <td>   -1.039</td> <td>    0.981</td>\n",
       "</tr>\n",
       "<tr>\n",
       "  <th>x1</th>        <td>    0.3526</td> <td>    0.501</td> <td>    0.704</td> <td> 0.482</td> <td>   -0.632</td> <td>    1.337</td>\n",
       "</tr>\n",
       "<tr>\n",
       "  <th>x2</th>        <td>   71.0680</td> <td>    0.502</td> <td>  141.469</td> <td> 0.000</td> <td>   70.080</td> <td>   72.056</td>\n",
       "</tr>\n",
       "<tr>\n",
       "  <th>x3</th>        <td>   75.7814</td> <td>    0.501</td> <td>  151.347</td> <td> 0.000</td> <td>   74.796</td> <td>   76.766</td>\n",
       "</tr>\n",
       "</table>\n",
       "<table class=\"simpletable\">\n",
       "<tr>\n",
       "  <th>Omnibus:</th>       <td> 1.175</td> <th>  Durbin-Watson:     </th> <td>   1.892</td>\n",
       "</tr>\n",
       "<tr>\n",
       "  <th>Prob(Omnibus):</th> <td> 0.556</td> <th>  Jarque-Bera (JB):  </th> <td>   0.924</td>\n",
       "</tr>\n",
       "<tr>\n",
       "  <th>Skew:</th>          <td>-0.100</td> <th>  Prob(JB):          </th> <td>   0.630</td>\n",
       "</tr>\n",
       "<tr>\n",
       "  <th>Kurtosis:</th>      <td> 3.165</td> <th>  Cond. No.          </th> <td>    1.15</td>\n",
       "</tr>\n",
       "</table><br/><br/>Notes:<br/>[1] Standard Errors assume that the covariance matrix of the errors is correctly specified."
      ],
      "text/plain": [
       "<class 'statsmodels.iolib.summary.Summary'>\n",
       "\"\"\"\n",
       "                            OLS Regression Results                            \n",
       "==============================================================================\n",
       "Dep. Variable:                      y   R-squared:                       0.992\n",
       "Model:                            OLS   Adj. R-squared:                  0.992\n",
       "Method:                 Least Squares   F-statistic:                 1.411e+04\n",
       "Date:                Sun, 30 Oct 2022   Prob (F-statistic):               0.00\n",
       "Time:                        21:54:14   Log-Likelihood:                -1205.9\n",
       "No. Observations:                 331   AIC:                             2420.\n",
       "Df Residuals:                     327   BIC:                             2435.\n",
       "Df Model:                           3                                         \n",
       "Covariance Type:            nonrobust                                         \n",
       "==============================================================================\n",
       "                 coef    std err          t      P>|t|      [0.025      0.975]\n",
       "------------------------------------------------------------------------------\n",
       "Intercept     -0.0290      0.513     -0.056      0.955      -1.039       0.981\n",
       "x1             0.3526      0.501      0.704      0.482      -0.632       1.337\n",
       "x2            71.0680      0.502    141.469      0.000      70.080      72.056\n",
       "x3            75.7814      0.501    151.347      0.000      74.796      76.766\n",
       "==============================================================================\n",
       "Omnibus:                        1.175   Durbin-Watson:                   1.892\n",
       "Prob(Omnibus):                  0.556   Jarque-Bera (JB):                0.924\n",
       "Skew:                          -0.100   Prob(JB):                        0.630\n",
       "Kurtosis:                       3.165   Cond. No.                         1.15\n",
       "==============================================================================\n",
       "\n",
       "Notes:\n",
       "[1] Standard Errors assume that the covariance matrix of the errors is correctly specified.\n",
       "\"\"\""
      ]
     },
     "execution_count": 13,
     "metadata": {},
     "output_type": "execute_result"
    }
   ],
   "source": [
    "\n",
    "y = LinearRegression().fit(x_train[['x1', 'x2', 'x3']].values, y_train.values)\n",
    "y_result = y.predict(x_test[['x1', 'x2', 'x3']].values)\n",
    "\n",
    "r_2 = y.score(x_test[['x1', 'x2', 'x3']].values,  y_test.values)\n",
    "\n",
    "print(f\"R^2 score: {r_2}\")\n",
    "\n",
    "\n",
    "import statsmodels.formula.api as sm\n",
    "\n",
    "data = pd.DataFrame(np.array(x_train[['x1', 'x2', 'x3']]), \n",
    "                            columns=['x1', 'x2', 'x3'])\n",
    "data['y'] = np.array(y_train)\n",
    "cols = data.columns.tolist()\n",
    "cols = cols[-1:] + cols[:-1]\n",
    "data = data[cols]\n",
    "\n",
    "# Используем МНК - метод наименьших квадратов\n",
    "model = sm.ols(formula='y~x1+x2+x3', data=data)\n",
    "fitted = model.fit()\n",
    "fitted.summary()"
   ]
  },
  {
   "cell_type": "markdown",
   "metadata": {
    "id": "LLsDqAJm1Xc0"
   },
   "source": [
    "Общий показатель модели по R^2 = 0.987, что является хорошим показателем и говорит о том, что с моделью можно работать.\n",
    "\n",
    "\n",
    "Наиболее влияющие факторы - x2 и x3 с коэффами 71.0680 и 75.7814 соответственно.\n"
   ]
  }
 ],
 "metadata": {
  "colab": {
   "collapsed_sections": [],
   "provenance": []
  },
  "kernelspec": {
   "display_name": "Python 3",
   "language": "python",
   "name": "python3"
  },
  "language_info": {
   "codemirror_mode": {
    "name": "ipython",
    "version": 3
   },
   "file_extension": ".py",
   "mimetype": "text/x-python",
   "name": "python",
   "nbconvert_exporter": "python",
   "pygments_lexer": "ipython3",
   "version": "3.9.13"
  },
  "vscode": {
   "interpreter": {
    "hash": "aeef98ef9d072a0e2f404a5859358be74866110bf86ad56972fa9a1bac1ad0cf"
   }
  }
 },
 "nbformat": 4,
 "nbformat_minor": 1
}
