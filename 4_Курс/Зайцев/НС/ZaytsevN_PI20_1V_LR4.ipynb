{
 "cells": [
  {
   "cell_type": "markdown",
   "metadata": {
    "id": "cdjn6pICZMoM"
   },
   "source": [
    "# Распознавание рукописных цифр при помощи свёрточной нейронной сети"
   ]
  },
  {
   "cell_type": "code",
   "execution_count": null,
   "metadata": {
    "id": "85_HkTjcNZeg"
   },
   "outputs": [],
   "source": [
    "##WRITE YOUR CODE HERE\n",
    "import torch\n",
    "import random\n",
    "import numpy as np\n",
    "from torch import nn\n",
    "from sklearn.model_selection import train_test_split\n",
    "\n",
    "\n",
    "random.seed(0)\n",
    "np.random.seed(0)\n",
    "torch.manual_seed(0)\n",
    "torch.cuda.manual_seed(0)\n",
    "torch.backends.cudnn.deterministic = True"
   ]
  },
  {
   "cell_type": "markdown",
   "metadata": {
    "id": "6WL7Y0gCAnd1"
   },
   "source": [
    "Загрузим набор данных MNIST:"
   ]
  },
  {
   "cell_type": "code",
   "execution_count": null,
   "metadata": {
    "id": "kjPVw9UfNZel"
   },
   "outputs": [],
   "source": [
    "from torchvision import datasets"
   ]
  },
  {
   "cell_type": "code",
   "execution_count": null,
   "metadata": {
    "colab": {
     "base_uri": "https://localhost:8080/"
    },
    "id": "buWKcUqGNZeo",
    "outputId": "79fd21a9-f3a9-4972-d077-62f98889a3a1"
   },
   "outputs": [
    {
     "name": "stdout",
     "output_type": "stream",
     "text": [
      "Downloading http://yann.lecun.com/exdb/mnist/train-images-idx3-ubyte.gz\n",
      "Failed to download (trying next):\n",
      "HTTP Error 403: Forbidden\n",
      "\n",
      "Downloading https://ossci-datasets.s3.amazonaws.com/mnist/train-images-idx3-ubyte.gz\n",
      "Downloading https://ossci-datasets.s3.amazonaws.com/mnist/train-images-idx3-ubyte.gz to ./MNIST/raw/train-images-idx3-ubyte.gz\n"
     ]
    },
    {
     "name": "stderr",
     "output_type": "stream",
     "text": [
      "100%|██████████| 9912422/9912422 [00:00<00:00, 35450139.79it/s]\n"
     ]
    },
    {
     "name": "stdout",
     "output_type": "stream",
     "text": [
      "Extracting ./MNIST/raw/train-images-idx3-ubyte.gz to ./MNIST/raw\n",
      "\n",
      "Downloading http://yann.lecun.com/exdb/mnist/train-labels-idx1-ubyte.gz\n",
      "Failed to download (trying next):\n",
      "HTTP Error 403: Forbidden\n",
      "\n",
      "Downloading https://ossci-datasets.s3.amazonaws.com/mnist/train-labels-idx1-ubyte.gz\n",
      "Downloading https://ossci-datasets.s3.amazonaws.com/mnist/train-labels-idx1-ubyte.gz to ./MNIST/raw/train-labels-idx1-ubyte.gz\n"
     ]
    },
    {
     "name": "stderr",
     "output_type": "stream",
     "text": [
      "100%|██████████| 28881/28881 [00:00<00:00, 1100253.35it/s]\n"
     ]
    },
    {
     "name": "stdout",
     "output_type": "stream",
     "text": [
      "Extracting ./MNIST/raw/train-labels-idx1-ubyte.gz to ./MNIST/raw\n",
      "\n",
      "Downloading http://yann.lecun.com/exdb/mnist/t10k-images-idx3-ubyte.gz\n",
      "Failed to download (trying next):\n",
      "HTTP Error 403: Forbidden\n",
      "\n",
      "Downloading https://ossci-datasets.s3.amazonaws.com/mnist/t10k-images-idx3-ubyte.gz\n",
      "Downloading https://ossci-datasets.s3.amazonaws.com/mnist/t10k-images-idx3-ubyte.gz to ./MNIST/raw/t10k-images-idx3-ubyte.gz\n"
     ]
    },
    {
     "name": "stderr",
     "output_type": "stream",
     "text": [
      "100%|██████████| 1648877/1648877 [00:00<00:00, 9348313.12it/s]\n"
     ]
    },
    {
     "name": "stdout",
     "output_type": "stream",
     "text": [
      "Extracting ./MNIST/raw/t10k-images-idx3-ubyte.gz to ./MNIST/raw\n",
      "\n",
      "Downloading http://yann.lecun.com/exdb/mnist/t10k-labels-idx1-ubyte.gz\n",
      "Failed to download (trying next):\n",
      "HTTP Error 403: Forbidden\n",
      "\n",
      "Downloading https://ossci-datasets.s3.amazonaws.com/mnist/t10k-labels-idx1-ubyte.gz\n",
      "Downloading https://ossci-datasets.s3.amazonaws.com/mnist/t10k-labels-idx1-ubyte.gz to ./MNIST/raw/t10k-labels-idx1-ubyte.gz\n"
     ]
    },
    {
     "name": "stderr",
     "output_type": "stream",
     "text": [
      "100%|██████████| 4542/4542 [00:00<00:00, 4946904.38it/s]"
     ]
    },
    {
     "name": "stdout",
     "output_type": "stream",
     "text": [
      "Extracting ./MNIST/raw/t10k-labels-idx1-ubyte.gz to ./MNIST/raw\n",
      "\n"
     ]
    },
    {
     "name": "stderr",
     "output_type": "stream",
     "text": [
      "\n"
     ]
    }
   ],
   "source": [
    "MNIST_train = datasets.MNIST('./', train=True, download=True)\n",
    "MNIST_test = datasets.MNIST('./', train=False, download=True)"
   ]
  },
  {
   "cell_type": "markdown",
   "metadata": {
    "id": "JDe7BlI1And6"
   },
   "source": [
    "Разделим данные на тестовые и тренировочные множества:"
   ]
  },
  {
   "cell_type": "code",
   "execution_count": null,
   "metadata": {
    "id": "nyrpGOtPNZeq"
   },
   "outputs": [],
   "source": [
    "X_train = MNIST_train.data\n",
    "y_train = MNIST_train.targets\n",
    "X_test = MNIST_test.data\n",
    "y_test = MNIST_test.targets"
   ]
  },
  {
   "cell_type": "markdown",
   "metadata": {
    "id": "bygK5aG5And9"
   },
   "source": [
    "Посмотрим на количество элементов в `y_train` и `y_test`."
   ]
  },
  {
   "cell_type": "code",
   "execution_count": null,
   "metadata": {
    "colab": {
     "base_uri": "https://localhost:8080/"
    },
    "id": "f_TmOTWdNZet",
    "outputId": "4806320e-445a-49bd-964e-c1e29b519c7e"
   },
   "outputs": [
    {
     "data": {
      "text/plain": [
       "(torch.Size([60000]), torch.Size([10000]))"
      ]
     },
     "execution_count": 19,
     "metadata": {},
     "output_type": "execute_result"
    }
   ],
   "source": [
    "y_train.shape, y_test.shape"
   ]
  },
  {
   "cell_type": "markdown",
   "metadata": {
    "id": "ZsaadYfzAneB"
   },
   "source": [
    "Выведем на экран одно из изображений:"
   ]
  },
  {
   "cell_type": "code",
   "execution_count": null,
   "metadata": {
    "colab": {
     "base_uri": "https://localhost:8080/",
     "height": 447
    },
    "id": "Zd-E4vIpNZe1",
    "outputId": "eba7ae18-d3bc-41d3-fe0c-aaad7cbadafa"
   },
   "outputs": [
    {
     "data": {
      "image/png": "[encoded data removed]",
      "text/plain": [
       "<Figure size 640x480 with 1 Axes>"
      ]
     },
     "metadata": {},
     "output_type": "display_data"
    },
    {
     "name": "stdout",
     "output_type": "stream",
     "text": [
      "tensor(5)\n"
     ]
    }
   ],
   "source": [
    "import matplotlib.pyplot as plt\n",
    "plt.imshow(X_train[0, :, :])\n",
    "plt.show()\n",
    "print(y_train[0])"
   ]
  },
  {
   "cell_type": "markdown",
   "metadata": {
    "id": "nUxrNp3ZAneD"
   },
   "source": [
    "Добавим ещё одну единичную размерность на место 1 и переведём данные в тип float:"
   ]
  },
  {
   "cell_type": "code",
   "execution_count": null,
   "metadata": {
    "id": "MAolFr-1HJXr"
   },
   "outputs": [],
   "source": [
    "X_train = X_train.float()\n",
    "X_test = X_test.float()"
   ]
  },
  {
   "cell_type": "code",
   "execution_count": null,
   "metadata": {
    "id": "V1sH6nJNHQbr"
   },
   "outputs": [],
   "source": [
    "X_train = X_train.unsqueeze(1)\n",
    "X_test = X_test.unsqueeze(1)"
   ]
  },
  {
   "cell_type": "markdown",
   "metadata": {
    "id": "nM9rMKi8AneE"
   },
   "source": [
    "Посмторим на получившиеся размерности `X_train` и `X_test`:"
   ]
  },
  {
   "cell_type": "code",
   "execution_count": null,
   "metadata": {
    "colab": {
     "base_uri": "https://localhost:8080/"
    },
    "id": "kxKAhEYHNZe-",
    "outputId": "7594b63f-ac7d-4eb8-a371-600ebab259e6"
   },
   "outputs": [
    {
     "data": {
      "text/plain": [
       "torch.Size([60000, 1, 28, 28])"
      ]
     },
     "execution_count": 26,
     "metadata": {},
     "output_type": "execute_result"
    }
   ],
   "source": [
    "X_train.shape"
   ]
  },
  {
   "cell_type": "markdown",
   "metadata": {
    "id": "FIzw64gQAneG"
   },
   "source": [
    "Создадим класс для нейронной сети:\n",
    "- первый свёрточный слой содержит 6 свёрток размера $5 times 5$ со сдвигом 2, с последующей функцией активации тангенс и average pooling размерностью $2 \\times 2$;\n",
    "- второй свёрточный слой содержит 16 свёрток размера $5 times 5$ без сдвига, с последующей функцией активации тангенс и average pooling размерностью $2 \\times 2$;\n",
    "- после них идёт полносвязный слой с функцией активации тангенс;\n",
    "- в завершение расположен полносвязный выходной слой."
   ]
  },
  {
   "cell_type": "code",
   "execution_count": null,
   "metadata": {
    "id": "bj32aOFbIyJb"
   },
   "outputs": [],
   "source": [
    "class CAP(nn.Module):\n",
    "\n",
    "  def __init__(self, in_c, out_c, stride=1):\n",
    "    super(CAP, self).__init__()\n",
    "\n",
    "    self.cap_seq = nn.Sequential(\n",
    "        nn.Conv2d(in_c, out_c, kernel_size=5, stride=stride),\n",
    "        nn.Tanh(),\n",
    "        nn.AvgPool2d(2)\n",
    "    )\n",
    "\n",
    "  def forward(self, x):\n",
    "    x = self.cap_seq(x)\n",
    "\n",
    "    return x"
   ]
  },
  {
   "cell_type": "code",
   "execution_count": null,
   "metadata": {
    "id": "xhsw9soDODel"
   },
   "outputs": [],
   "source": [
    "class LeNet5(torch.nn.Module):\n",
    "\n",
    "    def __init__(self):\n",
    "        super(LeNet5, self).__init__()\n",
    "\n",
    "        self.cap1 = CAP(1, 6, 2)\n",
    "\n",
    "        self.cap2 = CAP(6, 16)\n",
    "\n",
    "        self.flat = nn.Flatten()\n",
    "\n",
    "        self.fc1   = nn.Linear(16, 32) # 16 x 1 x 1\n",
    "        self.act3  = nn.Tanh()\n",
    "\n",
    "        self.fc2   = nn.Linear(32, 16)\n",
    "        self.act4  = nn.Tanh()\n",
    "\n",
    "        self.fc3   = nn.Linear(16, 10)\n",
    "\n",
    "    def forward(self, x):\n",
    "\n",
    "        x = self.cap1(x)\n",
    "        x = self.cap2(x)\n",
    "        # x = x.view(x.size(0), x.size(1) * x.size(2) * x.size(3))\n",
    "\n",
    "        x = self.flat(x)\n",
    "        x = self.fc1(x)\n",
    "        x = self.act3(x)\n",
    "        x = self.fc2(x)\n",
    "        x = self.act4(x)\n",
    "\n",
    "        return x"
   ]
  },
  {
   "cell_type": "markdown",
   "metadata": {
    "id": "RPBmEkh2AneH"
   },
   "source": [
    "Создадим экземпляр класса:"
   ]
  },
  {
   "cell_type": "code",
   "execution_count": null,
   "metadata": {
    "id": "nhY2dodnAneI"
   },
   "outputs": [],
   "source": [
    "lenet5 = LeNet5()"
   ]
  },
  {
   "cell_type": "markdown",
   "metadata": {
    "id": "3J2xXVd8AneJ"
   },
   "source": [
    "Определим устрйоство, на котором будем обучать модель:\n",
    "\n"
   ]
  },
  {
   "cell_type": "code",
   "execution_count": null,
   "metadata": {
    "id": "qT-PsO7VNZfB"
   },
   "outputs": [],
   "source": [
    "device = 'cuda:0' if torch.cuda.is_available() else 'cpu'  # Определение устройства (GPU или CPU)\n",
    "lenet5 = lenet5.to(device)  # Перенос модели на указанное устройство"
   ]
  },
  {
   "cell_type": "markdown",
   "metadata": {
    "id": "glxG0aWSAneK"
   },
   "source": [
    "Определим функцию потерь через кросс-энтропию, а в качестве оптимизатора возьмём Adam с шагом обучения 0,001."
   ]
  },
  {
   "cell_type": "code",
   "execution_count": null,
   "metadata": {
    "id": "rkK0kv1VNZfL"
   },
   "outputs": [],
   "source": [
    "loss = torch.nn.CrossEntropyLoss()\n",
    "optimizer = torch.optim.Adam(lenet5.parameters(), lr=1.0e-3)"
   ]
  },
  {
   "cell_type": "markdown",
   "metadata": {
    "id": "H94D5AJMAneK"
   },
   "source": [
    "Обучим нашу нейронную сеть:"
   ]
  },
  {
   "cell_type": "code",
   "execution_count": null,
   "metadata": {
    "colab": {
     "base_uri": "https://localhost:8080/"
    },
    "id": "JDyBfJicR8GQ",
    "outputId": "5d108356-02b1-4c0b-beaf-cf09557a1eb6"
   },
   "outputs": [
    {
     "name": "stdout",
     "output_type": "stream",
     "text": [
      "Точность на тесте после эпохи 1: 0.7500999569892883\n",
      "Точность на тесте после эпохи 2: 0.847599983215332\n",
      "Точность на тесте после эпохи 3: 0.8884999752044678\n",
      "Точность на тесте после эпохи 4: 0.9407999515533447\n",
      "Точность на тесте после эпохи 5: 0.9520999789237976\n",
      "Точность на тесте после эпохи 6: 0.9574999809265137\n",
      "Точность на тесте после эпохи 7: 0.9601999521255493\n",
      "Точность на тесте после эпохи 8: 0.9645999670028687\n",
      "Точность на тесте после эпохи 9: 0.9598999619483948\n",
      "Точность на тесте после эпохи 10: 0.9668999910354614\n",
      "Обучение завершено.\n"
     ]
    }
   ],
   "source": [
    "batch_size = 100\n",
    "\n",
    "test_accuracy_history = []\n",
    "test_loss_history = []\n",
    "\n",
    "X_test = X_test.to(device)  # Перенос тестового набора данных на устройство\n",
    "y_test = y_test.to(device)  # Перенос меток тестового набора данных на устройство\n",
    "\n",
    "for epoch in range(10):\n",
    "    order = np.random.permutation(len(X_train))\n",
    "    for start_index in range(0, len(X_train), batch_size):\n",
    "        lenet5.train()  # Перевод модели в режим обучения\n",
    "\n",
    "        batch_indexes = order[start_index:start_index+batch_size]\n",
    "\n",
    "        X_batch = X_train[batch_indexes].to(device)  # Выделение и перенос батча на устройство\n",
    "        y_batch = y_train[batch_indexes].to(device)  # Выделение и перенос меток батча на устройство\n",
    "\n",
    "        optimizer.zero_grad()  # Обнуление градиентов\n",
    "\n",
    "        preds = lenet5(X_batch)  # Получение предсказаний модели\n",
    "\n",
    "        loss_value = loss(preds, y_batch)  # Вычисление значения функции потерь\n",
    "        loss_value.backward()  # Расчет градиентов\n",
    "        optimizer.step()  # Шаг оптимизатора\n",
    "\n",
    "    with torch.no_grad():\n",
    "        lenet5.eval()  # Перевод модели в режим оценки (evaluation)\n",
    "\n",
    "        test_preds = lenet5(X_test)  # Получение предсказаний на тестовом наборе данных\n",
    "        test_loss_history.append(loss(test_preds, y_test).item())\n",
    "\n",
    "        accuracy = (test_preds.argmax(dim=1) == y_test).float().mean().item()  # Вычисление точности\n",
    "        test_accuracy_history.append(accuracy)\n",
    "\n",
    "        print(f\"Точность на тесте после эпохи {epoch + 1}: {accuracy}\")\n",
    "\n",
    "# После завершения обучения модели\n",
    "print(\"Обучение завершено.\")"
   ]
  },
  {
   "cell_type": "markdown",
   "metadata": {
    "id": "RSv5VSwPAneM"
   },
   "source": [
    "Выведем на экран значения точности и потерь:"
   ]
  },
  {
   "cell_type": "code",
   "execution_count": null,
   "metadata": {
    "colab": {
     "base_uri": "https://localhost:8080/",
     "height": 472
    },
    "id": "4FDtagQvNZfU",
    "outputId": "af557a45-70dd-45f3-ff82-7f6f1365fa98"
   },
   "outputs": [
    {
     "data": {
      "image/png": "[encoded data removed]",
      "text/plain": [
       "<Figure size 640x480 with 1 Axes>"
      ]
     },
     "metadata": {},
     "output_type": "display_data"
    }
   ],
   "source": [
    "# Построение графика\n",
    "plt.plot(test_accuracy_history, label='Test Accuracy')\n",
    "plt.plot(test_loss_history, label='Test Loss')\n",
    "plt.xlabel('Epoch')\n",
    "plt.ylabel('Value')\n",
    "plt.title('Test Accuracy and Loss History')\n",
    "plt.legend()\n",
    "plt.grid(True)\n",
    "plt.show()"
   ]
  }
 ],
 "metadata": {
  "accelerator": "GPU",
  "colab": {
   "provenance": []
  },
  "kernelspec": {
   "display_name": "Python 3 (ipykernel)",
   "language": "python",
   "name": "python3"
  },
  "language_info": {
   "codemirror_mode": {
    "name": "ipython",
    "version": 3
   },
   "file_extension": ".py",
   "mimetype": "text/x-python",
   "name": "python",
   "nbconvert_exporter": "python",
   "pygments_lexer": "ipython3",
   "version": "3.10.7"
  }
 },
 "nbformat": 4,
 "nbformat_minor": 1
}
