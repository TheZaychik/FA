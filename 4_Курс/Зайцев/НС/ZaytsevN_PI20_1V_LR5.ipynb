{
  "cells": [
    {
      "cell_type": "markdown",
      "metadata": {
        "id": "KD-petbRcIpE"
      },
      "source": [
        "# Распознавание предметов одежды при помощи полносвязной нейронной сети"
      ]
    },
    {
      "cell_type": "code",
      "execution_count": null,
      "metadata": {
        "id": "DWr6cvb9pS3J"
      },
      "outputs": [],
      "source": [
        "##WRITE YOUR CODE HERE\n",
        "import torch\n",
        "import random\n",
        "import numpy as np\n",
        "from torch import nn\n",
        "from sklearn.model_selection import train_test_split\n",
        "from torchvision import datasets\n",
        "\n",
        "\n",
        "random.seed(0)\n",
        "np.random.seed(0)\n",
        "torch.manual_seed(0)\n",
        "torch.cuda.manual_seed(0)\n",
        "torch.backends.cudnn.deterministic = True"
      ]
    },
    {
      "cell_type": "markdown",
      "metadata": {
        "id": "AqWwC30hcIpM"
      },
      "source": [
        "Загрузим набор данных FashionMNIST:"
      ]
    },
    {
      "cell_type": "code",
      "execution_count": null,
      "metadata": {
        "colab": {
          "base_uri": "https://localhost:8080/"
        },
        "id": "MqGQWTDIpS3R",
        "outputId": "703f936e-607d-4dbc-f22d-79df16bbfa80"
      },
      "outputs": [
        {
          "output_type": "stream",
          "name": "stdout",
          "text": [
            "Downloading http://fashion-mnist.s3-website.eu-central-1.amazonaws.com/train-images-idx3-ubyte.gz\n",
            "Downloading http://fashion-mnist.s3-website.eu-central-1.amazonaws.com/train-images-idx3-ubyte.gz to ./FashionMNIST/raw/train-images-idx3-ubyte.gz\n"
          ]
        },
        {
          "output_type": "stream",
          "name": "stderr",
          "text": [
            "100%|██████████| 26421880/26421880 [00:09<00:00, 2690096.47it/s] \n"
          ]
        },
        {
          "output_type": "stream",
          "name": "stdout",
          "text": [
            "Extracting ./FashionMNIST/raw/train-images-idx3-ubyte.gz to ./FashionMNIST/raw\n",
            "\n",
            "Downloading http://fashion-mnist.s3-website.eu-central-1.amazonaws.com/train-labels-idx1-ubyte.gz\n",
            "Downloading http://fashion-mnist.s3-website.eu-central-1.amazonaws.com/train-labels-idx1-ubyte.gz to ./FashionMNIST/raw/train-labels-idx1-ubyte.gz\n"
          ]
        },
        {
          "output_type": "stream",
          "name": "stderr",
          "text": [
            "100%|██████████| 29515/29515 [00:00<00:00, 276581.60it/s]\n"
          ]
        },
        {
          "output_type": "stream",
          "name": "stdout",
          "text": [
            "Extracting ./FashionMNIST/raw/train-labels-idx1-ubyte.gz to ./FashionMNIST/raw\n",
            "\n",
            "Downloading http://fashion-mnist.s3-website.eu-central-1.amazonaws.com/t10k-images-idx3-ubyte.gz\n",
            "Downloading http://fashion-mnist.s3-website.eu-central-1.amazonaws.com/t10k-images-idx3-ubyte.gz to ./FashionMNIST/raw/t10k-images-idx3-ubyte.gz\n"
          ]
        },
        {
          "output_type": "stream",
          "name": "stderr",
          "text": [
            "100%|██████████| 4422102/4422102 [00:00<00:00, 4992089.72it/s]\n"
          ]
        },
        {
          "output_type": "stream",
          "name": "stdout",
          "text": [
            "Extracting ./FashionMNIST/raw/t10k-images-idx3-ubyte.gz to ./FashionMNIST/raw\n",
            "\n",
            "Downloading http://fashion-mnist.s3-website.eu-central-1.amazonaws.com/t10k-labels-idx1-ubyte.gz\n",
            "Downloading http://fashion-mnist.s3-website.eu-central-1.amazonaws.com/t10k-labels-idx1-ubyte.gz to ./FashionMNIST/raw/t10k-labels-idx1-ubyte.gz\n"
          ]
        },
        {
          "output_type": "stream",
          "name": "stderr",
          "text": [
            "100%|██████████| 5148/5148 [00:00<00:00, 21148165.52it/s]"
          ]
        },
        {
          "output_type": "stream",
          "name": "stdout",
          "text": [
            "Extracting ./FashionMNIST/raw/t10k-labels-idx1-ubyte.gz to ./FashionMNIST/raw\n",
            "\n"
          ]
        },
        {
          "output_type": "stream",
          "name": "stderr",
          "text": [
            "\n"
          ]
        }
      ],
      "source": [
        "FashionMNIST_train = datasets.FashionMNIST('./', train=True, download=True)\n",
        "FashionMNIST_test = datasets.FashionMNIST('./', train=False, download=True)"
      ]
    },
    {
      "cell_type": "markdown",
      "metadata": {
        "id": "W-WNQXD9cIpM"
      },
      "source": [
        "Разделим данные на тестовые и тренировочные множества:"
      ]
    },
    {
      "cell_type": "code",
      "execution_count": null,
      "metadata": {
        "id": "vv_Lz7PYpS3U"
      },
      "outputs": [],
      "source": [
        "X_train = FashionMNIST_train.data\n",
        "y_train = FashionMNIST_train.targets\n",
        "X_test = FashionMNIST_test.data\n",
        "y_test = FashionMNIST_test.targets"
      ]
    },
    {
      "cell_type": "markdown",
      "metadata": {
        "id": "AzKpBwoTcIpN"
      },
      "source": [
        "Посмотрим на тип данных:"
      ]
    },
    {
      "cell_type": "code",
      "execution_count": null,
      "metadata": {
        "colab": {
          "base_uri": "https://localhost:8080/"
        },
        "id": "hMhsAedlrQF5",
        "outputId": "b4d43482-53f9-4e01-bc04-f12d0887f05a"
      },
      "outputs": [
        {
          "output_type": "execute_result",
          "data": {
            "text/plain": [
              "(torch.uint8, torch.int64)"
            ]
          },
          "metadata": {},
          "execution_count": 4
        }
      ],
      "source": [
        "X_train.dtype, y_train.dtype"
      ]
    },
    {
      "cell_type": "markdown",
      "metadata": {
        "id": "9hhH357xcIpN"
      },
      "source": [
        "Переведём их в тип float:"
      ]
    },
    {
      "cell_type": "code",
      "execution_count": null,
      "metadata": {
        "id": "_yTaVOrPvap6"
      },
      "outputs": [],
      "source": [
        "X_train = X_train.float()\n",
        "X_test = X_test.float()"
      ]
    },
    {
      "cell_type": "markdown",
      "metadata": {
        "id": "90L_0qWdcIpO"
      },
      "source": [
        "Узнаем размерности получившихся четырёх множеств:"
      ]
    },
    {
      "cell_type": "code",
      "execution_count": null,
      "metadata": {
        "colab": {
          "base_uri": "https://localhost:8080/"
        },
        "id": "_gfupg4kpS3X",
        "outputId": "1a344b16-d7ac-42b7-9a2c-2de33e0f0bb1"
      },
      "outputs": [
        {
          "output_type": "stream",
          "name": "stdout",
          "text": [
            "torch.Size([60000, 28, 28]) torch.Size([60000]) torch.Size([10000, 28, 28]) torch.Size([10000])\n"
          ]
        }
      ],
      "source": [
        "print(X_train.shape,\n",
        "y_train.shape,\n",
        "X_test.shape,\n",
        "y_test.shape)"
      ]
    },
    {
      "cell_type": "markdown",
      "metadata": {
        "id": "CmTaFbpJcIpO"
      },
      "source": [
        "Выведем на экран одно из изображений:"
      ]
    },
    {
      "cell_type": "code",
      "execution_count": null,
      "metadata": {
        "colab": {
          "base_uri": "https://localhost:8080/",
          "height": 448
        },
        "id": "Z1tFXMwJpS3e",
        "outputId": "24fed663-a65b-4438-f96a-7aa3a562e570"
      },
      "outputs": [
        {
          "output_type": "display_data",
          "data": {
            "text/plain": [
              "<Figure size 640x480 with 1 Axes>"
            ],
            "image/png": "[encoded data removed]"
          },
          "metadata": {}
        },
        {
          "output_type": "stream",
          "name": "stdout",
          "text": [
            "tensor(9)\n"
          ]
        }
      ],
      "source": [
        "import matplotlib.pyplot as plt\n",
        "plt.imshow(X_train[0, :, :])\n",
        "plt.show()\n",
        "print(y_train[0])"
      ]
    },
    {
      "cell_type": "markdown",
      "metadata": {
        "id": "6-Kwn7nccIpP"
      },
      "source": [
        "Изменим размерности, чтобы выполнялось последующее матричное умножение:"
      ]
    },
    {
      "cell_type": "code",
      "execution_count": null,
      "metadata": {
        "id": "IUZgNg7zpS3j"
      },
      "outputs": [],
      "source": [
        "X_train = torch.reshape(X_train, [-1, 28 * 28])\n",
        "X_test = torch.reshape(X_test, [-1, 28 * 28])"
      ]
    },
    {
      "cell_type": "code",
      "source": [
        "X_train.shape"
      ],
      "metadata": {
        "colab": {
          "base_uri": "https://localhost:8080/"
        },
        "id": "x7otGDIihlDC",
        "outputId": "276cda7c-5e59-4eec-cf70-3450610ba8a9"
      },
      "execution_count": null,
      "outputs": [
        {
          "output_type": "execute_result",
          "data": {
            "text/plain": [
              "torch.Size([60000, 784])"
            ]
          },
          "metadata": {},
          "execution_count": 9
        }
      ]
    },
    {
      "cell_type": "markdown",
      "metadata": {
        "id": "9EpB9F1ScIpP"
      },
      "source": [
        "Напишем класс для нейронной сети, она будет состоять из входного слоя с последующей функцией активации сигмоидой и входного слоя:"
      ]
    },
    {
      "cell_type": "code",
      "source": [
        "class FashionMNISTNet(torch.nn.Module):\n",
        "    def __init__(self, n_hidden_neurons):\n",
        "        super(FashionMNISTNet, self).__init__()\n",
        "        self.forw_seq = nn.Sequential(\n",
        "            nn.Linear(784, n_hidden_neurons),\n",
        "            nn.Sigmoid(),\n",
        "            nn.Linear(n_hidden_neurons, 10)\n",
        "            )\n",
        "\n",
        "    def forward(self, x):\n",
        "        x = self.forw_seq(x)\n",
        "        return x"
      ],
      "metadata": {
        "id": "4tAXB0VUiWNm"
      },
      "execution_count": null,
      "outputs": []
    },
    {
      "cell_type": "markdown",
      "metadata": {
        "id": "2Uz1pUiMcIpQ"
      },
      "source": [
        "Создадим экземпляр класса с 90 нейронами на скрытом слое:"
      ]
    },
    {
      "cell_type": "code",
      "execution_count": null,
      "metadata": {
        "id": "s6fsfaTGcIpQ"
      },
      "outputs": [],
      "source": [
        "fashion_mnist_net = FashionMNISTNet(90)"
      ]
    },
    {
      "cell_type": "code",
      "metadata": {
        "id": "iUHy-780po9d"
      },
      "source": [
        "#Определим функцию потерь через кросс-энтропию, а в качестве оптимизатора возьмём Adam с шагом обучения 0,001."
      ],
      "execution_count": null,
      "outputs": []
    },
    {
      "cell_type": "code",
      "execution_count": null,
      "metadata": {
        "id": "00_2j2igpS3o"
      },
      "outputs": [],
      "source": [
        "loss = torch.nn.CrossEntropyLoss()\n",
        "optimizer = torch.optim.Adam(fashion_mnist_net.parameters(), lr=1.0e-3)"
      ]
    },
    {
      "cell_type": "markdown",
      "metadata": {
        "id": "voqXgwBScIpQ"
      },
      "source": [
        "Обучим нашу нейронную сеть:"
      ]
    },
    {
      "cell_type": "code",
      "source": [
        "batch_size = 100\n",
        "\n",
        "test_accuracy_history = []\n",
        "test_loss_history = []\n",
        "\n",
        "#X_test = X_test.to(device)\n",
        "#y_test = y_test.to(device)\n",
        "\n",
        "for epoch in range(100):\n",
        "    order = np.random.permutation(len(X_train))\n",
        "\n",
        "    for start_index in range(0, len(X_train), batch_size):\n",
        "        optimizer.zero_grad()\n",
        "\n",
        "        batch_indexes = order[start_index:start_index+batch_size]\n",
        "\n",
        "        X_batch = X_train[batch_indexes] #.to(device)\n",
        "        y_batch = y_train[batch_indexes] #.to(device)\n",
        "\n",
        "        preds = fashion_mnist_net.forward(X_batch)\n",
        "\n",
        "        loss_value = loss(preds, y_batch)\n",
        "        loss_value.backward()\n",
        "\n",
        "        optimizer.step()\n",
        "\n",
        "    test_preds = fashion_mnist_net.forward(X_test)\n",
        "    test_loss_history.append(loss(test_preds, y_test))\n",
        "\n",
        "    accuracy = (test_preds.argmax(dim=1) == y_test).float().mean()\n",
        "    test_accuracy_history.append(accuracy)\n",
        "    print(accuracy)"
      ],
      "metadata": {
        "colab": {
          "base_uri": "https://localhost:8080/"
        },
        "id": "fCF5-UWAi2qt",
        "outputId": "19116eb2-5e3e-40b3-e184-390b40c5f171"
      },
      "execution_count": null,
      "outputs": [
        {
          "output_type": "stream",
          "name": "stdout",
          "text": [
            "tensor(0.7313)\n",
            "tensor(0.7372)\n",
            "tensor(0.7571)\n",
            "tensor(0.7672)\n",
            "tensor(0.7353)\n",
            "tensor(0.7510)\n",
            "tensor(0.7729)\n",
            "tensor(0.7495)\n",
            "tensor(0.7630)\n",
            "tensor(0.7825)\n",
            "tensor(0.7317)\n",
            "tensor(0.7584)\n",
            "tensor(0.7748)\n",
            "tensor(0.7856)\n",
            "tensor(0.7918)\n",
            "tensor(0.7904)\n",
            "tensor(0.7854)\n",
            "tensor(0.7843)\n",
            "tensor(0.7976)\n",
            "tensor(0.7971)\n",
            "tensor(0.7939)\n",
            "tensor(0.7618)\n",
            "tensor(0.7716)\n",
            "tensor(0.7833)\n",
            "tensor(0.7837)\n",
            "tensor(0.7825)\n",
            "tensor(0.7876)\n",
            "tensor(0.7978)\n",
            "tensor(0.7855)\n",
            "tensor(0.7879)\n",
            "tensor(0.7876)\n",
            "tensor(0.8056)\n",
            "tensor(0.7901)\n",
            "tensor(0.7883)\n",
            "tensor(0.7840)\n",
            "tensor(0.7837)\n",
            "tensor(0.7974)\n",
            "tensor(0.7984)\n",
            "tensor(0.7904)\n",
            "tensor(0.8035)\n",
            "tensor(0.7899)\n",
            "tensor(0.7985)\n",
            "tensor(0.7999)\n",
            "tensor(0.7935)\n",
            "tensor(0.8030)\n",
            "tensor(0.7973)\n",
            "tensor(0.7904)\n",
            "tensor(0.8070)\n",
            "tensor(0.8066)\n",
            "tensor(0.7818)\n",
            "tensor(0.7901)\n",
            "tensor(0.8005)\n",
            "tensor(0.7860)\n",
            "tensor(0.8013)\n",
            "tensor(0.7913)\n",
            "tensor(0.7892)\n",
            "tensor(0.7934)\n",
            "tensor(0.7688)\n",
            "tensor(0.7681)\n",
            "tensor(0.7817)\n",
            "tensor(0.8020)\n",
            "tensor(0.8002)\n",
            "tensor(0.7924)\n",
            "tensor(0.7870)\n",
            "tensor(0.8095)\n",
            "tensor(0.8022)\n",
            "tensor(0.8082)\n",
            "tensor(0.8025)\n",
            "tensor(0.7954)\n",
            "tensor(0.8051)\n",
            "tensor(0.7957)\n",
            "tensor(0.8069)\n",
            "tensor(0.8050)\n",
            "tensor(0.8002)\n",
            "tensor(0.8031)\n",
            "tensor(0.8001)\n",
            "tensor(0.7690)\n",
            "tensor(0.8064)\n",
            "tensor(0.8146)\n",
            "tensor(0.8057)\n",
            "tensor(0.8001)\n",
            "tensor(0.8127)\n",
            "tensor(0.7967)\n",
            "tensor(0.7573)\n",
            "tensor(0.8065)\n",
            "tensor(0.7933)\n",
            "tensor(0.8108)\n",
            "tensor(0.8084)\n",
            "tensor(0.8070)\n",
            "tensor(0.8068)\n",
            "tensor(0.7983)\n",
            "tensor(0.8140)\n",
            "tensor(0.8074)\n",
            "tensor(0.8119)\n",
            "tensor(0.8041)\n",
            "tensor(0.8124)\n",
            "tensor(0.8083)\n",
            "tensor(0.7972)\n",
            "tensor(0.7875)\n",
            "tensor(0.8003)\n"
          ]
        }
      ]
    },
    {
      "cell_type": "markdown",
      "metadata": {
        "id": "an-Kf2y7cIpR"
      },
      "source": [
        "Выведем на экран значения точности и потерь:"
      ]
    },
    {
      "cell_type": "code",
      "execution_count": null,
      "metadata": {
        "id": "kLnumX3SpS3u",
        "outputId": "87fb13e4-b041-4741-c95b-9d2735ccf971",
        "colab": {
          "base_uri": "https://localhost:8080/",
          "height": 430
        }
      },
      "outputs": [
        {
          "output_type": "display_data",
          "data": {
            "text/plain": [
              "<Figure size 640x480 with 1 Axes>"
            ],
            "image/png": "[encoded data removed]"
          },
          "metadata": {}
        }
      ],
      "source": [
        "with torch.no_grad():\n",
        "    plt.plot(test_accuracy_history)\n",
        "    plt.plot(test_loss_history)"
      ]
    },
    {
      "cell_type": "markdown",
      "source": [
        "<font color='green'><b>Полезные (и просто интересные) материалы:</b></font> \\\n",
        "Для работы с текстами используют и другие подходы. Например, сейчас активно используются RNN (LSTM) и трансформеры (BERT и другие с улицы Сезам, например, ELMO). НО! Они не являются панацеей, не всегда они нужны, так как и TF-IDF или Word2Vec + модели из классического ML тоже могут справляться. \\\n",
        "BERT тяжелый, существует много его вариаций для разных задач, есть готовые модели, есть надстройки над библиотекой transformers. Если, обучать BERT на GPU (можно в Google Colab или Kaggle), то должно быть побыстрее.\\\n",
        "https://huggingface.co/transformers/model_doc/bert.html \\\n",
        "https://t.me/renat_alimbekov \\\n",
        "https://colah.github.io/posts/2015-08-Understanding-LSTMs/ - Про LSTM \\\n",
        "https://web.stanford.edu/~jurafsky/slp3/10.pdf - про энкодер-декодер модели, этеншены\\\n",
        "https://pytorch.org/tutorials/beginner/transformer_tutorial.html - официальный гайд\n",
        "по трансформеру от создателей pytorch\\\n",
        "https://transformer.huggingface.co/ - поболтать с трансформером \\\n",
        "Библиотеки: allennlp, fairseq, transformers, tensorflow-text — множествореализованных\n",
        "методов для трансформеров методов NLP \\\n",
        "Word2Vec https://radimrehurek.com/gensim/models/word2vec.html"
      ],
      "metadata": {
        "id": "F1MKJqQunoGF"
      }
    },
    {
      "cell_type": "code",
      "execution_count": null,
      "metadata": {
        "id": "-nu1318JpS3y"
      },
      "outputs": [],
      "source": []
    }
  ],
  "metadata": {
    "accelerator": "GPU",
    "colab": {
      "provenance": []
    },
    "kernelspec": {
      "display_name": "Python 3 (ipykernel)",
      "language": "python",
      "name": "python3"
    },
    "language_info": {
      "codemirror_mode": {
        "name": "ipython",
        "version": 3
      },
      "file_extension": ".py",
      "mimetype": "text/x-python",
      "name": "python",
      "nbconvert_exporter": "python",
      "pygments_lexer": "ipython3",
      "version": "3.11.4"
    }
  },
  "nbformat": 4,
  "nbformat_minor": 0
}