{
 "cells": [
  {
   "cell_type": "markdown",
   "id": "5d56bbfa",
   "metadata": {},
   "source": [
    "## Лабораторная работа №1\n",
    "Зайцев Н.В. ПИ20-1В"
   ]
  },
  {
   "cell_type": "code",
   "execution_count": 1,
   "id": "96d5c855",
   "metadata": {},
   "outputs": [],
   "source": [
    "import torch"
   ]
  },
  {
   "cell_type": "code",
   "execution_count": 11,
   "id": "5d9108fc",
   "metadata": {},
   "outputs": [],
   "source": [
    "# Задание 1\n",
    "a = torch.tensor([[5.0,2.0],[7.0,5.0]])\n",
    "b = torch.tensor([[1.0,4.0],[2.0,3.0]])"
   ]
  },
  {
   "cell_type": "code",
   "execution_count": 12,
   "id": "d609499f",
   "metadata": {},
   "outputs": [
    {
     "data": {
      "text/plain": [
       "tensor([[6., 6.],\n",
       "        [9., 8.]])"
      ]
     },
     "execution_count": 12,
     "metadata": {},
     "output_type": "execute_result"
    }
   ],
   "source": [
    "# Задание 2\n",
    "a.add(b)"
   ]
  },
  {
   "cell_type": "code",
   "execution_count": 13,
   "id": "a4f80431",
   "metadata": {},
   "outputs": [
    {
     "data": {
      "text/plain": [
       "tensor([[ 4., -2.],\n",
       "        [ 5.,  2.]])"
      ]
     },
     "execution_count": 13,
     "metadata": {},
     "output_type": "execute_result"
    }
   ],
   "source": [
    "# Задание 3\n",
    "a.sub(b)"
   ]
  },
  {
   "cell_type": "code",
   "execution_count": 14,
   "id": "4a3a11f2",
   "metadata": {},
   "outputs": [
    {
     "data": {
      "text/plain": [
       "tensor([[ 5.,  8.],\n",
       "        [14., 15.]])"
      ]
     },
     "execution_count": 14,
     "metadata": {},
     "output_type": "execute_result"
    }
   ],
   "source": [
    "# Задание 4\n",
    "a.mul(b)"
   ]
  },
  {
   "cell_type": "code",
   "execution_count": 15,
   "id": "b6f06b0c",
   "metadata": {},
   "outputs": [
    {
     "data": {
      "text/plain": [
       "tensor([[5.0000, 0.5000],\n",
       "        [3.5000, 1.6667]])"
      ]
     },
     "execution_count": 15,
     "metadata": {},
     "output_type": "execute_result"
    }
   ],
   "source": [
    "# Задание 5\n",
    "a.div(b)"
   ]
  },
  {
   "cell_type": "code",
   "execution_count": 25,
   "id": "1ad20032",
   "metadata": {},
   "outputs": [
    {
     "name": "stdout",
     "output_type": "stream",
     "text": [
      "tensor([[False, False],\n",
      "        [False, False]])\n",
      "tensor([[ True, False],\n",
      "        [ True,  True]])\n",
      "tensor([[False,  True],\n",
      "        [False, False]])\n",
      "tensor([[True, True],\n",
      "        [True, True]])\n",
      "tensor([[ True, False],\n",
      "        [ True,  True]])\n",
      "tensor([[False,  True],\n",
      "        [False, False]])\n"
     ]
    }
   ],
   "source": [
    "# Задание 6\n",
    "print(a == b)\n",
    "\n",
    "print(a > b)\n",
    "\n",
    "print(a < b)\n",
    "\n",
    "print(a != b)\n",
    "\n",
    "print(a >= b)\n",
    "\n",
    "print(a <= b)"
   ]
  },
  {
   "cell_type": "code",
   "execution_count": 26,
   "id": "8daf855f",
   "metadata": {},
   "outputs": [
    {
     "name": "stdout",
     "output_type": "stream",
     "text": [
      "tensor([[-0.9589,  0.9093],\n",
      "        [ 0.6570, -0.9589]])\n",
      "tensor([[ 0.8415, -0.7568],\n",
      "        [ 0.9093,  0.1411]])\n",
      "tensor([[ 0.2837, -0.4161],\n",
      "        [ 0.7539,  0.2837]])\n",
      "tensor([[ 0.5403, -0.6536],\n",
      "        [-0.4161, -0.9900]])\n",
      "tensor([[ 148.4132,    7.3891],\n",
      "        [1096.6332,  148.4132]])\n",
      "tensor([[ 2.7183, 54.5981],\n",
      "        [ 7.3891, 20.0855]])\n",
      "tensor([[1.6094, 0.6931],\n",
      "        [1.9459, 1.6094]])\n",
      "tensor([[0.0000, 1.3863],\n",
      "        [0.6931, 1.0986]])\n",
      "tensor([[5., 2.],\n",
      "        [7., 5.]])\n",
      "tensor([[1., 4.],\n",
      "        [2., 3.]])\n"
     ]
    }
   ],
   "source": [
    "# Задание 7\n",
    "print(torch.sin(a))\n",
    "print(torch.sin(b))\n",
    "\n",
    "print(torch.cos(a))\n",
    "print(torch.cos(b))\n",
    "\n",
    "print(torch.exp(a))\n",
    "print(torch.exp(b))\n",
    "\n",
    "print(torch.log(a))\n",
    "print(torch.log(b))\n",
    "\n",
    "print(torch.abs(a))\n",
    "print(torch.abs(b))"
   ]
  },
  {
   "cell_type": "code",
   "execution_count": 28,
   "id": "bf8d8a43",
   "metadata": {},
   "outputs": [],
   "source": [
    "# Задание 8\n",
    "batch1 = torch.randn(3,1,5)\n",
    "batch2 = torch.randn(3,2,4,8)"
   ]
  },
  {
   "cell_type": "code",
   "execution_count": 29,
   "id": "0a4472f7",
   "metadata": {},
   "outputs": [
    {
     "name": "stdout",
     "output_type": "stream",
     "text": [
      "tensor([[[-0.4680,  1.1657, -0.6988, -1.0783, -0.5190]],\n",
      "\n",
      "        [[ 1.1129, -0.2873,  0.4725,  0.7223,  1.6434]],\n",
      "\n",
      "        [[-1.4992, -0.7216,  1.0614, -0.2172, -0.3948]]])\n",
      "tensor([[[[ 0.0555,  0.4605, -0.1131,  0.8106,  0.3179, -0.7747,  0.1790,\n",
      "            1.0387],\n",
      "          [-1.5410,  1.0130,  0.2872, -1.1453, -1.4043, -0.4785, -1.0843,\n",
      "            0.1859],\n",
      "          [-0.9731, -0.5468,  2.0262,  1.4674,  0.2339,  0.5413, -0.6185,\n",
      "            1.1391],\n",
      "          [ 0.2312,  0.3316,  0.4868, -1.2263, -0.2973, -0.9294,  1.1159,\n",
      "            1.6440]],\n",
      "\n",
      "         [[ 0.5560,  0.7075, -1.6191,  0.2663, -1.5125,  1.4900,  0.2657,\n",
      "           -0.1849],\n",
      "          [ 0.7743, -1.7380, -1.2998,  0.8160, -0.8393, -0.2413,  0.1021,\n",
      "            0.8224],\n",
      "          [-0.0560, -0.2023,  0.5151,  0.7342,  1.3579, -0.1491,  0.8157,\n",
      "            0.8372],\n",
      "          [ 0.8885, -1.2640, -0.6817, -0.5922,  0.3488, -1.4064,  0.2926,\n",
      "            0.8435]]],\n",
      "\n",
      "\n",
      "        [[[ 1.3950, -0.3206,  1.0995,  0.8106, -0.6397,  0.6141, -1.9620,\n",
      "            0.7842],\n",
      "          [ 0.1750, -0.3887, -0.3920,  3.0439,  0.1402, -1.3592, -1.0606,\n",
      "           -1.0995],\n",
      "          [-1.7743,  0.6659, -0.8475,  0.6894,  0.4577, -1.1329, -1.0398,\n",
      "            2.4199],\n",
      "          [-0.1451,  1.9006,  0.1761, -0.0171,  1.4717, -1.1077,  0.6006,\n",
      "            1.3114]],\n",
      "\n",
      "         [[ 1.5191, -0.1635,  0.7526, -0.2456, -2.4559,  0.3521,  0.7235,\n",
      "            1.4041],\n",
      "          [-0.6505, -3.0048, -0.4710,  0.3216, -0.5239, -0.7259,  0.0715,\n",
      "           -1.1693],\n",
      "          [-1.5934,  2.1615, -1.6800, -0.7288,  0.0225,  0.3504,  0.2616,\n",
      "            0.4487],\n",
      "          [ 2.0633,  0.4371,  0.4154,  1.7527, -0.1293, -1.5137,  1.3377,\n",
      "            1.6269]]],\n",
      "\n",
      "\n",
      "        [[[-0.3904,  1.6439,  1.7968, -1.0122,  1.6026, -0.1300, -0.5392,\n",
      "           -1.1222],\n",
      "          [-1.1547, -1.2899, -0.6362, -1.1329,  0.2557,  2.1726, -0.2266,\n",
      "            0.9804],\n",
      "          [-0.5757, -0.3314,  0.7959,  0.7609,  0.0433,  0.8316, -0.2127,\n",
      "           -1.3900],\n",
      "          [-0.2852,  0.1989,  0.6465, -0.1907,  0.5153,  0.8857,  0.8470,\n",
      "           -0.0465]],\n",
      "\n",
      "         [[ 0.3139,  0.8548,  2.0927, -0.8198, -1.2506, -0.0269, -0.6070,\n",
      "            0.0398],\n",
      "          [-0.4693, -0.6415,  1.1144, -0.5051,  0.8030,  0.1646, -0.1903,\n",
      "           -0.2153],\n",
      "          [ 0.8949,  0.6121, -1.5541, -0.0828,  0.5830, -0.2873, -0.6481,\n",
      "            0.5777],\n",
      "          [-0.8268,  0.6699,  0.8741, -0.9489, -0.7082,  0.6605, -1.5346,\n",
      "            0.9239]]]])\n"
     ]
    }
   ],
   "source": [
    "print(batch1)\n",
    "print(batch2)"
   ]
  },
  {
   "cell_type": "markdown",
   "id": "63f52c61",
   "metadata": {},
   "source": [
    "Разница между batch и tensor сосотит в том, что batch состоит из тензоров, а его размер говорит о количестве тензоров в нем"
   ]
  },
  {
   "cell_type": "code",
   "execution_count": null,
   "id": "5d5a2641",
   "metadata": {},
   "outputs": [],
   "source": []
  }
 ],
 "metadata": {
  "kernelspec": {
   "display_name": "Python 3 (ipykernel)",
   "language": "python",
   "name": "python3"
  },
  "language_info": {
   "codemirror_mode": {
    "name": "ipython",
    "version": 3
   },
   "file_extension": ".py",
   "mimetype": "text/x-python",
   "name": "python",
   "nbconvert_exporter": "python",
   "pygments_lexer": "ipython3",
   "version": "3.10.7"
  }
 },
 "nbformat": 4,
 "nbformat_minor": 5
}
