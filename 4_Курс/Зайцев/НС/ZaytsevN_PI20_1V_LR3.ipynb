{
 "cells": [
  {
   "cell_type": "markdown",
   "metadata": {
    "id": "ji_dVIyjSejc"
   },
   "source": [
    "# Распознавание рукописных цифр при помощи полносвязной нейронной сети"
   ]
  },
  {
   "cell_type": "code",
   "execution_count": 41,
   "metadata": {
    "id": "DWr6cvb9pS3J"
   },
   "outputs": [],
   "source": [
    "##WRITE YOUR CODE HERE\n",
    "import random\n",
    "import ssl\n",
    "import torch\n",
    "import torch.nn as nn\n",
    "import numpy as np\n",
    "import matplotlib.pyplot as plt\n",
    "import torchvision.datasets as datasets\n",
    "import matplotlib.pyplot as plt\n",
    "from torch.optim import Adam\n",
    "\n",
    "random.seed(0)\n",
    "np.random.seed(0)\n",
    "torch.manual_seed(0)\n",
    "torch.backends.cudnn.deterministic = True"
   ]
  },
  {
   "cell_type": "code",
   "execution_count": 42,
   "metadata": {},
   "outputs": [],
   "source": [
    "ssl._create_default_https_context = ssl._create_unverified_context # нужды MacOS"
   ]
  },
  {
   "cell_type": "markdown",
   "metadata": {
    "id": "mVv7I5PISejf"
   },
   "source": [
    "Загрузим набор данных MNIST:"
   ]
  },
  {
   "cell_type": "code",
   "execution_count": 43,
   "metadata": {
    "colab": {
     "base_uri": "https://localhost:8080/"
    },
    "id": "MqGQWTDIpS3R",
    "outputId": "9d581f16-f3ae-4825-80af-6bb6d70054f4"
   },
   "outputs": [],
   "source": [
    "MNIST_train = datasets.MNIST('./', train=True, download=True) ##WRITE YOUR CODE HERE('./', ##WRITE YOUR CODE HERE)\n",
    "MNIST_test = datasets.MNIST('./', train=False, download=True) ##WRITE YOUR CODE HERE('./', ##WRITE YOUR CODE HERE)"
   ]
  },
  {
   "cell_type": "markdown",
   "metadata": {
    "id": "m2V09muqSejg"
   },
   "source": [
    "Разделим данные на тестовые и тренировочные множества:"
   ]
  },
  {
   "cell_type": "code",
   "execution_count": 44,
   "metadata": {
    "id": "vv_Lz7PYpS3U"
   },
   "outputs": [],
   "source": [
    "X_train = MNIST_train.data ##WRITE YOUR CODE HERE.data\n",
    "y_train = MNIST_train.targets ##WRITE YOUR CODE HERE.targets\n",
    "X_test = MNIST_test.data ##WRITE YOUR CODE HERE.data\n",
    "y_test = MNIST_test.targets ##WRITE YOUR CODE HERE.targets"
   ]
  },
  {
   "cell_type": "markdown",
   "metadata": {
    "id": "eisaSz6wSejg"
   },
   "source": [
    "Посмотрим на тип данных:"
   ]
  },
  {
   "cell_type": "code",
   "execution_count": 45,
   "metadata": {
    "colab": {
     "base_uri": "https://localhost:8080/"
    },
    "id": "hMhsAedlrQF5",
    "outputId": "849f1dc6-7a3a-4a6c-e05e-ada1fe5752f2"
   },
   "outputs": [
    {
     "data": {
      "text/plain": [
       "(torch.uint8, torch.int64)"
      ]
     },
     "execution_count": 45,
     "metadata": {},
     "output_type": "execute_result"
    }
   ],
   "source": [
    "X_train.dtype, y_train.dtype ##WRITE YOUR CODE HERE, y_train.##WRITE YOUR CODE HERE"
   ]
  },
  {
   "cell_type": "markdown",
   "metadata": {
    "id": "arJf6P0qSejh"
   },
   "source": [
    "Переведём их в тип float:"
   ]
  },
  {
   "cell_type": "code",
   "execution_count": 46,
   "metadata": {
    "id": "2wlQ3kdMV7cl"
   },
   "outputs": [],
   "source": [
    "X_train = X_train.float() ##WRITE YOUR CODE HERE\n",
    "X_test = X_test.float() ##WRITE YOUR CODE HERE"
   ]
  },
  {
   "cell_type": "markdown",
   "metadata": {
    "id": "Wsp7MKcZSeji"
   },
   "source": [
    "Узнаем размерности получившихся четырёх множеств:"
   ]
  },
  {
   "cell_type": "code",
   "execution_count": 47,
   "metadata": {
    "colab": {
     "base_uri": "https://localhost:8080/"
    },
    "id": "_gfupg4kpS3X",
    "outputId": "d3eb4dc2-ad04-4969-d187-4622d3fda40f"
   },
   "outputs": [
    {
     "data": {
      "text/plain": [
       "(torch.Size([60000, 28, 28]),\n",
       " torch.Size([10000, 28, 28]),\n",
       " torch.Size([60000]),\n",
       " torch.Size([10000]))"
      ]
     },
     "execution_count": 47,
     "metadata": {},
     "output_type": "execute_result"
    }
   ],
   "source": [
    "X_train.shape, X_test.shape, y_train.shape, y_test.shape ##WRITE YOUR CODE HERE"
   ]
  },
  {
   "cell_type": "markdown",
   "metadata": {
    "id": "8jfEjsOxSeji"
   },
   "source": [
    "\n",
    "\n",
    "Выведем на экран одно из изображений тренировочного множества:"
   ]
  },
  {
   "cell_type": "code",
   "execution_count": 48,
   "metadata": {
    "colab": {
     "base_uri": "https://localhost:8080/",
     "height": 447
    },
    "id": "Z1tFXMwJpS3e",
    "outputId": "37c45d6b-5360-4912-ca3b-063feb3d161d"
   },
   "outputs": [
    {
     "data": {
      "image/png": "[encoded data removed]",
      "text/plain": [
       "<Figure size 640x480 with 1 Axes>"
      ]
     },
     "metadata": {},
     "output_type": "display_data"
    },
    {
     "name": "stdout",
     "output_type": "stream",
     "text": [
      "tensor(5)\n"
     ]
    }
   ],
   "source": [
    "plt.imshow(X_train[0, :, :])  ##WRITE YOUR CODE HERE[0, :, :])\n",
    "plt.show()\n",
    "print(y_train[0])"
   ]
  },
  {
   "cell_type": "markdown",
   "metadata": {
    "id": "v4dnS9T7Seji"
   },
   "source": [
    "Изменим размерности, чтобы выполнялось последующее матричное умножение:"
   ]
  },
  {
   "cell_type": "code",
   "execution_count": 49,
   "metadata": {
    "id": "IUZgNg7zpS3j"
   },
   "outputs": [],
   "source": [
    "X_train = torch.reshape(X_train, [-1, 28 * 28]) ##WRITE YOUR CODE HERE([-1, 28 * 28])\n",
    "X_test = torch.reshape(X_test, [-1, 28 * 28]) ##WRITE YOUR CODE HERE([-1, 28 * 28])"
   ]
  },
  {
   "cell_type": "markdown",
   "metadata": {
    "id": "W9n6fVLISejj"
   },
   "source": [
    "Напишем класс для нейронной сети, она будет состоять из входного слоя с последующей функцией активации сигмоидой и входного слоя:"
   ]
  },
  {
   "cell_type": "code",
   "execution_count": 50,
   "metadata": {
    "id": "k7l65slppS3l"
   },
   "outputs": [],
   "source": [
    "class MNISTNet(torch.nn.Module): ##WRITE YOUR CODE HERE):\n",
    "    def __init__(self, n_hidden_neurons):\n",
    "        super(MNISTNet, self).__init__()\n",
    "        self.seq = nn.Sequential(\n",
    "            nn.Linear(784, n_hidden_neurons), ##WRITE YOUR CODE HERE\n",
    "            nn.Sigmoid(), ##WRITE YOUR CODE HERE\n",
    "            nn.Linear(n_hidden_neurons, 10) ##WRITE YOUR CODE HERE\n",
    "            )\n",
    "\n",
    "    def forward(self, x):\n",
    "        x = self.seq(x) ##WRITE YOUR CODE HERE\n",
    "        return x"
   ]
  },
  {
   "cell_type": "markdown",
   "metadata": {
    "id": "o56_JOg6Sejj"
   },
   "source": [
    "Создадим экземпляр класса со 100 нейронами на скрытом слое:"
   ]
  },
  {
   "cell_type": "code",
   "execution_count": 51,
   "metadata": {
    "id": "FIltM0HvSejj"
   },
   "outputs": [],
   "source": [
    "mnist_net = MNISTNet(100) ##WRITE YOUR CODE HERE"
   ]
  },
  {
   "cell_type": "markdown",
   "metadata": {
    "id": "8212UbvnwGNO"
   },
   "source": [
    "Определим функцию потерь через кросс-энтропию, а в качестве оптимизатора возьмём Adam с шагом обучения 0,001, лучше lr=1.0e-3."
   ]
  },
  {
   "cell_type": "code",
   "execution_count": 52,
   "metadata": {
    "id": "00_2j2igpS3o"
   },
   "outputs": [],
   "source": [
    "loss = nn.CrossEntropyLoss() ##WRITE YOUR CODE HERE\n",
    "optimizer = Adam(mnist_net.parameters(), lr=0.001, weight_decay=0.0001) ##WRITE YOUR CODE HERE"
   ]
  },
  {
   "cell_type": "code",
   "execution_count": 53,
   "metadata": {
    "id": "lcTrMi14WuFV"
   },
   "outputs": [],
   "source": [
    "loss = torch.nn.CrossEntropyLoss()\n",
    "optimizer = torch.optim.Adam(mnist_net.parameters(), lr=1.0e-3)"
   ]
  },
  {
   "cell_type": "markdown",
   "metadata": {
    "id": "sujgVXgRSejk"
   },
   "source": [
    "Обучим нашу нейронную сеть:"
   ]
  },
  {
   "cell_type": "code",
   "execution_count": 54,
   "metadata": {
    "colab": {
     "base_uri": "https://localhost:8080/"
    },
    "id": "KqdLjv20XDed",
    "outputId": "d1bd2d7c-159a-416a-b777-ae59541ddaaf"
   },
   "outputs": [
    {
     "name": "stdout",
     "output_type": "stream",
     "text": [
      "tensor(0.9101)\n",
      "tensor(0.9147)\n",
      "tensor(0.9185)\n",
      "tensor(0.9232)\n",
      "tensor(0.9214)\n",
      "tensor(0.9252)\n",
      "tensor(0.9282)\n",
      "tensor(0.9257)\n",
      "tensor(0.9303)\n",
      "tensor(0.9345)\n",
      "tensor(0.9376)\n",
      "tensor(0.9306)\n",
      "tensor(0.9376)\n",
      "tensor(0.9366)\n",
      "tensor(0.9368)\n",
      "tensor(0.9350)\n",
      "tensor(0.9382)\n",
      "tensor(0.9405)\n",
      "tensor(0.9411)\n",
      "tensor(0.9376)\n",
      "tensor(0.9411)\n",
      "tensor(0.9429)\n",
      "tensor(0.9439)\n",
      "tensor(0.9423)\n",
      "tensor(0.9391)\n",
      "tensor(0.9445)\n",
      "tensor(0.9411)\n",
      "tensor(0.9468)\n",
      "tensor(0.9449)\n",
      "tensor(0.9433)\n",
      "tensor(0.9430)\n",
      "tensor(0.9391)\n",
      "tensor(0.9448)\n",
      "tensor(0.9414)\n",
      "tensor(0.9433)\n",
      "tensor(0.9446)\n",
      "tensor(0.9445)\n",
      "tensor(0.9477)\n",
      "tensor(0.9495)\n",
      "tensor(0.9464)\n",
      "tensor(0.9485)\n",
      "tensor(0.9495)\n",
      "tensor(0.9481)\n",
      "tensor(0.9436)\n",
      "tensor(0.9510)\n",
      "tensor(0.9467)\n",
      "tensor(0.9483)\n",
      "tensor(0.9494)\n",
      "tensor(0.9492)\n",
      "tensor(0.9471)\n",
      "tensor(0.9514)\n",
      "tensor(0.9517)\n",
      "tensor(0.9541)\n",
      "tensor(0.9503)\n",
      "tensor(0.9483)\n",
      "tensor(0.9507)\n",
      "tensor(0.9513)\n",
      "tensor(0.9528)\n",
      "tensor(0.9537)\n",
      "tensor(0.9491)\n",
      "tensor(0.9464)\n",
      "tensor(0.9486)\n",
      "tensor(0.9564)\n",
      "tensor(0.9556)\n",
      "tensor(0.9560)\n",
      "tensor(0.9524)\n",
      "tensor(0.9533)\n",
      "tensor(0.9538)\n",
      "tensor(0.9540)\n",
      "tensor(0.9530)\n",
      "tensor(0.9507)\n",
      "tensor(0.9520)\n",
      "tensor(0.9519)\n",
      "tensor(0.9485)\n",
      "tensor(0.9502)\n",
      "tensor(0.9539)\n",
      "tensor(0.9544)\n",
      "tensor(0.9544)\n",
      "tensor(0.9548)\n",
      "tensor(0.9568)\n",
      "tensor(0.9552)\n",
      "tensor(0.9528)\n",
      "tensor(0.9558)\n",
      "tensor(0.9549)\n",
      "tensor(0.9586)\n",
      "tensor(0.9566)\n",
      "tensor(0.9587)\n",
      "tensor(0.9572)\n",
      "tensor(0.9565)\n",
      "tensor(0.9546)\n",
      "tensor(0.9535)\n",
      "tensor(0.9571)\n",
      "tensor(0.9555)\n",
      "tensor(0.9578)\n",
      "tensor(0.9566)\n",
      "tensor(0.9564)\n",
      "tensor(0.9531)\n",
      "tensor(0.9564)\n",
      "tensor(0.9575)\n",
      "tensor(0.9552)\n"
     ]
    }
   ],
   "source": [
    "batch_size = 100\n",
    "\n",
    "test_accuracy_history = []\n",
    "test_loss_history = []\n",
    "\n",
    "\n",
    "for epoch in range(100):\n",
    "    order = np.random.permutation(len(X_train))\n",
    "\n",
    "    for start_index in range(0, len(X_train), batch_size):\n",
    "        ##WRITE YOUR CODE HERE\n",
    "        optimizer.zero_grad()\n",
    "\n",
    "        batch_indexes = order[start_index:start_index + batch_size] ##WRITE YOUR CODE HERE]\n",
    "\n",
    "        X_batch = X_train[batch_indexes] ##WRITE YOUR CODE HERE] \n",
    "        y_batch = y_train[batch_indexes] ##WRITE YOUR CODE HERE] \n",
    "\n",
    "        preds = mnist_net.forward(X_batch) ##WRITE YOUR CODE HERE\n",
    "\n",
    "        loss_value = loss(preds, y_batch) ##WRITE YOUR CODE HERE\n",
    "        loss_value.backward() ##WRITE YOUR CODE HERE\n",
    "\n",
    "        optimizer.step() ##WRITE YOUR CODE HERE\n",
    "\n",
    "    test_preds = mnist_net.forward(X_test)\n",
    "    test_loss_history.append(loss(test_preds, y_test))\n",
    "\n",
    "    accuracy = (test_preds.argmax(dim=1) == y_test).float().mean()\n",
    "    test_accuracy_history.append(accuracy) ##WRITE YOUR CODE HERE)\n",
    "    print(accuracy)"
   ]
  },
  {
   "cell_type": "markdown",
   "metadata": {
    "id": "H7w8S3nOSejk"
   },
   "source": [
    "Выведем на экран значения точности и потерь:"
   ]
  },
  {
   "cell_type": "code",
   "execution_count": 55,
   "metadata": {
    "colab": {
     "base_uri": "https://localhost:8080/",
     "height": 472
    },
    "id": "-nu1318JpS3y",
    "outputId": "195b0075-4548-42e2-f9c0-1461a8c82b9c"
   },
   "outputs": [
    {
     "data": {
      "image/png": "[encoded data removed]",
      "text/plain": [
       "<Figure size 640x480 with 1 Axes>"
      ]
     },
     "metadata": {},
     "output_type": "display_data"
    }
   ],
   "source": [
    "plt.plot([t.detach().numpy() for t in test_accuracy_history]) ##WRITE YOUR CODE HERE:\n",
    "plt.plot([t.detach().numpy() for t in test_loss_history])\n",
    "plt.show()"
   ]
  },
  {
   "cell_type": "code",
   "execution_count": null,
   "metadata": {},
   "outputs": [],
   "source": []
  },
  {
   "cell_type": "code",
   "execution_count": null,
   "metadata": {},
   "outputs": [],
   "source": []
  }
 ],
 "metadata": {
  "accelerator": "GPU",
  "colab": {
   "provenance": []
  },
  "kernelspec": {
   "display_name": "Python 3 (ipykernel)",
   "language": "python",
   "name": "python3"
  },
  "language_info": {
   "codemirror_mode": {
    "name": "ipython",
    "version": 3
   },
   "file_extension": ".py",
   "mimetype": "text/x-python",
   "name": "python",
   "nbconvert_exporter": "python",
   "pygments_lexer": "ipython3",
   "version": "3.10.7"
  }
 },
 "nbformat": 4,
 "nbformat_minor": 1
}
