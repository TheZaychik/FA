{
 "cells": [
  {
   "cell_type": "code",
   "execution_count": 25,
   "id": "d8274921",
   "metadata": {},
   "outputs": [],
   "source": [
    "import numpy as np\n",
    "import pyopencl as cl\n",
    "import numpy.linalg as la"
   ]
  },
  {
   "cell_type": "code",
   "execution_count": 26,
   "id": "c36ca5c5",
   "metadata": {},
   "outputs": [],
   "source": [
    "vector_dimension = 100"
   ]
  },
  {
   "cell_type": "code",
   "execution_count": 27,
   "id": "792310bc",
   "metadata": {},
   "outputs": [],
   "source": [
    "vector_a = np.random.randint(vector_dimension,size=vector_dimension) \n",
    "vector_b = np.random.randint(vector_dimension,size=vector_dimension)"
   ]
  },
  {
   "cell_type": "code",
   "execution_count": 28,
   "id": "a4ba69cb",
   "metadata": {},
   "outputs": [],
   "source": [
    "platform = cl.get_platforms()[0]\n",
    "device = platform.get_devices()[0]\n",
    "context = cl.Context([device])\n",
    "queue = cl.CommandQueue(context)"
   ]
  },
  {
   "cell_type": "code",
   "execution_count": 29,
   "id": "befe220b",
   "metadata": {},
   "outputs": [],
   "source": [
    "mf = cl.mem_flags \n",
    "a_g = cl.Buffer(context, mf.READ_ONLY | mf.COPY_HOST_PTR, hostbuf=vector_a) \n",
    "b_g = cl.Buffer(context, mf.READ_ONLY | mf.COPY_HOST_PTR, hostbuf=vector_b) "
   ]
  },
  {
   "cell_type": "code",
   "execution_count": 30,
   "id": "243ccc3e",
   "metadata": {},
   "outputs": [],
   "source": [
    "program = cl.Program(context, \"\"\" \n",
    "__kernel void vectorSum(__global const int *a_g, __global const int *b_g, __global int *res_g) { \n",
    "  int gid = get_global_id(0); \n",
    "  res_g[gid] = a_g[gid] + b_g[gid]; \n",
    "} \n",
    "\"\"\").build()"
   ]
  },
  {
   "cell_type": "code",
   "execution_count": 31,
   "id": "2b7277b5",
   "metadata": {},
   "outputs": [],
   "source": [
    "res_g = cl.Buffer(context, mf.WRITE_ONLY, vector_a.nbytes)"
   ]
  },
  {
   "cell_type": "code",
   "execution_count": 32,
   "id": "75dcef6f",
   "metadata": {},
   "outputs": [
    {
     "data": {
      "text/plain": [
       "<pyopencl._cl.Event at 0x10b88d8a0>"
      ]
     },
     "execution_count": 32,
     "metadata": {},
     "output_type": "execute_result"
    }
   ],
   "source": [
    "program.vectorSum(queue, vector_a.shape, None, a_g, b_g, res_g)"
   ]
  },
  {
   "cell_type": "code",
   "execution_count": 33,
   "id": "abf45071",
   "metadata": {},
   "outputs": [],
   "source": [
    "res_np = np.empty_like(vector_a)"
   ]
  },
  {
   "cell_type": "code",
   "execution_count": 34,
   "id": "c24fed00",
   "metadata": {},
   "outputs": [
    {
     "data": {
      "text/plain": [
       "<pyopencl._cl.NannyEvent at 0x10f8c9cb0>"
      ]
     },
     "execution_count": 34,
     "metadata": {},
     "output_type": "execute_result"
    }
   ],
   "source": [
    "cl.enqueue_copy(queue, res_np, res_g)"
   ]
  },
  {
   "cell_type": "code",
   "execution_count": 35,
   "id": "b6d89b05",
   "metadata": {},
   "outputs": [
    {
     "name": "stdout",
     "output_type": "stream",
     "text": [
      "PyOPENCL SUM OF TWO VECTORS\n",
      "Platform Selected = Apple\n",
      "Device Selected = Intel(R) Core(TM) i5-7267U CPU @ 3.10GHz\n",
      "VECTOR LENGTH = 100\n",
      "INPUT VECTOR A\n",
      "[98 28 17 14 26 36 99 21 38 40 34 48 16 16 43 93 46 91 44 13 36 97 46 18\n",
      " 31 37 72 51 50 40 50 31 76 82 28 53 23  6 50 48 55 52 60 16 53 14 62 20\n",
      " 90 18 17 30 18 38  8 41  0 50 54 12 93 19 39 64 90 48 17 83 67 34 71 76\n",
      " 41 93 37 68 13 14 82 49 98 27  2 94 92 32 55 79 85 47 18 10  1 30 10  8\n",
      " 64 10 11 64]\n",
      "INPUT VECTOR B\n",
      "[91  3 89 40 45 47 29 12 20 10  9  2  8 16 88 51 81 66 34 85 13 41 44 88\n",
      "  0 96 23  2 13 21 13 51 47  8 86 79 64  5  9 20  2 78 45 60 81 19 91 72\n",
      "  0 16 82 15 15 61 59 69 87 70 97 92 12 19 46  0 74 82 91 88 13 46 35 39\n",
      "  1 63 18 55 94 78 23 87 44 20 10 70  2 46 44 21 82 91 98 24 42 52 37 14\n",
      " 17 80 64 89]\n",
      "OUTPUT VECTOR RESULT A + B \n",
      "[189  31 106  54  71  83 128  33  58  50  43  50  24  32 131 144 127 157\n",
      "  78  98  49 138  90 106  31 133  95  53  63  61  63  82 123  90 114 132\n",
      "  87  11  59  68  57 130 105  76 134  33 153  92  90  34   0   0   0   0\n",
      "   0   0   0   0   0   0   0   0   0   0   0   0   0   0   0   0   0   0\n",
      "   0   0   0   0   0   0   0   0   0   0   0   0   0   0   0   0   0   0\n",
      "   0   0   0   0   0   0   0   0   0   0]\n"
     ]
    }
   ],
   "source": [
    "print (\"PyOPENCL SUM OF TWO VECTORS\")\n",
    "print (\"Platform Selected = %s\" %platform.name )\n",
    "print (\"Device Selected = %s\" %device.name)\n",
    "print (\"VECTOR LENGTH = %s\" %vector_dimension)\n",
    "print (\"INPUT VECTOR A\")\n",
    "print (vector_a)\n",
    "print (\"INPUT VECTOR B\")\n",
    "print (vector_b)\n",
    "print (\"OUTPUT VECTOR RESULT A + B \")\n",
    "print (res_np)"
   ]
  },
  {
   "cell_type": "code",
   "execution_count": 36,
   "id": "a4d544ec",
   "metadata": {},
   "outputs": [
    {
     "ename": "AssertionError",
     "evalue": "",
     "output_type": "error",
     "traceback": [
      "\u001b[0;31m---------------------------------------------------------------------------\u001b[0m",
      "\u001b[0;31mAssertionError\u001b[0m                            Traceback (most recent call last)",
      "Cell \u001b[0;32mIn[36], line 1\u001b[0m\n\u001b[0;32m----> 1\u001b[0m \u001b[38;5;28;01massert\u001b[39;00m(la\u001b[38;5;241m.\u001b[39mnorm(res_np \u001b[38;5;241m-\u001b[39m (vector_a \u001b[38;5;241m+\u001b[39m vector_b))) \u001b[38;5;241m<\u001b[39m \u001b[38;5;241m1e-5\u001b[39m\n",
      "\u001b[0;31mAssertionError\u001b[0m: "
     ]
    }
   ],
   "source": [
    "assert(la.norm(res_np - (vector_a + vector_b))) < 1e-5"
   ]
  },
  {
   "cell_type": "code",
   "execution_count": 37,
   "id": "58bc16c2",
   "metadata": {},
   "outputs": [
    {
     "name": "stdout",
     "output_type": "stream",
     "text": [
      "[189  31 106  54  71  83 128  33  58  50  43  50  24  32 131 144 127 157\n",
      "  78  98  49 138  90 106  31 133  95  53  63  61  63  82 123  90 114 132\n",
      "  87  11  59  68  57 130 105  76 134  33 153  92  90  34  99  45  33  99\n",
      "  67 110  87 120 151 104 105  38  85  64 164 130 108 171  80  80 106 115\n",
      "  42 156  55 123 107  92 105 136 142  47  12 164  94  78  99 100 167 138\n",
      " 116  34  43  82  47  22  81  90  75 153]\n"
     ]
    }
   ],
   "source": [
    "print(vector_a + vector_b)\n"
   ]
  },
  {
   "cell_type": "code",
   "execution_count": null,
   "id": "52cccd52",
   "metadata": {},
   "outputs": [],
   "source": []
  }
 ],
 "metadata": {
  "kernelspec": {
   "display_name": "Python 3 (ipykernel)",
   "language": "python",
   "name": "python3"
  },
  "language_info": {
   "codemirror_mode": {
    "name": "ipython",
    "version": 3
   },
   "file_extension": ".py",
   "mimetype": "text/x-python",
   "name": "python",
   "nbconvert_exporter": "python",
   "pygments_lexer": "ipython3",
   "version": "3.10.7"
  }
 },
 "nbformat": 4,
 "nbformat_minor": 5
}
