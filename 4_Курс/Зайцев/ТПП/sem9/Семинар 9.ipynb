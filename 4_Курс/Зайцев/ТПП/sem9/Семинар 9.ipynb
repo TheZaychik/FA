{
 "cells": [
  {
   "cell_type": "markdown",
   "id": "dca2bdca",
   "metadata": {},
   "source": [
    "# Технологии параллельного программирования\n",
    "\n",
    "## Модуль 2. Гетерогенные вычисления на базе стандарта OpenCL\n",
    "\n",
    "### Семинар 9\n",
    "\n",
    "Выполнить установку библиотек PyOpenCL в блокноте Jupyter Notebook или аналогичной среде. Выполнить импорт, проверить версию, протестировать имеющиеся платформы и девайсы.\n"
   ]
  },
  {
   "cell_type": "code",
   "execution_count": 1,
   "id": "fe051dd9",
   "metadata": {},
   "outputs": [
    {
     "name": "stdout",
     "output_type": "stream",
     "text": [
      "Requirement already satisfied: pyopencl in /Library/Frameworks/Python.framework/Versions/3.10/lib/python3.10/site-packages (2024.1)\n",
      "Requirement already satisfied: numpy in /Library/Frameworks/Python.framework/Versions/3.10/lib/python3.10/site-packages (from pyopencl) (1.23.4)\n",
      "Requirement already satisfied: pytools>=2021.2.7 in /Library/Frameworks/Python.framework/Versions/3.10/lib/python3.10/site-packages (from pyopencl) (2024.1.1)\n",
      "Requirement already satisfied: platformdirs>=2.2.0 in /Library/Frameworks/Python.framework/Versions/3.10/lib/python3.10/site-packages (from pyopencl) (3.2.0)\n",
      "Requirement already satisfied: typing-extensions>=4.0 in /Library/Frameworks/Python.framework/Versions/3.10/lib/python3.10/site-packages (from pytools>=2021.2.7->pyopencl) (4.5.0)\n",
      "\n",
      "\u001b[1m[\u001b[0m\u001b[34;49mnotice\u001b[0m\u001b[1;39;49m]\u001b[0m\u001b[39;49m A new release of pip is available: \u001b[0m\u001b[31;49m23.3.1\u001b[0m\u001b[39;49m -> \u001b[0m\u001b[32;49m24.0\u001b[0m\n",
      "\u001b[1m[\u001b[0m\u001b[34;49mnotice\u001b[0m\u001b[1;39;49m]\u001b[0m\u001b[39;49m To update, run: \u001b[0m\u001b[32;49mpip install --upgrade pip\u001b[0m\n",
      "Note: you may need to restart the kernel to use updated packages.\n"
     ]
    }
   ],
   "source": [
    "pip install pyopencl"
   ]
  },
  {
   "cell_type": "code",
   "execution_count": 2,
   "id": "31c9666a",
   "metadata": {},
   "outputs": [
    {
     "name": "stdout",
     "output_type": "stream",
     "text": [
      "Requirement already satisfied: numba in /Library/Frameworks/Python.framework/Versions/3.10/lib/python3.10/site-packages (0.59.1)\n",
      "Requirement already satisfied: llvmlite<0.43,>=0.42.0dev0 in /Library/Frameworks/Python.framework/Versions/3.10/lib/python3.10/site-packages (from numba) (0.42.0)\n",
      "Requirement already satisfied: numpy<1.27,>=1.22 in /Library/Frameworks/Python.framework/Versions/3.10/lib/python3.10/site-packages (from numba) (1.23.4)\n",
      "\n",
      "\u001b[1m[\u001b[0m\u001b[34;49mnotice\u001b[0m\u001b[1;39;49m]\u001b[0m\u001b[39;49m A new release of pip is available: \u001b[0m\u001b[31;49m23.3.1\u001b[0m\u001b[39;49m -> \u001b[0m\u001b[32;49m24.0\u001b[0m\n",
      "\u001b[1m[\u001b[0m\u001b[34;49mnotice\u001b[0m\u001b[1;39;49m]\u001b[0m\u001b[39;49m To update, run: \u001b[0m\u001b[32;49mpip install --upgrade pip\u001b[0m\n",
      "Note: you may need to restart the kernel to use updated packages.\n"
     ]
    }
   ],
   "source": [
    "pip install numba"
   ]
  },
  {
   "cell_type": "code",
   "execution_count": 3,
   "id": "5e91197e",
   "metadata": {},
   "outputs": [],
   "source": [
    "#python.exe -m pip install --upgrade pip #Для Анаконда промпт"
   ]
  },
  {
   "cell_type": "code",
   "execution_count": 4,
   "id": "4c8eab51",
   "metadata": {},
   "outputs": [],
   "source": [
    "import pyopencl as cl"
   ]
  },
  {
   "cell_type": "code",
   "execution_count": 5,
   "id": "cb382eba",
   "metadata": {},
   "outputs": [
    {
     "data": {
      "text/plain": [
       "(2024, 1)"
      ]
     },
     "execution_count": 5,
     "metadata": {},
     "output_type": "execute_result"
    }
   ],
   "source": [
    "cl.VERSION"
   ]
  },
  {
   "cell_type": "code",
   "execution_count": 6,
   "id": "e18e4b1d",
   "metadata": {},
   "outputs": [
    {
     "data": {
      "text/plain": [
       "[(<pyopencl.Platform 'Apple' at 0x7fff0000>,\n",
       "  [<pyopencl.Device 'Intel(R) Core(TM) i5-7267U CPU @ 3.10GHz' on 'Apple' at 0xffffffff>,\n",
       "   <pyopencl.Device 'Intel(R) Iris(TM) Plus Graphics 650' on 'Apple' at 0x1024500>])]"
      ]
     },
     "execution_count": 6,
     "metadata": {},
     "output_type": "execute_result"
    }
   ],
   "source": [
    "from pyopencl.tools import get_test_platforms_and_devices\n",
    "get_test_platforms_and_devices()"
   ]
  },
  {
   "cell_type": "code",
   "execution_count": 7,
   "id": "78ee43f9",
   "metadata": {},
   "outputs": [],
   "source": [
    "import os\n",
    "os.environ ['PYOPENCL_COMPILER_OUTPUT'] = '1'\n",
    "os.environ ['PYOPENCL_CTX'] = '0:0'"
   ]
  },
  {
   "cell_type": "code",
   "execution_count": 8,
   "id": "61f72e92",
   "metadata": {},
   "outputs": [],
   "source": [
    "import numba"
   ]
  },
  {
   "cell_type": "code",
   "execution_count": 9,
   "id": "76c7f761",
   "metadata": {},
   "outputs": [
    {
     "name": "stdout",
     "output_type": "stream",
     "text": [
      "0.59.1\n"
     ]
    }
   ],
   "source": [
    "print(numba.__version__)"
   ]
  },
  {
   "cell_type": "code",
   "execution_count": 10,
   "id": "0dd27d6e",
   "metadata": {},
   "outputs": [
    {
     "name": "stdout",
     "output_type": "stream",
     "text": [
      "36.0\n"
     ]
    }
   ],
   "source": [
    "from numba import jit\n",
    "from numpy import arange\n",
    "@jit\n",
    "def Sum2D ( arr ):\n",
    "    M , N = arr . shape\n",
    "    result = 0.0\n",
    "    for i in range ( M ):\n",
    "        for j in range ( N ):\n",
    "            result += arr [i , j]\n",
    "    return result\n",
    "a = arange ( 9 ) . reshape (3 , 3 )\n",
    "print ( Sum2D ( a ) )"
   ]
  },
  {
   "cell_type": "code",
   "execution_count": 11,
   "id": "9a344cae",
   "metadata": {},
   "outputs": [
    {
     "data": {
      "text/plain": [
       "''"
      ]
     },
     "execution_count": 11,
     "metadata": {},
     "output_type": "execute_result"
    }
   ],
   "source": [
    "cl.VERSION_STATUS"
   ]
  },
  {
   "cell_type": "code",
   "execution_count": 12,
   "id": "c50668b5",
   "metadata": {},
   "outputs": [
    {
     "data": {
      "text/plain": [
       "'2024.1'"
      ]
     },
     "execution_count": 12,
     "metadata": {},
     "output_type": "execute_result"
    }
   ],
   "source": [
    "cl.VERSION_TEXT"
   ]
  },
  {
   "cell_type": "code",
   "execution_count": 13,
   "id": "3a0b5972",
   "metadata": {},
   "outputs": [
    {
     "data": {
      "text/plain": [
       "(1, 2)"
      ]
     },
     "execution_count": 13,
     "metadata": {},
     "output_type": "execute_result"
    }
   ],
   "source": [
    "cl.get_cl_header_version()"
   ]
  },
  {
   "cell_type": "code",
   "execution_count": 14,
   "id": "639457a8",
   "metadata": {},
   "outputs": [
    {
     "data": {
      "text/plain": [
       "[<pyopencl.Platform 'Apple' at 0x7fff0000>]"
      ]
     },
     "execution_count": 14,
     "metadata": {},
     "output_type": "execute_result"
    }
   ],
   "source": [
    "cl.get_platforms()"
   ]
  },
  {
   "cell_type": "code",
   "execution_count": 15,
   "id": "d784775a",
   "metadata": {},
   "outputs": [],
   "source": [
    "def print_device_info() :\n",
    "    print('\\n' + '=' * 60 + '\\nOpenCL Platforms and Devices')\n",
    "    for platform in cl.get_platforms():\n",
    "        print('=' * 60)\n",
    "        print('Platform - Name: ' + platform.name)\n",
    "        print('Platform - Vendor: ' + platform.vendor)\n",
    "        print('Platform - Version: ' + platform.version)\n",
    "        print('Platform - Profile: ' + platform.profile)\n",
    "\n",
    "        for device in platform.get_devices():\n",
    "            print(' ' + '-' * 56)\n",
    "            print(' Device - Name: ' \\\n",
    "                  + device.name)\n",
    "            print(' Device - Type: ' \\\n",
    "                  + cl.device_type.to_string(device.type))\n",
    "            print(' Device - Max Clock Speed: {0} Mhz'\\\n",
    "                  .format(device.max_clock_frequency))\n",
    "            print(' Device - Compute Units: {0}'\\\n",
    "                  .format(device.max_compute_units))\n",
    "            print(' Device - Local Memory: {0:.0f} KB'\\\n",
    "                  .format(device.local_mem_size/1024.0))\n",
    "            print(' Device - Constant Memory: {0:.0f} KB'\\\n",
    "                  .format(device.max_constant_buffer_size/1024.0))\n",
    "            print(' Device - Global Memory: {0:.0f} GB'\\\n",
    "                  .format(device.global_mem_size/1073741824.0))\n",
    "            print(' Device - Max Buffer/Image Size: {0:.0f} MB'\\\n",
    "                  .format(device.max_mem_alloc_size/1048576.0))\n",
    "            print(' Device - Max Work Group Size: {0:.0f}'\\\n",
    "                  .format(device.max_work_group_size))\n",
    "    print('\\n')"
   ]
  },
  {
   "cell_type": "code",
   "execution_count": 16,
   "id": "9e018c96",
   "metadata": {},
   "outputs": [
    {
     "name": "stdout",
     "output_type": "stream",
     "text": [
      "\n",
      "============================================================\n",
      "OpenCL Platforms and Devices\n",
      "============================================================\n",
      "Platform - Name: Apple\n",
      "Platform - Vendor: Apple\n",
      "Platform - Version: OpenCL 1.2 (Oct 28 2023 11:19:20)\n",
      "Platform - Profile: FULL_PROFILE\n",
      " --------------------------------------------------------\n",
      " Device - Name: Intel(R) Core(TM) i5-7267U CPU @ 3.10GHz\n",
      " Device - Type: ALL | CPU\n",
      " Device - Max Clock Speed: 3100 Mhz\n",
      " Device - Compute Units: 4\n",
      " Device - Local Memory: 32 KB\n",
      " Device - Constant Memory: 64 KB\n",
      " Device - Global Memory: 8 GB\n",
      " Device - Max Buffer/Image Size: 2048 MB\n",
      " Device - Max Work Group Size: 1024\n",
      " --------------------------------------------------------\n",
      " Device - Name: Intel(R) Iris(TM) Plus Graphics 650\n",
      " Device - Type: ALL | GPU\n",
      " Device - Max Clock Speed: 1050 Mhz\n",
      " Device - Compute Units: 48\n",
      " Device - Local Memory: 64 KB\n",
      " Device - Constant Memory: 64 KB\n",
      " Device - Global Memory: 2 GB\n",
      " Device - Max Buffer/Image Size: 384 MB\n",
      " Device - Max Work Group Size: 256\n",
      "\n",
      "\n"
     ]
    }
   ],
   "source": [
    "if __name__ == \"__main__\":\n",
    "    print_device_info()"
   ]
  },
  {
   "cell_type": "code",
   "execution_count": null,
   "id": "c79cb522",
   "metadata": {},
   "outputs": [],
   "source": []
  }
 ],
 "metadata": {
  "kernelspec": {
   "display_name": "Python 3 (ipykernel)",
   "language": "python",
   "name": "python3"
  },
  "language_info": {
   "codemirror_mode": {
    "name": "ipython",
    "version": 3
   },
   "file_extension": ".py",
   "mimetype": "text/x-python",
   "name": "python",
   "nbconvert_exporter": "python",
   "pygments_lexer": "ipython3",
   "version": "3.10.7"
  }
 },
 "nbformat": 4,
 "nbformat_minor": 5
}
