{
  "nbformat": 4,
  "nbformat_minor": 0,
  "metadata": {
    "colab": {
      "provenance": [],
      "collapsed_sections": []
    },
    "kernelspec": {
      "name": "python3",
      "display_name": "Python 3"
    },
    "language_info": {
      "name": "python"
    }
  },
  "cells": [
    {
      "cell_type": "code",
      "execution_count": 1,
      "metadata": {
        "id": "WM8oVIWVkm-i"
      },
      "outputs": [],
      "source": [
        "import random\n",
        "import numpy as np\n",
        "import pandas as pd\n",
        "import matplotlib.pyplot as plt"
      ]
    },
    {
      "cell_type": "markdown",
      "source": [
        "Для начала считаем данные о котировке двух инструментов из csv-файла, полученного при импорте с сайта биржи в объект Pandas DataFrame:"
      ],
      "metadata": {
        "id": "XOOblq6Sk241"
      }
    },
    {
      "cell_type": "code",
      "source": [
        "mvid = pd.read_csv('Data/MVID_101001_171001.txt')\n",
        "sber = pd.read_csv('Data/SBER_101001_171001.txt')"
      ],
      "metadata": {
        "id": "ASBKyHs1kufD"
      },
      "execution_count": 3,
      "outputs": []
    },
    {
      "cell_type": "code",
      "source": [
        "sber.head()"
      ],
      "metadata": {
        "colab": {
          "base_uri": "https://localhost:8080/",
          "height": 206
        },
        "id": "-mHcPEwglcik",
        "outputId": "95d52e37-b8ab-4692-ee57-8154718c2145"
      },
      "execution_count": 4,
      "outputs": [
        {
          "output_type": "execute_result",
          "data": {
            "text/plain": [
              "  <TICKER> <PER>    <DATE>  <TIME>  <CLOSE>      <VOL>\n",
              "0     SBER     D  20101001       0    89.09  332429890\n",
              "1     SBER     D  20101004       0    89.88  194032721\n",
              "2     SBER     D  20101005       0    91.97  198775753\n",
              "3     SBER     D  20101006       0    91.20  210406027\n",
              "4     SBER     D  20101007       0    90.40  145137617"
            ],
            "text/html": [
              "\n",
              "  <div id=\"df-0bfe4b27-d5ac-413a-89be-0d3e88becafe\">\n",
              "    <div class=\"colab-df-container\">\n",
              "      <div>\n",
              "<style scoped>\n",
              "    .dataframe tbody tr th:only-of-type {\n",
              "        vertical-align: middle;\n",
              "    }\n",
              "\n",
              "    .dataframe tbody tr th {\n",
              "        vertical-align: top;\n",
              "    }\n",
              "\n",
              "    .dataframe thead th {\n",
              "        text-align: right;\n",
              "    }\n",
              "</style>\n",
              "<table border=\"1\" class=\"dataframe\">\n",
              "  <thead>\n",
              "    <tr style=\"text-align: right;\">\n",
              "      <th></th>\n",
              "      <th>&lt;TICKER&gt;</th>\n",
              "      <th>&lt;PER&gt;</th>\n",
              "      <th>&lt;DATE&gt;</th>\n",
              "      <th>&lt;TIME&gt;</th>\n",
              "      <th>&lt;CLOSE&gt;</th>\n",
              "      <th>&lt;VOL&gt;</th>\n",
              "    </tr>\n",
              "  </thead>\n",
              "  <tbody>\n",
              "    <tr>\n",
              "      <th>0</th>\n",
              "      <td>SBER</td>\n",
              "      <td>D</td>\n",
              "      <td>20101001</td>\n",
              "      <td>0</td>\n",
              "      <td>89.09</td>\n",
              "      <td>332429890</td>\n",
              "    </tr>\n",
              "    <tr>\n",
              "      <th>1</th>\n",
              "      <td>SBER</td>\n",
              "      <td>D</td>\n",
              "      <td>20101004</td>\n",
              "      <td>0</td>\n",
              "      <td>89.88</td>\n",
              "      <td>194032721</td>\n",
              "    </tr>\n",
              "    <tr>\n",
              "      <th>2</th>\n",
              "      <td>SBER</td>\n",
              "      <td>D</td>\n",
              "      <td>20101005</td>\n",
              "      <td>0</td>\n",
              "      <td>91.97</td>\n",
              "      <td>198775753</td>\n",
              "    </tr>\n",
              "    <tr>\n",
              "      <th>3</th>\n",
              "      <td>SBER</td>\n",
              "      <td>D</td>\n",
              "      <td>20101006</td>\n",
              "      <td>0</td>\n",
              "      <td>91.20</td>\n",
              "      <td>210406027</td>\n",
              "    </tr>\n",
              "    <tr>\n",
              "      <th>4</th>\n",
              "      <td>SBER</td>\n",
              "      <td>D</td>\n",
              "      <td>20101007</td>\n",
              "      <td>0</td>\n",
              "      <td>90.40</td>\n",
              "      <td>145137617</td>\n",
              "    </tr>\n",
              "  </tbody>\n",
              "</table>\n",
              "</div>\n",
              "      <button class=\"colab-df-convert\" onclick=\"convertToInteractive('df-0bfe4b27-d5ac-413a-89be-0d3e88becafe')\"\n",
              "              title=\"Convert this dataframe to an interactive table.\"\n",
              "              style=\"display:none;\">\n",
              "        \n",
              "  <svg xmlns=\"http://www.w3.org/2000/svg\" height=\"24px\"viewBox=\"0 0 24 24\"\n",
              "       width=\"24px\">\n",
              "    <path d=\"M0 0h24v24H0V0z\" fill=\"none\"/>\n",
              "    <path d=\"M18.56 5.44l.94 2.06.94-2.06 2.06-.94-2.06-.94-.94-2.06-.94 2.06-2.06.94zm-11 1L8.5 8.5l.94-2.06 2.06-.94-2.06-.94L8.5 2.5l-.94 2.06-2.06.94zm10 10l.94 2.06.94-2.06 2.06-.94-2.06-.94-.94-2.06-.94 2.06-2.06.94z\"/><path d=\"M17.41 7.96l-1.37-1.37c-.4-.4-.92-.59-1.43-.59-.52 0-1.04.2-1.43.59L10.3 9.45l-7.72 7.72c-.78.78-.78 2.05 0 2.83L4 21.41c.39.39.9.59 1.41.59.51 0 1.02-.2 1.41-.59l7.78-7.78 2.81-2.81c.8-.78.8-2.07 0-2.86zM5.41 20L4 18.59l7.72-7.72 1.47 1.35L5.41 20z\"/>\n",
              "  </svg>\n",
              "      </button>\n",
              "      \n",
              "  <style>\n",
              "    .colab-df-container {\n",
              "      display:flex;\n",
              "      flex-wrap:wrap;\n",
              "      gap: 12px;\n",
              "    }\n",
              "\n",
              "    .colab-df-convert {\n",
              "      background-color: #E8F0FE;\n",
              "      border: none;\n",
              "      border-radius: 50%;\n",
              "      cursor: pointer;\n",
              "      display: none;\n",
              "      fill: #1967D2;\n",
              "      height: 32px;\n",
              "      padding: 0 0 0 0;\n",
              "      width: 32px;\n",
              "    }\n",
              "\n",
              "    .colab-df-convert:hover {\n",
              "      background-color: #E2EBFA;\n",
              "      box-shadow: 0px 1px 2px rgba(60, 64, 67, 0.3), 0px 1px 3px 1px rgba(60, 64, 67, 0.15);\n",
              "      fill: #174EA6;\n",
              "    }\n",
              "\n",
              "    [theme=dark] .colab-df-convert {\n",
              "      background-color: #3B4455;\n",
              "      fill: #D2E3FC;\n",
              "    }\n",
              "\n",
              "    [theme=dark] .colab-df-convert:hover {\n",
              "      background-color: #434B5C;\n",
              "      box-shadow: 0px 1px 3px 1px rgba(0, 0, 0, 0.15);\n",
              "      filter: drop-shadow(0px 1px 2px rgba(0, 0, 0, 0.3));\n",
              "      fill: #FFFFFF;\n",
              "    }\n",
              "  </style>\n",
              "\n",
              "      <script>\n",
              "        const buttonEl =\n",
              "          document.querySelector('#df-0bfe4b27-d5ac-413a-89be-0d3e88becafe button.colab-df-convert');\n",
              "        buttonEl.style.display =\n",
              "          google.colab.kernel.accessAllowed ? 'block' : 'none';\n",
              "\n",
              "        async function convertToInteractive(key) {\n",
              "          const element = document.querySelector('#df-0bfe4b27-d5ac-413a-89be-0d3e88becafe');\n",
              "          const dataTable =\n",
              "            await google.colab.kernel.invokeFunction('convertToInteractive',\n",
              "                                                     [key], {});\n",
              "          if (!dataTable) return;\n",
              "\n",
              "          const docLinkHtml = 'Like what you see? Visit the ' +\n",
              "            '<a target=\"_blank\" href=https://colab.research.google.com/notebooks/data_table.ipynb>data table notebook</a>'\n",
              "            + ' to learn more about interactive tables.';\n",
              "          element.innerHTML = '';\n",
              "          dataTable['output_type'] = 'display_data';\n",
              "          await google.colab.output.renderOutput(dataTable, element);\n",
              "          const docLink = document.createElement('div');\n",
              "          docLink.innerHTML = docLinkHtml;\n",
              "          element.appendChild(docLink);\n",
              "        }\n",
              "      </script>\n",
              "    </div>\n",
              "  </div>\n",
              "  "
            ]
          },
          "metadata": {},
          "execution_count": 4
        }
      ]
    },
    {
      "cell_type": "code",
      "source": [
        "mvid.head()"
      ],
      "metadata": {
        "colab": {
          "base_uri": "https://localhost:8080/",
          "height": 206
        },
        "id": "nNw8REjylezJ",
        "outputId": "25c2aff6-2d8d-4d84-c116-49ec86de7549"
      },
      "execution_count": 5,
      "outputs": [
        {
          "output_type": "execute_result",
          "data": {
            "text/plain": [
              "  <TICKER> <PER>    <DATE>  <TIME>  <CLOSE>   <VOL>\n",
              "0     MVID     D  20101001       0   194.38   19406\n",
              "1     MVID     D  20101004       0   190.00   31039\n",
              "2     MVID     D  20101005       0   187.00   17651\n",
              "3     MVID     D  20101006       0   190.04   36482\n",
              "4     MVID     D  20101007       0   199.85  204248"
            ],
            "text/html": [
              "\n",
              "  <div id=\"df-9dc6d60d-18cd-4837-aca2-f8265aaa0dca\">\n",
              "    <div class=\"colab-df-container\">\n",
              "      <div>\n",
              "<style scoped>\n",
              "    .dataframe tbody tr th:only-of-type {\n",
              "        vertical-align: middle;\n",
              "    }\n",
              "\n",
              "    .dataframe tbody tr th {\n",
              "        vertical-align: top;\n",
              "    }\n",
              "\n",
              "    .dataframe thead th {\n",
              "        text-align: right;\n",
              "    }\n",
              "</style>\n",
              "<table border=\"1\" class=\"dataframe\">\n",
              "  <thead>\n",
              "    <tr style=\"text-align: right;\">\n",
              "      <th></th>\n",
              "      <th>&lt;TICKER&gt;</th>\n",
              "      <th>&lt;PER&gt;</th>\n",
              "      <th>&lt;DATE&gt;</th>\n",
              "      <th>&lt;TIME&gt;</th>\n",
              "      <th>&lt;CLOSE&gt;</th>\n",
              "      <th>&lt;VOL&gt;</th>\n",
              "    </tr>\n",
              "  </thead>\n",
              "  <tbody>\n",
              "    <tr>\n",
              "      <th>0</th>\n",
              "      <td>MVID</td>\n",
              "      <td>D</td>\n",
              "      <td>20101001</td>\n",
              "      <td>0</td>\n",
              "      <td>194.38</td>\n",
              "      <td>19406</td>\n",
              "    </tr>\n",
              "    <tr>\n",
              "      <th>1</th>\n",
              "      <td>MVID</td>\n",
              "      <td>D</td>\n",
              "      <td>20101004</td>\n",
              "      <td>0</td>\n",
              "      <td>190.00</td>\n",
              "      <td>31039</td>\n",
              "    </tr>\n",
              "    <tr>\n",
              "      <th>2</th>\n",
              "      <td>MVID</td>\n",
              "      <td>D</td>\n",
              "      <td>20101005</td>\n",
              "      <td>0</td>\n",
              "      <td>187.00</td>\n",
              "      <td>17651</td>\n",
              "    </tr>\n",
              "    <tr>\n",
              "      <th>3</th>\n",
              "      <td>MVID</td>\n",
              "      <td>D</td>\n",
              "      <td>20101006</td>\n",
              "      <td>0</td>\n",
              "      <td>190.04</td>\n",
              "      <td>36482</td>\n",
              "    </tr>\n",
              "    <tr>\n",
              "      <th>4</th>\n",
              "      <td>MVID</td>\n",
              "      <td>D</td>\n",
              "      <td>20101007</td>\n",
              "      <td>0</td>\n",
              "      <td>199.85</td>\n",
              "      <td>204248</td>\n",
              "    </tr>\n",
              "  </tbody>\n",
              "</table>\n",
              "</div>\n",
              "      <button class=\"colab-df-convert\" onclick=\"convertToInteractive('df-9dc6d60d-18cd-4837-aca2-f8265aaa0dca')\"\n",
              "              title=\"Convert this dataframe to an interactive table.\"\n",
              "              style=\"display:none;\">\n",
              "        \n",
              "  <svg xmlns=\"http://www.w3.org/2000/svg\" height=\"24px\"viewBox=\"0 0 24 24\"\n",
              "       width=\"24px\">\n",
              "    <path d=\"M0 0h24v24H0V0z\" fill=\"none\"/>\n",
              "    <path d=\"M18.56 5.44l.94 2.06.94-2.06 2.06-.94-2.06-.94-.94-2.06-.94 2.06-2.06.94zm-11 1L8.5 8.5l.94-2.06 2.06-.94-2.06-.94L8.5 2.5l-.94 2.06-2.06.94zm10 10l.94 2.06.94-2.06 2.06-.94-2.06-.94-.94-2.06-.94 2.06-2.06.94z\"/><path d=\"M17.41 7.96l-1.37-1.37c-.4-.4-.92-.59-1.43-.59-.52 0-1.04.2-1.43.59L10.3 9.45l-7.72 7.72c-.78.78-.78 2.05 0 2.83L4 21.41c.39.39.9.59 1.41.59.51 0 1.02-.2 1.41-.59l7.78-7.78 2.81-2.81c.8-.78.8-2.07 0-2.86zM5.41 20L4 18.59l7.72-7.72 1.47 1.35L5.41 20z\"/>\n",
              "  </svg>\n",
              "      </button>\n",
              "      \n",
              "  <style>\n",
              "    .colab-df-container {\n",
              "      display:flex;\n",
              "      flex-wrap:wrap;\n",
              "      gap: 12px;\n",
              "    }\n",
              "\n",
              "    .colab-df-convert {\n",
              "      background-color: #E8F0FE;\n",
              "      border: none;\n",
              "      border-radius: 50%;\n",
              "      cursor: pointer;\n",
              "      display: none;\n",
              "      fill: #1967D2;\n",
              "      height: 32px;\n",
              "      padding: 0 0 0 0;\n",
              "      width: 32px;\n",
              "    }\n",
              "\n",
              "    .colab-df-convert:hover {\n",
              "      background-color: #E2EBFA;\n",
              "      box-shadow: 0px 1px 2px rgba(60, 64, 67, 0.3), 0px 1px 3px 1px rgba(60, 64, 67, 0.15);\n",
              "      fill: #174EA6;\n",
              "    }\n",
              "\n",
              "    [theme=dark] .colab-df-convert {\n",
              "      background-color: #3B4455;\n",
              "      fill: #D2E3FC;\n",
              "    }\n",
              "\n",
              "    [theme=dark] .colab-df-convert:hover {\n",
              "      background-color: #434B5C;\n",
              "      box-shadow: 0px 1px 3px 1px rgba(0, 0, 0, 0.15);\n",
              "      filter: drop-shadow(0px 1px 2px rgba(0, 0, 0, 0.3));\n",
              "      fill: #FFFFFF;\n",
              "    }\n",
              "  </style>\n",
              "\n",
              "      <script>\n",
              "        const buttonEl =\n",
              "          document.querySelector('#df-9dc6d60d-18cd-4837-aca2-f8265aaa0dca button.colab-df-convert');\n",
              "        buttonEl.style.display =\n",
              "          google.colab.kernel.accessAllowed ? 'block' : 'none';\n",
              "\n",
              "        async function convertToInteractive(key) {\n",
              "          const element = document.querySelector('#df-9dc6d60d-18cd-4837-aca2-f8265aaa0dca');\n",
              "          const dataTable =\n",
              "            await google.colab.kernel.invokeFunction('convertToInteractive',\n",
              "                                                     [key], {});\n",
              "          if (!dataTable) return;\n",
              "\n",
              "          const docLinkHtml = 'Like what you see? Visit the ' +\n",
              "            '<a target=\"_blank\" href=https://colab.research.google.com/notebooks/data_table.ipynb>data table notebook</a>'\n",
              "            + ' to learn more about interactive tables.';\n",
              "          element.innerHTML = '';\n",
              "          dataTable['output_type'] = 'display_data';\n",
              "          await google.colab.output.renderOutput(dataTable, element);\n",
              "          const docLink = document.createElement('div');\n",
              "          docLink.innerHTML = docLinkHtml;\n",
              "          element.appendChild(docLink);\n",
              "        }\n",
              "      </script>\n",
              "    </div>\n",
              "  </div>\n",
              "  "
            ]
          },
          "metadata": {},
          "execution_count": 5
        }
      ]
    },
    {
      "cell_type": "code",
      "source": [
        "rez = mvid.merge(sber, on=\"<DATE>\")\n",
        "rez.shape"
      ],
      "metadata": {
        "colab": {
          "base_uri": "https://localhost:8080/"
        },
        "id": "VDYhIxZHlh-R",
        "outputId": "1899e67e-e7c4-4e24-9062-d82d83d058f9"
      },
      "execution_count": 7,
      "outputs": [
        {
          "output_type": "execute_result",
          "data": {
            "text/plain": [
              "(1758, 11)"
            ]
          },
          "metadata": {},
          "execution_count": 7
        }
      ]
    },
    {
      "cell_type": "code",
      "source": [
        "rez.head()"
      ],
      "metadata": {
        "colab": {
          "base_uri": "https://localhost:8080/",
          "height": 206
        },
        "id": "avsG17fclpL-",
        "outputId": "b293d3a3-217e-4ce5-9e1a-f78781674910"
      },
      "execution_count": 9,
      "outputs": [
        {
          "output_type": "execute_result",
          "data": {
            "text/plain": [
              "  <TICKER>_x <PER>_x    <DATE>  <TIME>_x  <CLOSE>_x  <VOL>_x <TICKER>_y  \\\n",
              "0       MVID       D  20101001         0     194.38    19406       SBER   \n",
              "1       MVID       D  20101004         0     190.00    31039       SBER   \n",
              "2       MVID       D  20101005         0     187.00    17651       SBER   \n",
              "3       MVID       D  20101006         0     190.04    36482       SBER   \n",
              "4       MVID       D  20101007         0     199.85   204248       SBER   \n",
              "\n",
              "  <PER>_y  <TIME>_y  <CLOSE>_y    <VOL>_y  \n",
              "0       D         0      89.09  332429890  \n",
              "1       D         0      89.88  194032721  \n",
              "2       D         0      91.97  198775753  \n",
              "3       D         0      91.20  210406027  \n",
              "4       D         0      90.40  145137617  "
            ],
            "text/html": [
              "\n",
              "  <div id=\"df-d1ce99ce-c3b1-402b-bcf2-2873c41df2d2\">\n",
              "    <div class=\"colab-df-container\">\n",
              "      <div>\n",
              "<style scoped>\n",
              "    .dataframe tbody tr th:only-of-type {\n",
              "        vertical-align: middle;\n",
              "    }\n",
              "\n",
              "    .dataframe tbody tr th {\n",
              "        vertical-align: top;\n",
              "    }\n",
              "\n",
              "    .dataframe thead th {\n",
              "        text-align: right;\n",
              "    }\n",
              "</style>\n",
              "<table border=\"1\" class=\"dataframe\">\n",
              "  <thead>\n",
              "    <tr style=\"text-align: right;\">\n",
              "      <th></th>\n",
              "      <th>&lt;TICKER&gt;_x</th>\n",
              "      <th>&lt;PER&gt;_x</th>\n",
              "      <th>&lt;DATE&gt;</th>\n",
              "      <th>&lt;TIME&gt;_x</th>\n",
              "      <th>&lt;CLOSE&gt;_x</th>\n",
              "      <th>&lt;VOL&gt;_x</th>\n",
              "      <th>&lt;TICKER&gt;_y</th>\n",
              "      <th>&lt;PER&gt;_y</th>\n",
              "      <th>&lt;TIME&gt;_y</th>\n",
              "      <th>&lt;CLOSE&gt;_y</th>\n",
              "      <th>&lt;VOL&gt;_y</th>\n",
              "    </tr>\n",
              "  </thead>\n",
              "  <tbody>\n",
              "    <tr>\n",
              "      <th>0</th>\n",
              "      <td>MVID</td>\n",
              "      <td>D</td>\n",
              "      <td>20101001</td>\n",
              "      <td>0</td>\n",
              "      <td>194.38</td>\n",
              "      <td>19406</td>\n",
              "      <td>SBER</td>\n",
              "      <td>D</td>\n",
              "      <td>0</td>\n",
              "      <td>89.09</td>\n",
              "      <td>332429890</td>\n",
              "    </tr>\n",
              "    <tr>\n",
              "      <th>1</th>\n",
              "      <td>MVID</td>\n",
              "      <td>D</td>\n",
              "      <td>20101004</td>\n",
              "      <td>0</td>\n",
              "      <td>190.00</td>\n",
              "      <td>31039</td>\n",
              "      <td>SBER</td>\n",
              "      <td>D</td>\n",
              "      <td>0</td>\n",
              "      <td>89.88</td>\n",
              "      <td>194032721</td>\n",
              "    </tr>\n",
              "    <tr>\n",
              "      <th>2</th>\n",
              "      <td>MVID</td>\n",
              "      <td>D</td>\n",
              "      <td>20101005</td>\n",
              "      <td>0</td>\n",
              "      <td>187.00</td>\n",
              "      <td>17651</td>\n",
              "      <td>SBER</td>\n",
              "      <td>D</td>\n",
              "      <td>0</td>\n",
              "      <td>91.97</td>\n",
              "      <td>198775753</td>\n",
              "    </tr>\n",
              "    <tr>\n",
              "      <th>3</th>\n",
              "      <td>MVID</td>\n",
              "      <td>D</td>\n",
              "      <td>20101006</td>\n",
              "      <td>0</td>\n",
              "      <td>190.04</td>\n",
              "      <td>36482</td>\n",
              "      <td>SBER</td>\n",
              "      <td>D</td>\n",
              "      <td>0</td>\n",
              "      <td>91.20</td>\n",
              "      <td>210406027</td>\n",
              "    </tr>\n",
              "    <tr>\n",
              "      <th>4</th>\n",
              "      <td>MVID</td>\n",
              "      <td>D</td>\n",
              "      <td>20101007</td>\n",
              "      <td>0</td>\n",
              "      <td>199.85</td>\n",
              "      <td>204248</td>\n",
              "      <td>SBER</td>\n",
              "      <td>D</td>\n",
              "      <td>0</td>\n",
              "      <td>90.40</td>\n",
              "      <td>145137617</td>\n",
              "    </tr>\n",
              "  </tbody>\n",
              "</table>\n",
              "</div>\n",
              "      <button class=\"colab-df-convert\" onclick=\"convertToInteractive('df-d1ce99ce-c3b1-402b-bcf2-2873c41df2d2')\"\n",
              "              title=\"Convert this dataframe to an interactive table.\"\n",
              "              style=\"display:none;\">\n",
              "        \n",
              "  <svg xmlns=\"http://www.w3.org/2000/svg\" height=\"24px\"viewBox=\"0 0 24 24\"\n",
              "       width=\"24px\">\n",
              "    <path d=\"M0 0h24v24H0V0z\" fill=\"none\"/>\n",
              "    <path d=\"M18.56 5.44l.94 2.06.94-2.06 2.06-.94-2.06-.94-.94-2.06-.94 2.06-2.06.94zm-11 1L8.5 8.5l.94-2.06 2.06-.94-2.06-.94L8.5 2.5l-.94 2.06-2.06.94zm10 10l.94 2.06.94-2.06 2.06-.94-2.06-.94-.94-2.06-.94 2.06-2.06.94z\"/><path d=\"M17.41 7.96l-1.37-1.37c-.4-.4-.92-.59-1.43-.59-.52 0-1.04.2-1.43.59L10.3 9.45l-7.72 7.72c-.78.78-.78 2.05 0 2.83L4 21.41c.39.39.9.59 1.41.59.51 0 1.02-.2 1.41-.59l7.78-7.78 2.81-2.81c.8-.78.8-2.07 0-2.86zM5.41 20L4 18.59l7.72-7.72 1.47 1.35L5.41 20z\"/>\n",
              "  </svg>\n",
              "      </button>\n",
              "      \n",
              "  <style>\n",
              "    .colab-df-container {\n",
              "      display:flex;\n",
              "      flex-wrap:wrap;\n",
              "      gap: 12px;\n",
              "    }\n",
              "\n",
              "    .colab-df-convert {\n",
              "      background-color: #E8F0FE;\n",
              "      border: none;\n",
              "      border-radius: 50%;\n",
              "      cursor: pointer;\n",
              "      display: none;\n",
              "      fill: #1967D2;\n",
              "      height: 32px;\n",
              "      padding: 0 0 0 0;\n",
              "      width: 32px;\n",
              "    }\n",
              "\n",
              "    .colab-df-convert:hover {\n",
              "      background-color: #E2EBFA;\n",
              "      box-shadow: 0px 1px 2px rgba(60, 64, 67, 0.3), 0px 1px 3px 1px rgba(60, 64, 67, 0.15);\n",
              "      fill: #174EA6;\n",
              "    }\n",
              "\n",
              "    [theme=dark] .colab-df-convert {\n",
              "      background-color: #3B4455;\n",
              "      fill: #D2E3FC;\n",
              "    }\n",
              "\n",
              "    [theme=dark] .colab-df-convert:hover {\n",
              "      background-color: #434B5C;\n",
              "      box-shadow: 0px 1px 3px 1px rgba(0, 0, 0, 0.15);\n",
              "      filter: drop-shadow(0px 1px 2px rgba(0, 0, 0, 0.3));\n",
              "      fill: #FFFFFF;\n",
              "    }\n",
              "  </style>\n",
              "\n",
              "      <script>\n",
              "        const buttonEl =\n",
              "          document.querySelector('#df-d1ce99ce-c3b1-402b-bcf2-2873c41df2d2 button.colab-df-convert');\n",
              "        buttonEl.style.display =\n",
              "          google.colab.kernel.accessAllowed ? 'block' : 'none';\n",
              "\n",
              "        async function convertToInteractive(key) {\n",
              "          const element = document.querySelector('#df-d1ce99ce-c3b1-402b-bcf2-2873c41df2d2');\n",
              "          const dataTable =\n",
              "            await google.colab.kernel.invokeFunction('convertToInteractive',\n",
              "                                                     [key], {});\n",
              "          if (!dataTable) return;\n",
              "\n",
              "          const docLinkHtml = 'Like what you see? Visit the ' +\n",
              "            '<a target=\"_blank\" href=https://colab.research.google.com/notebooks/data_table.ipynb>data table notebook</a>'\n",
              "            + ' to learn more about interactive tables.';\n",
              "          element.innerHTML = '';\n",
              "          dataTable['output_type'] = 'display_data';\n",
              "          await google.colab.output.renderOutput(dataTable, element);\n",
              "          const docLink = document.createElement('div');\n",
              "          docLink.innerHTML = docLinkHtml;\n",
              "          element.appendChild(docLink);\n",
              "        }\n",
              "      </script>\n",
              "    </div>\n",
              "  </div>\n",
              "  "
            ]
          },
          "metadata": {},
          "execution_count": 9
        }
      ]
    },
    {
      "cell_type": "code",
      "source": [
        "x = data[\"<CLOSE>_x\"]\n",
        "y = data[\"<CLOSE>_y\"]"
      ],
      "metadata": {
        "id": "odnTOsNClvw0"
      },
      "execution_count": 11,
      "outputs": []
    },
    {
      "cell_type": "code",
      "source": [
        "plt.figure()\n",
        "plt.scatter(x, y)\n",
        "plt.show()"
      ],
      "metadata": {
        "colab": {
          "base_uri": "https://localhost:8080/",
          "height": 268
        },
        "id": "S7soVhgBl3fM",
        "outputId": "a5aec7a7-8f15-4fea-98a6-8ec7f2364305"
      },
      "execution_count": 12,
      "outputs": [
        {
          "output_type": "display_data",
          "data": {
            "text/plain": [
              "<Figure size 432x288 with 1 Axes>"
            ],
            "image/png": "[encoded data removed]"
          },
          "metadata": {
            "needs_background": "light"
          }
        }
      ]
    },
    {
      "cell_type": "code",
      "source": [
        "class hypothesis:\n",
        "    \n",
        "    \"\"\"Модель парной линейной регрессии\"\"\"\n",
        "    def __init__(self):\n",
        "        self.b0 = 0\n",
        "        self.b1 = 0\n",
        "        \n",
        "    def BGD_new(self, X, Y, alpha=0.000005, accuracy=0.01, max_steps = 5000):\n",
        "        \"\"\"Метод градиентного спуска\"\"\"\n",
        "        steps, errors = [], []\n",
        "        dJ = 1\n",
        "        step = 0\n",
        "        old= self.error(X, Y)\n",
        "        new = self.error(X, Y) - 1\n",
        "        \n",
        "        \n",
        "        while dJ > accuracy and (step < max_steps):\n",
        "            \n",
        "            dJ0 = sum(self.predict(X)-Y) / len(X)\n",
        "            dJ1 = sum((self.predict(X) - Y) * X) / len(X)\n",
        "            \n",
        "            self.b0 -= alpha * dJ0\n",
        "            self.b1 -= alpha * dJ1\n",
        "             \n",
        "            old = new\n",
        "            new = self.error(X, Y)\n",
        "            \n",
        "            dJ = abs(old - new)\n",
        "            \n",
        "            step += 1\n",
        "            steps.append(step)\n",
        "            errors.append(new)\n",
        "            \n",
        "        return steps, errors\n",
        "        \n",
        "    def predict(self, x):\n",
        "        \"\"\"Метод для предсказания результата по фактору\"\"\"\n",
        "        return self.b0 + self.b1 * x\n",
        "\n",
        "    def error(self, X, Y):  \n",
        "        \"\"\"Функция ошибки\"\"\"\n",
        "        return sum((self.predict(X) - Y)**2) / (2 * len(X)) \n",
        "        \n",
        "    "
      ],
      "metadata": {
        "id": "085sX3qfmFbd"
      },
      "execution_count": 14,
      "outputs": []
    },
    {
      "cell_type": "code",
      "source": [
        "model = hypothesis()\n",
        "steps, errors = model.BGD_new(x, y)\n",
        "model.predict(x)"
      ],
      "metadata": {
        "colab": {
          "base_uri": "https://localhost:8080/"
        },
        "id": "gsTb_m9emKIE",
        "outputId": "a284b870-0a4b-4a89-bca2-a27f7342d8d6"
      },
      "execution_count": 16,
      "outputs": [
        {
          "output_type": "execute_result",
          "data": {
            "text/plain": [
              "0        77.150310\n",
              "1        75.411898\n",
              "2        74.221206\n",
              "3        75.427774\n",
              "4        79.321339\n",
              "           ...    \n",
              "1753    168.682826\n",
              "1754    168.325618\n",
              "1755    167.928720\n",
              "1756    165.150437\n",
              "1757    167.690582\n",
              "Name: <CLOSE>_x, Length: 1758, dtype: float64"
            ]
          },
          "metadata": {},
          "execution_count": 16
        }
      ]
    },
    {
      "cell_type": "markdown",
      "source": [
        "3. Оценить на графике качество построенной модели."
      ],
      "metadata": {
        "id": "B4nPMtVMn1GA"
      }
    },
    {
      "cell_type": "code",
      "source": [
        "X0 = np.linspace(50, 200, 100)\n",
        "Y0 = model.predict(X0)\n",
        "\n",
        "plt.figure()\n",
        "plt.scatter(x, y)\n",
        "plt.plot(X0, Y0, \"r\")\n",
        "plt.show()"
      ],
      "metadata": {
        "colab": {
          "base_uri": "https://localhost:8080/",
          "height": 267
        },
        "id": "gdCXwmrtn0AA",
        "outputId": "161ebc44-19cf-4ce8-8375-9b6341a1dd03"
      },
      "execution_count": 17,
      "outputs": [
        {
          "output_type": "display_data",
          "data": {
            "text/plain": [
              "<Figure size 432x288 with 1 Axes>"
            ],
            "image/png": "[encoded data removed]"
          },
          "metadata": {
            "needs_background": "light"
          }
        }
      ]
    },
    {
      "cell_type": "code",
      "source": [
        "print(f\"{model.error(x, y)}\")"
      ],
      "metadata": {
        "colab": {
          "base_uri": "https://localhost:8080/"
        },
        "id": "NtFZFBs7oEaR",
        "outputId": "dda445ee-84e7-4fdb-b398-a496b2b46bc2"
      },
      "execution_count": 19,
      "outputs": [
        {
          "output_type": "stream",
          "name": "stdout",
          "text": [
            "47.53642287489196\n"
          ]
        }
      ]
    },
    {
      "cell_type": "markdown",
      "source": [
        "4. Построить кривые обучения."
      ],
      "metadata": {
        "id": "Ec6jiuuqoKgM"
      }
    },
    {
      "cell_type": "code",
      "source": [
        "plt.figure()\n",
        "plt.plot(steps, errors, \"r\")\n",
        "plt.show()"
      ],
      "metadata": {
        "colab": {
          "base_uri": "https://localhost:8080/",
          "height": 265
        },
        "id": "QDmiF172oLB5",
        "outputId": "126e98e3-52cb-480c-895c-620ca788fae7"
      },
      "execution_count": 20,
      "outputs": [
        {
          "output_type": "display_data",
          "data": {
            "text/plain": [
              "<Figure size 432x288 with 1 Axes>"
            ],
            "image/png": "[encoded data removed]"
          },
          "metadata": {
            "needs_background": "light"
          }
        }
      ]
    }
  ]
}