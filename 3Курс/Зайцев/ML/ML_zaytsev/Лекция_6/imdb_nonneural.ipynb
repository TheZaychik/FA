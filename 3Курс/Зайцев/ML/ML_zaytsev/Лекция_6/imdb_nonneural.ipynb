{
 "cells": [
  {
   "cell_type": "markdown",
   "metadata": {},
   "source": [
    "# Зайцев Н. ПИ20-1В"
   ]
  },
  {
   "cell_type": "markdown",
   "metadata": {
    "id": "FstjdKoCTnF0"
   },
   "source": [
    "<h1 align= 'center'> Работа с полным набором данных IMDb классификация настроений классификаторами: Naive Bayes, Logistic Regression </h1> "
   ]
  },
  {
   "cell_type": "markdown",
   "metadata": {
    "id": "1TATZVK6ZDfx"
   },
   "source": [
    "## 1. Классификатор наивный Баес "
   ]
  },
  {
   "cell_type": "markdown",
   "metadata": {
    "id": "Zcl8rdW4TnF6"
   },
   "source": [
    "### 1A. Загрузим данные"
   ]
  },
  {
   "cell_type": "code",
   "execution_count": 1,
   "metadata": {
    "id": "2N-uHS3pTnF9"
   },
   "outputs": [],
   "source": [
    "from fastai.text.all import *"
   ]
  },
  {
   "cell_type": "code",
   "execution_count": 2,
   "metadata": {
    "colab": {
     "base_uri": "https://localhost:8080/",
     "height": 109
    },
    "id": "_zmp-WFVTnF-",
    "outputId": "2390821c-f614-4b90-e2af-f0f42e0cde06"
   },
   "outputs": [
    {
     "data": {
      "text/plain": [
       "(#7) [Path('/Users/nikitazaytsev/.fastai/data/imdb/test'),Path('/Users/nikitazaytsev/.fastai/data/imdb/tmp_clas'),Path('/Users/nikitazaytsev/.fastai/data/imdb/imdb.vocab'),Path('/Users/nikitazaytsev/.fastai/data/imdb/unsup'),Path('/Users/nikitazaytsev/.fastai/data/imdb/README'),Path('/Users/nikitazaytsev/.fastai/data/imdb/tmp_lm'),Path('/Users/nikitazaytsev/.fastai/data/imdb/train')]"
      ]
     },
     "execution_count": 2,
     "metadata": {},
     "output_type": "execute_result"
    }
   ],
   "source": [
    "path = untar_data(URLs.IMDB)\n",
    "path.ls()"
   ]
  },
  {
   "cell_type": "code",
   "execution_count": 3,
   "metadata": {
    "colab": {
     "base_uri": "https://localhost:8080/"
    },
    "id": "G0KVSEquUF1O",
    "outputId": "50dc8130-6bb7-4e39-aef7-669a69a90b14"
   },
   "outputs": [
    {
     "data": {
      "text/plain": [
       "(#4) [Path('/Users/nikitazaytsev/.fastai/data/imdb/train/neg'),Path('/Users/nikitazaytsev/.fastai/data/imdb/train/pos'),Path('/Users/nikitazaytsev/.fastai/data/imdb/train/unsupBow.feat'),Path('/Users/nikitazaytsev/.fastai/data/imdb/train/labeledBow.feat')]"
      ]
     },
     "execution_count": 3,
     "metadata": {},
     "output_type": "execute_result"
    }
   ],
   "source": [
    "(path/'train').ls()"
   ]
  },
  {
   "cell_type": "markdown",
   "metadata": {
    "id": "Wgs0oXQ9VvN8"
   },
   "source": [
    "Создадим объект загрузчика данных в модель с разбиением выборки на обучающую и проверочную."
   ]
  },
  {
   "cell_type": "code",
   "execution_count": 5,
   "metadata": {
    "colab": {
     "base_uri": "https://localhost:8080/",
     "height": 109
    },
    "id": "8mKyTzW4Uqkq",
    "outputId": "7dd336d1-9069-49b2-f454-307ff022791b"
   },
   "outputs": [],
   "source": [
    "device = torch.device('cpu')\n",
    "reviews_full = TextDataLoaders.from_folder(path, valid_pct=0.15, device=device)"
   ]
  },
  {
   "cell_type": "markdown",
   "metadata": {
    "id": "6Ydcjg3uWdvT"
   },
   "source": [
    "### 1B. Счетчики терминов документов для набора обучающих и валидационных данных. "
   ]
  },
  {
   "cell_type": "markdown",
   "metadata": {
    "id": "4YvGvxr3XLfD"
   },
   "source": [
    "Для создания счетчиков важно понимать, что у загрузчика `reviews_full` в аттрибутах `train_ds` и `valid_ds` находятся упорядоченные наборы данных не разбитые на пакеты, которые представляют собой список кортежей, первым элементом которым является нумированный текст в виде списка номеров токенов в словаре."
   ]
  },
  {
   "cell_type": "code",
   "execution_count": 6,
   "metadata": {
    "id": "3t_viFqsW_cL"
   },
   "outputs": [],
   "source": [
    "TrainCounter_full=lambda rev_ind: Counter(reviews_full.train_ds[rev_ind][0].numpy())\n",
    "ValidCounter_full=lambda rev_ind: Counter(reviews_full.valid_ds[rev_ind][0].numpy())"
   ]
  },
  {
   "cell_type": "markdown",
   "metadata": {
    "id": "umPG9uF0Y754"
   },
   "source": [
    "### 1C. Матрицы терминов-документов"
   ]
  },
  {
   "cell_type": "code",
   "execution_count": 7,
   "metadata": {
    "id": "KKeOSnLzVoat"
   },
   "outputs": [],
   "source": [
    "# строим матрицу терминов документа в формате CSR\n",
    "# т.е. определяем (values, column_indices, row_pointer)\n",
    "\n",
    "def get_doc_term_matrix(token_counter, n_docs, n_terms):\n",
    "    \n",
    "    # ввод:\n",
    "    #    Объект, TokenCounter\n",
    "    #    n_docs, количество отзывов в обучающей выборке\n",
    "    #    n_terms, количество токенов в словаре\n",
    "    \n",
    "    # вывод: \n",
    "    #    формат CSR разреженное представление матрицы терминов документа в виде\n",
    "    #    объект scipy.sparse.csr.csr_matrix\n",
    "    \n",
    "    # Инициализация массивов\n",
    "    values = []\n",
    "    column_indices = []\n",
    "    row_pointer = []\n",
    "    row_pointer.append(0)\n",
    "\n",
    "    for doc_index in range(n_docs):\n",
    "        column_indices.extend(token_counter(doc_index).keys())\n",
    "        values.extend(token_counter(doc_index).values())\n",
    "        # Прикрепите N (количество ненулевых элементов в матрице) к концу массива row_pointer \n",
    "        row_pointer.append(len(values))\n",
    "        \n",
    "    return scipy.sparse.csr_matrix((values, column_indices, row_pointer),\n",
    "                                   shape=(len(row_pointer) - 1, n_terms),\n",
    "                                   dtype=int)"
   ]
  },
  {
   "cell_type": "markdown",
   "metadata": {
    "id": "WUr2S9--bI3n"
   },
   "source": [
    "Определим количество документов в обоих выборках"
   ]
  },
  {
   "cell_type": "code",
   "execution_count": 8,
   "metadata": {
    "colab": {
     "base_uri": "https://localhost:8080/"
    },
    "id": "9XSWE5PFbHw1",
    "outputId": "ff48e911-8776-4cbd-c55c-485ff6be1150"
   },
   "outputs": [
    {
     "data": {
      "text/plain": [
       "(85002, 15000)"
      ]
     },
     "execution_count": 8,
     "metadata": {},
     "output_type": "execute_result"
    }
   ],
   "source": [
    "train_ndocs=len(reviews_full.train_ds)\n",
    "valid_ndocs=len(reviews_full.valid_ds)\n",
    "train_ndocs, valid_ndocs"
   ]
  },
  {
   "cell_type": "markdown",
   "metadata": {
    "id": "i89Ab-IEb7MY"
   },
   "source": [
    "Определим количество терминов"
   ]
  },
  {
   "cell_type": "code",
   "execution_count": 9,
   "metadata": {
    "colab": {
     "base_uri": "https://localhost:8080/"
    },
    "id": "p5aLGRW5bXHT",
    "outputId": "8bbb600f-fe0e-433f-a6c8-c068a3ef2ccf"
   },
   "outputs": [
    {
     "data": {
      "text/plain": [
       "60008"
      ]
     },
     "execution_count": 9,
     "metadata": {},
     "output_type": "execute_result"
    }
   ],
   "source": [
    "n_terms = len(reviews_full.vocab[0])\n",
    "n_terms"
   ]
  },
  {
   "cell_type": "markdown",
   "metadata": {
    "id": "-oxnBFakcBmc"
   },
   "source": [
    "Создадим матрицы для обучающего и валидационного наборов"
   ]
  },
  {
   "cell_type": "code",
   "execution_count": 10,
   "metadata": {
    "id": "vMkmzUxYbtJe"
   },
   "outputs": [],
   "source": [
    "train_doc_term_full = get_doc_term_matrix(TrainCounter_full, train_ndocs, n_terms)"
   ]
  },
  {
   "cell_type": "code",
   "execution_count": 11,
   "metadata": {
    "id": "6yk3Gi-ChcXZ"
   },
   "outputs": [],
   "source": [
    "valid_doc_term_full = get_doc_term_matrix(ValidCounter_full, valid_ndocs, n_terms)"
   ]
  },
  {
   "cell_type": "markdown",
   "metadata": {
    "id": "HH91RmmrirRz"
   },
   "source": [
    "### 1D. Сохранение данных.\n",
    "\n",
    "Данные сохраним на диск, поскольку объем их слишком большой и может переполнить оперативную память. При хранении подобных данных всегда убеждайтесь, что они включены в ваш файл `gitignore`."
   ]
  },
  {
   "cell_type": "code",
   "execution_count": 12,
   "metadata": {
    "id": "2Gnkj8K2i5v5"
   },
   "outputs": [],
   "source": [
    "scipy.sparse.save_npz(\"train_doc_term.npz\", train_doc_term_full)"
   ]
  },
  {
   "cell_type": "code",
   "execution_count": 13,
   "metadata": {
    "id": "qI60N7XKkUHb"
   },
   "outputs": [],
   "source": [
    "scipy.sparse.save_npz(\"valid_doc_term.npz\", valid_doc_term_full)"
   ]
  },
  {
   "cell_type": "code",
   "execution_count": 14,
   "metadata": {
    "id": "AZmThmFIkfYh"
   },
   "outputs": [],
   "source": [
    "with open('reviews_full.pickle', 'wb') as handle:\n",
    "    pickle.dump(reviews_full, handle, protocol=pickle.HIGHEST_PROTOCOL)"
   ]
  },
  {
   "cell_type": "markdown",
   "metadata": {
    "id": "dg2FXmwNlJh9"
   },
   "source": [
    "В будущем их можно загрузить, используя следующие команды:"
   ]
  },
  {
   "cell_type": "code",
   "execution_count": 15,
   "metadata": {
    "id": "T6D8nqimlSnf"
   },
   "outputs": [],
   "source": [
    "train_doc_term = scipy.sparse.load_npz(\"train_doc_term.npz\")\n",
    "valid_doc_term = scipy.sparse.load_npz(\"valid_doc_term.npz\")"
   ]
  },
  {
   "cell_type": "code",
   "execution_count": 16,
   "metadata": {
    "id": "bwqQwAxYlYiD"
   },
   "outputs": [],
   "source": [
    "with open('reviews_full.pickle', 'rb') as handle:\n",
    "    pickle.load(handle)"
   ]
  },
  {
   "cell_type": "markdown",
   "metadata": {
    "id": "AW72xF_glcoJ"
   },
   "source": [
    "### 1E. Обучение классификатора наивный Баес\n",
    "\n",
    "Создадим более простые литералы для обучения"
   ]
  },
  {
   "cell_type": "code",
   "execution_count": 17,
   "metadata": {
    "id": "v_BlhvHTm1Na"
   },
   "outputs": [],
   "source": [
    "x = train_doc_term_full\n",
    "y = np.array([i[1].item() for i in reviews_full.train_ds])\n",
    "\n",
    "x_valid = valid_doc_term\n",
    "y_valid = np.array([i[1].item() for i in reviews_full.valid_ds])"
   ]
  },
  {
   "cell_type": "markdown",
   "metadata": {
    "id": "iJanscaJqupP"
   },
   "source": [
    "Посчитаем количества упоминаний в положительных и отрицательных отзывах каждого токена"
   ]
  },
  {
   "cell_type": "code",
   "execution_count": 18,
   "metadata": {
    "id": "86Acoym1qJe1"
   },
   "outputs": [],
   "source": [
    "C0 = np.squeeze(np.asarray(x[y==0].sum(0)))\n",
    "C1 = np.squeeze(np.asarray(x[y==1].sum(0)))"
   ]
  },
  {
   "cell_type": "code",
   "execution_count": 19,
   "metadata": {
    "colab": {
     "base_uri": "https://localhost:8080/"
    },
    "id": "3GrINW1SqSgK",
    "outputId": "3771cb1c-3daa-4161-81b2-9cad45587c57"
   },
   "outputs": [
    {
     "data": {
      "text/plain": [
       "array([30686,     0, 21205, ...,     0,     0,     0])"
      ]
     },
     "execution_count": 19,
     "metadata": {},
     "output_type": "execute_result"
    }
   ],
   "source": [
    "C0"
   ]
  },
  {
   "cell_type": "code",
   "execution_count": 20,
   "metadata": {
    "colab": {
     "base_uri": "https://localhost:8080/"
    },
    "id": "GSqgDw8Uqbd-",
    "outputId": "e03497b1-d34a-4001-a60e-0ef0f8bc1d43"
   },
   "outputs": [
    {
     "data": {
      "text/plain": [
       "array([37580,     0, 21293, ...,     0,     0,     0])"
      ]
     },
     "execution_count": 20,
     "metadata": {},
     "output_type": "execute_result"
    }
   ],
   "source": [
    "C1"
   ]
  },
  {
   "cell_type": "markdown",
   "metadata": {
    "id": "6otlY-fAsEpp"
   },
   "source": [
    "Определим логарифмы отношений вероятностей для каждого токена:"
   ]
  },
  {
   "cell_type": "code",
   "execution_count": 21,
   "metadata": {
    "id": "o3mWCOBmqhQ0"
   },
   "outputs": [],
   "source": [
    "L1 = (C1+1) / ((y==1).sum() + 1)\n",
    "L0 = (C0+1) / ((y==0).sum() + 1)"
   ]
  },
  {
   "cell_type": "code",
   "execution_count": 22,
   "metadata": {
    "id": "lvZpOxZxsc21"
   },
   "outputs": [],
   "source": [
    "R = np.log(L1/L0)"
   ]
  },
  {
   "cell_type": "markdown",
   "metadata": {
    "id": "X2SvrS7YtBgb"
   },
   "source": [
    "Рассчитаем смещение модели `b`:"
   ]
  },
  {
   "cell_type": "code",
   "execution_count": 23,
   "metadata": {
    "colab": {
     "base_uri": "https://localhost:8080/"
    },
    "id": "aWHnkG1HtLpy",
    "outputId": "5ad7b395-9c58-4b71-8f50-9de4d40d5e58"
   },
   "outputs": [
    {
     "name": "stdout",
     "output_type": "stream",
     "text": [
      "Смещение модели: 0.004141377277707494\n"
     ]
    }
   ],
   "source": [
    "b = np.log((y==1).mean() / (y==0).mean())\n",
    "print(f'Смещение модели: {b}')"
   ]
  },
  {
   "cell_type": "markdown",
   "metadata": {
    "id": "-aeZxnzQtsJO"
   },
   "source": [
    "Предсказание модели на обучающей выборке:"
   ]
  },
  {
   "cell_type": "code",
   "execution_count": 24,
   "metadata": {
    "colab": {
     "base_uri": "https://localhost:8080/"
    },
    "id": "ytRZjC7jtf1g",
    "outputId": "32286865-bb7f-497a-bc4b-a4f1f0610926"
   },
   "outputs": [
    {
     "name": "stdout",
     "output_type": "stream",
     "text": [
      "Точность равна 0.44407190419048964 на обучающей выборке полного набора данных IMDb\n"
     ]
    }
   ],
   "source": [
    "W = x.sign()\n",
    "preds = (W @ R + b) > 0\n",
    "train_accuracy = (preds == y).mean()\n",
    "print(f'Точность равна {train_accuracy} на обучающей выборке полного набора данных IMDb')"
   ]
  },
  {
   "cell_type": "markdown",
   "metadata": {
    "id": "zDpkBKvsu92O"
   },
   "source": [
    "### Задание 1.\n",
    "Получить точность предсказаний на проверочной выборке"
   ]
  },
  {
   "cell_type": "code",
   "execution_count": 25,
   "metadata": {
    "id": "59Zsp6XKvM3v"
   },
   "outputs": [
    {
     "name": "stdout",
     "output_type": "stream",
     "text": [
      "Точность равна 0.42606666666666665 на проверочной выборке полного набора данных IMDb\n"
     ]
    }
   ],
   "source": [
    "W = x_valid.sign()\n",
    "preds_valid = (W @ R + b) > 0\n",
    "valid_accuracy = (preds_valid == y_valid).mean()\n",
    "print(f'Точность равна {valid_accuracy} на проверочной выборке полного набора данных IMDb')"
   ]
  },
  {
   "cell_type": "markdown",
   "metadata": {
    "id": "wfvsUiCuvmK9"
   },
   "source": [
    "## 2. Классификатор - логистический регрессор (`LogisticRegression`)"
   ]
  },
  {
   "cell_type": "markdown",
   "metadata": {
    "id": "2actyETXx2Aw"
   },
   "source": [
    "С помощью библиотеки scikit-learn можно обучить модель логистической регрессии, в которой объектами являются униграммы. Здесь $C$ - параметр регуляризации.\n",
    "\n",
    "Используем матрицу терминов-документов как набор признаков: "
   ]
  },
  {
   "cell_type": "code",
   "execution_count": 26,
   "metadata": {
    "id": "RnBXUCWezsl8"
   },
   "outputs": [],
   "source": [
    "from sklearn.linear_model import LogisticRegression"
   ]
  },
  {
   "cell_type": "code",
   "execution_count": 27,
   "metadata": {
    "colab": {
     "base_uri": "https://localhost:8080/"
    },
    "id": "-wxaoEsaxgX4",
    "outputId": "b2805352-52cf-4e1b-9851-2ef766683b77"
   },
   "outputs": [
    {
     "data": {
      "text/html": [
       "<style>#sk-container-id-1 {color: black;background-color: white;}#sk-container-id-1 pre{padding: 0;}#sk-container-id-1 div.sk-toggleable {background-color: white;}#sk-container-id-1 label.sk-toggleable__label {cursor: pointer;display: block;width: 100%;margin-bottom: 0;padding: 0.3em;box-sizing: border-box;text-align: center;}#sk-container-id-1 label.sk-toggleable__label-arrow:before {content: \"▸\";float: left;margin-right: 0.25em;color: #696969;}#sk-container-id-1 label.sk-toggleable__label-arrow:hover:before {color: black;}#sk-container-id-1 div.sk-estimator:hover label.sk-toggleable__label-arrow:before {color: black;}#sk-container-id-1 div.sk-toggleable__content {max-height: 0;max-width: 0;overflow: hidden;text-align: left;background-color: #f0f8ff;}#sk-container-id-1 div.sk-toggleable__content pre {margin: 0.2em;color: black;border-radius: 0.25em;background-color: #f0f8ff;}#sk-container-id-1 input.sk-toggleable__control:checked~div.sk-toggleable__content {max-height: 200px;max-width: 100%;overflow: auto;}#sk-container-id-1 input.sk-toggleable__control:checked~label.sk-toggleable__label-arrow:before {content: \"▾\";}#sk-container-id-1 div.sk-estimator input.sk-toggleable__control:checked~label.sk-toggleable__label {background-color: #d4ebff;}#sk-container-id-1 div.sk-label input.sk-toggleable__control:checked~label.sk-toggleable__label {background-color: #d4ebff;}#sk-container-id-1 input.sk-hidden--visually {border: 0;clip: rect(1px 1px 1px 1px);clip: rect(1px, 1px, 1px, 1px);height: 1px;margin: -1px;overflow: hidden;padding: 0;position: absolute;width: 1px;}#sk-container-id-1 div.sk-estimator {font-family: monospace;background-color: #f0f8ff;border: 1px dotted black;border-radius: 0.25em;box-sizing: border-box;margin-bottom: 0.5em;}#sk-container-id-1 div.sk-estimator:hover {background-color: #d4ebff;}#sk-container-id-1 div.sk-parallel-item::after {content: \"\";width: 100%;border-bottom: 1px solid gray;flex-grow: 1;}#sk-container-id-1 div.sk-label:hover label.sk-toggleable__label {background-color: #d4ebff;}#sk-container-id-1 div.sk-serial::before {content: \"\";position: absolute;border-left: 1px solid gray;box-sizing: border-box;top: 0;bottom: 0;left: 50%;z-index: 0;}#sk-container-id-1 div.sk-serial {display: flex;flex-direction: column;align-items: center;background-color: white;padding-right: 0.2em;padding-left: 0.2em;position: relative;}#sk-container-id-1 div.sk-item {position: relative;z-index: 1;}#sk-container-id-1 div.sk-parallel {display: flex;align-items: stretch;justify-content: center;background-color: white;position: relative;}#sk-container-id-1 div.sk-item::before, #sk-container-id-1 div.sk-parallel-item::before {content: \"\";position: absolute;border-left: 1px solid gray;box-sizing: border-box;top: 0;bottom: 0;left: 50%;z-index: -1;}#sk-container-id-1 div.sk-parallel-item {display: flex;flex-direction: column;z-index: 1;position: relative;background-color: white;}#sk-container-id-1 div.sk-parallel-item:first-child::after {align-self: flex-end;width: 50%;}#sk-container-id-1 div.sk-parallel-item:last-child::after {align-self: flex-start;width: 50%;}#sk-container-id-1 div.sk-parallel-item:only-child::after {width: 0;}#sk-container-id-1 div.sk-dashed-wrapped {border: 1px dashed gray;margin: 0 0.4em 0.5em 0.4em;box-sizing: border-box;padding-bottom: 0.4em;background-color: white;}#sk-container-id-1 div.sk-label label {font-family: monospace;font-weight: bold;display: inline-block;line-height: 1.2em;}#sk-container-id-1 div.sk-label-container {text-align: center;}#sk-container-id-1 div.sk-container {/* jupyter's `normalize.less` sets `[hidden] { display: none; }` but bootstrap.min.css set `[hidden] { display: none !important; }` so we also need the `!important` here to be able to override the default hidden behavior on the sphinx rendered scikit-learn.org. See: https://github.com/scikit-learn/scikit-learn/issues/21755 */display: inline-block !important;position: relative;}#sk-container-id-1 div.sk-text-repr-fallback {display: none;}</style><div id=\"sk-container-id-1\" class=\"sk-top-container\"><div class=\"sk-text-repr-fallback\"><pre>LogisticRegression(C=0.1, solver=&#x27;liblinear&#x27;)</pre><b>In a Jupyter environment, please rerun this cell to show the HTML representation or trust the notebook. <br />On GitHub, the HTML representation is unable to render, please try loading this page with nbviewer.org.</b></div><div class=\"sk-container\" hidden><div class=\"sk-item\"><div class=\"sk-estimator sk-toggleable\"><input class=\"sk-toggleable__control sk-hidden--visually\" id=\"sk-estimator-id-1\" type=\"checkbox\" checked><label for=\"sk-estimator-id-1\" class=\"sk-toggleable__label sk-toggleable__label-arrow\">LogisticRegression</label><div class=\"sk-toggleable__content\"><pre>LogisticRegression(C=0.1, solver=&#x27;liblinear&#x27;)</pre></div></div></div></div></div>"
      ],
      "text/plain": [
       "LogisticRegression(C=0.1, solver='liblinear')"
      ]
     },
     "execution_count": 27,
     "metadata": {},
     "output_type": "execute_result"
    }
   ],
   "source": [
    "m = LogisticRegression(C=0.1, dual=False,solver = 'liblinear')\n",
    "# 'liblinear' и 'newton-cg' солверы сходятся\n",
    "# 'sag', 'saga', и 'lbfgs' расходятся\n",
    "m.fit(x[:25000], y[:25000])"
   ]
  },
  {
   "cell_type": "code",
   "execution_count": 28,
   "metadata": {},
   "outputs": [
    {
     "name": "stdout",
     "output_type": "stream",
     "text": [
      "Точность модели на обучающей выборке: 0.90228\n"
     ]
    }
   ],
   "source": [
    "preds = m.predict(x[:25000])\n",
    "train_accuracy = (preds==y[:25000]).mean()\n",
    "print(f'Точность модели на обучающей выборке: {train_accuracy}')"
   ]
  },
  {
   "cell_type": "markdown",
   "metadata": {
    "id": "mg_RjqEzNCnx"
   },
   "source": [
    "### Задание 2.\n",
    "Сформируйте предсказание на валидационной выборке, есть ли переобучение? Как вы думаете почему?"
   ]
  },
  {
   "cell_type": "code",
   "execution_count": 29,
   "metadata": {},
   "outputs": [
    {
     "name": "stdout",
     "output_type": "stream",
     "text": [
      "Точность модели на валидационной выборке: 0.5686\n"
     ]
    }
   ],
   "source": [
    "preds_valid = m.predict(x_valid[:25000])\n",
    "valid_accuracy = (preds_valid==y_valid[:25000]).mean()\n",
    "print(f'Точность модели на валидационной выборке: {valid_accuracy}')"
   ]
  },
  {
   "cell_type": "code",
   "execution_count": null,
   "metadata": {},
   "outputs": [],
   "source": []
  }
 ],
 "metadata": {
  "accelerator": "GPU",
  "colab": {
   "provenance": [],
   "toc_visible": true
  },
  "gpuClass": "standard",
  "kernelspec": {
   "display_name": "Python 3 (ipykernel)",
   "language": "python",
   "name": "python3"
  },
  "language_info": {
   "codemirror_mode": {
    "name": "ipython",
    "version": 3
   },
   "file_extension": ".py",
   "mimetype": "text/x-python",
   "name": "python",
   "nbconvert_exporter": "python",
   "pygments_lexer": "ipython3",
   "version": "3.10.7"
  },
  "nbTranslate": {
   "displayLangs": [
    "*"
   ],
   "hotkey": "alt-t",
   "langInMainMenu": true,
   "sourceLang": "en",
   "targetLang": "fr",
   "useGoogleTranslate": true
  }
 },
 "nbformat": 4,
 "nbformat_minor": 1
}
