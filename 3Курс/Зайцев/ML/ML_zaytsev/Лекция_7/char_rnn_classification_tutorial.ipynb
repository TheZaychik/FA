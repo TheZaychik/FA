{
 "cells": [
  {
   "cell_type": "markdown",
   "metadata": {},
   "source": [
    "# Зайцев Н. ПИ20-1В"
   ]
  },
  {
   "cell_type": "markdown",
   "metadata": {
    "id": "a1erD4cZcT5Z"
   },
   "source": [
    "<h1 align='center'> NLP с нуля: Классификация имен с помощью RNN на уровне символов"
   ]
  },
  {
   "cell_type": "markdown",
   "metadata": {
    "id": "pEFqxdSecT5a"
   },
   "source": [
    "**Перевод статьи**: `Sean Robertson <https://github.com/spro/practical-pytorch>`_\n",
    "\n",
    "Мы будем создавать и обучать RNN базового уровня для классификации\n",
    "слов. В этом руководстве, наряду со следующими двумя, показано, как выполнить\n",
    "предварительную обработку данных для моделирования NLP \"с нуля\", в частности, не используя\n",
    "многие удобные функции `torchtext`, чтобы вы могли увидеть, как\n",
    "предварительная обработка для моделирования NLP работает на низком уровне.\n",
    "\n",
    "RNN на уровне символов считывает слова как серию символов, выводя предсказание и \"скрытое состояние\" на каждом шаге, передавая свое предыдущее скрытое состояние на каждый следующий шаг. Мы принимаем окончательное предсказание\n",
    "за результат, т. е. к какому классу относится слово.\n",
    "\n",
    "В частности, мы будем тренироваться на нескольких тысячах фамилий из 18 языков происхождения и предсказывать, с какого языка происходит имя, основываясь на написании:\n",
    "::\n",
    "\n",
    "    $ python predict.py Hinton\n",
    "    (-0.47) Scottish\n",
    "    (-1.52) English\n",
    "    (-3.57) Irish\n",
    "\n",
    "    $ python predict.py Schmidhuber\n",
    "    (-0.19) German\n",
    "    (-2.48) Czech\n",
    "    (-2.68) Dutch\n",
    "\n",
    "\n",
    "**Предварительное чтение:**\n",
    "\n",
    "Предполагается что читатель установил PyTorch, знает Python, и понимает Tensors:\n",
    "\n",
    "-  `https://pytorch.org/` для инструктажа по установке\n",
    "-  :doc:`/beginner/deep_learning_60min_blitz` для начала основ PyTorch\n",
    "-  :doc:`/beginner/pytorch_with_examples` для широкого обзора возможностей\n",
    "\n",
    "Полезно также ознакомится с RNNs и тем как они работают:\n",
    "\n",
    "-  <a href= https://karpathy.github.io/2015/05/21/rnn-effectiveness/>The Unreasonable Effectiveness of Recurrent Neural Networks </a> описывает примеров из реальной практики\n",
    "-  <a href= https://colah.github.io/posts/2015-08-Understanding-LSTMs/>Understanding LSTM Networks </a> описывает LSTM, но также информирует об основах RNN. "
   ]
  },
  {
   "cell_type": "markdown",
   "metadata": {
    "id": "I3rZagi2cT5b"
   },
   "source": [
    "## Подготовка данных \n",
    "\n",
    ".. Примечание::\n",
    "   Загрузите данные <a href=https://download.pytorch.org/tutorial/data.zip>отсюда</a> и извлеките их в текущую директорию.\n",
    "\n",
    "В каталог `data/names` включены 18 текстовых файлов с именем `[Language].txt`. Каждый файл содержит кучу имен, по одному имени в строке, в основном латинизированных (но нам все равно нужно преобразовать из Юникода в\n",
    "ASCII).\n",
    "\n",
    "В итоге мы получим словарь со списками имен на каждом языке,`{language: [names ...]}`. Общие переменные `category` и `line`(для языка и имени в нашем случае) используются для последующего расширения."
   ]
  },
  {
   "cell_type": "code",
   "execution_count": 2,
   "metadata": {
    "colab": {
     "base_uri": "https://localhost:8080/"
    },
    "executionInfo": {
     "elapsed": 4273,
     "status": "ok",
     "timestamp": 1627817334491,
     "user": {
      "displayName": "Владимир Попов",
      "photoUrl": "https://lh3.googleusercontent.com/a-/AOh14GhmmWRUHxpJtOJtL-cAUWRTC2mi_nhK6jYL9K0CHA=s64",
      "userId": "11911063770407493537"
     },
     "user_tz": -180
    },
    "id": "euDpMEgscT5c",
    "outputId": "23f169b7-35fc-4188-ddef-f0d28c739a8f"
   },
   "outputs": [
    {
     "name": "stdout",
     "output_type": "stream",
     "text": [
      "['data/names/Czech.txt', 'data/names/German.txt', 'data/names/Arabic.txt', 'data/names/Japanese.txt', 'data/names/Chinese.txt', 'data/names/Vietnamese.txt', 'data/names/Russian.txt', 'data/names/French.txt', 'data/names/Irish.txt', 'data/names/English.txt', 'data/names/Spanish.txt', 'data/names/Greek.txt', 'data/names/Italian.txt', 'data/names/Portuguese.txt', 'data/names/Scottish.txt', 'data/names/Dutch.txt', 'data/names/Korean.txt', 'data/names/Polish.txt']\n",
      "Slusarski\n"
     ]
    }
   ],
   "source": [
    "from __future__ import unicode_literals, print_function, division\n",
    "from io import open\n",
    "import glob\n",
    "import os\n",
    "\n",
    "def findFiles(path): return glob.glob(path)\n",
    "\n",
    "print(findFiles('data/names/*.txt'))\n",
    "\n",
    "import unicodedata\n",
    "import string\n",
    "\n",
    "all_letters = string.ascii_letters + \" .,;'\"\n",
    "n_letters = len(all_letters)\n",
    "\n",
    "# Turn a Unicode string to plain ASCII, thanks to https://stackoverflow.com/a/518232/2809427\n",
    "def unicodeToAscii(s):\n",
    "    return ''.join(\n",
    "        c for c in unicodedata.normalize('NFD', s)\n",
    "        if unicodedata.category(c) != 'Mn'\n",
    "        and c in all_letters\n",
    "    )\n",
    "\n",
    "print(unicodeToAscii('Ślusàrski'))\n",
    "\n",
    "# Build the category_lines dictionary, a list of names per language\n",
    "category_lines = {}\n",
    "all_categories = []\n",
    "\n",
    "# Read a file and split into lines\n",
    "def readLines(filename):\n",
    "    lines = open(filename, encoding='utf-8').read().strip().split('\\n')\n",
    "    return [unicodeToAscii(line) for line in lines]\n",
    "\n",
    "for filename in findFiles('data/names/*.txt'):\n",
    "    category = os.path.splitext(os.path.basename(filename))[0]\n",
    "    all_categories.append(category)\n",
    "    lines = readLines(filename)\n",
    "    category_lines[category] = lines\n",
    "\n",
    "n_categories = len(all_categories)"
   ]
  },
  {
   "cell_type": "markdown",
   "metadata": {
    "id": "8MewazEqcT5d"
   },
   "source": [
    "Теперь у нас есть `category_lines`, словарь, сопоставляющий каждую категорию (язык) со списком строк (имен). Мы также отслеживали `all_categories` (просто список языков) и `n_categories` для последующего использования."
   ]
  },
  {
   "cell_type": "code",
   "execution_count": 2,
   "metadata": {
    "colab": {
     "base_uri": "https://localhost:8080/"
    },
    "executionInfo": {
     "elapsed": 226,
     "status": "ok",
     "timestamp": 1627817397758,
     "user": {
      "displayName": "Владимир Попов",
      "photoUrl": "https://lh3.googleusercontent.com/a-/AOh14GhmmWRUHxpJtOJtL-cAUWRTC2mi_nhK6jYL9K0CHA=s64",
      "userId": "11911063770407493537"
     },
     "user_tz": -180
    },
    "id": "Ommm4rb5cT5e",
    "outputId": "65feba29-92de-49ab-8e7a-c86c5a0917ea"
   },
   "outputs": [
    {
     "name": "stdout",
     "output_type": "stream",
     "text": [
      "['Abandonato', 'Abatangelo', 'Abatantuono', 'Abate', 'Abategiovanni']\n"
     ]
    }
   ],
   "source": [
    "print(category_lines['Italian'][:5])"
   ]
  },
  {
   "cell_type": "markdown",
   "metadata": {
    "id": "m5hTgi5KcT5e"
   },
   "source": [
    "Превращение имен в тензоры\n",
    "--------------------------\n",
    "\n",
    "Теперь, когда мы упорядочили все имена, нам нужно превратить их в\n",
    "Тензоры, чтобы как-то их использовать.\n",
    "\n",
    "Чтобы представить одну букву, мы используем `one-hot` вектор размера\n",
    "`<1 x n_letters>`. Один горячий вектор заполняется 0, за исключением 1\n",
    "в индексе текущей буквы, например `\"b\" = <0 1 0 0 0 ...>`.\n",
    "\n",
    "Чтобы составить слово, мы объединяем их в 2D-матрицу\n",
    "`<line_length x 1 x n_letters>`.\n",
    "\n",
    "Это дополнительное измерение 1 связано с тем, что PyTorch предполагает, что все находится в пакетах - здесь мы просто используем размер пакета 1."
   ]
  },
  {
   "cell_type": "code",
   "execution_count": 3,
   "metadata": {
    "colab": {
     "base_uri": "https://localhost:8080/"
    },
    "executionInfo": {
     "elapsed": 4408,
     "status": "ok",
     "timestamp": 1627817586090,
     "user": {
      "displayName": "Владимир Попов",
      "photoUrl": "https://lh3.googleusercontent.com/a-/AOh14GhmmWRUHxpJtOJtL-cAUWRTC2mi_nhK6jYL9K0CHA=s64",
      "userId": "11911063770407493537"
     },
     "user_tz": -180
    },
    "id": "9fHmrzuPcT5e",
    "outputId": "87fa3dc9-94f4-4ea9-a953-3efdf0db4f3d"
   },
   "outputs": [
    {
     "name": "stdout",
     "output_type": "stream",
     "text": [
      "tensor([[0., 0., 0., 0., 0., 0., 0., 0., 0., 0., 0., 0., 0., 0., 0., 0., 0., 0.,\n",
      "         0., 0., 0., 0., 0., 0., 0., 0., 0., 0., 0., 0., 0., 0., 0., 0., 0., 1.,\n",
      "         0., 0., 0., 0., 0., 0., 0., 0., 0., 0., 0., 0., 0., 0., 0., 0., 0., 0.,\n",
      "         0., 0., 0.]])\n",
      "torch.Size([5, 1, 57])\n"
     ]
    }
   ],
   "source": [
    "import torch\n",
    "\n",
    "# Find letter index from all_letters, e.g. \"a\" = 0\n",
    "def letterToIndex(letter):\n",
    "    return all_letters.find(letter)\n",
    "\n",
    "# Just for demonstration, turn a letter into a <1 x n_letters> Tensor\n",
    "def letterToTensor(letter):\n",
    "    tensor = torch.zeros(1, n_letters)\n",
    "    tensor[0][letterToIndex(letter)] = 1\n",
    "    return tensor\n",
    "\n",
    "# Turn a line into a <line_length x 1 x n_letters>,\n",
    "# or an array of one-hot letter vectors\n",
    "def lineToTensor(line):\n",
    "    tensor = torch.zeros(len(line), 1, n_letters)\n",
    "    for li, letter in enumerate(line):\n",
    "        tensor[li][0][letterToIndex(letter)] = 1\n",
    "    return tensor\n",
    "\n",
    "print(letterToTensor('J'))\n",
    "\n",
    "print(lineToTensor('Jones').size())"
   ]
  },
  {
   "cell_type": "markdown",
   "metadata": {
    "id": "RhuTcnVHcT5f"
   },
   "source": [
    "## Создание сети\n",
    "\n",
    "Перед вычислением градиентов, создание рекуррентной нейронной сети в Torch включающей\n",
    "клонирование параметров слоя в течение нескольких временных шагов. Слои\n",
    "содержали скрытое состояние и градиенты, которые теперь полностью обрабатываются самим\n",
    "графом. Это означает, что вы можете реализовать RNN очень \"чистым\" способом,\n",
    "как обычные слои обратной связи.\n",
    "\n",
    "Этот модуль RNN (в основном скопирован из учебника <a href=https://pytorch.org/tutorials/beginner/former_torchies/nn_tutorial.html#example-2-recurrent-net> PyTorch for Torch users tutorial </a>) это всего лишь 2 линейных слоя, которые работают в входном и скрытом состоянии, со слоем LogSoftmax после вывода.\n",
    "\n",
    ".. рисунок:: https://i.imgur.com/Z2xbySO.png\n",
    "   :alt:\n"
   ]
  },
  {
   "cell_type": "code",
   "execution_count": 4,
   "metadata": {
    "executionInfo": {
     "elapsed": 241,
     "status": "ok",
     "timestamp": 1627818000878,
     "user": {
      "displayName": "Владимир Попов",
      "photoUrl": "https://lh3.googleusercontent.com/a-/AOh14GhmmWRUHxpJtOJtL-cAUWRTC2mi_nhK6jYL9K0CHA=s64",
      "userId": "11911063770407493537"
     },
     "user_tz": -180
    },
    "id": "74Pr-owRcT5f"
   },
   "outputs": [],
   "source": [
    "import torch.nn as nn\n",
    "\n",
    "class RNN(nn.Module):\n",
    "    def __init__(self, input_size, hidden_size, output_size):\n",
    "        super(RNN, self).__init__()\n",
    "\n",
    "        self.hidden_size = hidden_size\n",
    "\n",
    "        self.i2h = nn.Linear(input_size + hidden_size, hidden_size)\n",
    "        self.i2o = nn.Linear(input_size + hidden_size, output_size)\n",
    "        self.softmax = nn.LogSoftmax(dim=1)\n",
    "\n",
    "    def forward(self, input, hidden):\n",
    "        combined = torch.cat((input, hidden), 1)\n",
    "        hidden = self.i2h(combined)\n",
    "        output = self.i2o(combined)\n",
    "        output = self.softmax(output)\n",
    "        return output, hidden\n",
    "\n",
    "    def initHidden(self):\n",
    "        return torch.zeros(1, self.hidden_size)\n",
    "\n",
    "n_hidden = 128\n",
    "rnn = RNN(n_letters, n_hidden, n_categories)"
   ]
  },
  {
   "cell_type": "markdown",
   "metadata": {
    "id": "YJHHEnnycT5g"
   },
   "source": [
    "Чтобы запустить шаг этой сети, нам нужно передать входные данные (в нашем случае Тензор для текущей буквы) и предыдущее скрытое состояние (которое мы сначала инициализируем как нули). Мы вернем вывод (вероятность каждого языка) и следующее скрытое состояние (которое мы сохраняем для следующего шага).\n"
   ]
  },
  {
   "cell_type": "code",
   "execution_count": 5,
   "metadata": {
    "colab": {
     "base_uri": "https://localhost:8080/"
    },
    "executionInfo": {
     "elapsed": 249,
     "status": "ok",
     "timestamp": 1627818043411,
     "user": {
      "displayName": "Владимир Попов",
      "photoUrl": "https://lh3.googleusercontent.com/a-/AOh14GhmmWRUHxpJtOJtL-cAUWRTC2mi_nhK6jYL9K0CHA=s64",
      "userId": "11911063770407493537"
     },
     "user_tz": -180
    },
    "id": "Jadwfee9cT5g",
    "outputId": "f7099464-257e-4e35-c2c2-348566c5b4d6"
   },
   "outputs": [
    {
     "name": "stdout",
     "output_type": "stream",
     "text": [
      "tensor([[-2.8818, -2.9279, -2.9628, -2.8856, -2.8673, -2.9132, -2.9154, -2.8717,\n",
      "         -2.8198, -3.0098, -2.8645, -2.8508, -2.8095, -2.8645, -2.9463, -2.8280,\n",
      "         -2.8820, -2.9496]], grad_fn=<LogSoftmaxBackward0>)\n"
     ]
    }
   ],
   "source": [
    "input = letterToTensor('A')\n",
    "hidden = torch.zeros(1, n_hidden)\n",
    "\n",
    "output, next_hidden = rnn(input, hidden)\n",
    "print(output)"
   ]
  },
  {
   "cell_type": "markdown",
   "metadata": {
    "id": "g6Q4tPa9cT5g"
   },
   "source": [
    "Для повышения эффективности мы не хотим создавать новый тензор для каждого шага, поэтому мы будем использовать `lineToTensor` вместо `letterToTensor` и использовать срезы. Это может быть дополнительно оптимизировано путем\n",
    "предварительного вычисления пакетов тензоров."
   ]
  },
  {
   "cell_type": "code",
   "execution_count": 6,
   "metadata": {
    "colab": {
     "base_uri": "https://localhost:8080/"
    },
    "executionInfo": {
     "elapsed": 259,
     "status": "ok",
     "timestamp": 1627818070383,
     "user": {
      "displayName": "Владимир Попов",
      "photoUrl": "https://lh3.googleusercontent.com/a-/AOh14GhmmWRUHxpJtOJtL-cAUWRTC2mi_nhK6jYL9K0CHA=s64",
      "userId": "11911063770407493537"
     },
     "user_tz": -180
    },
    "id": "sz5-cYd8cT5g",
    "outputId": "aaaeadf9-36ce-424b-df63-a972891f5944"
   },
   "outputs": [
    {
     "name": "stdout",
     "output_type": "stream",
     "text": [
      "tensor([[-2.8818, -2.9279, -2.9628, -2.8856, -2.8673, -2.9132, -2.9154, -2.8717,\n",
      "         -2.8198, -3.0098, -2.8645, -2.8508, -2.8095, -2.8645, -2.9463, -2.8280,\n",
      "         -2.8820, -2.9496]], grad_fn=<LogSoftmaxBackward0>)\n"
     ]
    }
   ],
   "source": [
    "input = lineToTensor('Albert')\n",
    "hidden = torch.zeros(1, n_hidden)\n",
    "\n",
    "output, next_hidden = rnn(input[0], hidden)\n",
    "print(output)"
   ]
  },
  {
   "cell_type": "markdown",
   "metadata": {
    "id": "UzYcd1nXcT5h"
   },
   "source": [
    "Как вы можете видеть, результат представляет собой тензор `<1 x n_categories>`, где\n",
    "каждый элемент является вероятностью этой категории (чем выше, тем вероятнее)."
   ]
  },
  {
   "cell_type": "markdown",
   "metadata": {
    "id": "QJyCR6lycT5h"
   },
   "source": [
    "## Обучение\n",
    "Подготовка к обучению\n",
    "----------------------\n",
    "\n",
    "Прежде чем приступить к обучению, мы должны сделать несколько вспомогательных функций.\n",
    "Первый - интерпретировать выходные данные сети, которые, как мы знаем, являются\n",
    "вероятностью для каждой категории. Мы можем использовать `Tensor.topk`, чтобы получить индекс\n",
    "наибольшего значения:"
   ]
  },
  {
   "cell_type": "code",
   "execution_count": 13,
   "metadata": {
    "colab": {
     "base_uri": "https://localhost:8080/"
    },
    "executionInfo": {
     "elapsed": 224,
     "status": "ok",
     "timestamp": 1627818238149,
     "user": {
      "displayName": "Владимир Попов",
      "photoUrl": "https://lh3.googleusercontent.com/a-/AOh14GhmmWRUHxpJtOJtL-cAUWRTC2mi_nhK6jYL9K0CHA=s64",
      "userId": "11911063770407493537"
     },
     "user_tz": -180
    },
    "id": "hjx-lJcpcT5h",
    "outputId": "530df6fb-7246-42cc-d65a-0d6db057a825"
   },
   "outputs": [
    {
     "name": "stdout",
     "output_type": "stream",
     "text": [
      "('Greek', 11)\n"
     ]
    }
   ],
   "source": [
    "def categoryFromOutput(output):\n",
    "    top_n, top_i = output.topk(1)\n",
    "    category_i = top_i[0].item()\n",
    "    return all_categories[category_i], category_i\n",
    "\n",
    "print(categoryFromOutput(output))"
   ]
  },
  {
   "cell_type": "markdown",
   "metadata": {
    "id": "tHuPoIj_cT5h"
   },
   "source": [
    "Нам также понадобится быстрый способ получить обучающий пример (название и его\n",
    "язык):"
   ]
  },
  {
   "cell_type": "code",
   "execution_count": 7,
   "metadata": {
    "colab": {
     "base_uri": "https://localhost:8080/"
    },
    "executionInfo": {
     "elapsed": 231,
     "status": "ok",
     "timestamp": 1627818305229,
     "user": {
      "displayName": "Владимир Попов",
      "photoUrl": "https://lh3.googleusercontent.com/a-/AOh14GhmmWRUHxpJtOJtL-cAUWRTC2mi_nhK6jYL9K0CHA=s64",
      "userId": "11911063770407493537"
     },
     "user_tz": -180
    },
    "id": "1dybVoxCcT5h",
    "outputId": "9572a742-67c1-42b8-a4c4-4e0cc7b9d84a"
   },
   "outputs": [
    {
     "name": "stdout",
     "output_type": "stream",
     "text": [
      "category = Polish / line = Walentowicz\n",
      "category = Dutch / line = Sevriens\n",
      "category = Vietnamese / line = Lam\n",
      "category = German / line = Stumpf\n",
      "category = Irish / line = O'Keeffe\n",
      "category = French / line = Leroy\n",
      "category = Korean / line = Jon\n",
      "category = Chinese / line = Xing\n",
      "category = Korean / line = Jang\n",
      "category = Spanish / line = Zubizarreta\n"
     ]
    }
   ],
   "source": [
    "import random\n",
    "\n",
    "def randomChoice(l):\n",
    "    return l[random.randint(0, len(l) - 1)]\n",
    "\n",
    "def randomTrainingExample():\n",
    "    category = randomChoice(all_categories)\n",
    "    line = randomChoice(category_lines[category])\n",
    "    category_tensor = torch.tensor([all_categories.index(category)], dtype=torch.long)\n",
    "    line_tensor = lineToTensor(line)\n",
    "    return category, line, category_tensor, line_tensor\n",
    "\n",
    "for i in range(10):\n",
    "    category, line, category_tensor, line_tensor = randomTrainingExample()\n",
    "    print('category =', category, '/ line =', line)"
   ]
  },
  {
   "cell_type": "markdown",
   "metadata": {
    "id": "OJBItrN-cT5i"
   },
   "source": [
    "Обучение сети\n",
    "--------------------\n",
    "\n",
    "Теперь все, что нужно для обучения этой сети, - это показать ей кучу примеров,\n",
    "заставить ее строить догадки и сказать, ошибается ли она.\n",
    "\n",
    "Для функции потерь подходит `nn.NLLLoss`, так как последний слой RNN - `nn.LogSoftmax`.\n"
   ]
  },
  {
   "cell_type": "code",
   "execution_count": 10,
   "metadata": {
    "executionInfo": {
     "elapsed": 237,
     "status": "ok",
     "timestamp": 1627818347585,
     "user": {
      "displayName": "Владимир Попов",
      "photoUrl": "https://lh3.googleusercontent.com/a-/AOh14GhmmWRUHxpJtOJtL-cAUWRTC2mi_nhK6jYL9K0CHA=s64",
      "userId": "11911063770407493537"
     },
     "user_tz": -180
    },
    "id": "bLIUlECBcT5i"
   },
   "outputs": [],
   "source": [
    "criterion = nn.NLLLoss()"
   ]
  },
  {
   "cell_type": "markdown",
   "metadata": {
    "id": "ciAPzUpFcT5i"
   },
   "source": [
    "Каждый цикл обучения будет делать:\n",
    "\n",
    "- Создание входных и целевых тензоров\n",
    "- Создание обнуленное начальное скрытое состояние\n",
    "- Читать каждую букву и\n",
    "\n",
    "   - Сохранять скрытое состояние для следующего текста\n",
    "\n",
    "- Сравните конечный результат с целевым\n",
    "- Обратное распространение\n",
    "- Возврат выходных данных и значений функции ошибки"
   ]
  },
  {
   "cell_type": "code",
   "execution_count": 10,
   "metadata": {
    "executionInfo": {
     "elapsed": 260,
     "status": "ok",
     "timestamp": 1627823035366,
     "user": {
      "displayName": "Владимир Попов",
      "photoUrl": "https://lh3.googleusercontent.com/a-/AOh14GhmmWRUHxpJtOJtL-cAUWRTC2mi_nhK6jYL9K0CHA=s64",
      "userId": "11911063770407493537"
     },
     "user_tz": -180
    },
    "id": "RatptajIcT5i"
   },
   "outputs": [],
   "source": [
    "learning_rate = 0.005 # If you set this too high, it might explode. If too low, it might not learn\n",
    "\n",
    "def train(category_tensor, line_tensor):\n",
    "    hidden = rnn.initHidden()\n",
    "\n",
    "    rnn.zero_grad()\n",
    "\n",
    "    for i in range(line_tensor.size()[0]):\n",
    "        output, hidden = rnn(line_tensor[i], hidden)\n",
    "\n",
    "    loss = criterion(output, category_tensor)\n",
    "    loss.backward()\n",
    "\n",
    "    # Add parameters' gradients to their values, multiplied by learning rate\n",
    "    for p in rnn.parameters():\n",
    "        p.data.add_(p.grad.data, alpha=-learning_rate)\n",
    "\n",
    "    return output, loss.item()"
   ]
  },
  {
   "cell_type": "markdown",
   "metadata": {
    "id": "2b4-DOjPcT5j"
   },
   "source": [
    "Теперь нам просто нужно запустить это с кучей примеров. Поскольку функция\n",
    "`train` возвращает как результат, так и список ошибки, мы можем распечатать ее\n",
    "предсказание, а также отслеживатьошибку для построения графика. Поскольку существует 1000\n",
    "примеров, мы печатаем только все примеры `print_every` и берем\n",
    "среднее значение потерь."
   ]
  },
  {
   "cell_type": "code",
   "execution_count": 11,
   "metadata": {
    "colab": {
     "base_uri": "https://localhost:8080/"
    },
    "executionInfo": {
     "elapsed": 90737,
     "status": "ok",
     "timestamp": 1627818631791,
     "user": {
      "displayName": "Владимир Попов",
      "photoUrl": "https://lh3.googleusercontent.com/a-/AOh14GhmmWRUHxpJtOJtL-cAUWRTC2mi_nhK6jYL9K0CHA=s64",
      "userId": "11911063770407493537"
     },
     "user_tz": -180
    },
    "id": "xCfHYk0scT5j",
    "outputId": "aa8aa9fe-37e0-4277-be58-1bfab6e5ad38"
   },
   "outputs": [
    {
     "name": "stdout",
     "output_type": "stream",
     "text": [
      "5000 5% (0m 11s) 2.5004 Braden / German ✗ (Irish)\n",
      "10000 10% (0m 23s) 3.1414 Black / Czech ✗ (Scottish)\n",
      "15000 15% (0m 35s) 2.1713 Nam / Chinese ✗ (Korean)\n",
      "20000 20% (0m 50s) 1.7030 Kollen / Dutch ✓\n",
      "25000 25% (0m 59s) 3.5792 Hahn / Vietnamese ✗ (German)\n",
      "30000 30% (1m 7s) 1.0839 O'Hare / Irish ✓\n",
      "35000 35% (1m 15s) 1.2350 Baklanoff / Russian ✓\n",
      "40000 40% (1m 23s) 0.3873 Dinh / Vietnamese ✓\n",
      "45000 45% (1m 29s) 1.2057 Oursler / German ✓\n",
      "50000 50% (1m 36s) 4.0617 Murtas / Scottish ✗ (Italian)\n",
      "55000 55% (1m 41s) 1.9500 Kolijn / Japanese ✗ (Dutch)\n",
      "60000 60% (1m 47s) 0.0880 Kattan / Arabic ✓\n",
      "65000 65% (1m 53s) 0.3612 Louverdis / Greek ✓\n",
      "70000 70% (1m 59s) 0.0499 Thach / Vietnamese ✓\n",
      "75000 75% (2m 4s) 2.5218 Marquering / Dutch ✗ (German)\n",
      "80000 80% (2m 10s) 1.5960 Riedel / Dutch ✗ (Czech)\n",
      "85000 85% (2m 16s) 2.4276 Bhrighde / Russian ✗ (Irish)\n",
      "90000 90% (2m 21s) 1.9766 Franke / Polish ✗ (German)\n",
      "95000 95% (2m 27s) 0.0983 Altoviti / Italian ✓\n",
      "100000 100% (2m 32s) 1.0357 Machado / Portuguese ✓\n"
     ]
    }
   ],
   "source": [
    "import time\n",
    "import math\n",
    "\n",
    "n_iters = 100000\n",
    "print_every = 5000\n",
    "plot_every = 1000\n",
    "\n",
    "# Keep track of losses for plotting\n",
    "current_loss = 0\n",
    "all_losses = []\n",
    "\n",
    "def timeSince(since):\n",
    "    now = time.time()\n",
    "    s = now - since\n",
    "    m = math.floor(s / 60)\n",
    "    s -= m * 60\n",
    "    return '%dm %ds' % (m, s)\n",
    "\n",
    "start = time.time()\n",
    "\n",
    "for iter in range(1, n_iters + 1):\n",
    "    category, line, category_tensor, line_tensor = randomTrainingExample()\n",
    "    output, loss = train(category_tensor, line_tensor)\n",
    "    current_loss += loss\n",
    "\n",
    "    # Print iter number, loss, name and guess\n",
    "    if iter % print_every == 0:\n",
    "        guess, guess_i = categoryFromOutput(output)\n",
    "        correct = '✓' if guess == category else '✗ (%s)' % category\n",
    "        print('%d %d%% (%s) %.4f %s / %s %s' % (iter, iter / n_iters * 100, timeSince(start), loss, line, guess, correct))\n",
    "\n",
    "    # Add current loss avg to list of losses\n",
    "    if iter % plot_every == 0:\n",
    "        all_losses.append(current_loss / plot_every)\n",
    "        current_loss = 0"
   ]
  },
  {
   "cell_type": "markdown",
   "metadata": {
    "id": "PtQodJrBcT5j"
   },
   "source": [
    "Построение графика результатов\n",
    "--------------------\n",
    "\n",
    "Построение графика исторических потерь из `all_losses` показывает\n",
    "обучение сети:"
   ]
  },
  {
   "cell_type": "code",
   "execution_count": 12,
   "metadata": {
    "colab": {
     "base_uri": "https://localhost:8080/",
     "height": 283
    },
    "executionInfo": {
     "elapsed": 277,
     "status": "ok",
     "timestamp": 1627818652556,
     "user": {
      "displayName": "Владимир Попов",
      "photoUrl": "https://lh3.googleusercontent.com/a-/AOh14GhmmWRUHxpJtOJtL-cAUWRTC2mi_nhK6jYL9K0CHA=s64",
      "userId": "11911063770407493537"
     },
     "user_tz": -180
    },
    "id": "srJo_JdpcT5j",
    "outputId": "607cceee-a4c5-4ffd-b8da-a441fe71f4e2"
   },
   "outputs": [
    {
     "data": {
      "text/plain": [
       "[<matplotlib.lines.Line2D at 0x12ceb7a30>]"
      ]
     },
     "execution_count": 12,
     "metadata": {},
     "output_type": "execute_result"
    },
    {
     "data": {
      "image/png": "[encoded data removed]",
      "text/plain": [
       "<Figure size 640x480 with 1 Axes>"
      ]
     },
     "metadata": {},
     "output_type": "display_data"
    }
   ],
   "source": [
    "import matplotlib.pyplot as plt\n",
    "import matplotlib.ticker as ticker\n",
    "\n",
    "plt.figure()\n",
    "plt.plot(all_losses)"
   ]
  },
  {
   "cell_type": "markdown",
   "metadata": {
    "id": "BoqToEK-cT5j"
   },
   "source": [
    "## Оценка результатов\n",
    "\n",
    "Чтобы увидеть, насколько хорошо сеть работает с различными категориями, мы\n",
    "создадим матрицу путаницы, указывающую для каждого фактического языка (строк)\n",
    "какой язык угадывает сеть (столбцы). Чтобы рассчитать матрицу путаницы\n",
    ", по сети выполняется множество выборок с\n",
    "`evaluate()`, что то же самое, что `train()` за вычетом обратного распространения ошибки.\n"
   ]
  },
  {
   "cell_type": "code",
   "execution_count": 13,
   "metadata": {
    "colab": {
     "base_uri": "https://localhost:8080/",
     "height": 320
    },
    "executionInfo": {
     "elapsed": 5583,
     "status": "ok",
     "timestamp": 1627818738909,
     "user": {
      "displayName": "Владимир Попов",
      "photoUrl": "https://lh3.googleusercontent.com/a-/AOh14GhmmWRUHxpJtOJtL-cAUWRTC2mi_nhK6jYL9K0CHA=s64",
      "userId": "11911063770407493537"
     },
     "user_tz": -180
    },
    "id": "yMPQulmMcT5k",
    "outputId": "7cc11dc2-a631-4ef9-ebb5-3d2aba2636af"
   },
   "outputs": [
    {
     "name": "stderr",
     "output_type": "stream",
     "text": [
      "/var/folders/81/y47jjh9s7yzcqp46xzsyj5_00000gn/T/ipykernel_11302/3585656379.py:33: UserWarning: FixedFormatter should only be used together with FixedLocator\n",
      "  ax.set_xticklabels([''] + all_categories, rotation=90)\n",
      "/var/folders/81/y47jjh9s7yzcqp46xzsyj5_00000gn/T/ipykernel_11302/3585656379.py:34: UserWarning: FixedFormatter should only be used together with FixedLocator\n",
      "  ax.set_yticklabels([''] + all_categories)\n"
     ]
    },
    {
     "data": {
      "image/png": "[encoded data removed]",
      "text/plain": [
       "<Figure size 640x480 with 2 Axes>"
      ]
     },
     "metadata": {},
     "output_type": "display_data"
    }
   ],
   "source": [
    "# Keep track of correct guesses in a confusion matrix\n",
    "confusion = torch.zeros(n_categories, n_categories)\n",
    "n_confusion = 10000\n",
    "\n",
    "# Just return an output given a line\n",
    "def evaluate(line_tensor):\n",
    "    hidden = rnn.initHidden()\n",
    "\n",
    "    for i in range(line_tensor.size()[0]):\n",
    "        output, hidden = rnn(line_tensor[i], hidden)\n",
    "\n",
    "    return output\n",
    "\n",
    "# Go through a bunch of examples and record which are correctly guessed\n",
    "for i in range(n_confusion):\n",
    "    category, line, category_tensor, line_tensor = randomTrainingExample()\n",
    "    output = evaluate(line_tensor)\n",
    "    guess, guess_i = categoryFromOutput(output)\n",
    "    category_i = all_categories.index(category)\n",
    "    confusion[category_i][guess_i] += 1\n",
    "\n",
    "# Normalize by dividing every row by its sum\n",
    "for i in range(n_categories):\n",
    "    confusion[i] = confusion[i] / confusion[i].sum()\n",
    "\n",
    "# Set up plot\n",
    "fig = plt.figure()\n",
    "ax = fig.add_subplot(111)\n",
    "cax = ax.matshow(confusion.numpy())\n",
    "fig.colorbar(cax)\n",
    "\n",
    "# Set up axes\n",
    "ax.set_xticklabels([''] + all_categories, rotation=90)\n",
    "ax.set_yticklabels([''] + all_categories)\n",
    "\n",
    "# Force label at every tick\n",
    "ax.xaxis.set_major_locator(ticker.MultipleLocator(1))\n",
    "ax.yaxis.set_major_locator(ticker.MultipleLocator(1))\n",
    "\n",
    "# sphinx_gallery_thumbnail_number = 2\n",
    "plt.show()"
   ]
  },
  {
   "cell_type": "markdown",
   "metadata": {
    "id": "Uen-YHCncT5k"
   },
   "source": [
    "Вы можете выделить яркие пятна на главной оси, которые показывают, какие языки он угадывает неправильно, например, китайский для корейского и испанский для итальянского. Похоже, он очень хорошо сочетается с греческим и очень плохо с английским (возможно, из-за совпадения с другими языками)."
   ]
  },
  {
   "cell_type": "markdown",
   "metadata": {
    "id": "K_9KKvMtcT5k"
   },
   "source": [
    "Запуск при вводе пользователем\n",
    "-----"
   ]
  },
  {
   "cell_type": "code",
   "execution_count": 14,
   "metadata": {
    "colab": {
     "base_uri": "https://localhost:8080/"
    },
    "executionInfo": {
     "elapsed": 222,
     "status": "ok",
     "timestamp": 1627818892679,
     "user": {
      "displayName": "Владимир Попов",
      "photoUrl": "https://lh3.googleusercontent.com/a-/AOh14GhmmWRUHxpJtOJtL-cAUWRTC2mi_nhK6jYL9K0CHA=s64",
      "userId": "11911063770407493537"
     },
     "user_tz": -180
    },
    "id": "V7UMOCtMcT5k",
    "outputId": "25f30ab4-a896-47ee-cae2-ba85e7a10482"
   },
   "outputs": [
    {
     "name": "stdout",
     "output_type": "stream",
     "text": [
      "\n",
      "> Dovesky\n",
      "(-0.69) Czech\n",
      "(-1.01) Russian\n",
      "(-3.05) English\n",
      "\n",
      "> Jackson\n",
      "(-0.66) Scottish\n",
      "(-1.11) English\n",
      "(-2.68) Russian\n",
      "\n",
      "> Satoshi\n",
      "(-1.29) Arabic\n",
      "(-1.52) Japanese\n",
      "(-1.58) Polish\n"
     ]
    }
   ],
   "source": [
    "def predict(input_line, n_predictions=3):\n",
    "    print('\\n> %s' % input_line)\n",
    "    with torch.no_grad():\n",
    "        output = evaluate(lineToTensor(input_line))\n",
    "\n",
    "        # Get top N categories\n",
    "        topv, topi = output.topk(n_predictions, 1, True)\n",
    "        predictions = []\n",
    "\n",
    "        for i in range(n_predictions):\n",
    "            value = topv[0][i].item()\n",
    "            category_index = topi[0][i].item()\n",
    "            print('(%.2f) %s' % (value, all_categories[category_index]))\n",
    "            predictions.append([value, all_categories[category_index]])\n",
    "\n",
    "predict('Dovesky')\n",
    "predict('Jackson')\n",
    "predict('Satoshi')"
   ]
  },
  {
   "cell_type": "markdown",
   "metadata": {
    "id": "JjfvZdrTcT5k"
   },
   "source": [
    "Упражнения\n",
    "=========\n",
    "\n",
    "- Попробуйте использовать другой набор данных строки -> категория, например:\n",
    "\n",
    "   - Любое слово -> язык\n",
    "   - Имя -> пол\n",
    "   - Имя персонажа -> писатель\n",
    "   - Заголовок страницы -> блог или субреддит\n",
    "\n",
    "- Получите лучшие результаты с помощью более крупной и/или более совершенной сети\n",
    "\n",
    "   - Добавьте больше линейных слоев\n",
    "   - Попробуйте слои `nn.LSTM` и `nn.GRU` .\n",
    "   - - Объедините несколько из этих запусков в сеть более высокого уровня\n"
   ]
  },
  {
   "cell_type": "markdown",
   "metadata": {
    "id": "rSJrxU1sldkQ"
   },
   "source": [
    "## Задание 1.\n",
    "Добавить еще один нейронный слой nn.Linear() в модель. Выполнить предсказание на данных, сравнить точность предсказаний по разным языкам, используя горячую матрицу. "
   ]
  },
  {
   "cell_type": "code",
   "execution_count": 15,
   "metadata": {
    "executionInfo": {
     "elapsed": 243,
     "status": "ok",
     "timestamp": 1627823208222,
     "user": {
      "displayName": "Владимир Попов",
      "photoUrl": "https://lh3.googleusercontent.com/a-/AOh14GhmmWRUHxpJtOJtL-cAUWRTC2mi_nhK6jYL9K0CHA=s64",
      "userId": "11911063770407493537"
     },
     "user_tz": -180
    },
    "id": "ggzKQNwlcT5l"
   },
   "outputs": [],
   "source": [
    "class RNN1(nn.Module):\n",
    "    def __init__(self, input_size, hidden_size, output_size):\n",
    "        super(RNN1, self).__init__()\n",
    "\n",
    "        self.hidden_size = hidden_size\n",
    "\n",
    "        self.i2h = nn.Linear(input_size + hidden_size, hidden_size)\n",
    "        self.i2h1 = nn.Linear(input_size + hidden_size, hidden_size)\n",
    "        self.i2o = nn.Linear(input_size + hidden_size, output_size)\n",
    "        self.softmax = nn.LogSoftmax(dim=1)\n",
    "\n",
    "    def forward(self, input, hidden):\n",
    "        combined = torch.cat((input, hidden), 1)\n",
    "        hidden = self.i2h(combined)\n",
    "        combined = torch.cat((input, hidden), 1)\n",
    "        hidden = self.i2h1(combined)\n",
    "        output = self.i2o(combined)\n",
    "        output = self.softmax(output)\n",
    "        return output, hidden\n",
    "\n",
    "    def initHidden(self):\n",
    "        return torch.zeros(1, self.hidden_size)\n",
    "\n",
    "n_hidden = 128\n",
    "rnn1 = RNN1(n_letters, n_hidden, n_categories)\n",
    "\n"
   ]
  },
  {
   "cell_type": "code",
   "execution_count": 16,
   "metadata": {
    "executionInfo": {
     "elapsed": 231,
     "status": "ok",
     "timestamp": 1627823293038,
     "user": {
      "displayName": "Владимир Попов",
      "photoUrl": "https://lh3.googleusercontent.com/a-/AOh14GhmmWRUHxpJtOJtL-cAUWRTC2mi_nhK6jYL9K0CHA=s64",
      "userId": "11911063770407493537"
     },
     "user_tz": -180
    },
    "id": "Y9Vvw67I0jRM"
   },
   "outputs": [],
   "source": [
    "learning_rate = 0.005\n",
    "\n",
    "def train1(category_tensor, line_tensor):\n",
    "    hidden = rnn1.initHidden()\n",
    "\n",
    "    rnn1.zero_grad()\n",
    "\n",
    "    for i in range(line_tensor.size()[0]):\n",
    "        output, hidden = rnn1(line_tensor[i], hidden)\n",
    "\n",
    "    loss = criterion(output, category_tensor)\n",
    "    loss.backward()\n",
    "\n",
    "    for p in rnn1.parameters():\n",
    "        p.data.add_(p.grad.data, alpha=-learning_rate)\n",
    "\n",
    "    return output, loss.item()"
   ]
  },
  {
   "cell_type": "code",
   "execution_count": 17,
   "metadata": {
    "colab": {
     "base_uri": "https://localhost:8080/"
    },
    "executionInfo": {
     "elapsed": 139723,
     "status": "ok",
     "timestamp": 1627823463549,
     "user": {
      "displayName": "Владимир Попов",
      "photoUrl": "https://lh3.googleusercontent.com/a-/AOh14GhmmWRUHxpJtOJtL-cAUWRTC2mi_nhK6jYL9K0CHA=s64",
      "userId": "11911063770407493537"
     },
     "user_tz": -180
    },
    "id": "71YBghLx1APM",
    "outputId": "a94ae1fa-8981-43bc-d3a2-6e56db9f856e"
   },
   "outputs": [
    {
     "name": "stdout",
     "output_type": "stream",
     "text": [
      "5000 5% (0m 11s) 2.6337 Petrezelka / Spanish ✗ (Czech)\n",
      "10000 10% (0m 28s) 2.0048 Kitchin / Irish ✗ (English)\n",
      "15000 15% (0m 59s) 0.2326 Kasaya / Japanese ✓\n",
      "20000 20% (1m 18s) 1.9576 Opova / Spanish ✗ (Czech)\n",
      "25000 25% (1m 29s) 1.1964 Alescio / Spanish ✗ (Italian)\n",
      "30000 30% (1m 41s) 3.0618 Giersig / Scottish ✗ (Czech)\n",
      "35000 35% (1m 51s) 0.6829 Pan / Chinese ✓\n",
      "40000 40% (2m 1s) 1.2905 Garcia / Spanish ✗ (Portuguese)\n",
      "45000 45% (2m 14s) 2.1248 Favero / Portuguese ✗ (Italian)\n",
      "50000 50% (2m 23s) 1.0996 O'Halloran / Irish ✓\n",
      "55000 55% (2m 32s) 0.8558 Wasem / Arabic ✓\n",
      "60000 60% (2m 41s) 7.2929 Melia / Spanish ✗ (English)\n",
      "65000 65% (2m 50s) 2.1992 Gordon / Dutch ✗ (Scottish)\n",
      "70000 70% (2m 59s) 0.2320 Ta / Vietnamese ✓\n",
      "75000 75% (3m 9s) 2.2020 Rios / Portuguese ✗ (Spanish)\n",
      "80000 80% (3m 17s) 2.8693 Barone / French ✗ (Italian)\n",
      "85000 85% (3m 26s) 0.7722 Monet / French ✓\n",
      "90000 90% (3m 35s) 0.9063 Simpson / Scottish ✓\n",
      "95000 95% (3m 47s) 0.7539 Ferro / Portuguese ✓\n",
      "100000 100% (3m 59s) 0.5968 Bach / Vietnamese ✓\n"
     ]
    }
   ],
   "source": [
    "import time\n",
    "import math\n",
    "\n",
    "n_iters = 100000\n",
    "print_every = 5000\n",
    "plot_every = 1000\n",
    "\n",
    "current_loss = 0\n",
    "all_losses = []\n",
    "\n",
    "def timeSince(since):\n",
    "    now = time.time()\n",
    "    s = now - since\n",
    "    m = math.floor(s / 60)\n",
    "    s -= m * 60\n",
    "    return '%dm %ds' % (m, s)\n",
    "\n",
    "start = time.time()\n",
    "\n",
    "for iter in range(1, n_iters + 1):\n",
    "    category, line, category_tensor, line_tensor = randomTrainingExample()\n",
    "    output, loss = train1(category_tensor, line_tensor)\n",
    "    current_loss += loss\n",
    "\n",
    "    if iter % print_every == 0:\n",
    "        guess, guess_i = categoryFromOutput(output)\n",
    "        correct = '✓' if guess == category else '✗ (%s)' % category\n",
    "        print('%d %d%% (%s) %.4f %s / %s %s' % (iter, iter / n_iters * 100, timeSince(start), loss, line, guess, correct))\n",
    "\n",
    "    if iter % plot_every == 0:\n",
    "        all_losses.append(current_loss / plot_every)\n",
    "        current_loss = 0"
   ]
  },
  {
   "cell_type": "code",
   "execution_count": 18,
   "metadata": {
    "colab": {
     "base_uri": "https://localhost:8080/",
     "height": 320
    },
    "executionInfo": {
     "elapsed": 7190,
     "status": "ok",
     "timestamp": 1627823583594,
     "user": {
      "displayName": "Владимир Попов",
      "photoUrl": "https://lh3.googleusercontent.com/a-/AOh14GhmmWRUHxpJtOJtL-cAUWRTC2mi_nhK6jYL9K0CHA=s64",
      "userId": "11911063770407493537"
     },
     "user_tz": -180
    },
    "id": "TCovtArh2AQ8",
    "outputId": "8e67ffb7-57d6-4e5e-fec5-f753ca8aa195"
   },
   "outputs": [
    {
     "name": "stderr",
     "output_type": "stream",
     "text": [
      "/var/folders/81/y47jjh9s7yzcqp46xzsyj5_00000gn/T/ipykernel_11302/2033656587.py:27: UserWarning: FixedFormatter should only be used together with FixedLocator\n",
      "  ax.set_xticklabels([''] + all_categories, rotation=90)\n",
      "/var/folders/81/y47jjh9s7yzcqp46xzsyj5_00000gn/T/ipykernel_11302/2033656587.py:28: UserWarning: FixedFormatter should only be used together with FixedLocator\n",
      "  ax.set_yticklabels([''] + all_categories)\n"
     ]
    },
    {
     "data": {
      "image/png": "[encoded data removed]",
      "text/plain": [
       "<Figure size 640x480 with 2 Axes>"
      ]
     },
     "metadata": {},
     "output_type": "display_data"
    }
   ],
   "source": [
    "confusion = torch.zeros(n_categories, n_categories)\n",
    "n_confusion = 10000\n",
    "\n",
    "def evaluate(line_tensor):\n",
    "    hidden = rnn1.initHidden()\n",
    "\n",
    "    for i in range(line_tensor.size()[0]):\n",
    "        output, hidden = rnn1(line_tensor[i], hidden)\n",
    "\n",
    "    return output\n",
    "\n",
    "for i in range(n_confusion):\n",
    "    category, line, category_tensor, line_tensor = randomTrainingExample()\n",
    "    output = evaluate(line_tensor)\n",
    "    guess, guess_i = categoryFromOutput(output)\n",
    "    category_i = all_categories.index(category)\n",
    "    confusion[category_i][guess_i] += 1\n",
    "\n",
    "for i in range(n_categories):\n",
    "    confusion[i] = confusion[i] / confusion[i].sum()\n",
    "\n",
    "fig = plt.figure()\n",
    "ax = fig.add_subplot(111)\n",
    "cax = ax.matshow(confusion.numpy())\n",
    "fig.colorbar(cax)\n",
    "\n",
    "ax.set_xticklabels([''] + all_categories, rotation=90)\n",
    "ax.set_yticklabels([''] + all_categories)\n",
    "\n",
    "ax.xaxis.set_major_locator(ticker.MultipleLocator(1))\n",
    "ax.yaxis.set_major_locator(ticker.MultipleLocator(1))\n",
    "\n",
    "plt.show()"
   ]
  },
  {
   "cell_type": "markdown",
   "metadata": {},
   "source": [
    "# Задание 2.\n",
    "Добавьте в модель слой nn.LSTM() посмотрите влияние его на матрицу неточностей."
   ]
  },
  {
   "cell_type": "code",
   "execution_count": 4,
   "metadata": {},
   "outputs": [],
   "source": [
    "import torch\n",
    "import torch.nn as nn\n",
    "\n",
    "class RNN2(nn.Module):\n",
    "    def __init__(self, input_size, hidden_size, output_size):\n",
    "        super(RNN2, self).__init__()\n",
    "\n",
    "        self.hidden_size = hidden_size\n",
    "\n",
    "        self.lstm = nn.LSTM(input_size, hidden_size)\n",
    "        self.i2h = nn.Linear(hidden_size, hidden_size)\n",
    "        self.i2h1 = nn.Linear(hidden_size + input_size, hidden_size)\n",
    "        self.i2o = nn.Linear(hidden_size, output_size)\n",
    "        self.softmax = nn.LogSoftmax(dim=1)\n",
    "\n",
    "    def forward(self, input, hidden):\n",
    "        lstm_out, hidden = self.lstm(input.view(1, 1, -1), hidden)\n",
    "        output = lstm_out.view(1, -1)\n",
    "        hidden_state, cell_state = hidden  \n",
    "        hidden_state = hidden_state.view(1, 1, -1)  \n",
    "        hidden_state = self.i2h(hidden_state)\n",
    "        combined = torch.cat((input.view(1, -1), hidden_state.view(1, -1)), 1)  \n",
    "        hidden_state = self.i2h1(combined)\n",
    "        output = self.i2o(hidden_state)\n",
    "        output = self.softmax(output)\n",
    "        hidden = (hidden_state.view(1, 1, -1), cell_state) \n",
    "        return output, hidden\n",
    "\n",
    "    def initHidden(self):\n",
    "        return (torch.zeros(1, 1, self.hidden_size), torch.zeros(1, 1, self.hidden_size))\n",
    "\n",
    "n_hidden = 128\n",
    "rnn2 = RNN2(n_letters, n_hidden, n_categories)"
   ]
  },
  {
   "cell_type": "code",
   "execution_count": 5,
   "metadata": {},
   "outputs": [],
   "source": [
    "learning_rate = 0.001\n",
    "\n",
    "def train2(category_tensor, line_tensor):\n",
    "    hidden = rnn2.initHidden()\n",
    "\n",
    "    rnn2.zero_grad()\n",
    "\n",
    "    for i in range(line_tensor.size()[0]):\n",
    "        output, hidden = rnn2(line_tensor[i], hidden)\n",
    "\n",
    "    loss = criterion(output, category_tensor)\n",
    "    loss.backward()\n",
    "\n",
    "    for p in rnn2.parameters():\n",
    "        p.data.add_(p.grad.data, alpha=-learning_rate)\n",
    "\n",
    "    return output, loss.item()"
   ]
  },
  {
   "cell_type": "code",
   "execution_count": 16,
   "metadata": {},
   "outputs": [
    {
     "name": "stdout",
     "output_type": "stream",
     "text": [
      "5000 5% (0m 34s) 0.8629 Teshima / Japanese ✓\n",
      "10000 10% (1m 10s) 1.1398 Filipek / Polish ✓\n",
      "15000 15% (1m 45s) 5.9239 Padovan / Irish ✗ (Italian)\n",
      "20000 20% (2m 21s) 1.1683 Quach / Vietnamese ✓\n",
      "25000 25% (2m 56s) 1.2952 Chang / Chinese ✗ (Korean)\n",
      "30000 30% (3m 31s) 2.2799 Harman / Irish ✗ (French)\n",
      "35000 35% (4m 0s) 2.0879 Horn / Irish ✗ (Dutch)\n",
      "40000 40% (4m 27s) 1.5133 Roach / Irish ✓\n",
      "45000 45% (4m 55s) 1.3619 Tighearnach / Irish ✓\n",
      "50000 50% (5m 23s) 1.4741 Le / Chinese ✗ (Vietnamese)\n",
      "55000 55% (5m 50s) 1.3911 Lane / French ✓\n",
      "60000 60% (6m 18s) 3.8777 Roldan / Scottish ✗ (Spanish)\n",
      "65000 65% (6m 46s) 0.8878 Mo / Korean ✓\n",
      "70000 70% (7m 14s) 2.0362 Bell / Dutch ✗ (English)\n",
      "75000 75% (7m 41s) 1.3334 Sortras / Portuguese ✗ (Greek)\n",
      "80000 80% (8m 9s) 0.7111 Yoo / Korean ✓\n",
      "85000 85% (8m 37s) 0.2218 Gomatos / Greek ✓\n",
      "90000 90% (38m 49s) 0.0185 Grokhov / Russian ✓\n",
      "95000 95% (39m 25s) 2.0689 Hill / Czech ✗ (Scottish)\n",
      "100000 100% (39m 54s) 0.5966 Melendez / Spanish ✓\n"
     ]
    }
   ],
   "source": [
    "import time\n",
    "import math\n",
    "\n",
    "n_iters = 100000\n",
    "print_every = 5000\n",
    "plot_every = 1000\n",
    "\n",
    "current_loss = 0\n",
    "all_losses = []\n",
    "\n",
    "def timeSince(since):\n",
    "    now = time.time()\n",
    "    s = now - since\n",
    "    m = math.floor(s / 60)\n",
    "    s -= m * 60\n",
    "    return '%dm %ds' % (m, s)\n",
    "\n",
    "start = time.time()\n",
    "\n",
    "for iter in range(1, n_iters + 1):\n",
    "    category, line, category_tensor, line_tensor = randomTrainingExample()\n",
    "    output, loss = train2(category_tensor, line_tensor)\n",
    "    current_loss += loss\n",
    "\n",
    "    if iter % print_every == 0:\n",
    "        guess, guess_i = categoryFromOutput(output)\n",
    "        correct = '✓' if guess == category else '✗ (%s)' % category\n",
    "        print('%d %d%% (%s) %.4f %s / %s %s' % (iter, iter / n_iters * 100, timeSince(start), loss, line, guess, correct))\n",
    "\n",
    "    if iter % plot_every == 0:\n",
    "        all_losses.append(current_loss / plot_every)\n",
    "        current_loss = 0"
   ]
  },
  {
   "cell_type": "code",
   "execution_count": 17,
   "metadata": {},
   "outputs": [
    {
     "data": {
      "text/plain": [
       "[<matplotlib.lines.Line2D at 0x133d1bbe0>]"
      ]
     },
     "execution_count": 17,
     "metadata": {},
     "output_type": "execute_result"
    },
    {
     "data": {
      "image/png": "[encoded data removed]",
      "text/plain": [
       "<Figure size 640x480 with 1 Axes>"
      ]
     },
     "metadata": {},
     "output_type": "display_data"
    }
   ],
   "source": [
    "import matplotlib.pyplot as plt\n",
    "import matplotlib.ticker as ticker\n",
    "\n",
    "plt.figure()\n",
    "plt.plot(all_losses)"
   ]
  },
  {
   "cell_type": "code",
   "execution_count": 18,
   "metadata": {},
   "outputs": [
    {
     "name": "stderr",
     "output_type": "stream",
     "text": [
      "/var/folders/81/y47jjh9s7yzcqp46xzsyj5_00000gn/T/ipykernel_11618/2295856914.py:27: UserWarning: FixedFormatter should only be used together with FixedLocator\n",
      "  ax.set_xticklabels([''] + all_categories, rotation=90)\n",
      "/var/folders/81/y47jjh9s7yzcqp46xzsyj5_00000gn/T/ipykernel_11618/2295856914.py:28: UserWarning: FixedFormatter should only be used together with FixedLocator\n",
      "  ax.set_yticklabels([''] + all_categories)\n"
     ]
    },
    {
     "data": {
      "image/png": "[encoded data removed]",
      "text/plain": [
       "<Figure size 640x480 with 2 Axes>"
      ]
     },
     "metadata": {},
     "output_type": "display_data"
    }
   ],
   "source": [
    "confusion = torch.zeros(n_categories, n_categories)\n",
    "n_confusion = 10000\n",
    "\n",
    "def evaluate(line_tensor):\n",
    "    hidden = rnn2.initHidden()\n",
    "\n",
    "    for i in range(line_tensor.size()[0]):\n",
    "        output, hidden = rnn2(line_tensor[i], hidden)\n",
    "\n",
    "    return output\n",
    "\n",
    "for i in range(n_confusion):\n",
    "    category, line, category_tensor, line_tensor = randomTrainingExample()\n",
    "    output = evaluate(line_tensor)\n",
    "    guess, guess_i = categoryFromOutput(output)\n",
    "    category_i = all_categories.index(category)\n",
    "    confusion[category_i][guess_i] += 1\n",
    "\n",
    "for i in range(n_categories):\n",
    "    confusion[i] = confusion[i] / confusion[i].sum()\n",
    "\n",
    "fig = plt.figure()\n",
    "ax = fig.add_subplot(111)\n",
    "cax = ax.matshow(confusion.numpy())\n",
    "fig.colorbar(cax)\n",
    "\n",
    "ax.set_xticklabels([''] + all_categories, rotation=90)\n",
    "ax.set_yticklabels([''] + all_categories)\n",
    "\n",
    "ax.xaxis.set_major_locator(ticker.MultipleLocator(1))\n",
    "ax.yaxis.set_major_locator(ticker.MultipleLocator(1))\n",
    "\n",
    "plt.show()"
   ]
  },
  {
   "cell_type": "code",
   "execution_count": null,
   "metadata": {},
   "outputs": [],
   "source": []
  },
  {
   "cell_type": "code",
   "execution_count": null,
   "metadata": {},
   "outputs": [],
   "source": []
  }
 ],
 "metadata": {
  "colab": {
   "name": "char_rnn_classification_tutorial.ipynb",
   "provenance": []
  },
  "kernelspec": {
   "display_name": "Python 3 (ipykernel)",
   "language": "python",
   "name": "python3"
  },
  "language_info": {
   "codemirror_mode": {
    "name": "ipython",
    "version": 3
   },
   "file_extension": ".py",
   "mimetype": "text/x-python",
   "name": "python",
   "nbconvert_exporter": "python",
   "pygments_lexer": "ipython3",
   "version": "3.10.7"
  },
  "nbTranslate": {
   "displayLangs": [
    "*"
   ],
   "hotkey": "alt-t",
   "langInMainMenu": true,
   "sourceLang": "en",
   "targetLang": "fr",
   "useGoogleTranslate": true
  }
 },
 "nbformat": 4,
 "nbformat_minor": 4
}
