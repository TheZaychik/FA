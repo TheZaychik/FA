{
 "cells": [
  {
   "cell_type": "markdown",
   "metadata": {},
   "source": [
    "# Зайцев Н. ПИ20-1В"
   ]
  },
  {
   "cell_type": "markdown",
   "metadata": {
    "id": "L0DQCDMDGTHX"
   },
   "source": [
    "\n",
    "<h1 align = 'center'>Создание имен при помощи RNN, обучаемой на буквах </h1>\n",
    "\n",
    "\n",
    "**Перевод статьи**: <a href = https://github.com/spro/practical-pytorch>`Sean Robertson` </a>\n",
    "\n",
    "В предыдущей тетради использовалась RNN для классификации имен по языку их происхождения. На этот раз мы изучим использование RNN для создания имен по языку. То есть создадим программу подобную sample.py:\n",
    "\n",
    "::\n",
    "\n",
    "    > python sample.py Russian RUS\n",
    "    Rovakov\n",
    "    Uantov\n",
    "    Shavakov\n",
    "\n",
    "    > python sample.py German GER\n",
    "    Gerren\n",
    "    Ereng\n",
    "    Rosher\n",
    "\n",
    "    > python sample.py Spanish SPA\n",
    "    Salla\n",
    "    Parer\n",
    "    Allan\n",
    "\n",
    "    > python sample.py Chinese CHI\n",
    "    Chan\n",
    "    Hang\n",
    "    Iun\n",
    "\n",
    "Мы все еще создаем вручную небольшую RNN с несколькими линейными слоями. Большая\n",
    "разница заключается в том, что вместо того, чтобы предсказывать категорию после прочтения всех букв имени, мы вводим категорию и выводим по одной букве за раз.\n",
    "В настоящее время предсказание символов для формирования языка (это также может быть сделано со словами или другими конструкциями более высокого порядка) часто\n",
    "называют \"языковой моделью\".\n",
    "\n",
    "\n",
    "Подготовка данных\n",
    "==================\n",
    "\n",
    ".. Напоминание::\n",
    "   Данные можно скачать <a href = https://download.pytorch.org/tutorial/data.zip> отсюда</a> и извлечь их в текущую директорию.\n",
    "\n",
    "Более подробную информацию об этом процессе см. в предыдущей тетради. Короче говоря, есть набор простых текстовых файлов `data /names /[Language].txt` с\n",
    "именем в строке. Мы разбиваем строки на массив, преобразуем Unicode в ASCII\n",
    "и получаем словарь `{language: [names ...]}`."
   ]
  },
  {
   "cell_type": "code",
   "execution_count": 2,
   "metadata": {
    "colab": {
     "base_uri": "https://localhost:8080/"
    },
    "id": "cQFkIVrNGTHa",
    "outputId": "c075562c-93e0-475c-9e88-3a5d49cb0bec"
   },
   "outputs": [
    {
     "name": "stdout",
     "output_type": "stream",
     "text": [
      "# категории: 18 ['Czech', 'German', 'Arabic', 'Japanese', 'Chinese', 'Vietnamese', 'Russian', 'French', 'Irish', 'English', 'Spanish', 'Greek', 'Italian', 'Portuguese', 'Scottish', 'Dutch', 'Korean', 'Polish']\n",
      "O'Neal\n"
     ]
    }
   ],
   "source": [
    "from __future__ import unicode_literals, print_function, division\n",
    "from io import open\n",
    "import glob\n",
    "import os\n",
    "import unicodedata\n",
    "import string\n",
    "\n",
    "all_letters = string.ascii_letters + \" .,;'-\"\n",
    "n_letters = len(all_letters) + 1 # Plus EOS marker\n",
    "\n",
    "def findFiles(path): return glob.glob(path)\n",
    "\n",
    "# Перегон Unicode строки в прямой ASCII, код из https://stackoverflow.com/a/518232/2809427\n",
    "def unicodeToAscii(s):\n",
    "    return ''.join(\n",
    "        c for c in unicodedata.normalize('NFD', s)\n",
    "        if unicodedata.category(c) != 'Mn'\n",
    "        and c in all_letters\n",
    "    )\n",
    "\n",
    "# Чтение файла и разбивка на строки, т.е. имена\n",
    "def readLines(filename):\n",
    "    with open(filename, encoding='utf-8') as some_file:\n",
    "        return [unicodeToAscii(line.strip()) for line in some_file]\n",
    "\n",
    "# Создание словаря category_lines, список имен под ключом - языковой категорией\n",
    "category_lines = {}\n",
    "all_categories = []\n",
    "for filename in findFiles('data/names/*.txt'):\n",
    "    category = os.path.splitext(os.path.basename(filename))[0]\n",
    "    all_categories.append(category)\n",
    "    lines = readLines(filename)\n",
    "    category_lines[category] = lines\n",
    "\n",
    "n_categories = len(all_categories)\n",
    "\n",
    "if n_categories == 0:\n",
    "    raise RuntimeError('Данные не найдены, убедитесь в правильной загрузке.'\n",
    "        'из https://download.pytorch.org/tutorial/data.zip и извлеките в'\n",
    "        'текущую директорию.')\n",
    "\n",
    "print('# категории:', n_categories, all_categories)\n",
    "print(unicodeToAscii(\"O'Néàl\"))"
   ]
  },
  {
   "cell_type": "markdown",
   "metadata": {
    "id": "sjABbFfCGTHc"
   },
   "source": [
    "Создание RNN\n",
    "====================\n",
    "Эта сеть расширяет RNN классификации с дополнительным аргументом для тензора категории, который объединяется вместе с другими. Тензор категории - это одномерный вектор, такой же, как и ввод букв.\n",
    "\n",
    "На выходе мы будем ожидать вероятность следующей буквы. При генерации наиболее вероятная буква будет использована как следующая.\n",
    "\n",
    "Я добавил второй линейный слой `o2o` (после использования скрытого и\n",
    "выходного), чтобы придать ему больше возможностей для работы. Существует также <a href = https://arxiv.org/abs/1207.0580>Dropout</a> слой, который случайным образом обнуляет части своих входных данных с заданной вероятностью\n",
    "(здесь 0, 1) и обычно используется для размытия входных данных, чтобы предотвратить переобучение. Здесь мы используем его ближе к концу сети, чтобы намеренно добавить немного хаоса и увеличить разнообразие выборки.\n",
    "\n",
    "Рис. 1:: <a href =https://i.imgur.com/jzVrf7f.png > Aрхитектура сети </a> \n",
    "   :alt:\n",
    "\n",
    "\n",
    "\n"
   ]
  },
  {
   "cell_type": "code",
   "execution_count": 20,
   "metadata": {
    "id": "oquoEqt1GTHe"
   },
   "outputs": [],
   "source": [
    "import torch\n",
    "import torch.nn as nn\n",
    "\n",
    "class RNN(nn.Module):\n",
    "    def __init__(self, input_size, hidden_size, output_size):\n",
    "        super(RNN, self).__init__()\n",
    "        self.hidden_size = hidden_size\n",
    "\n",
    "        self.i2h = nn.Linear(n_categories + input_size + hidden_size, hidden_size)\n",
    "        self.i2o = nn.Linear(n_categories + input_size + hidden_size, output_size)\n",
    "        self.o2o = nn.Linear(hidden_size + output_size, output_size)\n",
    "        self.dropout = nn.Dropout(0.1)\n",
    "        self.softmax = nn.LogSoftmax(dim=1)\n",
    "\n",
    "    def forward(self, category, input, hidden):\n",
    "        input_combined = torch.cat((category, input, hidden), 1)\n",
    "        hidden = self.i2h(input_combined)\n",
    "        output = self.i2o(input_combined)\n",
    "        output_combined = torch.cat((hidden, output), 1)\n",
    "        output = self.o2o(output_combined)\n",
    "        output = self.dropout(output)\n",
    "        output = self.softmax(output)\n",
    "        return output, hidden\n",
    "\n",
    "    def initHidden(self):\n",
    "        return torch.zeros(1, self.hidden_size)\n",
    "    \n",
    "rnn = RNN(n_letters, 128, n_letters)"
   ]
  },
  {
   "cell_type": "markdown",
   "metadata": {
    "id": "OTlDm0R8GTHe"
   },
   "source": [
    "Обучение\n",
    "=========\n",
    "Подготовка к обучению\n",
    "----------------------\n",
    "Прежде всего, вспомогательные функции для получения случайных пар (category - язык, line - имя):\n",
    "\n",
    "\n"
   ]
  },
  {
   "cell_type": "code",
   "execution_count": 3,
   "metadata": {
    "id": "Q6LjBYHkGTHf"
   },
   "outputs": [],
   "source": [
    "import random\n",
    "\n",
    "# Случайный выбор из списка\n",
    "def randomChoice(l):\n",
    "    return l[random.randint(0, len(l) - 1)]\n",
    "\n",
    "# Выбор случайного языка и случайного имени\n",
    "def randomTrainingPair():\n",
    "    category = randomChoice(all_categories)\n",
    "    line = randomChoice(category_lines[category])\n",
    "    return category, line"
   ]
  },
  {
   "cell_type": "markdown",
   "metadata": {
    "id": "_TNAtv30GTHg"
   },
   "source": [
    "Для каждого временного шага (то есть для каждой буквы в обучающем слове) входными данными сети будут `(category, current letter, hidden state)`, а выходными данными будут `(next letter, next hidden state)`. Таким образом, для каждого обучающего набора нам понадобится категория, набор входных букв и набор выходных / целевых букв.\n",
    "\n",
    "Поскольку мы предсказываем следующую букву из текущей буквы для каждого временного шага, пары букв представляют собой группы последовательных букв из строки - например, для `\"ABCD<EOS>\"` мы бы создали (\"A\", \"B\"), (\"B\", \"C\"), (\"C\", \"D\"), (\"D\", \"EOS\").\n",
    "\n",
    "Рис. 2 :: <a href = https://i.imgur.com/JH58tXY.png> Каспаров </a> \n",
    "\n",
    "Тензор категории - это `one-hot`\n",
    "<a href = https://en.wikipedia.org/wiki/One-hot>тензор </a> размера\n",
    "`<1 x n_categories>`. При обучении мы передаем его в сеть на каждом\n",
    "временном шаге - это выбор дизайна, он мог быть включен как часть\n",
    "начального скрытого состояния или какой-либо другой стратегии.\n",
    "\n"
   ]
  },
  {
   "cell_type": "code",
   "execution_count": 4,
   "metadata": {
    "id": "mrqOhhJ5GTHh"
   },
   "outputs": [],
   "source": [
    "# One-hot вектор для категорий\n",
    "def categoryTensor(category):\n",
    "    li = all_categories.index(category)\n",
    "    tensor = torch.zeros(1, n_categories)\n",
    "    tensor[0][li] = 1\n",
    "    return tensor\n",
    "\n",
    "# One-hot матрица от первой до последней буквы (не включая EOS) для ввода\n",
    "def inputTensor(line):\n",
    "    tensor = torch.zeros(len(line), 1, n_letters)\n",
    "    for li in range(len(line)):\n",
    "        letter = line[li]\n",
    "        tensor[li][0][all_letters.find(letter)] = 1\n",
    "    return tensor\n",
    "\n",
    "# Тензор типа Long второй буквы до конца (EOS) для целевой буквы\n",
    "def targetTensor(line):\n",
    "    letter_indexes = [all_letters.find(line[li]) for li in range(1, len(line))]\n",
    "    letter_indexes.append(n_letters - 1) # EOS\n",
    "    return torch.LongTensor(letter_indexes)"
   ]
  },
  {
   "cell_type": "markdown",
   "metadata": {
    "id": "mkj4O0c-GTHh"
   },
   "source": [
    "Для удобства во время обучения мы создадим функцию `randomTrainingExample`\n",
    ", которая извлекает случайную пару (category, line) и превращает их в\n",
    "требуемые (category, input, target) тензоры.\n",
    "\n",
    "\n"
   ]
  },
  {
   "cell_type": "code",
   "execution_count": 5,
   "metadata": {
    "id": "WddiG88eGTHi"
   },
   "outputs": [],
   "source": [
    "# Создадим category, input, and target тензоры из произвольной пары category, line.\n",
    "def randomTrainingExample():\n",
    "    category, line = randomTrainingPair()\n",
    "    category_tensor = categoryTensor(category)\n",
    "    input_line_tensor = inputTensor(line)\n",
    "    target_line_tensor = targetTensor(line)\n",
    "    return category_tensor, input_line_tensor, target_line_tensor"
   ]
  },
  {
   "cell_type": "markdown",
   "metadata": {
    "id": "CH-bXohrGTHi"
   },
   "source": [
    "Обучение сети\n",
    "--------------------\n",
    "\n",
    "В отличие от классификации, где используется только последний результат, мы\n",
    "делаем прогноз на каждом шаге, поэтому мы рассчитываем потери на\n",
    "каждом шаге.\n",
    "\n",
    "Магия autograd позволяет вам просто суммировать эти потери на каждом шаге\n",
    "и вызывать обратный вызов в конце.\n",
    "\n",
    "\n"
   ]
  },
  {
   "cell_type": "code",
   "execution_count": 6,
   "metadata": {
    "id": "1eOxFOStGTHj"
   },
   "outputs": [],
   "source": [
    "criterion = nn.NLLLoss()\n",
    "\n",
    "learning_rate = 0.0005\n",
    "\n",
    "def train(category_tensor, input_line_tensor, target_line_tensor):\n",
    "    target_line_tensor.unsqueeze_(-1)\n",
    "    hidden = rnn.initHidden()\n",
    "\n",
    "    rnn.zero_grad()\n",
    "\n",
    "    loss = 0\n",
    "\n",
    "    for i in range(input_line_tensor.size(0)):\n",
    "        output, hidden = rnn(category_tensor, input_line_tensor[i], hidden)\n",
    "        l = criterion(output, target_line_tensor[i])\n",
    "        loss += l\n",
    "\n",
    "    loss.backward()\n",
    "\n",
    "    for p in rnn.parameters():\n",
    "        p.data.add_(p.grad.data, alpha=-learning_rate)\n",
    "\n",
    "    return output, loss.item() / input_line_tensor.size(0)"
   ]
  },
  {
   "cell_type": "markdown",
   "metadata": {
    "id": "Z1Nwq68TGTHj"
   },
   "source": [
    "Чтобы отслеживать, сколько времени занимает обучение, я добавляю функцию `timeSince(timestamp)`, которая возвращает удобочитаемую строку:\n",
    "\n"
   ]
  },
  {
   "cell_type": "code",
   "execution_count": 16,
   "metadata": {
    "id": "anyDbgrMGTHj"
   },
   "outputs": [],
   "source": [
    "import time\n",
    "import math\n",
    "\n",
    "def timeSince(since):\n",
    "    now = time.time()\n",
    "    s = now - since\n",
    "    m = math.floor(s / 60)\n",
    "    s -= m * 60\n",
    "    return '%dm %ds' % (m, s)"
   ]
  },
  {
   "cell_type": "markdown",
   "metadata": {
    "id": "YGetiXFdGTHk"
   },
   "source": [
    "Обучение идет как обычно - вызывайте train несколько раз и ждите\n",
    "несколько минут, выводя текущее время и ошибку каждый `print_every`\n",
    "и сохранение средних потерь в `all_losses` по выборке `plot_every` для дальнейшей визуализации.\n",
    "\n"
   ]
  },
  {
   "cell_type": "code",
   "execution_count": 11,
   "metadata": {
    "colab": {
     "base_uri": "https://localhost:8080/"
    },
    "id": "nz8gvEYKGTHk",
    "outputId": "7b2f5cef-c0ca-46ec-a86b-7c6c3da195f8"
   },
   "outputs": [
    {
     "name": "stdout",
     "output_type": "stream",
     "text": [
      "0m 16s (5000 5%) 2.0768\n",
      "0m 36s (10000 10%) 2.4449\n",
      "0m 55s (15000 15%) 2.3335\n",
      "1m 14s (20000 20%) 2.2628\n",
      "1m 33s (25000 25%) 2.4514\n",
      "1m 52s (30000 30%) 2.3824\n",
      "2m 11s (35000 35%) 1.9967\n",
      "2m 28s (40000 40%) 1.2850\n",
      "2m 44s (45000 45%) 1.8486\n",
      "3m 0s (50000 50%) 1.6170\n",
      "3m 15s (55000 55%) 2.3368\n",
      "3m 34s (60000 60%) 2.0388\n",
      "3m 53s (65000 65%) 2.2986\n",
      "4m 19s (70000 70%) 1.9789\n",
      "4m 36s (75000 75%) 2.1961\n",
      "4m 53s (80000 80%) 1.9242\n",
      "5m 8s (85000 85%) 2.4122\n",
      "5m 24s (90000 90%) 2.6929\n",
      "5m 40s (95000 95%) 2.6100\n",
      "5m 55s (100000 100%) 3.2491\n"
     ]
    }
   ],
   "source": [
    "n_iters = 100000\n",
    "print_every = 5000\n",
    "plot_every = 500\n",
    "all_losses = []\n",
    "total_loss = 0 # Счетчик потерь обнуляется каждые plot_every итераций\n",
    "\n",
    "start = time.time()\n",
    "\n",
    "for iter in range(1, n_iters + 1):\n",
    "    output, loss = train(*randomTrainingExample())\n",
    "    total_loss += loss\n",
    "\n",
    "    if iter % print_every == 0:\n",
    "        print('%s (%d %d%%) %.4f' % (timeSince(start), iter, iter / n_iters * 100, loss))\n",
    "\n",
    "    if iter % plot_every == 0:\n",
    "        all_losses.append(total_loss / plot_every)\n",
    "        total_loss = 0"
   ]
  },
  {
   "cell_type": "markdown",
   "metadata": {
    "id": "9ICoGKIWGTHk"
   },
   "source": [
    "Визуализация ошибки\n",
    "-------------------\n",
    "Построение графика потерь `all_losses` за историю обучения показывает, что сеть\n",
    "обучается:\n",
    "\n"
   ]
  },
  {
   "cell_type": "code",
   "execution_count": 12,
   "metadata": {
    "colab": {
     "base_uri": "https://localhost:8080/",
     "height": 282
    },
    "id": "9HmcVw9UGTHk",
    "outputId": "8f943a69-8795-4a25-cd26-4145e9c2e648"
   },
   "outputs": [
    {
     "data": {
      "text/plain": [
       "[<matplotlib.lines.Line2D at 0x1328b14b0>]"
      ]
     },
     "execution_count": 12,
     "metadata": {},
     "output_type": "execute_result"
    },
    {
     "data": {
      "image/png": "[encoded data removed]",
      "text/plain": [
       "<Figure size 640x480 with 1 Axes>"
      ]
     },
     "metadata": {},
     "output_type": "display_data"
    }
   ],
   "source": [
    "import matplotlib.pyplot as plt\n",
    "\n",
    "plt.figure()\n",
    "plt.plot(all_losses)"
   ]
  },
  {
   "cell_type": "markdown",
   "metadata": {
    "id": "NFg2X1UTGTHl"
   },
   "source": [
    "Проверка сети\n",
    "====================\n",
    "\n",
    "Для выборки мы даем сети букву и спрашиваем, какая следующая буква,\n",
    "вводим ее в качестве следующей буквы и повторяем до тех пор, пока не появится токен EOS.\n",
    "\n",
    "- Создание тензоров для категории ввода, начальной буквы и пустого скрытого\n",
    "состояния\n",
    "- Создайте строку `output_name` с начальной буквой\n",
    "- До максимальной выходной длины,\n",
    "\n",
    "   - Передать текущую букву в в сеть\n",
    "   - Получить следующую букву с самого высокого выходного значения и следующее скрытое состояние\n",
    "   - Если буква EOS, остановитесь здесь\n",
    "   - Если обычная буква, добавьте в `output_name` и продолжайте\n",
    "\n",
    "- Верните окончательное имя\n",
    "\n",
    ".. Примечание::\n",
    "   Вместо того, чтобы указывать ему начальную букву, другой\n",
    "стратегией было бы включить в обучение токен `start of string`\n",
    "и заставить сеть выбрать свою собственную начальную букву.\n",
    "\n"
   ]
  },
  {
   "cell_type": "code",
   "execution_count": 13,
   "metadata": {
    "colab": {
     "base_uri": "https://localhost:8080/"
    },
    "id": "b1oOSuj1GTHl",
    "outputId": "128d36e6-b49b-44a7-8f4b-1a579f7eb174"
   },
   "outputs": [
    {
     "name": "stdout",
     "output_type": "stream",
     "text": [
      "category: Russian, start_letter: R, name: Rokalovek\n",
      "category: Russian, start_letter: U, name: Uakher\n",
      "category: Russian, start_letter: S, name: Shakin\n",
      "\n",
      "category: German, start_letter: G, name: Gres\n",
      "category: German, start_letter: E, name: Eres\n",
      "category: German, start_letter: R, name: Rosher\n",
      "\n",
      "category: Spanish, start_letter: S, name: Seriera\n",
      "category: Spanish, start_letter: P, name: Paner\n",
      "category: Spanish, start_letter: A, name: Alara\n",
      "\n",
      "category: Chinese, start_letter: C, name: Chan\n",
      "category: Chinese, start_letter: H, name: Han\n",
      "category: Chinese, start_letter: I, name: Iun\n",
      "\n"
     ]
    }
   ],
   "source": [
    "max_length = 20\n",
    "\n",
    "# Выборка на основе category и начальной буквы start_letter\n",
    "def sample(category, start_letter='A'):\n",
    "    with torch.no_grad():  # нет необходимости настройки весов при генерации букв\n",
    "        category_tensor = categoryTensor(category)\n",
    "        input = inputTensor(start_letter)\n",
    "        hidden = rnn.initHidden()\n",
    "\n",
    "        output_name = start_letter\n",
    "\n",
    "        for i in range(max_length):\n",
    "            output, hidden = rnn(category_tensor, input[0], hidden)\n",
    "            topv, topi = output.topk(1)\n",
    "            topi = topi[0][0]\n",
    "            if topi == n_letters - 1:\n",
    "                break\n",
    "            else:\n",
    "                letter = all_letters[topi]\n",
    "                output_name += letter\n",
    "            input = inputTensor(letter)\n",
    "\n",
    "        return output_name\n",
    "\n",
    "# Генерация множества выборок из одной категории и множества начальных букв\n",
    "def samples(category, start_letters='ABC'):\n",
    "    for start_letter in start_letters:\n",
    "        print(\"category: \" + category + \", start_letter: \" + start_letter + \", name: \" + sample(category, start_letter))\n",
    "    print()\n",
    "\n",
    "samples('Russian', 'RUS')\n",
    "samples('German', 'GER')\n",
    "samples('Spanish', 'SPA')\n",
    "samples('Chinese', 'CHI')"
   ]
  },
  {
   "cell_type": "markdown",
   "metadata": {
    "id": "tglNNuneGTHm"
   },
   "source": [
    "Упражнения\n",
    "=========\n",
    "\n",
    "- Попробуйте использовать другой набор данных category -> line, например:\n",
    "\n",
    "   - Вымышленный сериал -> Имя персонажа\n",
    "   - Часть речи -> Слово\n",
    "   - Страна -> Город\n",
    "\n",
    "- Используйте маркер \"начало предложения\", чтобы выборка могла быть выполнена без выбора начальной буквы\n",
    "- Получите лучшие результаты с помощью сети большего размера и / или лучшей формы\n",
    "\n",
    "   - Попробуйте nn.LSTM и nn.GRU\n",
    "   - - Объедините несколько таких запусков в сеть более высокого уровня\n",
    "\n"
   ]
  },
  {
   "cell_type": "markdown",
   "metadata": {
    "id": "s1KilQCzfNCK"
   },
   "source": [
    "# Задание 1.\n",
    "Добавьте в модель слой nn.GRU() оцените качество модели."
   ]
  },
  {
   "cell_type": "code",
   "execution_count": 10,
   "metadata": {},
   "outputs": [],
   "source": [
    "import torch\n",
    "import torch.nn as nn\n",
    "import time\n",
    "\n",
    "class RNN1(nn.Module):\n",
    "    def __init__(self, input_size, hidden_size, output_size):\n",
    "        super(RNN1, self).__init__()\n",
    "        self.hidden_size = hidden_size\n",
    "\n",
    "        self.gru = nn.GRU(n_categories + input_size + hidden_size, hidden_size)\n",
    "        self.i2o = nn.Linear(hidden_size, output_size)\n",
    "        self.dropout = nn.Dropout(0.1)\n",
    "        self.softmax = nn.LogSoftmax(dim=1)\n",
    "\n",
    "    def forward(self, category, input, hidden):\n",
    "        input_combined = torch.cat((category, input, hidden), 1)\n",
    "        output, hidden = self.gru(input_combined.unsqueeze(0), hidden.unsqueeze(0))\n",
    "        output = self.i2o(output.squeeze(0))\n",
    "        output = self.dropout(output)\n",
    "        output = self.softmax(output)\n",
    "        return output, hidden.squeeze(0)\n",
    "\n",
    "    def initHidden(self):\n",
    "        return torch.zeros(1, self.hidden_size)\n",
    "    \n",
    "rnn1 = RNN1(n_letters, 128, n_letters)"
   ]
  },
  {
   "cell_type": "code",
   "execution_count": 11,
   "metadata": {},
   "outputs": [],
   "source": [
    "import random\n",
    "\n",
    "def randomChoice(l):\n",
    "    return l[random.randint(0, len(l) - 1)]\n",
    "\n",
    "def randomTrainingPair():\n",
    "    category = randomChoice(all_categories)\n",
    "    line = randomChoice(category_lines[category])\n",
    "    return category, line"
   ]
  },
  {
   "cell_type": "code",
   "execution_count": 12,
   "metadata": {},
   "outputs": [],
   "source": [
    "def categoryTensor(category):\n",
    "    li = all_categories.index(category)\n",
    "    tensor = torch.zeros(1, n_categories)\n",
    "    tensor[0][li] = 1\n",
    "    return tensor\n",
    "\n",
    "def inputTensor(line):\n",
    "    tensor = torch.zeros(len(line), 1, n_letters)\n",
    "    for li in range(len(line)):\n",
    "        letter = line[li]\n",
    "        tensor[li][0][all_letters.find(letter)] = 1\n",
    "    return tensor\n",
    "\n",
    "def targetTensor(line):\n",
    "    letter_indexes = [all_letters.find(line[li]) for li in range(1, len(line))]\n",
    "    letter_indexes.append(n_letters - 1) \n",
    "    return torch.LongTensor(letter_indexes)"
   ]
  },
  {
   "cell_type": "code",
   "execution_count": 13,
   "metadata": {},
   "outputs": [],
   "source": [
    "def randomTrainingExample():\n",
    "    category, line = randomTrainingPair()\n",
    "    category_tensor = categoryTensor(category)\n",
    "    input_line_tensor = inputTensor(line)\n",
    "    target_line_tensor = targetTensor(line)\n",
    "    return category_tensor, input_line_tensor, target_line_tensor"
   ]
  },
  {
   "cell_type": "code",
   "execution_count": 14,
   "metadata": {},
   "outputs": [],
   "source": [
    "criterion = nn.NLLLoss()\n",
    "\n",
    "learning_rate = 0.001\n",
    "\n",
    "def train1(category_tensor, input_line_tensor, target_line_tensor):\n",
    "    target_line_tensor.unsqueeze_(-1)\n",
    "    hidden = rnn1.initHidden()\n",
    "\n",
    "    rnn1.zero_grad()\n",
    "\n",
    "    loss = 0\n",
    "\n",
    "    for i in range(input_line_tensor.size(0)):\n",
    "        output, hidden = rnn1(category_tensor, input_line_tensor[i], hidden)\n",
    "        l = criterion(output, target_line_tensor[i])\n",
    "        loss += l\n",
    "\n",
    "    loss.backward()\n",
    "\n",
    "    for p in rnn1.parameters():\n",
    "        p.data.add_(p.grad.data, alpha=-learning_rate)\n",
    "\n",
    "    return output, loss.item() / input_line_tensor.size(0)"
   ]
  },
  {
   "cell_type": "code",
   "execution_count": 22,
   "metadata": {},
   "outputs": [
    {
     "name": "stdout",
     "output_type": "stream",
     "text": [
      "0m 35s (5000 5%) 2.5207\n",
      "1m 14s (10000 10%) 2.5399\n",
      "1m 53s (15000 15%) 1.3346\n",
      "2m 23s (20000 20%) 3.0568\n",
      "2m 50s (25000 25%) 2.8148\n",
      "3m 16s (30000 30%) 2.7856\n",
      "3m 43s (35000 35%) 1.5890\n",
      "4m 7s (40000 40%) 2.0106\n",
      "4m 36s (45000 45%) 2.9202\n",
      "5m 11s (50000 50%) 1.5231\n",
      "5m 50s (55000 55%) 1.9072\n",
      "6m 29s (60000 60%) 1.9703\n",
      "7m 8s (65000 65%) 2.0791\n",
      "7m 47s (70000 70%) 2.2100\n",
      "8m 26s (75000 75%) 2.4471\n",
      "9m 5s (80000 80%) 1.7510\n",
      "9m 44s (85000 85%) 3.2098\n",
      "10m 23s (90000 90%) 3.5708\n",
      "11m 2s (95000 95%) 2.6647\n",
      "11m 43s (100000 100%) 2.7112\n"
     ]
    }
   ],
   "source": [
    "n_iters = 100000\n",
    "print_every = 5000\n",
    "plot_every = 500\n",
    "all_losses = []\n",
    "total_loss = 0 \n",
    "\n",
    "start = time.time()\n",
    "\n",
    "for iter in range(1, n_iters + 1):\n",
    "    output, loss = train1(*randomTrainingExample())\n",
    "    total_loss += loss\n",
    "\n",
    "    if iter % print_every == 0:\n",
    "        print('%s (%d %d%%) %.4f' % (timeSince(start), iter, iter / n_iters * 100, loss))\n",
    "\n",
    "    if iter % plot_every == 0:\n",
    "        all_losses.append(total_loss / plot_every)\n",
    "        total_loss = 0"
   ]
  },
  {
   "cell_type": "code",
   "execution_count": 23,
   "metadata": {},
   "outputs": [
    {
     "data": {
      "text/plain": [
       "[<matplotlib.lines.Line2D at 0x137936650>]"
      ]
     },
     "execution_count": 23,
     "metadata": {},
     "output_type": "execute_result"
    },
    {
     "data": {
      "image/png": "[encoded data removed]",
      "text/plain": [
       "<Figure size 640x480 with 1 Axes>"
      ]
     },
     "metadata": {},
     "output_type": "display_data"
    }
   ],
   "source": [
    "import matplotlib.pyplot as plt\n",
    "\n",
    "plt.figure()\n",
    "plt.plot(all_losses)"
   ]
  },
  {
   "cell_type": "code",
   "execution_count": 24,
   "metadata": {},
   "outputs": [
    {
     "name": "stdout",
     "output_type": "stream",
     "text": [
      "category: Russian, start_letter: R, name: RoF-zoF-zzzzF-FoF-zzz\n",
      "category: Russian, start_letter: U, name: UzzzzF-FoF-zzF-FoF-zP\n",
      "category: Russian, start_letter: S, name: SoF-oF-zzzPePeePeePee\n",
      "\n",
      "category: German, start_letter: G, name: Gzzzzzzzzzzzzzzzzzzzz\n",
      "category: German, start_letter: E, name: EzzzzzzzzSoFDoFDoMzzz\n",
      "category: German, start_letter: R, name: RSMzzzzzzzSoFDoFDoFDo\n",
      "\n",
      "category: Spanish, start_letter: S, name: SPIzzPPPeDzzzzzPPPeDz\n",
      "category: Spanish, start_letter: P, name: PezzzzPPPeDzzzzzzzzzz\n",
      "category: Spanish, start_letter: A, name: AePPeDzzzzzzzPPPeDzzb\n",
      "\n",
      "category: Chinese, start_letter: C, name: CQzMMMMMMMMMMMMMMMMMM\n",
      "category: Chinese, start_letter: H, name: HQMBMSMMMMMSMMMMMMMMS\n",
      "category: Chinese, start_letter: I, name: IQaSMMMMMMMSMMMSMMMMM\n",
      "\n"
     ]
    }
   ],
   "source": [
    "max_length = 20\n",
    "\n",
    "def sample(category, start_letter='A'):\n",
    "    with torch.no_grad(): \n",
    "        category_tensor = categoryTensor(category)\n",
    "        input = inputTensor(start_letter)\n",
    "        hidden = rnn.initHidden()\n",
    "\n",
    "        output_name = start_letter\n",
    "\n",
    "        for i in range(max_length):\n",
    "            output, hidden = rnn(category_tensor, input[0], hidden)\n",
    "            topv, topi = output.topk(1)\n",
    "            topi = topi[0][0]\n",
    "            if topi == n_letters - 1:\n",
    "                break\n",
    "            else:\n",
    "                letter = all_letters[topi]\n",
    "                output_name += letter\n",
    "            input = inputTensor(letter)\n",
    "\n",
    "        return output_name\n",
    "\n",
    "def samples(category, start_letters='ABC'):\n",
    "    for start_letter in start_letters:\n",
    "        print(\"category: \" + category + \", start_letter: \" + start_letter + \", name: \" + sample(category, start_letter))\n",
    "    print()\n",
    "        \n",
    "samples('Russian', 'RUS')\n",
    "samples('German', 'GER')\n",
    "samples('Spanish', 'SPA')\n",
    "samples('Chinese', 'CHI')"
   ]
  },
  {
   "cell_type": "code",
   "execution_count": null,
   "metadata": {},
   "outputs": [],
   "source": []
  },
  {
   "cell_type": "code",
   "execution_count": null,
   "metadata": {},
   "outputs": [],
   "source": []
  }
 ],
 "metadata": {
  "accelerator": "GPU",
  "colab": {
   "provenance": []
  },
  "gpuClass": "standard",
  "kernelspec": {
   "display_name": "Python 3 (ipykernel)",
   "language": "python",
   "name": "python3"
  },
  "language_info": {
   "codemirror_mode": {
    "name": "ipython",
    "version": 3
   },
   "file_extension": ".py",
   "mimetype": "text/x-python",
   "name": "python",
   "nbconvert_exporter": "python",
   "pygments_lexer": "ipython3",
   "version": "3.10.7"
  }
 },
 "nbformat": 4,
 "nbformat_minor": 4
}
