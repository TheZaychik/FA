{
 "cells": [
  {
   "cell_type": "code",
   "execution_count": 1,
   "metadata": {
    "id": "BzNjiDVSx_Xi"
   },
   "outputs": [],
   "source": [
    "%matplotlib inline"
   ]
  },
  {
   "cell_type": "markdown",
   "metadata": {},
   "source": [
    "# Зайцев Н. ПИ20-1В"
   ]
  },
  {
   "cell_type": "markdown",
   "metadata": {
    "id": "8RutPIIDx_X4"
   },
   "source": [
    "\n",
    "Введение в PyTorch\n",
    "================\n",
    "\n",
    "Это основанный на Python научный вычислительный пакет, ориентированный на два набора аудиторий:\n",
    "\n",
    "* замена NumPy для использования мощности графических процессоров\n",
    "* исследовательская платформа глубокого обучения которая обеспечивает максимальную гибкость и скорость\n",
    "\n",
    "Начало\n",
    "---------------\n",
    "\n",
    "Тензоры\n",
    "\n",
    "^^^^^^^\n",
    "\n",
    "Тензоры похожи на ndarrays библиотеки numpy, с добавлением того, что\n",
    "Тензоры также могут быть использованы на графическом процессоре для ускорения вычислений.\n",
    "\n"
   ]
  },
  {
   "cell_type": "code",
   "execution_count": 2,
   "metadata": {
    "colab": {
     "base_uri": "https://localhost:8080/"
    },
    "id": "A2JxeXfUx_X6",
    "outputId": "805133b3-28ef-4b7d-8b44-4467f3e5e91a"
   },
   "outputs": [
    {
     "name": "stdout",
     "output_type": "stream",
     "text": [
      "False\n"
     ]
    }
   ],
   "source": [
    "from __future__ import print_function\n",
    "import torch\n",
    "print(torch.cuda.is_available())"
   ]
  },
  {
   "cell_type": "markdown",
   "metadata": {
    "id": "MbcopNIRx_YE"
   },
   "source": [
    "#### Примечание\n",
    "Неинициализированная тензор объявляется, но не содержит определенных известных значений до ее использования. Когда создается неинициализированная матрица, все значения, которые были в выделенной памяти в то время, будут отображаться как начальные значения.\n",
    "\n"
   ]
  },
  {
   "cell_type": "markdown",
   "metadata": {
    "id": "fwO9_lbox_YF"
   },
   "source": [
    "Создадим неинициализированный тензор 5x3:\n",
    "\n"
   ]
  },
  {
   "cell_type": "code",
   "execution_count": 3,
   "metadata": {
    "colab": {
     "base_uri": "https://localhost:8080/"
    },
    "id": "7DwQCcFGx_YH",
    "outputId": "82807675-6bd9-439a-9c50-4574ea21d0a5"
   },
   "outputs": [
    {
     "name": "stdout",
     "output_type": "stream",
     "text": [
      "tensor([[1.1210e-44, -0.0000e+00, 0.0000e+00],\n",
      "        [0.0000e+00, 3.5873e-43, 3.6013e-43],\n",
      "        [3.5873e-43, 0.0000e+00, 0.0000e+00],\n",
      "        [0.0000e+00, 0.0000e+00, 0.0000e+00],\n",
      "        [0.0000e+00, 1.1704e-41, 0.0000e+00]])\n"
     ]
    },
    {
     "data": {
      "text/plain": [
       "torch.Tensor"
      ]
     },
     "execution_count": 3,
     "metadata": {},
     "output_type": "execute_result"
    }
   ],
   "source": [
    "x = torch.empty(5, 3)\n",
    "print(x)\n",
    "type(x)"
   ]
  },
  {
   "cell_type": "markdown",
   "metadata": {
    "id": "D3NVKqpvx_YW"
   },
   "source": [
    "Создадим тензор со случайным набором:"
   ]
  },
  {
   "cell_type": "code",
   "execution_count": 4,
   "metadata": {
    "colab": {
     "base_uri": "https://localhost:8080/"
    },
    "id": "sfr4xtu-x_YX",
    "outputId": "b6b5745a-d490-454f-f803-6b4206da12c6"
   },
   "outputs": [
    {
     "name": "stdout",
     "output_type": "stream",
     "text": [
      "tensor([[0.1135, 0.4995, 0.0702],\n",
      "        [0.7641, 0.5913, 0.0776],\n",
      "        [0.7805, 0.1992, 0.7391],\n",
      "        [0.9702, 0.6763, 0.8789],\n",
      "        [0.5432, 0.6016, 0.5175]])\n"
     ]
    }
   ],
   "source": [
    "x = torch.rand(5, 3)\n",
    "print(x)"
   ]
  },
  {
   "cell_type": "markdown",
   "metadata": {
    "id": "dH3qNpUHx_Yi"
   },
   "source": [
    "Создадим тензор заполненный 0 типа long:"
   ]
  },
  {
   "cell_type": "code",
   "execution_count": 5,
   "metadata": {
    "colab": {
     "base_uri": "https://localhost:8080/"
    },
    "id": "2u3gcwWpx_Yk",
    "outputId": "97edbdb5-0d2d-4704-a439-397f2eccaea9"
   },
   "outputs": [
    {
     "name": "stdout",
     "output_type": "stream",
     "text": [
      "tensor([[0, 0, 0],\n",
      "        [0, 0, 0],\n",
      "        [0, 0, 0],\n",
      "        [0, 0, 0],\n",
      "        [0, 0, 0]])\n"
     ]
    }
   ],
   "source": [
    "x = torch.zeros(5, 3, dtype=torch.long)\n",
    "print(x)"
   ]
  },
  {
   "cell_type": "markdown",
   "metadata": {
    "id": "nRYvQICxx_Yt"
   },
   "source": [
    "Создадим тензор из списка и изменим его тип:\n",
    "\n",
    "\n",
    "\n"
   ]
  },
  {
   "cell_type": "code",
   "execution_count": 6,
   "metadata": {
    "colab": {
     "base_uri": "https://localhost:8080/"
    },
    "id": "patrBSwmx_Yv",
    "outputId": "c724f3ea-8c29-446b-94bf-6f6340bdc9d8"
   },
   "outputs": [
    {
     "name": "stdout",
     "output_type": "stream",
     "text": [
      "tensor([5.5000, 3.0000])\n"
     ]
    },
    {
     "data": {
      "text/plain": [
       "tensor([5, 3], dtype=torch.int32)"
      ]
     },
     "execution_count": 6,
     "metadata": {},
     "output_type": "execute_result"
    }
   ],
   "source": [
    "x = torch.tensor([5.5, 3])\n",
    "print(x)\n",
    "x.type(torch.int)"
   ]
  },
  {
   "cell_type": "markdown",
   "metadata": {
    "id": "oc1csxcix_Y4"
   },
   "source": [
    "\n",
    "или создадим тензор на основе существующего тензора. Эти методы будут повторно использовать свойства входного тензора, например тип, если только пользователь не предоставит новые значения"
   ]
  },
  {
   "cell_type": "code",
   "execution_count": 7,
   "metadata": {
    "colab": {
     "base_uri": "https://localhost:8080/"
    },
    "id": "HTavxanZx_Y6",
    "outputId": "e08b5402-9363-4524-e787-6e24ebe07028"
   },
   "outputs": [
    {
     "name": "stdout",
     "output_type": "stream",
     "text": [
      "tensor([[1., 1., 1.],\n",
      "        [1., 1., 1.],\n",
      "        [1., 1., 1.],\n",
      "        [1., 1., 1.],\n",
      "        [1., 1., 1.]], dtype=torch.float64)\n",
      "tensor([[ 0.3020, -0.2309, -0.9435],\n",
      "        [ 0.5069, -0.1378,  0.3055],\n",
      "        [-0.2309, -0.7468,  0.9562],\n",
      "        [ 1.0634, -0.7753, -0.4065],\n",
      "        [ 0.9596, -1.1341, -0.2818]], dtype=torch.float64)\n"
     ]
    }
   ],
   "source": [
    "x = x.new_ones(5, 3, dtype=torch.double)      # new_* метод применяется для размера\n",
    "print(x)\n",
    "\n",
    "x = torch.randn_like(x, dtype=torch.float64)    #  dtype позволяет сменить тип!\n",
    "print(x)                                      "
   ]
  },
  {
   "cell_type": "markdown",
   "metadata": {
    "id": "pQcM1r70x_ZE"
   },
   "source": [
    "Получим размер тензора:\n",
    "\n"
   ]
  },
  {
   "cell_type": "code",
   "execution_count": 8,
   "metadata": {
    "colab": {
     "base_uri": "https://localhost:8080/"
    },
    "id": "MTco31L3x_ZG",
    "outputId": "27d9a5f4-f62b-48fa-e186-7e21cadea8e9"
   },
   "outputs": [
    {
     "name": "stdout",
     "output_type": "stream",
     "text": [
      "torch.Size([5, 3])\n"
     ]
    }
   ],
   "source": [
    "print(x.size())"
   ]
  },
  {
   "cell_type": "code",
   "execution_count": 9,
   "metadata": {
    "colab": {
     "base_uri": "https://localhost:8080/"
    },
    "id": "vdCVCLTpP-8c",
    "outputId": "678f13b2-5d53-4595-8cfb-e595550fa2b2"
   },
   "outputs": [
    {
     "name": "stdout",
     "output_type": "stream",
     "text": [
      "tensor([[[1, 2],\n",
      "         [3, 4]]]) torch.Size([1, 2, 2])\n",
      "tensor([[[1],\n",
      "         [2]],\n",
      "\n",
      "        [[3],\n",
      "         [4]]]) torch.Size([2, 2, 1])\n",
      "tensor([[[1, 2]],\n",
      "\n",
      "        [[3, 4]]]) torch.Size([2, 1, 2])\n"
     ]
    }
   ],
   "source": [
    "x1 = torch.tensor([[1, 2], [3, 4]])\n",
    "y=torch.unsqueeze(x1,0)\n",
    "print(y,y.size())\n",
    "z=torch.unsqueeze(x1,-1)\n",
    "print(z,z.size())\n",
    "t=torch.unsqueeze(x1,1)\n",
    "print(t,t.size())"
   ]
  },
  {
   "cell_type": "markdown",
   "metadata": {
    "id": "kdbfM0rIx_ZO"
   },
   "source": [
    "#### Примечание\n",
    "`torch.Size` это кортеж и поддерживает все операции для кортежей\n",
    "\n",
    "Операции\n",
    "\n",
    "^^^^^^^^^^\n",
    "\n",
    "Существует несколько синтаксисов для операций. В следующем\n",
    "примере мы рассмотрим операцию сложения.\n",
    "\n",
    "Сложение: синтаксис 1-й\n",
    "\n"
   ]
  },
  {
   "cell_type": "code",
   "execution_count": 10,
   "metadata": {
    "colab": {
     "base_uri": "https://localhost:8080/"
    },
    "id": "WkC6hB6-x_ZQ",
    "outputId": "f1871925-ffdb-4345-9f30-34cfa2662d18"
   },
   "outputs": [
    {
     "name": "stdout",
     "output_type": "stream",
     "text": [
      "tensor([[ 0.3020, -0.2309, -0.9435],\n",
      "        [ 0.5069, -0.1378,  0.3055],\n",
      "        [-0.2309, -0.7468,  0.9562],\n",
      "        [ 1.0634, -0.7753, -0.4065],\n",
      "        [ 0.9596, -1.1341, -0.2818]], dtype=torch.float64) \n",
      " tensor([[0.3494, 0.4717, 0.0199],\n",
      "        [0.2307, 0.9280, 0.3101],\n",
      "        [0.8412, 0.4676, 0.8158],\n",
      "        [0.0800, 0.2668, 0.7542],\n",
      "        [0.9447, 0.9651, 0.1343]])\n",
      "tensor([[ 0.6514,  0.2408, -0.9236],\n",
      "        [ 0.7376,  0.7901,  0.6156],\n",
      "        [ 0.6103, -0.2793,  1.7721],\n",
      "        [ 1.1434, -0.5085,  0.3477],\n",
      "        [ 1.9043, -0.1689, -0.1475]], dtype=torch.float64)\n"
     ]
    }
   ],
   "source": [
    "y = torch.rand(5, 3)\n",
    "print(x,'\\n',y)\n",
    "print(x + y)"
   ]
  },
  {
   "cell_type": "markdown",
   "metadata": {
    "id": "81SECM1zx_Zh"
   },
   "source": [
    "Сложение: синтаксис 2-й\n",
    "\n"
   ]
  },
  {
   "cell_type": "code",
   "execution_count": 11,
   "metadata": {
    "colab": {
     "base_uri": "https://localhost:8080/"
    },
    "id": "hGcSwdnkx_Zj",
    "outputId": "b3162bdb-8665-42fb-ff94-aa23f4853780"
   },
   "outputs": [
    {
     "name": "stdout",
     "output_type": "stream",
     "text": [
      "tensor([[ 0.6514,  0.2408, -0.9236],\n",
      "        [ 0.7376,  0.7901,  0.6156],\n",
      "        [ 0.6103, -0.2793,  1.7721],\n",
      "        [ 1.1434, -0.5085,  0.3477],\n",
      "        [ 1.9043, -0.1689, -0.1475]], dtype=torch.float64)\n"
     ]
    }
   ],
   "source": [
    "print(torch.add(x, y))"
   ]
  },
  {
   "cell_type": "markdown",
   "metadata": {
    "id": "Oui8NG4yx_Zs"
   },
   "source": [
    "Сложение: с выходным тензором в качестве аргумента\n",
    "\n"
   ]
  },
  {
   "cell_type": "code",
   "execution_count": 12,
   "metadata": {
    "colab": {
     "base_uri": "https://localhost:8080/"
    },
    "id": "6zzrYGBjx_Zt",
    "outputId": "a468da70-f7df-42e0-85ac-107093b6e18a"
   },
   "outputs": [
    {
     "name": "stdout",
     "output_type": "stream",
     "text": [
      "tensor([[ 0.6514,  0.2408, -0.9236],\n",
      "        [ 0.7376,  0.7901,  0.6156],\n",
      "        [ 0.6103, -0.2793,  1.7721],\n",
      "        [ 1.1434, -0.5085,  0.3477],\n",
      "        [ 1.9043, -0.1689, -0.1475]])\n"
     ]
    }
   ],
   "source": [
    "result = torch.empty(5, 3)\n",
    "torch.add(x, y, out=result)\n",
    "print(result)"
   ]
  },
  {
   "cell_type": "markdown",
   "metadata": {
    "id": "f-AJN2Lrx_Z3"
   },
   "source": [
    "Сложение: в одно действие (in-place)"
   ]
  },
  {
   "cell_type": "code",
   "execution_count": 13,
   "metadata": {
    "colab": {
     "base_uri": "https://localhost:8080/"
    },
    "id": "kHB-ZJDHx_Z4",
    "outputId": "d5211eff-9c07-44ea-e7a9-e3eff4325fc4"
   },
   "outputs": [
    {
     "name": "stdout",
     "output_type": "stream",
     "text": [
      "tensor([[ 0.6514,  0.2408, -0.9236],\n",
      "        [ 0.7376,  0.7901,  0.6156],\n",
      "        [ 0.6103, -0.2793,  1.7721],\n",
      "        [ 1.1434, -0.5085,  0.3477],\n",
      "        [ 1.9043, -0.1689, -0.1475]])\n"
     ]
    }
   ],
   "source": [
    "# adds x to y\n",
    "y.add_(x)\n",
    "print(y)"
   ]
  },
  {
   "cell_type": "markdown",
   "metadata": {
    "id": "nAC8egPnx_aF"
   },
   "source": [
    "#### Примечание\n",
    "\n",
    "Любая операция, которая изменяет тензор в одно действие сопровождается ``_``. Например: ``x.copy_(y)``, ``x.t_()``, изменят ``x``.\n",
    "\n",
    "Вы можете так же использовать стандартную NumPy-подобную индексацию со всеми ее особенностями!"
   ]
  },
  {
   "cell_type": "code",
   "execution_count": 14,
   "metadata": {
    "colab": {
     "base_uri": "https://localhost:8080/"
    },
    "id": "70PxxiT4x_aI",
    "outputId": "418deeaa-22c4-4554-9577-67482c367e27"
   },
   "outputs": [
    {
     "name": "stdout",
     "output_type": "stream",
     "text": [
      "tensor([-0.2309, -0.1378, -0.7468, -0.7753, -1.1341], dtype=torch.float64)\n"
     ]
    }
   ],
   "source": [
    "print(x[:, 1])"
   ]
  },
  {
   "cell_type": "markdown",
   "metadata": {
    "id": "b4h0kEIHx_aO"
   },
   "source": [
    "Изменение размера: Если вы хотите изменить размер/форму тензора, вы можете использовать ``torch.view``:"
   ]
  },
  {
   "cell_type": "code",
   "execution_count": 15,
   "metadata": {
    "colab": {
     "base_uri": "https://localhost:8080/"
    },
    "id": "JytFhAhwx_aR",
    "outputId": "9164b7b5-4955-4b5c-ab00-7b48ed488c1a"
   },
   "outputs": [
    {
     "name": "stdout",
     "output_type": "stream",
     "text": [
      "torch.Size([4, 4]) torch.Size([16]) torch.Size([2, 8])\n"
     ]
    },
    {
     "data": {
      "text/plain": [
       "(tensor([[-0.1383, -0.5273,  0.0568,  0.7139],\n",
       "         [ 1.2479,  0.7043, -0.0392, -0.0060],\n",
       "         [-0.5788, -0.0869, -1.3352, -0.7599],\n",
       "         [ 0.0536, -0.6426,  0.4445, -1.7039]]),\n",
       " tensor([-0.1383, -0.5273,  0.0568,  0.7139,  1.2479,  0.7043, -0.0392, -0.0060,\n",
       "         -0.5788, -0.0869, -1.3352, -0.7599,  0.0536, -0.6426,  0.4445, -1.7039]))"
      ]
     },
     "execution_count": 15,
     "metadata": {},
     "output_type": "execute_result"
    }
   ],
   "source": [
    "x = torch.randn(4, 4)\n",
    "y = x.view(16)\n",
    "z = x.view(-1, 8)  # размер -1 соответсвует остальным размерностям, т.е. 16/8=2 \n",
    "print(x.size(), y.size(), z.size())\n",
    "x,y"
   ]
  },
  {
   "cell_type": "markdown",
   "metadata": {
    "id": "iQZVffPdx_aa"
   },
   "source": [
    "Если у вас есть одноэлементный тензор, используйте `.item ()`, чтобы получить его значение"
   ]
  },
  {
   "cell_type": "code",
   "execution_count": 16,
   "metadata": {
    "colab": {
     "base_uri": "https://localhost:8080/"
    },
    "id": "P6ojE2oPx_ae",
    "outputId": "4c73c4f2-a0d5-4615-bf4b-8ff8890a4ced"
   },
   "outputs": [
    {
     "name": "stdout",
     "output_type": "stream",
     "text": [
      "tensor([0.0856])\n",
      "0.08563277870416641\n"
     ]
    }
   ],
   "source": [
    "x = torch.randn(1)\n",
    "print(x)\n",
    "print(x.item())"
   ]
  },
  {
   "cell_type": "markdown",
   "metadata": {
    "id": "aW6Scfoix_ap"
   },
   "source": [
    "**Далее:**\n",
    "\n",
    "100+ тензорные операции, в том числе транспонирование, индексирование, нарезка, математические операции, линейная алгебра, случайные числа и др описаны здесь: <https://pytorch.org/docs/torch>\n",
    "\n",
    "Переход с NumPy\n",
    "------------\n",
    "Преобразование Torch Tensor в массив NumPy и наоборот-это легко.\n",
    "\n",
    "Torch Tensor и массив NumPy будут совместно использовать свои базовые\n",
    "ячейки памяти (если Torch Tensor находится на процессоре), и изменение одного изменит другое.\n",
    "\n",
    "Преобразование Torch Tensor в массив NumPy\n",
    "\n",
    "^^^^^^^^^^^^^^^^^^^^^^^^^^^^^^^^^^^^^^^^^^\n"
   ]
  },
  {
   "cell_type": "code",
   "execution_count": 17,
   "metadata": {
    "colab": {
     "base_uri": "https://localhost:8080/"
    },
    "id": "9I2ebnsQx_ar",
    "outputId": "b898a172-3d8d-4b16-8066-e80f50efcda9"
   },
   "outputs": [
    {
     "name": "stdout",
     "output_type": "stream",
     "text": [
      "tensor([1., 1., 1., 1., 1.])\n"
     ]
    }
   ],
   "source": [
    "a = torch.ones(5)\n",
    "print(a)"
   ]
  },
  {
   "cell_type": "code",
   "execution_count": 18,
   "metadata": {
    "colab": {
     "base_uri": "https://localhost:8080/"
    },
    "id": "nnt8ywU4x_a1",
    "outputId": "23922bb7-0fe8-415a-aeaa-8ca6f51deefc"
   },
   "outputs": [
    {
     "name": "stdout",
     "output_type": "stream",
     "text": [
      "[1. 1. 1. 1. 1.]\n"
     ]
    }
   ],
   "source": [
    "b = a.numpy()\n",
    "print(b)"
   ]
  },
  {
   "cell_type": "markdown",
   "metadata": {
    "id": "-3ZjjrZ7x_bG"
   },
   "source": [
    "Посмотрим как массив NumPy изменяется в своих значениях."
   ]
  },
  {
   "cell_type": "code",
   "execution_count": 19,
   "metadata": {
    "colab": {
     "base_uri": "https://localhost:8080/"
    },
    "id": "Wlz95Eobx_bI",
    "outputId": "70399377-bf23-4f7f-a444-80df2ffca7a1"
   },
   "outputs": [
    {
     "name": "stdout",
     "output_type": "stream",
     "text": [
      "tensor([2., 2., 2., 2., 2.])\n",
      "[2. 2. 2. 2. 2.]\n"
     ]
    }
   ],
   "source": [
    "a.add_(1)\n",
    "print(a)\n",
    "print(b)"
   ]
  },
  {
   "cell_type": "markdown",
   "metadata": {
    "id": "7CXLTdXox_bP"
   },
   "source": [
    "Преобразование массива NumPy в Torch тензор\n",
    "\n",
    "^^^^^^^^^^^^^^^^^^^^^^^^^^^^^^^^^^^^^^\n",
    "\n",
    "Посмотрим как изменения nparray отразятся на тензоре \n"
   ]
  },
  {
   "cell_type": "code",
   "execution_count": 20,
   "metadata": {
    "colab": {
     "base_uri": "https://localhost:8080/"
    },
    "id": "mdEfEpnCx_bQ",
    "outputId": "ebcd2c4f-2b79-434c-fca8-693a19b91e78"
   },
   "outputs": [
    {
     "name": "stdout",
     "output_type": "stream",
     "text": [
      "[2. 2. 2. 2. 2.]\n",
      "tensor([2., 2., 2., 2., 2.], dtype=torch.float64)\n"
     ]
    }
   ],
   "source": [
    "import numpy as np\n",
    "a = np.ones(5)\n",
    "b = torch.from_numpy(a)\n",
    "np.add(a, 1, out=a)\n",
    "print(a)\n",
    "print(b)"
   ]
  },
  {
   "cell_type": "markdown",
   "metadata": {
    "id": "szvnDJUvx_bb"
   },
   "source": [
    "\n",
    "Все тензоры на CPU за исключением CharTensor поддерживают преобразование в NumPy и обратно.\n",
    "\n",
    "CUDA тензоры\n",
    "------------\n",
    "\n",
    "Тензоры могут быть перемещены на любой процессор методом ``.to``\n",
    "\n"
   ]
  },
  {
   "cell_type": "code",
   "execution_count": 21,
   "metadata": {
    "colab": {
     "base_uri": "https://localhost:8080/"
    },
    "id": "cZwZ9cuUx_bc",
    "outputId": "e6cb3ea3-155e-4c8f-9a06-0334807db193"
   },
   "outputs": [],
   "source": [
    "# Данный код выполняется только, если доступен CUDA\n",
    "# Для смены реализации тензора на и с GPU используется объект ``torch.device``\n",
    "if torch.cuda.is_available():\n",
    "    device = torch.device(\"cuda\")          # это объект device типа CUDA  \n",
    "    y = torch.ones_like(x, device=device)  # создает тензор на GPU\n",
    "    x = x.to(device)                       # можно использовать ``.to(\"cuda\")``\n",
    "    z = x + y\n",
    "    print(z)\n",
    "    print(z.to(\"cpu\", torch.double))       # метод ``.to`` может также менять dtype!"
   ]
  },
  {
   "cell_type": "markdown",
   "metadata": {
    "id": "5JnShHiOcqzk"
   },
   "source": [
    "Соединение тензоров\n",
    "--------\n",
    "\n",
    "Метод `torch.cat` соединяет тензоры вдоль заданного направления. Другой способ использовать `torch.stack`."
   ]
  },
  {
   "cell_type": "code",
   "execution_count": 22,
   "metadata": {
    "colab": {
     "base_uri": "https://localhost:8080/"
    },
    "id": "Un2eCuihcYH-",
    "outputId": "e583b608-72a2-4803-9872-b97e47f69c13"
   },
   "outputs": [
    {
     "name": "stdout",
     "output_type": "stream",
     "text": [
      "tensor([1., 1., 1., 1., 1., 2., 2., 2., 2., 2., 3., 3., 3., 3., 3.])\n"
     ]
    }
   ],
   "source": [
    "x=torch.ones(5)\n",
    "y=x.add(1)\n",
    "z=x.add(2)\n",
    "t1 = torch.cat([x, y, z])\n",
    "print(t1)"
   ]
  },
  {
   "cell_type": "code",
   "execution_count": 23,
   "metadata": {
    "colab": {
     "base_uri": "https://localhost:8080/"
    },
    "id": "RP2J8iFGwmrO",
    "outputId": "f295e9f7-7d8a-47de-cf5d-6e1b43f3366b"
   },
   "outputs": [
    {
     "name": "stdout",
     "output_type": "stream",
     "text": [
      "tensor([[1., 1., 1., 1., 1.],\n",
      "        [2., 2., 2., 2., 2.],\n",
      "        [3., 3., 3., 3., 3.]])\n"
     ]
    }
   ],
   "source": [
    "t2=torch.vstack([x,y,z])\n",
    "print(t2)"
   ]
  },
  {
   "cell_type": "code",
   "execution_count": 24,
   "metadata": {
    "colab": {
     "base_uri": "https://localhost:8080/"
    },
    "id": "c-0XOiOfxMlb",
    "outputId": "678fec35-8fa7-4e14-dd8e-40b9f79c6463"
   },
   "outputs": [
    {
     "name": "stdout",
     "output_type": "stream",
     "text": [
      "tensor([[1., 2., 3.],\n",
      "        [1., 2., 3.],\n",
      "        [1., 2., 3.],\n",
      "        [1., 2., 3.],\n",
      "        [1., 2., 3.]])\n"
     ]
    }
   ],
   "source": [
    "t3=torch.hstack([x.view(-1,1),y.view(-1,1),z.view(-1,1)])\n",
    "print(t3)"
   ]
  },
  {
   "cell_type": "markdown",
   "metadata": {
    "id": "VFLFDFnbxh9p"
   },
   "source": [
    "Преобразование одноэлементных тензоров.\n",
    "----\n",
    "Рссмотрим одноэлементный тензор, полученный, например агрегацией всех элементов тензора в одно значение, его можно сразу же перевести в численное значение Python методом `item()`:"
   ]
  },
  {
   "cell_type": "code",
   "execution_count": 25,
   "metadata": {
    "colab": {
     "base_uri": "https://localhost:8080/"
    },
    "id": "b3Nm1BK0xcOt",
    "outputId": "5b7fb290-f2e4-4f6f-c086-ca99e1c9006c"
   },
   "outputs": [
    {
     "name": "stdout",
     "output_type": "stream",
     "text": [
      "5.0 <class 'float'>\n"
     ]
    }
   ],
   "source": [
    "agg = x.sum()\n",
    "agg_item = agg.item()  \n",
    "print(agg_item, type(agg_item))"
   ]
  },
  {
   "cell_type": "markdown",
   "metadata": {
    "id": "V8WJwCzFzWj1"
   },
   "source": [
    "Операции на месте\n",
    "----\n",
    "Операции, которые сохраняют значение вычисления в переменной которая участвовала в вычислениях называются операциями на месте. Они обозначаются суффиксом `_`. Например: `x.copy_(y)`, `x.t_()`, изменят `x`. \n",
    "\n",
    "Примечание: Операции на месте сохраняют немного памяти, но могут вызвать проблемы при вычислении производных потому, что мгновенно теряют предыдущее значение, поэтому использование их не поощеряется.\n"
   ]
  },
  {
   "cell_type": "code",
   "execution_count": 26,
   "metadata": {
    "colab": {
     "base_uri": "https://localhost:8080/"
    },
    "id": "Mqffxj1tzUrS",
    "outputId": "4e888ecd-33ac-445b-9265-8822b41caafb"
   },
   "outputs": [
    {
     "name": "stdout",
     "output_type": "stream",
     "text": [
      "tensor([1., 1., 1., 1., 1.]) \n",
      "\n",
      "tensor([6., 6., 6., 6., 6.])\n"
     ]
    }
   ],
   "source": [
    "print(x, \"\\n\")\n",
    "x.add_(5)\n",
    "print(x)"
   ]
  },
  {
   "cell_type": "markdown",
   "metadata": {
    "id": "VCv9p73aTPbd"
   },
   "source": [
    "Матричные операции\n",
    "---\n"
   ]
  },
  {
   "cell_type": "markdown",
   "metadata": {
    "id": "KfNkLnFLnkJW"
   },
   "source": [
    "## Задание 1.\n",
    "Создать тензор размера 5 на 5, содержащий случайный набор числел в ячейках на диагонали и выше, ниже диагонали содержащий 0.\n"
   ]
  },
  {
   "cell_type": "code",
   "execution_count": 27,
   "metadata": {},
   "outputs": [
    {
     "name": "stdout",
     "output_type": "stream",
     "text": [
      "tensor([[0.8476, 0.3234, 0.8685, 0.0948, 0.9954],\n",
      "        [0.0000, 0.3362, 0.1096, 0.1806, 0.3909],\n",
      "        [0.0000, 0.0000, 0.2382, 0.0638, 0.0020],\n",
      "        [0.0000, 0.0000, 0.0000, 0.9558, 0.6295],\n",
      "        [0.0000, 0.0000, 0.0000, 0.0000, 0.1092]])\n"
     ]
    }
   ],
   "source": [
    "import torch\n",
    "\n",
    "tensor = torch.triu(torch.rand((5, 5)))\n",
    "\n",
    "print(tensor)"
   ]
  },
  {
   "cell_type": "markdown",
   "metadata": {
    "id": "L4MdZy1fqcpj"
   },
   "source": [
    "## Задание 2.\n",
    "Найти тезор обратный этому тензору."
   ]
  },
  {
   "cell_type": "code",
   "execution_count": 28,
   "metadata": {},
   "outputs": [
    {
     "name": "stdout",
     "output_type": "stream",
     "text": [
      "tensor([[ 1.1798e+00, -1.1351e+00, -3.7788e+00,  3.4968e-01, -8.6375e+00],\n",
      "        [-0.0000e+00,  2.9747e+00, -1.3686e+00, -4.7062e-01, -7.9095e+00],\n",
      "        [ 9.2788e-09, -1.7620e-08,  4.1978e+00, -2.8019e-01,  1.5396e+00],\n",
      "        [-3.7071e-08,  5.8874e-08, -1.7457e-07,  1.0462e+00, -6.0303e+00],\n",
      "        [ 2.2411e-08,  6.5338e-08, -5.6420e-08, -5.7179e-08,  9.1562e+00]])\n"
     ]
    }
   ],
   "source": [
    "inv_tensor = torch.inverse(tensor)\n",
    "print(inv_tensor)"
   ]
  },
  {
   "cell_type": "markdown",
   "metadata": {
    "id": "ztjs0eUY0FXG",
    "tags": []
   },
   "source": [
    "Задание 3.\n",
    "---\n",
    "Сгенерируйте тензор случайных значений формы (10,10) с нормальным распределением значений со средним 2, и стандартным отклонением 3. Постройте матрицу парных расстояний между строками этой матрицы, найдите средние и стандартное отклонение нового тензора."
   ]
  },
  {
   "cell_type": "code",
   "execution_count": 29,
   "metadata": {},
   "outputs": [
    {
     "name": "stdout",
     "output_type": "stream",
     "text": [
      "Отклонение:  tensor(12.1278)\n",
      "Стандартное отклонение:  tensor(5.3485)\n"
     ]
    }
   ],
   "source": [
    "tensor = torch.randn(10, 10) * 3 + 2\n",
    "distances = torch.cdist(tensor, tensor)\n",
    "\n",
    "print(\"Отклонение: \", torch.mean(distances))\n",
    "print(\"Стандартное отклонение: \", torch.std(distances))"
   ]
  },
  {
   "cell_type": "markdown",
   "metadata": {
    "id": "3MH1d0wN3JBf"
   },
   "source": [
    "Задание 4\n",
    "---\n",
    "Создайте тензор A, используя значения range(9). Разбить тензор на 3 одинаковых тензора a,b,c разбить тензор A на два тензора d, e, содержащие 5 и 4 значения из A, соединить тензоры d и e в обратном порядке. Составить из тензоров a, b, c тензор формы (3,3)."
   ]
  },
  {
   "cell_type": "code",
   "execution_count": 30,
   "metadata": {},
   "outputs": [
    {
     "name": "stdout",
     "output_type": "stream",
     "text": [
      "tensor([0, 1, 2, 3, 4, 5, 6, 7, 8])\n"
     ]
    }
   ],
   "source": [
    "A_rng = range(9)\n",
    "A = torch.tensor(A_rng)\n",
    "print(A)"
   ]
  },
  {
   "cell_type": "code",
   "execution_count": 31,
   "metadata": {},
   "outputs": [
    {
     "name": "stdout",
     "output_type": "stream",
     "text": [
      "tensor([0, 1, 2])\n",
      "tensor([3, 4, 5])\n",
      "tensor([6, 7, 8])\n"
     ]
    }
   ],
   "source": [
    "a, b, c = torch.split(A, 3)\n",
    "print(a)\n",
    "print(b)\n",
    "print(c)"
   ]
  },
  {
   "cell_type": "code",
   "execution_count": 32,
   "metadata": {},
   "outputs": [
    {
     "name": "stdout",
     "output_type": "stream",
     "text": [
      "tensor([0, 1, 2, 3, 4])\n",
      "tensor([5, 6, 7, 8])\n"
     ]
    }
   ],
   "source": [
    "d, e = torch.split(A, [5, 4])\n",
    "print(d)\n",
    "print(e)"
   ]
  },
  {
   "cell_type": "code",
   "execution_count": 33,
   "metadata": {},
   "outputs": [
    {
     "name": "stdout",
     "output_type": "stream",
     "text": [
      "tensor([5, 6, 7, 8, 0, 1, 2, 3, 4])\n"
     ]
    }
   ],
   "source": [
    "de = torch.cat((e, d), dim=0)\n",
    "print(de)\n"
   ]
  },
  {
   "cell_type": "markdown",
   "metadata": {
    "id": "lH61kI997VZz"
   },
   "source": [
    "Задание 5\n",
    "---\n",
    "Проверить скорость выполнения матричного умножения на CPU и GPU. "
   ]
  },
  {
   "cell_type": "code",
   "execution_count": 35,
   "metadata": {},
   "outputs": [],
   "source": [
    "a = torch.randn(10000, 10000)\n",
    "b = torch.randn(10000, 10000)"
   ]
  },
  {
   "cell_type": "code",
   "execution_count": 34,
   "metadata": {},
   "outputs": [
    {
     "name": "stdout",
     "output_type": "stream",
     "text": [
      "CPU time: 0.005700111389160156\n"
     ]
    }
   ],
   "source": [
    "import time\n",
    "\n",
    "start_time = time.time()\n",
    "c = torch.matmul(a, b)\n",
    "end_time = time.time()\n",
    "execution_time_cpu = end_time - start_time\n",
    "\n",
    "print(\"CPU time:\", execution_time_cpu)"
   ]
  },
  {
   "cell_type": "markdown",
   "metadata": {},
   "source": [
    "### Cuda у меня не поддерживается"
   ]
  },
  {
   "cell_type": "code",
   "execution_count": 35,
   "metadata": {},
   "outputs": [
    {
     "ename": "AssertionError",
     "evalue": "Torch not compiled with CUDA enabled",
     "output_type": "error",
     "traceback": [
      "\u001b[0;31m---------------------------------------------------------------------------\u001b[0m",
      "\u001b[0;31mAssertionError\u001b[0m                            Traceback (most recent call last)",
      "\u001b[0;32m<ipython-input-35-d64174bf1b28>\u001b[0m in \u001b[0;36m<module>\u001b[0;34m\u001b[0m\n\u001b[0;32m----> 1\u001b[0;31m \u001b[0ma_gpu\u001b[0m \u001b[0;34m=\u001b[0m \u001b[0ma\u001b[0m\u001b[0;34m.\u001b[0m\u001b[0mcuda\u001b[0m\u001b[0;34m(\u001b[0m\u001b[0;34m)\u001b[0m\u001b[0;34m\u001b[0m\u001b[0;34m\u001b[0m\u001b[0m\n\u001b[0m\u001b[1;32m      2\u001b[0m \u001b[0mb_gpu\u001b[0m \u001b[0;34m=\u001b[0m \u001b[0mb\u001b[0m\u001b[0;34m.\u001b[0m\u001b[0mcuda\u001b[0m\u001b[0;34m(\u001b[0m\u001b[0;34m)\u001b[0m\u001b[0;34m\u001b[0m\u001b[0;34m\u001b[0m\u001b[0m\n",
      "\u001b[0;32m/usr/local/lib/python3.9/site-packages/torch/cuda/__init__.py\u001b[0m in \u001b[0;36m_lazy_init\u001b[0;34m()\u001b[0m\n\u001b[1;32m    237\u001b[0m                 \"multiprocessing, you must use the 'spawn' start method\")\n\u001b[1;32m    238\u001b[0m         \u001b[0;32mif\u001b[0m \u001b[0;32mnot\u001b[0m \u001b[0mhasattr\u001b[0m\u001b[0;34m(\u001b[0m\u001b[0mtorch\u001b[0m\u001b[0;34m.\u001b[0m\u001b[0m_C\u001b[0m\u001b[0;34m,\u001b[0m \u001b[0;34m'_cuda_getDeviceCount'\u001b[0m\u001b[0;34m)\u001b[0m\u001b[0;34m:\u001b[0m\u001b[0;34m\u001b[0m\u001b[0;34m\u001b[0m\u001b[0m\n\u001b[0;32m--> 239\u001b[0;31m             \u001b[0;32mraise\u001b[0m \u001b[0mAssertionError\u001b[0m\u001b[0;34m(\u001b[0m\u001b[0;34m\"Torch not compiled with CUDA enabled\"\u001b[0m\u001b[0;34m)\u001b[0m\u001b[0;34m\u001b[0m\u001b[0;34m\u001b[0m\u001b[0m\n\u001b[0m\u001b[1;32m    240\u001b[0m         \u001b[0;32mif\u001b[0m \u001b[0m_cudart\u001b[0m \u001b[0;32mis\u001b[0m \u001b[0;32mNone\u001b[0m\u001b[0;34m:\u001b[0m\u001b[0;34m\u001b[0m\u001b[0;34m\u001b[0m\u001b[0m\n\u001b[1;32m    241\u001b[0m             raise AssertionError(\n",
      "\u001b[0;31mAssertionError\u001b[0m: Torch not compiled with CUDA enabled"
     ]
    }
   ],
   "source": [
    "a_gpu = a.cuda()\n",
    "b_gpu = b.cuda()"
   ]
  },
  {
   "cell_type": "code",
   "execution_count": 38,
   "metadata": {},
   "outputs": [
    {
     "ename": "NameError",
     "evalue": "name 'a_gpu' is not defined",
     "output_type": "error",
     "traceback": [
      "\u001b[0;31m---------------------------------------------------------------------------\u001b[0m",
      "\u001b[0;31mNameError\u001b[0m                                 Traceback (most recent call last)",
      "\u001b[0;32m<ipython-input-38-a9428e890644>\u001b[0m in \u001b[0;36m<module>\u001b[0;34m\u001b[0m\n\u001b[1;32m      1\u001b[0m \u001b[0mstart_time\u001b[0m \u001b[0;34m=\u001b[0m \u001b[0mtime\u001b[0m\u001b[0;34m.\u001b[0m\u001b[0mtime\u001b[0m\u001b[0;34m(\u001b[0m\u001b[0;34m)\u001b[0m\u001b[0;34m\u001b[0m\u001b[0;34m\u001b[0m\u001b[0m\n\u001b[0;32m----> 2\u001b[0;31m \u001b[0mc_gpu\u001b[0m \u001b[0;34m=\u001b[0m \u001b[0mtorch\u001b[0m\u001b[0;34m.\u001b[0m\u001b[0mmatmul\u001b[0m\u001b[0;34m(\u001b[0m\u001b[0ma_gpu\u001b[0m\u001b[0;34m,\u001b[0m \u001b[0mb_gpu\u001b[0m\u001b[0;34m)\u001b[0m\u001b[0;34m\u001b[0m\u001b[0;34m\u001b[0m\u001b[0m\n\u001b[0m\u001b[1;32m      3\u001b[0m \u001b[0mend_time\u001b[0m \u001b[0;34m=\u001b[0m \u001b[0mtime\u001b[0m\u001b[0;34m.\u001b[0m\u001b[0mtime\u001b[0m\u001b[0;34m(\u001b[0m\u001b[0;34m)\u001b[0m\u001b[0;34m\u001b[0m\u001b[0;34m\u001b[0m\u001b[0m\n\u001b[1;32m      4\u001b[0m \u001b[0mtime_gpu\u001b[0m \u001b[0;34m=\u001b[0m \u001b[0mend_time\u001b[0m \u001b[0;34m-\u001b[0m \u001b[0mstart_time\u001b[0m\u001b[0;34m\u001b[0m\u001b[0;34m\u001b[0m\u001b[0m\n\u001b[1;32m      5\u001b[0m \u001b[0;34m\u001b[0m\u001b[0m\n",
      "\u001b[0;31mNameError\u001b[0m: name 'a_gpu' is not defined"
     ]
    }
   ],
   "source": [
    "start_time = time.time()\n",
    "c_gpu = torch.matmul(a_gpu, b_gpu)\n",
    "end_time = time.time()\n",
    "time_gpu = end_time - start_time\n",
    "\n",
    "print(\"GPU time:\", time_gpu)"
   ]
  },
  {
   "cell_type": "code",
   "execution_count": null,
   "metadata": {},
   "outputs": [],
   "source": []
  }
 ],
 "metadata": {
  "accelerator": "GPU",
  "colab": {
   "provenance": []
  },
  "kernelspec": {
   "display_name": "Python 3",
   "language": "python",
   "name": "python3"
  },
  "language_info": {
   "codemirror_mode": {
    "name": "ipython",
    "version": 3
   },
   "file_extension": ".py",
   "mimetype": "text/x-python",
   "name": "python",
   "nbconvert_exporter": "python",
   "pygments_lexer": "ipython3",
   "version": "3.9.16"
  },
  "vscode": {
   "interpreter": {
    "hash": "223414dc2a6a5b8ea0abc147d90b8dc731ccc898a74e702ba0a4daf2bab4f711"
   }
  }
 },
 "nbformat": 4,
 "nbformat_minor": 4
}
