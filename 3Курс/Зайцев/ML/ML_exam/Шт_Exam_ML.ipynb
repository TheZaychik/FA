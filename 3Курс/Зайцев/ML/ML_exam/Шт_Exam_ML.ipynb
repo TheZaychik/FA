{
 "cells": [
  {
   "cell_type": "markdown",
   "id": "168fb827",
   "metadata": {},
   "source": [
    "<b>Загрузка датасета<b>"
   ]
  },
  {
   "cell_type": "code",
   "execution_count": 161,
   "id": "13f4d0ac",
   "metadata": {},
   "outputs": [
    {
     "data": {
      "text/html": [
       "<div>\n",
       "<style scoped>\n",
       "    .dataframe tbody tr th:only-of-type {\n",
       "        vertical-align: middle;\n",
       "    }\n",
       "\n",
       "    .dataframe tbody tr th {\n",
       "        vertical-align: top;\n",
       "    }\n",
       "\n",
       "    .dataframe thead th {\n",
       "        text-align: right;\n",
       "    }\n",
       "</style>\n",
       "<table border=\"1\" class=\"dataframe\">\n",
       "  <thead>\n",
       "    <tr style=\"text-align: right;\">\n",
       "      <th></th>\n",
       "      <th>Temperature (K)</th>\n",
       "      <th>Luminosity(L/Lo)</th>\n",
       "      <th>Radius(R/Ro)</th>\n",
       "      <th>Absolute magnitude(Mv)</th>\n",
       "      <th>Star type</th>\n",
       "      <th>Star color</th>\n",
       "      <th>Spectral Class</th>\n",
       "    </tr>\n",
       "  </thead>\n",
       "  <tbody>\n",
       "    <tr>\n",
       "      <th>0</th>\n",
       "      <td>3068</td>\n",
       "      <td>0.002400</td>\n",
       "      <td>0.1700</td>\n",
       "      <td>16.12</td>\n",
       "      <td>0</td>\n",
       "      <td>Red</td>\n",
       "      <td>M</td>\n",
       "    </tr>\n",
       "    <tr>\n",
       "      <th>1</th>\n",
       "      <td>3042</td>\n",
       "      <td>0.000500</td>\n",
       "      <td>0.1542</td>\n",
       "      <td>16.60</td>\n",
       "      <td>0</td>\n",
       "      <td>Red</td>\n",
       "      <td>M</td>\n",
       "    </tr>\n",
       "    <tr>\n",
       "      <th>2</th>\n",
       "      <td>2600</td>\n",
       "      <td>0.000300</td>\n",
       "      <td>0.1020</td>\n",
       "      <td>18.70</td>\n",
       "      <td>0</td>\n",
       "      <td>Red</td>\n",
       "      <td>M</td>\n",
       "    </tr>\n",
       "    <tr>\n",
       "      <th>3</th>\n",
       "      <td>2800</td>\n",
       "      <td>0.000200</td>\n",
       "      <td>0.1600</td>\n",
       "      <td>16.65</td>\n",
       "      <td>0</td>\n",
       "      <td>Red</td>\n",
       "      <td>M</td>\n",
       "    </tr>\n",
       "    <tr>\n",
       "      <th>4</th>\n",
       "      <td>1939</td>\n",
       "      <td>0.000138</td>\n",
       "      <td>0.1030</td>\n",
       "      <td>20.06</td>\n",
       "      <td>0</td>\n",
       "      <td>Red</td>\n",
       "      <td>M</td>\n",
       "    </tr>\n",
       "  </tbody>\n",
       "</table>\n",
       "</div>"
      ],
      "text/plain": [
       "   Temperature (K)  Luminosity(L/Lo)  Radius(R/Ro)  Absolute magnitude(Mv)  \\\n",
       "0             3068          0.002400        0.1700                   16.12   \n",
       "1             3042          0.000500        0.1542                   16.60   \n",
       "2             2600          0.000300        0.1020                   18.70   \n",
       "3             2800          0.000200        0.1600                   16.65   \n",
       "4             1939          0.000138        0.1030                   20.06   \n",
       "\n",
       "   Star type Star color Spectral Class  \n",
       "0          0        Red              M  \n",
       "1          0        Red              M  \n",
       "2          0        Red              M  \n",
       "3          0        Red              M  \n",
       "4          0        Red              M  "
      ]
     },
     "execution_count": 161,
     "metadata": {},
     "output_type": "execute_result"
    }
   ],
   "source": [
    "import pandas as pd\n",
    "import numpy as np\n",
    "\n",
    "df = pd.read_csv(\"data/6 class csv.csv\")\n",
    "df.head()"
   ]
  },
  {
   "cell_type": "markdown",
   "id": "e6289360",
   "metadata": {},
   "source": [
    "<b>Описание набора данных</b>"
   ]
  },
  {
   "cell_type": "code",
   "execution_count": 2,
   "id": "b69e3321",
   "metadata": {},
   "outputs": [
    {
     "data": {
      "text/plain": [
       "(240, 7)"
      ]
     },
     "execution_count": 2,
     "metadata": {},
     "output_type": "execute_result"
    }
   ],
   "source": [
    "df.shape"
   ]
  },
  {
   "cell_type": "code",
   "execution_count": 3,
   "id": "53eeba53",
   "metadata": {},
   "outputs": [
    {
     "name": "stdout",
     "output_type": "stream",
     "text": [
      "<class 'pandas.core.frame.DataFrame'>\n",
      "RangeIndex: 240 entries, 0 to 239\n",
      "Data columns (total 7 columns):\n",
      " #   Column                  Non-Null Count  Dtype  \n",
      "---  ------                  --------------  -----  \n",
      " 0   Temperature (K)         240 non-null    int64  \n",
      " 1   Luminosity(L/Lo)        240 non-null    float64\n",
      " 2   Radius(R/Ro)            240 non-null    float64\n",
      " 3   Absolute magnitude(Mv)  240 non-null    float64\n",
      " 4   Star type               240 non-null    int64  \n",
      " 5   Star color              240 non-null    object \n",
      " 6   Spectral Class          240 non-null    object \n",
      "dtypes: float64(3), int64(2), object(2)\n",
      "memory usage: 13.2+ KB\n"
     ]
    }
   ],
   "source": [
    "df.info()"
   ]
  },
  {
   "cell_type": "code",
   "execution_count": 5,
   "id": "a410015b",
   "metadata": {},
   "outputs": [
    {
     "name": "stdout",
     "output_type": "stream",
     "text": [
      "Temperature (K)           228\n",
      "Luminosity(L/Lo)          208\n",
      "Radius(R/Ro)              216\n",
      "Absolute magnitude(Mv)    228\n",
      "Star type                   6\n",
      "Star color                 19\n",
      "Spectral Class              7\n",
      "dtype: int64\n"
     ]
    }
   ],
   "source": [
    "# уникальные значения\n",
    "print(df.nunique())"
   ]
  },
  {
   "cell_type": "code",
   "execution_count": 6,
   "id": "8eb09732",
   "metadata": {},
   "outputs": [
    {
     "name": "stdout",
     "output_type": "stream",
     "text": [
      "3600     3\n",
      "3218     2\n",
      "2650     2\n",
      "3625     2\n",
      "3324     2\n",
      "        ..\n",
      "10980    1\n",
      "13720    1\n",
      "19860    1\n",
      "5300     1\n",
      "37882    1\n",
      "Name: Temperature (K), Length: 228, dtype: int64 \n",
      "\n",
      "\n",
      "200000.00000    5\n",
      "0.00067         3\n",
      "0.00014         3\n",
      "0.00098         3\n",
      "0.00050         2\n",
      "               ..\n",
      "0.59000         1\n",
      "0.15300         1\n",
      "0.08500         1\n",
      "0.35700         1\n",
      "294903.00000    1\n",
      "Name: Luminosity(L/Lo), Length: 208, dtype: int64 \n",
      "\n",
      "\n",
      "36.0000      3\n",
      "0.1100       3\n",
      "1324.0000    3\n",
      "0.2400       3\n",
      "83.0000      2\n",
      "            ..\n",
      "0.0089       1\n",
      "0.0109       1\n",
      "0.0087       1\n",
      "0.0131       1\n",
      "1783.0000    1\n",
      "Name: Radius(R/Ro), Length: 216, dtype: int64 \n",
      "\n",
      "\n",
      " 12.23    3\n",
      " 11.34    2\n",
      "-10.70    2\n",
      "-7.22     2\n",
      " 14.23    2\n",
      "         ..\n",
      " 13.78    1\n",
      " 12.45    1\n",
      " 12.17    1\n",
      " 12.13    1\n",
      "-7.80     1\n",
      "Name: Absolute magnitude(Mv), Length: 228, dtype: int64 \n",
      "\n",
      "\n",
      "0    40\n",
      "1    40\n",
      "2    40\n",
      "3    40\n",
      "4    40\n",
      "5    40\n",
      "Name: Star type, dtype: int64 \n",
      "\n",
      "\n",
      "Red                   112\n",
      "Blue                   55\n",
      "Blue-white             26\n",
      "Blue White             10\n",
      "yellow-white            8\n",
      "White                   7\n",
      "Blue white              3\n",
      "Yellowish White         3\n",
      "white                   3\n",
      "Whitish                 2\n",
      "Orange                  2\n",
      "yellowish               2\n",
      "Pale yellow orange      1\n",
      "White-Yellow            1\n",
      "Blue                    1\n",
      "Yellowish               1\n",
      "Orange-Red              1\n",
      "Blue white              1\n",
      "Blue-White              1\n",
      "Name: Star color, dtype: int64 \n",
      "\n",
      "\n",
      "M    111\n",
      "B     46\n",
      "O     40\n",
      "A     19\n",
      "F     17\n",
      "K      6\n",
      "G      1\n",
      "Name: Spectral Class, dtype: int64 \n",
      "\n",
      "\n"
     ]
    }
   ],
   "source": [
    "for col in df.columns:\n",
    "    print(df[col].value_counts(), \"\\n\\n\")"
   ]
  },
  {
   "cell_type": "markdown",
   "id": "f2984a21",
   "metadata": {},
   "source": [
    "Проанализировав закруженный датафрейм, получили, что он содержит информацию о 240 объектах, каждый из которых имеет описание по 7 признакам, один из которых является меткой.<br>\n",
    "Все признаки представлены в виде типов object, int, float<br>\n",
    "\n",
    "Задачей является классифицирование звезды по ее типу."
   ]
  },
  {
   "cell_type": "markdown",
   "id": "5442256c",
   "metadata": {},
   "source": [
    "<b>3.\tЦелевая и факторные переменные</b>"
   ]
  },
  {
   "cell_type": "markdown",
   "id": "04077a3b",
   "metadata": {},
   "source": [
    "ЦЕЛЕВАЯ ПЕРЕМЕННАЯ"
   ]
  },
  {
   "cell_type": "code",
   "execution_count": 7,
   "id": "124dec53",
   "metadata": {},
   "outputs": [
    {
     "data": {
      "text/plain": [
       "array([0, 1, 2, 3, 4, 5], dtype=int64)"
      ]
     },
     "execution_count": 7,
     "metadata": {},
     "output_type": "execute_result"
    }
   ],
   "source": [
    "# целевая переменная - площадь\n",
    "\n",
    "df['Star type'].unique()"
   ]
  },
  {
   "cell_type": "code",
   "execution_count": 8,
   "id": "c4d8daa9",
   "metadata": {},
   "outputs": [
    {
     "data": {
      "text/plain": [
       "<AxesSubplot:xlabel='Star type', ylabel='count'>"
      ]
     },
     "execution_count": 8,
     "metadata": {},
     "output_type": "execute_result"
    },
    {
     "data": {
      "image/png": "[encoded data removed]",
      "text/plain": [
       "<Figure size 720x360 with 1 Axes>"
      ]
     },
     "metadata": {
      "needs_background": "light"
     },
     "output_type": "display_data"
    }
   ],
   "source": [
    "import seaborn as sns\n",
    "import matplotlib.pyplot as plt\n",
    "\n",
    "plt.figure(figsize=(10,5))\n",
    "sns.countplot(x=df['Star type'])"
   ]
  },
  {
   "cell_type": "code",
   "execution_count": 9,
   "id": "6cfb45d2",
   "metadata": {},
   "outputs": [
    {
     "data": {
      "text/plain": [
       "0    40\n",
       "1    40\n",
       "2    40\n",
       "3    40\n",
       "4    40\n",
       "5    40\n",
       "Name: Star type, dtype: int64"
      ]
     },
     "execution_count": 9,
     "metadata": {},
     "output_type": "execute_result"
    }
   ],
   "source": [
    "df['Star type'].value_counts()"
   ]
  },
  {
   "cell_type": "markdown",
   "id": "7a15fe72",
   "metadata": {},
   "source": [
    "Данные сбалансированны, каждый тип звезды представлен в количестве 40 штук"
   ]
  },
  {
   "cell_type": "markdown",
   "id": "d176cfe7",
   "metadata": {},
   "source": [
    "ФАКТОРНЫЕ ПЕРЕМЕННЫЕ"
   ]
  },
  {
   "cell_type": "code",
   "execution_count": 12,
   "id": "4753c69d",
   "metadata": {},
   "outputs": [
    {
     "name": "stdout",
     "output_type": "stream",
     "text": [
      "Категориальные признаки:  ['Star color', 'Spectral Class']\n",
      "Количественные признаки:  ['Temperature (K)', 'Luminosity(L/Lo)', 'Radius(R/Ro)', 'Absolute magnitude(Mv)', 'Star type']\n"
     ]
    }
   ],
   "source": [
    "print('Категориальные признаки: ', df.select_dtypes(include='object').columns.tolist())\n",
    "print('Количественные признаки: ', df.select_dtypes(exclude='object').columns.tolist())"
   ]
  },
  {
   "cell_type": "markdown",
   "id": "2574e519",
   "metadata": {},
   "source": [
    "количественные признаки"
   ]
  },
  {
   "cell_type": "code",
   "execution_count": 21,
   "id": "47d0bdca",
   "metadata": {},
   "outputs": [
    {
     "data": {
      "image/png": "[encoded data removed]",
      "text/plain": [
       "<Figure size 1152x864 with 4 Axes>"
      ]
     },
     "metadata": {
      "needs_background": "light"
     },
     "output_type": "display_data"
    }
   ],
   "source": [
    "# распределение количественных признаков\n",
    "\n",
    "cols = df.select_dtypes(exclude='object').columns.tolist()\n",
    "cols.remove(\"Star type\")\n",
    "\n",
    "fig,ax = plt.subplots(2,2, figsize=(16, 12))\n",
    "ax = ax.flatten()\n",
    "i = 0\n",
    "for col in cols:\n",
    "    skew = df[col].skew()\n",
    "    sns.histplot(x=df[col], ax = ax[i], kde=True, label=f'Skew = {round(skew, 3)}, {col}')\n",
    "    ax[i].legend(loc='best')\n",
    "    i += 1\n",
    "plt.show()\n"
   ]
  },
  {
   "cell_type": "markdown",
   "id": "fba1a629",
   "metadata": {},
   "source": [
    "категориальные признаки"
   ]
  },
  {
   "cell_type": "code",
   "execution_count": 100,
   "id": "ee7ea789",
   "metadata": {},
   "outputs": [
    {
     "data": {
      "image/png": "[encoded data removed]",
      "text/plain": [
       "<Figure size 1080x360 with 1 Axes>"
      ]
     },
     "metadata": {},
     "output_type": "display_data"
    }
   ],
   "source": [
    "# распределение столбца 'Star color'\n",
    "\n",
    "df2 = pd.read_csv(\"data/6 class csv.csv\")\n",
    "\n",
    "values = pd.DataFrame(df2['Star color'].value_counts().sort_values(ascending=False))\n",
    "plt.figure(figsize=(15,5))\n",
    "ax = sns.barplot(x = values.index, y = 'Star color' , data = values, palette='pastel')\n",
    "ax = ax.set_xticklabels(ax.get_xticklabels(), rotation=90)"
   ]
  },
  {
   "cell_type": "code",
   "execution_count": 101,
   "id": "4048563b",
   "metadata": {},
   "outputs": [
    {
     "data": {
      "image/png": "[encoded data removed]",
      "text/plain": [
       "<Figure size 720x360 with 1 Axes>"
      ]
     },
     "metadata": {},
     "output_type": "display_data"
    }
   ],
   "source": [
    "# распределение столбца 'Spectral Class'\n",
    "\n",
    "plt.figure(figsize=(10,5))\n",
    "sns.countplot(data=df2, x=\"Spectral Class\", palette='pastel')\n",
    "plt.xlabel(None)\n",
    "plt.show()"
   ]
  },
  {
   "cell_type": "markdown",
   "id": "2f797689",
   "metadata": {},
   "source": [
    "Целевой признак 'Star type' представлен в виде 6 значений от 0 до 5<br>\n",
    "Факторные признаки представлены в виде различных значений. Они описывают различные свойства звезд: температуру, светимость, радиус, магнитуда, цвет и спектральный класс<br>\n",
    "Распределение признаков скошено вправо<br>\n"
   ]
  },
  {
   "cell_type": "markdown",
   "id": "2424d3f0",
   "metadata": {},
   "source": [
    "<b>Анализ отсутствующих значений</b>"
   ]
  },
  {
   "cell_type": "markdown",
   "id": "c6b1bb58",
   "metadata": {},
   "source": [
    "ДУБЛИКАТЫ"
   ]
  },
  {
   "cell_type": "code",
   "execution_count": 19,
   "id": "d94eab70",
   "metadata": {},
   "outputs": [
    {
     "data": {
      "text/plain": [
       "0"
      ]
     },
     "execution_count": 19,
     "metadata": {},
     "output_type": "execute_result"
    }
   ],
   "source": [
    "df.duplicated().sum()"
   ]
  },
  {
   "cell_type": "markdown",
   "id": "936115b8",
   "metadata": {},
   "source": [
    "Дубликатов в датафрейме нет"
   ]
  },
  {
   "cell_type": "markdown",
   "id": "24646045",
   "metadata": {},
   "source": [
    "ОТСУТСТВУЮЩИЕ ЗНАЧЕНИЯ"
   ]
  },
  {
   "cell_type": "code",
   "execution_count": 13,
   "id": "654d269d",
   "metadata": {},
   "outputs": [
    {
     "data": {
      "text/plain": [
       "Temperature (K)           0\n",
       "Luminosity(L/Lo)          0\n",
       "Radius(R/Ro)              0\n",
       "Absolute magnitude(Mv)    0\n",
       "Star type                 0\n",
       "Star color                0\n",
       "Spectral Class            0\n",
       "dtype: int64"
      ]
     },
     "execution_count": 13,
     "metadata": {},
     "output_type": "execute_result"
    }
   ],
   "source": [
    "df.isnull().sum()"
   ]
  },
  {
   "cell_type": "markdown",
   "id": "5ce67d94",
   "metadata": {},
   "source": [
    "Пропущенных значений в датафрейме нет<br>"
   ]
  },
  {
   "cell_type": "markdown",
   "id": "bca0c241",
   "metadata": {},
   "source": [
    "УДАЛЕНИЕ НЕНУЖНЫХ ДАННЫХ"
   ]
  },
  {
   "cell_type": "code",
   "execution_count": 110,
   "id": "6566424c",
   "metadata": {},
   "outputs": [
    {
     "data": {
      "image/png": "[encoded data removed]",
      "text/plain": [
       "<Figure size 720x576 with 2 Axes>"
      ]
     },
     "metadata": {},
     "output_type": "display_data"
    }
   ],
   "source": [
    "import seaborn as sns\n",
    "import matplotlib.pyplot as plt\n",
    "\n",
    "\n",
    "plt.figure(figsize=(10,8))\n",
    "ax=sns.heatmap(df.corr(),annot=True,linewidths=.5,fmt='.1f')\n",
    "plt.show()"
   ]
  },
  {
   "cell_type": "markdown",
   "id": "02f67a4d",
   "metadata": {},
   "source": [
    "столбец 'Absolute magnitude(Mv)' имеет сильную корреляцию. Удалять не будем, т.к. мало признаков в датасете (возможно удаление + введение доп признаков)\n"
   ]
  },
  {
   "cell_type": "markdown",
   "id": "66c922be",
   "metadata": {},
   "source": [
    "<b>Количественные параметры датасета</b>"
   ]
  },
  {
   "cell_type": "markdown",
   "id": "49624aae",
   "metadata": {},
   "source": [
    "сильная корреляция - можно рассмотреть только один из двух признаков\n",
    "чем меньше корреляция - значит можно этот признак убрать из изучения"
   ]
  },
  {
   "cell_type": "code",
   "execution_count": 146,
   "id": "0eda762d",
   "metadata": {},
   "outputs": [
    {
     "data": {
      "text/html": [
       "<div>\n",
       "<style scoped>\n",
       "    .dataframe tbody tr th:only-of-type {\n",
       "        vertical-align: middle;\n",
       "    }\n",
       "\n",
       "    .dataframe tbody tr th {\n",
       "        vertical-align: top;\n",
       "    }\n",
       "\n",
       "    .dataframe thead th {\n",
       "        text-align: right;\n",
       "    }\n",
       "</style>\n",
       "<table border=\"1\" class=\"dataframe\">\n",
       "  <thead>\n",
       "    <tr style=\"text-align: right;\">\n",
       "      <th></th>\n",
       "      <th>count</th>\n",
       "      <th>mean</th>\n",
       "      <th>std</th>\n",
       "      <th>min</th>\n",
       "      <th>25%</th>\n",
       "      <th>50%</th>\n",
       "      <th>75%</th>\n",
       "      <th>max</th>\n",
       "    </tr>\n",
       "  </thead>\n",
       "  <tbody>\n",
       "    <tr>\n",
       "      <th>Temperature (K)</th>\n",
       "      <td>240.0</td>\n",
       "      <td>10497.462500</td>\n",
       "      <td>9552.425037</td>\n",
       "      <td>1939.00000</td>\n",
       "      <td>3344.250000</td>\n",
       "      <td>5776.0000</td>\n",
       "      <td>15055.5000</td>\n",
       "      <td>40000.00</td>\n",
       "    </tr>\n",
       "    <tr>\n",
       "      <th>Luminosity(L/Lo)</th>\n",
       "      <td>240.0</td>\n",
       "      <td>107188.361635</td>\n",
       "      <td>179432.244940</td>\n",
       "      <td>0.00008</td>\n",
       "      <td>0.000865</td>\n",
       "      <td>0.0705</td>\n",
       "      <td>198050.0000</td>\n",
       "      <td>849420.00</td>\n",
       "    </tr>\n",
       "    <tr>\n",
       "      <th>Radius(R/Ro)</th>\n",
       "      <td>240.0</td>\n",
       "      <td>237.157781</td>\n",
       "      <td>517.155763</td>\n",
       "      <td>0.00840</td>\n",
       "      <td>0.102750</td>\n",
       "      <td>0.7625</td>\n",
       "      <td>42.7500</td>\n",
       "      <td>1948.50</td>\n",
       "    </tr>\n",
       "    <tr>\n",
       "      <th>Absolute magnitude(Mv)</th>\n",
       "      <td>240.0</td>\n",
       "      <td>4.382396</td>\n",
       "      <td>10.532512</td>\n",
       "      <td>-11.92000</td>\n",
       "      <td>-6.232500</td>\n",
       "      <td>8.3130</td>\n",
       "      <td>13.6975</td>\n",
       "      <td>20.06</td>\n",
       "    </tr>\n",
       "    <tr>\n",
       "      <th>Star type</th>\n",
       "      <td>240.0</td>\n",
       "      <td>2.500000</td>\n",
       "      <td>1.711394</td>\n",
       "      <td>0.00000</td>\n",
       "      <td>1.000000</td>\n",
       "      <td>2.5000</td>\n",
       "      <td>4.0000</td>\n",
       "      <td>5.00</td>\n",
       "    </tr>\n",
       "  </tbody>\n",
       "</table>\n",
       "</div>"
      ],
      "text/plain": [
       "                        count           mean            std         min  \\\n",
       "Temperature (K)         240.0   10497.462500    9552.425037  1939.00000   \n",
       "Luminosity(L/Lo)        240.0  107188.361635  179432.244940     0.00008   \n",
       "Radius(R/Ro)            240.0     237.157781     517.155763     0.00840   \n",
       "Absolute magnitude(Mv)  240.0       4.382396      10.532512   -11.92000   \n",
       "Star type               240.0       2.500000       1.711394     0.00000   \n",
       "\n",
       "                                25%        50%          75%        max  \n",
       "Temperature (K)         3344.250000  5776.0000   15055.5000   40000.00  \n",
       "Luminosity(L/Lo)           0.000865     0.0705  198050.0000  849420.00  \n",
       "Radius(R/Ro)               0.102750     0.7625      42.7500    1948.50  \n",
       "Absolute magnitude(Mv)    -6.232500     8.3130      13.6975      20.06  \n",
       "Star type                  1.000000     2.5000       4.0000       5.00  "
      ]
     },
     "execution_count": 146,
     "metadata": {},
     "output_type": "execute_result"
    }
   ],
   "source": [
    "df.describe().T"
   ]
  },
  {
   "cell_type": "markdown",
   "id": "d99eb0df",
   "metadata": {},
   "source": [
    "Количество столбцов каждого признака совпадает с размером набора данных. Это подтверждает то, что пропущенных значений нет.\n",
    "\n",
    "Часть признаков имеют более высокое среднее значение, чем медиана, т.е. распределения перекошены вправо.<br>\n",
    "Особенно это видно по признаку Luminosity(L/Lo), Radius(R/Ro)<br>\n",
    "Распределение признака Absolute magnitude(Mv) наоборот имеет скос влево."
   ]
  },
  {
   "cell_type": "code",
   "execution_count": 147,
   "id": "480aed5a",
   "metadata": {},
   "outputs": [
    {
     "name": "stdout",
     "output_type": "stream",
     "text": [
      "Перекосы: \n",
      "Temperature (K)           1.321568\n",
      "Luminosity(L/Lo)          2.068069\n",
      "Radius(R/Ro)              1.946800\n",
      "Absolute magnitude(Mv)   -0.121540\n",
      "Star type                 0.000000\n",
      "dtype: float64\n",
      "\n",
      "Эксцессы: \n",
      "Temperature (K)           0.877352\n",
      "Luminosity(L/Lo)          4.465098\n",
      "Radius(R/Ro)              2.072935\n",
      "Absolute magnitude(Mv)   -1.655888\n",
      "Star type                -1.269979\n",
      "dtype: float64\n"
     ]
    }
   ],
   "source": [
    "# перекос - степень искажения нормального распределения\n",
    "print(\"Перекосы: \\n{}\".format(df.select_dtypes(exclude='object').skew()))\n",
    "\n",
    "print()\n",
    "\n",
    "# хвосты распределения - описывает наличие выбросов\n",
    "print(\"Эксцессы: \\n{}\".format(df.select_dtypes(exclude='object').kurtosis()))"
   ]
  },
  {
   "cell_type": "markdown",
   "id": "64a0dfec",
   "metadata": {},
   "source": [
    "Колонки, которые имеют положительную асимметрию, значение больше +1, поэтому они перекошены вправо<br>\n",
    "Колонки, которые имеют отрицательную асимметрию, значение меньше -1, поэтому они перекошены влево<br>\n",
    "\n",
    "Колонки 'Luminosity(L/Lo)', 'Radius(R/Ro)' имеют высокое значение эксцесса, т.е. имеют выбросы<br>"
   ]
  },
  {
   "cell_type": "markdown",
   "id": "619d122c",
   "metadata": {},
   "source": [
    "Проверим перекосы для некоторых признаком с наибольшими значениями"
   ]
  },
  {
   "cell_type": "code",
   "execution_count": 26,
   "id": "fee13de0",
   "metadata": {},
   "outputs": [
    {
     "data": {
      "image/png": "[encoded data removed]",
      "text/plain": [
       "<Figure size 720x288 with 1 Axes>"
      ]
     },
     "metadata": {
      "needs_background": "light"
     },
     "output_type": "display_data"
    },
    {
     "data": {
      "image/png": "[encoded data removed]",
      "text/plain": [
       "<Figure size 720x288 with 1 Axes>"
      ]
     },
     "metadata": {
      "needs_background": "light"
     },
     "output_type": "display_data"
    },
    {
     "data": {
      "image/png": "[encoded data removed]",
      "text/plain": [
       "<Figure size 720x288 with 1 Axes>"
      ]
     },
     "metadata": {
      "needs_background": "light"
     },
     "output_type": "display_data"
    }
   ],
   "source": [
    "# распределение \n",
    "\n",
    "plt.figure(figsize=(10,4))\n",
    "ax = sns.kdeplot(df['Temperature (K)'],shade=True,color='b')\n",
    "plt.xticks([i for i in range(0,50,50)])\n",
    "plt.show()\n",
    "\n",
    "plt.figure(figsize=(10,4))\n",
    "ax = sns.kdeplot(df['Luminosity(L/Lo)'],shade=True,color='b')\n",
    "plt.xticks([i for i in range(0,10,5)])\n",
    "plt.show()\n",
    "\n",
    "plt.figure(figsize=(10,4))\n",
    "ax = sns.kdeplot(df['Radius(R/Ro)'],shade=True,color='b')\n",
    "plt.xticks([i for i in range(0,10,5)])\n",
    "plt.show()\n"
   ]
  },
  {
   "cell_type": "markdown",
   "id": "f1d3e6c0",
   "metadata": {},
   "source": [
    "признаки скошены вправо - что соответствует ранее полученным результам"
   ]
  },
  {
   "cell_type": "markdown",
   "id": "00ed2594",
   "metadata": {},
   "source": [
    "Теперь рассмотрим выбросы для признаков"
   ]
  },
  {
   "cell_type": "code",
   "execution_count": 27,
   "id": "0e5295d3",
   "metadata": {},
   "outputs": [
    {
     "data": {
      "image/png": "[encoded data removed]",
      "text/plain": [
       "<Figure size 432x288 with 1 Axes>"
      ]
     },
     "metadata": {
      "needs_background": "light"
     },
     "output_type": "display_data"
    },
    {
     "data": {
      "text/plain": [
       "<AxesSubplot:xlabel='Radius(R/Ro)'>"
      ]
     },
     "execution_count": 27,
     "metadata": {},
     "output_type": "execute_result"
    },
    {
     "data": {
      "image/png": "[encoded data removed]",
      "text/plain": [
       "<Figure size 432x288 with 1 Axes>"
      ]
     },
     "metadata": {
      "needs_background": "light"
     },
     "output_type": "display_data"
    }
   ],
   "source": [
    "# выбросы\n",
    "\n",
    "sns.boxplot(x=df['Luminosity(L/Lo)'])\n",
    "plt.show()\n",
    "sns.boxplot(x=df['Radius(R/Ro)'])\n",
    "\n"
   ]
  },
  {
   "cell_type": "markdown",
   "id": "c4339e0f",
   "metadata": {},
   "source": [
    "наличие выбросов подтверждено графиком. наибольшее кол-во выбросов у признака age"
   ]
  },
  {
   "cell_type": "markdown",
   "id": "d4924ccd",
   "metadata": {},
   "source": [
    "поработаем с выбросами - заменим значения на натуральный логарифм"
   ]
  },
  {
   "cell_type": "code",
   "execution_count": 162,
   "id": "e7456354",
   "metadata": {},
   "outputs": [
    {
     "data": {
      "text/plain": [
       "Luminosity(L/Lo)    0.364929\n",
       "Radius(R/Ro)        1.003220\n",
       "dtype: float64"
      ]
     },
     "execution_count": 162,
     "metadata": {},
     "output_type": "execute_result"
    }
   ],
   "source": [
    "# работа с выбросами - замена значений на натуральный логарифм\n",
    "\n",
    "outlier_columns = ['Luminosity(L/Lo)', 'Radius(R/Ro)']\n",
    "np.log1p(df[outlier_columns]).skew()"
   ]
  },
  {
   "cell_type": "code",
   "execution_count": 163,
   "id": "ea4a1180",
   "metadata": {},
   "outputs": [
    {
     "data": {
      "text/plain": [
       "Luminosity(L/Lo)   -1.783091\n",
       "Radius(R/Ro)       -0.488341\n",
       "dtype: float64"
      ]
     },
     "execution_count": 163,
     "metadata": {},
     "output_type": "execute_result"
    }
   ],
   "source": [
    "np.log1p(df[outlier_columns]).kurtosis()"
   ]
  },
  {
   "cell_type": "markdown",
   "id": "73a94dcd",
   "metadata": {},
   "source": [
    "Выполненное преобразование уменьшило показатели перекоса и выбросов - преобразуем данные"
   ]
  },
  {
   "cell_type": "code",
   "execution_count": 164,
   "id": "4e462f2e",
   "metadata": {},
   "outputs": [],
   "source": [
    "# замена колонок с выбросами на ln\n",
    "\n",
    "df[outlier_columns] = np.log1p(df[outlier_columns])"
   ]
  },
  {
   "cell_type": "code",
   "execution_count": null,
   "id": "d984fe5f",
   "metadata": {},
   "outputs": [],
   "source": []
  },
  {
   "cell_type": "markdown",
   "id": "4ffced7b",
   "metadata": {},
   "source": [
    "<b>Разбиение выборки на обучающую и тестовую</b>"
   ]
  },
  {
   "cell_type": "markdown",
   "id": "c9a4e629",
   "metadata": {},
   "source": [
    "Кодировка категориальных данных на числовые значение"
   ]
  },
  {
   "cell_type": "code",
   "execution_count": 165,
   "id": "ac1e75fa",
   "metadata": {},
   "outputs": [
    {
     "data": {
      "text/html": [
       "<div>\n",
       "<style scoped>\n",
       "    .dataframe tbody tr th:only-of-type {\n",
       "        vertical-align: middle;\n",
       "    }\n",
       "\n",
       "    .dataframe tbody tr th {\n",
       "        vertical-align: top;\n",
       "    }\n",
       "\n",
       "    .dataframe thead th {\n",
       "        text-align: right;\n",
       "    }\n",
       "</style>\n",
       "<table border=\"1\" class=\"dataframe\">\n",
       "  <thead>\n",
       "    <tr style=\"text-align: right;\">\n",
       "      <th></th>\n",
       "      <th>Temperature (K)</th>\n",
       "      <th>Luminosity(L/Lo)</th>\n",
       "      <th>Radius(R/Ro)</th>\n",
       "      <th>Absolute magnitude(Mv)</th>\n",
       "      <th>Star type</th>\n",
       "      <th>Star color</th>\n",
       "      <th>Spectral Class</th>\n",
       "    </tr>\n",
       "  </thead>\n",
       "  <tbody>\n",
       "    <tr>\n",
       "      <th>0</th>\n",
       "      <td>3068</td>\n",
       "      <td>0.002397</td>\n",
       "      <td>0.157004</td>\n",
       "      <td>16.12</td>\n",
       "      <td>0</td>\n",
       "      <td>10</td>\n",
       "      <td>5</td>\n",
       "    </tr>\n",
       "    <tr>\n",
       "      <th>1</th>\n",
       "      <td>3042</td>\n",
       "      <td>0.000500</td>\n",
       "      <td>0.143407</td>\n",
       "      <td>16.60</td>\n",
       "      <td>0</td>\n",
       "      <td>10</td>\n",
       "      <td>5</td>\n",
       "    </tr>\n",
       "    <tr>\n",
       "      <th>2</th>\n",
       "      <td>2600</td>\n",
       "      <td>0.000300</td>\n",
       "      <td>0.097127</td>\n",
       "      <td>18.70</td>\n",
       "      <td>0</td>\n",
       "      <td>10</td>\n",
       "      <td>5</td>\n",
       "    </tr>\n",
       "    <tr>\n",
       "      <th>3</th>\n",
       "      <td>2800</td>\n",
       "      <td>0.000200</td>\n",
       "      <td>0.148420</td>\n",
       "      <td>16.65</td>\n",
       "      <td>0</td>\n",
       "      <td>10</td>\n",
       "      <td>5</td>\n",
       "    </tr>\n",
       "    <tr>\n",
       "      <th>4</th>\n",
       "      <td>1939</td>\n",
       "      <td>0.000138</td>\n",
       "      <td>0.098034</td>\n",
       "      <td>20.06</td>\n",
       "      <td>0</td>\n",
       "      <td>10</td>\n",
       "      <td>5</td>\n",
       "    </tr>\n",
       "  </tbody>\n",
       "</table>\n",
       "</div>"
      ],
      "text/plain": [
       "   Temperature (K)  Luminosity(L/Lo)  Radius(R/Ro)  Absolute magnitude(Mv)  \\\n",
       "0             3068          0.002397      0.157004                   16.12   \n",
       "1             3042          0.000500      0.143407                   16.60   \n",
       "2             2600          0.000300      0.097127                   18.70   \n",
       "3             2800          0.000200      0.148420                   16.65   \n",
       "4             1939          0.000138      0.098034                   20.06   \n",
       "\n",
       "   Star type  Star color  Spectral Class  \n",
       "0          0          10               5  \n",
       "1          0          10               5  \n",
       "2          0          10               5  \n",
       "3          0          10               5  \n",
       "4          0          10               5  "
      ]
     },
     "execution_count": 165,
     "metadata": {},
     "output_type": "execute_result"
    }
   ],
   "source": [
    "# замена столбца Star color и Spectral Class на числовые значения\n",
    "\n",
    "from sklearn import preprocessing\n",
    "\n",
    "df['Star color'] = preprocessing.LabelEncoder().fit_transform(df['Star color'])\n",
    "df['Spectral Class'] = preprocessing.LabelEncoder().fit_transform(df['Spectral Class'])\n",
    "\n",
    "df.head()"
   ]
  },
  {
   "cell_type": "code",
   "execution_count": 166,
   "id": "7aaf91d4",
   "metadata": {},
   "outputs": [
    {
     "name": "stdout",
     "output_type": "stream",
     "text": [
      "Признаки: (240, 6)\n",
      "Метки: (240,)\n"
     ]
    }
   ],
   "source": [
    "# разделение на признаки и метки\n",
    "\n",
    "X = df.drop(columns=['Star type'], axis=1)\n",
    "y = df['Star type']\n",
    "\n",
    "print(f'Признаки: {X.shape}')\n",
    "print(f'Метки: {y.shape}')"
   ]
  },
  {
   "cell_type": "code",
   "execution_count": 167,
   "id": "2ec80d0e",
   "metadata": {},
   "outputs": [
    {
     "name": "stdout",
     "output_type": "stream",
     "text": [
      "Размер:\n",
      " обучающей выборки (192, 6) - признаки; (192,) - метки\n",
      " тестовой выборки  (48, 6) - признаки; (48,) - метки\n"
     ]
    }
   ],
   "source": [
    "# разбиение на выборки\n",
    "\n",
    "from sklearn.model_selection import train_test_split\n",
    "\n",
    "X_train, X_test, y_train, y_test = train_test_split(X, y, test_size=0.2,random_state=4)#Вот это надо делать перед преобразованием данных! -0.5\n",
    "\n",
    "print(f'Размер:')\n",
    "print(f' обучающей выборки {X_train.shape} - признаки; {y_train.shape} - метки')\n",
    "print(f' тестовой выборки  {X_test.shape} - признаки; {y_test.shape} - метки')"
   ]
  },
  {
   "cell_type": "markdown",
   "id": "2c5c5f47",
   "metadata": {},
   "source": [
    "<b>Вариант 5. Исследование влияния обучения без учителя на эффективность обучения</b>"
   ]
  },
  {
   "cell_type": "markdown",
   "id": "9ffff935",
   "metadata": {},
   "source": [
    "ПОДГОТОВКА ДАННЫХ"
   ]
  },
  {
   "cell_type": "code",
   "execution_count": 168,
   "id": "b172d51c",
   "metadata": {},
   "outputs": [],
   "source": [
    "# стандартизация признаков\n",
    "\n",
    "from sklearn.preprocessing import StandardScaler\n",
    "\n",
    "sc = StandardScaler()\n",
    "sc.fit(X_train)\n",
    "\n",
    "X_train = sc.transform(X_train)\n",
    "X_test = sc.transform(X_test)"
   ]
  },
  {
   "cell_type": "markdown",
   "id": "4a43d1a8",
   "metadata": {},
   "source": [
    "ОБУЧЕНИЕ С УЧИТЕЛЕМ"
   ]
  },
  {
   "cell_type": "code",
   "execution_count": 169,
   "id": "ff1dc4fd",
   "metadata": {},
   "outputs": [],
   "source": [
    "# датафрейм для вывода итоговых результатов\n",
    "\n",
    "models = pd.DataFrame(columns=[\"Model\", \"MAE\", \"MSE\", \"r2 Score\", \"RMSE (Cross Validated)\"])"
   ]
  },
  {
   "cell_type": "code",
   "execution_count": 170,
   "id": "97e53467",
   "metadata": {},
   "outputs": [],
   "source": [
    "# функции для расчета показателей\n",
    "\n",
    "from sklearn.metrics import mean_absolute_error, mean_squared_error, r2_score\n",
    "from sklearn.model_selection import cross_val_score\n",
    "\n",
    "def rmse_cv(model):\n",
    "    rmse = np.sqrt(-cross_val_score(model, X, y, scoring=\"neg_mean_squared_error\", cv=5)).mean()\n",
    "    return rmse\n",
    "\n",
    "def evaluate(y, predictions):\n",
    "    mae = mean_absolute_error(y, predictions)\n",
    "    mse = mean_squared_error(y, predictions)\n",
    "    r_squared = r2_score(y, predictions)\n",
    "    return mae, mse, r_squared"
   ]
  },
  {
   "cell_type": "code",
   "execution_count": 171,
   "id": "6b6a31a5",
   "metadata": {},
   "outputs": [
    {
     "data": {
      "image/png": "[encoded data removed]",
      "text/plain": [
       "<Figure size 360x360 with 2 Axes>"
      ]
     },
     "metadata": {
      "needs_background": "light"
     },
     "output_type": "display_data"
    },
    {
     "name": "stdout",
     "output_type": "stream",
     "text": [
      "Точность модели: 0.8958 %\n"
     ]
    }
   ],
   "source": [
    "# ЛОГИСТИЧЕСКАЯ РЕГРЕССИЯ\n",
    "\n",
    "from sklearn.linear_model import LogisticRegression\n",
    "from sklearn.metrics import f1_score\n",
    "from sklearn.metrics import confusion_matrix\n",
    "from sklearn.metrics import accuracy_score\n",
    "\n",
    "model_LR= LogisticRegression(random_state=1, max_iter=10000)\n",
    "model_LR.fit(X_train,y_train)\n",
    "\n",
    "y_pred_lr = model_LR.predict(X_test)\n",
    "\n",
    "# матрица точности классификации\n",
    "plt.figure(figsize=(5,5))\n",
    "\n",
    "f1_score_rfc = f1_score(y_test,y_pred_lr, average='micro')\n",
    "cm_rfc = confusion_matrix(y_test,y_pred_lr)\n",
    "sns.heatmap(cm_rfc, annot=True,fmt=\".0f\",linewidths=3,square=True, cmap='Blues')\n",
    "plt.title('Логистическая регрессия')\n",
    "plt.show()\n",
    "print('Точность модели: {0:0.4f} %'.format(accuracy_score(y_test, y_pred_lr)))\n",
    "\n",
    "acc_lr = accuracy_score(y_test, y_pred_lr)\n",
    "\n",
    "\n",
    "\n",
    "mae, mse, r2 = evaluate(y_test, y_pred_lr)\n",
    "rmse = rmse_cv(model_LR)\n",
    "new_row = {\"Model\": \"LinearRegression\",\"MAE\": mae, \"MSE\": mse, \"r2 Score\": r2, \"RMSE (Cross Validated)\": rmse}\n",
    "models = models.append(new_row, ignore_index=True)"
   ]
  },
  {
   "cell_type": "code",
   "execution_count": 172,
   "id": "18639a96",
   "metadata": {},
   "outputs": [
    {
     "data": {
      "text/plain": [
       "Text(0.5, 1.0, 'Кривая обучения для Логистической регрессии')"
      ]
     },
     "execution_count": 172,
     "metadata": {},
     "output_type": "execute_result"
    },
    {
     "data": {
      "image/png": "[encoded data removed]",
      "text/plain": [
       "<Figure size 720x576 with 1 Axes>"
      ]
     },
     "metadata": {},
     "output_type": "display_data"
    }
   ],
   "source": [
    "# КРИВАЯ ОБУЧЕНИЯ\n",
    "\n",
    "from sklearn.model_selection import learning_curve\n",
    "import math\n",
    "\n",
    "train_sizes=[math.floor(len(X)/4),math.floor(len(X)/3),math.floor(len(X)/2),len(X)]\n",
    "\n",
    "train_sizes,train_scores,valid_scores=learning_curve(estimator=model_LR, X=X, y=y, cv=3)\n",
    "\n",
    "mean_training_scores=train_scores.mean(axis=1)\n",
    "mean_valid_scores=valid_scores.mean(axis=1)\n",
    "plt.style.use('seaborn')\n",
    "plt.figure(figsize=(10,8))\n",
    "plt.plot(train_sizes,mean_training_scores,label='training_scores')\n",
    "plt.plot(train_sizes,mean_valid_scores,label='Validation scores')\n",
    "plt.xlabel('training set size')\n",
    "plt.ylabel('Scores')\n",
    "plt.legend()\n",
    "\n",
    "plt.title('Кривая обучения для Логистической регрессии')"
   ]
  },
  {
   "cell_type": "markdown",
   "id": "37a44700",
   "metadata": {},
   "source": [
    "Тестовая точность близка к обучающей - модель недообучается"
   ]
  },
  {
   "cell_type": "markdown",
   "id": "7c3fedaf",
   "metadata": {},
   "source": [
    "ОБУЧЕНИЕ БЕЗ УЧИТЕЛЯ"
   ]
  },
  {
   "cell_type": "markdown",
   "id": "930d1884",
   "metadata": {},
   "source": [
    "ПОНИЖЕНИЕ РАЗМЕРНОСТИ"
   ]
  },
  {
   "cell_type": "code",
   "execution_count": 173,
   "id": "0485cead",
   "metadata": {},
   "outputs": [],
   "source": [
    "# МЕТОД PCA\n",
    "\n",
    "%matplotlib inline\n",
    "from sklearn.decomposition import PCA\n",
    "\n",
    "# нормализация признаков\n",
    "scaler = StandardScaler()\n",
    "scaled_features = scaler.fit_transform(X)\n",
    "scaled_features\n",
    "\n",
    "# объясненные коэффициенты дисперсии из PCA по всем признакам\n",
    "pca = PCA()\n",
    "pca.fit(scaled_features)\n",
    "\n",
    "# процент отклонения, объясненный каждым из выбранных компонентов\n",
    "exp_variance = pca.explained_variance_ratio_"
   ]
  },
  {
   "cell_type": "code",
   "execution_count": 174,
   "id": "eaba6ceb",
   "metadata": {},
   "outputs": [
    {
     "data": {
      "text/plain": [
       "Text(0.5, 0, 'Principal Component number')"
      ]
     },
     "execution_count": 174,
     "metadata": {},
     "output_type": "execute_result"
    },
    {
     "data": {
      "image/png": "[encoded data removed]",
      "text/plain": [
       "<Figure size 432x288 with 1 Axes>"
      ]
     },
     "metadata": {
      "needs_background": "light"
     },
     "output_type": "display_data"
    }
   ],
   "source": [
    "# гистограмма\n",
    "\n",
    "fig, ax = plt.subplots()\n",
    "ax.bar(range(pca.n_components_), exp_variance)\n",
    "ax.set_xlabel('Principal Component number')"
   ]
  },
  {
   "cell_type": "code",
   "execution_count": 175,
   "id": "1b489b13",
   "metadata": {},
   "outputs": [
    {
     "data": {
      "text/plain": [
       "<matplotlib.lines.Line2D at 0x1be4b7d8910>"
      ]
     },
     "execution_count": 175,
     "metadata": {},
     "output_type": "execute_result"
    },
    {
     "data": {
      "image/png": "[encoded data removed]",
      "text/plain": [
       "<Figure size 432x288 with 1 Axes>"
      ]
     },
     "metadata": {
      "needs_background": "light"
     },
     "output_type": "display_data"
    }
   ],
   "source": [
    "# расчет кумулятивной объясненной дисперсии\n",
    "cum_exp_variance = np.cumsum(exp_variance)\n",
    "\n",
    "# график кумулятивной объясненной дисперсии и пунктирная \n",
    "# линия на уровне 0,85.\n",
    "fig, ax = plt.subplots()\n",
    "ax.plot(cum_exp_variance)\n",
    "ax.axhline(y=0.95, linestyle='--')"
   ]
  },
  {
   "cell_type": "markdown",
   "id": "cb0f63de",
   "metadata": {},
   "source": [
    "Из графика видно, что примерно 2 признака могут объяснить 95% дисперсии. Поэтому можно использовать 2 компоненты для проведения PCA и уменьшения размерности выборки"
   ]
  },
  {
   "cell_type": "code",
   "execution_count": 176,
   "id": "30249c69",
   "metadata": {},
   "outputs": [
    {
     "data": {
      "text/plain": [
       "(240, 2)"
      ]
     },
     "execution_count": 176,
     "metadata": {},
     "output_type": "execute_result"
    }
   ],
   "source": [
    "# PCA с выбранным числом компонентов\n",
    "pca = PCA(n_components = 2, random_state=10)\n",
    "\n",
    "# подгонка и преобразование признаков\n",
    "pca = pca.fit_transform(scaled_features)\n",
    "\n",
    "pca.shape"
   ]
  },
  {
   "cell_type": "code",
   "execution_count": 177,
   "id": "b1e19f71",
   "metadata": {},
   "outputs": [
    {
     "data": {
      "image/png": "[encoded data removed]",
      "text/plain": [
       "<Figure size 432x288 with 2 Axes>"
      ]
     },
     "metadata": {
      "needs_background": "light"
     },
     "output_type": "display_data"
    },
    {
     "name": "stdout",
     "output_type": "stream",
     "text": [
      "Точность модели: 0.8056 %\n"
     ]
    }
   ],
   "source": [
    "# повторное обучение модели\n",
    "\n",
    "X_train_pca, X_test_pca, y_train_pca, y_test_pca = train_test_split(pca, y, test_size=0.3,random_state=4)#Зачем вы уменьшаете кол-во данных, это надо делать один раз в самом начале! -0.5\n",
    "\n",
    "model_LR_pca= LogisticRegression(random_state=1, max_iter=10000)\n",
    "model_LR_pca.fit(X_train_pca, y_train_pca)\n",
    "\n",
    "y_pred_pca = model_LR_pca.predict(X_test_pca)\n",
    "\n",
    "\n",
    "# матрица точности классификации\n",
    "f1_score_rfc_pca = f1_score(y_test_pca, y_pred_pca, average='micro')\n",
    "cm_rfc_pca = confusion_matrix(y_test_pca, y_pred_pca)\n",
    "sns.heatmap(cm_rfc_pca, annot=True, fmt=\".0f\", linewidths=3, square=True, cmap='Blues')\n",
    "plt.title('Логистическая регрессия')\n",
    "plt.show()\n",
    "print('Точность модели: {0:0.4f} %'.format(accuracy_score(y_test_pca, y_pred_pca)))\n",
    "\n",
    "\n",
    "mae, mse, r2 = evaluate(y_test_pca, y_pred_pca)\n",
    "rmse = rmse_cv(model_LR_pca)\n",
    "new_row = {\"Model\": \"LinearRegression PCA\",\"MAE\": mae, \"MSE\": mse, \"r2 Score\": r2, \"RMSE (Cross Validated)\": rmse}\n",
    "models = models.append(new_row, ignore_index=True)"
   ]
  },
  {
   "cell_type": "code",
   "execution_count": 178,
   "id": "d9e9f3ec",
   "metadata": {},
   "outputs": [
    {
     "data": {
      "text/plain": [
       "Text(0.5, 1.0, 'Кривая обучения для Логистической регрессии')"
      ]
     },
     "execution_count": 178,
     "metadata": {},
     "output_type": "execute_result"
    },
    {
     "data": {
      "image/png": "[encoded data removed]",
      "text/plain": [
       "<Figure size 720x576 with 1 Axes>"
      ]
     },
     "metadata": {},
     "output_type": "display_data"
    }
   ],
   "source": [
    "train_sizes=[math.floor(len(X)/4),math.floor(len(X)/3),math.floor(len(X)/2),len(X)]\n",
    "\n",
    "train_sizes,train_scores,valid_scores=learning_curve(estimator=model_LR_pca, X=X, y=y, cv=3)\n",
    "\n",
    "mean_training_scores=train_scores.mean(axis=1)\n",
    "mean_valid_scores=valid_scores.mean(axis=1)\n",
    "plt.style.use('seaborn')\n",
    "plt.figure(figsize=(10,8))\n",
    "plt.plot(train_sizes,mean_training_scores,label='training_scores')\n",
    "plt.plot(train_sizes,mean_valid_scores,label='Validation scores')\n",
    "plt.xlabel('training set size')\n",
    "plt.ylabel('Scores')\n",
    "plt.legend()\n",
    "\n",
    "plt.title('Кривая обучения для Логистической регрессии')"
   ]
  },
  {
   "cell_type": "markdown",
   "id": "9eb734e2",
   "metadata": {},
   "source": [
    "В результате обучения модели на данных с пониженной размерностью получили уменьшение точности с 89 до 80%"
   ]
  },
  {
   "cell_type": "code",
   "execution_count": 179,
   "id": "2956bd9c",
   "metadata": {},
   "outputs": [
    {
     "data": {
      "text/html": [
       "<div>\n",
       "<style scoped>\n",
       "    .dataframe tbody tr th:only-of-type {\n",
       "        vertical-align: middle;\n",
       "    }\n",
       "\n",
       "    .dataframe tbody tr th {\n",
       "        vertical-align: top;\n",
       "    }\n",
       "\n",
       "    .dataframe thead th {\n",
       "        text-align: right;\n",
       "    }\n",
       "</style>\n",
       "<table border=\"1\" class=\"dataframe\">\n",
       "  <thead>\n",
       "    <tr style=\"text-align: right;\">\n",
       "      <th></th>\n",
       "      <th>Model</th>\n",
       "      <th>MAE</th>\n",
       "      <th>MSE</th>\n",
       "      <th>r2 Score</th>\n",
       "      <th>RMSE (Cross Validated)</th>\n",
       "    </tr>\n",
       "  </thead>\n",
       "  <tbody>\n",
       "    <tr>\n",
       "      <th>0</th>\n",
       "      <td>LinearRegression</td>\n",
       "      <td>0.166667</td>\n",
       "      <td>0.291667</td>\n",
       "      <td>0.875348</td>\n",
       "      <td>0.181496</td>\n",
       "    </tr>\n",
       "    <tr>\n",
       "      <th>1</th>\n",
       "      <td>LinearRegression PCA</td>\n",
       "      <td>0.291667</td>\n",
       "      <td>0.486111</td>\n",
       "      <td>0.797542</td>\n",
       "      <td>0.181496</td>\n",
       "    </tr>\n",
       "  </tbody>\n",
       "</table>\n",
       "</div>"
      ],
      "text/plain": [
       "                  Model       MAE       MSE  r2 Score  RMSE (Cross Validated)\n",
       "0      LinearRegression  0.166667  0.291667  0.875348                0.181496\n",
       "1  LinearRegression PCA  0.291667  0.486111  0.797542                0.181496"
      ]
     },
     "execution_count": 179,
     "metadata": {},
     "output_type": "execute_result"
    }
   ],
   "source": [
    "models.sort_values(by=\"RMSE (Cross Validated)\")"
   ]
  },
  {
   "cell_type": "code",
   "execution_count": 180,
   "id": "464197e4",
   "metadata": {},
   "outputs": [
    {
     "name": "stdout",
     "output_type": "stream",
     "text": [
      "Логистическая регрессия\n",
      "\n",
      "              precision    recall  f1-score   support\n",
      "\n",
      "           0       0.88      1.00      0.93         7\n",
      "           1       0.75      0.90      0.82        10\n",
      "           2       1.00      1.00      1.00         8\n",
      "           3       0.89      0.73      0.80        11\n",
      "           4       1.00      0.88      0.93         8\n",
      "           5       1.00      1.00      1.00         4\n",
      "\n",
      "    accuracy                           0.90        48\n",
      "   macro avg       0.92      0.92      0.91        48\n",
      "weighted avg       0.90      0.90      0.90        48\n",
      "\n"
     ]
    }
   ],
   "source": [
    "from sklearn.metrics import classification_report\n",
    "\n",
    "print('Логистическая регрессия\\n')\n",
    "print(classification_report(y_test, y_pred_lr))"
   ]
  },
  {
   "cell_type": "code",
   "execution_count": 181,
   "id": "42c39240",
   "metadata": {},
   "outputs": [
    {
     "name": "stdout",
     "output_type": "stream",
     "text": [
      "Логистическая регрессия PCA\n",
      "\n",
      "              precision    recall  f1-score   support\n",
      "\n",
      "           0       1.00      1.00      1.00        12\n",
      "           1       0.65      1.00      0.79        13\n",
      "           2       1.00      1.00      1.00        14\n",
      "           3       0.75      0.46      0.57        13\n",
      "           4       1.00      0.53      0.70        15\n",
      "           5       0.50      1.00      0.67         5\n",
      "\n",
      "    accuracy                           0.81        72\n",
      "   macro avg       0.82      0.83      0.79        72\n",
      "weighted avg       0.86      0.81      0.80        72\n",
      "\n"
     ]
    }
   ],
   "source": [
    "print('Логистическая регрессия PCA\\n')\n",
    "print(classification_report(y_test_pca, y_pred_pca))"
   ]
  },
  {
   "cell_type": "markdown",
   "id": "435581ba",
   "metadata": {},
   "source": [
    "Получили, что точность изначальной модели более высокая, так же она имеет более высокий показатель r2 Score, показатель средне-квадратичной ошибки одинаков для обеих моделей\n",
    "\n",
    "По отчету видим, что точность некоторых типов звезд (например 2) повысилась, а некоторых понизилась."
   ]
  },
  {
   "cell_type": "markdown",
   "id": "5722e136",
   "metadata": {},
   "source": [
    "КЛАСТЕРИЗАЦИЯ"
   ]
  },
  {
   "cell_type": "code",
   "execution_count": 182,
   "id": "55df037f",
   "metadata": {},
   "outputs": [],
   "source": [
    "X_k = df.drop(columns=['Star type'], axis=1)\n",
    "y_k = df['Star type']\n",
    "\n",
    "from sklearn.preprocessing import StandardScaler\n",
    "\n",
    "sc = StandardScaler()\n",
    "sc.fit(X_k)\n",
    "\n",
    "X_k = sc.transform(X_k)"
   ]
  },
  {
   "cell_type": "code",
   "execution_count": 183,
   "id": "b3c3a045",
   "metadata": {},
   "outputs": [],
   "source": [
    "from sklearn import metrics\n",
    "from scipy.spatial.distance import cdist\n",
    "from sklearn.cluster import KMeans\n",
    "\n",
    "wcss = []\n",
    "K = range(2, 10)\n",
    "for k in K:\n",
    "    k_means = KMeans(n_clusters=k, random_state=1).fit(X_k)\n",
    "    k_means.fit(X_k)\n",
    "    wcss.append(k_means.inertia_)"
   ]
  },
  {
   "cell_type": "code",
   "execution_count": 184,
   "id": "dc1597f7",
   "metadata": {},
   "outputs": [
    {
     "data": {
      "image/png": "[encoded data removed]",
      "text/plain": [
       "<Figure size 576x396 with 1 Axes>"
      ]
     },
     "metadata": {},
     "output_type": "display_data"
    }
   ],
   "source": [
    "plt.plot(range(2, 10), wcss, scalex=True)\n",
    "plt.title('The Elbow Method')\n",
    "plt.xlabel('Number of Clusters')\n",
    "plt.ylabel('WCSS')\n",
    "plt.show()"
   ]
  },
  {
   "cell_type": "markdown",
   "id": "33e3d72b",
   "metadata": {},
   "source": [
    "С помощью метода локтя видим. что преломление на кол-ве 4 и 6 - попробуем использовать оба значения"
   ]
  },
  {
   "cell_type": "code",
   "execution_count": 188,
   "id": "ced13e07",
   "metadata": {},
   "outputs": [
    {
     "name": "stdout",
     "output_type": "stream",
     "text": [
      "Результат: 70 из 240 экземпляров были правильно определены.\n",
      "Точность: 0.29\n"
     ]
    }
   ],
   "source": [
    "from sklearn.cluster import KMeans\n",
    "\n",
    "kmeans = KMeans(n_clusters=4,random_state=1)\n",
    "\n",
    "kmeans.fit(X_k)\n",
    "\n",
    "labels = kmeans.labels_\n",
    "\n",
    "# check how many of the samples were correctly labeled\n",
    "\n",
    "correct_labels = sum(y_k == labels)\n",
    "\n",
    "print(\"Результат: %d из %d экземпляров были правильно определены.\" % (correct_labels, y_k.size))\n",
    "\n",
    "print('Точность: {0:0.2f}'. format(correct_labels/float(y_k.size)))"
   ]
  },
  {
   "cell_type": "code",
   "execution_count": 187,
   "id": "d71c1953",
   "metadata": {},
   "outputs": [
    {
     "name": "stdout",
     "output_type": "stream",
     "text": [
      "Результат: 81 из 240 экземпляров были правильно определены.\n",
      "Точность: 0.34\n"
     ]
    }
   ],
   "source": [
    "kmeans = KMeans(n_clusters=6,random_state=1)\n",
    "\n",
    "kmeans.fit(X_k)\n",
    "\n",
    "labels = kmeans.labels_\n",
    "\n",
    "# check how many of the samples were correctly labeled\n",
    "\n",
    "correct_labels = sum(y_k == labels)\n",
    "\n",
    "print(\"Результат: %d из %d экземпляров были правильно определены.\" % (correct_labels, y_k.size))\n",
    "\n",
    "print('Точность: {0:0.2f}'. format(correct_labels/float(y_k.size)))"
   ]
  },
  {
   "cell_type": "markdown",
   "id": "e6794052",
   "metadata": {},
   "source": [
    "В результате получили, что точность модели с 6 кластерами обучилась более точно, определив 81 правильный экземпляр, в отличие от модели с 4 кластерами"
   ]
  },
  {
   "cell_type": "markdown",
   "id": "b214d984",
   "metadata": {},
   "source": [
    "В итоге получена модель, обученная при помощи Логистической регрессии, которая имеет точность в 89%. Эта точность не плохая, но лучше улучшить ее. Можно использовать gridsearch. Либо, т.к. тестовая точность по кривой обучения близка к обучающей, то можно использовать более сложную модель или снижение регуляризации. <br>\n",
    "Использованное обучение без учителя не смогло улучшить изначальную модель"
   ]
  },
  {
   "cell_type": "code",
   "execution_count": null,
   "id": "6584526a",
   "metadata": {},
   "outputs": [],
   "source": []
  }
 ],
 "metadata": {
  "kernelspec": {
   "display_name": "Python 3",
   "language": "python",
   "name": "python3"
  },
  "language_info": {
   "codemirror_mode": {
    "name": "ipython",
    "version": 3
   },
   "file_extension": ".py",
   "mimetype": "text/x-python",
   "name": "python",
   "nbconvert_exporter": "python",
   "pygments_lexer": "ipython3",
   "version": "3.9.13"
  },
  "nbTranslate": {
   "displayLangs": [
    "*"
   ],
   "hotkey": "alt-t",
   "langInMainMenu": true,
   "sourceLang": "en",
   "targetLang": "fr",
   "useGoogleTranslate": true
  }
 },
 "nbformat": 4,
 "nbformat_minor": 5
}
