{
 "cells": [
  {
   "cell_type": "markdown",
   "id": "2ba295f1",
   "metadata": {},
   "source": [
    "# Загрузите датасет breast_cancer"
   ]
  },
  {
   "cell_type": "code",
   "execution_count": 1,
   "id": "d45df030",
   "metadata": {},
   "outputs": [],
   "source": [
    "import numpy as np\n",
    "import matplotlib.pyplot as plt\n",
    "\n",
    "from sklearn.datasets import load_breast_cancer\n",
    "from sklearn.model_selection import train_test_split\n",
    "from sklearn.svm import SVC"
   ]
  },
  {
   "cell_type": "code",
   "execution_count": 2,
   "id": "f1b6877d",
   "metadata": {},
   "outputs": [],
   "source": [
    "breast_cancer = load_breast_cancer()\n",
    "X = breast_cancer.data\n",
    "y = breast_cancer.target"
   ]
  },
  {
   "cell_type": "code",
   "execution_count": 3,
   "id": "7cf02f22",
   "metadata": {},
   "outputs": [
    {
     "data": {
      "text/plain": [
       "(569, 30)"
      ]
     },
     "execution_count": 3,
     "metadata": {},
     "output_type": "execute_result"
    }
   ],
   "source": [
    "X.shape"
   ]
  },
  {
   "cell_type": "code",
   "execution_count": 4,
   "id": "57ffd85b",
   "metadata": {},
   "outputs": [
    {
     "data": {
      "text/plain": [
       "(569,)"
      ]
     },
     "execution_count": 4,
     "metadata": {},
     "output_type": "execute_result"
    }
   ],
   "source": [
    "y.shape"
   ]
  },
  {
   "cell_type": "markdown",
   "id": "91049ee5",
   "metadata": {},
   "source": [
    "# Выберите два первых признака. Таким образом мы уменьшим размерность задачи. У нас была задача множественной классификации, а стала - бинарная."
   ]
  },
  {
   "cell_type": "code",
   "execution_count": 5,
   "id": "8139b78c",
   "metadata": {},
   "outputs": [
    {
     "data": {
      "text/plain": [
       "(569, 2)"
      ]
     },
     "execution_count": 5,
     "metadata": {},
     "output_type": "execute_result"
    }
   ],
   "source": [
    "X_2d = X[:, :2]\n",
    "X_2d.shape"
   ]
  },
  {
   "cell_type": "code",
   "execution_count": 6,
   "id": "ece54abd",
   "metadata": {},
   "outputs": [
    {
     "data": {
      "text/plain": [
       "(569,)"
      ]
     },
     "execution_count": 6,
     "metadata": {},
     "output_type": "execute_result"
    }
   ],
   "source": [
    "y.shape"
   ]
  },
  {
   "cell_type": "markdown",
   "id": "26e1a1c4",
   "metadata": {},
   "source": [
    "# Разделите датасет на обучающую и тестовую выборки в пропорции     80-20"
   ]
  },
  {
   "cell_type": "code",
   "execution_count": 7,
   "id": "c015ca8e",
   "metadata": {},
   "outputs": [],
   "source": [
    "X_train, X_test, y_train, y_test = train_test_split(X_2d, y, test_size=0.2, random_state=0)"
   ]
  },
  {
   "cell_type": "markdown",
   "id": "20aeab4d",
   "metadata": {},
   "source": [
    "# Постройте классификатор на опорных векторах с гауссовым ядром с параметром регуляризации C=0.01. Выведите на экран значение точности на тестовой и обучающей выборке. Сделайте предварительный вывод о степени обученности модели"
   ]
  },
  {
   "cell_type": "code",
   "execution_count": 8,
   "id": "3a994dfa",
   "metadata": {},
   "outputs": [
    {
     "name": "stdout",
     "output_type": "stream",
     "text": [
      "Score (train): 0.6923076923076923\n",
      "Score (test): 0.6666666666666666\n"
     ]
    }
   ],
   "source": [
    "clf = SVC(C=0.01, kernel=\"rbf\")\n",
    "clf.fit(X_train, y_train)\n",
    "\n",
    "print(f\"Score (train): {clf.score(X_train, y_train)}\")\n",
    "print(f\"Score (test): {clf.score(X_test, y_test)}\")"
   ]
  },
  {
   "cell_type": "markdown",
   "id": "705bed23",
   "metadata": {},
   "source": [
    "# Постройте графически зависимость тестовой и обучающей точности от размера обучающей выборки. Прокомментируйте получившийся результат. Сделайте вывод о том, недообучается или переобучается модель? В зависимости от этого выберите варианты, которые могут привести к увеличению точности модели (обычно подходит больше одного варианта):\n",
    "\n",
    "a. собрать больше объектов наблюдения;\n",
    "\n",
    "b. провести обучение на меньшем объеме данных;\n",
    "\n",
    "c. исключить часть признаков из модели;\n",
    "\n",
    "d. добавить новые признаки в модель;\n",
    "\n",
    "e. добавить полиномиальные признаки;\n",
    "\n",
    "f. попробовать более сложные модели;\n",
    "\n",
    "g. попробовать более простые модели;\n",
    "\n",
    "h. увеличить регуляризацию модели;\n",
    "\n",
    "i. уменьшить регуляризацию модели;"
   ]
  },
  {
   "cell_type": "code",
   "execution_count": 9,
   "id": "709bb86e",
   "metadata": {},
   "outputs": [
    {
     "data": {
      "image/png": "[encoded data removed]",
      "text/plain": [
       "<Figure size 432x288 with 1 Axes>"
      ]
     },
     "metadata": {
      "needs_background": "light"
     },
     "output_type": "display_data"
    }
   ],
   "source": [
    "data = np.linspace(len(X_train) // 100 + 10, len(X_train), 100, dtype=int)\n",
    "test_scores = []\n",
    "train_scores = []\n",
    "\n",
    "for i in data:\n",
    "    clf = SVC(C=0.01, kernel='rbf')\n",
    "    x_ = X_train[:i]\n",
    "    y_ = y_train[:i]\n",
    "    clf.fit(x_, y_)\n",
    "    test_scores.append(clf.score(X_test, y_test))\n",
    "    train_scores.append(clf.score(x_, y_))\n",
    "\n",
    "ax = plt.axes()\n",
    "ax.plot(data, test_scores, label=\"test\")\n",
    "ax.plot(data, train_scores, label=\"train\")\n",
    "ax.set_xlabel('size')\n",
    "ax.set_ylabel('score')\n",
    "_ = ax.legend()"
   ]
  },
  {
   "cell_type": "markdown",
   "id": "553d88f1",
   "metadata": {},
   "source": [
    "# Проверьте выдвинутую гипотезу и попробуйте улучшить модель в соответствии с выбранными рекомендациями. Проверьте, увеличивается ли тестовая точность. Сделайте вывод."
   ]
  },
  {
   "cell_type": "code",
   "execution_count": 10,
   "id": "f5ddd14c",
   "metadata": {},
   "outputs": [
    {
     "name": "stdout",
     "output_type": "stream",
     "text": [
      "Score (test): 0.6666666666666666\n",
      "Score (train): 0.6923076923076923\n"
     ]
    }
   ],
   "source": [
    "clf = SVC(C=0.01, kernel=\"rbf\")\n",
    "clf.fit(X_train, y_train)\n",
    "\n",
    "print(f\"Score (test): {clf.score(X_test, y_test)}\")\n",
    "print(f\"Score (train): {clf.score(X_train, y_train)}\")"
   ]
  },
  {
   "cell_type": "markdown",
   "id": "8c513921",
   "metadata": {},
   "source": [
    "Увеличение регуляризации"
   ]
  },
  {
   "cell_type": "code",
   "execution_count": 11,
   "id": "2aabc081",
   "metadata": {},
   "outputs": [
    {
     "name": "stdout",
     "output_type": "stream",
     "text": [
      "Score (test): 0.868421052631579\n",
      "Score (train): 0.9142857142857143\n"
     ]
    }
   ],
   "source": [
    "clf = SVC(kernel='rbf', C=100)\n",
    "clf.fit(X_train, y_train)\n",
    "print(f\"Score (test): {clf.score(X_test, y_test)}\")\n",
    "print(f\"Score (train): {clf.score(X_train, y_train)}\")"
   ]
  },
  {
   "cell_type": "markdown",
   "id": "b06386e0",
   "metadata": {},
   "source": [
    "Вывод: Увеличение регуляризации даёт увеличение точности модели, соответственно модель можно использовать"
   ]
  },
  {
   "cell_type": "markdown",
   "id": "3b90f541",
   "metadata": {},
   "source": [
    "Использование классификатора k-ближайших соседей"
   ]
  },
  {
   "cell_type": "code",
   "execution_count": 12,
   "id": "2d4f7f38",
   "metadata": {},
   "outputs": [
    {
     "name": "stdout",
     "output_type": "stream",
     "text": [
      "Score (test): 0.8947368421052632\n",
      "Score (train): 0.8879120879120879\n"
     ]
    }
   ],
   "source": [
    "import sklearn.neighbors as neigh\n",
    "\n",
    "kn = neigh.KNeighborsClassifier(n_neighbors=90, n_jobs=6).fit(X_train,y_train)\n",
    "print(f\"Score (test): {kn.score(X_test, y_test)}\")\n",
    "print(f\"Score (train): {kn.score(X_train, y_train)}\")"
   ]
  },
  {
   "cell_type": "markdown",
   "id": "df63a1d4",
   "metadata": {},
   "source": [
    "Вывод: Результаты по алгоритму k-ближайших соседей выше, чем SVC(C=0.01, kernel=\"rbf\")"
   ]
  },
  {
   "cell_type": "markdown",
   "id": "5b567b7c",
   "metadata": {},
   "source": [
    "Использование логистической регресси"
   ]
  },
  {
   "cell_type": "code",
   "execution_count": 13,
   "id": "fd3891ca",
   "metadata": {},
   "outputs": [
    {
     "name": "stdout",
     "output_type": "stream",
     "text": [
      "Score (test): 0.8947368421052632\n",
      "Score (train): 0.8989010989010989\n"
     ]
    }
   ],
   "source": [
    "from sklearn.linear_model import LogisticRegression\n",
    "\n",
    "logr = LogisticRegression(max_iter=5000, n_jobs=6).fit(X_train, y_train)\n",
    "print(f\"Score (test): {logr.score(X_test, y_test)}\")\n",
    "print(f\"Score (train): {logr.score(X_train, y_train)}\")"
   ]
  },
  {
   "cell_type": "markdown",
   "id": "fbe4b7d3",
   "metadata": {},
   "source": [
    "Вывод: Результаты по логистической регрессии выше, чем SVC(C=0.01, kernel=\"rbf\")"
   ]
  },
  {
   "cell_type": "markdown",
   "id": "639edd85",
   "metadata": {},
   "source": [
    "# Повторите предыдущий пункт для различных значений C в диапазоне от 0,0001 до 1 000 000. Обратите внимание на шкалу по вертикальной оси. Для каких значений тестовая точность оптимальна? Какие значения дают недообучение? Какие - переобучение?"
   ]
  },
  {
   "cell_type": "code",
   "execution_count": 14,
   "id": "virtual-opening",
   "metadata": {},
   "outputs": [
    {
     "name": "stdout",
     "output_type": "stream",
     "text": [
      "\u001b[33mDEPRECATION: Configuring installation scheme with distutils config files is deprecated and will no longer work in the near future. If you are using a Homebrew or Linuxbrew Python, please see discussion at https://github.com/Homebrew/homebrew-core/issues/76621\u001b[0m\u001b[33m\n",
      "\u001b[0mRequirement already satisfied: ipywidgets in /usr/local/lib/python3.9/site-packages (8.0.4)\n",
      "Requirement already satisfied: jupyterlab-widgets~=3.0 in /usr/local/lib/python3.9/site-packages (from ipywidgets) (3.0.5)\n",
      "Requirement already satisfied: traitlets>=4.3.1 in /usr/local/lib/python3.9/site-packages (from ipywidgets) (5.0.5)\n",
      "Requirement already satisfied: ipython>=6.1.0 in /usr/local/lib/python3.9/site-packages (from ipywidgets) (7.20.0)\n",
      "Requirement already satisfied: ipykernel>=4.5.1 in /usr/local/lib/python3.9/site-packages (from ipywidgets) (5.4.3)\n",
      "Requirement already satisfied: widgetsnbextension~=4.0 in /usr/local/lib/python3.9/site-packages (from ipywidgets) (4.0.5)\n",
      "Requirement already satisfied: jupyter-client in /usr/local/lib/python3.9/site-packages (from ipykernel>=4.5.1->ipywidgets) (6.1.11)\n",
      "Requirement already satisfied: appnope in /usr/local/lib/python3.9/site-packages (from ipykernel>=4.5.1->ipywidgets) (0.1.2)\n",
      "Requirement already satisfied: tornado>=4.2 in /usr/local/lib/python3.9/site-packages (from ipykernel>=4.5.1->ipywidgets) (6.1)\n",
      "Requirement already satisfied: backcall in /usr/local/lib/python3.9/site-packages (from ipython>=6.1.0->ipywidgets) (0.2.0)\n",
      "Requirement already satisfied: pexpect>4.3 in /usr/local/lib/python3.9/site-packages (from ipython>=6.1.0->ipywidgets) (4.8.0)\n",
      "Requirement already satisfied: pickleshare in /usr/local/lib/python3.9/site-packages (from ipython>=6.1.0->ipywidgets) (0.7.5)\n",
      "Requirement already satisfied: prompt-toolkit!=3.0.0,!=3.0.1,<3.1.0,>=2.0.0 in /usr/local/lib/python3.9/site-packages (from ipython>=6.1.0->ipywidgets) (3.0.14)\n",
      "Requirement already satisfied: setuptools>=18.5 in /usr/local/lib/python3.9/site-packages (from ipython>=6.1.0->ipywidgets) (62.3.1)\n",
      "Requirement already satisfied: jedi>=0.16 in /usr/local/lib/python3.9/site-packages (from ipython>=6.1.0->ipywidgets) (0.18.0)\n",
      "Requirement already satisfied: pygments in /usr/local/lib/python3.9/site-packages (from ipython>=6.1.0->ipywidgets) (2.7.4)\n",
      "Requirement already satisfied: decorator in /usr/local/lib/python3.9/site-packages (from ipython>=6.1.0->ipywidgets) (4.4.2)\n",
      "Requirement already satisfied: ipython-genutils in /usr/local/lib/python3.9/site-packages (from traitlets>=4.3.1->ipywidgets) (0.2.0)\n",
      "Requirement already satisfied: parso<0.9.0,>=0.8.0 in /usr/local/lib/python3.9/site-packages (from jedi>=0.16->ipython>=6.1.0->ipywidgets) (0.8.1)\n",
      "Requirement already satisfied: ptyprocess>=0.5 in /usr/local/lib/python3.9/site-packages (from pexpect>4.3->ipython>=6.1.0->ipywidgets) (0.7.0)\n",
      "Requirement already satisfied: wcwidth in /usr/local/lib/python3.9/site-packages (from prompt-toolkit!=3.0.0,!=3.0.1,<3.1.0,>=2.0.0->ipython>=6.1.0->ipywidgets) (0.2.5)\n",
      "Requirement already satisfied: python-dateutil>=2.1 in /usr/local/lib/python3.9/site-packages (from jupyter-client->ipykernel>=4.5.1->ipywidgets) (2.8.1)\n",
      "Requirement already satisfied: jupyter-core>=4.6.0 in /usr/local/lib/python3.9/site-packages (from jupyter-client->ipykernel>=4.5.1->ipywidgets) (4.7.1)\n",
      "Requirement already satisfied: pyzmq>=13 in /usr/local/lib/python3.9/site-packages (from jupyter-client->ipykernel>=4.5.1->ipywidgets) (22.0.2)\n",
      "Requirement already satisfied: six>=1.5 in /usr/local/lib/python3.9/site-packages (from python-dateutil>=2.1->jupyter-client->ipykernel>=4.5.1->ipywidgets) (1.16.0)\n",
      "\u001b[33mDEPRECATION: Configuring installation scheme with distutils config files is deprecated and will no longer work in the near future. If you are using a Homebrew or Linuxbrew Python, please see discussion at https://github.com/Homebrew/homebrew-core/issues/76621\u001b[0m\u001b[33m\n",
      "\u001b[0m\u001b[33mWARNING: There was an error checking the latest version of pip.\u001b[0m\u001b[33m\n",
      "\u001b[0mNote: you may need to restart the kernel to use updated packages.\n"
     ]
    }
   ],
   "source": [
    "pip install ipywidgets"
   ]
  },
  {
   "cell_type": "code",
   "execution_count": 15,
   "id": "loved-communist",
   "metadata": {},
   "outputs": [
    {
     "name": "stdout",
     "output_type": "stream",
     "text": [
      "\u001b[33mDEPRECATION: Configuring installation scheme with distutils config files is deprecated and will no longer work in the near future. If you are using a Homebrew or Linuxbrew Python, please see discussion at https://github.com/Homebrew/homebrew-core/issues/76621\u001b[0m\u001b[33m\n",
      "\u001b[0mRequirement already satisfied: tqdm in /usr/local/lib/python3.9/site-packages (4.64.1)\n",
      "\u001b[33mDEPRECATION: Configuring installation scheme with distutils config files is deprecated and will no longer work in the near future. If you are using a Homebrew or Linuxbrew Python, please see discussion at https://github.com/Homebrew/homebrew-core/issues/76621\u001b[0m\u001b[33m\n",
      "\u001b[0m\u001b[33mWARNING: There was an error checking the latest version of pip.\u001b[0m\u001b[33m\n",
      "\u001b[0mNote: you may need to restart the kernel to use updated packages.\n"
     ]
    }
   ],
   "source": [
    "pip install tqdm"
   ]
  },
  {
   "cell_type": "code",
   "execution_count": 16,
   "id": "726dba78",
   "metadata": {},
   "outputs": [
    {
     "data": {
      "application/vnd.jupyter.widget-view+json": {
       "model_id": "7c283f2baf3340f787123acf2248f6b0",
       "version_major": 2,
       "version_minor": 0
      },
      "text/plain": [
       "  0%|          | 0/50 [00:00<?, ?it/s]"
      ]
     },
     "metadata": {},
     "output_type": "display_data"
    },
    {
     "data": {
      "text/plain": [
       "0.8771929824561403"
      ]
     },
     "execution_count": 16,
     "metadata": {},
     "output_type": "execute_result"
    },
    {
     "data": {
      "image/png": "[encoded data removed]",
      "text/plain": [
       "<Figure size 432x288 with 1 Axes>"
      ]
     },
     "metadata": {
      "needs_background": "light"
     },
     "output_type": "display_data"
    }
   ],
   "source": [
    "from tqdm.notebook import tqdm\n",
    "data = np.linspace(1, 100000, 50)\n",
    "\n",
    "test_scores = []\n",
    "train_scores = []\n",
    "\n",
    "for i in tqdm(data):\n",
    "    clf = SVC(C=i, kernel=\"rbf\")\n",
    "    clf.fit(X_train, y_train)\n",
    "    test_scores.append(clf.score(X_test, y_test))\n",
    "    train_scores.append(clf.score(X_train, y_train))\n",
    "\n",
    "ax = plt.axes()\n",
    "ax.plot(data, test_scores, label=\"test\")\n",
    "ax.plot(data, train_scores, label=\"train\")\n",
    "ax.set_xlabel('С')\n",
    "ax.set_ylabel('score')\n",
    "ax.set_ylim([0.75, 1])\n",
    "ax.legend()\n",
    "\n",
    "max(test_scores)"
   ]
  },
  {
   "cell_type": "markdown",
   "id": "5653cf31",
   "metadata": {},
   "source": [
    "# Постройте график зависимости тестовой и обучающей точности от значения регуляризационного параметра. Сделайте вывод о зависимости степени регуляризации на точность модели."
   ]
  },
  {
   "cell_type": "code",
   "execution_count": 17,
   "id": "4cdca93d",
   "metadata": {},
   "outputs": [
    {
     "data": {
      "application/vnd.jupyter.widget-view+json": {
       "model_id": "2ff66e9171e1457d8cf28468d6a23dbb",
       "version_major": 2,
       "version_minor": 0
      },
      "text/plain": [
       "  0%|          | 0/500 [00:00<?, ?it/s]"
      ]
     },
     "metadata": {},
     "output_type": "display_data"
    },
    {
     "data": {
      "text/plain": [
       "0.8771929824561403"
      ]
     },
     "execution_count": 17,
     "metadata": {},
     "output_type": "execute_result"
    },
    {
     "data": {
      "image/png": "[encoded data removed]",
      "text/plain": [
       "<Figure size 432x288 with 1 Axes>"
      ]
     },
     "metadata": {
      "needs_background": "light"
     },
     "output_type": "display_data"
    }
   ],
   "source": [
    "data = np.linspace(0.0001, 1, 500)\n",
    "\n",
    "test_scores = []\n",
    "train_scores = []\n",
    "\n",
    "for i in tqdm(data):\n",
    "    clf = SVC(C=i, kernel=\"rbf\")\n",
    "\n",
    "    clf.fit(X_train, y_train)\n",
    "\n",
    "    test_scores.append(clf.score(X_test, y_test))\n",
    "    train_scores.append(clf.score(X_train, y_train))\n",
    "\n",
    "ax = plt.axes()\n",
    "ax.plot(data, test_scores, label=\"test\")\n",
    "ax.plot(data, train_scores, label=\"train\")\n",
    "ax.set_xlabel('С')\n",
    "ax.set_ylabel('score')\n",
    "ax.set_ylim([0.75, 1])\n",
    "ax.legend()\n",
    "\n",
    "max(test_scores)"
   ]
  },
  {
   "cell_type": "markdown",
   "id": "29788d38",
   "metadata": {},
   "source": [
    "# Вывод"
   ]
  },
  {
   "cell_type": "markdown",
   "id": "45bfe433",
   "metadata": {},
   "source": [
    "Ессли использовать большее значение C, то модель переобучается, а если меньшее то недообучается"
   ]
  },
  {
   "cell_type": "markdown",
   "id": "understood-welcome",
   "metadata": {},
   "source": [
    "Если увеличивать аргумент C, то точность модели на тренируемых данных будет увеличиваться, а на тестовых уменьшаться"
   ]
  },
  {
   "cell_type": "markdown",
   "id": "754e4315",
   "metadata": {},
   "source": [
    "# Найдите методом подбора оптимальное значение параметра регуляризации (примерное)"
   ]
  },
  {
   "cell_type": "code",
   "execution_count": 18,
   "id": "9b5e256a",
   "metadata": {},
   "outputs": [
    {
     "name": "stdout",
     "output_type": "stream",
     "text": [
      "test accuracy: 0.8771929824561403\n",
      "train accuracy: 0.9164835164835164\n"
     ]
    }
   ],
   "source": [
    "clf = SVC(kernel='rbf', C=51.1)\n",
    "clf.fit(X_train, y_train)\n",
    "print(f'test accuracy: {clf.score(X_test, y_test)}')\n",
    "print(f'train accuracy: {clf.score(X_train, y_train)}')"
   ]
  },
  {
   "cell_type": "code",
   "execution_count": 19,
   "id": "20f3bba7",
   "metadata": {},
   "outputs": [
    {
     "name": "stdout",
     "output_type": "stream",
     "text": [
      "(51.1, 0.8771929824561403, 0.9164835164835164)\n"
     ]
    }
   ],
   "source": [
    "results = []\n",
    "for i in range(1,1000):\n",
    "    value = i * 0.1\n",
    "    clf = SVC(kernel='rbf', C=value)\n",
    "    clf.fit(X_train, y_train)\n",
    "    test_acc = clf.score(X_test, y_test)\n",
    "    train_acc = clf.score(X_train, y_train)\n",
    "    results.append((value, test_acc, train_acc))\n",
    "    \n",
    "results.sort(key=lambda x: x[1])\n",
    "print(results[-1])"
   ]
  },
  {
   "cell_type": "markdown",
   "id": "cb487984",
   "metadata": {},
   "source": [
    "При C = 5, получаем 87% на тестовой выборке, 90% на тренировочной что говорит о хорошем результате.\n",
    "В случае перебора, если С = 51.1, то мы получаем 87.7% и 91.6%"
   ]
  },
  {
   "cell_type": "markdown",
   "id": "e60ecc25",
   "metadata": {},
   "source": [
    "# Повторите два предыдущих пункта для метода опорных векторов с линейным ядром. Сравните получившиеся результаты. Сделайте вывод о сравнительной эффективности двух этих моделей."
   ]
  },
  {
   "cell_type": "markdown",
   "id": "963877e4",
   "metadata": {},
   "source": [
    "График зависимости тестовой и обучающей точности от значения регуляризационного параметра"
   ]
  },
  {
   "cell_type": "code",
   "execution_count": 20,
   "id": "a7d0fefc",
   "metadata": {},
   "outputs": [
    {
     "data": {
      "application/vnd.jupyter.widget-view+json": {
       "model_id": "8ef5228d7c9f49a89dbbcd0a44e5125c",
       "version_major": 2,
       "version_minor": 0
      },
      "text/plain": [
       "  0%|          | 0/500 [00:00<?, ?it/s]"
      ]
     },
     "metadata": {},
     "output_type": "display_data"
    },
    {
     "data": {
      "text/plain": [
       "0.8947368421052632"
      ]
     },
     "execution_count": 20,
     "metadata": {},
     "output_type": "execute_result"
    },
    {
     "data": {
      "image/png": "[encoded data removed]",
      "text/plain": [
       "<Figure size 432x288 with 1 Axes>"
      ]
     },
     "metadata": {
      "needs_background": "light"
     },
     "output_type": "display_data"
    }
   ],
   "source": [
    "test_scores = []\n",
    "train_scores = []\n",
    "\n",
    "for i in tqdm(data):\n",
    "    clf = SVC(C=i, kernel=\"linear\")\n",
    "\n",
    "    clf.fit(X_train, y_train)\n",
    "\n",
    "    test_scores.append(clf.score(X_test, y_test))\n",
    "    train_scores.append(clf.score(X_train, y_train))\n",
    "\n",
    "ax = plt.axes()\n",
    "ax.plot(data, test_scores, label=\"test\")\n",
    "ax.plot(data, train_scores, label=\"train\")\n",
    "ax.set_xlabel('С')\n",
    "ax.set_ylabel('score')\n",
    "ax.set_ylim([0.75, 1])\n",
    "ax.legend()\n",
    "\n",
    "max(test_scores)"
   ]
  },
  {
   "cell_type": "markdown",
   "id": "8065d2e8",
   "metadata": {},
   "source": [
    "Найти методом подбора оптимальное значение параметра регуляризации"
   ]
  },
  {
   "cell_type": "code",
   "execution_count": 21,
   "id": "0a754090",
   "metadata": {},
   "outputs": [
    {
     "name": "stdout",
     "output_type": "stream",
     "text": [
      "test accuracy: 0.8947368421052632\n",
      "train accuracy: 0.8879120879120879\n"
     ]
    }
   ],
   "source": [
    "clf = SVC(kernel='linear', C=9.9)\n",
    "clf.fit(X_train, y_train)\n",
    "print(f'test accuracy: {clf.score(X_test, y_test)}')\n",
    "print(f'train accuracy: {clf.score(X_train, y_train)}')"
   ]
  },
  {
   "cell_type": "code",
   "execution_count": 22,
   "id": "4367def7",
   "metadata": {},
   "outputs": [
    {
     "name": "stdout",
     "output_type": "stream",
     "text": [
      "(9.9, 0.8947368421052632, 0.8879120879120879)\n"
     ]
    }
   ],
   "source": [
    "results = []\n",
    "for i in range(1,100):\n",
    "    value = i * 0.1\n",
    "    clf = SVC(kernel='linear', C=value)\n",
    "    clf.fit(X_train, y_train)\n",
    "    test_acc = clf.score(X_test, y_test)\n",
    "    train_acc = clf.score(X_train, y_train)\n",
    "    results.append((value, test_acc, train_acc))\n",
    "    \n",
    "results.sort(key=lambda x: x[2])\n",
    "print(results[-1])"
   ]
  },
  {
   "cell_type": "markdown",
   "id": "ff3cbe88",
   "metadata": {},
   "source": [
    "# Вывод"
   ]
  },
  {
   "cell_type": "markdown",
   "id": "36c2bb71",
   "metadata": {},
   "source": [
    "Модели сильно похожи, соответвственно у нас нет отдельновыделенных особенностей для выделения какой-то конкретной модели"
   ]
  },
  {
   "cell_type": "code",
   "execution_count": null,
   "id": "olive-leather",
   "metadata": {},
   "outputs": [],
   "source": []
  }
 ],
 "metadata": {
  "kernelspec": {
   "display_name": "Python 3",
   "language": "python",
   "name": "python3"
  },
  "language_info": {
   "codemirror_mode": {
    "name": "ipython",
    "version": 3
   },
   "file_extension": ".py",
   "mimetype": "text/x-python",
   "name": "python",
   "nbconvert_exporter": "python",
   "pygments_lexer": "ipython3",
   "version": "3.9.13"
  }
 },
 "nbformat": 4,
 "nbformat_minor": 5
}
