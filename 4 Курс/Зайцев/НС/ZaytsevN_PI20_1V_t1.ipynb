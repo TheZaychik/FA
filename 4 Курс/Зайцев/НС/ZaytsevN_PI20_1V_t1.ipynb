{
  "nbformat": 4,
  "nbformat_minor": 0,
  "metadata": {
    "colab": {
      "provenance": []
    },
    "kernelspec": {
      "name": "python3",
      "display_name": "Python 3"
    },
    "language_info": {
      "name": "python"
    }
  },
  "cells": [
    {
      "cell_type": "code",
      "execution_count": 11,
      "metadata": {
        "id": "_DZ7GUO2V0Zw"
      },
      "outputs": [],
      "source": [
        "weight = 0.1"
      ]
    },
    {
      "cell_type": "code",
      "source": [
        "def neural_network(input, weight):\n",
        "  prediction = input * weight\n",
        "  return prediction"
      ],
      "metadata": {
        "id": "ztgsp5b6V3Yb"
      },
      "execution_count": 12,
      "outputs": []
    },
    {
      "cell_type": "code",
      "source": [
        "number_of_toes = [8.5, 9.5, 10, 9]\n",
        "input = number_of_toes[0]\n",
        "pred = neural_network(input, weight)\n",
        "pred"
      ],
      "metadata": {
        "colab": {
          "base_uri": "https://localhost:8080/"
        },
        "id": "39Th-T5aWCFd",
        "outputId": "a569766e-be73-4a5b-ee0c-67681b7dfe51"
      },
      "execution_count": 13,
      "outputs": [
        {
          "output_type": "execute_result",
          "data": {
            "text/plain": [
              "0.8500000000000001"
            ]
          },
          "metadata": {},
          "execution_count": 13
        }
      ]
    },
    {
      "cell_type": "code",
      "source": [
        "weight = -0.1\n",
        "number_of_toes = [-10, 20, 0, -5]\n",
        "data = [neural_network(input, weight) for input in number_of_toes]\n",
        "data"
      ],
      "metadata": {
        "colab": {
          "base_uri": "https://localhost:8080/"
        },
        "id": "cxqfEbOCWTkr",
        "outputId": "3c7ec697-554e-4a9e-a567-ac5ce09229ec"
      },
      "execution_count": 14,
      "outputs": [
        {
          "output_type": "execute_result",
          "data": {
            "text/plain": [
              "[1.0, -2.0, -0.0, 0.5]"
            ]
          },
          "metadata": {},
          "execution_count": 14
        }
      ]
    },
    {
      "cell_type": "code",
      "source": [],
      "metadata": {
        "id": "MxqGhqt3YnH1"
      },
      "execution_count": 6,
      "outputs": []
    }
  ]
}