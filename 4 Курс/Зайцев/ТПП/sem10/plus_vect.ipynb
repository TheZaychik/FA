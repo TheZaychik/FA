{
 "cells": [
  {
   "cell_type": "code",
   "execution_count": 1,
   "id": "d8274921",
   "metadata": {},
   "outputs": [],
   "source": [
    "import numpy as np\n",
    "import pyopencl as cl\n",
    "import numpy.linalg as la"
   ]
  },
  {
   "cell_type": "code",
   "execution_count": 2,
   "id": "c36ca5c5",
   "metadata": {},
   "outputs": [],
   "source": [
    "vector_dimension = 100"
   ]
  },
  {
   "cell_type": "code",
   "execution_count": 3,
   "id": "792310bc",
   "metadata": {},
   "outputs": [],
   "source": [
    "vector_a = np.random.randint(vector_dimension,size=vector_dimension) \n",
    "vector_b = np.random.randint(vector_dimension,size=vector_dimension)"
   ]
  },
  {
   "cell_type": "code",
   "execution_count": 4,
   "id": "a4ba69cb",
   "metadata": {},
   "outputs": [],
   "source": [
    "platform = cl.get_platforms()[0]\n",
    "device = platform.get_devices()[0]\n",
    "context = cl.Context([device])\n",
    "queue = cl.CommandQueue(context)"
   ]
  },
  {
   "cell_type": "code",
   "execution_count": 5,
   "id": "befe220b",
   "metadata": {},
   "outputs": [],
   "source": [
    "mf = cl.mem_flags \n",
    "a_g = cl.Buffer(context, mf.READ_ONLY | mf.COPY_HOST_PTR, hostbuf=vector_a) \n",
    "b_g = cl.Buffer(context, mf.READ_ONLY | mf.COPY_HOST_PTR, hostbuf=vector_b) "
   ]
  },
  {
   "cell_type": "code",
   "execution_count": 6,
   "id": "243ccc3e",
   "metadata": {},
   "outputs": [],
   "source": [
    "program = cl.Program(context, \"\"\" \n",
    "__kernel void vectorSum(__global const int *a_g, __global const int *b_g, __global int *res_g) { \n",
    "  int gid = get_global_id(0); \n",
    "  res_g[gid] = a_g[gid] + b_g[gid]; \n",
    "} \n",
    "\"\"\").build()"
   ]
  },
  {
   "cell_type": "code",
   "execution_count": 7,
   "id": "2b7277b5",
   "metadata": {},
   "outputs": [],
   "source": [
    "res_g = cl.Buffer(context, mf.WRITE_ONLY, vector_a.nbytes)"
   ]
  },
  {
   "cell_type": "code",
   "execution_count": 8,
   "id": "75dcef6f",
   "metadata": {},
   "outputs": [
    {
     "data": {
      "text/plain": [
       "<pyopencl._cl.Event at 0x2375332b900>"
      ]
     },
     "execution_count": 8,
     "metadata": {},
     "output_type": "execute_result"
    }
   ],
   "source": [
    "program.vectorSum(queue, vector_a.shape, None, a_g, b_g, res_g)"
   ]
  },
  {
   "cell_type": "code",
   "execution_count": 9,
   "id": "abf45071",
   "metadata": {},
   "outputs": [],
   "source": [
    "res_np = np.empty_like(vector_a)"
   ]
  },
  {
   "cell_type": "code",
   "execution_count": 10,
   "id": "c24fed00",
   "metadata": {},
   "outputs": [
    {
     "data": {
      "text/plain": [
       "<pyopencl._cl.NannyEvent at 0x23754dd6d10>"
      ]
     },
     "execution_count": 10,
     "metadata": {},
     "output_type": "execute_result"
    }
   ],
   "source": [
    "cl.enqueue_copy(queue, res_np, res_g)"
   ]
  },
  {
   "cell_type": "code",
   "execution_count": 11,
   "id": "b6d89b05",
   "metadata": {},
   "outputs": [
    {
     "name": "stdout",
     "output_type": "stream",
     "text": [
      "PyOPENCL SUM OF TWO VECTORS\n",
      "Platform Selected = Intel(R) OpenCL HD Graphics\n",
      "Device Selected = Intel(R) UHD Graphics\n",
      "VECTOR LENGTH = 100\n",
      "INPUT VECTOR A\n",
      "[10 42 13 25 31  3 19 97 52 11 86 58 97 21 25  9 84 44 67 74 46 73 75 99\n",
      " 68  8  0 17 92 54 43 23 78 42 64 72 40 97 30 40 46  0 84 60 51 37 67 35\n",
      " 25 67 88 84 27 52 52 76 71 17 11 19 79 43 39 18 31 56 47 39 85 14 35 35\n",
      " 70 98 74 47 12 71 20  0  5 93 87 71 33 46 11 61 63 85 79 67  9 37 63 16\n",
      " 48 77 13 91]\n",
      "INPUT VECTOR B\n",
      "[79 48  5 52 17 25 36 25 28 85 30 56  5 45 19 72 70 28 40 97 45 51 64 42\n",
      " 64  1 23 14 39  1 79 88 44 39 10 44 46 92  8 63 71 58 58 24 39 34  7 74\n",
      " 62 37 62 14 66 12 49 68 94  4 91 31 25 76 41 63 69  5 12 59 25 27 87 95\n",
      " 92 50 13 67 12  7 51 80 25 45 18 36 72  2 91 80 43 98 55 17  2 91 62 67\n",
      " 22 87 89 39]\n",
      "OUTPUT VECTOR RESULT A + B \n",
      "[ 89  90  18  77  48  28  55 122  80  96 116 114 102  66  44  81 154  72\n",
      " 107 171  91 124 139 141 132   9  23  31 131  55 122 111 122  81  74 116\n",
      "  86 189  38 103 117  58 142  84  90  71  74 109  87 104 150  98  93  64\n",
      " 101 144 165  21 102  50 104 119  80  81 100  61  59  98 110  41 122 130\n",
      " 162 148  87 114  24  78  71  80  30 138 105 107 105  48 102 141 106 183\n",
      " 134  84  11 128 125  83  70 164 102 130]\n"
     ]
    }
   ],
   "source": [
    "print (\"PyOPENCL SUM OF TWO VECTORS\")\n",
    "print (\"Platform Selected = %s\" %platform.name )\n",
    "print (\"Device Selected = %s\" %device.name)\n",
    "print (\"VECTOR LENGTH = %s\" %vector_dimension)\n",
    "print (\"INPUT VECTOR A\")\n",
    "print (vector_a)\n",
    "print (\"INPUT VECTOR B\")\n",
    "print (vector_b)\n",
    "print (\"OUTPUT VECTOR RESULT A + B \")\n",
    "print (res_np)"
   ]
  },
  {
   "cell_type": "code",
   "execution_count": 12,
   "id": "a4d544ec",
   "metadata": {},
   "outputs": [],
   "source": [
    "assert(la.norm(res_np - (vector_a + vector_b))) < 1e-5"
   ]
  },
  {
   "cell_type": "code",
   "execution_count": null,
   "id": "58bc16c2",
   "metadata": {},
   "outputs": [],
   "source": []
  }
 ],
 "metadata": {
  "kernelspec": {
   "display_name": "Python 3 (ipykernel)",
   "language": "python",
   "name": "python3"
  },
  "language_info": {
   "codemirror_mode": {
    "name": "ipython",
    "version": 3
   },
   "file_extension": ".py",
   "mimetype": "text/x-python",
   "name": "python",
   "nbconvert_exporter": "python",
   "pygments_lexer": "ipython3",
   "version": "3.9.12"
  }
 },
 "nbformat": 4,
 "nbformat_minor": 5
}
