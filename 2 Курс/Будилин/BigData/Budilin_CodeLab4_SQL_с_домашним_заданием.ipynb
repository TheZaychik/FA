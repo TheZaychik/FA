{
  "cells": [
    {
      "cell_type": "markdown",
      "metadata": {
        "id": "nP2bePH3mB8K"
      },
      "source": [
        "# Технологии обработки больших данных\n",
        "\n",
        "Занятие 4. Работа с SQL запросами в PySpark \n",
        "\n",
        "1. Запуск PySpark на локальной машине\n",
        "2. TempView - представления DataFrame\n",
        "3. Базовый синтаксис SQL\n",
        "4. Домашнее задание \n",
        "  \n",
        "**Рекомендованная литература:** Б.Форта. SQL за 10 минут (Можно найти на гугл [диске](https://drive.google.com/drive/folders/14igaMTWTQvEszOYKfnVkjc8A0bpXLx3e?usp=sharing))."
      ]
    },
    {
      "cell_type": "markdown",
      "metadata": {
        "id": "QwAo0qnAmB8O"
      },
      "source": [
        "![](img/spark_libs.png)"
      ]
    },
    {
      "cell_type": "markdown",
      "metadata": {
        "id": "Lodc9qsMmB8O"
      },
      "source": [
        "### 1. Запуск PySpark на локальной машине"
      ]
    },
    {
      "cell_type": "markdown",
      "metadata": {
        "id": "kOntidQ1mB8O"
      },
      "source": [
        "# Запускайте в изолированой среде venv / conda env\n",
        "\n",
        "! pip install pyspark"
      ]
    },
    {
      "cell_type": "code",
      "execution_count": 2,
      "metadata": {
        "colab": {
          "base_uri": "https://localhost:8080/"
        },
        "id": "S89-LpvRmB8P",
        "outputId": "e2780c3e-56eb-487a-e610-f89514fa4396"
      },
      "outputs": [
        {
          "output_type": "stream",
          "name": "stdout",
          "text": [
            "Collecting pyspark\n",
            "  Downloading pyspark-3.2.1.tar.gz (281.4 MB)\n",
            "\u001b[K     |████████████████████████████████| 281.4 MB 34 kB/s \n",
            "\u001b[?25hCollecting py4j==0.10.9.3\n",
            "  Downloading py4j-0.10.9.3-py2.py3-none-any.whl (198 kB)\n",
            "\u001b[K     |████████████████████████████████| 198 kB 45.9 MB/s \n",
            "\u001b[?25hBuilding wheels for collected packages: pyspark\n",
            "  Building wheel for pyspark (setup.py) ... \u001b[?25l\u001b[?25hdone\n",
            "  Created wheel for pyspark: filename=pyspark-3.2.1-py2.py3-none-any.whl size=281853642 sha256=76f3621a988c2351404a0d52ee32fec7149472b2f74f574c426430c7beb61a36\n",
            "  Stored in directory: /root/.cache/pip/wheels/9f/f5/07/7cd8017084dce4e93e84e92efd1e1d5334db05f2e83bcef74f\n",
            "Successfully built pyspark\n",
            "Installing collected packages: py4j, pyspark\n",
            "Successfully installed py4j-0.10.9.3 pyspark-3.2.1\n"
          ]
        }
      ],
      "source": [
        "! pip install pyspark\n",
        "import pyspark\n",
        "\n",
        "from pyspark.sql import SparkSession\n",
        "spark = SparkSession.builder.master(\"local[*]\").getOrCreate()"
      ]
    },
    {
      "cell_type": "markdown",
      "metadata": {
        "id": "XzowfACPmB8Q"
      },
      "source": [
        "### 2. View - представления DataFrame"
      ]
    },
    {
      "cell_type": "markdown",
      "metadata": {
        "id": "jlJ8v0lImB8Q"
      },
      "source": [
        "**Columns**  \n",
        "\n",
        "Age - возраст (numeric)  \n",
        "Sex - пол (text: male, female)  \n",
        "Job - уровень рабочей квалификации (numeric: 0 - unskilled and non-resident, 1 - unskilled and resident, 2 - skilled, 3 - highly skilled)  \n",
        "Housing - жилье (text: own, rent, or free)  \n",
        "Saving accounts - накопления (text - little, moderate, quite rich, rich)  \n",
        "Checking account - средние траты (numeric, in DM - Deutsch Mark)  \n",
        "Credit amount - размер кредита (numeric, in DM)  \n",
        "Duration - срок кредита (numeric, in month)  \n",
        "Purpose - цель кредита (text: car, furniture/equipment, radio/TV, domestic appliances, repairs, education, business, vacation/others)"
      ]
    },
    {
      "cell_type": "code",
      "execution_count": 3,
      "metadata": {
        "colab": {
          "base_uri": "https://localhost:8080/"
        },
        "id": "OwH5iMfRmB8Q",
        "outputId": "7d8eaa53-48bb-4643-a8f8-73c9747ebe3b"
      },
      "outputs": [
        {
          "output_type": "execute_result",
          "data": {
            "text/plain": [
              "pyspark.sql.dataframe.DataFrame"
            ]
          },
          "metadata": {},
          "execution_count": 3
        }
      ],
      "source": [
        "DATA_PATH = 'sample_data/credit_data.csv'\n",
        "\n",
        "SCHEMA = \"id INT, Age INT, Sex STRING, Job INT, Housing STRING, Saving_accounts STRING, \\\n",
        "Checking_account STRING, Credit_amount INT, Duration INT, Purpose STRING\"\n",
        "\n",
        "df = spark.read.csv(DATA_PATH, schema=SCHEMA, header=True)\n",
        "type(df)"
      ]
    },
    {
      "cell_type": "code",
      "execution_count": 4,
      "metadata": {
        "id": "QIPxiNFImB8R"
      },
      "outputs": [],
      "source": [
        "df.createOrReplaceTempView(\"credit_table\")"
      ]
    },
    {
      "cell_type": "markdown",
      "metadata": {
        "id": "xh9zmxkcmB8R"
      },
      "source": [
        "С помощью запросов SQL можно создавать новые представления DataFrame"
      ]
    },
    {
      "cell_type": "code",
      "execution_count": 5,
      "metadata": {
        "scrolled": true,
        "colab": {
          "base_uri": "https://localhost:8080/"
        },
        "id": "DhgPvxjamB8R",
        "outputId": "3875a21f-b975-4fc2-e7b9-7aad8387b665"
      },
      "outputs": [
        {
          "output_type": "stream",
          "name": "stdout",
          "text": [
            "+---+---+------+\n",
            "| id|Age|   Sex|\n",
            "+---+---+------+\n",
            "|  0| 67|  male|\n",
            "|  1| 22|female|\n",
            "|  2| 49|  male|\n",
            "|  3| 45|  male|\n",
            "|  4| 53|  male|\n",
            "|  5| 35|  male|\n",
            "|  6| 53|  male|\n",
            "|  7| 35|  male|\n",
            "|  8| 61|  male|\n",
            "|  9| 28|  male|\n",
            "+---+---+------+\n",
            "only showing top 10 rows\n",
            "\n"
          ]
        }
      ],
      "source": [
        "sub_df = spark.sql(\"SELECT id, Age, Sex FROM credit_table \")\n",
        "sub_df.show(10)"
      ]
    },
    {
      "cell_type": "markdown",
      "metadata": {
        "id": "-8l3fZfmmB8S"
      },
      "source": [
        "### 3. Базовый синтаксис SQL"
      ]
    },
    {
      "cell_type": "markdown",
      "metadata": {
        "id": "Fb65cldXmB8S"
      },
      "source": [
        "#### Извлечение отдельных столбцов"
      ]
    },
    {
      "cell_type": "code",
      "execution_count": 6,
      "metadata": {
        "scrolled": true,
        "colab": {
          "base_uri": "https://localhost:8080/"
        },
        "id": "sAfNh5fLmB8S",
        "outputId": "9c69ef46-4381-4390-c94c-73a9ac252d00"
      },
      "outputs": [
        {
          "output_type": "stream",
          "name": "stdout",
          "text": [
            "+---+\n",
            "|Age|\n",
            "+---+\n",
            "| 67|\n",
            "| 22|\n",
            "| 49|\n",
            "| 45|\n",
            "| 53|\n",
            "+---+\n",
            "only showing top 5 rows\n",
            "\n"
          ]
        }
      ],
      "source": [
        "spark.sql(\"SELECT Age FROM credit_table \").show(5)"
      ]
    },
    {
      "cell_type": "markdown",
      "metadata": {
        "id": "IHV2jWX9mB8S"
      },
      "source": [
        "#### Извлечение всех столбцов"
      ]
    },
    {
      "cell_type": "code",
      "execution_count": null,
      "metadata": {
        "scrolled": true,
        "id": "kMOz4JiimB8S",
        "outputId": "07d2c697-2a71-4f3f-ab97-818e9289c2cb"
      },
      "outputs": [
        {
          "name": "stdout",
          "output_type": "stream",
          "text": [
            "+---+---+------+---+-------+---------------+----------------+-------------+--------+-------------------+\n",
            "| id|Age|   Sex|Job|Housing|Saving_accounts|Checking_account|Credit_amount|Duration|            Purpose|\n",
            "+---+---+------+---+-------+---------------+----------------+-------------+--------+-------------------+\n",
            "|  0| 67|  male|  2|    own|             NA|          little|         1169|       6|           radio/TV|\n",
            "|  1| 22|female|  2|    own|         little|        moderate|         5951|      48|           radio/TV|\n",
            "|  2| 49|  male|  1|    own|         little|              NA|         2096|      12|          education|\n",
            "|  3| 45|  male|  2|   free|         little|          little|         7882|      42|furniture/equipment|\n",
            "|  4| 53|  male|  2|   free|         little|          little|         4870|      24|                car|\n",
            "+---+---+------+---+-------+---------------+----------------+-------------+--------+-------------------+\n",
            "only showing top 5 rows\n",
            "\n"
          ]
        }
      ],
      "source": [
        "spark.sql(\"SELECT * FROM credit_table \").show(5)"
      ]
    },
    {
      "cell_type": "markdown",
      "metadata": {
        "id": "-lte9zcymB8T"
      },
      "source": [
        "#### Извлечение уникальных строк"
      ]
    },
    {
      "cell_type": "code",
      "execution_count": null,
      "metadata": {
        "id": "Nmvq2zVumB8T",
        "outputId": "9e18b2d0-9a8a-429f-93e4-c71b24d24a16"
      },
      "outputs": [
        {
          "name": "stdout",
          "output_type": "stream",
          "text": [
            "+-------------------+\n",
            "|            Purpose|\n",
            "+-------------------+\n",
            "|          education|\n",
            "|           radio/TV|\n",
            "|    vacation/others|\n",
            "|domestic appliances|\n",
            "|                car|\n",
            "|           business|\n",
            "|            repairs|\n",
            "|furniture/equipment|\n",
            "+-------------------+\n",
            "\n"
          ]
        }
      ],
      "source": [
        "spark.sql(\"SELECT DISTINCT Purpose FROM credit_table \").show()"
      ]
    },
    {
      "cell_type": "markdown",
      "metadata": {
        "id": "5CRfM4eZmB8T"
      },
      "source": [
        "#### Ограничение результатов запроса"
      ]
    },
    {
      "cell_type": "code",
      "execution_count": null,
      "metadata": {
        "scrolled": true,
        "id": "zZsF9ZvUmB8T",
        "outputId": "a7e884f9-98a5-4896-d582-f1db191b8679"
      },
      "outputs": [
        {
          "name": "stdout",
          "output_type": "stream",
          "text": [
            "+---+---+------+---+-------+---------------+----------------+-------------+--------+-------------------+\n",
            "| id|Age|   Sex|Job|Housing|Saving_accounts|Checking_account|Credit_amount|Duration|            Purpose|\n",
            "+---+---+------+---+-------+---------------+----------------+-------------+--------+-------------------+\n",
            "|  0| 67|  male|  2|    own|             NA|          little|         1169|       6|           radio/TV|\n",
            "|  1| 22|female|  2|    own|         little|        moderate|         5951|      48|           radio/TV|\n",
            "|  2| 49|  male|  1|    own|         little|              NA|         2096|      12|          education|\n",
            "|  3| 45|  male|  2|   free|         little|          little|         7882|      42|furniture/equipment|\n",
            "|  4| 53|  male|  2|   free|         little|          little|         4870|      24|                car|\n",
            "+---+---+------+---+-------+---------------+----------------+-------------+--------+-------------------+\n",
            "\n"
          ]
        }
      ],
      "source": [
        "spark.sql(\"SELECT * FROM credit_table LIMIT 5\").show()"
      ]
    },
    {
      "cell_type": "markdown",
      "metadata": {
        "id": "GD8xUFo5mB8T"
      },
      "source": [
        "### Сортировка по строкам таблицы"
      ]
    },
    {
      "cell_type": "code",
      "execution_count": null,
      "metadata": {
        "id": "Y8qsYqvomB8T",
        "outputId": "4109fb15-e63c-47c6-bdce-048dc9782782"
      },
      "outputs": [
        {
          "name": "stdout",
          "output_type": "stream",
          "text": [
            "+---+---+------+---+-------+---------------+----------------+-------------+--------+-------------------+\n",
            "| id|Age|   Sex|Job|Housing|Saving_accounts|Checking_account|Credit_amount|Duration|            Purpose|\n",
            "+---+---+------+---+-------+---------------+----------------+-------------+--------+-------------------+\n",
            "|234| 42|  male|  1|    own|         little|              NA|         1544|       4|           radio/TV|\n",
            "|943| 42|  male|  1|    own|         little|              NA|         1455|       4|                car|\n",
            "|527| 42|  male|  1|    own|         little|              NA|         1503|       4|           radio/TV|\n",
            "|734| 37|female|  2|    own|         little|              NA|         3380|       4|                car|\n",
            "|314| 29|  male|  1|    own|             NA|            rich|         1494|       4|                car|\n",
            "|837| 23|female|  1|   rent|         little|              NA|          601|       4|furniture/equipment|\n",
            "|430| 74|  male|  1|    own|         little|              NA|         3448|       5|           business|\n",
            "|102| 24|female|  2|    own|         little|              NA|          932|       6|           radio/TV|\n",
            "|196| 28|female|  2|    own|         little|              NA|         1382|       6|           radio/TV|\n",
            "|110| 31|  male|  2|    own|       moderate|        moderate|         1449|       6|           business|\n",
            "+---+---+------+---+-------+---------------+----------------+-------------+--------+-------------------+\n",
            "only showing top 10 rows\n",
            "\n"
          ]
        }
      ],
      "source": [
        "spark.sql(\"SELECT * FROM credit_table ORDER BY Duration\").show(10)"
      ]
    },
    {
      "cell_type": "code",
      "execution_count": null,
      "metadata": {
        "scrolled": false,
        "id": "BBiYoc9wmB8T",
        "outputId": "f0efb865-bb2e-4f6a-f313-02f3b5307df6"
      },
      "outputs": [
        {
          "name": "stdout",
          "output_type": "stream",
          "text": [
            "+---+---+------+---+-------+---------------+----------------+-------------+--------+-------------------+\n",
            "| id|Age|   Sex|Job|Housing|Saving_accounts|Checking_account|Credit_amount|Duration|            Purpose|\n",
            "+---+---+------+---+-------+---------------+----------------+-------------+--------+-------------------+\n",
            "|837| 23|female|  1|   rent|         little|              NA|          601|       4|furniture/equipment|\n",
            "|943| 42|  male|  1|    own|         little|              NA|         1455|       4|                car|\n",
            "|314| 29|  male|  1|    own|             NA|            rich|         1494|       4|                car|\n",
            "|527| 42|  male|  1|    own|         little|              NA|         1503|       4|           radio/TV|\n",
            "|234| 42|  male|  1|    own|         little|              NA|         1544|       4|           radio/TV|\n",
            "|734| 37|female|  2|    own|         little|              NA|         3380|       4|                car|\n",
            "|430| 74|  male|  1|    own|         little|              NA|         3448|       5|           business|\n",
            "|725| 41|female|  1|    own|           rich|              NA|          250|       6|                car|\n",
            "|177| 52|  male|  2|    own|     quite rich|          little|          338|       6|           radio/TV|\n",
            "|458| 27|female|  2|    own|         little|          little|          343|       6|domestic appliances|\n",
            "+---+---+------+---+-------+---------------+----------------+-------------+--------+-------------------+\n",
            "only showing top 10 rows\n",
            "\n"
          ]
        }
      ],
      "source": [
        "# Few columns sorting\n",
        "spark.sql(\"SELECT * FROM credit_table ORDER BY Duration, Credit_amount\").show(10)"
      ]
    },
    {
      "cell_type": "markdown",
      "metadata": {
        "id": "UqKvvb5umB8U"
      },
      "source": [
        "#### Сортировка с указанием номера столбца"
      ]
    },
    {
      "cell_type": "code",
      "execution_count": null,
      "metadata": {
        "id": "VND9473mmB8U",
        "outputId": "f21adcd6-96cd-40af-d993-57b70f99198c"
      },
      "outputs": [
        {
          "name": "stdout",
          "output_type": "stream",
          "text": [
            "+---+---+------+---+-------+---------------+----------------+-------------+--------+-------------------+\n",
            "| id|Age|   Sex|Job|Housing|Saving_accounts|Checking_account|Credit_amount|Duration|            Purpose|\n",
            "+---+---+------+---+-------+---------------+----------------+-------------+--------+-------------------+\n",
            "|391| 19|female|  1|   rent|           rich|        moderate|          983|      12|furniture/equipment|\n",
            "|633| 19|female|  2|   rent|         little|              NA|         1980|       9|furniture/equipment|\n",
            "|155| 20|female|  2|   rent|         little|          little|         1282|      12|furniture/equipment|\n",
            "|296| 20|female|  2|   rent|             NA|              NA|         4675|      12|                car|\n",
            "|410| 20|female|  2|    own|         little|        moderate|         1967|      24|           radio/TV|\n",
            "|420| 20|female|  2|   rent|           rich|              NA|         3186|      15|                car|\n",
            "|585| 20|female|  2|   rent|         little|          little|         2039|      18|furniture/equipment|\n",
            "|593| 20|female|  1|   rent|         little|        moderate|         2718|      24|                car|\n",
            "|865| 20|female|  2|   rent|     quite rich|              NA|         2221|      15|furniture/equipment|\n",
            "|167| 20|female|  2|    own|           rich|        moderate|         1577|      11|furniture/equipment|\n",
            "| 93| 20|  male|  2|   rent|             NA|            rich|         3617|      24|furniture/equipment|\n",
            "|428| 20|  male|  2|    own|         little|              NA|         1313|       9|furniture/equipment|\n",
            "|495| 20|  male|  2|    own|             NA|          little|         2996|      24|furniture/equipment|\n",
            "|188| 20|  male|  2|    own|       moderate|          little|          674|      12|           radio/TV|\n",
            "|513| 20|  male|  2|   rent|         little|        moderate|          585|      12|           radio/TV|\n",
            "|905| 20|  male|  3|   rent|         little|          little|         1107|      12|           radio/TV|\n",
            "|134| 21|female|  2|    own|       moderate|              NA|        10144|      60|           radio/TV|\n",
            "|386| 21|female|  2|   rent|             NA|              NA|         1126|      18|           radio/TV|\n",
            "|618| 21|female|  2|   rent|       moderate|        moderate|         3441|      30|furniture/equipment|\n",
            "|724| 21|female|  2|   rent|         little|              NA|         2570|      27|                car|\n",
            "+---+---+------+---+-------+---------------+----------------+-------------+--------+-------------------+\n",
            "only showing top 20 rows\n",
            "\n"
          ]
        }
      ],
      "source": [
        "spark.sql(\"SELECT * FROM credit_table ORDER BY 2, 3\").show()"
      ]
    },
    {
      "cell_type": "markdown",
      "metadata": {
        "id": "-F_VDalgmB8U"
      },
      "source": [
        "####  Направления сортировки - *DESC*"
      ]
    },
    {
      "cell_type": "code",
      "execution_count": null,
      "metadata": {
        "scrolled": true,
        "id": "hIIZ_qc1mB8U",
        "outputId": "b018ce9b-2198-4a40-c4bf-8a3c00bff403"
      },
      "outputs": [
        {
          "name": "stdout",
          "output_type": "stream",
          "text": [
            "+---+---+------+---+-------+---------------+----------------+-------------+--------+---------------+\n",
            "| id|Age|   Sex|Job|Housing|Saving_accounts|Checking_account|Credit_amount|Duration|        Purpose|\n",
            "+---+---+------+---+-------+---------------+----------------+-------------+--------+---------------+\n",
            "|677| 24|  male|  2|    own|       moderate|        moderate|         5595|      72|       radio/TV|\n",
            "|938| 42|  male|  2|   free|         little|        moderate|         6288|      60|      education|\n",
            "|255| 27|  male|  1|    own|             NA|        moderate|         7418|      60|       radio/TV|\n",
            "|332| 24|female|  3|    own|       moderate|        moderate|         7408|      60|            car|\n",
            "|672| 42|  male|  3|    own|         little|              NA|        10366|      60|            car|\n",
            "|373| 63|  male|  3|   free|             NA|              NA|        13756|      60|            car|\n",
            "|134| 21|female|  2|    own|       moderate|              NA|        10144|      60|       radio/TV|\n",
            "|374| 60|female|  3|   free|       moderate|        moderate|        14782|      60|vacation/others|\n",
            "|714| 27|  male|  3|    own|         little|        moderate|        14027|      60|            car|\n",
            "| 29| 63|  male|  2|    own|         little|          little|         6836|      60|       business|\n",
            "+---+---+------+---+-------+---------------+----------------+-------------+--------+---------------+\n",
            "only showing top 10 rows\n",
            "\n"
          ]
        }
      ],
      "source": [
        "spark.sql(\"SELECT * FROM credit_table ORDER BY Duration DESC\").show(10)"
      ]
    },
    {
      "cell_type": "code",
      "execution_count": null,
      "metadata": {
        "scrolled": true,
        "id": "GE6TPnJUmB8U",
        "outputId": "0af80492-3756-4eb4-f21d-4f63a2a0d5e8"
      },
      "outputs": [
        {
          "name": "stdout",
          "output_type": "stream",
          "text": [
            "+---+---+------+---+-------+---------------+----------------+-------------+--------+---------------+\n",
            "| id|Age|   Sex|Job|Housing|Saving_accounts|Checking_account|Credit_amount|Duration|        Purpose|\n",
            "+---+---+------+---+-------+---------------+----------------+-------------+--------+---------------+\n",
            "|915| 32|female|  3|    own|         little|        moderate|        18424|      48|vacation/others|\n",
            "| 95| 58|  male|  2|   rent|         little|        moderate|        15945|      54|       business|\n",
            "|818| 43|  male|  3|    own|         little|          little|        15857|      36|vacation/others|\n",
            "|887| 23|  male|  2|    own|         little|        moderate|        15672|      48|       business|\n",
            "|637| 21|  male|  2|    own|         little|              NA|        15653|      60|       radio/TV|\n",
            "|917| 68|  male|  3|    own|         little|          little|        14896|       6|            car|\n",
            "|374| 60|female|  3|   free|       moderate|        moderate|        14782|      60|vacation/others|\n",
            "|236| 23|  male|  0|    own|             NA|        moderate|        14555|       6|            car|\n",
            "| 63| 25|  male|  2|    own|         little|        moderate|        14421|      48|       business|\n",
            "|378| 57|  male|  3|   free|         little|        moderate|        14318|      36|            car|\n",
            "+---+---+------+---+-------+---------------+----------------+-------------+--------+---------------+\n",
            "only showing top 10 rows\n",
            "\n"
          ]
        }
      ],
      "source": [
        "spark.sql(\"SELECT * FROM credit_table ORDER BY Credit_amount DESC, Duration \").show(10)"
      ]
    },
    {
      "cell_type": "markdown",
      "metadata": {
        "id": "kz0KPowVmB8V"
      },
      "source": [
        "### Фильтрация данных\n",
        "\n",
        "#### Оператор WHERE"
      ]
    },
    {
      "cell_type": "code",
      "execution_count": null,
      "metadata": {
        "scrolled": true,
        "id": "hDarMi7pmB8V",
        "outputId": "20816e2a-f815-4109-a1db-dfca8a07add5"
      },
      "outputs": [
        {
          "name": "stdout",
          "output_type": "stream",
          "text": [
            "+---+---+------+---+-------+---------------+----------------+-------------+--------+-------+\n",
            "| id|Age|   Sex|Job|Housing|Saving_accounts|Checking_account|Credit_amount|Duration|Purpose|\n",
            "+---+---+------+---+-------+---------------+----------------+-------------+--------+-------+\n",
            "|  4| 53|  male|  2|   free|         little|          little|         4870|      24|    car|\n",
            "|  7| 35|  male|  3|   rent|         little|        moderate|         6948|      36|    car|\n",
            "|  9| 28|  male|  3|    own|         little|        moderate|         5234|      30|    car|\n",
            "| 10| 25|female|  2|   rent|         little|        moderate|         1295|      12|    car|\n",
            "| 13| 60|  male|  1|    own|         little|          little|         1199|      24|    car|\n",
            "| 14| 28|female|  2|   rent|         little|          little|         1403|      15|    car|\n",
            "| 18| 44|female|  3|   free|         little|        moderate|        12579|      24|    car|\n",
            "| 20| 48|  male|  2|    own|         little|              NA|         2134|       9|    car|\n",
            "| 22| 48|  male|  1|   rent|         little|          little|         2241|      10|    car|\n",
            "| 23| 44|  male|  2|    own|       moderate|        moderate|         1804|      12|    car|\n",
            "+---+---+------+---+-------+---------------+----------------+-------------+--------+-------+\n",
            "only showing top 10 rows\n",
            "\n"
          ]
        }
      ],
      "source": [
        "spark.sql(\"SELECT * FROM credit_table WHERE Purpose = 'car' \").show(10)"
      ]
    },
    {
      "cell_type": "markdown",
      "metadata": {
        "id": "aO32cC1PmB8V"
      },
      "source": [
        "#### Операторы WHERE  "
      ]
    },
    {
      "cell_type": "code",
      "execution_count": null,
      "metadata": {
        "id": "S_ydYAyfmB8V"
      },
      "outputs": [],
      "source": [
        "#  =  Равенство\n",
        "#  <> Неравенство\n",
        "#  != Неравенство\n",
        "#  <  Меньше\n",
        "#  <= Меньше или равно\n",
        "#  !< Не меньше\n",
        "#  >  Больше\n",
        "#  >= Больше или равно\n",
        "#  !> Не больше\n",
        "#  BETWEEN Вхождение в диапазон\n",
        "#  IS NULL Значение NULL"
      ]
    },
    {
      "cell_type": "code",
      "execution_count": null,
      "metadata": {
        "id": "4Bu0NnfzmB8V",
        "outputId": "98fc6c61-0a2a-42a9-d9de-6672110767c1"
      },
      "outputs": [
        {
          "name": "stdout",
          "output_type": "stream",
          "text": [
            "+---+---+------+---+-------+---------------+----------------+-------------+--------+-------------------+\n",
            "| id|Age|   Sex|Job|Housing|Saving_accounts|Checking_account|Credit_amount|Duration|            Purpose|\n",
            "+---+---+------+---+-------+---------------+----------------+-------------+--------+-------------------+\n",
            "|  0| 67|  male|  2|    own|             NA|          little|         1169|       6|           radio/TV|\n",
            "|  1| 22|female|  2|    own|         little|        moderate|         5951|      48|           radio/TV|\n",
            "|  2| 49|  male|  1|    own|         little|              NA|         2096|      12|          education|\n",
            "|  6| 53|  male|  2|    own|     quite rich|              NA|         2835|      24|furniture/equipment|\n",
            "|  7| 35|  male|  3|   rent|         little|        moderate|         6948|      36|                car|\n",
            "|  8| 61|  male|  1|    own|           rich|              NA|         3059|      12|           radio/TV|\n",
            "|  9| 28|  male|  3|    own|         little|        moderate|         5234|      30|                car|\n",
            "| 10| 25|female|  2|   rent|         little|        moderate|         1295|      12|                car|\n",
            "| 11| 24|female|  2|   rent|         little|          little|         4308|      48|           business|\n",
            "| 12| 22|female|  2|    own|         little|        moderate|         1567|      12|           radio/TV|\n",
            "+---+---+------+---+-------+---------------+----------------+-------------+--------+-------------------+\n",
            "only showing top 10 rows\n",
            "\n"
          ]
        }
      ],
      "source": [
        "spark.sql(\"SELECT * FROM credit_table WHERE Housing != 'free' \").show(10)"
      ]
    },
    {
      "cell_type": "code",
      "execution_count": null,
      "metadata": {
        "scrolled": true,
        "id": "5cPv2l0ImB8V",
        "outputId": "df7f1593-02f0-48f5-9ea0-04984d71ebec"
      },
      "outputs": [
        {
          "name": "stdout",
          "output_type": "stream",
          "text": [
            "+---+---+------+---+-------+---------------+----------------+-------------+--------+-------------------+\n",
            "| id|Age|   Sex|Job|Housing|Saving_accounts|Checking_account|Credit_amount|Duration|            Purpose|\n",
            "+---+---+------+---+-------+---------------+----------------+-------------+--------+-------------------+\n",
            "|  0| 67|  male|  2|    own|             NA|          little|         1169|       6|           radio/TV|\n",
            "| 10| 25|female|  2|   rent|         little|        moderate|         1295|      12|                car|\n",
            "| 12| 22|female|  2|    own|         little|        moderate|         1567|      12|           radio/TV|\n",
            "| 13| 60|  male|  1|    own|         little|          little|         1199|      24|                car|\n",
            "| 14| 28|female|  2|   rent|         little|          little|         1403|      15|                car|\n",
            "| 15| 32|female|  1|    own|       moderate|          little|         1282|      24|           radio/TV|\n",
            "| 23| 44|  male|  2|    own|       moderate|        moderate|         1804|      12|                car|\n",
            "| 25| 36|  male|  1|    own|         little|          little|         1374|       6|furniture/equipment|\n",
            "| 30| 36|  male|  2|    own|           rich|        moderate|         1913|      18|           business|\n",
            "| 33| 57|  male|  1|   rent|             NA|              NA|         1264|      12|           business|\n",
            "+---+---+------+---+-------+---------------+----------------+-------------+--------+-------------------+\n",
            "only showing top 10 rows\n",
            "\n"
          ]
        }
      ],
      "source": [
        "spark.sql(\"SELECT * FROM credit_table WHERE Credit_amount BETWEEN 1000 AND 2000 \").show(10)"
      ]
    },
    {
      "cell_type": "markdown",
      "metadata": {
        "id": "8mfnHd5GmB8W"
      },
      "source": [
        "### Расширенная фильтрация данных\n",
        "\n",
        "#### Комбинирование условий WHERE"
      ]
    },
    {
      "cell_type": "code",
      "execution_count": null,
      "metadata": {
        "id": "8iRaSop6mB8W",
        "outputId": "793436df-9a42-4398-8f01-d734de4fae67"
      },
      "outputs": [
        {
          "name": "stdout",
          "output_type": "stream",
          "text": [
            "+---+---+------+---+-------+---------------+----------------+-------------+--------+-------+\n",
            "| id|Age|   Sex|Job|Housing|Saving_accounts|Checking_account|Credit_amount|Duration|Purpose|\n",
            "+---+---+------+---+-------+---------------+----------------+-------------+--------+-------+\n",
            "|304| 44|  male|  2|   free|     quite rich|              NA|        10127|      48|    car|\n",
            "|927| 39|  male|  2|   free|         little|          little|        10297|      48|    car|\n",
            "|672| 42|  male|  3|    own|         little|              NA|        10366|      60|    car|\n",
            "|902| 42|  male|  2|   free|             NA|              NA|        10477|      36|    car|\n",
            "|205| 38|  male|  3|   free|         little|          little|        10623|      30|    car|\n",
            "|285| 35|female|  1|    own|         little|          little|        10722|      47|    car|\n",
            "|854| 45|  male|  2|    own|         little|              NA|        10875|      36|    car|\n",
            "|450| 30|  male|  3|    own|             NA|              NA|        11054|      36|    car|\n",
            "|736| 23|female|  3|   rent|         little|        moderate|        11560|      24|    car|\n",
            "|333| 24|female|  1|   rent|       moderate|              NA|        11590|      48|    car|\n",
            "+---+---+------+---+-------+---------------+----------------+-------------+--------+-------+\n",
            "only showing top 10 rows\n",
            "\n"
          ]
        }
      ],
      "source": [
        "spark.sql(\"\"\"SELECT * FROM credit_table \n",
        "                WHERE Credit_amount > 10000\n",
        "                  AND Purpose = 'car' \n",
        "                ORDER BY Credit_amount\n",
        "                \"\"\").show(10)"
      ]
    },
    {
      "cell_type": "markdown",
      "metadata": {
        "id": "3f0ZOdO8mB8W"
      },
      "source": [
        "#### Условие OR"
      ]
    },
    {
      "cell_type": "code",
      "execution_count": null,
      "metadata": {
        "id": "hqcX_ss7mB8W",
        "outputId": "76e89704-13b9-4d4e-bed3-e7ca29c23437"
      },
      "outputs": [
        {
          "name": "stdout",
          "output_type": "stream",
          "text": [
            "+---+---+------+---+-------+---------------+----------------+-------------+--------+-------------------+\n",
            "| id|Age|   Sex|Job|Housing|Saving_accounts|Checking_account|Credit_amount|Duration|            Purpose|\n",
            "+---+---+------+---+-------+---------------+----------------+-------------+--------+-------------------+\n",
            "|750| 49|female|  2|    own|         little|          little|          428|       6|furniture/equipment|\n",
            "|837| 23|female|  1|   rent|         little|              NA|          601|       4|furniture/equipment|\n",
            "|439| 26|female|  0|    own|         little|            rich|          609|      12|           business|\n",
            "|869| 24|female|  2|   rent|         little|          little|          652|      12|furniture/equipment|\n",
            "|316| 38|  male|  1|    own|         little|          little|          708|      12|furniture/equipment|\n",
            "|171| 26|female|  2|    own|         little|              NA|          763|      12|furniture/equipment|\n",
            "|573| 22|female|  1|    own|         little|          little|          806|      15|           business|\n",
            "|752| 23|female|  1|   rent|       moderate|        moderate|          841|      12|           business|\n",
            "|810| 26|  male|  2|    own|         little|        moderate|          907|       8|           business|\n",
            "|601| 30|female|  2|    own|         little|        moderate|          918|       9|furniture/equipment|\n",
            "+---+---+------+---+-------+---------------+----------------+-------------+--------+-------------------+\n",
            "only showing top 10 rows\n",
            "\n"
          ]
        }
      ],
      "source": [
        "spark.sql(\"\"\"SELECT * FROM credit_table \n",
        "                WHERE Purpose = 'furniture/equipment'\n",
        "                   OR Purpose = 'business' \n",
        "                ORDER BY Credit_amount\n",
        "                \"\"\").show(10)"
      ]
    },
    {
      "cell_type": "markdown",
      "metadata": {
        "id": "I4oRnKwZmB8W"
      },
      "source": [
        "####  Условие вхождения в множество IN"
      ]
    },
    {
      "cell_type": "code",
      "execution_count": null,
      "metadata": {
        "id": "PM2AnlnLmB8W",
        "outputId": "b36950bc-bf87-44d7-f07b-c408b84b8c49"
      },
      "outputs": [
        {
          "name": "stdout",
          "output_type": "stream",
          "text": [
            "+---+---+------+---+-------+---------------+----------------+-------------+--------+-------------------+\n",
            "| id|Age|   Sex|Job|Housing|Saving_accounts|Checking_account|Credit_amount|Duration|            Purpose|\n",
            "+---+---+------+---+-------+---------------+----------------+-------------+--------+-------------------+\n",
            "|750| 49|female|  2|    own|         little|          little|          428|       6|furniture/equipment|\n",
            "|837| 23|female|  1|   rent|         little|              NA|          601|       4|furniture/equipment|\n",
            "|439| 26|female|  0|    own|         little|            rich|          609|      12|           business|\n",
            "|869| 24|female|  2|   rent|         little|          little|          652|      12|furniture/equipment|\n",
            "|316| 38|  male|  1|    own|         little|          little|          708|      12|furniture/equipment|\n",
            "|171| 26|female|  2|    own|         little|              NA|          763|      12|furniture/equipment|\n",
            "|573| 22|female|  1|    own|         little|          little|          806|      15|           business|\n",
            "|752| 23|female|  1|   rent|       moderate|        moderate|          841|      12|           business|\n",
            "|810| 26|  male|  2|    own|         little|        moderate|          907|       8|           business|\n",
            "|601| 30|female|  2|    own|         little|        moderate|          918|       9|furniture/equipment|\n",
            "+---+---+------+---+-------+---------------+----------------+-------------+--------+-------------------+\n",
            "only showing top 10 rows\n",
            "\n"
          ]
        }
      ],
      "source": [
        "spark.sql(\"\"\"SELECT * FROM credit_table \n",
        "                WHERE Purpose IN ('furniture/equipment', 'business')\n",
        "                ORDER BY Credit_amount\n",
        "                \"\"\").show(10)"
      ]
    },
    {
      "cell_type": "markdown",
      "metadata": {
        "id": "xwmxE2ZHmB8W"
      },
      "source": [
        "####  Условие NOT"
      ]
    },
    {
      "cell_type": "code",
      "execution_count": null,
      "metadata": {
        "scrolled": true,
        "id": "lHTa9alpmB8W",
        "outputId": "79d2d930-4265-4682-87b9-f01003cf2a11"
      },
      "outputs": [
        {
          "name": "stdout",
          "output_type": "stream",
          "text": [
            "+---+---+------+---+-------+---------------+----------------+-------------+--------+-------------------+\n",
            "| id|Age|   Sex|Job|Housing|Saving_accounts|Checking_account|Credit_amount|Duration|            Purpose|\n",
            "+---+---+------+---+-------+---------------+----------------+-------------+--------+-------------------+\n",
            "|750| 49|female|  2|    own|         little|          little|          428|       6|furniture/equipment|\n",
            "|837| 23|female|  1|   rent|         little|              NA|          601|       4|furniture/equipment|\n",
            "|869| 24|female|  2|   rent|         little|          little|          652|      12|furniture/equipment|\n",
            "|316| 38|  male|  1|    own|         little|          little|          708|      12|furniture/equipment|\n",
            "|171| 26|female|  2|    own|         little|              NA|          763|      12|furniture/equipment|\n",
            "|573| 22|female|  1|    own|         little|          little|          806|      15|           business|\n",
            "|752| 23|female|  1|   rent|       moderate|        moderate|          841|      12|           business|\n",
            "|810| 26|  male|  2|    own|         little|        moderate|          907|       8|           business|\n",
            "|601| 30|female|  2|    own|         little|        moderate|          918|       9|furniture/equipment|\n",
            "|942| 31|  male|  2|    own|             NA|              NA|          929|      24|furniture/equipment|\n",
            "+---+---+------+---+-------+---------------+----------------+-------------+--------+-------------------+\n",
            "only showing top 10 rows\n",
            "\n"
          ]
        }
      ],
      "source": [
        "spark.sql(\"\"\"SELECT * FROM credit_table \n",
        "                WHERE Purpose IN ('furniture/equipment', 'business')\n",
        "                  AND NOT Job = 0\n",
        "                ORDER BY Credit_amount\n",
        "                \"\"\").show(10)"
      ]
    },
    {
      "cell_type": "markdown",
      "metadata": {
        "id": "Xs7wApWQmB8W"
      },
      "source": [
        "### Фильтрация с использованием метасимволов\n",
        "\n",
        "**Метасимволы** - Специальные символы, применяемые для поиска части значения.\n",
        "\n",
        "**Шаблон поиска** - Условие отбора строк, состоящее из текста, метасимволов и любой их комбинации.\n",
        "\n",
        "\n",
        "#### Оператор LIKE\n",
        "\n",
        "Метасимвол **знак процента (%)** в шаблоне поиска означает найти все вхождения любого символа.  \n",
        "Метасимвол **знак подчеркивания (_)** используется так же, как и знак %, но при этом учитывается не множество символов, а только один.  "
      ]
    },
    {
      "cell_type": "code",
      "execution_count": null,
      "metadata": {
        "id": "xoSAqg1AmB8X",
        "outputId": "4b35878c-ac59-4bba-d5d8-2b2dd9106f5d"
      },
      "outputs": [
        {
          "name": "stdout",
          "output_type": "stream",
          "text": [
            "+-------------------+\n",
            "|            Purpose|\n",
            "+-------------------+\n",
            "|           radio/TV|\n",
            "|    vacation/others|\n",
            "|furniture/equipment|\n",
            "+-------------------+\n",
            "\n"
          ]
        }
      ],
      "source": [
        "spark.sql(\"\"\"SELECT DISTINCT Purpose FROM credit_table \n",
        "                WHERE Purpose LIKE '%/%' \n",
        "                \"\"\").show(10)"
      ]
    },
    {
      "cell_type": "code",
      "execution_count": null,
      "metadata": {
        "id": "DRsve3qvmB8X",
        "outputId": "464a12ac-381e-4ae4-9197-0534e2be3faf"
      },
      "outputs": [
        {
          "name": "stdout",
          "output_type": "stream",
          "text": [
            "+---+---+------+---+-------+---------------+----------------+-------------+--------+-------------------+\n",
            "| id|Age|   Sex|Job|Housing|Saving_accounts|Checking_account|Credit_amount|Duration|            Purpose|\n",
            "+---+---+------+---+-------+---------------+----------------+-------------+--------+-------------------+\n",
            "|  0| 67|  male|  2|    own|             NA|          little|         1169|       6|           radio/TV|\n",
            "|  1| 22|female|  2|    own|         little|        moderate|         5951|      48|           radio/TV|\n",
            "|  2| 49|  male|  1|    own|         little|              NA|         2096|      12|          education|\n",
            "|  6| 53|  male|  2|    own|     quite rich|              NA|         2835|      24|furniture/equipment|\n",
            "|  8| 61|  male|  1|    own|           rich|              NA|         3059|      12|           radio/TV|\n",
            "+---+---+------+---+-------+---------------+----------------+-------------+--------+-------------------+\n",
            "only showing top 5 rows\n",
            "\n"
          ]
        }
      ],
      "source": [
        "spark.sql(\"\"\"SELECT * FROM credit_table \n",
        "                WHERE Housing LIKE 'ow_' \n",
        "                \"\"\").show(5)"
      ]
    },
    {
      "cell_type": "markdown",
      "metadata": {
        "id": "naY_Q1lTmB8X"
      },
      "source": [
        "### Создание вычисляемых полей\n",
        "\n",
        "**Поле** по сути то же самое, что и столбец. В основном эти термины взаимозаменяемы, хотя столбцы таблиц обычно называют столбцами, а термин поле чаще применяется по отношению к вычисляемым полям.\n"
      ]
    },
    {
      "cell_type": "code",
      "execution_count": 9,
      "metadata": {
        "colab": {
          "base_uri": "https://localhost:8080/"
        },
        "id": "lgaax-4vmB8X",
        "outputId": "43ccf750-577a-431e-a743-7979f78848fd"
      },
      "outputs": [
        {
          "output_type": "stream",
          "name": "stdout",
          "text": [
            "+---+---+------+-------------------+------------------+\n",
            "| id|Age|   Sex|            Purpose|     Month_payment|\n",
            "+---+---+------+-------------------+------------------+\n",
            "|  0| 67|  male|           radio/TV|194.83333333333334|\n",
            "|  1| 22|female|           radio/TV|123.97916666666667|\n",
            "|  2| 49|  male|          education|174.66666666666666|\n",
            "|  3| 45|  male|furniture/equipment|187.66666666666666|\n",
            "|  4| 53|  male|                car|202.91666666666666|\n",
            "+---+---+------+-------------------+------------------+\n",
            "only showing top 5 rows\n",
            "\n"
          ]
        }
      ],
      "source": [
        "spark.sql(\"\"\"SELECT id, Age, Sex, Purpose, \n",
        "                    Credit_amount / Duration AS Month_payment\n",
        "                    FROM credit_table \n",
        "             \"\"\").show(5)"
      ]
    },
    {
      "cell_type": "markdown",
      "metadata": {
        "id": "lrIjUj3umB8X"
      },
      "source": [
        "## 4. Домашнее задание \n",
        "\n",
        "Решение должно быть с использованием SQL!"
      ]
    },
    {
      "cell_type": "markdown",
      "metadata": {
        "id": "a6cnqGGfYa_Z"
      },
      "source": [
        "1. Сколько мужчин и женщин (признак Sex) представлено в этом наборе данных?"
      ]
    },
    {
      "cell_type": "code",
      "execution_count": 14,
      "metadata": {
        "id": "lkHvxnFtYa_Z",
        "colab": {
          "base_uri": "https://localhost:8080/"
        },
        "outputId": "29f5a97a-3b69-4885-c904-7722aa0780d3"
      },
      "outputs": [
        {
          "output_type": "stream",
          "name": "stdout",
          "text": [
            "Мужчин в наборе:\n",
            "+--------+\n",
            "|count(1)|\n",
            "+--------+\n",
            "|     690|\n",
            "+--------+\n",
            "\n",
            "Женщин в наборе:\n",
            "+--------+\n",
            "|count(1)|\n",
            "+--------+\n",
            "|     310|\n",
            "+--------+\n",
            "\n"
          ]
        }
      ],
      "source": [
        "print(\"Мужчин в наборе:\")\n",
        "spark.sql(\"\"\"SELECT count(*) FROM credit_table \n",
        "                WHERE Sex = 'male'\n",
        "                \"\"\").show()\n",
        "print(\"Женщин в наборе:\")\n",
        "spark.sql(\"\"\"SELECT count(*) FROM credit_table \n",
        "                WHERE Sex = 'female'\n",
        "                \"\"\").show()"
      ]
    },
    {
      "cell_type": "markdown",
      "metadata": {
        "id": "yyC_53NkYa_Z"
      },
      "source": [
        "2. Каков средний возраст (признак Age) женщин?"
      ]
    },
    {
      "cell_type": "code",
      "execution_count": 21,
      "metadata": {
        "id": "HJ5SpJWoYa_a",
        "colab": {
          "base_uri": "https://localhost:8080/"
        },
        "outputId": "46501926-874a-49e1-806e-85ac3eabe806"
      },
      "outputs": [
        {
          "output_type": "stream",
          "name": "stdout",
          "text": [
            "Средний возраст женщин\n",
            "+------------------+\n",
            "|  (sum(Age) / 310)|\n",
            "+------------------+\n",
            "|32.803225806451614|\n",
            "+------------------+\n",
            "\n"
          ]
        }
      ],
      "source": [
        "print(\"Средний возраст женщин\")\n",
        "spark.sql(\"\"\"SELECT sum(Age)/310 FROM credit_table \n",
        "                WHERE Sex = 'female'\n",
        "                \"\"\").show()"
      ]
    },
    {
      "cell_type": "markdown",
      "metadata": {
        "id": "cU97DO4lYa_a"
      },
      "source": [
        "3. Какова доля заемщиков с собственным жильем (признак Housing)?"
      ]
    },
    {
      "cell_type": "code",
      "execution_count": 18,
      "metadata": {
        "id": "qUk1zqP2Ya_a",
        "colab": {
          "base_uri": "https://localhost:8080/"
        },
        "outputId": "050aa118-12f9-46a8-ca2e-941906dcd582"
      },
      "outputs": [
        {
          "output_type": "stream",
          "name": "stdout",
          "text": [
            "Доля заемщиков с собственным жильем\n",
            "+----------------------+\n",
            "|Persent_of_own_Housing|\n",
            "+----------------------+\n",
            "|                  71.3|\n",
            "+----------------------+\n",
            "\n"
          ]
        }
      ],
      "source": [
        "print(\"Доля заемщиков с собственным жильем\")\n",
        "spark.sql(\"\"\"SELECT count(*)/1000*100 as Persent_of_own_Housing FROM credit_table \n",
        "                WHERE Housing = 'own'\n",
        "                \"\"\").show()"
      ]
    },
    {
      "cell_type": "markdown",
      "metadata": {
        "id": "SSQN8MwDYa_a"
      },
      "source": [
        "4. Каково среднее значение возраста тех, кто имеет высокие накопления (признак Saving_accounts)?"
      ]
    },
    {
      "cell_type": "code",
      "execution_count": 26,
      "metadata": {
        "id": "cDYO2YmTYa_a",
        "colab": {
          "base_uri": "https://localhost:8080/"
        },
        "outputId": "6dff663f-78cd-4aa2-db79-fd30845ddb91"
      },
      "outputs": [
        {
          "output_type": "stream",
          "name": "stdout",
          "text": [
            "Cреднее значение возраста тех, кто имеет высокие накопления\n",
            "+---------------------+\n",
            "|(sum(Age) / count(1))|\n",
            "+---------------------+\n",
            "|   37.166666666666664|\n",
            "+---------------------+\n",
            "\n"
          ]
        }
      ],
      "source": [
        "print(\"Cреднее значение возраста тех, кто имеет высокие накопления\")\n",
        "spark.sql(\"\"\"SELECT sum(Age)/count(*) FROM credit_table \n",
        "                WHERE Saving_accounts = 'rich'\n",
        "                \"\"\").show()"
      ]
    },
    {
      "cell_type": "markdown",
      "metadata": {
        "id": "iQ4KUTVaYa_a"
      },
      "source": [
        "5. Каково среднеквадратичное отклонения возраста тех, кто имеет высокие накопления (признак Saving_accounts)?"
      ]
    },
    {
      "cell_type": "code",
      "execution_count": 31,
      "metadata": {
        "id": "1F7IjTkxYa_b",
        "colab": {
          "base_uri": "https://localhost:8080/"
        },
        "outputId": "90d96021-17c7-4a53-9127-0bd2373f159e"
      },
      "outputs": [
        {
          "output_type": "stream",
          "name": "stdout",
          "text": [
            "Cреднеквадратичное отклонения возраста тех, кто имеет высокие накопления\n"
          ]
        },
        {
          "output_type": "execute_result",
          "data": {
            "text/plain": [
              "Age    11.854317\n",
              "dtype: float64"
            ]
          },
          "metadata": {},
          "execution_count": 31
        }
      ],
      "source": [
        "print(\"Cреднеквадратичное отклонения возраста тех, кто имеет высокие накопления\")\n",
        "new_df=spark.sql(\"\"\"SELECT Age FROM credit_table \n",
        "                WHERE Saving_accounts = 'rich'\n",
        "                \"\"\")\n",
        "new_df.toPandas().std()"
      ]
    },
    {
      "cell_type": "markdown",
      "metadata": {
        "id": "pkYgZXNNYa_b"
      },
      "source": [
        "6. Выведите гистограмму категорий покупок (признак Purpose) для мужчин и женщин."
      ]
    },
    {
      "cell_type": "code",
      "execution_count": 32,
      "metadata": {
        "id": "2BsL7ZjZYa_b",
        "colab": {
          "base_uri": "https://localhost:8080/",
          "height": 418
        },
        "outputId": "f46ba970-df48-4847-a2bb-ef05cbb9e3cc"
      },
      "outputs": [
        {
          "output_type": "stream",
          "name": "stdout",
          "text": [
            "Гистограмма гатегорий покупок для мужчин\n"
          ]
        },
        {
          "output_type": "execute_result",
          "data": {
            "text/plain": [
              "<matplotlib.axes._subplots.AxesSubplot at 0x7f7c8f4e8d50>"
            ]
          },
          "metadata": {},
          "execution_count": 32
        },
        {
          "output_type": "display_data",
          "data": {
            "text/plain": [
              "<Figure size 432x288 with 1 Axes>"
            ],
            "image/png": "[encoded data removed]"
          },
          "metadata": {
            "needs_background": "light"
          }
        }
      ],
      "source": [
        "print(\"Гистограмма гатегорий покупок для мужчин\")\n",
        "new_df=spark.sql(\"\"\"SELECT Purpose FROM credit_table \n",
        "                WHERE Sex = 'male'\n",
        "                \"\"\")\n",
        "new_df.toPandas().value_counts().plot(kind=\"bar\")"
      ]
    },
    {
      "cell_type": "code",
      "source": [
        "print(\"Гистограмма гатегорий покупок для женщин\")\n",
        "new_df=spark.sql(\"\"\"SELECT Purpose FROM credit_table \n",
        "                WHERE Sex = 'female'\n",
        "                \"\"\")\n",
        "new_df.toPandas().value_counts().plot(kind=\"bar\")"
      ],
      "metadata": {
        "colab": {
          "base_uri": "https://localhost:8080/",
          "height": 418
        },
        "id": "egRU_aDv1fYn",
        "outputId": "800bec78-090b-4541-9008-a5b69ee2a5b8"
      },
      "execution_count": 33,
      "outputs": [
        {
          "output_type": "stream",
          "name": "stdout",
          "text": [
            "Гистограмма гатегорий покупок для мужчин\n"
          ]
        },
        {
          "output_type": "execute_result",
          "data": {
            "text/plain": [
              "<matplotlib.axes._subplots.AxesSubplot at 0x7f7c8f4fb7d0>"
            ]
          },
          "metadata": {},
          "execution_count": 33
        },
        {
          "output_type": "display_data",
          "data": {
            "text/plain": [
              "<Figure size 432x288 with 1 Axes>"
            ],
            "image/png": "[encoded data removed]"
          },
          "metadata": {
            "needs_background": "light"
          }
        }
      ]
    },
    {
      "cell_type": "markdown",
      "metadata": {
        "id": "Ie7ToPwhYa_b"
      },
      "source": [
        "7. На что чаще всего берутся длинные кредиты (более 24 мес)?"
      ]
    },
    {
      "cell_type": "code",
      "execution_count": null,
      "metadata": {
        "id": "kJfx2rEeYa_b"
      },
      "outputs": [],
      "source": [
        "print(\"На что чаще всего берутся длинные кредиты \")\n",
        "spark.sql(\"\"\"SELECT Purpose OrderBy count() FROM credit_table \n",
        "                WHERE Duration > 24\n",
        "                \"\"\").show()"
      ]
    },
    {
      "cell_type": "markdown",
      "metadata": {
        "id": "2-6a70YIYa_b"
      },
      "source": [
        "8. Какой средний срок кредита (признак Duration) для заемщиков, имеющих высокие текущие траты (признак Checking_account)?"
      ]
    },
    {
      "cell_type": "code",
      "execution_count": null,
      "metadata": {
        "id": "L77F5vgLYa_b"
      },
      "outputs": [],
      "source": [
        "# Ваш код здесь"
      ]
    },
    {
      "cell_type": "markdown",
      "metadata": {
        "id": "rpmVC_K9Ya_c"
      },
      "source": [
        "9. Какой средний срок кредита (признак Duration) для заемщиков, имеющих низкие текущие траты (признак Checking_account)?"
      ]
    },
    {
      "cell_type": "code",
      "execution_count": null,
      "metadata": {
        "id": "3N-bsaTrYa_c"
      },
      "outputs": [],
      "source": [
        "# Ваш код здесь"
      ]
    },
    {
      "cell_type": "markdown",
      "metadata": {
        "id": "rZeYzZd7Ya_c"
      },
      "source": [
        "10. На какую цель взят самый дорогой кредит?"
      ]
    },
    {
      "cell_type": "code",
      "execution_count": null,
      "metadata": {
        "id": "vwS2NiamYa_c"
      },
      "outputs": [],
      "source": [
        "# Ваш код здесь"
      ]
    }
  ],
  "metadata": {
    "colab": {
      "collapsed_sections": [],
      "name": "Глущенко Никита. CodeLab4_SQL с домашним заданием.ipynb",
      "provenance": []
    },
    "kernelspec": {
      "display_name": "Python 3 (ipykernel)",
      "language": "python",
      "name": "python3"
    },
    "language_info": {
      "codemirror_mode": {
        "name": "ipython",
        "version": 3
      },
      "file_extension": ".py",
      "mimetype": "text/x-python",
      "name": "python",
      "nbconvert_exporter": "python",
      "pygments_lexer": "ipython3",
      "version": "3.8.10"
    }
  },
  "nbformat": 4,
  "nbformat_minor": 0
}