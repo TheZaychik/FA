{
 "cells": [
  {
   "cell_type": "markdown",
   "metadata": {},
   "source": [
    "### Работа с массивами\n",
    "### Алгоритмы сортировки"
   ]
  },
  {
   "cell_type": "markdown",
   "metadata": {},
   "source": [
    "10) Написать 4 функции порождения списка целых значений: отсортированного (по возрастанию и убыванию), случайного и почти отсортированного по возрастанию. Каждая функция принимает длину списка в качестве аргумента."
   ]
  },
  {
   "cell_type": "code",
   "execution_count": null,
   "metadata": {},
   "outputs": [],
   "source": [
    "from random import randint"
   ]
  },
  {
   "cell_type": "code",
   "execution_count": null,
   "metadata": {},
   "outputs": [],
   "source": [
    "def gen_sort(length=10):\n",
    "    return [i for i in range(length)]\n",
    "\n",
    "def sorted_by_descending(length=10):\n",
    "    return [i for i in range(length-1,-1,-1)]\n",
    "\n",
    "def generate(length=10):\n",
    "    return [randint(0,100) for _ in range(length)]\n",
    "\n",
    "def semi_sorted(length=10):\n",
    "    list_=gen_sort(length)\n",
    "    temp=list_[0]\n",
    "    list_[0]=list_[-1]\n",
    "    list_[-1]=temp\n",
    "    return list_"
   ]
  },
  {
   "cell_type": "code",
   "execution_count": null,
   "metadata": {},
   "outputs": [],
   "source": [
    "def bubble_sort(a_list):\n",
    "    s,p=0,0\n",
    "    for pass_num in range(len(a_list) - 1, 0, -1):\n",
    "        for i in range(pass_num):\n",
    "            s+=1\n",
    "            if a_list[i] > a_list[i + 1]:\n",
    "                p+=1\n",
    "                temp = a_list[i]\n",
    "                a_list[i] = a_list[i + 1]\n",
    "                a_list[i + 1] = temp\n",
    "    return a_list,s,p\n",
    "\n",
    "\n",
    "def bubble_sort_2(a_list):\n",
    "    s,p=0,0\n",
    "    for pass_num in range(len(a_list) - 1, 0, -1):\n",
    "        flag = False\n",
    "        for i in range(pass_num):\n",
    "            s+=1\n",
    "            if a_list[i] > a_list[i + 1]:\n",
    "                p+=1\n",
    "                temp = a_list[i]\n",
    "                a_list[i] = a_list[i + 1]\n",
    "                a_list[i + 1] = temp\n",
    "                flag = True\n",
    "        if not flag:\n",
    "            return a_list,s,p\n",
    "    return a_list,s,p\n",
    "\n",
    "def cocktail_sort(arr):\n",
    "    r_side = len(arr) - 1\n",
    "    l_side = 0\n",
    "    s,p=0,0\n",
    "    while (l_side <= r_side):\n",
    "        for i in range(l_side, r_side):\n",
    "            s+=1\n",
    "            if arr[i] > arr[i+1]:\n",
    "                p+=1\n",
    "                arr[i], arr[i+1] = arr[i+1], arr[i]\n",
    "        r_side-=1\n",
    "        for i in range(r_side, l_side, -1):\n",
    "            s+=1\n",
    "            if arr[i] < arr[i-1]:\n",
    "                p+=1\n",
    "                arr[i-1], arr[i] = arr[i], arr[i-1]\n",
    "        l_side+=1\n",
    "    return arr,s,p\n",
    "    "
   ]
  },
  {
   "cell_type": "code",
   "execution_count": null,
   "metadata": {},
   "outputs": [],
   "source": [
    "lst11=[100,9,8,1,2,3,4,7,6,3,6,99]\n",
    "print(cocktail_sort(lst11))"
   ]
  },
  {
   "cell_type": "code",
   "execution_count": null,
   "metadata": {},
   "outputs": [],
   "source": [
    "l=[100,9,8,1,2,3,4,7,6,3,6,99]\n",
    "bubble_sort_2(l)"
   ]
  },
  {
   "cell_type": "markdown",
   "metadata": {},
   "source": [
    "11) Реализовать функцию тестирования алгоритма сортировки. Процедура принимает на вход алгоритм сортировки и алгоритм порождения списка f_gen(list_len), генерирующий список заданной длины, количество повтороений теста и список длин использующихся для тестирования.\n",
    "Для каждой длины списка функция тестирования возвращает минимальное, среднее и наибольшее количество сравнений и перестановок."
   ]
  },
  {
   "cell_type": "code",
   "execution_count": null,
   "metadata": {},
   "outputs": [],
   "source": [
    "def testing(sorting, f_gen, repeat, lst_of_len):\n",
    "    dic = {}\n",
    "    for len_ in lst_of_len:\n",
    "        max_s = 0\n",
    "        min_s = 0\n",
    "        max_p = 0\n",
    "        min_p = 0\n",
    "        lst_s = []\n",
    "        lst_p = []\n",
    "        for _ in range(repeat):\n",
    "            l, s, p = sorting(f_gen(len_))\n",
    "           # print(l, s, p)\n",
    "            max_p = max(p, max_p)\n",
    "            max_s = max(s, max_s)\n",
    "            if min_p == 0:\n",
    "                min_p = p\n",
    "            if min_s == 0:\n",
    "                min_s = s\n",
    "            min_p = min(p, min_p)\n",
    "            min_s = min(s, min_s)\n",
    "            lst_s.append(s)\n",
    "            lst_p.append(p)\n",
    "        dic[len_] = dict(max_s=max_s, min_s =min_s, max_p=max_p, min_p=min_p, average_s=sum(lst_s)/len(lst_s), average_p=sum(lst_p)/len(lst_p))\n",
    "    return dic\n"
   ]
  },
  {
   "cell_type": "code",
   "execution_count": null,
   "metadata": {},
   "outputs": [
    {
     "data": {
      "text/plain": "{10: {'max_s': 45,\n  'min_s': 45,\n  'max_p': 30,\n  'min_p': 12,\n  'average_s': 45.0,\n  'average_p': 22.7},\n 100: {'max_s': 4950,\n  'min_s': 4950,\n  'max_p': 2672,\n  'min_p': 2033,\n  'average_s': 4950.0,\n  'average_p': 2477.5},\n 1000: {'max_s': 499500,\n  'min_s': 499500,\n  'max_p': 253558,\n  'min_p': 240165,\n  'average_s': 499500.0,\n  'average_p': 247349.5}}"
     },
     "execution_count": 7,
     "metadata": {},
     "output_type": "execute_result"
    }
   ],
   "source": [
    "testing(cocktail_sort, generate, 20, [10,100,1000])"
   ]
  },
  {
   "cell_type": "code",
   "execution_count": null,
   "metadata": {},
   "outputs": [
    {
     "data": {
      "text/plain": "{10: {'max_s': 45,\n  'min_s': 45,\n  'max_p': 32,\n  'min_p': 8,\n  'average_s': 45.0,\n  'average_p': 20.8},\n 100: {'max_s': 4950,\n  'min_s': 4950,\n  'max_p': 2746,\n  'min_p': 2194,\n  'average_s': 4950.0,\n  'average_p': 2458.9},\n 1000: {'max_s': 499500,\n  'min_s': 499500,\n  'max_p': 256192,\n  'min_p': 241637,\n  'average_s': 499500.0,\n  'average_p': 247513.2}}"
     },
     "execution_count": 8,
     "metadata": {},
     "output_type": "execute_result"
    }
   ],
   "source": [
    "testing(bubble_sort, generate, 20, [10,100,1000])"
   ]
  },
  {
   "cell_type": "code",
   "execution_count": null,
   "metadata": {},
   "outputs": [
    {
     "data": {
      "text/plain": "{10: {'max_s': 9,\n  'min_s': 9,\n  'max_p': 0,\n  'min_p': 0,\n  'average_s': 9.0,\n  'average_p': 0.0},\n 100: {'max_s': 99,\n  'min_s': 99,\n  'max_p': 0,\n  'min_p': 0,\n  'average_s': 99.0,\n  'average_p': 0.0},\n 1000: {'max_s': 999,\n  'min_s': 999,\n  'max_p': 0,\n  'min_p': 0,\n  'average_s': 999.0,\n  'average_p': 0.0}}"
     },
     "execution_count": 9,
     "metadata": {},
     "output_type": "execute_result"
    }
   ],
   "source": [
    "testing(bubble_sort_2, gen_sort, 20, [10,100,1000])"
   ]
  },
  {
   "cell_type": "code",
   "execution_count": null,
   "metadata": {},
   "outputs": [
    {
     "data": {
      "text/plain": "{10: {'max_s': 45,\n  'min_s': 35,\n  'max_p': 32,\n  'min_p': 13,\n  'average_s': 41.8,\n  'average_p': 21.35},\n 100: {'max_s': 4935,\n  'min_s': 4485,\n  'max_p': 2733,\n  'min_p': 2035,\n  'average_s': 4856.95,\n  'average_p': 2378.0},\n 1000: {'max_s': 499347,\n  'min_s': 495495,\n  'max_p': 258810,\n  'min_p': 239434,\n  'average_s': 498176.1,\n  'average_p': 248824.0}}"
     },
     "execution_count": 10,
     "metadata": {},
     "output_type": "execute_result"
    }
   ],
   "source": [
    "testing(bubble_sort_2, generate, 20, [10,100,1000])"
   ]
  },
  {
   "cell_type": "markdown",
   "metadata": {},
   "source": [
    "12) Реализовать модификацию сортировки пузырьком: \"камешек-пузырек\" - с чередующимися проходами, приводящими к \"всплытию\" самого большого значения списка и \"погружению\" самого маленького значения из неотсортированной части списка."
   ]
  },
  {
   "cell_type": "code",
   "execution_count": null,
   "metadata": {},
   "outputs": [],
   "source": [
    "test = [12,15,64, 21, 93, 102, 0, -5, -25, 96]"
   ]
  },
  {
   "cell_type": "code",
   "execution_count": null,
   "metadata": {},
   "outputs": [
    {
     "name": "stdout",
     "output_type": "stream",
     "text": [
      "[-25, -5, 0, 12, 15, 21, 64, 93, 96, 102]\n"
     ]
    }
   ],
   "source": [
    "cocktail_sort(test)\n",
    "print(test)"
   ]
  },
  {
   "cell_type": "markdown",
   "metadata": {
    "collapsed": true
   },
   "source": [
    "13) Добавить в сортировку счетчик количества операций перестановки и счетчик количества сравнений. Возвращать счетчики вместе с отсортированным списком."
   ]
  },
  {
   "cell_type": "code",
   "execution_count": null,
   "metadata": {},
   "outputs": [
    {
     "name": "stdout",
     "output_type": "stream",
     "text": [
      "([-25, -5, 0, 12, 12, 15, 15, 17, 21, 22, 32, 33, 44, 45, 55, 64, 66, 77, 78, 88, 93, 96, 99, 102], 276, 117)\n",
      "([-25, -5, 0, 12, 15, 21, 64, 93, 96, 102], 45, 23)\n",
      "([-25, -5, 0, 12, 15, 21, 64, 93, 96, 102], 45, 23)\n"
     ]
    }
   ],
   "source": [
    "test = [12,15,64, 21, 93, 102, 0, -5, -25, 96, 22,33,44,55,66,77,88,99,12,15,17,78,45,32]\n",
    "print(cocktail_sort(test))\n",
    "test = [12,15,64, 21, 93, 102, 0, -5, -25, 96]\n",
    "print(bubble_sort(test))\n",
    "test = [12,15,64, 21, 93, 102, 0, -5, -25, 96]\n",
    "print(bubble_sort_2(test))"
   ]
  },
  {
   "cell_type": "code",
   "execution_count": null,
   "metadata": {},
   "outputs": [],
   "source": [
    "from random import randint\n",
    "from copy import copy"
   ]
  },
  {
   "cell_type": "code",
   "execution_count": null,
   "metadata": {},
   "outputs": [],
   "source": []
  },
  {
   "cell_type": "markdown",
   "metadata": {},
   "source": [
    "14) Протестировать алгоритм \"пузырек\" и \"камешек-пузырек\" на разных типах списков."
   ]
  },
  {
   "cell_type": "code",
   "execution_count": null,
   "metadata": {},
   "outputs": [
    {
     "data": {
      "text/plain": "{1000: {'max_s': 499500,\n  'min_s': 499500,\n  'max_p': 0,\n  'min_p': 0,\n  'average_s': 499500.0,\n  'average_p': 0.0}}"
     },
     "execution_count": 15,
     "metadata": {},
     "output_type": "execute_result"
    }
   ],
   "source": [
    "testing(bubble_sort, gen_sort, 20, [1000])"
   ]
  },
  {
   "cell_type": "code",
   "execution_count": null,
   "metadata": {},
   "outputs": [
    {
     "data": {
      "text/plain": "{1000: {'max_s': 499500,\n  'min_s': 499500,\n  'max_p': 499500,\n  'min_p': 499500,\n  'average_s': 499500.0,\n  'average_p': 499500.0}}"
     },
     "execution_count": 16,
     "metadata": {},
     "output_type": "execute_result"
    }
   ],
   "source": [
    "testing(bubble_sort, sorted_by_descending, 20, [1000])"
   ]
  },
  {
   "cell_type": "code",
   "execution_count": null,
   "metadata": {},
   "outputs": [
    {
     "data": {
      "text/plain": "{1000: {'max_s': 499500,\n  'min_s': 499500,\n  'max_p': 258658,\n  'min_p': 237709,\n  'average_s': 499500.0,\n  'average_p': 249041.4}}"
     },
     "execution_count": 17,
     "metadata": {},
     "output_type": "execute_result"
    }
   ],
   "source": [
    "testing(bubble_sort, generate, 20, [1000])"
   ]
  },
  {
   "cell_type": "code",
   "execution_count": null,
   "metadata": {},
   "outputs": [
    {
     "data": {
      "text/plain": "{1000: {'max_s': 499500,\n  'min_s': 499500,\n  'max_p': 1997,\n  'min_p': 1997,\n  'average_s': 499500.0,\n  'average_p': 1997.0}}"
     },
     "execution_count": 18,
     "metadata": {},
     "output_type": "execute_result"
    }
   ],
   "source": [
    "testing(bubble_sort, semi_sorted, 20, [1000])"
   ]
  },
  {
   "cell_type": "code",
   "execution_count": null,
   "metadata": {},
   "outputs": [
    {
     "data": {
      "text/plain": "{1000: {'max_s': 999,\n  'min_s': 999,\n  'max_p': 0,\n  'min_p': 0,\n  'average_s': 999.0,\n  'average_p': 0.0}}"
     },
     "execution_count": 19,
     "metadata": {},
     "output_type": "execute_result"
    }
   ],
   "source": [
    "testing(bubble_sort_2, gen_sort, 20, [1000])"
   ]
  },
  {
   "cell_type": "code",
   "execution_count": null,
   "metadata": {},
   "outputs": [
    {
     "data": {
      "text/plain": "{1000: {'max_s': 499500,\n  'min_s': 499500,\n  'max_p': 499500,\n  'min_p': 499500,\n  'average_s': 499500.0,\n  'average_p': 499500.0}}"
     },
     "execution_count": 20,
     "metadata": {},
     "output_type": "execute_result"
    }
   ],
   "source": [
    "testing(bubble_sort_2, sorted_by_descending, 20, [1000])"
   ]
  },
  {
   "cell_type": "code",
   "execution_count": null,
   "metadata": {},
   "outputs": [
    {
     "data": {
      "text/plain": "{1000: {'max_s': 499380,\n  'min_s': 495845,\n  'max_p': 257747,\n  'min_p': 235885,\n  'average_s': 498348.15,\n  'average_p': 246480.6}}"
     },
     "execution_count": 21,
     "metadata": {},
     "output_type": "execute_result"
    }
   ],
   "source": [
    "testing(bubble_sort_2, generate, 20, [1000])"
   ]
  },
  {
   "cell_type": "code",
   "execution_count": null,
   "metadata": {},
   "outputs": [
    {
     "data": {
      "text/plain": "{1000: {'max_s': 499500,\n  'min_s': 499500,\n  'max_p': 1997,\n  'min_p': 1997,\n  'average_s': 499500.0,\n  'average_p': 1997.0}}"
     },
     "execution_count": 22,
     "metadata": {},
     "output_type": "execute_result"
    }
   ],
   "source": [
    "testing(bubble_sort_2, semi_sorted, 20, [1000])"
   ]
  },
  {
   "cell_type": "code",
   "execution_count": null,
   "metadata": {},
   "outputs": [
    {
     "data": {
      "text/plain": "{1000: {'max_s': 499500,\n  'min_s': 499500,\n  'max_p': 0,\n  'min_p': 0,\n  'average_s': 499500.0,\n  'average_p': 0.0}}"
     },
     "execution_count": 23,
     "metadata": {},
     "output_type": "execute_result"
    }
   ],
   "source": [
    "testing(cocktail_sort, gen_sort, 20, [1000])"
   ]
  },
  {
   "cell_type": "code",
   "execution_count": null,
   "metadata": {},
   "outputs": [
    {
     "data": {
      "text/plain": "{1000: {'max_s': 499500,\n  'min_s': 499500,\n  'max_p': 499500,\n  'min_p': 499500,\n  'average_s': 499500.0,\n  'average_p': 499500.0}}"
     },
     "execution_count": 24,
     "metadata": {},
     "output_type": "execute_result"
    }
   ],
   "source": [
    "testing(cocktail_sort, sorted_by_descending, 20, [1000])"
   ]
  },
  {
   "cell_type": "code",
   "execution_count": null,
   "metadata": {},
   "outputs": [
    {
     "data": {
      "text/plain": "{1000: {'max_s': 499500,\n  'min_s': 499500,\n  'max_p': 259713,\n  'min_p': 240292,\n  'average_s': 499500.0,\n  'average_p': 249609.75}}"
     },
     "execution_count": 25,
     "metadata": {},
     "output_type": "execute_result"
    }
   ],
   "source": [
    "testing(cocktail_sort, generate, 20, [1000])"
   ]
  },
  {
   "cell_type": "code",
   "execution_count": null,
   "metadata": {},
   "outputs": [
    {
     "data": {
      "text/plain": "{1000: {'max_s': 499500,\n  'min_s': 499500,\n  'max_p': 1997,\n  'min_p': 1997,\n  'average_s': 499500.0,\n  'average_p': 1997.0}}"
     },
     "execution_count": 26,
     "metadata": {},
     "output_type": "execute_result"
    }
   ],
   "source": [
    "testing(cocktail_sort, semi_sorted, 20, [1000])"
   ]
  },
  {
   "cell_type": "markdown",
   "metadata": {},
   "source": [
    "15) Реализовать модификацию сортировки выбором на основе выбора из подсписков (описанного в лекции). Протестировать алгоритм."
   ]
  },
  {
   "cell_type": "code",
   "execution_count": null,
   "metadata": {},
   "outputs": [
    {
     "name": "stdout",
     "output_type": "stream",
     "text": [
      "[12, 1, 64, 21, 93, 10, 0, -5, -25, 96, 22]\n",
      "[-25, -5, 0, 1, 10, 12, 21, 22, 64, 93, 96]\n"
     ]
    }
   ],
   "source": [
    "def selection_sort(a_list):\n",
    "    for fill_slot in range(len(a_list) - 1, 0, -1):\n",
    "        pos_of_max = 0\n",
    "        for location in range(1, fill_slot + 1):\n",
    "            if a_list[location] > a_list[pos_of_max]:\n",
    "                pos_of_max = location\n",
    "        \n",
    "        temp = a_list[fill_slot]\n",
    "        a_list[fill_slot] = a_list[pos_of_max]\n",
    "        a_list[pos_of_max] = temp\n",
    "    return a_list\n",
    "a = [12,1,64, 21, 93, 10, 0, -5, -25, 96, 22]\n",
    "print(a)\n",
    "print(selection_sort(a))\n"
   ]
  },
  {
   "cell_type": "markdown",
   "metadata": {},
   "source": [
    "16) Реализовать быструю сортировку с возможностью подсчета операций. Сравнить производительность алгоритма на случайных и упорядоченных (и почти упорядоченных) данных."
   ]
  },
  {
   "cell_type": "code",
   "execution_count": null,
   "metadata": {},
   "outputs": [],
   "source": [
    "def quick_sort(a_list):\n",
    "    s = [0]\n",
    "    p = [0]\n",
    "    quick_sort_helper(a_list, 0, len(a_list) - 1, s, p)\n",
    "    return a_list, s[0], p[0]\n",
    "\n",
    "def quick_sort_helper(a_list, first, last, s, p):\n",
    "    if first < last:\n",
    "\n",
    "        split_point, s, p = partition(a_list, first, last, s, p)\n",
    "\n",
    "        quick_sort_helper(a_list, first, split_point - 1, s, p)\n",
    "        quick_sort_helper(a_list, split_point + 1, last, s, p)\n",
    "\n",
    "def partition(a_list, first, last, s, p):\n",
    "    pivot_value = a_list[first]\n",
    "\n",
    "    left_mark = first + 1\n",
    "    right_mark = last\n",
    "\n",
    "    done = False\n",
    "    while not done:\n",
    "\n",
    "        while left_mark <= right_mark and a_list[left_mark] <= pivot_value:\n",
    "            s[0] += 2\n",
    "            left_mark += 1\n",
    "\n",
    "        while a_list[right_mark] >= pivot_value and right_mark >= left_mark:\n",
    "            s[0] += 2\n",
    "            right_mark -= 1\n",
    "        \n",
    "        s[0] += 1\n",
    "        if right_mark < left_mark:\n",
    "            done = True\n",
    "        else:\n",
    "            p[0] += 2\n",
    "            a_list[left_mark], a_list[right_mark] = a_list[right_mark], a_list[left_mark]\n",
    "    \n",
    "    s[0] += 4\n",
    "    a_list[first], a_list[right_mark] = a_list[right_mark], a_list[first]\n",
    "    p[0] += 2\n",
    "    return right_mark, s, p            "
   ]
  },
  {
   "cell_type": "code",
   "execution_count": null,
   "metadata": {},
   "outputs": [],
   "source": [
    "test = [1, 2, 5, 7, 2, 9, 15, -100, 123, 43]"
   ]
  },
  {
   "cell_type": "code",
   "execution_count": null,
   "metadata": {},
   "outputs": [
    {
     "name": "stdout",
     "output_type": "stream",
     "text": [
      "([-100, 1, 2, 2, 5, 7, 9, 15, 43, 123], 81, 18)\n"
     ]
    }
   ],
   "source": [
    "print(quick_sort(test))"
   ]
  },
  {
   "cell_type": "code",
   "execution_count": null,
   "metadata": {},
   "outputs": [
    {
     "name": "stdout",
     "output_type": "stream",
     "text": [
      "{10: {'max_s': 107, 'min_s': 74, 'max_p': 24, 'min_p': 16, 'average_s': 86.65, 'average_p': 19.1}, 100: {'max_s': 2157, 'min_s': 1636, 'max_p': 340, 'min_p': 294, 'average_s': 1832.7, 'average_p': 320.4}, 1000: {'max_s': 35848, 'min_s': 29876, 'max_p': 4324, 'min_p': 4078, 'average_s': 32068.2, 'average_p': 4191.4}}\n",
      "{10: {'max_s': 45, 'min_s': 45, 'max_p': 34, 'min_p': 8, 'average_s': 45.0, 'average_p': 23.45}, 100: {'max_s': 4950, 'min_s': 4950, 'max_p': 2874, 'min_p': 2155, 'average_s': 4950.0, 'average_p': 2481.8}, 1000: {'max_s': 499500, 'min_s': 499500, 'max_p': 261056, 'min_p': 242549, 'average_s': 499500.0, 'average_p': 248153.7}}\n"
     ]
    }
   ],
   "source": [
    "print(testing(quick_sort, generate, 20, [10, 100, 1000]))\n",
    "print(testing(bubble_sort, generate, 20, [10, 100, 1000]))"
   ]
  },
  {
   "cell_type": "code",
   "execution_count": null,
   "metadata": {},
   "outputs": [
    {
     "name": "stdout",
     "output_type": "stream",
     "text": [
      "{10: {'max_s': 135, 'min_s': 135, 'max_p': 18, 'min_p': 18, 'average_s': 135.0, 'average_p': 18.0}, 100: {'max_s': 10395, 'min_s': 10395, 'max_p': 198, 'min_p': 198, 'average_s': 10395.0, 'average_p': 198.0}, 1000: {'max_s': 1003995, 'min_s': 1003995, 'max_p': 1998, 'min_p': 1998, 'average_s': 1003995.0, 'average_p': 1998.0}}\n"
     ]
    }
   ],
   "source": [
    "print(testing(quick_sort, gen_sort, 20, [10, 100, 1000]))"
   ]
  },
  {
   "cell_type": "code",
   "execution_count": null,
   "metadata": {},
   "outputs": [
    {
     "name": "stdout",
     "output_type": "stream",
     "text": [
      "{10: {'max_s': 135, 'min_s': 135, 'max_p': 18, 'min_p': 18, 'average_s': 135.0, 'average_p': 18.0}, 100: {'max_s': 10395, 'min_s': 10395, 'max_p': 198, 'min_p': 198, 'average_s': 10395.0, 'average_p': 198.0}, 1000: {'max_s': 1003995, 'min_s': 1003995, 'max_p': 1998, 'min_p': 1998, 'average_s': 1003995.0, 'average_p': 1998.0}}\n"
     ]
    }
   ],
   "source": [
    "print(testing(quick_sort, semi_sorted, 20, [10, 100, 1000]))"
   ]
  },
  {
   "cell_type": "markdown",
   "metadata": {},
   "source": [
    "17) Улучшить работу быстрой сортировки на упорядоченных и почти упорядоченных за счет изменения алгоритма выбора элемента для разделения массива."
   ]
  },
  {
   "cell_type": "code",
   "execution_count": null,
   "metadata": {},
   "outputs": [],
   "source": []
  },
  {
   "cell_type": "code",
   "execution_count": null,
   "metadata": {},
   "outputs": [
    {
     "name": "stdout",
     "output_type": "stream",
     "text": [
      "{10: {'max_s': 101, 'min_s': 71, 'max_p': 22, 'min_p': 14, 'average_s': 83.23333333333333, 'average_p': 18.866666666666667}, 100: {'max_s': 1919, 'min_s': 1626, 'max_p': 338, 'min_p': 298, 'average_s': 1741.3, 'average_p': 317.26666666666665}, 1000: {'max_s': 35508, 'min_s': 30610, 'max_p': 4304, 'min_p': 4104, 'average_s': 32031.833333333332, 'average_p': 4195.8}}\n"
     ]
    }
   ],
   "source": [
    "print(testing(quick_sort, generate, 30, [10, 100, 1000]))\n",
    "#print(testing(quick_sort2, generate, 30, [10, 100, 1000]))"
   ]
  },
  {
   "cell_type": "code",
   "execution_count": null,
   "metadata": {},
   "outputs": [
    {
     "name": "stdout",
     "output_type": "stream",
     "text": [
      "{10: {'max_s': 135, 'min_s': 135, 'max_p': 18, 'min_p': 18, 'average_s': 135.0, 'average_p': 18.0}, 100: {'max_s': 10395, 'min_s': 10395, 'max_p': 198, 'min_p': 198, 'average_s': 10395.0, 'average_p': 198.0}, 1000: {'max_s': 1003995, 'min_s': 1003995, 'max_p': 1998, 'min_p': 1998, 'average_s': 1003995.0, 'average_p': 1998.0}}\n"
     ]
    },
    {
     "ename": "NameError",
     "evalue": "name 'quick_sort2' is not defined",
     "output_type": "error",
     "traceback": [
      "\u001B[0;31m---------------------------------------------------------------------------\u001B[0m",
      "\u001B[0;31mNameError\u001B[0m                                 Traceback (most recent call last)",
      "\u001B[0;32m<ipython-input-35-029659b91800>\u001B[0m in \u001B[0;36m<module>\u001B[0;34m\u001B[0m\n\u001B[1;32m      1\u001B[0m \u001B[0mprint\u001B[0m\u001B[0;34m(\u001B[0m\u001B[0mtesting\u001B[0m\u001B[0;34m(\u001B[0m\u001B[0mquick_sort\u001B[0m\u001B[0;34m,\u001B[0m \u001B[0mgen_sort\u001B[0m\u001B[0;34m,\u001B[0m \u001B[0;36m30\u001B[0m\u001B[0;34m,\u001B[0m \u001B[0;34m[\u001B[0m\u001B[0;36m10\u001B[0m\u001B[0;34m,\u001B[0m \u001B[0;36m100\u001B[0m\u001B[0;34m,\u001B[0m \u001B[0;36m1000\u001B[0m\u001B[0;34m]\u001B[0m\u001B[0;34m)\u001B[0m\u001B[0;34m)\u001B[0m\u001B[0;34m\u001B[0m\u001B[0;34m\u001B[0m\u001B[0m\n\u001B[0;32m----> 2\u001B[0;31m \u001B[0mprint\u001B[0m\u001B[0;34m(\u001B[0m\u001B[0mtesting\u001B[0m\u001B[0;34m(\u001B[0m\u001B[0mquick_sort2\u001B[0m\u001B[0;34m,\u001B[0m \u001B[0mgen_sort\u001B[0m\u001B[0;34m,\u001B[0m \u001B[0;36m30\u001B[0m\u001B[0;34m,\u001B[0m \u001B[0;34m[\u001B[0m\u001B[0;36m10\u001B[0m\u001B[0;34m,\u001B[0m \u001B[0;36m100\u001B[0m\u001B[0;34m,\u001B[0m \u001B[0;36m1000\u001B[0m\u001B[0;34m]\u001B[0m\u001B[0;34m)\u001B[0m\u001B[0;34m)\u001B[0m\u001B[0;34m\u001B[0m\u001B[0;34m\u001B[0m\u001B[0m\n\u001B[0m\u001B[1;32m      3\u001B[0m \u001B[0;34m\u001B[0m\u001B[0m\n",
      "\u001B[0;31mNameError\u001B[0m: name 'quick_sort2' is not defined"
     ]
    }
   ],
   "source": [
    "print(testing(quick_sort, gen_sort, 30, [10, 100, 1000]))\n",
    "print(testing(quick_sort2, gen_sort, 30, [10, 100, 1000]))"
   ]
  },
  {
   "cell_type": "markdown",
   "metadata": {},
   "source": [
    "18) Реализовать эффективный алгоритм получения из большого количества отсортированных списков одного отсортированного списка."
   ]
  },
  {
   "cell_type": "code",
   "execution_count": null,
   "metadata": {},
   "outputs": [],
   "source": [
    "def sort(list_of_lists):\n",
    "    while len(list_of_lists)>1:\n",
    "        first_item=list_of_lists.pop()\n",
    "        second_item=list_of_lists.pop()\n",
    "        i,j,a_list=0,0,[]\n",
    "        while i < len(first_item) and j < len(second_item):\n",
    "            if first_item[i] < second_item[j]:\n",
    "                a_list.append(first_item[i])\n",
    "                i += 1\n",
    "            else:\n",
    "                a_list.append(second_item[j])\n",
    "                j += 1\n",
    "\n",
    "        while i < len(first_item):\n",
    "            a_list.append(first_item[i])\n",
    "            i += 1\n",
    "\n",
    "        while j < len(second_item):\n",
    "            a_list.append(second_item[j])\n",
    "            j += 1\n",
    "        \n",
    "        list_of_lists.append(list(a_list))\n",
    "    return list_of_lists[0]"
   ]
  },
  {
   "cell_type": "code",
   "execution_count": null,
   "metadata": {},
   "outputs": [],
   "source": [
    "s = [[0, 1, 5, 6, 7], [-9.37, 4, 6, 8, 13.26362, 15], [-0.1, 7, 7, 7, 14], [-78.1512, -38, -37, 0, 5]]\n",
    "lst = sort(s)\n",
    "print(lst)"
   ]
  },
  {
   "cell_type": "markdown",
   "metadata": {},
   "source": [
    "19) Модифицировать последовательность длин шагов в сортировке Шелла.\n",
    "\n",
    "На $2[n/2^{k+1}]+1$\n",
    "\n",
    "т.е. при первой сортировке будут использоваться шаги: 2*[n/4]+1, 2*[n/8]+1, ... , 3, 1 ."
   ]
  },
  {
   "cell_type": "code",
   "execution_count": null,
   "metadata": {},
   "outputs": [],
   "source": [
    "def gap_insertion_sort(a_list, start, gap):\n",
    "    for i in range(start + gap, len(a_list), gap):\n",
    "        current_value = a_list[i]\n",
    "        position = i\n",
    "        \n",
    "        while position >= gap and a_list[position - gap] > current_value:\n",
    "            a_list[position] = a_list[position - gap]\n",
    "            position = position - gap\n",
    "\n",
    "        a_list[position] = current_value  \n",
    "        \n",
    "def shell_sort(a_list):\n",
    "    k=1\n",
    "    sublist_count = 2\n",
    "    while sublist_count > 1:\n",
    "        sublist_count = 2*(len(a_list)//(pow(2,k+1)))+1\n",
    "        for start_position in range(sublist_count):\n",
    "            gap_insertion_sort(a_list, start_position, sublist_count)\n",
    "\n",
    "        print(\"After inc. of size\", sublist_count, \"Lst:\", a_list)\n",
    "        k+=1"
   ]
  },
  {
   "cell_type": "code",
   "execution_count": null,
   "metadata": {},
   "outputs": [],
   "source": [
    "test = [0, 32, 543, 123, -4032, 234, -1232, 223, 94832, 111, -93443, -234]"
   ]
  },
  {
   "cell_type": "code",
   "execution_count": null,
   "metadata": {},
   "outputs": [],
   "source": [
    "shell_sort(test)"
   ]
  },
  {
   "cell_type": "code",
   "execution_count": null,
   "metadata": {},
   "outputs": [],
   "source": [
    "def sort(a_list):\n",
    "    new_list = []\n",
    "    k = len(a_list)\n",
    "    for i in range(k):\n",
    "        f = a_list[i]\n",
    "        a_list[i], p, t = quick_sort(f)\n",
    "    for i in range(k):\n",
    "        lists = a_list[i]\n",
    "        for j in range(len(lists)):\n",
    "            new_list.append(lists)\n",
    "    s, p, t = quick_sort(new_list)\n",
    "    return s\n",
    "    "
   ]
  },
  {
   "cell_type": "code",
   "execution_count": null,
   "metadata": {},
   "outputs": [],
   "source": [
    "from random import randint"
   ]
  },
  {
   "cell_type": "code",
   "execution_count": null,
   "metadata": {},
   "outputs": [],
   "source": [
    "d1 = []\n",
    "for i in range(randint(5, 10)):\n",
    "    d1.append([])\n",
    "    for j in range(randint(5, 10)):\n",
    "        d1[i].append(randint(-50, 50))\n",
    "print(d1)\n",
    "print(sort(d1))"
   ]
  },
  {
   "cell_type": "code",
   "execution_count": null,
   "metadata": {},
   "outputs": [],
   "source": []
  }
 ],
 "metadata": {
  "anaconda-cloud": {},
  "kernelspec": {
   "display_name": "Python 3",
   "language": "python",
   "name": "python3"
  }
 },
 "nbformat": 4,
 "nbformat_minor": 1
}