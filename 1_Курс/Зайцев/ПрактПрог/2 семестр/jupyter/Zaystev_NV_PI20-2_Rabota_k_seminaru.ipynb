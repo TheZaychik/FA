{
 "cells": [
  {
   "cell_type": "markdown",
   "metadata": {},
   "source": [
    "##  Знакомство с динамическими массивами\n",
    "### Задания для самостоятельной работы\n",
    "### 05.05.2021 и 06.05.2021\n"
   ]
  },
  {
   "cell_type": "markdown",
   "metadata": {},
   "source": [
    "6) Реализовать простейший динамический массив, поддерживающий добавление элемента в конец массива при помощи метода append(e).\n",
    "\n",
    "Также должны поддерживаться следующие операции: \n",
    "* извлечение элемента по индексу;\n",
    "* устанавка нового значения по индексу;\n",
    "* получение текущей длины массива."
   ]
  },
  {
   "cell_type": "code",
   "execution_count": 11,
   "metadata": {},
   "outputs": [],
   "source": [
    "class DArray(object):\n",
    "    \"\"\"\n",
    "    Класс, описывающий реализацию динамического массива.\n",
    "    \"\"\"\n",
    "    def __init__(self, Dlen):\n",
    "        self.__arr = [] * Dlen\n",
    "        self.__capacity = Dlen\n",
    "        \n",
    "    def __len__(self):\n",
    "        \"\"\"\n",
    "        Длина объекта\n",
    "        \"\"\"\n",
    "        count = 0\n",
    "        for i in self.__arr:\n",
    "            if(i != None):\n",
    "                count += 1\n",
    "        return count\n",
    "    \n",
    "    def __getitem__(self, key):\n",
    "        \"\"\"\n",
    "        Доступ по индексу (или ключу).\n",
    "        \"\"\"\n",
    "        if(key < len(self.__arr)):\n",
    "            return self.__arr[key]\n",
    "        else:\n",
    "            raise IndexError(\"Такой элемент неопределен!\")\n",
    "    \n",
    "    def __setitem__(self, key, value):\n",
    "        \"\"\"\n",
    "        Назначение элемента по индексу.\n",
    "        \"\"\"\n",
    "        if(key < len(self.__arr)):\n",
    "            self.__arr[key] = value\n",
    "        else:\n",
    "            raise IndexError(\"Такой элемент неопределен!\")\n",
    "        \n",
    "    def __str__(self):\n",
    "        print(\"DynamicArray(\", end = \"\")\n",
    "        for i in range(len(self.__arr)):\n",
    "            if(self.__arr[i] != None):\n",
    "                x = i + 1\n",
    "        for i in range(x):\n",
    "            print(self.__arr[i], end = \" \")\n",
    "        return \")\"\n",
    "   \n",
    "    def __delitem__(self, key):\n",
    "        if(key < len(self.__arr)):\n",
    "            del self.__arr[key]\n",
    "        else:\n",
    "            raise IndexError\n",
    "    \n",
    "    @property\n",
    "    def capacity(self):\n",
    "        return self.__capacity\n",
    "\n",
    "    def append(self, item):\n",
    "        if(len(self.__arr) < self.__capacity):\n",
    "            self.__arr.append(item)\n",
    "        else:\n",
    "            raise IndexError(\"Больше элементов добавить нельзя!\")"
   ]
  },
  {
   "cell_type": "code",
   "execution_count": 2,
   "metadata": {},
   "outputs": [
    {
     "ename": "IndexError",
     "evalue": "Такой элемент неопределен!",
     "output_type": "error",
     "traceback": [
      "\u001b[1;31m---------------------------------------------------------------------------\u001b[0m",
      "\u001b[1;31mIndexError\u001b[0m                                Traceback (most recent call last)",
      "\u001b[1;32m<ipython-input-2-80237908a02d>\u001b[0m in \u001b[0;36m<module>\u001b[1;34m\u001b[0m\n\u001b[0;32m      1\u001b[0m \u001b[0ml1\u001b[0m \u001b[1;33m=\u001b[0m \u001b[0mDArray\u001b[0m\u001b[1;33m(\u001b[0m\u001b[1;36m2\u001b[0m\u001b[1;33m)\u001b[0m\u001b[1;33m\u001b[0m\u001b[1;33m\u001b[0m\u001b[0m\n\u001b[1;32m----> 2\u001b[1;33m \u001b[0mprint\u001b[0m\u001b[1;33m(\u001b[0m\u001b[0ml1\u001b[0m\u001b[1;33m[\u001b[0m\u001b[1;36m0\u001b[0m\u001b[1;33m]\u001b[0m\u001b[1;33m)\u001b[0m\u001b[1;33m\u001b[0m\u001b[1;33m\u001b[0m\u001b[0m\n\u001b[0m\u001b[0;32m      3\u001b[0m \u001b[0ml1\u001b[0m\u001b[1;33m.\u001b[0m\u001b[0mappend\u001b[0m\u001b[1;33m(\u001b[0m\u001b[1;36m14\u001b[0m\u001b[1;33m)\u001b[0m\u001b[1;33m\u001b[0m\u001b[1;33m\u001b[0m\u001b[0m\n\u001b[0;32m      4\u001b[0m \u001b[0ml1\u001b[0m\u001b[1;33m.\u001b[0m\u001b[0mappend\u001b[0m\u001b[1;33m(\u001b[0m\u001b[1;36m15\u001b[0m\u001b[1;33m)\u001b[0m\u001b[1;33m\u001b[0m\u001b[1;33m\u001b[0m\u001b[0m\n\u001b[0;32m      5\u001b[0m \u001b[0mprint\u001b[0m\u001b[1;33m(\u001b[0m\u001b[0ml1\u001b[0m\u001b[1;33m)\u001b[0m\u001b[1;33m\u001b[0m\u001b[1;33m\u001b[0m\u001b[0m\n",
      "\u001b[1;32m<ipython-input-1-7e59bfcae503>\u001b[0m in \u001b[0;36m__getitem__\u001b[1;34m(self, key)\u001b[0m\n\u001b[0;32m     24\u001b[0m             \u001b[1;32mreturn\u001b[0m \u001b[0mself\u001b[0m\u001b[1;33m.\u001b[0m\u001b[0m__arr\u001b[0m\u001b[1;33m[\u001b[0m\u001b[0mkey\u001b[0m\u001b[1;33m]\u001b[0m\u001b[1;33m\u001b[0m\u001b[1;33m\u001b[0m\u001b[0m\n\u001b[0;32m     25\u001b[0m         \u001b[1;32melse\u001b[0m\u001b[1;33m:\u001b[0m\u001b[1;33m\u001b[0m\u001b[1;33m\u001b[0m\u001b[0m\n\u001b[1;32m---> 26\u001b[1;33m             \u001b[1;32mraise\u001b[0m \u001b[0mIndexError\u001b[0m\u001b[1;33m(\u001b[0m\u001b[1;34m\"Такой элемент неопределен!\"\u001b[0m\u001b[1;33m)\u001b[0m\u001b[1;33m\u001b[0m\u001b[1;33m\u001b[0m\u001b[0m\n\u001b[0m\u001b[0;32m     27\u001b[0m \u001b[1;33m\u001b[0m\u001b[0m\n\u001b[0;32m     28\u001b[0m     \u001b[1;32mdef\u001b[0m \u001b[0m__setitem__\u001b[0m\u001b[1;33m(\u001b[0m\u001b[0mself\u001b[0m\u001b[1;33m,\u001b[0m \u001b[0mkey\u001b[0m\u001b[1;33m,\u001b[0m \u001b[0mvalue\u001b[0m\u001b[1;33m)\u001b[0m\u001b[1;33m:\u001b[0m\u001b[1;33m\u001b[0m\u001b[1;33m\u001b[0m\u001b[0m\n",
      "\u001b[1;31mIndexError\u001b[0m: Такой элемент неопределен!"
     ]
    }
   ],
   "source": [
    "l1 = DArray(2)\n",
    "print(l1[0])\n",
    "l1.append(14)\n",
    "l1.append(15)\n",
    "print(l1)\n",
    "l1.append(156)\n",
    "print(l1)"
   ]
  },
  {
   "cell_type": "markdown",
   "metadata": {},
   "source": [
    "6.1) Добавить реализацию удаления элемента из любого места массива и поддержку корректного вывода массива при помощи функции print."
   ]
  },
  {
   "cell_type": "code",
   "execution_count": null,
   "metadata": {},
   "outputs": [],
   "source": []
  },
  {
   "cell_type": "code",
   "execution_count": 8,
   "metadata": {},
   "outputs": [],
   "source": [
    "a1 = DArray(15)"
   ]
  },
  {
   "cell_type": "code",
   "execution_count": 4,
   "metadata": {},
   "outputs": [
    {
     "name": "stdout",
     "output_type": "stream",
     "text": [
      "<class '__main__.DArray'>\n"
     ]
    }
   ],
   "source": [
    "print(type(a1))"
   ]
  },
  {
   "cell_type": "code",
   "execution_count": 5,
   "metadata": {},
   "outputs": [],
   "source": [
    "a1.append(5)"
   ]
  },
  {
   "cell_type": "code",
   "execution_count": 9,
   "metadata": {},
   "outputs": [
    {
     "data": {
      "text/plain": [
       "15"
      ]
     },
     "execution_count": 9,
     "metadata": {},
     "output_type": "execute_result"
    }
   ],
   "source": [
    "a1.capacity"
   ]
  },
  {
   "cell_type": "code",
   "execution_count": null,
   "metadata": {
    "collapsed": true
   },
   "outputs": [],
   "source": []
  },
  {
   "cell_type": "code",
   "execution_count": 10,
   "metadata": {},
   "outputs": [
    {
     "name": "stdout",
     "output_type": "stream",
     "text": [
      "0\n",
      "1\n",
      "42\n",
      "43\n",
      "100\n"
     ]
    }
   ],
   "source": [
    "a1 = DArray(10) # передаем начальную вместимость массива\n",
    "\n",
    "print(len(a1)) # возвращает 0\n",
    "\n",
    "a1.append(42) \n",
    "\n",
    "print(len(a1)) # возвращает 1\n",
    "\n",
    "print(a1[0]) # возвращает 42\n",
    "\n",
    "a1[0] = 43\n",
    "\n",
    "print(a1[0]) # возвращает 43\n",
    "\n",
    "a1.append(100) \n",
    "\n",
    "print(a1[1]) # возвращает 100"
   ]
  },
  {
   "cell_type": "code",
   "execution_count": 13,
   "metadata": {},
   "outputs": [
    {
     "name": "stdout",
     "output_type": "stream",
     "text": [
      "DynamicArray(43 100 )\n"
     ]
    }
   ],
   "source": [
    "print(a1)"
   ]
  },
  {
   "cell_type": "raw",
   "metadata": {},
   "source": [
    "Пример использования:\n",
    "\n",
    "a1 = DArray(10) # передаем начальную вместимость массива\n",
    "\n",
    "print(len(a1)) # возвращает 0\n",
    "\n",
    "а1.append(42) \n",
    "\n",
    "print(len(a1)) # возвращает 1\n",
    "\n",
    "print(a1[0]) # возвращает 42\n",
    "\n",
    "a1[0] = 43\n",
    "\n",
    "print(a1[0]) # возвращает 43\n",
    "\n",
    "а1.append(100) \n",
    "\n",
    "print(a1[1]) # возвращает 100"
   ]
  },
  {
   "cell_type": "markdown",
   "metadata": {},
   "source": [
    "7) Реализовать генератор, который возвращает значение поочередно извлекаемое из конца двух очередей (в качестве очереди используется deque из collections). Если очередь из которой извлекается элемент пуста - генератор заканчивает работу."
   ]
  },
  {
   "cell_type": "code",
   "execution_count": 19,
   "metadata": {},
   "outputs": [],
   "source": [
    "from collections import deque"
   ]
  },
  {
   "cell_type": "code",
   "execution_count": 60,
   "metadata": {},
   "outputs": [],
   "source": [
    "def GenFromQ(t1, t2):\n",
    "    for i, x in zip(t1, t2):\n",
    "        yield i\n",
    "        yield x"
   ]
  },
  {
   "cell_type": "code",
   "execution_count": 61,
   "metadata": {},
   "outputs": [
    {
     "name": "stdout",
     "output_type": "stream",
     "text": [
      "['a', 'd', 'b', 'e', 'c', 'f', 'd', 'd']\n"
     ]
    }
   ],
   "source": [
    "q1 = deque('abcdd') \n",
    "\n",
    "q2 = deque('defd') \n",
    "\n",
    "gfq = GenFromQ(q1, q2)\n",
    "\n",
    "print(list(gfq)) #- > 'adbecf'"
   ]
  },
  {
   "cell_type": "markdown",
   "metadata": {},
   "source": [
    "8) Реализовать классы с медодом action():\n",
    "\n",
    "а) Класс Pump - в методе action() извлекает очередное значение из генератора и помещает значение в очередь (очередь передается в конструктор).\n",
    "\n",
    "b) Класс MultiAction - при вызове метода action() n раз вызвает метод action() класса, переданного в конструкторе. Число n также определяется в конструкторе.\n",
    "\n",
    "c) Класс MultiPump - в методе action() извлекает очередное значение из генератора и помещает значение в одну из очередей (очереди передается в конструкторе); очереди , в которые помещаются очередные значения, меняются по порядку."
   ]
  },
  {
   "cell_type": "code",
   "execution_count": 34,
   "metadata": {},
   "outputs": [],
   "source": [
    "def gen():\n",
    "    for k in \"alphabetagamma\":\n",
    "        yield k"
   ]
  },
  {
   "cell_type": "code",
   "execution_count": 93,
   "metadata": {},
   "outputs": [],
   "source": [
    "class Pump(object):\n",
    "    \n",
    "    \n",
    "    def __init__(self, deq = deque()):\n",
    "        self.__deq = deq\n",
    "        \n",
    "    def action(self):\n",
    "        self.__deq += list(gen())\n",
    "        \n",
    "    @property\n",
    "    def deque(self):\n",
    "        return self.__deq\n",
    "        \n",
    "class MultiAction(object):\n",
    "    \"\"\"\n",
    "    Почему то у меня выводится два раза alpha..., а у Вас пустая очередь, хотя, мне кажется, что мой вывод правильный\n",
    "    , так как он два раза вызывает метод action класса Pump\n",
    "    \"\"\"\n",
    "    def __init__(self, class_name, n):\n",
    "        self.__class_name = class_name\n",
    "        self.__n = n\n",
    "    \n",
    "    @property\n",
    "    def action(self):\n",
    "        for i in range(self.__n - 1):\n",
    "            self.__class_name.action()\n",
    "\n",
    "class MultiPump(object):\n",
    "    \"\"\"\n",
    "    Я не понял:(\n",
    "    \"\"\"\n",
    "    pass"
   ]
  },
  {
   "cell_type": "code",
   "execution_count": 94,
   "metadata": {},
   "outputs": [
    {
     "data": {
      "text/plain": [
       "deque(['a', 'l', 'p', 'h', 'a', 'b', 'e', 't', 'a', 'g', 'a', 'm', 'm', 'a'])"
      ]
     },
     "execution_count": 94,
     "metadata": {},
     "output_type": "execute_result"
    }
   ],
   "source": [
    "k = Pump()\n",
    "k.action()\n",
    "k.deque"
   ]
  },
  {
   "cell_type": "code",
   "execution_count": null,
   "metadata": {},
   "outputs": [],
   "source": []
  },
  {
   "cell_type": "code",
   "execution_count": 95,
   "metadata": {},
   "outputs": [
    {
     "data": {
      "text/plain": [
       "deque(['a',\n",
       "       'l',\n",
       "       'p',\n",
       "       'h',\n",
       "       'a',\n",
       "       'b',\n",
       "       'e',\n",
       "       't',\n",
       "       'a',\n",
       "       'g',\n",
       "       'a',\n",
       "       'm',\n",
       "       'm',\n",
       "       'a',\n",
       "       'a',\n",
       "       'l',\n",
       "       'p',\n",
       "       'h',\n",
       "       'a',\n",
       "       'b',\n",
       "       'e',\n",
       "       't',\n",
       "       'a',\n",
       "       'g',\n",
       "       'a',\n",
       "       'm',\n",
       "       'm',\n",
       "       'a'])"
      ]
     },
     "execution_count": 95,
     "metadata": {},
     "output_type": "execute_result"
    }
   ],
   "source": [
    "k = Pump()\n",
    "ma = MultiAction(k, 2)\n",
    "ma.action\n",
    "k.deque"
   ]
  },
  {
   "cell_type": "markdown",
   "metadata": {},
   "source": [
    "9) При помощи GenFromQ, Pump реализовать систему опработки сообщений.\n",
    "Сообщения создаются генератором сообщений возвращающим случайным образорм одно из сообщений. Сообщения из трех генераторов закачиваются в три очереди при помощи классов Pump, далее при помощи GenFromQ и Pump объединяются в одну очередь и выводятся на экран (можно реализовать при помощи класса с action и вызываемого при помощи MultiPump)."
   ]
  },
  {
   "cell_type": "code",
   "execution_count": null,
   "metadata": {},
   "outputs": [],
   "source": []
  }
 ],
 "metadata": {
  "anaconda-cloud": {},
  "kernelspec": {
   "display_name": "Python 3",
   "language": "python",
   "name": "python3"
  },
  "language_info": {
   "codemirror_mode": {
    "name": "ipython",
    "version": 3
   },
   "file_extension": ".py",
   "mimetype": "text/x-python",
   "name": "python",
   "nbconvert_exporter": "python",
   "pygments_lexer": "ipython3",
   "version": "3.8.3"
  }
 },
 "nbformat": 4,
 "nbformat_minor": 1
}
