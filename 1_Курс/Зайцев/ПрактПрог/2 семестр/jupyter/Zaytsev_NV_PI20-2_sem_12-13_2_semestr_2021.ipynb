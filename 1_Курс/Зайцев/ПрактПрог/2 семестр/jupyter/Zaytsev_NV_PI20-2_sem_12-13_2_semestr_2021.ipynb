{
 "cells": [
  {
   "cell_type": "markdown",
   "metadata": {},
   "source": [
    "1) При помощи стека (можно использовать любую реализацию стека, например, из лекции) проверить, что в строке, содержащей большой фрагмент кода на python, корректно открываются и закрываются скобки '(' и ')'. Заводить какие-либо счетчики и вообще вести подсчет скобок запрещено.\n",
    "\n",
    "Например, в следующей строке корректное количество скобок:\n",
    "\n",
    "'((dsasdas((das(d)das)d)asd)da)'\n",
    "\n",
    "А вот в следующей закрывающих больше, чем открывающих:\n",
    "\n",
    "'(f(gfhd((hgfdg((fghh)dads)das))ds)adddads())))'"
   ]
  },
  {
   "cell_type": "code",
   "execution_count": 1,
   "metadata": {},
   "outputs": [],
   "source": [
    "class Stack(object):\n",
    "    def __init__(self,stack):\n",
    "        self.stack=stack\n",
    "    def push(self, a):\n",
    "        self.stack=self.stack+a\n",
    "    def pop(self):\n",
    "        returned=self.stack[-1]\n",
    "        self.stack=self.stack[:-1]\n",
    "        return returned"
   ]
  },
  {
   "cell_type": "code",
   "execution_count": 2,
   "metadata": {},
   "outputs": [],
   "source": [
    "def finder(stack):\n",
    "    b=')'\n",
    "    _b='('\n",
    "    try:\n",
    "        while True:\n",
    "            a=stack.pop()\n",
    "            if a==b:\n",
    "                b=_b\n",
    "                _b=a\n",
    "                stack.stack=stack.stack[::-1]\n",
    "            elif a==_b:\n",
    "                return 0\n",
    "    except:\n",
    "        if _b=='(':\n",
    "            return 1\n",
    "        else:\n",
    "            return 0"
   ]
  },
  {
   "cell_type": "code",
   "execution_count": 3,
   "metadata": {},
   "outputs": [
    {
     "name": "stdout",
     "output_type": "stream",
     "text": [
      "1\n",
      "0\n"
     ]
    }
   ],
   "source": [
    "st11=Stack('(dsasdas((das(d)das)d)asd)da')\n",
    "print(finder(st11))\n",
    "st11=Stack('(f(gfhd((hgfdg((fghh)dads)das))ds)adddads())))')\n",
    "print(finder(st11))"
   ]
  },
  {
   "cell_type": "code",
   "execution_count": 4,
   "metadata": {},
   "outputs": [
    {
     "name": "stdout",
     "output_type": "stream",
     "text": [
      "0\n",
      "0\n",
      "0\n",
      "0\n",
      "0\n",
      "0\n"
     ]
    }
   ],
   "source": [
    "st = Stack(list('(((dsasdas((das(d)das)d)a))sd)da)'))\n",
    "st2 = Stack(list('(f(gfhd((hgfdg((fghh)dads)das))ds)adddads())))'))\n",
    "print(finder(Stack('(()')))\n",
    "print(finder(Stack('())')))\n",
    "print(finder(Stack('(()))')))\n",
    "print(finder(Stack('(((0)')))\n",
    "print(finder(st))\n",
    "print(finder(st2))"
   ]
  },
  {
   "cell_type": "markdown",
   "metadata": {},
   "source": [
    "2) С помощью списка (list) реализовать стек. При создании стека нужно передать максимальную длину стека. В случае попытки добавления элемента, приводящего к превышению емкости стека возвращать ошибку.\n",
    "\n",
    "Стек должен поддерживать следующие операции:\n",
    "\n",
    "S.push(e): добавление элемента e на вершину стека S.\n",
    "\n",
    "S.pop(): удаляет и возвращает верхний элемент стека S. Если стек пуст, то возникает ошибка.\n",
    "\n",
    "S.top(): возвращает верхний элемент стека S, не удаляя его. Если стек пуст, то возникает ошибка.\n",
    "\n",
    "S.is_empty( ): возвращает True если стек S не содержит ни одного элемента.\n",
    "\n",
    "len(S): возвращает текущеее количество элементов в стеке S."
   ]
  },
  {
   "cell_type": "code",
   "execution_count": 5,
   "metadata": {},
   "outputs": [],
   "source": [
    "class Stack(object):\n",
    "    def __init__ (self, maxx):\n",
    "        self.maxx=maxx\n",
    "        self.st=[]\n",
    "    def push(self,e):\n",
    "        if len(self.st)==self.maxx:\n",
    "            print(\"Стек переполнен\")\n",
    "        else:\n",
    "            self.st.append(e)\n",
    "    def pop(self):\n",
    "        return self.st.pop()\n",
    "    def top(self):\n",
    "        return self.st[-1]\n",
    "    def is_empty(self):\n",
    "        return not self.st\n",
    "    def __len__(self):\n",
    "        return len(self.st)\n"
   ]
  },
  {
   "cell_type": "code",
   "execution_count": 6,
   "metadata": {},
   "outputs": [
    {
     "name": "stdout",
     "output_type": "stream",
     "text": [
      "2\n",
      "100\n",
      "42\n",
      "False\n",
      "42\n",
      "True\n"
     ]
    }
   ],
   "source": [
    "s1 = Stack(100)\n",
    "\n",
    "s1.push(42)\n",
    "\n",
    "s1.push(100)\n",
    "\n",
    "print(len(s1)) # вернет 2\n",
    "\n",
    "print(s1.pop()) # вернет 100\n",
    "\n",
    "print(s1.top()) # вернет 42\n",
    "\n",
    "print(s1.is_empty()) # вернет False\n",
    "\n",
    "print(s1.pop())# вернет 42\n",
    "\n",
    "print(s1.is_empty()) # вернет True"
   ]
  },
  {
   "cell_type": "code",
   "execution_count": 7,
   "metadata": {},
   "outputs": [
    {
     "name": "stdout",
     "output_type": "stream",
     "text": [
      "0\n",
      "1\n",
      "2\n",
      "Стек переполнен\n",
      "3\n",
      "Стек переполнен\n",
      "4\n"
     ]
    }
   ],
   "source": [
    "s2 = Stack(3)\n",
    "for _ in range(5):\n",
    "    s2.push(1)\n",
    "    print(_)"
   ]
  },
  {
   "cell_type": "code",
   "execution_count": null,
   "metadata": {},
   "outputs": [],
   "source": []
  },
  {
   "cell_type": "markdown",
   "metadata": {},
   "source": [
    "3) Реализовать класс однонаправленного связанного списка."
   ]
  },
  {
   "cell_type": "markdown",
   "metadata": {},
   "source": [
    "3.1) Реализовать метод добавления элемента в начало списка."
   ]
  },
  {
   "cell_type": "code",
   "execution_count": null,
   "metadata": {},
   "outputs": [],
   "source": []
  },
  {
   "cell_type": "code",
   "execution_count": 8,
   "metadata": {},
   "outputs": [],
   "source": [
    "class SLLItem(object):\n",
    "    def __init__(self,obj,next_SLLItem):\n",
    "            self.obj=obj\n",
    "            self.next_item=next_SLLItem\n",
    "            \n",
    "class SingleLinkedList(object):    \n",
    "    def __init__(self): \n",
    "        self.head = None\n",
    "        self.tail = None\n",
    "\n",
    "    def append(self, obj):\n",
    "        new_SLLItem=SLLItem(obj,None)\n",
    "        if self.tail:\n",
    "            self.tail.next_item=new_SLLItem\n",
    "        self.tail=new_SLLItem\n",
    "        if not self.head:\n",
    "            self.head=new_SLLItem\n",
    "        \n",
    "            \n",
    "    def remove(self, node_value):\n",
    "        \"\"\"Удаляет элемент по его индексу, индексация с 1 начинается\"\"\"\n",
    "        if node_value==1:\n",
    "            self.head=self.head.next_item\n",
    "            if not self.head:\n",
    "                self.tail=None\n",
    "            return\n",
    "        item_id=1\n",
    "        node=self.head\n",
    "        while node:\n",
    "            if item_id+1==node_value:\n",
    "                node.next_item=node.next_item.next_item\n",
    "                break\n",
    "            node=node.next_item\n",
    "            item_id+=1\n",
    "        if not node.next_item:\n",
    "            self.tail=node\n",
    "                \n",
    "    def appendleft(self, obj):\n",
    "        new=SLLItem(obj,self.head)\n",
    "        self.head=new\n",
    "        if not self.tail:\n",
    "            self.tail=new\n",
    "            \n",
    "    def __str__(self):\n",
    "        x=''\n",
    "        node=self.head\n",
    "        while node:\n",
    "            x+=(str(node.obj)+'\\n')\n",
    "            node=node.next_item\n",
    "        return x\n",
    "        \n",
    "    def is_empty(self):\n",
    "        return not self.head\n",
    "        \n",
    "        "
   ]
  },
  {
   "cell_type": "code",
   "execution_count": 9,
   "metadata": {},
   "outputs": [
    {
     "data": {
      "text/plain": [
       "True"
      ]
     },
     "execution_count": 9,
     "metadata": {},
     "output_type": "execute_result"
    }
   ],
   "source": [
    "SLL=SingleLinkedList()\n",
    "SLL.is_empty()"
   ]
  },
  {
   "cell_type": "code",
   "execution_count": 10,
   "metadata": {},
   "outputs": [],
   "source": [
    "SLL.append([1,213,4])\n",
    "SLL.append('dafsga')\n",
    "SLL.append(1256342)\n",
    "SLL.appendleft((1,2,34,5))"
   ]
  },
  {
   "cell_type": "code",
   "execution_count": 11,
   "metadata": {},
   "outputs": [],
   "source": [
    "SLL.remove(3)"
   ]
  },
  {
   "cell_type": "code",
   "execution_count": 12,
   "metadata": {},
   "outputs": [
    {
     "name": "stdout",
     "output_type": "stream",
     "text": [
      "(1, 2, 34, 5)\n",
      "[1, 213, 4]\n",
      "1256342\n",
      "\n",
      "False\n"
     ]
    }
   ],
   "source": [
    "print(SLL)\n",
    "print(SLL.is_empty())"
   ]
  },
  {
   "cell_type": "code",
   "execution_count": 13,
   "metadata": {},
   "outputs": [
    {
     "name": "stdout",
     "output_type": "stream",
     "text": [
      "[1, 213, 4]\n",
      "1256342\n",
      "\n"
     ]
    }
   ],
   "source": [
    "SLL.remove(1)\n",
    "print(SLL)"
   ]
  },
  {
   "cell_type": "code",
   "execution_count": 14,
   "metadata": {},
   "outputs": [
    {
     "name": "stdout",
     "output_type": "stream",
     "text": [
      "[1, 213, 4]\n",
      "\n"
     ]
    }
   ],
   "source": [
    "SLL.remove(2)\n",
    "print(SLL)"
   ]
  },
  {
   "cell_type": "code",
   "execution_count": 15,
   "metadata": {},
   "outputs": [
    {
     "name": "stdout",
     "output_type": "stream",
     "text": [
      "7\n",
      "6\n",
      "5\n",
      "8\n",
      "\n"
     ]
    }
   ],
   "source": [
    "sll = SingleLinkedList()\n",
    "sll.appendleft(5)\n",
    "sll.appendleft(6)\n",
    "sll.appendleft(7)\n",
    "sll.append(8)\n",
    "print(sll)"
   ]
  },
  {
   "cell_type": "code",
   "execution_count": 16,
   "metadata": {},
   "outputs": [
    {
     "name": "stdout",
     "output_type": "stream",
     "text": [
      "123\n",
      "6\n",
      "5\n",
      "8\n",
      "\n"
     ]
    }
   ],
   "source": [
    "sll.remove(1)\n",
    "sll.appendleft(123)\n",
    "print(sll)"
   ]
  },
  {
   "cell_type": "code",
   "execution_count": 17,
   "metadata": {},
   "outputs": [
    {
     "name": "stdout",
     "output_type": "stream",
     "text": [
      "123\n",
      "6\n",
      "5\n",
      "1234\n",
      "\n"
     ]
    }
   ],
   "source": [
    "sll.remove(4)\n",
    "sll.append(1234)\n",
    "print(sll)"
   ]
  },
  {
   "cell_type": "markdown",
   "metadata": {},
   "source": [
    "4) На базе класса однонаправленного связанного списка реализовать двунаправленный связанный список."
   ]
  },
  {
   "cell_type": "code",
   "execution_count": null,
   "metadata": {},
   "outputs": [],
   "source": []
  },
  {
   "cell_type": "markdown",
   "metadata": {},
   "source": [
    "4.1) Реализовать метод добавления элемента в начало списка."
   ]
  },
  {
   "cell_type": "code",
   "execution_count": 18,
   "metadata": {},
   "outputs": [],
   "source": [
    "class SLLItem(object):\n",
    "    def __init__(self,obj,next_SLLItem,previous_SLLItem):\n",
    "            self.obj=obj\n",
    "            self.next_item=next_SLLItem\n",
    "            self.previous_item=previous_SLLItem\n",
    "\n",
    "class DoubleLinkedList(object):\n",
    "    \n",
    "    def __init__(self):\n",
    "        self.head = None\n",
    "        self.tail = None\n",
    "        \n",
    "    def append(self, obj):\n",
    "        new_SLLItem=SLLItem(obj,None,self.tail)\n",
    "        if self.tail:\n",
    "            self.tail.next_item=new_SLLItem\n",
    "        self.tail=new_SLLItem\n",
    "        if not self.head:\n",
    "            self.head=new_SLLItem\n",
    "            \n",
    "    def is_empty(self):\n",
    "        return not(bool(self.head) and bool(self.tail))\n",
    "    \n",
    "    def __str__(self):\n",
    "        x=''\n",
    "        node=self.head\n",
    "        while node:\n",
    "            x+=(str(node.obj)+'\\n')\n",
    "            node=node.next_item\n",
    "        return x\n",
    "    \n",
    "    def showreverse(self):\n",
    "        node=self.tail\n",
    "        while node:\n",
    "            print(node.obj)\n",
    "            node=node.previous_item\n",
    "     \n",
    "    def remove(self, node_value):\n",
    "        \"\"\"Удаляет элемент по его индексу, индексация с 1 начинается\"\"\"\n",
    "        if node_value==1:\n",
    "            self.head=self.head.next_item\n",
    "            if self.head:\n",
    "                self.head.previous_item=None\n",
    "            if not self.head:\n",
    "                self.tail=None\n",
    "            return\n",
    "        item_id=1\n",
    "        node=self.head\n",
    "        while node:\n",
    "            if item_id+1==node_value:\n",
    "                node.next_item=node.next_item.next_item\n",
    "                if node.next_item:\n",
    "                    node.next_item.previous_item=node \n",
    "                break\n",
    "            node=node.next_item\n",
    "            item_id+=1\n",
    "        if not node.next_item:\n",
    "            self.tail=node\n",
    "    \n",
    "                                       \n",
    "    def appendleft(self, obj):\n",
    "        new=SLLItem(obj,self.head,None)\n",
    "        if self.head:\n",
    "            self.head.previous_item=new\n",
    "        self.head=new\n",
    "        if not self.tail:\n",
    "            self.tail=new\n",
    "      "
   ]
  },
  {
   "cell_type": "code",
   "execution_count": 19,
   "metadata": {},
   "outputs": [
    {
     "name": "stdout",
     "output_type": "stream",
     "text": [
      "True\n"
     ]
    }
   ],
   "source": [
    "dll = DoubleLinkedList()\n",
    "print(dll.is_empty())"
   ]
  },
  {
   "cell_type": "code",
   "execution_count": 20,
   "metadata": {},
   "outputs": [],
   "source": [
    "dll.append(2)\n",
    "dll.append(3)\n",
    "dll.append(4)"
   ]
  },
  {
   "cell_type": "code",
   "execution_count": 21,
   "metadata": {},
   "outputs": [
    {
     "name": "stdout",
     "output_type": "stream",
     "text": [
      "2\n",
      "3\n",
      "4\n",
      "\n",
      "False\n"
     ]
    }
   ],
   "source": [
    "print(dll)\n",
    "print(dll.is_empty())"
   ]
  },
  {
   "cell_type": "code",
   "execution_count": 22,
   "metadata": {},
   "outputs": [
    {
     "name": "stdout",
     "output_type": "stream",
     "text": [
      "4\n",
      "3\n",
      "2\n"
     ]
    }
   ],
   "source": [
    "dll.showreverse()"
   ]
  },
  {
   "cell_type": "code",
   "execution_count": 23,
   "metadata": {},
   "outputs": [
    {
     "name": "stdout",
     "output_type": "stream",
     "text": [
      "123\n",
      "2\n",
      "3\n",
      "4\n",
      "\n"
     ]
    }
   ],
   "source": [
    "dll.appendleft(123)\n",
    "print(dll)"
   ]
  },
  {
   "cell_type": "code",
   "execution_count": 24,
   "metadata": {},
   "outputs": [
    {
     "name": "stdout",
     "output_type": "stream",
     "text": [
      "19\n",
      "6\n",
      "5\n",
      "8\n",
      "34\n",
      "\n"
     ]
    }
   ],
   "source": [
    "dll = DoubleLinkedList()\n",
    "dll.appendleft(5)\n",
    "dll.appendleft(6)\n",
    "dll.append(8)\n",
    "dll.appendleft(19)\n",
    "dll.append(34)\n",
    "print(dll)"
   ]
  },
  {
   "cell_type": "code",
   "execution_count": 25,
   "metadata": {},
   "outputs": [
    {
     "name": "stdout",
     "output_type": "stream",
     "text": [
      "6\n",
      "5\n",
      "8\n",
      "34\n",
      "\n"
     ]
    }
   ],
   "source": [
    "dll.remove(1)\n",
    "print(dll)"
   ]
  },
  {
   "cell_type": "code",
   "execution_count": 26,
   "metadata": {},
   "outputs": [],
   "source": [
    "dll.remove(4)"
   ]
  },
  {
   "cell_type": "code",
   "execution_count": 27,
   "metadata": {},
   "outputs": [],
   "source": [
    "ll = DoubleLinkedList()\n",
    "ll.appendleft(42)\n",
    "ll.remove(1)\n",
    "assert ll.head is None\n",
    "ll.appendleft(43)\n",
    "ll.append(44)\n",
    "ll.append(44)\n",
    "ll.append(45)\n",
    "ll.appendleft(42)\n",
    "ll.remove(4)\n",
    "ll.remove(1)\n",
    "ll.appendleft(41)\n",
    "assert ll.head.obj == 41"
   ]
  },
  {
   "cell_type": "markdown",
   "metadata": {},
   "source": [
    "5) При помощи класса связанного списка реализовать очередь."
   ]
  },
  {
   "cell_type": "code",
   "execution_count": null,
   "metadata": {},
   "outputs": [],
   "source": []
  },
  {
   "cell_type": "code",
   "execution_count": 28,
   "metadata": {},
   "outputs": [],
   "source": [
    "class SLLItem(object):\n",
    "    def __init__(self,obj,next_SLLItem):\n",
    "            self.obj=obj\n",
    "            self.next_item=next_SLLItem\n",
    "\n",
    "class Queue(object):\n",
    "    def __init__(self):\n",
    "        self.head = None\n",
    "        self.tail = None\n",
    "        \n",
    "    def append(self, obj):\n",
    "        new_SLLItem=SLLItem(obj,None)\n",
    "        if self.tail:\n",
    "            self.tail.next_item=new_SLLItem\n",
    "        self.tail=new_SLLItem\n",
    "        if not self.head:\n",
    "            self.head=new_SLLItem\n",
    "            \n",
    "\n",
    "    def __str__(self):\n",
    "        x=''\n",
    "        node=self.head\n",
    "        while node:\n",
    "            x+=(str(node.obj)+'\\n')\n",
    "            node=node.next_item\n",
    "        return x\n",
    "            \n",
    "    def popleft(self):\n",
    "        poped=self.head\n",
    "        self.head=self.head.next_item\n",
    "        if not self.head:\n",
    "            self.tail=None\n",
    "        return poped.obj\n",
    "        \n",
    "    def is_empty(self):\n",
    "        return not (bool(self.head) and bool(self.tail))"
   ]
  },
  {
   "cell_type": "code",
   "execution_count": 29,
   "metadata": {},
   "outputs": [
    {
     "name": "stdout",
     "output_type": "stream",
     "text": [
      "1\n",
      "2\n",
      "3\n",
      "\n",
      "1\n",
      "2\n",
      "3\n"
     ]
    }
   ],
   "source": [
    "q=Queue()\n",
    "q.append(1)\n",
    "q.append(2)\n",
    "q.append(3)\n",
    "print(q)\n",
    "print(q.popleft())\n",
    "print(q.popleft())\n",
    "print(q.popleft())"
   ]
  }
 ],
 "metadata": {
  "anaconda-cloud": {},
  "kernelspec": {
   "display_name": "Python 3",
   "language": "python",
   "name": "python3"
  },
  "language_info": {
   "codemirror_mode": {
    "name": "ipython",
    "version": 3
   },
   "file_extension": ".py",
   "mimetype": "text/x-python",
   "name": "python",
   "nbconvert_exporter": "python",
   "pygments_lexer": "ipython3",
   "version": "3.8.5"
  }
 },
 "nbformat": 4,
 "nbformat_minor": 1
}
