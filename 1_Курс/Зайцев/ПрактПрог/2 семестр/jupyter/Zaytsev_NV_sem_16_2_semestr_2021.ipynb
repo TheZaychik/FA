{
 "cells": [
  {
   "cell_type": "markdown",
   "metadata": {},
   "source": [
    "## Семинар 16\n",
    "## Структуры данных: деревья"
   ]
  },
  {
   "cell_type": "markdown",
   "metadata": {},
   "source": [
    "20) Создать класс BinaryTreeLL реализующий API для хранения двоичных деревьев в виде списка списков.\n",
    "\n",
    "* BinaryTreeLL(tree) - создание нового экземпляра бинарного дерева. tree - или значение root_val или список содержащий бинарное дерево или BinaryTreeLL.\n",
    "* get_left_child() - возвращает бинарное дерево связанное с левым дочерним узлом рассматриваемого узла.\n",
    "* get_right_child() - возвращает бинарное дерево связанное с правым дочерним узлом рассматриваемого узла. \n",
    "* get_val() - возвращает объект, хранящийся в данном узле.\n",
    "* set_val(val) - сохраняет объект val в данный узел.\n",
    "* insert_left_child(ll_val) - вставляет новое бинарное дерево в левый дочерний узел. ll_val - это или представление бинарного дерева в виде списка списков или BinaryTreeLL.\n",
    "* insert_right_child(ll_val) - вставляет новое бинарное дерево в правый дочерний узел. ll_val - это или представление бинарного дерева в виде списка списков или BinaryTreeLL.\n",
    "\n",
    "* get_tree_list() - возвращает представление дерева в виде списка."
   ]
  },
  {
   "cell_type": "code",
   "execution_count": 1,
   "metadata": {},
   "outputs": [],
   "source": [
    "from itertools import count\n",
    "\n",
    "\n",
    "class BinaryTreeLL:\n",
    "    def __init__(self, root):\n",
    "        self.key = root\n",
    "        self.left_child = None\n",
    "        self.right_child = None\n",
    "\n",
    "    def insert_left(self, new_node):\n",
    "        if self.left_child == None:\n",
    "            self.left_child = BinaryTreeLL(new_node)\n",
    "        else:\n",
    "            t = BinaryTreeLL(new_node)\n",
    "            t.left_child = self.left_child\n",
    "            self.left_child = t\n",
    "\n",
    "    def insert_right(self, new_node):\n",
    "        if self.right_child == None:\n",
    "            self.right_child = BinaryTreeLL(new_node)\n",
    "        else:\n",
    "            t = BinaryTreeLL(new_node)\n",
    "            t.right_child = self.right_child\n",
    "            self.right_child = t\n",
    "\n",
    "    def get_right_child(self):\n",
    "        return self.right_child\n",
    "\n",
    "    def get_left_child(self):\n",
    "        return self.left_child\n",
    "\n",
    "    def set_root_val(self, obj):\n",
    "        self.key = obj\n",
    "\n",
    "    def get_root_val(self):\n",
    "        return self.key\n",
    "\n",
    "    def __str__(self):\n",
    "        return '{} ({}, {})'.format(self.get_root_val(), str(self.get_left_child()), str(self.get_right_child()))\n",
    "\n"
   ]
  },
  {
   "cell_type": "markdown",
   "metadata": {},
   "source": [
    "21) Создать класс BinaryNode реализующий API для хранения двоичных деревьев в виде объектов, ссылающихся на родителя и потомков. \n",
    "\n",
    "* BinaryNode(val) - создание нового экземпляра бинарного дерева. val - или значение root_val или бинарное дерево в виде BinaryNode.\n",
    "\n",
    "\n",
    "* get_val() - возвращает объект, хранящийся в данном узле.\n",
    "* set_val(val) - сохраняет объект val в данный узел.\n",
    "\n",
    "\n",
    "* get_left_child() - возвращает левый дочерний узел рассматриваемого узла.\n",
    "* get_right_child() - возвращает правый дочерний узел рассматриваемого узла.\n",
    "* set_left_child(node) - устанавливает новый левый дочерний узел. node - это или узел BinaryNode или None.\n",
    "* set_right_child(node) - устанавливает новый правый дочерний узел. node - это или узел BinaryNode или None.\n",
    "\n",
    "\n",
    "* get_parent() - возвращает родительский узел.\n",
    "* set_parent(node) - устанавливает новый родительский узел. node - это или узел BinaryNode или None."
   ]
  },
  {
   "cell_type": "code",
   "execution_count": 1,
   "metadata": {},
   "outputs": [],
   "source": [
    "class BinaryNode:\n",
    "    n = 1\n",
    "\n",
    "    def __init__(self, z=None):\n",
    "        self.z = z\n",
    "        self.parent = None\n",
    "        self.left_child = None\n",
    "        self.right_child = None\n",
    "        self.n = BinaryNode.n\n",
    "        BinaryNode.n += 1\n",
    "\n",
    "    def get_val(self):\n",
    "        return self.z\n",
    "\n",
    "    def set_val(self, z):\n",
    "        self.z = z\n",
    "\n",
    "    def get_z(self):\n",
    "        return self.z\n",
    "\n",
    "    def set_z(self, z):\n",
    "        self.z = z\n",
    "\n",
    "    def get_parent(self):\n",
    "        return self.parent\n",
    "\n",
    "    def set_parent(self, p):\n",
    "        self.parent = p\n",
    "\n",
    "    def get_left_child(self):\n",
    "        return self.left_child\n",
    "\n",
    "    def set_left_child(self, c):\n",
    "        self.left_child = c\n",
    "\n",
    "    def get_right_child(self):\n",
    "        return self.right_child\n",
    "\n",
    "    def set_right_child(self, c):\n",
    "        self.right_child = c\n",
    "\n",
    "    def insert_left(self, node):\n",
    "        node.set_parent(self)\n",
    "        if self.left_child is None:\n",
    "            self.left_child = node\n",
    "        else:\n",
    "            self.left_child.set_parent(node)\n",
    "            self.left_child = node\n",
    "\n",
    "    def insert_right(self, node):\n",
    "        node.set_parent(self)\n",
    "        if self.right_child is None:\n",
    "            self.right_child = node\n",
    "        else:\n",
    "            self.right_child.set_parent(node)\n",
    "            self.right_child = node\n",
    "\n",
    "    def insert_sw(self, node):\n",
    "        if self.left_child is None:\n",
    "            self.insert_left(node)\n",
    "        else:\n",
    "            self.insert_right(node)\n",
    "\n",
    "    def up(self, node):\n",
    "        if self.get_parent() is not None:\n",
    "            node.set_parent(self.get_parent())\n",
    "        node.insert_sw(self)\n",
    "        return node\n",
    "    def __str__(self):\n",
    "        return f\"[#{self.n}]{self.z} ({self.left_child}, {self.right_child})\"\n",
    "\n",
    "    def __repr__(self):\n",
    "        return str(self)\n",
    "\n",
    "    def get_root(self):\n",
    "        t = self\n",
    "        while t.get_parent() is not None:\n",
    "            t = t.get_parent()\n",
    "        return t\n",
    "    @classmethod\n",
    "    def reset(cls):\n",
    "        cls.n = 1"
   ]
  },
  {
   "cell_type": "code",
   "execution_count": 9,
   "metadata": {},
   "outputs": [
    {
     "data": {
      "text/plain": [
       "[#1]4 ([#2]6 (None, None), None)"
      ]
     },
     "execution_count": 9,
     "metadata": {},
     "output_type": "execute_result"
    }
   ],
   "source": [
    "bn = BinaryNode(4)\n",
    "bn1 = BinaryNode(6)\n",
    "bn.insert_left(bn1)\n",
    "bn\n",
    "bn1.get_parent()"
   ]
  },
  {
   "cell_type": "markdown",
   "metadata": {
    "collapsed": true
   },
   "source": [
    "22) Реализовать разбор арифметических выражений с операциями +,-,*,/ и произвольным количеством скобок в виде бинарного дерева.\n",
    "Алгоритм разбора математического выражения для получения его древовидного представления:\n",
    "1. Если текущий токен ‘(’, то добавляем новый узел в качестве левого дочернего узла текущего узла и спускаемся в новый узел.\n",
    "2. Если текущий токен содержится в списке [‘+’,‘−’,‘/’,‘*’], то устанавливаем значение в текущем узле, соответствующее оператору, представленному в токене.\n",
    "Добавляем новый узел в качестве правого дочернего узла текущего узла и спускаемся в него.\n",
    "3. Если текущий токен является числом, то устанавливаем значение в текущем узле соответствующее числу в токене и переходим к родительскому узлу.\n",
    "4. Если текущий токен ‘)’, то переходим к родителю текущего узла."
   ]
  },
  {
   "cell_type": "code",
   "execution_count": 2,
   "metadata": {
    "scrolled": true
   },
   "outputs": [],
   "source": [
    "def exp2tree(exression):\n",
    "    t = BinaryNode()\n",
    "    for s in exression:\n",
    "        if s == '(':\n",
    "            t.insert_left(BinaryNode())\n",
    "            t = t.get_left_child()\n",
    "        elif s in ['+','−','/','*']:\n",
    "            t.z = s\n",
    "            t.insert_right(BinaryNode())\n",
    "            t = t.get_right_child()\n",
    "        elif s in '1234567890':\n",
    "            t.z = s\n",
    "            t = t.get_parent()\n",
    "        else:\n",
    "            t = t.get_parent()\n",
    "        print(t)"
   ]
  },
  {
   "cell_type": "code",
   "execution_count": 3,
   "metadata": {},
   "outputs": [
    {
     "name": "stdout",
     "output_type": "stream",
     "text": [
      "[#2]None (None, None)\n",
      "[#1]None ([#2]3 (None, None), None)\n",
      "[#3]None (None, None)\n",
      "[#1]+ ([#2]3 (None, None), [#3]5 (None, None))\n",
      "None\n"
     ]
    },
    {
     "ename": "AttributeError",
     "evalue": "'NoneType' object has no attribute 'z'",
     "output_type": "error",
     "traceback": [
      "\u001B[0;31m---------------------------------------------------------------------------\u001B[0m",
      "\u001B[0;31mAttributeError\u001B[0m                            Traceback (most recent call last)",
      "\u001B[0;32m<ipython-input-3-6169d2356be3>\u001B[0m in \u001B[0;36m<module>\u001B[0;34m\u001B[0m\n\u001B[0;32m----> 1\u001B[0;31m \u001B[0mtree\u001B[0m \u001B[0;34m=\u001B[0m \u001B[0mexp2tree\u001B[0m\u001B[0;34m(\u001B[0m\u001B[0;34m'(3+5)*2+3'\u001B[0m\u001B[0;34m)\u001B[0m\u001B[0;34m\u001B[0m\u001B[0;34m\u001B[0m\u001B[0m\n\u001B[0m\u001B[1;32m      2\u001B[0m \u001B[0mprint\u001B[0m\u001B[0;34m(\u001B[0m\u001B[0mtree\u001B[0m\u001B[0;34m)\u001B[0m\u001B[0;34m\u001B[0m\u001B[0;34m\u001B[0m\u001B[0m\n\u001B[1;32m      3\u001B[0m \u001B[0mcount\u001B[0m\u001B[0;34m(\u001B[0m\u001B[0mtree\u001B[0m\u001B[0;34m)\u001B[0m\u001B[0;34m\u001B[0m\u001B[0;34m\u001B[0m\u001B[0m\n",
      "\u001B[0;32m<ipython-input-2-8cb8859b62c9>\u001B[0m in \u001B[0;36mexp2tree\u001B[0;34m(exression)\u001B[0m\n\u001B[1;32m      6\u001B[0m             \u001B[0mt\u001B[0m \u001B[0;34m=\u001B[0m \u001B[0mt\u001B[0m\u001B[0;34m.\u001B[0m\u001B[0mget_left_child\u001B[0m\u001B[0;34m(\u001B[0m\u001B[0;34m)\u001B[0m\u001B[0;34m\u001B[0m\u001B[0;34m\u001B[0m\u001B[0m\n\u001B[1;32m      7\u001B[0m         \u001B[0;32melif\u001B[0m \u001B[0ms\u001B[0m \u001B[0;32min\u001B[0m \u001B[0;34m[\u001B[0m\u001B[0;34m'+'\u001B[0m\u001B[0;34m,\u001B[0m\u001B[0;34m'−'\u001B[0m\u001B[0;34m,\u001B[0m\u001B[0;34m'/'\u001B[0m\u001B[0;34m,\u001B[0m\u001B[0;34m'*'\u001B[0m\u001B[0;34m]\u001B[0m\u001B[0;34m:\u001B[0m\u001B[0;34m\u001B[0m\u001B[0;34m\u001B[0m\u001B[0m\n\u001B[0;32m----> 8\u001B[0;31m             \u001B[0mt\u001B[0m\u001B[0;34m.\u001B[0m\u001B[0mz\u001B[0m \u001B[0;34m=\u001B[0m \u001B[0ms\u001B[0m\u001B[0;34m\u001B[0m\u001B[0;34m\u001B[0m\u001B[0m\n\u001B[0m\u001B[1;32m      9\u001B[0m             \u001B[0mt\u001B[0m\u001B[0;34m.\u001B[0m\u001B[0minsert_right\u001B[0m\u001B[0;34m(\u001B[0m\u001B[0mBinaryNode\u001B[0m\u001B[0;34m(\u001B[0m\u001B[0;34m)\u001B[0m\u001B[0;34m)\u001B[0m\u001B[0;34m\u001B[0m\u001B[0;34m\u001B[0m\u001B[0m\n\u001B[1;32m     10\u001B[0m             \u001B[0mt\u001B[0m \u001B[0;34m=\u001B[0m \u001B[0mt\u001B[0m\u001B[0;34m.\u001B[0m\u001B[0mget_right_child\u001B[0m\u001B[0;34m(\u001B[0m\u001B[0;34m)\u001B[0m\u001B[0;34m\u001B[0m\u001B[0;34m\u001B[0m\u001B[0m\n",
      "\u001B[0;31mAttributeError\u001B[0m: 'NoneType' object has no attribute 'z'"
     ]
    }
   ],
   "source": [
    "tree = exp2tree('(3+5)*2+3')\n",
    "print(tree)\n",
    "count(tree)"
   ]
  },
  {
   "cell_type": "code",
   "execution_count": null,
   "metadata": {},
   "outputs": [],
   "source": [
    "\n"
   ]
  },
  {
   "cell_type": "code",
   "execution_count": null,
   "metadata": {},
   "outputs": [],
   "source": [
    "tree = exp2tree('((8*2)+3)')\n",
    "performing(tree)"
   ]
  },
  {
   "cell_type": "markdown",
   "metadata": {},
   "source": [
    "23) Реализовать рассчет арифметического выражения, представленного в виде бинарного дерева из 22)."
   ]
  },
  {
   "cell_type": "code",
   "execution_count": null,
   "metadata": {},
   "outputs": [],
   "source": []
  },
  {
   "cell_type": "markdown",
   "metadata": {},
   "source": [
    "24) Реализовать прямой, обратный и симметричный порядок обхода дерева."
   ]
  },
  {
   "cell_type": "code",
   "execution_count": null,
   "metadata": {
    "pycharm": {
     "name": "#%%\n"
    }
   },
   "outputs": [],
   "source": [
    "class TreeBypass:\n",
    "    @staticmethod\n",
    "    def preorder(tree):\n",
    "        if tree:\n",
    "            print(tree.get_root_val())\n",
    "            TreeBypass.preorder(tree.get_left_child())\n",
    "            TreeBypass.preorder(tree.get_right_child())\n",
    "\n",
    "    @staticmethod\n",
    "    def inorder(tree):\n",
    "        if tree != None:\n",
    "            TreeBypass.inorder(tree.get_left_child())\n",
    "            print(tree.get_root_val())\n",
    "            TreeBypass.inorder(tree.get_right_child())\n",
    "\n",
    "    @staticmethod\n",
    "    def postorder(tree):\n",
    "        if tree != None:\n",
    "            TreeBypass.postorder(tree.get_left_child())\n",
    "            TreeBypass.postorder(tree.get_right_child())\n",
    "            print(tree.get_root_val())\n",
    "\n",
    "\n"
   ]
  },
  {
   "cell_type": "markdown",
   "metadata": {},
   "source": [
    "25) Реализовать двоичное дерево поиска с поддержкой операций: вставки (insert), проверки вхождения (оператор in) и удаления значений (оператор del)."
   ]
  },
  {
   "cell_type": "code",
   "execution_count": null,
   "metadata": {
    "pycharm": {
     "name": "#%%\n"
    }
   },
   "outputs": [],
   "source": [
    "class Node:\n",
    "    rChild,lChild,data = None,None,None\n",
    "\n",
    "    def __init__(self,key):\n",
    "        self.rChild = None\n",
    "        self.lChild = None\n",
    "        self.data = key\n",
    "\n",
    "class Tree:\n",
    "    root,size = None,0\n",
    "    def __init__(self):\n",
    "        self.root = None\n",
    "        self.size = 0\n",
    "\n",
    "    def insert(self,node,someNumber):\n",
    "        if node is None:\n",
    "            node = Node(someNumber)\n",
    "        else:\n",
    "            if node.data > someNumber:\n",
    "                self.insert(node.rchild,someNumber)\n",
    "            else:\n",
    "                self.insert(node.rchild, someNumber)\n",
    "        return\n"
   ]
  },
  {
   "cell_type": "markdown",
   "metadata": {},
   "source": [
    "26) Реализовать функцию построения двоичной кучи из неотсортированного списка."
   ]
  },
  {
   "cell_type": "code",
   "execution_count": 4,
   "metadata": {
    "pycharm": {
     "name": "#%%\n"
    }
   },
   "outputs": [
    {
     "name": "stdout",
     "output_type": "stream",
     "text": [
      "7\n",
      "6\n",
      "5\n",
      "4\n",
      "3\n",
      "2\n",
      "1\n",
      "0\n",
      "[23, 5, 12, 2, 4, 9, 0, 0, 2, 1, 0, 0, 0, -1, 0]\n"
     ]
    }
   ],
   "source": [
    "class BinHeap:\n",
    "    def __init__(self):\n",
    "        self.heaplist = []\n",
    "        self.heapsize = 0\n",
    "    def left(self, i):\n",
    "        return i * 2 + 1\n",
    "    def right(self, i):\n",
    "        return i * 2 + 2\n",
    "    def heapify(self, i):\n",
    "        l = self.left(i)\n",
    "        r = self.right(i)\n",
    "        # Знаки\n",
    "        if l <= self.heapsize and self.heaplist[l] > self.heaplist[i]:\n",
    "            largest = l\n",
    "        else:\n",
    "            largest = i\n",
    "        # Знаки и последний индекс\n",
    "        if r <= self.heapsize and self.heaplist[r] > self.heaplist[largest]:\n",
    "            largest = r\n",
    "        if largest != i:\n",
    "            # Обмен значениями явный\n",
    "            tmp = self.heaplist[i]\n",
    "            self.heaplist[i] = self.heaplist[largest]\n",
    "            self.heaplist[largest] = tmp\n",
    "            self.heapify(largest)\n",
    "    def buildHeap(self, list):\n",
    "        self.heaplist = list\n",
    "        # Из-за того, что у вас в процедуре используется <=, heapsize должен быть строго меньше, чтобы избежать выхода за пределы\n",
    "        self.heapsize = len(list) - 1\n",
    "        # Индексы также c середины и до нуля включительно\n",
    "        for i in range(len(list) // 2, -1, -1):\n",
    "            print(i)\n",
    "            self.heapify(i)\n",
    "    def heapSort(self):\n",
    "        pass\n",
    "    def extractMax(self):\n",
    "        pass\n",
    "    def getHeap(self):\n",
    "        return self.heaplist\n",
    "heap = BinHeap()\n",
    "heap.buildHeap([0, 0, 9, 5, 23, 0, 0, 2, 2, 1, 4, 0, 12, -1, 0])\n",
    "print(heap.getHeap())\n"
   ]
  },
  {
   "cell_type": "code",
   "execution_count": null,
   "metadata": {},
   "outputs": [],
   "source": []
  }
 ],
 "metadata": {
  "anaconda-cloud": {},
  "kernelspec": {
   "display_name": "Python 3",
   "language": "python",
   "name": "python3"
  },
  "language_info": {
   "codemirror_mode": {
    "name": "ipython",
    "version": 3
   },
   "file_extension": ".py",
   "mimetype": "text/x-python",
   "name": "python",
   "nbconvert_exporter": "python",
   "pygments_lexer": "ipython3",
   "version": "3.9.1"
  }
 },
 "nbformat": 4,
 "nbformat_minor": 1
}