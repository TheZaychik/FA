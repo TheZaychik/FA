{
 "cells": [
  {
   "cell_type": "markdown",
   "metadata": {},
   "source": [
    "### Контрольная работа № 1.\n",
    "### Вариант 2.\n",
    "#### Студент Зайцев Никита группа ПИ20-2"
   ]
  },
  {
   "cell_type": "markdown",
   "metadata": {},
   "source": [
    "1. Напишите программу, которая выполняет добавление, удаление и вывод на экран элементов списка при помощи классов. \n",
    "\n",
    "Решение задачи\n",
    "\n",
    "1.\tСоздаем класс и с помощью конструктора инициализируем значения этого класса.\n",
    "2.\tСоздаем в данном классе методы для добавления, удаления и вывода на экран соответствующих значений.\n",
    "3.\tСоздаем объект данного класса.\n",
    "4.\tИспользуя созданный объект, вызываем соответствующий метод (в зависимости от выбора пользователя).\n",
    "5.\tВыводим результат на экран.\n",
    "6.\tКонец.\n",
    "\n",
    "В программе реализовать выбор с помощью меню:\n",
    "\n",
    "print(\"0. Выход\")\n",
    "\n",
    "print(\"1. Добавить\")\n",
    "\n",
    "print(\"2. Удалить\")\n",
    "\n",
    "print(\"3. Вывести на экран\")\n",
    "\n",
    "choice = int(input(\"Выберите одно из этих значений: \"))\n",
    "\n"
   ]
  },
  {
   "cell_type": "code",
   "execution_count": null,
   "metadata": {},
   "outputs": [
    {
     "name": "stdout",
     "output_type": "stream",
     "text": [
      "0. Выход\n",
      "1. Добавить\n",
      "2. Удалить\n",
      "3. Вывести на экран\n"
     ]
    }
   ],
   "source": [
    "class Ex1():\n",
    "    def __init__(self):\n",
    "        self.a = []\n",
    "        \n",
    "    def add(self, b):\n",
    "        return self.a.append(b)\n",
    "    \n",
    "    def delete(self, b):\n",
    "        self.a.remove(b)\n",
    "        \n",
    "    def show(self):\n",
    "        return (self.a)\n",
    "Prov=Zadanie1()\n",
    "choice=True\n",
    "while choice:\n",
    "    print(\"0. Выход\")\n",
    "    print(\"1. Добавить\")\n",
    "    print(\"2. Удалить\")\n",
    "    print(\"3. Вывести на экран\")\n",
    "    choice = int(input(\"Выберите одно из этих значений: \"))\n",
    "    if choice == 1:\n",
    "        el = input(\"\\nВведите значение, чтобы добавить\\n\")\n",
    "        Prov.add(el)\n",
    "        print(\"Список: \", Prov.show())\n",
    " \n",
    "    elif choice == 2:\n",
    "        el = (input(\"Введите значение, чтобы хотите удалить: \"))\n",
    "        Prov.delete(el)\n",
    "        print(\"Список: \", Prov.show())\n",
    " \n",
    "    elif choice == 3:\n",
    "        print(\"Список: \", Prov.show())\n",
    "        \n",
    "    elif choice == 0:\n",
    "        print(\"Выход\")\n",
    "        \n",
    "    else:\n",
    "        print('Ошибка в выводе')\n",
    " \n",
    "    print()"
   ]
  },
  {
   "cell_type": "markdown",
   "metadata": {},
   "source": [
    "2. Используя класс People в качестве базового, создайте класс Сотрудник (Worker), имеющий свойства:\n",
    "\n",
    "• должность (post)\n",
    "\n",
    "• зарплата (salary)\n",
    "\n",
    "методы:\n",
    "\n",
    "• __init__ – конструктор;\n",
    "\n",
    "• __str__ – аналогично методу класса Teacher из примера.\n",
    "\n",
    "Используя класс Сотрудник в качестве базового создайте класс Преподаватель (Teacher), имеющий:\n",
    "\n",
    "• закрытый атрибут дисциплины (disciplines), в котором хранятся названия дисциплин, которые ведет преподаватель;\n",
    "\n",
    "• методы __init__ и __str__;\n",
    "\n",
    "• методы добавить_дисциплину (add_dis) и удалить_дисциплину (delete_dis), которые позволяют изменять список дисциплин.\n",
    "\n",
    "Создайте список, содержащий по 2 объекта каждого класса (People, Worker, Teacher). Для этого списка:\n",
    "\n",
    "• выведите информацию о каждом человеке с помощью метода info;\n",
    "\n",
    "• выведите фамилии тех, кто моложе 30 лет;\n",
    "\n",
    "• продемонстрируйте работу со свойствами должность и зарплата и методами добавить_дисциплину и удалить_дисциплину.\n"
   ]
  },
  {
   "cell_type": "code",
   "execution_count": null,
   "metadata": {},
   "outputs": [],
   "source": [
    "class People():\n",
    "    def __init__(self, name, surname, age):\n",
    "        self.name = name\n",
    "        self.surname = surname\n",
    "        self.age = age\n",
    "        \n",
    "    def __str__(self):\n",
    "        print(f'Имя: {self.name}   Фамилия: {self.surname}   Возраст: {self.age}')\n",
    "class Worker(People):\n",
    "    def __init__(self, name, surname, age, post, salary):\n",
    "        self.name = name\n",
    "        self.surname = surname\n",
    "        self.age = age\n",
    "        self.post = post\n",
    "        self.salary = salary\n",
    "        \n",
    "    def info(self):\n",
    "        print(f'Имя:{self.name}   Фамилия: {self.surname}   Возраст: {self.age}   Работа: {self.post}   Зарплата: {self.salary}')       \n",
    "class Teacher(Worker):\n",
    "    def __init__(self, name, surname, age, post, salary, disciplines):\n",
    "        self.name = name\n",
    "        self.surname = surname\n",
    "        self.age = age\n",
    "        self.post = post\n",
    "        self.salary = salary\n",
    "        self.__disciplines = disciplines\n",
    "    def __str__(self):\n",
    "        print(f'Имя: {self.name}     Фамилия: {self.surname}    Возраст: {self.age}   Работа: {self.post}    Зарплата:{self.salary}    Дисциплина: {str(self.__disciplines)[1:-1]}')\n",
    "    \n",
    "    def addDis(self,*name):\n",
    "        for i in name:\n",
    "            self.__disciplines.append(i)\n",
    "    \n",
    "    def deleteDis(self,el = 0):\n",
    "        for i in range(el):\n",
    "            del self.__disciplines[-1]\n"
   ]
  },
  {
   "cell_type": "markdown",
   "metadata": {},
   "source": [
    "3.Создайте класс Заказ(Order), у которого есть свойства кодтовара(code), цена(price), количество(count) и методы _init и str.\n",
    "\n",
    "Создайте 2 класса-потомка: Опт(Opt) и Розница(Retail). В этих классах создайте методы init, str.и сумма_заказа(summa), позволяющий узнать стоимость заказа. Для опта стоимость единицы товара составляет 95% от цены, а при покупке более 500 штук – 90% цены. В розницу стоимость единицы товара составляет 100% цены. Стоимость заказа равна произведению цены на количество.\n",
    "\n",
    "Продемонстрируйте работу с классами, создав необходимые объекты и обратившись к их свойствам и методам"
   ]
  },
  {
   "cell_type": "code",
   "execution_count": null,
   "metadata": {},
   "outputs": [],
   "source": [
    "class Order():\n",
    "    def __init__(self, code, price, count):\n",
    "        self.count = count\n",
    "        self.price = price\n",
    "        self.code = code\n",
    "        \n",
    "    def __str__(self):\n",
    "        return f'цена {self.price}, количество {self.count}, код товара  {self.code}'\n",
    "    \n",
    "class Opt(Order):\n",
    "    def __init__(self,code,price, count):\n",
    "        self.count = count\n",
    "        self.price = price\n",
    "        self.code = code\n",
    "        \n",
    "    def __str__(self):\n",
    "        return f'цена {self.price}\\nКоличество {self.count}\\nКод {self.code}'\n",
    "    \n",
    "    def summa(self):\n",
    "        if self.count<500:\n",
    "            return self.price*self.count*0.90\n",
    "        else:\n",
    "            return self.price*self.count*0.95\n",
    "        \n",
    "class Retail(Order):\n",
    "    \n",
    "    def __init__(self,code,price, count):\n",
    "        self.count = count\n",
    "        self.price = price\n",
    "        self.code = code\n",
    "        \n",
    "    def __str__(self):\n",
    "        return f'цена {self.price}\\nКоличество {self.count}\\nКод {self.code}'\n",
    "    \n",
    "    def summa(self):\n",
    "        return self.pric*self.count\n",
    "zak1 = Order('Красный', 150, 3)\n",
    "zak2 = Opt('Синий', 400, 8)\n",
    "zak3 = Retail('Желтый', 300, 12)\n",
    "print(zak1.__str__())\n",
    "print(zak2.summa())\n",
    "print(zak3.__str__())\n",
    "print(zak3.summa())"
   ]
  },
  {
   "cell_type": "markdown",
   "metadata": {},
   "source": [
    "4.Написать функцию-генератор my_func_2(lst), которая принимает объект, поддерживающий итерации с произвольным уровнем вложенности, и возвращает все элементы по одному."
   ]
  },
  {
   "cell_type": "code",
   "execution_count": null,
   "metadata": {},
   "outputs": [],
   "source": [
    "def my_func_2(lst):\n",
    "    for el in lst:\n",
    "        if type(el) is list:\n",
    "            my_func_2(el)\n",
    "        else:\n",
    "            print(el)\n",
    "s = ['первый',['второй'],[[[['третий'],'четвертый']]]]\n",
    "my_func_2(s)"
   ]
  },
  {
   "cell_type": "markdown",
   "metadata": {},
   "source": [
    "5.С помощью механизма map/filter/reduce (хотя бы одна из этих функций должна быть использована в решении) посчитать в тексте количество слов, состоящих не менее, чем из 3-х букв. Слова в тексте разделены пробелами. Написать реализацию в одну строку. Оформить решение в виде функции my_func_3(text), т.е. шаблон таков:\n",
    "\n",
    "строка с import, если необходимо def my_func_3(text): return # однострочная реализация задания"
   ]
  },
  {
   "cell_type": "code",
   "execution_count": null,
   "metadata": {},
   "outputs": [],
   "source": [
    "# Решение 5.\n",
    "text = ['Слово из 18', 'Эти слова 16', 'здесь', 'но', 'не', 'правильно', 'или', 'не', 'совсем', 'верно 7']\n",
    "def my_func_3(text): return(list(filter(lambda x: len(x) >= 3, text)))\n",
    "a=my_func_3(text)\n",
    "print(len(my_func_3(text)))\n",
    "print(my_func_3(text))"
   ]
  },
  {
   "cell_type": "markdown",
   "metadata": {},
   "source": [
    "6. Написать декоратор с параметром my_decorator(n). Декоратор превращает функцию, возвращающую поддерживающий итерации объект (далее \"последовательность\"), в функцию-генератор. Если декорируемая функция возвращает что-то другое, а не последовательность, то декоратор должен вернуть этот результат вызова функции без изменений.\n",
    "\n",
    "Проверку объекта можно организовать при помощи условия import collections if isinstance(item, collections.Iterable)\n",
    "\n",
    "Параметром декоратора может быть целое положительное число n, тогда получившаяся функция-декоратор должна генерировать по одному значению из последовательности, повторенной n раз. Также параметр может принимать строковое значение 'inf', тогда функция-декоратор генерирует по одному значению из последовательности, повторенной бесконечное число раз (зацикливает генерирование результата).\n",
    "\n",
    "Подсказка: сначала реализовать случай со значением аргумента 'inf', а затем модифицировать для целочисленного значения аргумента."
   ]
  },
  {
   "cell_type": "code",
   "execution_count": null,
   "metadata": {},
   "outputs": [],
   "source": [
    "# Решение 6.\n",
    "import collections\n",
    "def my_decorator(n):\n",
    "    \n",
    "    "
   ]
  },
  {
   "cell_type": "code",
   "execution_count": null,
   "metadata": {},
   "outputs": [],
   "source": []
  }
 ],
 "metadata": {
  "kernelspec": {
   "display_name": "Python 3",
   "language": "python",
   "name": "python3"
  },
  "language_info": {
   "codemirror_mode": {
    "name": "ipython",
    "version": 3
   },
   "file_extension": ".py",
   "mimetype": "text/x-python",
   "name": "python",
   "nbconvert_exporter": "python",
   "pygments_lexer": "ipython3",
   "version": "3.9.1"
  }
 },
 "nbformat": 4,
 "nbformat_minor": 4
}
