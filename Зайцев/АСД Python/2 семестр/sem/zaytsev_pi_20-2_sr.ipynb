{
 "cells": [
  {
   "cell_type": "markdown",
   "metadata": {},
   "source": [
    "### Задание на 4 занятие\n",
    "#### В программном коде дописать пропуски так, чтобы были выполнены следующие задания:"
   ]
  },
  {
   "cell_type": "markdown",
   "metadata": {},
   "source": [
    "### Зайцев Никита. ПИ20-2"
   ]
  },
  {
   "cell_type": "markdown",
   "metadata": {},
   "source": [
    "1) Модифицировать конструктор фигуры так, чтобы при создании объекта для него мог задаваться внешний буфер экрана.\n",
    "\n",
    "Например, создать вне класса свой собственный экран из знаков \"&\" и передовать его во все создаваемые объекты:\n",
    "\n",
    "my_screen = [['&']*20 for _ in range(20)]\n",
    "sh = Shape(1, 1, my_screen)"
   ]
  },
  {
   "cell_type": "markdown",
   "metadata": {},
   "source": [
    "2) Реализовать методы сдвига фигуры на 1 единцу влево, вправо, вверх, вниз.\n",
    "\n",
    "3) Реализовать процедуру рисования всех фигур подклассов Shape вызовом одного метода уровня класса Shape.draw_all_shapes()\n"
   ]
  },
  {
   "cell_type": "code",
   "execution_count": 30,
   "metadata": {},
   "outputs": [],
   "source": [
    "class Sharp(object):\n",
    "    def __init__(self, x, y, screen=[]):\n",
    "        self.__x=x \n",
    "        self.__y=y\n",
    "        self.screen = screen if screen else [['.']*40 in range(40)]\n",
    "        \n",
    "    def __eq__(self, other):\n",
    "        return self.x == other.x and self.y == other.y\n",
    "    \n",
    "    def __ne__(self, other):\n",
    "        return not self.__eq__(other)\n",
    "    \n",
    "    def __lt__(self, other): #<\n",
    "        return self.x < other.x and self.y < other.y\n",
    "    \n",
    "    def __le__(self, other): #<=\n",
    "        return self.x <= other.x and self.y <= other.u\n",
    "    \n",
    "    def __gt__(self, other):\n",
    "        return not self.__le__(other)\n",
    "    \n",
    "    def __ge__(self, other):\n",
    "        return not self.__lt__(other)\n",
    "    \n",
    "    @property\n",
    "    def print_screen(self):\n",
    "         print(\"\\n\".join([\"\".join(line) for line in self.screen]))\n",
    "                           \n",
    "    def clear_screen(self):\n",
    "        self.screen=[['.']*40 for _ in range(40)]\n",
    "            \n",
    "    @property\n",
    "    def x(self):\n",
    "        return self.__x\n",
    "    \n",
    "    @property\n",
    "    def y(self):\n",
    "        return self.__y\n",
    "              \n",
    "    def draw(self):\n",
    "        self.screen[self.__x][self.__y]='*'\n",
    "        \n",
    "    def __str__(self):\n",
    "        return f'Это точка с координатами ({self.x};{self.y})'\n",
    "    \n",
    "    @property\n",
    "    def area(self):\n",
    "        return 0\n",
    "    \n",
    "    def up(self):\n",
    "        self.screen[self.__y][self.__x]='.'\n",
    "        self.screen[self.__y-1][self.__x]='*'\n",
    "        self.draw()\n",
    "        \n",
    "    def down(self):\n",
    "        self.screen[self.__y][self.__x]='.'\n",
    "        self.screen[self.__y+1][self.__x]='*'        \n",
    "        self.draw()\n",
    "        \n",
    "    def right(self):\n",
    "        self.screen[self.__y][self.__x]='.'\n",
    "        self.screen[self.__y][self.__x+1]='*'\n",
    "        self.draw()\n",
    "        \n",
    "    def left(self):\n",
    "        self.screen[self.__y][self.__x]='.'\n",
    "        self.screen[self.__y][self.__x-1]='*'\n",
    "        self.draw()"
   ]
  },
  {
   "cell_type": "code",
   "execution_count": 31,
   "metadata": {},
   "outputs": [],
   "source": [
    "class Rectangle(Sharp):\n",
    "    \n",
    "    def __init__(self,x,y,w,h,screen):\n",
    "        super().__init__(x,y,screen)\n",
    "        self.w = w\n",
    "        self.h = h\n",
    "        \n",
    "    def color(self):\n",
    "        for x1 in range(self.x, self.x+self.w):\n",
    "            type(self).screen[self.y][x1]='*'\n",
    "            type(self).screen[self.y+self.h-1][x1]='*'\n",
    "        for x1 in range(self.y, self.y+self.h):\n",
    "            type(self).screen[x1][self.x]='*'\n",
    "            type(self).screen[x1][self.x+self.w-1]='*'\n",
    "        \n",
    "    def draw(self):\n",
    "        for i in range(self.x,self.x+self.w):\n",
    "            for j in range(self.y,self.y+self.h):\n",
    "                self.screen[j][i]=' '\n",
    "                \n",
    "    @property\n",
    "    def area(self):\n",
    "        return self.h*self.w\n",
    "    \n",
    "    def __str__(self):\n",
    "        return f'Это прямоугольник с шириной {self.__w} и высотой {self.h}'\n",
    "            "
   ]
  },
  {
   "cell_type": "code",
   "execution_count": 32,
   "metadata": {},
   "outputs": [],
   "source": [
    "class Square(Rectangle):\n",
    "    def __init__(self, x, y, w, screen):\n",
    "        super().__init__(x, y, w, w, screen)\n",
    "    def __str__(self):\n",
    "        return f'Это квадрат со стороной {self.__w}'"
   ]
  },
  {
   "cell_type": "code",
   "execution_count": 33,
   "metadata": {},
   "outputs": [],
   "source": [
    "class Triangle(Sharp):   \n",
    "    def __init__(self, sh1, sh2, sh3, screen=[]):        \n",
    "        self.sh1=sh1\n",
    "        self.sh2=sh2\n",
    "        self.sh3=sh3\n",
    "        self.screen = self.screen = screen if screen else [['.']*40 in range(40)]\n",
    "                \n",
    "    def line(self,sh1,sh2):\n",
    "        L=(max(sh2.x-sh1.x,sh2.y-sh1.y))+1\n",
    "        dx = (sh2.x-sh1.x) / L if L!=0 else 0\n",
    "        dy = (sh2.y-sh1.y) / L if L!=0 else 0\n",
    "        y=sh1.y\n",
    "        x=sh1.x\n",
    "        for i in range(0,L):\n",
    "            self.screen[round(y)][round(x)]='*'\n",
    "            y+=dy\n",
    "            x+=dx\n",
    "        self.screen[sh2.y][sh2.x]='*'  \n",
    "        \n",
    "    def draw(self):\n",
    "        self.line(self.sh1,self.sh2)\n",
    "        self.line(self.sh1,self.sh3)\n",
    "        self.line(self.sh2,self.sh3)\n",
    "    \n",
    "    @property\n",
    "    def area(self):\n",
    "        from math import sqrt\n",
    "        a=sqrt((self.sh1.x-self.sh2.x)**2+(self.sh1.y-self.sh2.y)**2)\n",
    "        b=sqrt((self.sh1.x-self.sh3.x)**2+(self.sh1.y-self.sh3.y)**2)\n",
    "        c=sqrt((self.sh2.x-self.sh3.x)**2+(self.sh2.y-self.sh3.y)**2)\n",
    "        p=(a+b+c)/2\n",
    "        s=sqrt(p*(p-a)*(p-b)*(p-c))\n",
    "        return s\n",
    "    \n",
    "    def __str__(self):\n",
    "        from math import sqrt\n",
    "        a=sqrt((self.sh1.x-self.sh2.x)**2+(self.sh1.y-self.sh2.y)**2)\n",
    "        b=sqrt((self.sh1.x-self.sh3.x)**2+(self.sh1.y-self.sh3.y)**2)\n",
    "        c=sqrt((self.sh2.x-self.sh3.x)**2+(self.sh2.y-self.sh3.y)**2)\n",
    "        return f'Это треугольник с длинами сторон {a}, {b} и {c}'"
   ]
  },
  {
   "cell_type": "code",
   "execution_count": 34,
   "metadata": {},
   "outputs": [],
   "source": [
    "class Line(object):\n",
    "    def __init__(self, sh1, sh2, screen=[]):\n",
    "        self.sh1=sh1\n",
    "        self.sh2=sh2\n",
    "        self.screen = screen if screen else [['.']*40 in range(40)]\n",
    "        \n",
    "    def draw(self):\n",
    "        L = (max(self.sh2.x-self.sh1.x,self.sh2.y-self.sh1.y))+1\n",
    "        dx = (self.sh2.x-self.sh1.x) / L if L!=0 else 0\n",
    "        dy = (self.sh2.y-self.sh1.y) / L if L!=0 else 0\n",
    "        y = self.sh1.y\n",
    "        x = self.sh1.x\n",
    "        for i in range(0,L):\n",
    "            self.screen[round(y)][round(x)] = ' '\n",
    "            y += dy\n",
    "            x += dx\n",
    "        self.screen[self.sh2.y][self.sh2.x] = ' '  \n",
    "        \n",
    "    def print_screen(self):\n",
    "        self.__x = x\n",
    "        self.__y = y\n",
    "        self.w = w\n",
    "        self.h = h\n",
    "        self.screen = screen if screen else [['.']*40 in range(40)]\n",
    "        \n",
    "    def __str__(self):\n",
    "        from math import sqrt\n",
    "        a=sqrt((self.sh1.x-self.sh2.x)**2+(self.sh1.y-self.sh2.y)**2)\n",
    "        return f'Линия длины {a}'"
   ]
  },
  {
   "cell_type": "code",
   "execution_count": 40,
   "metadata": {},
   "outputs": [],
   "source": [
    "def print_screen(screen):\n",
    "    for i in screen:\n",
    "        for j in i:\n",
    "            print(j,end='')\n",
    "        print() "
   ]
  },
  {
   "cell_type": "code",
   "execution_count": 41,
   "metadata": {},
   "outputs": [],
   "source": [
    "my_screen = [['&']*40 for _ in range(40)]       \n"
   ]
  },
  {
   "cell_type": "code",
   "execution_count": 42,
   "metadata": {},
   "outputs": [],
   "source": [
    "sh = Sharp(10, 1, my_screen)\n",
    "r = Rectangle(2, 5, 4, 3, my_screen)\n",
    "\n",
    "tr3=Triangle(Sharp(10,35,my_screen),Sharp(17,25,my_screen),Sharp(36,25,my_screen),my_screen)\n",
    "sq = Square(10, 15, 5,my_screen)\n",
    "l = Line(Sharp(15,3, my_screen), Sharp(30,18,my_screen),my_screen)\n",
    "l2 = Line(Sharp(30,3, my_screen), Sharp(16,18,my_screen), my_screen)"
   ]
  },
  {
   "cell_type": "code",
   "execution_count": 43,
   "metadata": {},
   "outputs": [],
   "source": [
    "for i in (sh,r,sq, tr3, l, l2):\n",
    "    i.draw()\n"
   ]
  },
  {
   "cell_type": "code",
   "execution_count": 44,
   "metadata": {},
   "outputs": [
    {
     "name": "stdout",
     "output_type": "stream",
     "text": [
      "&&&&&&&&&&&&&&&&&&&&&&&&&&&&&&&&&&&&&&&&\n",
      "&&&&&&&&&&&&&&&&&&&&&&&&&&&&&&&&&&&&&&&&\n",
      "&&&&&&&&&&&&&&&&&&&&&&&&&&&&&&&&&&&&&&&&\n",
      "&&&&&&&&&&&&&&& &&&&&&&&&&&&&& &&&&&&&&&\n",
      "&&&&&&&&&&&&&&&& &&&&&&&&&&&& &&&&&&&&&&\n",
      "&&    &&&&&&&&&&& &&&&&&&&&& &&&&&&&&&&&\n",
      "&&    &&&&&&&&&&&& &&&&&&&& &&&&&&&&&&&&\n",
      "&&    &&&&&&&&&&&&& &&&&&& &&&&&&&&&&&&&\n",
      "&&&&&&&&&&&&&&&&&&&& &&&&& &&&&&&&&&&&&&\n",
      "&&&&&&&&&&&&&&&&&&&&& &&& &&&&&&&&&&&&&&\n",
      "&*&&&&&&&&&&&&&&&&&&&&   &&&&&&&&&&&&&&&\n",
      "&&&&&&&&&&&&&&&&&&&&&&  &&&&&&&&&&&&&&&&\n",
      "&&&&&&&&&&&&&&&&&&&&& && &&&&&&&&&&&&&&&\n",
      "&&&&&&&&&&&&&&&&&&&& &&&& &&&&&&&&&&&&&&\n",
      "&&&&&&&&&&&&&&&&&&&& &&&&& &&&&&&&&&&&&&\n",
      "&&&&&&&&&&     &&&& &&&&&&& &&&&&&&&&&&&\n",
      "&&&&&&&&&&     &&& &&&&&&&&& &&&&&&&&&&&\n",
      "&&&&&&&&&&     && &&&&&&&&&&& &&&&&&&&&&\n",
      "&&&&&&&&&&     & &&&&&&&&&&&&& &&&&&&&&&\n",
      "&&&&&&&&&&     &&&&&&&&&&&&&&&&&&&&&&&&&\n",
      "&&&&&&&&&&&&&&&&&&&&&&&&&&&&&&&&&&&&&&&&\n",
      "&&&&&&&&&&&&&&&&&&&&&&&&&&&&&&&&&&&&&&&&\n",
      "&&&&&&&&&&&&&&&&&&&&&&&&&&&&&&&&&&&&&&&&\n",
      "&&&&&&&&&&&&&&&&&&&&&&&&&&&&&&&&&&&&&&&&\n",
      "&&&&&&&&&&&&&&&&&&&&&&&&&&&&&&&&&&&&&&&&\n",
      "&&&&&&&&&&&&&&&&&********************&&&\n",
      "&&&&&&&&&&&&&&&&*&&&&&&&&&&&&&&&***&&&&&\n",
      "&&&&&&&&&&&&&&&&&&&&&&&&&&&&&&**&&&&&&&&\n",
      "&&&&&&&&&&&&&&&*&&&&&&&&&&&***&&&&&&&&&&\n",
      "&&&&&&&&&&&&&&*&&&&&&&&&***&&&&&&&&&&&&&\n",
      "&&&&&&&&&&&&&&*&&&&&&&&*&&&&&&&&&&&&&&&&\n",
      "&&&&&&&&&&&&&*&&&&&&***&&&&&&&&&&&&&&&&&\n",
      "&&&&&&&&&&&&*&&&&***&&&&&&&&&&&&&&&&&&&&\n",
      "&&&&&&&&&&&&&&&**&&&&&&&&&&&&&&&&&&&&&&&\n",
      "&&&&&&&&&&&****&&&&&&&&&&&&&&&&&&&&&&&&&\n",
      "&&&&&&&&&&**&&&&&&&&&&&&&&&&&&&&&&&&&&&&\n",
      "&&&&&&&&&&&&&&&&&&&&&&&&&&&&&&&&&&&&&&&&\n",
      "&&&&&&&&&&&&&&&&&&&&&&&&&&&&&&&&&&&&&&&&\n",
      "&&&&&&&&&&&&&&&&&&&&&&&&&&&&&&&&&&&&&&&&\n",
      "&&&&&&&&&&&&&&&&&&&&&&&&&&&&&&&&&&&&&&&&\n"
     ]
    }
   ],
   "source": [
    "print_screen(my_screen)"
   ]
  },
  {
   "cell_type": "code",
   "execution_count": 45,
   "metadata": {},
   "outputs": [],
   "source": [
    "sh1 = Sharp(3,4,my_screen)"
   ]
  },
  {
   "cell_type": "code",
   "execution_count": 46,
   "metadata": {},
   "outputs": [],
   "source": [
    "sh1.draw()"
   ]
  },
  {
   "cell_type": "code",
   "execution_count": 47,
   "metadata": {},
   "outputs": [
    {
     "name": "stdout",
     "output_type": "stream",
     "text": [
      "&&&&&&&&&&&&&&&&&&&&&&&&&&&&&&&&&&&&&&&&\n",
      "&&&&&&&&&&&&&&&&&&&&&&&&&&&&&&&&&&&&&&&&\n",
      "&&&&&&&&&&&&&&&&&&&&&&&&&&&&&&&&&&&&&&&&\n",
      "&&&&*&&&&&&&&&& &&&&&&&&&&&&&& &&&&&&&&&\n",
      "&&&&&&&&&&&&&&&& &&&&&&&&&&&& &&&&&&&&&&\n",
      "&&    &&&&&&&&&&& &&&&&&&&&& &&&&&&&&&&&\n",
      "&&    &&&&&&&&&&&& &&&&&&&& &&&&&&&&&&&&\n",
      "&&    &&&&&&&&&&&&& &&&&&& &&&&&&&&&&&&&\n",
      "&&&&&&&&&&&&&&&&&&&& &&&&& &&&&&&&&&&&&&\n",
      "&&&&&&&&&&&&&&&&&&&&& &&& &&&&&&&&&&&&&&\n",
      "&*&&&&&&&&&&&&&&&&&&&&   &&&&&&&&&&&&&&&\n",
      "&&&&&&&&&&&&&&&&&&&&&&  &&&&&&&&&&&&&&&&\n",
      "&&&&&&&&&&&&&&&&&&&&& && &&&&&&&&&&&&&&&\n",
      "&&&&&&&&&&&&&&&&&&&& &&&& &&&&&&&&&&&&&&\n",
      "&&&&&&&&&&&&&&&&&&&& &&&&& &&&&&&&&&&&&&\n",
      "&&&&&&&&&&     &&&& &&&&&&& &&&&&&&&&&&&\n",
      "&&&&&&&&&&     &&& &&&&&&&&& &&&&&&&&&&&\n",
      "&&&&&&&&&&     && &&&&&&&&&&& &&&&&&&&&&\n",
      "&&&&&&&&&&     & &&&&&&&&&&&&& &&&&&&&&&\n",
      "&&&&&&&&&&     &&&&&&&&&&&&&&&&&&&&&&&&&\n",
      "&&&&&&&&&&&&&&&&&&&&&&&&&&&&&&&&&&&&&&&&\n",
      "&&&&&&&&&&&&&&&&&&&&&&&&&&&&&&&&&&&&&&&&\n",
      "&&&&&&&&&&&&&&&&&&&&&&&&&&&&&&&&&&&&&&&&\n",
      "&&&&&&&&&&&&&&&&&&&&&&&&&&&&&&&&&&&&&&&&\n",
      "&&&&&&&&&&&&&&&&&&&&&&&&&&&&&&&&&&&&&&&&\n",
      "&&&&&&&&&&&&&&&&&********************&&&\n",
      "&&&&&&&&&&&&&&&&*&&&&&&&&&&&&&&&***&&&&&\n",
      "&&&&&&&&&&&&&&&&&&&&&&&&&&&&&&**&&&&&&&&\n",
      "&&&&&&&&&&&&&&&*&&&&&&&&&&&***&&&&&&&&&&\n",
      "&&&&&&&&&&&&&&*&&&&&&&&&***&&&&&&&&&&&&&\n",
      "&&&&&&&&&&&&&&*&&&&&&&&*&&&&&&&&&&&&&&&&\n",
      "&&&&&&&&&&&&&*&&&&&&***&&&&&&&&&&&&&&&&&\n",
      "&&&&&&&&&&&&*&&&&***&&&&&&&&&&&&&&&&&&&&\n",
      "&&&&&&&&&&&&&&&**&&&&&&&&&&&&&&&&&&&&&&&\n",
      "&&&&&&&&&&&****&&&&&&&&&&&&&&&&&&&&&&&&&\n",
      "&&&&&&&&&&**&&&&&&&&&&&&&&&&&&&&&&&&&&&&\n",
      "&&&&&&&&&&&&&&&&&&&&&&&&&&&&&&&&&&&&&&&&\n",
      "&&&&&&&&&&&&&&&&&&&&&&&&&&&&&&&&&&&&&&&&\n",
      "&&&&&&&&&&&&&&&&&&&&&&&&&&&&&&&&&&&&&&&&\n",
      "&&&&&&&&&&&&&&&&&&&&&&&&&&&&&&&&&&&&&&&&\n"
     ]
    }
   ],
   "source": [
    "sh1.print_screen"
   ]
  },
  {
   "cell_type": "code",
   "execution_count": null,
   "metadata": {},
   "outputs": [],
   "source": []
  }
 ],
 "metadata": {
  "kernelspec": {
   "display_name": "Python 3",
   "language": "python",
   "name": "python3"
  },
  "language_info": {
   "codemirror_mode": {
    "name": "ipython",
    "version": 3
   },
   "file_extension": ".py",
   "mimetype": "text/x-python",
   "name": "python",
   "nbconvert_exporter": "python",
   "pygments_lexer": "ipython3",
   "version": "3.9.1"
  }
 },
 "nbformat": 4,
 "nbformat_minor": 2
}
