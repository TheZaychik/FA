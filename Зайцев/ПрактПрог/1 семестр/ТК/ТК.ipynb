{
 "cells": [
  {
   "cell_type": "markdown",
   "metadata": {},
   "source": [
    "Зайцев Н.В. ПИ20-2 Варинат 2"
   ]
  },
  {
   "cell_type": "markdown",
   "metadata": {},
   "source": [
    "\n",
    "1.2) Задан список с вложенными списками (элементы - числа). Для всех списков с длиной больше 3: оставить только три первых элемента, прибавив к третьему все удаленные элементы. Например, из [[1,2], [3,4,4,3,1], [4,1,4,5]] получить [[1, 2], [3, 4, 8], [4, 1, 9]]."
   ]
  },
  {
   "cell_type": "code",
   "execution_count": 21,
   "metadata": {},
   "outputs": [
    {
     "name": "stdout",
     "output_type": "stream",
     "text": [
      "[[1, 2], [3, 4, 8], [4, 1, 9]]\n"
     ]
    }
   ],
   "source": [
    "a_list = [[1,2], [3,4,4,3,1], [4,1,4,5]]\n",
    "for i in a_list:\n",
    "    if len(i) > 3:\n",
    "        sum = 0\n",
    "        for j in range(2,len(i)-1):\n",
    "            sum += i[j]\n",
    "            i.pop(j)\n",
    "        i[2] += sum\n",
    "print(a_list)"
   ]
  },
  {
   "cell_type": "markdown",
   "metadata": {},
   "source": [
    "2.2) Переменная phones_list хранит структуру данных со списком контактов, содержащим номера телефонов. Преобразовать этот список в словарь, ключами в котором являются города, а значениями - словари, в которых номерам телефонов людей, проживающих в данном городе, сопоставлены имена этих людей.\n",
    "Пример результата преобразования для данных из переменной phones_list:"
   ]
  },
  {
   "cell_type": "code",
   "execution_count": 88,
   "metadata": {},
   "outputs": [
    {
     "name": "stdout",
     "output_type": "stream",
     "text": [
      "{'Moscow': {'232-19-55': 'Ivan', '+7 (916) 230-00-75': 'Ivan', '+7 (916) 778-71-05': 'Nikolay', '331-66-11': 'Nikolay', '783-33-85': 'Nikolay', '+7 (916) 205-41-05': 'Ivan'}, 'Samara': {'200-11-15': 'Anna', '+7 (916) 105-13-56': 'Anna'}, 'Vologda': {'+7 (931) 711-00-75': 'Anna'}}\n"
     ]
    }
   ],
   "source": [
    "phones_list = [{'name':'Ivan', 'city':'Moscow', 'phones':['232-19-55', '+7 (916) 230-00-75']},\n",
    "        {'name':'Anna', 'city':'Samara', 'phones':['200-11-15']},\n",
    "        {'name':'Anna', 'city':'Vologda', 'phones':['+7 (931) 711-00-75']},\n",
    "        {'name':'Nikolay', 'city':'Moscow', 'phones':['+7 (916) 778-71-05', '331-66-11', '783-33-85']},\n",
    "        {'name':'Ivan', 'city':'Moscow', 'phones':['+7 (916) 205-41-05', '232-19-55']},\n",
    "        {'name':'Anna', 'city':'Samara', 'phones':['+7 (916) 105-13-56']}]\n",
    "phones_dict = {}\n",
    "for i in phones_list:\n",
    "    k = i['city']\n",
    "    if not phones_dict.get(k):\n",
    "        phones_dict[k] = {}\n",
    "    num_dict = {}\n",
    "    for j in i['phones']:\n",
    "        num_dict[j] = i['name']\n",
    "    phones_dict[k].update(num_dict)\n",
    "print(phones_dict)"
   ]
  },
  {
   "cell_type": "markdown",
   "metadata": {},
   "source": [
    "\n",
    "3.2) Задана строка, в которой через запятую перечислены имена людей (с заглавной буквы) и их текущие занятия (со строчной буквы) в произвольном порядке (например, \"Иван ест, поет Оля\" и т.д.). С помощью генераторов создать словарь, в котором ключами будут имена, а значениями – занятия.\n",
    "Решить задачу в одну строку. Например: \"Маша гуляет, Коля работает, дома Ваня, закупается Женя\" представить в виде {'Ваня': 'дома', 'Женя': 'закупается', 'Коля': 'работает', 'Маша': 'гуляет'}."
   ]
  },
  {
   "cell_type": "code",
   "execution_count": 50,
   "metadata": {},
   "outputs": [
    {
     "name": "stdout",
     "output_type": "stream",
     "text": [
      "{'Маша': 'гуляет', 'Коля': 'работает', 'Ваня': 'дома', 'Женя': 'закупается'}\n"
     ]
    }
   ],
   "source": [
    "str_in = 'Маша гуляет, Коля работает, дома Ваня, закупается Женя'\n",
    "str_list = str_in.split(',')\n",
    "str_dict = {}\n",
    "for i in str_list:\n",
    "    k, v = '', ''\n",
    "    items = i.split()\n",
    "    if items[0][0].isupper():\n",
    "        k = items[0]\n",
    "        v = items[1]\n",
    "    elif items[1][0].isupper():\n",
    "        k = items[1]\n",
    "        v = items[0]\n",
    "    str_dict[k] = v\n",
    "print(str_dict)"
   ]
  },
  {
   "cell_type": "markdown",
   "metadata": {},
   "source": [
    "4*) (одинаковая для всех вариантов)\n",
    "Реализовать калькулятор для выражений с обыкновенными дробями. \n",
    "Число может быть записано как правильная, неправильная или смешанная дробь (вид записи выражений приведен в примерах). Должны поддерживаться операции: +, *. Выражение включает только одну операцию.\n",
    "\n",
    "Задачи по мере сложности (чем более позднюю решили - тем лучше):\n",
    "- 4.1) Результат представить как неправильную дробь\n",
    "- 4.2) Результат представить как правильную дробь (или смешанную дробь, если это необходимо) \n",
    "- 4.3) Результат представить как правильную дробь (или смешанную дробь, если это необходимо) с сокращенной дробной частью.\n",
    "\n",
    "Пример 1: 1 3/5 + 2/3 -> 2 4/15\n",
    "\n",
    "Пример 2: 2/9 * 6/5 -> 4/15"
   ]
  },
  {
   "cell_type": "code",
   "execution_count": 103,
   "metadata": {},
   "outputs": [
    {
     "name": "stdout",
     "output_type": "stream",
     "text": [
      "34/15\n"
     ]
    }
   ],
   "source": [
    "# Полностью сделать не успел\n",
    "str_in = '8/5 + 2/3'\n",
    "str_list = str_in.split()\n",
    "v_dr1 = int(str_list[0][0])\n",
    "n_dr1 = int(str_list[0][2])\n",
    "v_dr2 = int(str_list[2][0])\n",
    "n_dr2 = int(str_list[2][2])\n",
    "if str_list[1] == '+':\n",
    "    if n_dr1 != n_dr2:\n",
    "        v_dr1 *= n_dr2\n",
    "        v_dr2 *= n_dr1\n",
    "    v_otv = v_dr1 + v_dr2\n",
    "else:\n",
    "    v_otv = v_dr1 * v_dr2\n",
    "n_otv = n_dr1 * n_dr2\n",
    "print('{0}/{1}'.format(v_otv, n_otv))"
   ]
  },
  {
   "cell_type": "code",
   "execution_count": null,
   "metadata": {},
   "outputs": [],
   "source": []
  }
 ],
 "metadata": {
  "kernelspec": {
   "display_name": "Python 3",
   "language": "python",
   "name": "python3"
  },
  "language_info": {
   "codemirror_mode": {
    "name": "ipython",
    "version": 3
   },
   "file_extension": ".py",
   "mimetype": "text/x-python",
   "name": "python",
   "nbconvert_exporter": "python",
   "pygments_lexer": "ipython3",
   "version": "3.7.5"
  }
 },
 "nbformat": 4,
 "nbformat_minor": 4
}
