{
 "cells": [
  {
   "cell_type": "code",
   "execution_count": 11,
   "metadata": {},
   "outputs": [],
   "source": [
    "indent =0\n",
    "def printin(s):\n",
    "    global indent\n",
    "    indent +=1\n",
    "    print(\"   \"*indent + str(s))\n",
    "    return s\n",
    "def printout(s):\n",
    "    global indent\n",
    "    indent -=1\n",
    "    print(\"   \"*indent + str(s))\n",
    "    return s"
   ]
  },
  {
   "cell_type": "code",
   "execution_count": 12,
   "metadata": {},
   "outputs": [
    {
     "name": "stdout",
     "output_type": "stream",
     "text": [
      "   -6\n",
      "      -4\n",
      "         -2\n",
      "            0\n",
      "         0\n",
      "            -1\n",
      "               1\n",
      "            1\n",
      "               0\n",
      "            0\n",
      "         1\n",
      "      -1\n",
      "         -3\n",
      "            -1\n",
      "               1\n",
      "            1\n",
      "               0\n",
      "            0\n",
      "         1\n",
      "            -2\n",
      "               0\n",
      "            0\n",
      "               -1\n",
      "                  1\n",
      "               1\n",
      "                  0\n",
      "               0\n",
      "            1\n",
      "         -1\n",
      "      2\n",
      "   -3\n",
      "      -5\n",
      "         -3\n",
      "            -1\n",
      "               1\n",
      "            1\n",
      "               0\n",
      "            0\n",
      "         1\n",
      "            -2\n",
      "               0\n",
      "            0\n",
      "               -1\n",
      "                  1\n",
      "               1\n",
      "                  0\n",
      "               0\n",
      "            1\n",
      "         -1\n",
      "      2\n",
      "         -4\n",
      "            -2\n",
      "               0\n",
      "            0\n",
      "               -1\n",
      "                  1\n",
      "               1\n",
      "                  0\n",
      "               0\n",
      "            1\n",
      "         -1\n",
      "            -3\n",
      "               -1\n",
      "                  1\n",
      "               1\n",
      "                  0\n",
      "               0\n",
      "            1\n",
      "               -2\n",
      "                  0\n",
      "               0\n",
      "                  -1\n",
      "                     1\n",
      "                  1\n",
      "                     0\n",
      "                  0\n",
      "               1\n",
      "            -1\n",
      "         2\n",
      "      -3\n",
      "   5\n",
      "-8\n"
     ]
    },
    {
     "data": {
      "text/plain": [
       "-8"
      ]
     },
     "execution_count": 12,
     "metadata": {},
     "output_type": "execute_result"
    }
   ],
   "source": [
    "def fib(n):\n",
    "    printin(n)\n",
    "    if n==0 or n==1:\n",
    "        printout(n)\n",
    "        return n\n",
    "    if n>0:\n",
    "        a=fib(n-1)+fib(n-2)\n",
    "    else:\n",
    "        a=fib(n+2)-fib(n+1)\n",
    "    printout(a)\n",
    "    return a\n",
    "fib(-6)"
   ]
  },
  {
   "cell_type": "code",
   "execution_count": 20,
   "metadata": {},
   "outputs": [],
   "source": [
    "def one():\n",
    "    \"'first'\"\n",
    "    return 'something'\n",
    "def two():\n",
    "    \"'second'\"\n",
    "    return 'anything'\n",
    "def three():\n",
    "    \"'third'\"\n",
    "    return \"true\"\n",
    "def skleyka(*s):\n",
    "    \"'склеить строки'\"\n",
    "    z=''\n",
    "    for el in s:\n",
    "        z+=el\n",
    "    return z\n",
    "def brosok(расстояние):\n",
    "    \"'бросить мячик'\"\n",
    "    return 'мячик брошен на расстояние '+ str(расстояние)\n",
    "f_names=(one,two,three,skleyka,brosok)"
   ]
  },
  {
   "cell_type": "code",
   "execution_count": 21,
   "metadata": {},
   "outputs": [],
   "source": [
    "def peredachaimenVdict(*f_names):\n",
    "    func_dict={}\n",
    "    for el in f_names:\n",
    "        func_dict[el.__doc__.split()[0]]=el\n",
    "    return func_dict"
   ]
  },
  {
   "cell_type": "code",
   "execution_count": 15,
   "metadata": {},
   "outputs": [
    {
     "data": {
      "text/plain": [
       "{\"'first'\": <function __main__.one()>,\n",
       " \"'second'\": <function __main__.two()>,\n",
       " \"'third'\": <function __main__.three()>,\n",
       " \"'склеить\": <function __main__.skleyka(*s)>,\n",
       " \"'бросить\": <function __main__.brosok(расстояние=5)>}"
      ]
     },
     "execution_count": 15,
     "metadata": {},
     "output_type": "execute_result"
    }
   ],
   "source": [
    "func_dict = peredachaimenVdict(*f_names)\n",
    "func_dict"
   ]
  },
  {
   "cell_type": "code",
   "execution_count": 17,
   "metadata": {},
   "outputs": [
    {
     "name": "stdout",
     "output_type": "stream",
     "text": [
      "o\n"
     ]
    },
    {
     "data": {
      "text/plain": [
       "'something'"
      ]
     },
     "execution_count": 17,
     "metadata": {},
     "output_type": "execute_result"
    }
   ],
   "source": [
    "f_names=dict(o=one,t=two)\n",
    "command=input()\n",
    "f_names[command]()"
   ]
  },
  {
   "cell_type": "code",
   "execution_count": 23,
   "metadata": {},
   "outputs": [],
   "source": [
    "def repl_for_3():\n",
    "    while True:\n",
    "        inputting=input()\n",
    "        command=inputting.split()[0]\n",
    "        parameters=inputting.split()[1:]\n",
    "        if inputting==\"exit\":\n",
    "            return\n",
    "        elif \"=\" in inputting:\n",
    "            try:\n",
    "                print(eval('func_dict[command]('+','.join(parametrs)+')'))\n",
    "            except:\n",
    "                print(\"Invalid 1\")\n",
    "        else: \n",
    "            try:\n",
    "                print(func_dict[command](*parameters))\n",
    "            except:\n",
    "                print(\"Invalid 2\")"
   ]
  },
  {
   "cell_type": "code",
   "execution_count": 24,
   "metadata": {},
   "outputs": [
    {
     "name": "stdout",
     "output_type": "stream",
     "text": [
      "'бросить 5\n",
      "мячик брошен на расстояние 5\n",
      "'first'\n",
      "something\n",
      "'склеить a b c\n",
      "abc\n",
      "exit\n"
     ]
    }
   ],
   "source": [
    "repl_for_3()"
   ]
  },
  {
   "cell_type": "code",
   "execution_count": null,
   "metadata": {},
   "outputs": [],
   "source": []
  }
 ],
 "metadata": {
  "kernelspec": {
   "display_name": "Python 3",
   "language": "python",
   "name": "python3"
  },
  "language_info": {
   "codemirror_mode": {
    "name": "ipython",
    "version": 3
   },
   "file_extension": ".py",
   "mimetype": "text/x-python",
   "name": "python",
   "nbconvert_exporter": "python",
   "pygments_lexer": "ipython3",
   "version": "3.8.3"
  }
 },
 "nbformat": 4,
 "nbformat_minor": 2
}
