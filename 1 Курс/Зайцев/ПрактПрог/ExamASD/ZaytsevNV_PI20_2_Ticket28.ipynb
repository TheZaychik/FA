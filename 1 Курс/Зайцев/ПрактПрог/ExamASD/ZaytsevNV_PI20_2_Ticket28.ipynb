{
 "cells": [
  {
   "cell_type": "markdown",
   "source": [
    "Зайцев Н.В. Группа ПИ20-2\n",
    "Экзаменационный билет №28"
   ],
   "metadata": {
    "collapsed": false,
    "pycharm": {
     "name": "#%% md\n"
    }
   }
  },
  {
   "cell_type": "markdown",
   "source": [
    "Задание 2"
   ],
   "metadata": {
    "collapsed": false
   }
  },
  {
   "cell_type": "code",
   "execution_count": 37,
   "outputs": [
    {
     "name": "stdout",
     "output_type": "stream",
     "text": [
      "[(1, 3, 4), (2,), (6,), (2, 2, 2)]\n"
     ]
    }
   ],
   "source": [
    "l1 = [(1, 3, 4), (2, 1), (6,), (2, 2, 2, 1)]\n",
    "# output [(1, 3, 4), (2,), (6,) (2, 2, 2)]\n",
    "l2 = [tuple(list(i)[:len(i) - 1]) if len(i) % 2 == 0 else i for i in l1]\n",
    "\n",
    "print(l2)"
   ],
   "metadata": {
    "collapsed": false,
    "pycharm": {
     "name": "#%%\n"
    }
   }
  },
  {
   "cell_type": "markdown",
   "source": [
    "Задание 3"
   ],
   "metadata": {
    "collapsed": false
   }
  },
  {
   "cell_type": "code",
   "execution_count": 38,
   "outputs": [
    {
     "name": "stdout",
     "output_type": "stream",
     "text": [
      "Отсортированный список:  [-4, 0, 1, 2, 3, 5, 7, 8, 11]\n"
     ]
    }
   ],
   "source": [
    "def insertion_sort(data):\n",
    "    for i in range(1, len(data)):\n",
    "        temp = data[i]\n",
    "        j = i - 1\n",
    "        while j >= 0 and temp < data[j]:\n",
    "            data[j + 1] = data[j]\n",
    "            j = j - 1\n",
    "        data[j + 1] = temp\n",
    "\n",
    "data = [8, 3, 5, 11, 2, 0, -4, 7, 1]\n",
    "insertion_sort(data)\n",
    "print('Отсортированный список: ', data)"
   ],
   "metadata": {
    "collapsed": false,
    "pycharm": {
     "name": "#%%\n"
    }
   }
  }
 ],
 "metadata": {
  "kernelspec": {
   "display_name": "Python 3",
   "language": "python",
   "name": "python3"
  },
  "language_info": {
   "codemirror_mode": {
    "name": "ipython",
    "version": 2
   },
   "file_extension": ".py",
   "mimetype": "text/x-python",
   "name": "python",
   "nbconvert_exporter": "python",
   "pygments_lexer": "ipython2",
   "version": "2.7.6"
  }
 },
 "nbformat": 4,
 "nbformat_minor": 0
}